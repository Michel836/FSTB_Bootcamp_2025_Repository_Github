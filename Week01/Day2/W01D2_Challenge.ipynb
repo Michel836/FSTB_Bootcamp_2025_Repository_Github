{
 "cells": [
  {
   "cell_type": "markdown",
   "id": "f5cbd6d7",
   "metadata": {},
   "source": [
    "# Daily Challenge: Dictionaries du 10-06-2025\n",
    "Last Updated: March 5th, 2025\n",
    "\n",
    "### 👩‍🏫 👩🏿‍🏫 What You’ll learn\n",
    "In this challenge, you will enhance your understanding of Python dictionaries, string manipulation, and working with list data structures. You’ll practice iterating over strings, updating dictionaries, and handling data types, all fundamental skills in programming.\n",
    "\n",
    "### 🛠️ What you will create\n",
    "You will create a Python script that processes user input to map the positions of each letter in a given word into a dictionary. This will involve string indexing, dictionary manipulation, and ensuring data types are appropriately handled.\n",
    "\n",
    "## Challenge\n",
    "Ask a user for a word.\n",
    "Write a program that creates a dictionary. This dictionary stores the indexes of each letter in a list.\n",
    "Make sure the letters are the keys.\n",
    "Make sure the letters are strings.\n",
    "Make sure the indexes are stored in a list, and those lists are values.\n",
    "\n",
    "### Examples\n",
    "“dodo” ➞ { “d”: [0, 2], “o”: [1, 3] }\n",
    "“froggy” ➞ { “f”: [0], “r”: [1], “o”: [2], “g”: [3, 4], “y”: [5] }\n",
    "“grapes” ➞ { “g”: [0], “r”: [1], “a”: [2], “p”: [3] }\n"
   ]
  },
  {
   "cell_type": "code",
   "execution_count": 10,
   "id": "d0ce5bdd",
   "metadata": {},
   "outputs": [],
   "source": [
    "# 1-Demander à l'utilisateur un mot\n",
    "mot = input(\"Entrez un mot : \")"
   ]
  },
  {
   "cell_type": "code",
   "execution_count": 11,
   "id": "9f5eebed",
   "metadata": {},
   "outputs": [],
   "source": [
    "# 2-Créer un dictionnaire vide\n",
    "dictionnaire = {}"
   ]
  },
  {
   "cell_type": "code",
   "execution_count": 12,
   "id": "7a426578",
   "metadata": {},
   "outputs": [],
   "source": [
    "# 3-Parcourir chaque lettre et son index\n",
    "for index, lettre in enumerate(mot):\n",
    "    # Si la lettre n'est pas encore une clé, ajouter la lettre avec une liste vide\n",
    "    if lettre not in dictionnaire:\n",
    "        dictionnaire[lettre] = []\n",
    "    # Ajouter l'index à la liste correspondante\n",
    "    dictionnaire[lettre].append(index)"
   ]
  },
  {
   "cell_type": "code",
   "execution_count": 13,
   "id": "acc23a29",
   "metadata": {},
   "outputs": [
    {
     "name": "stdout",
     "output_type": "stream",
     "text": [
      "{'g': [0], 'r': [1], 'a': [2], 'p': [3], 'e': [4], 's': [5]}\n"
     ]
    }
   ],
   "source": [
    "# 4-Afficher le dictionnaire final\n",
    "print(dictionnaire)"
   ]
  }
 ],
 "metadata": {
  "kernelspec": {
   "display_name": "base",
   "language": "python",
   "name": "python3"
  },
  "language_info": {
   "codemirror_mode": {
    "name": "ipython",
    "version": 3
   },
   "file_extension": ".py",
   "mimetype": "text/x-python",
   "name": "python",
   "nbconvert_exporter": "python",
   "pygments_lexer": "ipython3",
   "version": "3.12.8"
  }
 },
 "nbformat": 4,
 "nbformat_minor": 5
}
