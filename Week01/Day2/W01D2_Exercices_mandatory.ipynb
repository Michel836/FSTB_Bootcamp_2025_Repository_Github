{
 "cells": [
  {
   "cell_type": "markdown",
   "id": "02a6c77f",
   "metadata": {},
   "source": [
    "# Exercises XP du 10-06-2025\n",
    "\n",
    "👩‍🏫 👩🏿‍🏫 What You’ll learn\n",
    "How to manipulate lists and dictionaries in Python.\n",
    "Implementing basic conditional logic.\n",
    "Creating, accessing, and modifying data in dictionaries.\n",
    "Using Python’s built-in functions like zip, map, filter, and reduce to work with collections.\n",
    "Handling user inputs and validating data.\n",
    "\n",
    "\n",
    "## 🛠️ What you will create\n",
    "A set of Python scripts that convert lists to dictionaries, handle conditional pricing logic, manage and modify dictionary data, and utilize user input to interactively retrieve and display data.\n",
    "\n"
   ]
  },
  {
   "cell_type": "markdown",
   "id": "fa774aff",
   "metadata": {},
   "source": [
    "# 🌟 Exercise 1: Converting Lists into Dictionaries\n",
    "Key Python Topics:\n",
    "\n",
    "## Creating dictionaries\n",
    "Zip function or dictionary comprehension\n",
    "\n",
    "\n",
    "## Instructions\n",
    "\n",
    "You are given two lists. Convert them into a dictionary where the first list contains the keys and the second list contains the corresponding values.\n",
    "\n",
    "\n",
    "\n",
    "## Lists:\n",
    "\n",
    "keys = ['Ten', 'Twenty', 'Thirty']\n",
    "values = [10, 20, 30]\n",
    "\n",
    "\n",
    "## Expected Output:\n",
    "\n",
    "{'Ten': 10, 'Twenty': 20, 'Thirty': 30}\n"
   ]
  },
  {
   "cell_type": "code",
   "execution_count": 10,
   "id": "3ab0c6c6",
   "metadata": {},
   "outputs": [],
   "source": [
    "# Étape 1 : Définir les deux listes données\n",
    "keys = ['Ten', 'Twenty', 'Thirty']   # Liste des clés du futur dictionnaire\n",
    "values = [10, 20, 30]                # Liste des valeurs correspondantes"
   ]
  },
  {
   "cell_type": "code",
   "execution_count": 11,
   "id": "4448bb02",
   "metadata": {},
   "outputs": [],
   "source": [
    "# Étape 2 : Utiliser la fonction zip pour regrouper les paires (clé, valeur)\n",
    "# zip associe les éléments à la même position dans les deux listes\n",
    "cles_et_valeurs = zip(keys, values)"
   ]
  },
  {
   "cell_type": "code",
   "execution_count": 12,
   "id": "de466125",
   "metadata": {},
   "outputs": [],
   "source": [
    "# Étape 3 : Convertir le résultat en dictionnaire avec la fonction dict()\n",
    "dictionnaire_resultat = dict(cles_et_valeurs)"
   ]
  },
  {
   "cell_type": "code",
   "execution_count": 13,
   "id": "81bbdfea",
   "metadata": {},
   "outputs": [
    {
     "name": "stdout",
     "output_type": "stream",
     "text": [
      "{'Ten': 10, 'Twenty': 20, 'Thirty': 30}\n"
     ]
    }
   ],
   "source": [
    "# Étape 4 : Afficher le résultat\n",
    "print(dictionnaire_resultat)"
   ]
  },
  {
   "cell_type": "markdown",
   "id": "392e9c74",
   "metadata": {},
   "source": [
    "# Exercise 2: Cinemax #2\n",
    "Key Python Topics:\n",
    "\n",
    "Looping through dictionaries\n",
    "Conditionals\n",
    "Calculations\n",
    "\n",
    "\n",
    "## Instructions\n",
    "\n",
    "Write a program that calculates the total cost of movie tickets for a family based on their ages.\n",
    "\n",
    "Family members’ ages are stored in a dictionary.\n",
    "The ticket pricing rules are as follows:\n",
    "Under 3 years old: Free\n",
    "3 to 12 years old: $10\n",
    "Over 12 years old: $15\n",
    "\n",
    "\n",
    "## Family Data:\n",
    "\n",
    "family = {\"rick\": 43, 'beth': 13, 'morty': 5, 'summer': 8}\n",
    "\n",
    "\n",
    "Loop through the family dictionary to calculate the total cost.\n",
    "Print the ticket price for each family member.\n",
    "Print the total cost at the end.\n",
    "\n",
    "\n",
    "## Bonus:\n",
    "\n",
    "Allow the user to input family members’ names and ages, then calculate the total ticket cost."
   ]
  },
  {
   "cell_type": "code",
   "execution_count": 4,
   "id": "02561203",
   "metadata": {},
   "outputs": [],
   "source": [
    "# 🌟 Exercice 2 : Calcul du prix total des tickets de cinéma pour une famille\n",
    "\n",
    "# Étape 1 : Définir les données de la famille avec les noms et âges\n",
    "family = {\n",
    "    \"rick\": 43,\n",
    "    \"beth\": 13,\n",
    "    \"morty\": 5,\n",
    "    \"summer\": 8\n",
    "}"
   ]
  },
  {
   "cell_type": "code",
   "execution_count": 5,
   "id": "0768a1a4",
   "metadata": {},
   "outputs": [],
   "source": [
    "# Étape 2 : Initialiser une variable pour garder le total à 0\n",
    "total_cost = 0"
   ]
  },
  {
   "cell_type": "code",
   "execution_count": null,
   "id": "f8ce0a50",
   "metadata": {},
   "outputs": [
    {
     "name": "stdout",
     "output_type": "stream",
     "text": [
      "Rick doit payer $15\n",
      "Beth doit payer $15\n",
      "Morty doit payer $10\n",
      "Summer doit payer $10\n"
     ]
    }
   ],
   "source": [
    "# Étape 3 : Parcourir chaque membre de la famille\n",
    "for name, age in family.items():\n",
    "    # Vérifier l'âge et appliquer les règles de prix\n",
    "    if age < 3:\n",
    "        price = 0\n",
    "    elif 3 <= age <= 12:\n",
    "        price = 10\n",
    "    else:  # plus de 12 ans\n",
    "        price = 15\n",
    "\n",
    "    # Afficher le prix pour ce membre\n",
    "    print(f\"{name.capitalize()} doit payer ${price}\")\n",
    "\n",
    "    # Ajouter ce prix au total\n",
    "    total_cost += price"
   ]
  },
  {
   "cell_type": "code",
   "execution_count": 7,
   "id": "98b68d07",
   "metadata": {},
   "outputs": [
    {
     "name": "stdout",
     "output_type": "stream",
     "text": [
      "Coût total pour la famille : $50\n"
     ]
    }
   ],
   "source": [
    "# Étape 4 : Afficher le coût total\n",
    "print(f\"Coût total pour la famille : ${total_cost}\")"
   ]
  },
  {
   "cell_type": "markdown",
   "id": "a2869296",
   "metadata": {},
   "source": [
    "# BONUS : Permettre à l'utilisateur d'entrer les membres de la famille"
   ]
  },
  {
   "cell_type": "code",
   "execution_count": null,
   "id": "e59208c8",
   "metadata": {},
   "outputs": [
    {
     "name": "stdout",
     "output_type": "stream",
     "text": [
      "A doit payer $10\n",
      "B doit payer $15\n",
      "C doit payer $15\n",
      "Coût total pour la famille : $40\n"
     ]
    }
   ],
   "source": [
    "# Étape 1 : Créer un dictionnaire vide\n",
    "family = {}\n",
    "\n",
    "# Étape 2 : Demander combien de membres il y a\n",
    "nombre = int(input(\"Combien de membres dans la famille ? \"))\n",
    "\n",
    "# Étape 3 : Collecter les données pour chaque membre\n",
    "for i in range(nombre):\n",
    "    nom = input(f\"Nom du membre #{i+1} : \")\n",
    "    age = int(input(f\"Âge de {nom} : \"))\n",
    "    family[nom] = age\n",
    "\n",
    "# Étape 4 : Reprendre le calcul comme dans la version précédente\n",
    "total_cost = 0\n",
    "\n",
    "for name, age in family.items():\n",
    "    if age < 3:\n",
    "        price = 0\n",
    "    elif 3 <= age <= 12:\n",
    "        price = 10\n",
    "    else:\n",
    "        price = 15\n",
    "\n",
    "    print(f\"{name.capitalize()} doit payer ${price}\")\n",
    "    total_cost += price\n",
    "\n",
    "print(f\"Coût total pour la famille : ${total_cost}\")\n"
   ]
  },
  {
   "cell_type": "markdown",
   "id": "dcaf9716",
   "metadata": {},
   "source": [
    "# 🌟 Exercise 3: Zara\n",
    "## Key Python Topics:\n",
    "\n",
    "Creating dictionaries\n",
    "Accessing and modifying dictionary elements\n",
    "Dictionary methods like .pop() and .update()\n",
    "\n",
    "\n",
    "## Instructions\n",
    "\n",
    "Create and manipulate a dictionary that contains information about the Zara brand.\n",
    "\n",
    "\n",
    "\n",
    "## Brand Information:\n",
    "\n",
    "name: Zara\n",
    "creation_date: 1975\n",
    "creator_name: Amancio Ortega Gaona\n",
    "type_of_clothes: men, women, children, home\n",
    "international_competitors: Gap, H&M, Benetton\n",
    "number_stores: 7000\n",
    "major_color: \n",
    "    France: blue, \n",
    "    Spain: red, \n",
    "    US: pink, green\n",
    "\n",
    "\n",
    "Create a dictionary called brand with the provided data.\n",
    "Modify and access the dictionary as follows:\n",
    "Change the value of number_stores to 2.\n",
    "Print a sentence describing Zara’s clients using the type_of_clothes key.\n",
    "Add a new key country_creation with the value Spain.\n",
    "Check if international_competitors exists and, if so, add “Desigual” to the list.\n",
    "Delete the creation_date key.\n",
    "Print the last item in international_competitors.\n",
    "Print the major colors in the US.\n",
    "Print the number of keys in the dictionary.\n",
    "Print all keys of the dictionary.\n"
   ]
  },
  {
   "cell_type": "code",
   "execution_count": 45,
   "id": "6d46632a",
   "metadata": {},
   "outputs": [],
   "source": [
    "# 🌟 Exercice 3 : Manipulation d'un dictionnaire Zara\n",
    "\n",
    "# Étape 1 : Création du dictionnaire avec les données fournies\n",
    "brand = {\n",
    "    \"name\": \"Zara\",\n",
    "    \"creation_date\": 1975,\n",
    "    \"creator_name\": \"Amancio Ortega Gaona\",\n",
    "    \"type_of_clothes\": [\"men\", \"women\", \"children\", \"home\"],\n",
    "    \"international_competitors\": [\"Gap\", \"H&M\", \"Benetton\"],\n",
    "    \"number_stores\": 7000,\n",
    "    \"major_color\": {\n",
    "        \"France\": \"blue\",\n",
    "        \"Spain\": \"red\",\n",
    "        \"US\": [\"pink\", \"green\"]\n",
    "    }\n",
    "}"
   ]
  },
  {
   "cell_type": "code",
   "execution_count": 61,
   "id": "d333705a",
   "metadata": {},
   "outputs": [
    {
     "name": "stdout",
     "output_type": "stream",
     "text": [
      "{'name': 'Zara', 'creator_name': 'Amancio Ortega Gaona', 'type_of_clothes': ['men', 'women', 'children', 'home'], 'international_competitors': ['Gap', 'H&M', 'Benetton', 'Desigual'], 'number_stores': 2, 'major_color': {'France': 'blue', 'Spain': 'red', 'US': ['pink', 'green']}, 'country_creation': 'Spain', 'creation_date': 1975}\n",
      "new number_stores':  {2}\n"
     ]
    }
   ],
   "source": [
    "# Étape 2 : Modifier la valeur de number_stores\n",
    "brand[\"number_stores\"] = 2\n",
    "\n",
    "# Afficher le dictionnaire entier\n",
    "print(brand)\n",
    "\n",
    "# Afficher juste le contenu de cette clef\n",
    "print(f\"new number_stores': \", {brand[\"number_stores\"]})\n"
   ]
  },
  {
   "cell_type": "code",
   "execution_count": 62,
   "id": "77585b02",
   "metadata": {},
   "outputs": [
    {
     "name": "stdout",
     "output_type": "stream",
     "text": [
      "Zara habille les men, women, children, home.\n"
     ]
    }
   ],
   "source": [
    "# Étape 3 : Imprimer une phrase décrivant les clients de Zara\n",
    "types = \", \".join(brand[\"type_of_clothes\"])\n",
    "print(f\"Zara habille les {types}.\")"
   ]
  },
  {
   "cell_type": "code",
   "execution_count": 66,
   "id": "66ff7031",
   "metadata": {},
   "outputs": [
    {
     "name": "stdout",
     "output_type": "stream",
     "text": [
      "{'name': 'Zara', 'creator_name': 'Amancio Ortega Gaona', 'type_of_clothes': ['men', 'women', 'children', 'home'], 'international_competitors': ['Gap', 'H&M', 'Benetton', 'Desigual', 'Desigual', 'Desigual'], 'number_stores': 2, 'major_color': {'France': 'blue', 'Spain': 'red', 'US': ['pink', 'green']}, 'country_creation': 'Spain', 'creation_date': 1975}\n"
     ]
    }
   ],
   "source": [
    "# Étape 4 : Ajouter un nouveau champ country_creation\n",
    "brand[\"country_creation\"] = \"Spain\"\n",
    "\n",
    "print(brand)"
   ]
  },
  {
   "cell_type": "code",
   "execution_count": 68,
   "id": "14557293",
   "metadata": {},
   "outputs": [
    {
     "name": "stdout",
     "output_type": "stream",
     "text": [
      "{'name': 'Zara', 'creator_name': 'Amancio Ortega Gaona', 'type_of_clothes': ['men', 'women', 'children', 'home'], 'international_competitors': ['Gap', 'H&M', 'Benetton', 'Desigual', 'Desigual', 'Desigual', 'Desigual', 'Desigual'], 'number_stores': 2, 'major_color': {'France': 'blue', 'Spain': 'red', 'US': ['pink', 'green']}, 'country_creation': 'Spain', 'creation_date': 1975}\n"
     ]
    }
   ],
   "source": [
    "# Étape 5 : Vérifier si international_competitors existe et ajouter \"Desigual\"\n",
    "if \"international_competitors\" in brand:\n",
    "    brand[\"international_competitors\"].append(\"Desigual\")\n",
    "    \n",
    "print(brand)"
   ]
  },
  {
   "cell_type": "code",
   "execution_count": 69,
   "id": "eda58ac4",
   "metadata": {},
   "outputs": [
    {
     "name": "stdout",
     "output_type": "stream",
     "text": [
      "{'name': 'Zara', 'creator_name': 'Amancio Ortega Gaona', 'type_of_clothes': ['men', 'women', 'children', 'home'], 'international_competitors': ['Gap', 'H&M', 'Benetton', 'Desigual', 'Desigual', 'Desigual', 'Desigual', 'Desigual'], 'number_stores': 2, 'major_color': {'France': 'blue', 'Spain': 'red', 'US': ['pink', 'green']}, 'country_creation': 'Spain'}\n"
     ]
    }
   ],
   "source": [
    "# Étape 6 : Supprimer la clé creation_date\n",
    "brand.pop(\"creation_date\", None)  # éviter erreur si clé absente\n",
    "\n",
    "print(brand)"
   ]
  },
  {
   "cell_type": "code",
   "execution_count": 70,
   "id": "ba9c34d2",
   "metadata": {},
   "outputs": [
    {
     "name": "stdout",
     "output_type": "stream",
     "text": [
      "Dernier concurrent : Desigual\n"
     ]
    }
   ],
   "source": [
    "# Étape 7 : Afficher le dernier concurrent international\n",
    "dernier_concurrent = brand[\"international_competitors\"][-1]\n",
    "print(f\"Dernier concurrent : {dernier_concurrent}\")"
   ]
  },
  {
   "cell_type": "code",
   "execution_count": 52,
   "id": "33635cc2",
   "metadata": {},
   "outputs": [
    {
     "name": "stdout",
     "output_type": "stream",
     "text": [
      "Couleurs aux US : ['pink', 'green']\n"
     ]
    }
   ],
   "source": [
    "# Étape 8 : Afficher les couleurs principales aux US\n",
    "couleurs_us = brand[\"major_color\"][\"US\"]\n",
    "print(f\"Couleurs aux US : {couleurs_us}\")"
   ]
  },
  {
   "cell_type": "code",
   "execution_count": 71,
   "id": "8f8f3448",
   "metadata": {},
   "outputs": [
    {
     "name": "stdout",
     "output_type": "stream",
     "text": [
      "Nombre de clés : 7\n"
     ]
    }
   ],
   "source": [
    "# Étape 9 : Afficher le nombre de clés dans le dictionnaire\n",
    "print(f\"Nombre de clés : {len(brand)}\")"
   ]
  },
  {
   "cell_type": "code",
   "execution_count": 72,
   "id": "1f5b3fb6",
   "metadata": {},
   "outputs": [
    {
     "name": "stdout",
     "output_type": "stream",
     "text": [
      "Clés du dictionnaire : ['name', 'creator_name', 'type_of_clothes', 'international_competitors', 'number_stores', 'major_color', 'country_creation']\n"
     ]
    }
   ],
   "source": [
    "# Étape 10 : Afficher toutes les clés\n",
    "print(\"Clés du dictionnaire :\", list(brand.keys()))"
   ]
  },
  {
   "cell_type": "markdown",
   "id": "b055eec0",
   "metadata": {},
   "source": [
    "# BONUS : Fusionner avec un autre dictionnaire"
   ]
  },
  {
   "cell_type": "code",
   "execution_count": 55,
   "id": "c3f69e92",
   "metadata": {},
   "outputs": [],
   "source": [
    "# Étape 11 : Créer un dictionnaire additionnel\n",
    "more_on_zara = {\n",
    "    \"creation_date\": 1975,\n",
    "    \"number_stores\": 10000\n",
    "}"
   ]
  },
  {
   "cell_type": "code",
   "execution_count": 56,
   "id": "fd5654ab",
   "metadata": {},
   "outputs": [],
   "source": [
    "# Étape 12 : Fusionner avec brand\n",
    "brand.update(more_on_zara)"
   ]
  },
  {
   "cell_type": "code",
   "execution_count": 57,
   "id": "f202226c",
   "metadata": {},
   "outputs": [
    {
     "name": "stdout",
     "output_type": "stream",
     "text": [
      "Dictionnaire final : {'name': 'Zara', 'creator_name': 'Amancio Ortega Gaona', 'type_of_clothes': ['men', 'women', 'children', 'home'], 'international_competitors': ['Gap', 'H&M', 'Benetton', 'Desigual'], 'number_stores': 10000, 'major_color': {'France': 'blue', 'Spain': 'red', 'US': ['pink', 'green']}, 'country_creation': 'Spain', 'creation_date': 1975}\n"
     ]
    }
   ],
   "source": [
    "# Étape 13 : Afficher le résultat final\n",
    "print(\"Dictionnaire final :\", brand)"
   ]
  },
  {
   "cell_type": "markdown",
   "id": "cffc1151",
   "metadata": {},
   "source": [
    "# 🌟 Exercise 4 : Some Geography\n",
    "Goal: Create a function that describes a city and its country.\n",
    "\n",
    "## Key Python Topics:\n",
    "\n",
    "Functions with multiple parameters\n",
    "Default parameter values\n",
    "String formatting\n",
    "\n",
    "\n",
    "### Step 1: Define a Function with Parameters ok\n",
    "\n",
    "Define a function named describe_city().\n",
    "This function should accept two parameters: city and country.\n",
    "Give the country parameter a default value, such as “Unknown”.\n",
    "\n",
    "\n",
    "### Step 2: Print a Message\n",
    "\n",
    "Inside the function, set up the code to display a sentence like “ is in “.\n",
    "Replace <city> and <country> with the parameter values.\n",
    "\n",
    "\n",
    "### Step 3: Call the Function\n",
    "\n",
    "Call the describe_city() function with different city and country combinations.\n",
    "Try calling it with and without providing the country argument to see the default value in action.\n",
    "Example: describe_city(\"Reykjavik\", \"Iceland\") and describe_city(\"Paris\").\n",
    "\n",
    "\n",
    "### Expected Output:\n",
    "\n",
    "Reykjavik is in Iceland.\n",
    "Paris is in Unknown.\n"
   ]
  },
  {
   "cell_type": "code",
   "execution_count": 18,
   "id": "29ecfa05",
   "metadata": {},
   "outputs": [],
   "source": [
    "# Step 1: Define the Function\n",
    "def describe_city(city, country=\"Unknown\"):\n",
    "    print(f\"{city} is in {country}.\")\n",
    "\n",
    "# city: The name of the city.\n",
    "# country: An optional parameter that defaults to \"Unknown\" if not provided."
   ]
  },
  {
   "cell_type": "markdown",
   "id": "8697d609",
   "metadata": {},
   "source": [
    "## Step 2: Call the Function with Different Inputs\n",
    "### We can call the function in two ways:\n",
    "\n",
    "### With both parameters provided:\n",
    "\n",
    "describe_city(\"Reykjavik\", \"Iceland\")\n",
    "Output:\n",
    "Reykjavik is in Iceland.\n",
    "\n",
    "### With only the city parameter provided (country uses default):\n",
    "\n",
    "describe_city(\"Paris\")\n",
    "Output:\n",
    "Paris is in Unknown."
   ]
  },
  {
   "cell_type": "code",
   "execution_count": 20,
   "id": "5a5774e4",
   "metadata": {},
   "outputs": [],
   "source": [
    "def describe_city(city, country=\"Unknown\"):\n",
    "    print(f\"{city} is in {country}.\")"
   ]
  },
  {
   "cell_type": "code",
   "execution_count": 21,
   "id": "7fec5808",
   "metadata": {},
   "outputs": [
    {
     "name": "stdout",
     "output_type": "stream",
     "text": [
      "Reykjavik is in Iceland.\n",
      "Paris is in Unknown.\n"
     ]
    }
   ],
   "source": [
    "# Step 3: Call the Function\n",
    "\n",
    "# Exemple 1:\n",
    "describe_city(\"Reykjavik\", \"Iceland\")  # Outputs: Reykjavik is in Iceland.\n",
    "\n",
    "# Exemple 2:\n",
    "describe_city(\"Paris\")               # Outputs: Paris is in Unknown."
   ]
  },
  {
   "cell_type": "markdown",
   "id": "af7f8e36",
   "metadata": {},
   "source": [
    "# 🌟 Exercise 5 : Random\n",
    "Goal: Create a function that generates random numbers and compares them.\n",
    "\n",
    "### Key Python Topics:\n",
    "\n",
    "random module\n",
    "random.randint() function\n",
    "Conditional statements (if, else)\n",
    "\n",
    "\n",
    "### Step 1: Import the random Module\n",
    "\n",
    "At the beginning of your script, use import random to access the random number generation functions.\n",
    "\n",
    "\n",
    "### Step 2: Define a Function with a Parameter\n",
    "\n",
    "Create a function that accepts a number between 1 and 100 as a parameter.\n",
    "\n",
    "\n",
    "### Step 3: Generate a Random Number\n",
    "\n",
    "Inside the function, use random.randint(1, 100) to generate a random integer between 1 and 100.\n",
    "\n",
    "\n",
    "### Step 4: Compare the Numbers\n",
    "\n",
    "If they are the same, print a success message. Otherwise, print a fail message and display both numbers.\n",
    "\n",
    "\n",
    "### Step 5: Call the Function\n",
    "\n",
    "Call the function with a number between 1 and 100.\n",
    "\n",
    "\n",
    "### Expected Output:\n",
    "\n",
    "Success! (if the numbers match)\n",
    "Fail! Your number: 50, Random number: 23 (if they don't match)\n"
   ]
  },
  {
   "cell_type": "code",
   "execution_count": null,
   "id": "3dd5f246",
   "metadata": {},
   "outputs": [],
   "source": [
    "# 1-Importer le module Random  \n",
    "import random\n"
   ]
  },
  {
   "cell_type": "code",
   "execution_count": null,
   "id": "61711782",
   "metadata": {},
   "outputs": [],
   "source": [
    "# 2-Definition de la fonction avec ses paramètres\n",
    "def compare_number(user_number):\n",
    "    if not (1 <= user_number <= 100):\n",
    "        print(\"Erreur : le nombre doit être entre 1 et 100.\")\n",
    "        return\n",
    "    random_number = random.randint(1, 100)\n",
    "    if user_number == random_number:\n",
    "        print(\"Success!\")\n",
    "    else:\n",
    "        print(f\"Fail! Your number: {user_number}, Random number: {random_number}\")\n"
   ]
  },
  {
   "cell_type": "code",
   "execution_count": null,
   "id": "328a8e49",
   "metadata": {},
   "outputs": [
    {
     "name": "stdout",
     "output_type": "stream",
     "text": [
      "Fail! Your number: 50, Random number: 19\n"
     ]
    }
   ],
   "source": [
    "# 3-Appel de la fonction\n",
    "compare_number(50)"
   ]
  },
  {
   "cell_type": "markdown",
   "id": "d1cbfb6c",
   "metadata": {},
   "source": [
    "# 🌟 Exercise 6 : Let’s create some personalized shirts !\n",
    "Goal: Create a function to describe a shirt’s size and message, with default values.\n",
    "\n",
    "Key Python Topics:\n",
    "\n",
    "Functions with parameters and default values\n",
    "Keyword arguments\n",
    "\n",
    "\n",
    "### Step 1: Define a Function with Parameters\n",
    "\n",
    "Define a function called make_shirt().\n",
    "This function should accept two parameters: size and text.\n",
    "\n",
    "\n",
    "### Step 2: Print a Summary Message\n",
    "\n",
    "Set up the function to display a sentence summarizing the shirt’s size and message.\n",
    "\n",
    "\n",
    "### Step 3: Call the Function\n",
    "\n",
    "\n",
    "\n",
    "### Step 4: Modify the Function with Default Values\n",
    "\n",
    "Modify the make_shirt() function so that size has a default value of “large” and text has a default value of “I love Python”.\n",
    "\n",
    "\n",
    "### Step 5: Call the Function with Default and Custom Values\n",
    "\n",
    "Call make_shirt() to make a large shirt with the default message.\n",
    "Call make_shirt() to make a medium shirt with the default message.\n",
    "Call make_shirt() to make a shirt of any size with a different message.\n",
    "\n",
    "\n",
    "### Step 6 (Bonus): Keyword Arguments\n",
    "\n",
    "Call make_shirt() using keyword arguments (e.g., make_shirt(size=\"small\", text=\"Hello!\")).\n",
    "\n",
    "\n",
    "### Expected Output:\n",
    "\n",
    "The size of the shirt is large and the text is I love Python.\n",
    "The size of the shirt is medium and the text is I love Python.\n",
    "The size of the shirt is small and the text is Custom message.\n"
   ]
  },
  {
   "cell_type": "code",
   "execution_count": 2,
   "id": "81eac1c5",
   "metadata": {},
   "outputs": [],
   "source": [
    "# 1-Fonction basique avec deux paramètres : taille et texte\n",
    "def make_shirt(size, text):\n",
    "    print(f\"The size of the shirt is {size} and the text is '{text}'.\")\n"
   ]
  },
  {
   "cell_type": "code",
   "execution_count": 3,
   "id": "04b66bc2",
   "metadata": {},
   "outputs": [
    {
     "name": "stdout",
     "output_type": "stream",
     "text": [
      "The size of the shirt is medium and the text is 'Code is life!'.\n"
     ]
    }
   ],
   "source": [
    "# 2-Appel simple avec des arguments personnalisés\n",
    "make_shirt(\"medium\", \"Code is life!\")\n"
   ]
  },
  {
   "cell_type": "code",
   "execution_count": 4,
   "id": "cbb889bd",
   "metadata": {},
   "outputs": [],
   "source": [
    "# 3-Fonction mise à jour avec valeurs par défaut\n",
    "def make_shirt(size=\"large\", text=\"I love Python\"):\n",
    "    print(f\"The size of the shirt is {size} and the text is '{text}'.\")\n"
   ]
  },
  {
   "cell_type": "code",
   "execution_count": 5,
   "id": "05bd27cf",
   "metadata": {},
   "outputs": [
    {
     "name": "stdout",
     "output_type": "stream",
     "text": [
      "The size of the shirt is large and the text is 'I love Python'.\n",
      "The size of the shirt is medium and the text is 'I love Python'.\n",
      "The size of the shirt is small and the text is 'Custom message'.\n"
     ]
    }
   ],
   "source": [
    "# 4-Appel avec taille par défaut et message par défaut\n",
    "make_shirt()\n",
    "\n",
    "# Appel avec taille \"medium\" et message par défaut\n",
    "make_shirt(\"medium\")\n",
    "\n",
    "# Appel avec taille et message personnalisés\n",
    "make_shirt(\"small\", \"Custom message\")\n"
   ]
  },
  {
   "cell_type": "code",
   "execution_count": 6,
   "id": "66dd433a",
   "metadata": {},
   "outputs": [
    {
     "name": "stdout",
     "output_type": "stream",
     "text": [
      "The size of the shirt is small and the text is 'Hello!'.\n"
     ]
    }
   ],
   "source": [
    "#5- Appel avec arguments nommés\n",
    "make_shirt(size=\"small\", text=\"Hello!\")\n"
   ]
  },
  {
   "cell_type": "markdown",
   "id": "551482c1",
   "metadata": {},
   "source": [
    "# 🌟 Exercise 7 : Temperature Advice\n",
    "## Goal: Generate a random temperature and provide advice based on the temperature range.\n",
    "\n",
    "Key Python Topics:\n",
    "\n",
    "Functions\n",
    "Conditionals (if / elif)\n",
    "Random numbers\n",
    "Floating-point numbers (Bonus)\n",
    "Handling seasons (Bonus)\n",
    "\n",
    "\n",
    "### Step 1: Create the get_random_temp() Function\n",
    "\n",
    "Create a function called get_random_temp() that returns a random integer between -10 and 40 degrees Celsius.\n",
    "\n",
    "\n",
    "### Step 2: Create the main() Function\n",
    "\n",
    "Create a function called main(). Inside this function:\n",
    "Call get_random_temp() to get a random temperature.\n",
    "Store the temperature in a variable and print a friendly message like:\n",
    "“The temperature right now is 32 degrees Celsius.”\n",
    "\n",
    "\n",
    "### Step 3: Provide Temperature-Based Advice\n",
    "\n",
    "Inside main(), provide advice based on the temperature:\n",
    "Below 0°C: e.g., “Brrr, that’s freezing! Wear some extra layers today.”\n",
    "Between 0°C and 16°C: e.g., “Quite chilly! Don’t forget your coat.”\n",
    "Between 16°C and 23°C: e.g., “Nice weather.”\n",
    "Between 24°C and 32°C: e.g., “A bit warm, stay hydrated.”\n",
    "Between 32°C and 40°C: e.g., “It’s really hot! Stay cool.”\n",
    "\n",
    "\n",
    "### Step 4: Floating-Point Temperatures (Bonus)\n",
    "\n",
    "Modify get_random_temp() to return a random floating-point number using random.uniform() for more accurate temperature values.\n",
    "\n",
    "\n",
    "### Step 5: Month-Based Seasons (Bonus)\n",
    "\n",
    "Instead of directly generating a random temperature, ask the user for a month (1-12) and determine the season using if/elif conditions.\n",
    "Modify get_random_temp() to return temperatures specific to each season.\n",
    "\n",
    "\n",
    "### Expected Output:\n",
    "\n",
    "The temperature right now is 32 degrees Celsius.\n",
    "It's really hot! Stay cool.\n"
   ]
  },
  {
   "cell_type": "code",
   "execution_count": 23,
   "id": "1df16e00",
   "metadata": {},
   "outputs": [],
   "source": [
    "# 1-Importer module Random\n",
    "import random"
   ]
  },
  {
   "cell_type": "code",
   "execution_count": 24,
   "id": "1866e7da",
   "metadata": {},
   "outputs": [],
   "source": [
    "# 2-Creation de la fonction get_random_temp()\n",
    "def get_random_temp():\n",
    "    # Returns a random integer between -10 and 40 degrees Celsius\n",
    "    return random.randint(-10, 40)"
   ]
  },
  {
   "cell_type": "code",
   "execution_count": 25,
   "id": "8caa6030",
   "metadata": {},
   "outputs": [
    {
     "name": "stdout",
     "output_type": "stream",
     "text": [
      "The temperature right now is 13 degrees Celsius.\n",
      "Quite chilly! Don’t forget your coat.\n"
     ]
    }
   ],
   "source": [
    "# 3-Création de le fonction principale\n",
    "def main():\n",
    "    temp = get_random_temp()\n",
    "    print(f\"The temperature right now is {temp} degrees Celsius.\")\n",
    "    \n",
    "    if temp < 0:\n",
    "        print(\"Brrr, that’s freezing! Wear some extra layers today.\")\n",
    "    elif temp <= 16:\n",
    "        print(\"Quite chilly! Don’t forget your coat.\")\n",
    "    elif temp <= 23:\n",
    "        print(\"Nice weather.\")\n",
    "    elif temp <= 32:\n",
    "        print(\"A bit warm, stay hydrated.\")\n",
    "    else:\n",
    "        print(\"It’s really hot! Stay cool.\")\n",
    "\n",
    "if __name__ == \"__main__\":\n",
    "    main()\n"
   ]
  },
  {
   "cell_type": "markdown",
   "id": "1513b07d",
   "metadata": {},
   "source": [
    "# 🌟 Exercise 8: Pizza Toppings\n",
    "Key Python Topics:\n",
    "\n",
    "Loops\n",
    "Lists\n",
    "String formatting\n",
    "\n",
    "\n",
    "## Instructions:\n",
    "\n",
    "Write a loop that asks the user to enter pizza toppings one by one.\n",
    "Stop the loop when the user types 'quit'.\n",
    "For each topping entered, print:\n",
    "\"Adding [topping] to your pizza.\"\n",
    "After exiting the loop, print all the toppings and the total cost of the pizza.\n",
    "The base price is $10, and each topping adds $2.50.\n"
   ]
  },
  {
   "cell_type": "code",
   "execution_count": 1,
   "id": "6c79c38a",
   "metadata": {},
   "outputs": [],
   "source": [
    "# 1-Initialize an empty list to store pizza toppings\n",
    "toppings = []"
   ]
  },
  {
   "cell_type": "code",
   "execution_count": 2,
   "id": "915b064a",
   "metadata": {},
   "outputs": [
    {
     "name": "stdout",
     "output_type": "stream",
     "text": [
      "Adding  to your pizza.\n",
      "Adding mushroom to your pizza.\n",
      "Adding egg to your pizza.\n",
      "Adding cheese to your pizza.\n",
      "Adding meat to your pizza.\n"
     ]
    }
   ],
   "source": [
    "# 2-Loop to collect toppings until 'quit' is entered\n",
    "while True:\n",
    "    # Prompt user for input\n",
    "    topping = input(\"Enter a topping (or 'quit' to finish): \")\n",
    "    \n",
    "    # Check if the user wants to quit\n",
    "    if topping.lower() == 'quit':\n",
    "        break\n",
    "    \n",
    "    # Add the entered topping to the list\n",
    "    toppings.append(topping)\n",
    "    \n",
    "    # Print confirmation message for each topping added\n",
    "    print(f\"Adding {topping} to your pizza.\")"
   ]
  },
  {
   "cell_type": "code",
   "execution_count": null,
   "id": "2adeebe4",
   "metadata": {},
   "outputs": [],
   "source": [
    "# 3-Display all the collected toppings\n",
    "print(f\"Toppings: {', '.join(toppings)}\")"
   ]
  },
  {
   "cell_type": "code",
   "execution_count": null,
   "id": "837c83fe",
   "metadata": {},
   "outputs": [],
   "source": [
    "# 4-Calculate total cost based on base price and number of toppings\n",
    "total_cost = 10 + len(toppings) * 2.5"
   ]
  },
  {
   "cell_type": "code",
   "execution_count": null,
   "id": "a239ee44",
   "metadata": {},
   "outputs": [
    {
     "name": "stdout",
     "output_type": "stream",
     "text": [
      "Adding mushroom to your pizza.\n",
      "Adding egg to your pizza.\n",
      "Adding cheese to your pizza.\n",
      "Adding meat to your pizza.\n",
      "Toppings: mushroom, egg, cheese, meat\n",
      "Total cost: $20.00\n"
     ]
    }
   ],
   "source": [
    "# 5-Print the final total cost formatted to two decimal places\n",
    "print(f\"Total cost: ${total_cost:.2f}\")"
   ]
  }
 ],
 "metadata": {
  "kernelspec": {
   "display_name": "base",
   "language": "python",
   "name": "python3"
  },
  "language_info": {
   "codemirror_mode": {
    "name": "ipython",
    "version": 3
   },
   "file_extension": ".py",
   "mimetype": "text/x-python",
   "name": "python",
   "nbconvert_exporter": "python",
   "pygments_lexer": "ipython3",
   "version": "3.12.8"
  }
 },
 "nbformat": 4,
 "nbformat_minor": 5
}
