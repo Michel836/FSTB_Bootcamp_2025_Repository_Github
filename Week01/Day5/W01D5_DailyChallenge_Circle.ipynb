{
 "cells": [
  {
   "cell_type": "markdown",
   "id": "6dd1e2c1",
   "metadata": {},
   "source": [
    "# Daily Challenge - Circle\n",
    "Last Updated: April 30th, 2025\n",
    "\n",
    "## What You will learn :\n",
    "OOP dunder methods\n",
    "\n",
    "\n",
    "## Instructions :\n",
    "The goal is to create a class that represents a simple circle.\n",
    "A Circle can be defined by either specifying the radius or the diameter.\n",
    "The user can query the circle for either its radius or diameter.\n",
    "\n",
    "Other abilities of a Circle instance:\n",
    "\n",
    "## Compute the circle’s area\n",
    "Print the attributes of the circle - use a dunder method\n",
    "Be able to add two circles together, and return a new circle with the new radius - use a dunder method\n",
    "Be able to compare two circles to see which is bigger, and return a Boolean - use a dunder method\n",
    "Be able to compare two circles and see if there are equal, and return a Boolean- use a dunder method\n",
    "Be able to put them in a list and sort them\n",
    "Bonus (not mandatory) : Install the Turtle module, and draw the sorted circles"
   ]
  },
  {
   "cell_type": "markdown",
   "id": "46b789e8",
   "metadata": {},
   "source": [
    "                   DÉBUT\n",
    "                     |\n",
    "       Créer la classe Circle (OOP)\n",
    "                     |\n",
    "  |----------------------------------------|\n",
    "  | Implémenter les méthodes suivantes :   |\n",
    "  |  - __init__ (constructeur)             |\n",
    "  |  - area()                              |\n",
    "  |  - __str__()                           |\n",
    "  |  - __add__()                           |\n",
    "  |  - __gt__()                            |\n",
    "  |  - __eq__()                            |\n",
    "  |----------------------------------------|\n",
    "                     |\n",
    "        Créer une liste de cercles\n",
    "                     |\n",
    "          Trier la liste de cercles\n",
    "                     |\n",
    "        Initialiser Turtle Graphics\n",
    "                     |\n",
    "   [Pour chaque cercle trié dans la liste:]\n",
    "   |-------------------------------------|\n",
    "   |  Aller à la bonne position          |\n",
    "   |  Dessiner le cercle avec turtle     |\n",
    "   |  Afficher le rayon à côté           |\n",
    "   |-------------------------------------|\n",
    "                     |\n",
    "        Cacher la tortue (turtle)\n",
    "                     |\n",
    "                  FIN\n"
   ]
  },
  {
   "cell_type": "markdown",
   "id": "01fe9e85",
   "metadata": {},
   "source": [
    "## 1️⃣ Créer une classe Circle simple avec radius et diameter"
   ]
  },
  {
   "cell_type": "code",
   "execution_count": null,
   "id": "63209666",
   "metadata": {},
   "outputs": [],
   "source": [
    "import math  # On importe math pour calculer l'aire\n",
    "\n",
    "# On crée la classe Circle\n",
    "class Circle:\n",
    "    def __init__(self, radius=None, diameter=None):\n",
    "        # Si le rayon est donné, on l'utilise\n",
    "        if radius is not None:\n",
    "            self.radius = radius\n",
    "            self.diameter = radius * 2\n",
    "        # Sinon, si le diamètre est donné, on l'utilise\n",
    "        elif diameter is not None:\n",
    "            self.diameter = diameter\n",
    "            self.radius = diameter / 2\n",
    "        else:\n",
    "            # Si rien n'est donné, on met un rayon de 1 par défaut\n",
    "            self.radius = 1\n",
    "            self.diameter = 2\n",
    "\n",
    "# Test simple\n",
    "c1 = Circle(radius=4)\n",
    "c2 = Circle(diameter=10)\n",
    "print(\"Rayon c1 :\", c1.radius)\n",
    "print(\"Diamètre c2 :\", c2.diameter)\n"
   ]
  },
  {
   "cell_type": "markdown",
   "id": "e56b31dc",
   "metadata": {},
   "source": [
    "## 2️⃣ Ajouter la méthode pour calculer l’aire"
   ]
  },
  {
   "cell_type": "code",
   "execution_count": null,
   "id": "303d1356",
   "metadata": {},
   "outputs": [],
   "source": [
    "class Circle:\n",
    "    def __init__(self, radius=None, diameter=None):\n",
    "        if radius is not None:\n",
    "            self.radius = radius\n",
    "            self.diameter = radius * 2\n",
    "        elif diameter is not None:\n",
    "            self.diameter = diameter\n",
    "            self.radius = diameter / 2\n",
    "        else:\n",
    "            self.radius = 1\n",
    "            self.diameter = 2\n",
    "\n",
    "    # Méthode pour calculer l'aire\n",
    "    def area(self):\n",
    "        return math.pi * self.radius ** 2\n",
    "\n",
    "# Test de la méthode area\n",
    "c = Circle(radius=3)\n",
    "print(\"Aire du cercle :\", c.area())\n"
   ]
  },
  {
   "cell_type": "markdown",
   "id": "f3c97c5a",
   "metadata": {},
   "source": [
    "## 3️⃣ Ajouter un dunder method pour afficher les attributs (__str__)"
   ]
  },
  {
   "cell_type": "code",
   "execution_count": null,
   "id": "d96c75ef",
   "metadata": {},
   "outputs": [],
   "source": [
    "class Circle:\n",
    "    def __init__(self, radius=None, diameter=None):\n",
    "        if radius is not None:\n",
    "            self.radius = radius\n",
    "            self.diameter = radius * 2\n",
    "        elif diameter is not None:\n",
    "            self.diameter = diameter\n",
    "            self.radius = diameter / 2\n",
    "        else:\n",
    "            self.radius = 1\n",
    "            self.diameter = 2\n",
    "\n",
    "    def area(self):\n",
    "        return math.pi * self.radius ** 2\n",
    "\n",
    "    # Dunder method pour afficher l'objet\n",
    "    def __str__(self):\n",
    "        return f\"Circle: radius={self.radius}, diameter={self.diameter}\"\n",
    "\n",
    "# Test affichage\n",
    "c = Circle(diameter=8)\n",
    "print(c)\n"
   ]
  },
  {
   "cell_type": "markdown",
   "id": "6cd7e660",
   "metadata": {},
   "source": [
    "## 4️⃣ Additionner deux cercles (__add__) : on additionne les rayons"
   ]
  },
  {
   "cell_type": "code",
   "execution_count": null,
   "id": "e67f4bf4",
   "metadata": {},
   "outputs": [],
   "source": [
    "class Circle:\n",
    "    def __init__(self, radius=None, diameter=None):\n",
    "        if radius is not None:\n",
    "            self.radius = radius\n",
    "            self.diameter = radius * 2\n",
    "        elif diameter is not None:\n",
    "            self.diameter = diameter\n",
    "            self.radius = diameter / 2\n",
    "        else:\n",
    "            self.radius = 1\n",
    "            self.diameter = 2\n",
    "\n",
    "    def area(self):\n",
    "        return math.pi * self.radius ** 2\n",
    "\n",
    "    def __str__(self):\n",
    "        return f\"Circle: radius={self.radius}, diameter={self.diameter}\"\n",
    "\n",
    "    # Dunder method pour additionner\n",
    "    def __add__(self, other):\n",
    "        # On additionne les rayons et on retourne un nouveau cercle\n",
    "        return Circle(radius=self.radius + other.radius)\n",
    "\n",
    "# Test addition\n",
    "c1 = Circle(radius=2)\n",
    "c2 = Circle(radius=3)\n",
    "c3 = c1 + c2\n",
    "print(c3)\n"
   ]
  },
  {
   "cell_type": "markdown",
   "id": "a5414314",
   "metadata": {},
   "source": [
    "## 5️⃣ Comparaison des cercles (__gt__ et __eq__)"
   ]
  },
  {
   "cell_type": "code",
   "execution_count": null,
   "id": "f66c32de",
   "metadata": {},
   "outputs": [],
   "source": [
    "class Circle:\n",
    "    def __init__(self, radius=None, diameter=None):\n",
    "        if radius is not None:\n",
    "            self.radius = radius\n",
    "            self.diameter = radius * 2\n",
    "        elif diameter is not None:\n",
    "            self.diameter = diameter\n",
    "            self.radius = diameter / 2\n",
    "        else:\n",
    "            self.radius = 1\n",
    "            self.diameter = 2\n",
    "\n",
    "    def area(self):\n",
    "        return math.pi * self.radius ** 2\n",
    "\n",
    "    def __str__(self):\n",
    "        return f\"Circle: radius={self.radius}, diameter={self.diameter}\"\n",
    "\n",
    "    def __add__(self, other):\n",
    "        return Circle(radius=self.radius + other.radius)\n",
    "\n",
    "    # Plus grand\n",
    "    def __gt__(self, other):\n",
    "        return self.radius > other.radius\n",
    "\n",
    "    # Egalité\n",
    "    def __eq__(self, other):\n",
    "        return self.radius == other.radius\n",
    "\n",
    "# Test comparaisons\n",
    "c1 = Circle(radius=5)\n",
    "c2 = Circle(radius=3)\n",
    "print(\"c1 > c2 ?\", c1 > c2)\n",
    "print(\"c1 == c2 ?\", c1 == c2)\n"
   ]
  },
  {
   "cell_type": "markdown",
   "id": "8f137999",
   "metadata": {},
   "source": [
    "## 6️⃣ Tri d’une liste de cercles"
   ]
  },
  {
   "cell_type": "code",
   "execution_count": null,
   "id": "d1e5d714",
   "metadata": {},
   "outputs": [],
   "source": [
    "# On peut utiliser la même classe que plus haut\n",
    "\n",
    "# Créer une liste de cercles\n",
    "cercles = [Circle(radius=4), Circle(radius=1), Circle(radius=3)]\n",
    "\n",
    "# Trier la liste (utilise __gt__ automatiquement)\n",
    "cercles_triees = sorted(cercles)\n",
    "\n",
    "# Afficher les cercles triés\n",
    "for c in cercles_triees:\n",
    "    print(c)\n"
   ]
  }
 ],
 "metadata": {
  "language_info": {
   "name": "python"
  }
 },
 "nbformat": 4,
 "nbformat_minor": 5
}
