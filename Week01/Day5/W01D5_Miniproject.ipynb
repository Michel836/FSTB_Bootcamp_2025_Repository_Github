{
 "cells": [
  {
   "cell_type": "markdown",
   "id": "39133913",
   "metadata": {},
   "source": [
    "# Mini projet\n",
    "## Introduction\n",
    "Bienvenue au jour 5, où vous appliquerez les concepts et compétences acquis jusqu'à présent pour créer des mini-projets passionnants. Le codage pratique est l'un des meilleurs moyens de renforcer vos connaissances, et ces projets sont conçus pour être ludiques et stimulants tout en vous permettant de mettre en pratique les concepts clés de Python. Chaque projet mettra à l'épreuve vos capacités de résolution de problèmes et approfondira votre connaissance des conditions, des boucles, des fonctions, de la programmation orientée objet et des modules."
   ]
  },
  {
   "cell_type": "markdown",
   "id": "de250e65",
   "metadata": {},
   "source": [
    "## 👩‍🏫 👩🏿‍🏫 Ce que vous apprendrez\n",
    "\n",
    "\n",
    "Mini-projet 1 : Tic Tac Toe\n",
    "Dans ce projet, vous créerez un jeu de morpion pour deux joueurs. Vous devrez :\n",
    "\n",
    "Utilisez des conditions pour déterminer le gagnant et gérer le déroulement du jeu.\n",
    "Appliquez des boucles pour des actions répétées comme vérifier l'état du jeu ou demander une saisie.\n",
    "Écrivez des fonctions pour organiser et réutiliser le code efficacement, par exemple pour vérifier le plateau ou mettre à jour les mouvements."
   ]
  },
  {
   "cell_type": "markdown",
   "id": "cf638192",
   "metadata": {},
   "source": [
    "## Etapes pour coder un jeu de morpion (Tic Tac Toe) pour deux joueurs :\n",
    "\n",
    "### Représenter le plateau de jeu\n",
    "Utiliser une liste ou une structure pour stocker les valeurs des cases (X, O, ou vide).\n",
    "\n",
    "### Afficher le plateau\n",
    "Écrire une fonction qui affiche le plateau dans la console de façon claire.\n",
    "\n",
    "### Demander le coup d’un joueur\n",
    "Boucler pour demander à chaque joueur où il veut jouer, vérifier si la case est libre.\n",
    "\n",
    "### Mettre à jour le plateau\n",
    "Modifier la structure du plateau selon le choix du joueur.\n",
    "\n",
    "### Vérifier s’il y a un gagnant ou un match nul\n",
    "Fonction qui regarde les lignes, colonnes, diagonales.\n",
    "\n",
    "### Alterner les joueurs\n",
    "Passer d’un joueur à l’autre après chaque coup.\n",
    "\n",
    "### Boucler le jeu\n",
    "Répéter les étapes jusqu’à victoire ou match nul."
   ]
  },
  {
   "cell_type": "markdown",
   "id": "a7a054cc",
   "metadata": {},
   "source": [
    "      DÉBUT\n",
    "        |\n",
    "   Initialiser le plateau\n",
    "        |\n",
    "    Définir joueur = 'X'\n",
    "        |\n",
    "       v\n",
    "+---------------------------+\n",
    "|     Afficher plateau      |\n",
    "+---------------------------+\n",
    "        |\n",
    "       v\n",
    "+---------------------------+\n",
    "| Demander coup au joueur   |\n",
    "+---------------------------+\n",
    "        |\n",
    "       v\n",
    "+---------------------------+\n",
    "|  Mettre à jour plateau    |\n",
    "+---------------------------+\n",
    "        |\n",
    "       v\n",
    "+-----------------------------+\n",
    "| Vérifier si victoire ?      |\n",
    "+-----------+-----------------+\n",
    "            |\n",
    "    Oui ----+----> Afficher plateau\n",
    "            |           |\n",
    "            |      Afficher \"Joueur X/O gagne\"\n",
    "            |           |\n",
    "            |         FIN\n",
    "            |\n",
    "            v\n",
    "+-----------------------------+\n",
    "| Vérifier si match nul ?     |\n",
    "+-----------+-----------------+\n",
    "            |\n",
    "    Oui ----+----> Afficher plateau\n",
    "            |           |\n",
    "            |      Afficher \"Match nul\"\n",
    "            |           |\n",
    "            |         FIN\n",
    "            |\n",
    "            v\n",
    "+------------------------------+\n",
    "| Changer joueur (X <-> O)     |\n",
    "+------------------------------+\n",
    "        |\n",
    "        v\n",
    "   Retour à l'affichage du plateau\n"
   ]
  },
  {
   "cell_type": "markdown",
   "id": "2ce917e3",
   "metadata": {},
   "source": [
    "## 1️⃣ Représentation et affichage du plateau"
   ]
  },
  {
   "cell_type": "code",
   "execution_count": 1,
   "id": "919c33c0",
   "metadata": {},
   "outputs": [
    {
     "name": "stdout",
     "output_type": "stream",
     "text": [
      "  |   |  \n",
      "--+---+--\n",
      "  |   |  \n",
      "--+---+--\n",
      "  |   |  \n"
     ]
    }
   ],
   "source": [
    "# Le plateau est une liste de 9 éléments (3x3)\n",
    "plateau = [\" \" for _ in range(9)]\n",
    "\n",
    "def afficher_plateau(plateau):\n",
    "    # Affiche le plateau de façon lisible\n",
    "    print(f\"{plateau[0]} | {plateau[1]} | {plateau[2]}\")\n",
    "    print(\"--+---+--\")\n",
    "    print(f\"{plateau[3]} | {plateau[4]} | {plateau[5]}\")\n",
    "    print(\"--+---+--\")\n",
    "    print(f\"{plateau[6]} | {plateau[7]} | {plateau[8]}\")\n",
    "\n",
    "# Affichage initial\n",
    "afficher_plateau(plateau)\n"
   ]
  },
  {
   "cell_type": "markdown",
   "id": "89be1233",
   "metadata": {},
   "source": [
    "## 2️⃣ Fonction pour vérifier la victoire"
   ]
  },
  {
   "cell_type": "code",
   "execution_count": 2,
   "id": "83e51657",
   "metadata": {},
   "outputs": [],
   "source": [
    "# Vérifie si un joueur a gagné\n",
    "def verifier_victoire(plateau, joueur):\n",
    "    # Toutes les combinaisons gagnantes (lignes, colonnes, diagonales)\n",
    "    combinaisons = [\n",
    "        [0, 1, 2], [3, 4, 5], [6, 7, 8], # lignes\n",
    "        [0, 3, 6], [1, 4, 7], [2, 5, 8], # colonnes\n",
    "        [0, 4, 8], [2, 4, 6]             # diagonales\n",
    "    ]\n",
    "    for c in combinaisons:\n",
    "        if plateau[c[0]] == plateau[c[1]] == plateau[c[2]] == joueur:\n",
    "            return True\n",
    "    return False\n"
   ]
  },
  {
   "cell_type": "markdown",
   "id": "7045ff38",
   "metadata": {},
   "source": [
    "## 3️⃣ Fonction pour demander et effectuer un coup valide"
   ]
  },
  {
   "cell_type": "code",
   "execution_count": 3,
   "id": "97aa1bab",
   "metadata": {},
   "outputs": [],
   "source": [
    "def demander_coup(plateau, joueur):\n",
    "    while True:\n",
    "        try:\n",
    "            case = int(input(f\"Joueur {joueur}, choisis une case (1-9) : \")) - 1\n",
    "            if 0 <= case <= 8 and plateau[case] == \" \":\n",
    "                plateau[case] = joueur\n",
    "                break\n",
    "            else:\n",
    "                print(\"Case invalide ou déjà prise.\")\n",
    "        except ValueError:\n",
    "            print(\"Saisie incorrecte, entre un nombre de 1 à 9.\")\n"
   ]
  },
  {
   "cell_type": "markdown",
   "id": "14e33cb3",
   "metadata": {},
   "source": [
    "## 4️⃣ Fonction principale de la partie"
   ]
  },
  {
   "cell_type": "code",
   "execution_count": 4,
   "id": "ddd5fce7",
   "metadata": {},
   "outputs": [
    {
     "name": "stdout",
     "output_type": "stream",
     "text": [
      "  |   |  \n",
      "--+---+--\n",
      "  |   |  \n",
      "--+---+--\n",
      "  |   |  \n",
      "  |   |  \n",
      "--+---+--\n",
      "  |   |  \n",
      "--+---+--\n",
      "  | X |  \n",
      "  |   |  \n",
      "--+---+--\n",
      "  |   |  \n",
      "--+---+--\n",
      "  | X | O\n",
      "  |   |  \n",
      "--+---+--\n",
      "  |   |  \n",
      "--+---+--\n",
      "X | X | O\n",
      "  |   |  \n",
      "--+---+--\n",
      "  | O |  \n",
      "--+---+--\n",
      "X | X | O\n",
      "  |   |  \n",
      "--+---+--\n",
      "X | O |  \n",
      "--+---+--\n",
      "X | X | O\n",
      "  |   | O\n",
      "--+---+--\n",
      "X | O |  \n",
      "--+---+--\n",
      "X | X | O\n",
      "  | X | O\n",
      "--+---+--\n",
      "X | O |  \n",
      "--+---+--\n",
      "X | X | O\n",
      "Case invalide ou déjà prise.\n",
      "O | X | O\n",
      "--+---+--\n",
      "X | O |  \n",
      "--+---+--\n",
      "X | X | O\n",
      "Bravo, joueur O a gagné !\n"
     ]
    }
   ],
   "source": [
    "def jouer_morpion():\n",
    "    plateau = [\" \" for _ in range(9)]\n",
    "    joueur = \"X\"\n",
    "    for tour in range(9):  # Maximum 9 coups\n",
    "        afficher_plateau(plateau)\n",
    "        demander_coup(plateau, joueur)\n",
    "        if verifier_victoire(plateau, joueur):\n",
    "            afficher_plateau(plateau)\n",
    "            print(f\"Bravo, joueur {joueur} a gagné !\")\n",
    "            return\n",
    "        joueur = \"O\" if joueur == \"X\" else \"X\"\n",
    "    afficher_plateau(plateau)\n",
    "    print(\"Match nul !\")\n",
    "\n",
    "# Lance le jeu\n",
    "jouer_morpion()\n"
   ]
  },
  {
   "cell_type": "markdown",
   "id": "aa106ec8",
   "metadata": {},
   "source": [
    "## Mini-projet 2 : Pierre-papier-ciseaux\n",
    "Ce projet introduit des concepts de programmation plus avancés en créant un jeu de Pierre-Papier-Ciseaux. Vous allez :\n",
    "\n",
    "Utilisez la programmation orientée objet (POO) pour concevoir une structure de jeu réutilisable et extensible.\n",
    "Exploitez les modules pour séparer la logique en différents fichiers, rendant votre code plus modulaire et maintenable."
   ]
  },
  {
   "cell_type": "markdown",
   "id": "8ec6c259",
   "metadata": {},
   "source": [
    "## Explications (comment procéder) :\n",
    "\n",
    "### Créer une classe JeuPPC\n",
    "Cette classe contiendra toute la logique du jeu (saisie, choix aléatoire, vérification du gagnant, etc).\n",
    "\n",
    "### Définir des méthodes\n",
    "\n",
    "jouer_tour() : Un tour de jeu (saisie du joueur, choix ordi, qui gagne).\n",
    "\n",
    "resultat() : Afficher qui gagne le tour.\n",
    "\n",
    "jouer() : Lancer une boucle pour plusieurs parties, proposer de rejouer.\n",
    "\n",
    "### Utiliser des modules\n",
    "\n",
    "Placer la classe dans un fichier jeu.py.\n",
    "\n",
    "Placer le script principal dans un fichier main.py qui importe la classe.\n",
    "\n",
    "### Utiliser le module random pour le choix de l’ordinateur.\n",
    "\n"
   ]
  },
  {
   "cell_type": "markdown",
   "id": "fd6fc298",
   "metadata": {},
   "source": [
    "         DÉBUT\n",
    "           |\n",
    "   Initialiser scores\n",
    "           |\n",
    "    [Boucle Principale]\n",
    "           |\n",
    "  Demander choix joueur\n",
    "           |\n",
    "  Choix ordi (aléatoire)\n",
    "           |\n",
    "      Afficher choix\n",
    "           |\n",
    " Vérifier le gagnant du tour\n",
    "      |        |        |\n",
    "  Joueur   Ordi   Égalité\n",
    "    +1       +1    (rien)\n",
    "           |\n",
    "Afficher résultat tour\n",
    "           |\n",
    "Demander si rejouer\n",
    "      |\n",
    "   Non -> Afficher scores finaux\n",
    "      |\n",
    "     FIN\n",
    "      |\n",
    "   Oui\n",
    "      |\n",
    "   Retour début boucle\n"
   ]
  },
  {
   "cell_type": "code",
   "execution_count": 5,
   "id": "d6e34beb",
   "metadata": {},
   "outputs": [],
   "source": [
    "# jeu.py\n",
    "import random\n",
    "\n",
    "class JeuPPC:\n",
    "    # Choix possibles\n",
    "    choix_possibles = [\"pierre\", \"papier\", \"ciseaux\"]\n",
    "    \n",
    "    def __init__(self):\n",
    "        self.score_joueur = 0\n",
    "        self.score_ordi = 0\n",
    "\n",
    "    def jouer_tour(self):\n",
    "        # Demande du choix du joueur\n",
    "        choix_joueur = input(\"Choisissez pierre, papier ou ciseaux : \").lower()\n",
    "        if choix_joueur not in self.choix_possibles:\n",
    "            print(\"Choix invalide.\")\n",
    "            return None\n",
    "        # Choix aléatoire de l'ordinateur\n",
    "        choix_ordi = random.choice(self.choix_possibles)\n",
    "        print(f\"L'ordinateur a choisi : {choix_ordi}\")\n",
    "        # Résultat\n",
    "        if choix_joueur == choix_ordi:\n",
    "            print(\"Égalité.\")\n",
    "            return \"egalite\"\n",
    "        elif (\n",
    "            (choix_joueur == \"pierre\" and choix_ordi == \"ciseaux\") or\n",
    "            (choix_joueur == \"papier\" and choix_ordi == \"pierre\") or\n",
    "            (choix_joueur == \"ciseaux\" and choix_ordi == \"papier\")\n",
    "        ):\n",
    "            print(\"Vous gagnez ce tour.\")\n",
    "            self.score_joueur += 1\n",
    "            return \"joueur\"\n",
    "        else:\n",
    "            print(\"L'ordinateur gagne ce tour.\")\n",
    "            self.score_ordi += 1\n",
    "            return \"ordi\"\n",
    "\n",
    "    def jouer(self):\n",
    "        # Boucle de jeu principale\n",
    "        while True:\n",
    "            self.jouer_tour()\n",
    "            rejouer = input(\"Voulez-vous rejouer ? (o/n) : \").lower()\n",
    "            if rejouer != \"o\":\n",
    "                print(f\"Score final - Joueur : {self.score_joueur}, Ordi : {self.score_ordi}\")\n",
    "                print(\"Merci d'avoir joué !\")\n",
    "                break\n"
   ]
  },
  {
   "cell_type": "code",
   "execution_count": 6,
   "id": "66bb01e9",
   "metadata": {},
   "outputs": [
    {
     "ename": "ModuleNotFoundError",
     "evalue": "No module named 'jeu'",
     "output_type": "error",
     "traceback": [
      "\u001b[1;31m---------------------------------------------------------------------------\u001b[0m",
      "\u001b[1;31mModuleNotFoundError\u001b[0m                       Traceback (most recent call last)",
      "Cell \u001b[1;32mIn[6], line 2\u001b[0m\n\u001b[0;32m      1\u001b[0m \u001b[38;5;66;03m# main.py\u001b[39;00m\n\u001b[1;32m----> 2\u001b[0m \u001b[38;5;28;01mfrom\u001b[39;00m\u001b[38;5;250m \u001b[39m\u001b[38;5;21;01mjeu\u001b[39;00m\u001b[38;5;250m \u001b[39m\u001b[38;5;28;01mimport\u001b[39;00m JeuPPC\n\u001b[0;32m      4\u001b[0m \u001b[38;5;66;03m# Création de l'objet jeu et lancement\u001b[39;00m\n\u001b[0;32m      5\u001b[0m jeu \u001b[38;5;241m=\u001b[39m JeuPPC()\n",
      "\u001b[1;31mModuleNotFoundError\u001b[0m: No module named 'jeu'"
     ]
    }
   ],
   "source": [
    "# main.py\n",
    "from jeu import JeuPPC\n",
    "\n",
    "# Création de l'objet jeu et lancement\n",
    "jeu = JeuPPC()\n",
    "jeu.jouer()\n"
   ]
  },
  {
   "cell_type": "code",
   "execution_count": 7,
   "id": "c92900df",
   "metadata": {},
   "outputs": [
    {
     "name": "stdout",
     "output_type": "stream",
     "text": [
      "L'ordinateur a choisi : papier\n",
      "L'ordinateur gagne ce tour.\n",
      "Score final - Joueur : 0, Ordi : 1\n",
      "Merci d'avoir joué !\n"
     ]
    }
   ],
   "source": [
    "import random\n",
    "\n",
    "class JeuPPC:\n",
    "    choix_possibles = [\"pierre\", \"papier\", \"ciseaux\"]\n",
    "\n",
    "    def __init__(self):\n",
    "        self.score_joueur = 0\n",
    "        self.score_ordi = 0\n",
    "\n",
    "    def jouer_tour(self):\n",
    "        choix_joueur = input(\"Choisissez pierre, papier ou ciseaux : \").lower()\n",
    "        if choix_joueur not in self.choix_possibles:\n",
    "            print(\"Choix invalide.\")\n",
    "            return None\n",
    "        choix_ordi = random.choice(self.choix_possibles)\n",
    "        print(f\"L'ordinateur a choisi : {choix_ordi}\")\n",
    "        if choix_joueur == choix_ordi:\n",
    "            print(\"Égalité.\")\n",
    "            return \"egalite\"\n",
    "        elif (\n",
    "            (choix_joueur == \"pierre\" and choix_ordi == \"ciseaux\") or\n",
    "            (choix_joueur == \"papier\" and choix_ordi == \"pierre\") or\n",
    "            (choix_joueur == \"ciseaux\" and choix_ordi == \"papier\")\n",
    "        ):\n",
    "            print(\"Vous gagnez ce tour.\")\n",
    "            self.score_joueur += 1\n",
    "            return \"joueur\"\n",
    "        else:\n",
    "            print(\"L'ordinateur gagne ce tour.\")\n",
    "            self.score_ordi += 1\n",
    "            return \"ordi\"\n",
    "\n",
    "    def jouer(self):\n",
    "        while True:\n",
    "            self.jouer_tour()\n",
    "            rejouer = input(\"Voulez-vous rejouer ? (o/n) : \").lower()\n",
    "            if rejouer != \"o\":\n",
    "                print(f\"Score final - Joueur : {self.score_joueur}, Ordi : {self.score_ordi}\")\n",
    "                print(\"Merci d'avoir joué !\")\n",
    "                break\n",
    "\n",
    "# Lancer le jeu\n",
    "jeu = JeuPPC()\n",
    "jeu.jouer()\n"
   ]
  }
 ],
 "metadata": {
  "kernelspec": {
   "display_name": "base",
   "language": "python",
   "name": "python3"
  },
  "language_info": {
   "codemirror_mode": {
    "name": "ipython",
    "version": 3
   },
   "file_extension": ".py",
   "mimetype": "text/x-python",
   "name": "python",
   "nbconvert_exporter": "python",
   "pygments_lexer": "ipython3",
   "version": "3.12.7"
  }
 },
 "nbformat": 4,
 "nbformat_minor": 5
}
