{
 "cells": [
  {
   "cell_type": "markdown",
   "id": "f3bcb28a",
   "metadata": {},
   "source": [
    "# Daily challenge: Translator"
   ]
  },
  {
   "cell_type": "markdown",
   "id": "2bb4c9d1",
   "metadata": {},
   "source": [
    "## Instructions :\n",
    "Consider this list\n",
    "\n",
    "french_words= [\"Bonjour\", \"Au revoir\", \"Bienvenue\", \"A bientôt\"] \n",
    "Look at this result :\n",
    "{\"Bonjour\": \"Hello\", \"Au revoir\": \"Goodbye\", \"Bienvenue\": \"Welcome\", \"A bientôt\": \"See you soon\"}\n",
    "You have to recreate the result using a translator module. Take a look at the googletrans module"
   ]
  },
  {
   "cell_type": "markdown",
   "id": "ecbcd9ba",
   "metadata": {},
   "source": [
    "                     DÉBUT\n",
    "                       |\n",
    "          Créer la liste french_words\n",
    "                       |\n",
    "      Créer un dictionnaire vide translations\n",
    "                       |\n",
    "         Créer un objet Translator (googletrans)\n",
    "                       |\n",
    "         [Pour chaque mot dans french_words :]\n",
    "                |                    |\n",
    "    Traduire le mot en anglais      <--\n",
    "                |\n",
    "    Ajouter au dictionnaire {mot: traduction}\n",
    "                |\n",
    "         [Fin de la boucle]\n",
    "                       |\n",
    "        Afficher le dictionnaire translations\n",
    "                       |\n",
    "                      FIN\n"
   ]
  },
  {
   "cell_type": "code",
   "execution_count": 4,
   "id": "d701eb63",
   "metadata": {},
   "outputs": [
    {
     "name": "stdout",
     "output_type": "stream",
     "text": [
      "Defaulting to user installation because normal site-packages is not writeable\n",
      "Collecting googletrans==4.0.0rc1\n",
      "  Downloading googletrans-4.0.0rc1.tar.gz (20 kB)\n",
      "  Preparing metadata (setup.py): started\n",
      "  Preparing metadata (setup.py): finished with status 'done'\n",
      "Collecting httpx==0.13.3 (from googletrans==4.0.0rc1)\n",
      "  Downloading httpx-0.13.3-py3-none-any.whl.metadata (25 kB)\n",
      "Requirement already satisfied: certifi in c:\\programdata\\miniforge3\\lib\\site-packages (from httpx==0.13.3->googletrans==4.0.0rc1) (2024.8.30)\n",
      "Collecting hstspreload (from httpx==0.13.3->googletrans==4.0.0rc1)\n",
      "  Downloading hstspreload-2025.1.1-py3-none-any.whl.metadata (2.1 kB)\n",
      "Collecting sniffio (from httpx==0.13.3->googletrans==4.0.0rc1)\n",
      "  Downloading sniffio-1.3.1-py3-none-any.whl.metadata (3.9 kB)\n",
      "Collecting chardet==3.* (from httpx==0.13.3->googletrans==4.0.0rc1)\n",
      "  Downloading chardet-3.0.4-py2.py3-none-any.whl.metadata (3.2 kB)\n",
      "Collecting idna==2.* (from httpx==0.13.3->googletrans==4.0.0rc1)\n",
      "  Downloading idna-2.10-py2.py3-none-any.whl.metadata (9.1 kB)\n",
      "Collecting rfc3986<2,>=1.3 (from httpx==0.13.3->googletrans==4.0.0rc1)\n",
      "  Downloading rfc3986-1.5.0-py2.py3-none-any.whl.metadata (6.5 kB)\n",
      "Collecting httpcore==0.9.* (from httpx==0.13.3->googletrans==4.0.0rc1)\n",
      "  Downloading httpcore-0.9.1-py3-none-any.whl.metadata (4.6 kB)\n",
      "Collecting h11<0.10,>=0.8 (from httpcore==0.9.*->httpx==0.13.3->googletrans==4.0.0rc1)\n",
      "  Downloading h11-0.9.0-py2.py3-none-any.whl.metadata (8.1 kB)\n",
      "Collecting h2==3.* (from httpcore==0.9.*->httpx==0.13.3->googletrans==4.0.0rc1)\n",
      "  Downloading h2-3.2.0-py2.py3-none-any.whl.metadata (32 kB)\n",
      "Collecting hyperframe<6,>=5.2.0 (from h2==3.*->httpcore==0.9.*->httpx==0.13.3->googletrans==4.0.0rc1)\n",
      "  Downloading hyperframe-5.2.0-py2.py3-none-any.whl.metadata (7.2 kB)\n",
      "Collecting hpack<4,>=3.0 (from h2==3.*->httpcore==0.9.*->httpx==0.13.3->googletrans==4.0.0rc1)\n",
      "  Downloading hpack-3.0.0-py2.py3-none-any.whl.metadata (7.0 kB)\n",
      "Downloading httpx-0.13.3-py3-none-any.whl (55 kB)\n",
      "Downloading chardet-3.0.4-py2.py3-none-any.whl (133 kB)\n",
      "Downloading httpcore-0.9.1-py3-none-any.whl (42 kB)\n",
      "Downloading idna-2.10-py2.py3-none-any.whl (58 kB)\n",
      "Downloading sniffio-1.3.1-py3-none-any.whl (10 kB)\n",
      "Downloading h2-3.2.0-py2.py3-none-any.whl (65 kB)\n",
      "Downloading rfc3986-1.5.0-py2.py3-none-any.whl (31 kB)\n",
      "Downloading hstspreload-2025.1.1-py3-none-any.whl (1.3 MB)\n",
      "   ---------------------------------------- 0.0/1.3 MB ? eta -:--:--\n",
      "   ---------------------------------------- 1.3/1.3 MB 8.3 MB/s eta 0:00:00\n",
      "Downloading h11-0.9.0-py2.py3-none-any.whl (53 kB)\n",
      "Downloading hpack-3.0.0-py2.py3-none-any.whl (38 kB)\n",
      "Downloading hyperframe-5.2.0-py2.py3-none-any.whl (12 kB)\n",
      "Building wheels for collected packages: googletrans\n",
      "  Building wheel for googletrans (setup.py): started\n",
      "  Building wheel for googletrans (setup.py): finished with status 'done'\n",
      "  Created wheel for googletrans: filename=googletrans-4.0.0rc1-py3-none-any.whl size=17457 sha256=1e8a3e03013dd7c9d83ce6a55cb70dc18b80ddc954714d3b9dbebbd195aab084\n",
      "  Stored in directory: c:\\users\\chume\\appdata\\local\\pip\\cache\\wheels\\95\\0f\\04\\b17a72024b56a60e499ce1a6313d283ed5ba332407155bee03\n",
      "Successfully built googletrans\n",
      "Installing collected packages: rfc3986, hyperframe, hpack, h11, chardet, sniffio, idna, hstspreload, h2, httpcore, httpx, googletrans\n",
      "Successfully installed chardet-3.0.4 googletrans-4.0.0rc1 h11-0.9.0 h2-3.2.0 hpack-3.0.0 hstspreload-2025.1.1 httpcore-0.9.1 httpx-0.13.3 hyperframe-5.2.0 idna-2.10 rfc3986-1.5.0 sniffio-1.3.1\n",
      "Note: you may need to restart the kernel to use updated packages.\n"
     ]
    },
    {
     "name": "stderr",
     "output_type": "stream",
     "text": [
      "  WARNING: The script chardetect.exe is installed in 'C:\\Users\\chume\\AppData\\Roaming\\Python\\Python312\\Scripts' which is not on PATH.\n",
      "  Consider adding this directory to PATH or, if you prefer to suppress this warning, use --no-warn-script-location.\n"
     ]
    }
   ],
   "source": [
    "pip install googletrans==4.0.0rc1\n"
   ]
  },
  {
   "cell_type": "code",
   "execution_count": 5,
   "id": "1326d8c0",
   "metadata": {},
   "outputs": [
    {
     "name": "stdout",
     "output_type": "stream",
     "text": [
      "{'Bonjour': 'Good morning', 'Au revoir': 'Bye', 'Bienvenue': 'Welcome', 'A bientôt': 'See you soon'}\n"
     ]
    }
   ],
   "source": [
    "# Installer googletrans si ce n'est pas déjà fait :\n",
    "# !pip install googletrans==4.0.0rc1\n",
    "\n",
    "from googletrans import Translator\n",
    "\n",
    "# Liste de mots en français\n",
    "french_words = [\"Bonjour\", \"Au revoir\", \"Bienvenue\", \"A bientôt\"]\n",
    "\n",
    "# Créer l'objet traducteur\n",
    "translator = Translator()\n",
    "\n",
    "# Dictionnaire pour stocker les traductions\n",
    "translations = {}\n",
    "\n",
    "# Traduire chaque mot vers l'anglais\n",
    "for word in french_words:\n",
    "    result = translator.translate(word, src='fr', dest='en')\n",
    "    translations[word] = result.text\n",
    "\n",
    "print(translations)\n"
   ]
  }
 ],
 "metadata": {
  "kernelspec": {
   "display_name": "base",
   "language": "python",
   "name": "python3"
  },
  "language_info": {
   "codemirror_mode": {
    "name": "ipython",
    "version": 3
   },
   "file_extension": ".py",
   "mimetype": "text/x-python",
   "name": "python",
   "nbconvert_exporter": "python",
   "pygments_lexer": "ipython3",
   "version": "3.12.8"
  }
 },
 "nbformat": 4,
 "nbformat_minor": 5
}
