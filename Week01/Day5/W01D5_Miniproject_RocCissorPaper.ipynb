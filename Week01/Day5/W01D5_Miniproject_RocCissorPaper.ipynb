{
 "cells": [
  {
   "cell_type": "markdown",
   "id": "39133913",
   "metadata": {},
   "source": [
    "# Mini projet\n",
    "## Introduction\n",
    "Bienvenue au jour 5, où vous appliquerez les concepts et compétences acquis jusqu'à présent pour créer des mini-projets passionnants. Le codage pratique est l'un des meilleurs moyens de renforcer vos connaissances, et ces projets sont conçus pour être ludiques et stimulants tout en vous permettant de mettre en pratique les concepts clés de Python. Chaque projet mettra à l'épreuve vos capacités de résolution de problèmes et approfondira votre connaissance des conditions, des boucles, des fonctions, de la programmation orientée objet et des modules."
   ]
  },
  {
   "cell_type": "markdown",
   "id": "de250e65",
   "metadata": {},
   "source": [
    "## 👩‍🏫 👩🏿‍🏫 Ce que vous apprendrez\n",
    "\n",
    "\n",
    "Mini-projet 1 : Tic Tac Toe\n",
    "Dans ce projet, vous créerez un jeu de morpion pour deux joueurs. Vous devrez :\n",
    "\n",
    "Utilisez des conditions pour déterminer le gagnant et gérer le déroulement du jeu.\n",
    "Appliquez des boucles pour des actions répétées comme vérifier l'état du jeu ou demander une saisie.\n",
    "Écrivez des fonctions pour organiser et réutiliser le code efficacement, par exemple pour vérifier le plateau ou mettre à jour les mouvements."
   ]
  },
  {
   "cell_type": "markdown",
   "id": "aa106ec8",
   "metadata": {},
   "source": [
    "## Mini-projet : Pierre-papier-ciseaux\n",
    "Ce projet introduit des concepts de programmation plus avancés en créant un jeu de Pierre-Papier-Ciseaux. Vous allez :\n",
    "\n",
    "Utilisez la programmation orientée objet (POO) pour concevoir une structure de jeu réutilisable et extensible.\n",
    "Exploitez les modules pour séparer la logique en différents fichiers, rendant votre code plus modulaire et maintenable."
   ]
  },
  {
   "cell_type": "markdown",
   "id": "8ec6c259",
   "metadata": {},
   "source": [
    "## Explications (comment procéder) :\n",
    "\n",
    "### Créer une classe JeuPPC\n",
    "Cette classe contiendra toute la logique du jeu (saisie, choix aléatoire, vérification du gagnant, etc).\n",
    "\n",
    "### Définir des méthodes\n",
    "\n",
    "jouer_tour() : Un tour de jeu (saisie du joueur, choix ordi, qui gagne).\n",
    "\n",
    "resultat() : Afficher qui gagne le tour.\n",
    "\n",
    "jouer() : Lancer une boucle pour plusieurs parties, proposer de rejouer.\n",
    "\n",
    "### Utiliser des modules\n",
    "\n",
    "Placer la classe dans un fichier jeu.py.\n",
    "\n",
    "Placer le script principal dans un fichier main.py qui importe la classe.\n",
    "\n",
    "### Utiliser le module random pour le choix de l’ordinateur.\n",
    "\n"
   ]
  },
  {
   "cell_type": "markdown",
   "id": "fd6fc298",
   "metadata": {},
   "source": [
    "         DÉBUT\n",
    "           |\n",
    "   Initialiser scores\n",
    "           |\n",
    "    [Boucle Principale]\n",
    "           |\n",
    "  Demander choix joueur\n",
    "           |\n",
    "  Choix ordi (aléatoire)\n",
    "           |\n",
    "      Afficher choix\n",
    "           |\n",
    " Vérifier le gagnant du tour\n",
    "      |        |        |\n",
    "  Joueur   Ordi   Égalité\n",
    "    +1       +1    (rien)\n",
    "           |\n",
    "Afficher résultat tour\n",
    "           |\n",
    "Demander si rejouer\n",
    "      |\n",
    "   Non -> Afficher scores finaux\n",
    "      |\n",
    "     FIN\n",
    "      |\n",
    "   Oui\n",
    "      |\n",
    "   Retour début boucle\n"
   ]
  },
  {
   "cell_type": "code",
   "execution_count": 5,
   "id": "d6e34beb",
   "metadata": {},
   "outputs": [],
   "source": [
    "# jeu.py\n",
    "import random\n",
    "\n",
    "class JeuPPC:\n",
    "    # Choix possibles\n",
    "    choix_possibles = [\"pierre\", \"papier\", \"ciseaux\"]\n",
    "    \n",
    "    def __init__(self):\n",
    "        self.score_joueur = 0\n",
    "        self.score_ordi = 0\n",
    "\n",
    "    def jouer_tour(self):\n",
    "        # Demande du choix du joueur\n",
    "        choix_joueur = input(\"Choisissez pierre, papier ou ciseaux : \").lower()\n",
    "        if choix_joueur not in self.choix_possibles:\n",
    "            print(\"Choix invalide.\")\n",
    "            return None\n",
    "        # Choix aléatoire de l'ordinateur\n",
    "        choix_ordi = random.choice(self.choix_possibles)\n",
    "        print(f\"L'ordinateur a choisi : {choix_ordi}\")\n",
    "        # Résultat\n",
    "        if choix_joueur == choix_ordi:\n",
    "            print(\"Égalité.\")\n",
    "            return \"egalite\"\n",
    "        elif (\n",
    "            (choix_joueur == \"pierre\" and choix_ordi == \"ciseaux\") or\n",
    "            (choix_joueur == \"papier\" and choix_ordi == \"pierre\") or\n",
    "            (choix_joueur == \"ciseaux\" and choix_ordi == \"papier\")\n",
    "        ):\n",
    "            print(\"Vous gagnez ce tour.\")\n",
    "            self.score_joueur += 1\n",
    "            return \"joueur\"\n",
    "        else:\n",
    "            print(\"L'ordinateur gagne ce tour.\")\n",
    "            self.score_ordi += 1\n",
    "            return \"ordi\"\n",
    "\n",
    "    def jouer(self):\n",
    "        # Boucle de jeu principale\n",
    "        while True:\n",
    "            self.jouer_tour()\n",
    "            rejouer = input(\"Voulez-vous rejouer ? (o/n) : \").lower()\n",
    "            if rejouer != \"o\":\n",
    "                print(f\"Score final - Joueur : {self.score_joueur}, Ordi : {self.score_ordi}\")\n",
    "                print(\"Merci d'avoir joué !\")\n",
    "                break\n"
   ]
  },
  {
   "cell_type": "code",
   "execution_count": 6,
   "id": "66bb01e9",
   "metadata": {},
   "outputs": [
    {
     "ename": "ModuleNotFoundError",
     "evalue": "No module named 'jeu'",
     "output_type": "error",
     "traceback": [
      "\u001b[1;31m---------------------------------------------------------------------------\u001b[0m",
      "\u001b[1;31mModuleNotFoundError\u001b[0m                       Traceback (most recent call last)",
      "Cell \u001b[1;32mIn[6], line 2\u001b[0m\n\u001b[0;32m      1\u001b[0m \u001b[38;5;66;03m# main.py\u001b[39;00m\n\u001b[1;32m----> 2\u001b[0m \u001b[38;5;28;01mfrom\u001b[39;00m\u001b[38;5;250m \u001b[39m\u001b[38;5;21;01mjeu\u001b[39;00m\u001b[38;5;250m \u001b[39m\u001b[38;5;28;01mimport\u001b[39;00m JeuPPC\n\u001b[0;32m      4\u001b[0m \u001b[38;5;66;03m# Création de l'objet jeu et lancement\u001b[39;00m\n\u001b[0;32m      5\u001b[0m jeu \u001b[38;5;241m=\u001b[39m JeuPPC()\n",
      "\u001b[1;31mModuleNotFoundError\u001b[0m: No module named 'jeu'"
     ]
    }
   ],
   "source": [
    "# main.py\n",
    "from jeu import JeuPPC\n",
    "\n",
    "# Création de l'objet jeu et lancement\n",
    "jeu = JeuPPC()\n",
    "jeu.jouer()\n"
   ]
  },
  {
   "cell_type": "code",
   "execution_count": 7,
   "id": "c92900df",
   "metadata": {},
   "outputs": [
    {
     "name": "stdout",
     "output_type": "stream",
     "text": [
      "L'ordinateur a choisi : papier\n",
      "L'ordinateur gagne ce tour.\n",
      "Score final - Joueur : 0, Ordi : 1\n",
      "Merci d'avoir joué !\n"
     ]
    }
   ],
   "source": [
    "import random\n",
    "\n",
    "class JeuPPC:\n",
    "    choix_possibles = [\"pierre\", \"papier\", \"ciseaux\"]\n",
    "\n",
    "    def __init__(self):\n",
    "        self.score_joueur = 0\n",
    "        self.score_ordi = 0\n",
    "\n",
    "    def jouer_tour(self):\n",
    "        choix_joueur = input(\"Choisissez pierre, papier ou ciseaux : \").lower()\n",
    "        if choix_joueur not in self.choix_possibles:\n",
    "            print(\"Choix invalide.\")\n",
    "            return None\n",
    "        choix_ordi = random.choice(self.choix_possibles)\n",
    "        print(f\"L'ordinateur a choisi : {choix_ordi}\")\n",
    "        if choix_joueur == choix_ordi:\n",
    "            print(\"Égalité.\")\n",
    "            return \"egalite\"\n",
    "        elif (\n",
    "            (choix_joueur == \"pierre\" and choix_ordi == \"ciseaux\") or\n",
    "            (choix_joueur == \"papier\" and choix_ordi == \"pierre\") or\n",
    "            (choix_joueur == \"ciseaux\" and choix_ordi == \"papier\")\n",
    "        ):\n",
    "            print(\"Vous gagnez ce tour.\")\n",
    "            self.score_joueur += 1\n",
    "            return \"joueur\"\n",
    "        else:\n",
    "            print(\"L'ordinateur gagne ce tour.\")\n",
    "            self.score_ordi += 1\n",
    "            return \"ordi\"\n",
    "\n",
    "    def jouer(self):\n",
    "        while True:\n",
    "            self.jouer_tour()\n",
    "            rejouer = input(\"Voulez-vous rejouer ? (o/n) : \").lower()\n",
    "            if rejouer != \"o\":\n",
    "                print(f\"Score final - Joueur : {self.score_joueur}, Ordi : {self.score_ordi}\")\n",
    "                print(\"Merci d'avoir joué !\")\n",
    "                break\n",
    "\n",
    "# Lancer le jeu\n",
    "jeu = JeuPPC()\n",
    "jeu.jouer()\n"
   ]
  }
 ],
 "metadata": {
  "kernelspec": {
   "display_name": "base",
   "language": "python",
   "name": "python3"
  },
  "language_info": {
   "codemirror_mode": {
    "name": "ipython",
    "version": 3
   },
   "file_extension": ".py",
   "mimetype": "text/x-python",
   "name": "python",
   "nbconvert_exporter": "python",
   "pygments_lexer": "ipython3",
   "version": "3.12.7"
  }
 },
 "nbformat": 4,
 "nbformat_minor": 5
}
