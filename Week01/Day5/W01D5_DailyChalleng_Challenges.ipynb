{
 "cells": [
  {
   "cell_type": "markdown",
   "id": "ad2645a5",
   "metadata": {},
   "source": [
    "# Daily challenge: Challenges"
   ]
  },
  {
   "cell_type": "markdown",
   "id": "f31c0e51",
   "metadata": {},
   "source": [
    "## Challenge 1 : Sorting\n",
    "\n",
    "\n",
    "Instructions\n",
    "Write a program that accepts a comma separated sequence of words as input and prints the words in a comma-separated sequence after sorting them alphabetically.\n",
    "Use List Comprehension\n",
    "Example:\n",
    "\n",
    "Suppose the following input is supplied to the program: without,hello,bag,world\n",
    "Then, the output should be: bag,hello,without,world"
   ]
  },
  {
   "cell_type": "markdown",
   "id": "f9fb060c",
   "metadata": {},
   "source": [
    "                   DÉBUT\n",
    "                     |\n",
    " Demander à l'utilisateur une séquence de mots séparés par des virgules\n",
    "                     |\n",
    "       Séparer la chaîne sur les virgules (.split(','))\n",
    "                     |\n",
    "      Nettoyer chaque mot avec strip() (list comprehension)\n",
    "                     |\n",
    "              Trier la liste de mots (sorted)\n",
    "                     |\n",
    "        Joindre la liste triée en une chaîne (.join)\n",
    "                     |\n",
    "              Afficher le résultat trié\n",
    "                     |\n",
    "                    FIN\n"
   ]
  },
  {
   "cell_type": "code",
   "execution_count": 2,
   "id": "b26206f6",
   "metadata": {},
   "outputs": [
    {
     "name": "stdout",
     "output_type": "stream",
     "text": [
      "erze,erzerz,ezrzer,sdfsdfs,sdsq,sqds\n"
     ]
    }
   ],
   "source": [
    "# On demande à l'utilisateur une séquence de mots séparés par des virgules\n",
    "mots = input(\"Entrez des mots séparés par des virgules : \")\n",
    "\n",
    "# On utilise list comprehension pour enlever les espaces et créer une liste de mots\n",
    "liste_mots = [mot.strip() for mot in mots.split(',')]\n",
    "\n",
    "# On trie la liste\n",
    "liste_mots_triee = sorted(liste_mots)\n",
    "\n",
    "# On affiche la séquence triée, séparée par des virgules\n",
    "print(','.join(liste_mots_triee))\n"
   ]
  },
  {
   "cell_type": "markdown",
   "id": "acf4f1d2",
   "metadata": {},
   "source": [
    "## Challenge 2 : Longest Word\n",
    "Instructions\n",
    "Write a function that finds the longest word in a sentence. If two or more words are found, return the first longest word.\n",
    "Characters such as apostrophe, comma, period count as part of the word (e.g. O’Connor is 8 characters long).\n",
    "Examples\n",
    "\n",
    "longest_word(\"Margaret's toy is a pretty doll.\") ➞ \"Margaret's\"\n",
    "\n",
    "longest_word(\"A thing of beauty is a joy forever.\") ➞ \"forever.\"\n",
    "\n",
    "longest_word(\"Forgetfulness is by all means powerless!\") ➞ \"Forgetfulness\"\n"
   ]
  },
  {
   "cell_type": "markdown",
   "id": "6744d312",
   "metadata": {},
   "source": [
    "                DÉBUT\n",
    "                  |\n",
    "      Recevoir la phrase en entrée (paramètre)\n",
    "                  |\n",
    "         Séparer la phrase en mots (split)\n",
    "                  |\n",
    " Trouver le mot le plus long avec max() et key=len\n",
    "                  |\n",
    "     Retourner ce mot (le plus long)\n",
    "                  |\n",
    "                 FIN\n"
   ]
  },
  {
   "cell_type": "code",
   "execution_count": 3,
   "id": "8affa840",
   "metadata": {},
   "outputs": [
    {
     "name": "stdout",
     "output_type": "stream",
     "text": [
      "Margaret's\n",
      "forever.\n",
      "Forgetfulness\n"
     ]
    }
   ],
   "source": [
    "def longest_word(sentence):\n",
    "    # On sépare la phrase en mots avec split (les caractères spéciaux restent attachés)\n",
    "    mots = sentence.split()\n",
    "    # On cherche le mot le plus long avec max(), en gardant le premier en cas d'égalité\n",
    "    return max(mots, key=len)\n",
    "\n",
    "# Exemples de test\n",
    "print(longest_word(\"Margaret's toy is a pretty doll.\"))           # Margaret's\n",
    "print(longest_word(\"A thing of beauty is a joy forever.\"))        # forever.\n",
    "print(longest_word(\"Forgetfulness is by all means powerless!\"))   # Forgetfulness\n"
   ]
  }
 ],
 "metadata": {
  "kernelspec": {
   "display_name": "base",
   "language": "python",
   "name": "python3"
  },
  "language_info": {
   "codemirror_mode": {
    "name": "ipython",
    "version": 3
   },
   "file_extension": ".py",
   "mimetype": "text/x-python",
   "name": "python",
   "nbconvert_exporter": "python",
   "pygments_lexer": "ipython3",
   "version": "3.12.8"
  }
 },
 "nbformat": 4,
 "nbformat_minor": 5
}
