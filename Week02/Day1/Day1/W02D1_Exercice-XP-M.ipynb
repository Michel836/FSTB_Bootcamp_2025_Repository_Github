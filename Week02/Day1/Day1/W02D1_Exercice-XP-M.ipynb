{
 "cells": [
  {
   "cell_type": "markdown",
   "id": "beb61d6e",
   "metadata": {},
   "source": [
    "# **Exercices XP**\n",
    "Dernière mise à jour : 4 juin 2025\n",
    "\n",
    "## Ce que nous allons apprendre\n",
    "Concepts fondamentaux et importance de l’analyse des données : Comprendre les bases de l’analyse des données et son importance dans divers contextes contemporains.\n",
    "Différents types de données dans l'analyse des données : apprentissage des types de données qualitatives et quantitatives et comment les identifier dans les ensembles de données.\n",
    "Techniques d'analyse de données de base : acquérir des compétences pratiques pour effectuer des tâches d'analyse de données de base à l'aide d'outils tels que Python, Pandas, Matplotlib et les bibliothèques Seaborn dans un environnement Jupyter Notebook ou Google Colab.\n",
    "\n",
    "\n",
    "## Ce que vous allez créer :\n",
    "Un essai/rapport sur l'analyse des données (exercice 1) : un document écrit qui définit l'analyse des données, discute de son importance et explore ses applications dans le monde d'aujourd'hui.\n",
    "Rapport de classification des types de données (exercice 2) : une analyse détaillée de l'ensemble de données Iris, catégorisant chaque colonne comme qualitative ou quantitative avec des explications.\n",
    "Un cahier d'analyse de données (exercice 3) : un cahier Jupyter complet qui comprend des calculs de mesures statistiques (moyenne, médiane, mode), des visualisations de données (histogrammes, graphiques à barres) et une documentation des résultats, démontrant des compétences de base en analyse de données."
   ]
  },
  {
   "cell_type": "markdown",
   "id": "3802b2b9",
   "metadata": {},
   "source": [
    "## 🌟Exercice 1 : Introduction à l’analyse des données (facile)\n",
    "\n",
    "\n",
    "### Objectif : Comprendre les principes de base et l’importance de l’analyse des données.\n",
    "Tâche:\n",
    "Rédigez un court essai ou un rapport sur les sujets suivants :\n",
    "\n",
    "### Qu'est-ce que l'analyse de données ?\n",
    "Pourquoi l’analyse des données est-elle importante dans les contextes modernes ?\n",
    "Énumérez et décrivez trois domaines dans lesquels l’analyse des données est appliquée aujourd’hui.\n",
    "Astuce/Conseil :\n",
    "\n",
    "### Recherchez les tendances actuelles en matière d’analyse de données et des exemples concrets pour donner de la profondeur à votre essai."
   ]
  },
  {
   "cell_type": "markdown",
   "id": "13ce05bb",
   "metadata": {},
   "source": [
    "**Analyse de données : définition, importance et domaines d’application**\n",
    "\n",
    "L’analyse de données est le processus d’examen, de nettoyage, de transformation et de modélisation des données dans le but de découvrir des informations utiles, d’étayer des conclusions et d’aider à la prise de décision. Elle utilise des techniques statistiques, informatiques et parfois d’intelligence artificielle pour extraire du sens à partir de grandes quantités de données brutes.\n",
    "\n",
    "L’importance de l’analyse de données est devenue capitale dans les contextes modernes, car nous générons d’énormes quantités de données chaque jour (données de consommation, médicales, industrielles, etc.). L’analyse de données permet d’optimiser les opérations, d’anticiper des tendances, de personnaliser des services et de prendre des décisions plus éclairées et rapides. Sans l’analyse des données, il serait impossible de transformer le « big data » en informations réellement utiles et exploitables.\n",
    "\n",
    "Voici trois domaines majeurs où l’analyse de données est aujourd’hui appliquée :\n",
    "\n",
    "1. **Santé** : Les données issues des dossiers médicaux électroniques, des dispositifs connectés ou des essais cliniques sont analysées pour améliorer le diagnostic, la prévention et le suivi des maladies. Par exemple, l’analyse de données peut aider à détecter des épidémies ou à personnaliser les traitements selon le profil du patient.\n",
    "\n",
    "2. **Marketing et commerce en ligne** : Les entreprises analysent les comportements d’achat, la navigation sur les sites, ou les interactions sur les réseaux sociaux pour adapter leurs offres, optimiser leurs campagnes publicitaires et améliorer la satisfaction client. Par exemple, Amazon ou Netflix recommandent des produits ou films grâce à l’analyse des préférences utilisateurs.\n",
    "\n",
    "3. **Finance** : Les institutions financières utilisent l’analyse de données pour détecter les fraudes, gérer les risques, prédire l’évolution des marchés et automatiser les investissements. Les algorithmes de trading automatisé exploitent en temps réel des quantités massives de données financières pour prendre des décisions d’achat ou de vente.\n",
    "\n",
    "En conclusion, l’analyse de données est un pilier essentiel de la transformation numérique actuelle, permettant à tous les secteurs d’être plus efficaces, innovants et compétitifs.\n"
   ]
  },
  {
   "cell_type": "markdown",
   "id": "97d6a3d7",
   "metadata": {},
   "source": [
    "## 🌟Exercice 2 : Chargement de l'ensemble de données et analyse initiale\n",
    "\n",
    "\n",
    "Objectif : Pratiquer le chargement d'un ensemble de données à partir de Kaggle et l'analyse initiale.\n",
    "Tâche:\n",
    "pour l'ensemble de données suivant : Combien d'heures de sommeil les Américains obtiennent-ils réellement ? , Tendances mondiales en matière de troubles de santé mentale et approbations de cartes de crédit .\n",
    "\n",
    "Chargez l’ensemble de données dans Jupyter ou Google Colab.\n",
    "Afficher les premières lignes.\n",
    "Fournissez une brève description de l’ensemble de données."
   ]
  },
  {
   "cell_type": "code",
   "execution_count": 42,
   "id": "dd5e9897",
   "metadata": {},
   "outputs": [
    {
     "name": "stdout",
     "output_type": "stream",
     "text": [
      ">>> sleep.csv\n",
      "   index  Year  Period  Avg hrs per day sleeping  Standard Error Type of Days  \\\n",
      "0      0  2003  Annual                      8.57           0.018     All days   \n",
      "1      1  2004  Annual                      8.55           0.026     All days   \n",
      "2      2  2005  Annual                      8.62           0.023     All days   \n",
      "3      3  2006  Annual                      8.63           0.024     All days   \n",
      "4      4  2007  Annual                      8.57           0.024     All days   \n",
      "\n",
      "           Age Group  Activity   Sex  \n",
      "0  15 years and over  Sleeping  Both  \n",
      "1  15 years and over  Sleeping  Both  \n",
      "2  15 years and over  Sleeping  Both  \n",
      "3  15 years and over  Sleeping  Both  \n",
      "4  15 years and over  Sleeping  Both  \n",
      "\n",
      ">>> Mental health Depression disorder Data.csv\n",
      "   index       Entity Code  Year Schizophrenia (%) Bipolar disorder (%)  \\\n",
      "0      0  Afghanistan  AFG  1990           0.16056             0.697779   \n",
      "1      1  Afghanistan  AFG  1991          0.160312             0.697961   \n",
      "2      2  Afghanistan  AFG  1992          0.160135             0.698107   \n",
      "3      3  Afghanistan  AFG  1993          0.160037             0.698257   \n",
      "4      4  Afghanistan  AFG  1994          0.160022             0.698469   \n",
      "\n",
      "  Eating disorders (%)  Anxiety disorders (%)  Drug use disorders (%)  \\\n",
      "0             0.101855               4.828830                1.677082   \n",
      "1             0.099313               4.829740                1.684746   \n",
      "2             0.096692               4.831108                1.694334   \n",
      "3             0.094336               4.830864                1.705320   \n",
      "4             0.092439               4.829423                1.716069   \n",
      "\n",
      "   Depression (%)  Alcohol use disorders (%)  \n",
      "0        4.071831                   0.672404  \n",
      "1        4.079531                   0.671768  \n",
      "2        4.088358                   0.670644  \n",
      "3        4.096190                   0.669738  \n",
      "4        4.099582                   0.669260  \n",
      "\n",
      ">>> crx.csv\n",
      "   b  30.83      0  u  g  w  v  1.25  t t.1  01  f g.1  00202  0.1  +\n",
      "0  a  58.67  4.460  u  g  q  h  3.04  t   t   6  f   g  00043  560  +\n",
      "1  a  24.50  0.500  u  g  q  h  1.50  t   f   0  f   g  00280  824  +\n",
      "2  b  27.83  1.540  u  g  w  v  3.75  t   t   5  t   g  00100    3  +\n",
      "3  b  20.17  5.625  u  g  w  v  1.71  t   f   0  f   s  00120    0  +\n",
      "4  b  32.08  4.000  u  g  m  v  2.50  t   f   0  t   g  00360    0  +\n"
     ]
    },
    {
     "name": "stderr",
     "output_type": "stream",
     "text": [
      "C:\\Users\\chume\\AppData\\Local\\Temp\\ipykernel_24912\\1980251009.py:9: DtypeWarning: Columns (5,6) have mixed types. Specify dtype option on import or set low_memory=False.\n",
      "  mental_df = pd.read_csv(\"MEntal health Depression disorder Data.csv\")\n"
     ]
    }
   ],
   "source": [
    "import pandas as pd\n",
    "\n",
    "# Chargement et affichage du fichier sleep.csv\n",
    "sleep_df = pd.read_csv(\"sleep.csv\")\n",
    "print(\">>> sleep.csv\")\n",
    "print(sleep_df.head())\n",
    "\n",
    "# Chargement et affichage du fichier Mental_health_disorder_Data.csv\n",
    "mental_df = pd.read_csv(\"MEntal health Depression disorder Data.csv\")\n",
    "print(\"\\n>>> Mental health Depression disorder Data.csv\")\n",
    "print(mental_df.head())\n",
    "\n",
    "# Chargement et affichage du fichier crx.csv\n",
    "crx_df = pd.read_csv(\"crx.csv\")\n",
    "print(\"\\n>>> crx.csv\")\n",
    "print(crx_df.head())"
   ]
  },
  {
   "cell_type": "markdown",
   "id": "c1267d24",
   "metadata": {},
   "source": [
    "## 🌟Exercice 3 : Identification des types de données\n",
    "\n",
    "\n",
    "Objectif : Apprendre à identifier les différents types de données.\n",
    "Tâche:\n",
    "Pour les ensembles de données de l’exercice précédent, catégorisez chaque colonne comme quantitative ou qualitative et expliquez votre raisonnement.\n",
    "\n"
   ]
  },
  {
   "cell_type": "code",
   "execution_count": 43,
   "id": "069ecaf2",
   "metadata": {},
   "outputs": [
    {
     "name": "stdout",
     "output_type": "stream",
     "text": [
      ">>> Types de données bruts :\n",
      "Id                 int64\n",
      "SepalLengthCm    float64\n",
      "SepalWidthCm     float64\n",
      "PetalLengthCm    float64\n",
      "PetalWidthCm     float64\n",
      "Species           object\n",
      "dtype: object\n",
      "\n",
      ">>> Catégorisation avec explication :\n",
      "- Id : Quantitative → (valeurs numériques mesurables)\n",
      "- SepalLengthCm : Quantitative → (valeurs numériques mesurables)\n",
      "- SepalWidthCm : Quantitative → (valeurs numériques mesurables)\n",
      "- PetalLengthCm : Quantitative → (valeurs numériques mesurables)\n",
      "- PetalWidthCm : Quantitative → (valeurs numériques mesurables)\n",
      "- Species : Qualitative → (valeurs catégorielles ou textuelles)\n"
     ]
    }
   ],
   "source": [
    "import pandas as pd\n",
    "\n",
    "# Chargement du fichier CSV\n",
    "df = pd.read_csv(r\"C:\\Users\\chume\\Desktop\\iris.csv\")\n",
    "\n",
    "# Affichage des types de données de base\n",
    "print(\">>> Types de données bruts :\")\n",
    "print(df.dtypes)\n",
    "\n",
    "print(\"\\n>>> Catégorisation avec explication :\")\n",
    "\n",
    "# Fonction de catégorisation avec justification\n",
    "def categorize_column(col_name, dtype):\n",
    "    if pd.api.types.is_numeric_dtype(dtype):\n",
    "        category = \"Quantitative\"\n",
    "        reason = \"valeurs numériques mesurables\"\n",
    "    else:\n",
    "        category = \"Qualitative\"\n",
    "        reason = \"valeurs catégorielles ou textuelles\"\n",
    "    print(f\"- {col_name} : {category} → ({reason})\")\n",
    "\n",
    "# Application à chaque colonne\n",
    "for col in df.columns:\n",
    "    dtype = df[col].dtype\n",
    "    categorize_column(col, dtype)\n",
    "\n"
   ]
  },
  {
   "cell_type": "markdown",
   "id": "f01fc217",
   "metadata": {},
   "source": [
    "## Exercice 4 : Explorer les types de données\n",
    "\n",
    "\n",
    "### Objectif : Découvrir les différents types de données dans l’analyse de données.\n",
    "Tâche:\n",
    "\n",
    "#### Chargez l' ensemble de données Iris à l'aide de Kaggle dans un bloc-notes Jupyter ou un bloc-notes Google Colaboratory.\n",
    "\n",
    "#### Identifiez et répertoriez les colonnes de votre ensemble de données qui sont qualitatives et celles qui sont quantitatives.\n",
    "\n",
    "#### Rédigez une brève description expliquant pourquoi chaque colonne est classée comme qualitative ou quantitative.\n",
    "Outils : Jupyter Notebook, Python avec la bibliothèque Pandas."
   ]
  },
  {
   "cell_type": "code",
   "execution_count": 45,
   "id": "7813de43",
   "metadata": {},
   "outputs": [
    {
     "name": "stdout",
     "output_type": "stream",
     "text": [
      "   Id  SepalLengthCm  SepalWidthCm  PetalLengthCm  PetalWidthCm      Species\n",
      "0   1            5.1           3.5            1.4           0.2  Iris-setosa\n",
      "1   2            4.9           3.0            1.4           0.2  Iris-setosa\n",
      "2   3            4.7           3.2            1.3           0.2  Iris-setosa\n",
      "3   4            4.6           3.1            1.5           0.2  Iris-setosa\n",
      "4   5            5.0           3.6            1.4           0.2  Iris-setosa\n",
      "Colonnes : ['Id', 'SepalLengthCm', 'SepalWidthCm', 'PetalLengthCm', 'PetalWidthCm', 'Species']\n"
     ]
    }
   ],
   "source": [
    "import pandas as pd\n",
    "\n",
    "# Charger le jeu de données Iris (le nom exact peut varier, par exemple \"Iris.csv\" ou \"iris.csv\")\n",
    "df = pd.read_csv(\"iris.csv\")\n",
    "\n",
    "# Afficher les premières lignes\n",
    "print(df.head())\n",
    "\n",
    "# Afficher les noms des colonnes\n",
    "print(\"Colonnes :\", df.columns.tolist())\n"
   ]
  },
  {
   "cell_type": "markdown",
   "id": "01c1562c",
   "metadata": {},
   "source": [
    "## 🌟Exercice 5 : Analyse de données de base avec Google Colab\n",
    "\n",
    "\n",
    "Objectif : Effectuer une analyse de données de base à l'aide de Google Colab.\n",
    "Tâche:\n",
    "\n",
    "En utilisant le même bloc-notes que celui de l'exercice précédent, effectuez des tâches d'analyse de données de base :\n",
    "\n",
    "Calculez la moyenne, la médiane et le mode d'une colonne quantitative.\n",
    "\n",
    "Créez un tracé simple (comme un histogramme ou un graphique à barres) pour visualiser les données à l'aide des bibliothèques Matplotlib/Seaborn :\n",
    "\n",
    "import matplotlib.pyplot as plt\n",
    "plt.plot(data['Name_column1'], data['Name_column2'])\n",
    "plt.show()\n",
    "\n",
    "Documentez vos découvertes dans le cahier.\n",
    "Outils : Google Colab, Python avec les bibliothèques Pandas et Matplotlib/Seaborn."
   ]
  },
  {
   "cell_type": "code",
   "execution_count": 7,
   "id": "b83ac77b",
   "metadata": {},
   "outputs": [
    {
     "name": "stdout",
     "output_type": "stream",
     "text": [
      "   Id  SepalLengthCm  SepalWidthCm  PetalLengthCm  PetalWidthCm      Species\n",
      "0   1            5.1           3.5            1.4           0.2  Iris-setosa\n",
      "1   2            4.9           3.0            1.4           0.2  Iris-setosa\n",
      "2   3            4.7           3.2            1.3           0.2  Iris-setosa\n",
      "3   4            4.6           3.1            1.5           0.2  Iris-setosa\n",
      "4   5            5.0           3.6            1.4           0.2  Iris-setosa\n"
     ]
    }
   ],
   "source": [
    "import pandas as pd\n",
    "\n",
    "df = pd.read_csv(\"Iris.csv\")\n",
    "print(df.head())"
   ]
  },
  {
   "cell_type": "code",
   "execution_count": 8,
   "id": "c486afb3",
   "metadata": {},
   "outputs": [
    {
     "name": "stdout",
     "output_type": "stream",
     "text": [
      "Moyenne : 5.843333333333334\n",
      "Médiane : 5.8\n",
      "Mode : 5.0\n"
     ]
    }
   ],
   "source": [
    "# Moyenne, médiane, mode\n",
    "mean = df['SepalLengthCm'].mean()\n",
    "median = df['SepalLengthCm'].median()\n",
    "mode = df['SepalLengthCm'].mode()[0]\n",
    "\n",
    "print(\"Moyenne :\", mean)\n",
    "print(\"Médiane :\", median)\n",
    "print(\"Mode :\", mode)"
   ]
  },
  {
   "cell_type": "code",
   "execution_count": 15,
   "id": "0bcf11e2",
   "metadata": {},
   "outputs": [
    {
     "name": "stdout",
     "output_type": "stream",
     "text": [
      "Collecting matplotlib\n",
      "  Downloading matplotlib-3.10.3-cp312-cp312-win_amd64.whl.metadata (11 kB)\n",
      "Collecting contourpy>=1.0.1 (from matplotlib)\n",
      "  Downloading contourpy-1.3.2-cp312-cp312-win_amd64.whl.metadata (5.5 kB)\n",
      "Collecting cycler>=0.10 (from matplotlib)\n",
      "  Downloading cycler-0.12.1-py3-none-any.whl.metadata (3.8 kB)\n",
      "Collecting fonttools>=4.22.0 (from matplotlib)\n",
      "  Downloading fonttools-4.58.4-cp312-cp312-win_amd64.whl.metadata (108 kB)\n",
      "Collecting kiwisolver>=1.3.1 (from matplotlib)\n",
      "  Downloading kiwisolver-1.4.8-cp312-cp312-win_amd64.whl.metadata (6.3 kB)\n",
      "Requirement already satisfied: numpy>=1.23 in c:\\users\\chume\\appdata\\roaming\\python\\python312\\site-packages (from matplotlib) (2.3.0)\n",
      "Requirement already satisfied: packaging>=20.0 in c:\\users\\chume\\appdata\\roaming\\python\\python312\\site-packages (from matplotlib) (24.1)\n",
      "Collecting pillow>=8 (from matplotlib)\n",
      "  Downloading pillow-11.2.1-cp312-cp312-win_amd64.whl.metadata (9.1 kB)\n",
      "Collecting pyparsing>=2.3.1 (from matplotlib)\n",
      "  Downloading pyparsing-3.2.3-py3-none-any.whl.metadata (5.0 kB)\n",
      "Requirement already satisfied: python-dateutil>=2.7 in c:\\users\\chume\\appdata\\roaming\\python\\python312\\site-packages (from matplotlib) (2.9.0.post0)\n",
      "Requirement already satisfied: six>=1.5 in c:\\users\\chume\\appdata\\roaming\\python\\python312\\site-packages (from python-dateutil>=2.7->matplotlib) (1.16.0)\n",
      "Downloading matplotlib-3.10.3-cp312-cp312-win_amd64.whl (8.1 MB)\n",
      "   ---------------------------------------- 0.0/8.1 MB ? eta -:--:--\n",
      "   ------------------ --------------------- 3.7/8.1 MB 18.2 MB/s eta 0:00:01\n",
      "   ------------------------------------- -- 7.6/8.1 MB 18.8 MB/s eta 0:00:01\n",
      "   ---------------------------------------- 8.1/8.1 MB 17.9 MB/s eta 0:00:00\n",
      "Downloading contourpy-1.3.2-cp312-cp312-win_amd64.whl (223 kB)\n",
      "Downloading cycler-0.12.1-py3-none-any.whl (8.3 kB)\n",
      "Downloading fonttools-4.58.4-cp312-cp312-win_amd64.whl (2.2 MB)\n",
      "   ---------------------------------------- 0.0/2.2 MB ? eta -:--:--\n",
      "   ---------------------------------------- 2.2/2.2 MB 15.8 MB/s eta 0:00:00\n",
      "Downloading kiwisolver-1.4.8-cp312-cp312-win_amd64.whl (71 kB)\n",
      "Downloading pillow-11.2.1-cp312-cp312-win_amd64.whl (2.7 MB)\n",
      "   ---------------------------------------- 0.0/2.7 MB ? eta -:--:--\n",
      "   ---------------------------------------- 2.7/2.7 MB 17.2 MB/s eta 0:00:00\n",
      "Downloading pyparsing-3.2.3-py3-none-any.whl (111 kB)\n",
      "Installing collected packages: pyparsing, pillow, kiwisolver, fonttools, cycler, contourpy, matplotlib\n",
      "Successfully installed contourpy-1.3.2 cycler-0.12.1 fonttools-4.58.4 kiwisolver-1.4.8 matplotlib-3.10.3 pillow-11.2.1 pyparsing-3.2.3\n",
      "Note: you may need to restart the kernel to use updated packages.\n"
     ]
    },
    {
     "name": "stderr",
     "output_type": "stream",
     "text": [
      "  WARNING: The scripts fonttools.exe, pyftmerge.exe, pyftsubset.exe and ttx.exe are installed in 'C:\\Users\\chume\\AppData\\Roaming\\Python\\Python312\\Scripts' which is not on PATH.\n",
      "  Consider adding this directory to PATH or, if you prefer to suppress this warning, use --no-warn-script-location.\n"
     ]
    }
   ],
   "source": [
    "pip install --user matplotlib\n"
   ]
  },
  {
   "cell_type": "code",
   "execution_count": 19,
   "id": "098830f1",
   "metadata": {},
   "outputs": [],
   "source": [
    "import matplotlib.pyplot as plt\n"
   ]
  },
  {
   "cell_type": "code",
   "execution_count": 21,
   "id": "ce93e4fd",
   "metadata": {},
   "outputs": [
    {
     "name": "stderr",
     "output_type": "stream",
     "text": [
      "Acc�s refus�.\n"
     ]
    }
   ],
   "source": [
    "!pip import seaborn as sb"
   ]
  },
  {
   "cell_type": "code",
   "execution_count": 22,
   "id": "5c48a47f",
   "metadata": {},
   "outputs": [
    {
     "name": "stdout",
     "output_type": "stream",
     "text": [
      "Collecting seaborn\n",
      "  Downloading seaborn-0.13.2-py3-none-any.whl.metadata (5.4 kB)\n",
      "Requirement already satisfied: numpy!=1.24.0,>=1.20 in c:\\users\\chume\\appdata\\roaming\\python\\python312\\site-packages (from seaborn) (2.3.0)\n",
      "Requirement already satisfied: pandas>=1.2 in c:\\users\\chume\\appdata\\roaming\\python\\python312\\site-packages (from seaborn) (2.3.0)\n",
      "Requirement already satisfied: matplotlib!=3.6.1,>=3.4 in c:\\users\\chume\\appdata\\roaming\\python\\python312\\site-packages (from seaborn) (3.10.3)\n",
      "Requirement already satisfied: contourpy>=1.0.1 in c:\\users\\chume\\appdata\\roaming\\python\\python312\\site-packages (from matplotlib!=3.6.1,>=3.4->seaborn) (1.3.2)\n",
      "Requirement already satisfied: cycler>=0.10 in c:\\users\\chume\\appdata\\roaming\\python\\python312\\site-packages (from matplotlib!=3.6.1,>=3.4->seaborn) (0.12.1)\n",
      "Requirement already satisfied: fonttools>=4.22.0 in c:\\users\\chume\\appdata\\roaming\\python\\python312\\site-packages (from matplotlib!=3.6.1,>=3.4->seaborn) (4.58.4)\n",
      "Requirement already satisfied: kiwisolver>=1.3.1 in c:\\users\\chume\\appdata\\roaming\\python\\python312\\site-packages (from matplotlib!=3.6.1,>=3.4->seaborn) (1.4.8)\n",
      "Requirement already satisfied: packaging>=20.0 in c:\\users\\chume\\appdata\\roaming\\python\\python312\\site-packages (from matplotlib!=3.6.1,>=3.4->seaborn) (24.1)\n",
      "Requirement already satisfied: pillow>=8 in c:\\users\\chume\\appdata\\roaming\\python\\python312\\site-packages (from matplotlib!=3.6.1,>=3.4->seaborn) (11.2.1)\n",
      "Requirement already satisfied: pyparsing>=2.3.1 in c:\\users\\chume\\appdata\\roaming\\python\\python312\\site-packages (from matplotlib!=3.6.1,>=3.4->seaborn) (3.2.3)\n",
      "Requirement already satisfied: python-dateutil>=2.7 in c:\\users\\chume\\appdata\\roaming\\python\\python312\\site-packages (from matplotlib!=3.6.1,>=3.4->seaborn) (2.9.0.post0)\n",
      "Requirement already satisfied: pytz>=2020.1 in c:\\users\\chume\\appdata\\roaming\\python\\python312\\site-packages (from pandas>=1.2->seaborn) (2025.2)\n",
      "Requirement already satisfied: tzdata>=2022.7 in c:\\users\\chume\\appdata\\roaming\\python\\python312\\site-packages (from pandas>=1.2->seaborn) (2025.2)\n",
      "Requirement already satisfied: six>=1.5 in c:\\users\\chume\\appdata\\roaming\\python\\python312\\site-packages (from python-dateutil>=2.7->matplotlib!=3.6.1,>=3.4->seaborn) (1.16.0)\n",
      "Downloading seaborn-0.13.2-py3-none-any.whl (294 kB)\n",
      "Installing collected packages: seaborn\n",
      "Successfully installed seaborn-0.13.2\n",
      "Note: you may need to restart the kernel to use updated packages.\n"
     ]
    }
   ],
   "source": [
    "pip install --user seaborn"
   ]
  },
  {
   "cell_type": "code",
   "execution_count": 23,
   "id": "e34e2333",
   "metadata": {},
   "outputs": [],
   "source": [
    "import matplotlib as plt\n",
    "\n",
    "import seaborn as sns"
   ]
  },
  {
   "cell_type": "code",
   "execution_count": 24,
   "id": "2dff6eb3",
   "metadata": {},
   "outputs": [],
   "source": [
    "import seaborn as sns"
   ]
  },
  {
   "cell_type": "code",
   "execution_count": 25,
   "id": "d5dfad99",
   "metadata": {},
   "outputs": [
    {
     "data": {
      "image/png": "[encoded data removed]",
      "text/plain": [
       "<Figure size 800x500 with 1 Axes>"
      ]
     },
     "metadata": {},
     "output_type": "display_data"
    }
   ],
   "source": [
    "import matplotlib.pyplot as plt\n",
    "import seaborn as sns\n",
    "\n",
    "plt.figure(figsize=(8, 5))\n",
    "sns.histplot(df['SepalLengthCm'], bins=10, kde=True)\n",
    "plt.title(\"Histogramme de SepalLengthCm\")\n",
    "plt.xlabel(\"SepalLengthCm\")\n",
    "plt.ylabel(\"Fréquence\")\n",
    "plt.show()\n"
   ]
  },
  {
   "cell_type": "markdown",
   "id": "d209ab42",
   "metadata": {},
   "source": [
    "## 🌟Exercice 6 : Compétences d’observation de base dans l’analyse des données\n",
    "\n",
    "\n",
    "Objectif : Développer des compétences d’observation pour l’analyse des données.\n",
    "Tâche:\n",
    "Chargez l' ensemble de données « Combien d'heures de sommeil les Américains obtiennent-ils réellement ? » dans Jupyter ou Google Colab.\n",
    "Identifiez les colonnes susceptibles d'être intéressantes pour un type d'analyse spécifique (par exemple, analyse de tendance, comparaison de groupes) et expliquez votre choix.\n",
    "Outils : Jupyter Notebook, Python avec la bibliothèque Pandas.\n"
   ]
  },
  {
   "cell_type": "code",
   "execution_count": 2,
   "id": "432d0f75",
   "metadata": {},
   "outputs": [
    {
     "name": "stdout",
     "output_type": "stream",
     "text": [
      "   index  Year  Period  Avg hrs per day sleeping  Standard Error Type of Days  \\\n",
      "0      0  2003  Annual                      8.57           0.018     All days   \n",
      "1      1  2004  Annual                      8.55           0.026     All days   \n",
      "2      2  2005  Annual                      8.62           0.023     All days   \n",
      "3      3  2006  Annual                      8.63           0.024     All days   \n",
      "4      4  2007  Annual                      8.57           0.024     All days   \n",
      "\n",
      "           Age Group  Activity   Sex  \n",
      "0  15 years and over  Sleeping  Both  \n",
      "1  15 years and over  Sleeping  Both  \n",
      "2  15 years and over  Sleeping  Both  \n",
      "3  15 years and over  Sleeping  Both  \n",
      "4  15 years and over  Sleeping  Both  \n",
      "Colonnes : ['index', 'Year', 'Period', 'Avg hrs per day sleeping', 'Standard Error', 'Type of Days', 'Age Group', 'Activity', 'Sex']\n"
     ]
    }
   ],
   "source": [
    "import pandas as pd\n",
    "\n",
    "# Chargement du jeu de données\n",
    "df = pd.read_csv(\"sleep_data.csv\")\n",
    "\n",
    "# Affichage des premières lignes et des colonnes pour observation\n",
    "print(df.head())\n",
    "print(\"Colonnes :\", df.columns.tolist())\n"
   ]
  },
  {
   "cell_type": "markdown",
   "id": "a420a271",
   "metadata": {},
   "source": [
    "## Analyse des colonnes intéressantes :\n",
    "\n",
    "### Colonnes pertinentes pour une analyse :\n",
    "\n",
    "1. **`Year`** : pour une **analyse de tendance** de la durée moyenne de sommeil au fil des années.\n",
    "2. **`Avg hrs per day sleeping`** : **variable principale** à analyser (valeur mesurée).\n",
    "3. **`Standard Error`** : utile pour évaluer la **fiabilité/statistical significance** des moyennes.\n",
    "4. **`Sex`** : pour une **comparaison homme/femme**.\n",
    "5. **`Type of Days`** : pour différencier **jours de semaine vs week-ends** (si autres valeurs présentes).\n",
    "6. **`Age Group`** : pour une **analyse par tranche d’âge**.\n",
    "\n",
    "### Justification :\n",
    "\n",
    "Ces colonnes permettent :\n",
    "\n",
    "* d’étudier l’évolution du sommeil dans le temps (`Year`)\n",
    "* de comparer des sous-groupes (`Sex`, `Age Group`, `Type of Days`)\n",
    "* de mesurer la précision des données (`Standard Error`)\n",
    "\n"
   ]
  }
 ],
 "metadata": {
  "kernelspec": {
   "display_name": "base",
   "language": "python",
   "name": "python3"
  },
  "language_info": {
   "codemirror_mode": {
    "name": "ipython",
    "version": 3
   },
   "file_extension": ".py",
   "mimetype": "text/x-python",
   "name": "python",
   "nbconvert_exporter": "python",
   "pygments_lexer": "ipython3",
   "version": "3.12.8"
  }
 },
 "nbformat": 4,
 "nbformat_minor": 5
}
