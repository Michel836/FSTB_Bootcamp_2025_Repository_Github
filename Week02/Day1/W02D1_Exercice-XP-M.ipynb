{
 "cells": [
  {
   "cell_type": "markdown",
   "id": "beb61d6e",
   "metadata": {},
   "source": [
    "# Exercices XP\n",
    "Dernière mise à jour : 4 juin 2025\n",
    "\n",
    "## Ce que nous allons apprendre\n",
    "Concepts fondamentaux et importance de l’analyse des données : Comprendre les bases de l’analyse des données et son importance dans divers contextes contemporains.\n",
    "Différents types de données dans l'analyse des données : apprentissage des types de données qualitatives et quantitatives et comment les identifier dans les ensembles de données.\n",
    "Techniques d'analyse de données de base : acquérir des compétences pratiques pour effectuer des tâches d'analyse de données de base à l'aide d'outils tels que Python, Pandas, Matplotlib et les bibliothèques Seaborn dans un environnement Jupyter Notebook ou Google Colab.\n",
    "\n",
    "\n",
    "## e que vous allez créer :\n",
    "Un essai/rapport sur l'analyse des données (exercice 1) : un document écrit qui définit l'analyse des données, discute de son importance et explore ses applications dans le monde d'aujourd'hui.\n",
    "Rapport de classification des types de données (exercice 2) : une analyse détaillée de l'ensemble de données Iris, catégorisant chaque colonne comme qualitative ou quantitative avec des explications.\n",
    "Un cahier d'analyse de données (exercice 3) : un cahier Jupyter complet qui comprend des calculs de mesures statistiques (moyenne, médiane, mode), des visualisations de données (histogrammes, graphiques à barres) et une documentation des résultats, démontrant des compétences de base en analyse de données."
   ]
  },
  {
   "cell_type": "markdown",
   "id": "3802b2b9",
   "metadata": {},
   "source": [
    "## 🌟Exercice 1 : Introduction à l’analyse des données (facile)\n",
    "\n",
    "\n",
    "### Objectif : Comprendre les principes de base et l’importance de l’analyse des données.\n",
    "Tâche:\n",
    "Rédigez un court essai ou un rapport sur les sujets suivants :\n",
    "\n",
    "### Qu'est-ce que l'analyse de données ?\n",
    "Pourquoi l’analyse des données est-elle importante dans les contextes modernes ?\n",
    "Énumérez et décrivez trois domaines dans lesquels l’analyse des données est appliquée aujourd’hui.\n",
    "Astuce/Conseil :\n",
    "\n",
    "### Recherchez les tendances actuelles en matière d’analyse de données et des exemples concrets pour donner de la profondeur à votre essai."
   ]
  },
  {
   "cell_type": "markdown",
   "id": "13ce05bb",
   "metadata": {},
   "source": [
    "**Analyse de données : définition, importance et domaines d’application**\n",
    "\n",
    "L’analyse de données est le processus d’examen, de nettoyage, de transformation et de modélisation des données dans le but de découvrir des informations utiles, d’étayer des conclusions et d’aider à la prise de décision. Elle utilise des techniques statistiques, informatiques et parfois d’intelligence artificielle pour extraire du sens à partir de grandes quantités de données brutes.\n",
    "\n",
    "L’importance de l’analyse de données est devenue capitale dans les contextes modernes, car nous générons d’énormes quantités de données chaque jour (données de consommation, médicales, industrielles, etc.). L’analyse de données permet d’optimiser les opérations, d’anticiper des tendances, de personnaliser des services et de prendre des décisions plus éclairées et rapides. Sans l’analyse des données, il serait impossible de transformer le « big data » en informations réellement utiles et exploitables.\n",
    "\n",
    "Voici trois domaines majeurs où l’analyse de données est aujourd’hui appliquée :\n",
    "\n",
    "1. **Santé** : Les données issues des dossiers médicaux électroniques, des dispositifs connectés ou des essais cliniques sont analysées pour améliorer le diagnostic, la prévention et le suivi des maladies. Par exemple, l’analyse de données peut aider à détecter des épidémies ou à personnaliser les traitements selon le profil du patient.\n",
    "\n",
    "2. **Marketing et commerce en ligne** : Les entreprises analysent les comportements d’achat, la navigation sur les sites, ou les interactions sur les réseaux sociaux pour adapter leurs offres, optimiser leurs campagnes publicitaires et améliorer la satisfaction client. Par exemple, Amazon ou Netflix recommandent des produits ou films grâce à l’analyse des préférences utilisateurs.\n",
    "\n",
    "3. **Finance** : Les institutions financières utilisent l’analyse de données pour détecter les fraudes, gérer les risques, prédire l’évolution des marchés et automatiser les investissements. Les algorithmes de trading automatisé exploitent en temps réel des quantités massives de données financières pour prendre des décisions d’achat ou de vente.\n",
    "\n",
    "En conclusion, l’analyse de données est un pilier essentiel de la transformation numérique actuelle, permettant à tous les secteurs d’être plus efficaces, innovants et compétitifs.\n"
   ]
  },
  {
   "cell_type": "markdown",
   "id": "97d6a3d7",
   "metadata": {},
   "source": [
    "## 🌟Exercice 2 : Chargement de l'ensemble de données et analyse initiale\n",
    "\n",
    "\n",
    "Objectif : Pratiquer le chargement d'un ensemble de données à partir de Kaggle et l'analyse initiale.\n",
    "Tâche:\n",
    "pour l'ensemble de données suivant : Combien d'heures de sommeil les Américains obtiennent-ils réellement ? , Tendances mondiales en matière de troubles de santé mentale et approbations de cartes de crédit .\n",
    "\n",
    "Chargez l’ensemble de données dans Jupyter ou Google Colab.\n",
    "Afficher les premières lignes.\n",
    "Fournissez une brève description de l’ensemble de données."
   ]
  },
  {
   "cell_type": "code",
   "execution_count": 2,
   "id": "ac800ea0",
   "metadata": {},
   "outputs": [
    {
     "ename": "FileNotFoundError",
     "evalue": "[Errno 2] No such file or directory: 'sleep.csv'",
     "output_type": "error",
     "traceback": [
      "\u001b[1;31m---------------------------------------------------------------------------\u001b[0m",
      "\u001b[1;31mFileNotFoundError\u001b[0m                         Traceback (most recent call last)",
      "Cell \u001b[1;32mIn[2], line 5\u001b[0m\n\u001b[0;32m      2\u001b[0m \u001b[38;5;28;01mimport\u001b[39;00m\u001b[38;5;250m \u001b[39m\u001b[38;5;21;01mpandas\u001b[39;00m\u001b[38;5;250m \u001b[39m\u001b[38;5;28;01mas\u001b[39;00m\u001b[38;5;250m \u001b[39m\u001b[38;5;21;01mpd\u001b[39;00m\n\u001b[0;32m      4\u001b[0m \u001b[38;5;66;03m# 2. Chargement du fichier CSV (à adapter avec le chemin correct si besoin)\u001b[39;00m\n\u001b[1;32m----> 5\u001b[0m df \u001b[38;5;241m=\u001b[39m pd\u001b[38;5;241m.\u001b[39mread_csv(\u001b[38;5;124m\"\u001b[39m\u001b[38;5;124msleep.csv\u001b[39m\u001b[38;5;124m\"\u001b[39m)  \u001b[38;5;66;03m# Remplacez par le vrai nom du fichier si besoin\u001b[39;00m\n\u001b[0;32m      7\u001b[0m \u001b[38;5;66;03m# 3. Affichage des premières lignes de l'ensemble de données\u001b[39;00m\n\u001b[0;32m      8\u001b[0m \u001b[38;5;28mprint\u001b[39m(df\u001b[38;5;241m.\u001b[39mhead())\n",
      "File \u001b[1;32mc:\\ProgramData\\anaconda3\\Lib\\site-packages\\pandas\\io\\parsers\\readers.py:1026\u001b[0m, in \u001b[0;36mread_csv\u001b[1;34m(filepath_or_buffer, sep, delimiter, header, names, index_col, usecols, dtype, engine, converters, true_values, false_values, skipinitialspace, skiprows, skipfooter, nrows, na_values, keep_default_na, na_filter, verbose, skip_blank_lines, parse_dates, infer_datetime_format, keep_date_col, date_parser, date_format, dayfirst, cache_dates, iterator, chunksize, compression, thousands, decimal, lineterminator, quotechar, quoting, doublequote, escapechar, comment, encoding, encoding_errors, dialect, on_bad_lines, delim_whitespace, low_memory, memory_map, float_precision, storage_options, dtype_backend)\u001b[0m\n\u001b[0;32m   1013\u001b[0m kwds_defaults \u001b[38;5;241m=\u001b[39m _refine_defaults_read(\n\u001b[0;32m   1014\u001b[0m     dialect,\n\u001b[0;32m   1015\u001b[0m     delimiter,\n\u001b[1;32m   (...)\u001b[0m\n\u001b[0;32m   1022\u001b[0m     dtype_backend\u001b[38;5;241m=\u001b[39mdtype_backend,\n\u001b[0;32m   1023\u001b[0m )\n\u001b[0;32m   1024\u001b[0m kwds\u001b[38;5;241m.\u001b[39mupdate(kwds_defaults)\n\u001b[1;32m-> 1026\u001b[0m \u001b[38;5;28;01mreturn\u001b[39;00m _read(filepath_or_buffer, kwds)\n",
      "File \u001b[1;32mc:\\ProgramData\\anaconda3\\Lib\\site-packages\\pandas\\io\\parsers\\readers.py:620\u001b[0m, in \u001b[0;36m_read\u001b[1;34m(filepath_or_buffer, kwds)\u001b[0m\n\u001b[0;32m    617\u001b[0m _validate_names(kwds\u001b[38;5;241m.\u001b[39mget(\u001b[38;5;124m\"\u001b[39m\u001b[38;5;124mnames\u001b[39m\u001b[38;5;124m\"\u001b[39m, \u001b[38;5;28;01mNone\u001b[39;00m))\n\u001b[0;32m    619\u001b[0m \u001b[38;5;66;03m# Create the parser.\u001b[39;00m\n\u001b[1;32m--> 620\u001b[0m parser \u001b[38;5;241m=\u001b[39m TextFileReader(filepath_or_buffer, \u001b[38;5;241m*\u001b[39m\u001b[38;5;241m*\u001b[39mkwds)\n\u001b[0;32m    622\u001b[0m \u001b[38;5;28;01mif\u001b[39;00m chunksize \u001b[38;5;129;01mor\u001b[39;00m iterator:\n\u001b[0;32m    623\u001b[0m     \u001b[38;5;28;01mreturn\u001b[39;00m parser\n",
      "File \u001b[1;32mc:\\ProgramData\\anaconda3\\Lib\\site-packages\\pandas\\io\\parsers\\readers.py:1620\u001b[0m, in \u001b[0;36mTextFileReader.__init__\u001b[1;34m(self, f, engine, **kwds)\u001b[0m\n\u001b[0;32m   1617\u001b[0m     \u001b[38;5;28mself\u001b[39m\u001b[38;5;241m.\u001b[39moptions[\u001b[38;5;124m\"\u001b[39m\u001b[38;5;124mhas_index_names\u001b[39m\u001b[38;5;124m\"\u001b[39m] \u001b[38;5;241m=\u001b[39m kwds[\u001b[38;5;124m\"\u001b[39m\u001b[38;5;124mhas_index_names\u001b[39m\u001b[38;5;124m\"\u001b[39m]\n\u001b[0;32m   1619\u001b[0m \u001b[38;5;28mself\u001b[39m\u001b[38;5;241m.\u001b[39mhandles: IOHandles \u001b[38;5;241m|\u001b[39m \u001b[38;5;28;01mNone\u001b[39;00m \u001b[38;5;241m=\u001b[39m \u001b[38;5;28;01mNone\u001b[39;00m\n\u001b[1;32m-> 1620\u001b[0m \u001b[38;5;28mself\u001b[39m\u001b[38;5;241m.\u001b[39m_engine \u001b[38;5;241m=\u001b[39m \u001b[38;5;28mself\u001b[39m\u001b[38;5;241m.\u001b[39m_make_engine(f, \u001b[38;5;28mself\u001b[39m\u001b[38;5;241m.\u001b[39mengine)\n",
      "File \u001b[1;32mc:\\ProgramData\\anaconda3\\Lib\\site-packages\\pandas\\io\\parsers\\readers.py:1880\u001b[0m, in \u001b[0;36mTextFileReader._make_engine\u001b[1;34m(self, f, engine)\u001b[0m\n\u001b[0;32m   1878\u001b[0m     \u001b[38;5;28;01mif\u001b[39;00m \u001b[38;5;124m\"\u001b[39m\u001b[38;5;124mb\u001b[39m\u001b[38;5;124m\"\u001b[39m \u001b[38;5;129;01mnot\u001b[39;00m \u001b[38;5;129;01min\u001b[39;00m mode:\n\u001b[0;32m   1879\u001b[0m         mode \u001b[38;5;241m+\u001b[39m\u001b[38;5;241m=\u001b[39m \u001b[38;5;124m\"\u001b[39m\u001b[38;5;124mb\u001b[39m\u001b[38;5;124m\"\u001b[39m\n\u001b[1;32m-> 1880\u001b[0m \u001b[38;5;28mself\u001b[39m\u001b[38;5;241m.\u001b[39mhandles \u001b[38;5;241m=\u001b[39m get_handle(\n\u001b[0;32m   1881\u001b[0m     f,\n\u001b[0;32m   1882\u001b[0m     mode,\n\u001b[0;32m   1883\u001b[0m     encoding\u001b[38;5;241m=\u001b[39m\u001b[38;5;28mself\u001b[39m\u001b[38;5;241m.\u001b[39moptions\u001b[38;5;241m.\u001b[39mget(\u001b[38;5;124m\"\u001b[39m\u001b[38;5;124mencoding\u001b[39m\u001b[38;5;124m\"\u001b[39m, \u001b[38;5;28;01mNone\u001b[39;00m),\n\u001b[0;32m   1884\u001b[0m     compression\u001b[38;5;241m=\u001b[39m\u001b[38;5;28mself\u001b[39m\u001b[38;5;241m.\u001b[39moptions\u001b[38;5;241m.\u001b[39mget(\u001b[38;5;124m\"\u001b[39m\u001b[38;5;124mcompression\u001b[39m\u001b[38;5;124m\"\u001b[39m, \u001b[38;5;28;01mNone\u001b[39;00m),\n\u001b[0;32m   1885\u001b[0m     memory_map\u001b[38;5;241m=\u001b[39m\u001b[38;5;28mself\u001b[39m\u001b[38;5;241m.\u001b[39moptions\u001b[38;5;241m.\u001b[39mget(\u001b[38;5;124m\"\u001b[39m\u001b[38;5;124mmemory_map\u001b[39m\u001b[38;5;124m\"\u001b[39m, \u001b[38;5;28;01mFalse\u001b[39;00m),\n\u001b[0;32m   1886\u001b[0m     is_text\u001b[38;5;241m=\u001b[39mis_text,\n\u001b[0;32m   1887\u001b[0m     errors\u001b[38;5;241m=\u001b[39m\u001b[38;5;28mself\u001b[39m\u001b[38;5;241m.\u001b[39moptions\u001b[38;5;241m.\u001b[39mget(\u001b[38;5;124m\"\u001b[39m\u001b[38;5;124mencoding_errors\u001b[39m\u001b[38;5;124m\"\u001b[39m, \u001b[38;5;124m\"\u001b[39m\u001b[38;5;124mstrict\u001b[39m\u001b[38;5;124m\"\u001b[39m),\n\u001b[0;32m   1888\u001b[0m     storage_options\u001b[38;5;241m=\u001b[39m\u001b[38;5;28mself\u001b[39m\u001b[38;5;241m.\u001b[39moptions\u001b[38;5;241m.\u001b[39mget(\u001b[38;5;124m\"\u001b[39m\u001b[38;5;124mstorage_options\u001b[39m\u001b[38;5;124m\"\u001b[39m, \u001b[38;5;28;01mNone\u001b[39;00m),\n\u001b[0;32m   1889\u001b[0m )\n\u001b[0;32m   1890\u001b[0m \u001b[38;5;28;01massert\u001b[39;00m \u001b[38;5;28mself\u001b[39m\u001b[38;5;241m.\u001b[39mhandles \u001b[38;5;129;01mis\u001b[39;00m \u001b[38;5;129;01mnot\u001b[39;00m \u001b[38;5;28;01mNone\u001b[39;00m\n\u001b[0;32m   1891\u001b[0m f \u001b[38;5;241m=\u001b[39m \u001b[38;5;28mself\u001b[39m\u001b[38;5;241m.\u001b[39mhandles\u001b[38;5;241m.\u001b[39mhandle\n",
      "File \u001b[1;32mc:\\ProgramData\\anaconda3\\Lib\\site-packages\\pandas\\io\\common.py:873\u001b[0m, in \u001b[0;36mget_handle\u001b[1;34m(path_or_buf, mode, encoding, compression, memory_map, is_text, errors, storage_options)\u001b[0m\n\u001b[0;32m    868\u001b[0m \u001b[38;5;28;01melif\u001b[39;00m \u001b[38;5;28misinstance\u001b[39m(handle, \u001b[38;5;28mstr\u001b[39m):\n\u001b[0;32m    869\u001b[0m     \u001b[38;5;66;03m# Check whether the filename is to be opened in binary mode.\u001b[39;00m\n\u001b[0;32m    870\u001b[0m     \u001b[38;5;66;03m# Binary mode does not support 'encoding' and 'newline'.\u001b[39;00m\n\u001b[0;32m    871\u001b[0m     \u001b[38;5;28;01mif\u001b[39;00m ioargs\u001b[38;5;241m.\u001b[39mencoding \u001b[38;5;129;01mand\u001b[39;00m \u001b[38;5;124m\"\u001b[39m\u001b[38;5;124mb\u001b[39m\u001b[38;5;124m\"\u001b[39m \u001b[38;5;129;01mnot\u001b[39;00m \u001b[38;5;129;01min\u001b[39;00m ioargs\u001b[38;5;241m.\u001b[39mmode:\n\u001b[0;32m    872\u001b[0m         \u001b[38;5;66;03m# Encoding\u001b[39;00m\n\u001b[1;32m--> 873\u001b[0m         handle \u001b[38;5;241m=\u001b[39m \u001b[38;5;28mopen\u001b[39m(\n\u001b[0;32m    874\u001b[0m             handle,\n\u001b[0;32m    875\u001b[0m             ioargs\u001b[38;5;241m.\u001b[39mmode,\n\u001b[0;32m    876\u001b[0m             encoding\u001b[38;5;241m=\u001b[39mioargs\u001b[38;5;241m.\u001b[39mencoding,\n\u001b[0;32m    877\u001b[0m             errors\u001b[38;5;241m=\u001b[39merrors,\n\u001b[0;32m    878\u001b[0m             newline\u001b[38;5;241m=\u001b[39m\u001b[38;5;124m\"\u001b[39m\u001b[38;5;124m\"\u001b[39m,\n\u001b[0;32m    879\u001b[0m         )\n\u001b[0;32m    880\u001b[0m     \u001b[38;5;28;01melse\u001b[39;00m:\n\u001b[0;32m    881\u001b[0m         \u001b[38;5;66;03m# Binary mode\u001b[39;00m\n\u001b[0;32m    882\u001b[0m         handle \u001b[38;5;241m=\u001b[39m \u001b[38;5;28mopen\u001b[39m(handle, ioargs\u001b[38;5;241m.\u001b[39mmode)\n",
      "\u001b[1;31mFileNotFoundError\u001b[0m: [Errno 2] No such file or directory: 'sleep.csv'"
     ]
    }
   ],
   "source": [
    "# 1. Importation des bibliothèques nécessaires\n",
    "import pandas as pd\n",
    "\n",
    "# 2. Chargement du fichier CSV (à adapter avec le chemin correct si besoin)\n",
    "df = pd.read_csv(\"sleep.csv\")  # Remplacez par le vrai nom du fichier si besoin\n",
    "\n",
    "# 3. Affichage des premières lignes de l'ensemble de données\n",
    "print(df.head())\n"
   ]
  },
  {
   "cell_type": "markdown",
   "id": "c1267d24",
   "metadata": {},
   "source": [
    "## 🌟Exercice 3 : Identification des types de données\n",
    "\n",
    "\n",
    "Objectif : Apprendre à identifier les différents types de données.\n",
    "Tâche:\n",
    "Pour les ensembles de données de l’exercice précédent, catégorisez chaque colonne comme quantitative ou qualitative et expliquez votre raisonnement.\n",
    "\n"
   ]
  },
  {
   "cell_type": "markdown",
   "id": "b7340a39",
   "metadata": {},
   "source": [
    "**Réponse directe et claire sur la catégorisation des types de données (quantitative vs qualitative) :**\n",
    "\n",
    "---\n",
    "\n",
    "**Exemple : Jeu de données « Combien d'heures de sommeil les Américains obtiennent-ils réellement ? »**\n",
    "\n",
    "Supposons que les colonnes soient les suivantes (adapte-les selon ton jeu de données réel si besoin) :\n",
    "\n",
    "| Colonne            | Exemple de valeur | Type         | Justification rapide                   |\n",
    "| ------------------ | ----------------- | ------------ | -------------------------------------- |\n",
    "| Year               | 2018              | Quantitative | Nombre qui représente une année        |\n",
    "| State              | California        | Qualitative  | Nom d’état, c’est une catégorie        |\n",
    "| ShortSleepDuration | 32.5              | Quantitative | Pourcentage ou nombre mesurable        |\n",
    "| Gender             | Female            | Qualitative  | Catégorie (« Male », « Female », etc.) |\n",
    "| AgeGroup           | 18-25             | Qualitative  | Plage d’âge, considéré comme catégorie |\n",
    "| Race               | White             | Qualitative  | Groupe ethnique = catégorie            |\n",
    "\n",
    "---\n",
    "\n",
    "**Explications :**\n",
    "\n",
    "* **Quantitative** (données numériques, mesurables) :\n",
    "\n",
    "  * *Year* : même si c’est un numéro d’année (et donc discret), cela reste une valeur mesurable/ordonnée.\n",
    "  * *ShortSleepDuration* : c’est un nombre, parfois en pourcentage ou en heures. On peut faire des calculs dessus (moyenne, somme, etc.).\n",
    "\n",
    "* **Qualitative** (catégories, descriptions non numériques) :\n",
    "\n",
    "  * *State* : liste d’états, ce ne sont pas des valeurs numériques, ce sont des groupes.\n",
    "  * *Gender*, *Race* : catégories de personnes.\n",
    "  * *AgeGroup* : même si c’est basé sur l’âge, ici c’est écrit sous forme de groupe (« 18-25 », « 26-35 »), donc considéré comme qualitatif.\n",
    "\n",
    "---\n",
    "\n",
    "**À faire pour chaque jeu de données** :\n",
    "\n",
    "1. Affiche la liste des colonnes (`print(df.columns)`)\n",
    "2. Pour chaque colonne, demande-toi si on peut faire des calculs (quantitative) ou si c’est une catégorie/groupe/nom (qualitative).\n",
    "3. Fais un tableau simple comme ci-dessus pour clarifier.\n",
    "\n",
    "---\n",
    "\n",
    "**Résumé**\n",
    "\n",
    "* **Quantitative** = nombres sur lesquels tu peux faire des opérations mathématiques (moyenne, somme, etc.)\n",
    "* **Qualitative** = catégories, noms, groupes, types.\n",
    "\n"
   ]
  },
  {
   "cell_type": "markdown",
   "id": "f01fc217",
   "metadata": {},
   "source": [
    "## Exercice 4 : Explorer les types de données\n",
    "\n",
    "\n",
    "### Objectif : Découvrir les différents types de données dans l’analyse de données.\n",
    "Tâche:\n",
    "\n",
    "#### Chargez l' ensemble de données Iris à l'aide de Kaggle dans un bloc-notes Jupyter ou un bloc-notes Google Colaboratory.\n",
    "\n",
    "#### Identifiez et répertoriez les colonnes de votre ensemble de données qui sont qualitatives et celles qui sont quantitatives.\n",
    "\n",
    "#### Rédigez une brève description expliquant pourquoi chaque colonne est classée comme qualitative ou quantitative.\n",
    "Outils : Jupyter Notebook, Python avec la bibliothèque Pandas."
   ]
  },
  {
   "cell_type": "code",
   "execution_count": null,
   "id": "7813de43",
   "metadata": {},
   "outputs": [],
   "source": [
    "import pandas as pd\n",
    "\n",
    "# Charger le jeu de données Iris (le nom exact peut varier, par exemple \"Iris.csv\" ou \"iris.csv\")\n",
    "df = pd.read_csv(\"iris.csv\")  # Mets le nom exact de ton fichier ici\n",
    "\n",
    "# Afficher les premières lignes\n",
    "print(df.head())\n",
    "\n",
    "# Afficher les noms des colonnes\n",
    "print(\"Colonnes :\", df.columns.tolist())\n"
   ]
  },
  {
   "cell_type": "markdown",
   "id": "ef2573e1",
   "metadata": {},
   "source": [
    "Catégorisation des colonnes :\n",
    "\n",
    "Colonne\tExemple de valeur\tType\tExplication\n",
    "sepal_length\t5.1\tQuantitative\tMesure de longueur, nombre continu, opérations mathématiques possibles\n",
    "sepal_width\t3.5\tQuantitative\tIdem, mesure numérique\n",
    "petal_length\t1.4\tQuantitative\tIdem, mesure numérique\n",
    "petal_width\t0.2\tQuantitative\tIdem, mesure numérique\n",
    "species\tsetosa\tQualitative\tNom d’espèce (groupe/catégorie, pas un nombre)\n",
    "\n",
    "Descriptions :\n",
    "\n",
    "sepal_length, sepal_width, petal_length, petal_width\n",
    "→ Quantitatives : Ce sont des mesures continues (en cm) de longueurs ou de largeurs.\n",
    "On peut en faire la moyenne, calculer des écart-types, faire des graphiques numériques, etc.\n",
    "\n",
    "species\n",
    "→ Qualitative : C’est le nom de l’espèce (exemple : setosa, versicolor, virginica).\n",
    "On ne peut pas faire de calculs dessus, c’est une variable de catégorie.\n",
    "\n",
    "Résumé :\n",
    "\n",
    "Colonnes quantitatives : sepal_length, sepal_width, petal_length, petal_width\n",
    "\n",
    "Colonne qualitative : species"
   ]
  },
  {
   "cell_type": "markdown",
   "id": "01c1562c",
   "metadata": {},
   "source": [
    "## 🌟Exercice 5 : Analyse de données de base avec Google Colab\n",
    "\n",
    "\n",
    "Objectif : Effectuer une analyse de données de base à l'aide de Google Colab.\n",
    "Tâche:\n",
    "\n",
    "En utilisant le même bloc-notes que celui de l'exercice précédent, effectuez des tâches d'analyse de données de base :\n",
    "\n",
    "Calculez la moyenne, la médiane et le mode d'une colonne quantitative.\n",
    "\n",
    "Créez un tracé simple (comme un histogramme ou un graphique à barres) pour visualiser les données à l'aide des bibliothèques Matplotlib/Seaborn :\n",
    "\n",
    "import matplotlib.pyplot as plt\n",
    "plt.plot(data['Name_column1'], data['Name_column2'])\n",
    "plt.show()\n",
    "\n",
    "Documentez vos découvertes dans le cahier.\n",
    "Outils : Google Colab, Python avec les bibliothèques Pandas et Matplotlib/Seaborn."
   ]
  },
  {
   "cell_type": "code",
   "execution_count": null,
   "id": "89a23cbe",
   "metadata": {},
   "outputs": [],
   "source": [
    "import pandas as pd\n",
    "import matplotlib.pyplot as plt\n",
    "\n",
    "# Charger le jeu de données Iris\n",
    "df = pd.read_csv(\"iris.csv\")  # Mets ici le nom exact de ton fichier\n",
    "\n",
    "# 1. Calcul de la moyenne, médiane et mode pour la colonne \"sepal_length\"\n",
    "mean = df[\"sepal_length\"].mean()\n",
    "median = df[\"sepal_length\"].median()\n",
    "mode = df[\"sepal_length\"].mode()[0]\n",
    "\n",
    "print(\"Moyenne de sepal_length :\", mean)\n",
    "print(\"Médiane de sepal_length :\", median)\n",
    "print(\"Mode de sepal_length :\", mode)\n",
    "\n",
    "# 2. Créer un histogramme de la colonne \"sepal_length\"\n",
    "plt.hist(df[\"sepal_length\"], bins=10, edgecolor='black')\n",
    "plt.title(\"Distribution de la longueur du sépale\")\n",
    "plt.xlabel(\"Longueur du sépale (cm)\")\n",
    "plt.ylabel(\"Nombre d'échantillons\")\n",
    "plt.show()\n"
   ]
  },
  {
   "cell_type": "markdown",
   "id": "4dbe1e0b",
   "metadata": {},
   "source": [
    "Découvertes :\n",
    "\n",
    "Moyenne de la longueur du sépale : La moyenne donne la longueur typique des sépales dans l’ensemble de données.\n",
    "\n",
    "Médiane : Indique la valeur centrale, donc la moitié des sépales sont plus courts et l’autre moitié plus longs que cette valeur.\n",
    "\n",
    "Mode : Valeur la plus fréquente de la longueur des sépales.\n",
    "\n",
    "Histogramme : Visualise la répartition des longueurs de sépale. On peut observer la forme de la distribution (symétrique, étalée, présence de pics, etc)."
   ]
  },
  {
   "cell_type": "markdown",
   "id": "d209ab42",
   "metadata": {},
   "source": [
    "## 🌟Exercice 6 : Compétences d’observation de base dans l’analyse des données\n",
    "\n",
    "\n",
    "Objectif : Développer des compétences d’observation pour l’analyse des données.\n",
    "Tâche:\n",
    "Chargez l' ensemble de données « Combien d'heures de sommeil les Américains obtiennent-ils réellement ? » dans Jupyter ou Google Colab.\n",
    "Identifiez les colonnes susceptibles d'être intéressantes pour un type d'analyse spécifique (par exemple, analyse de tendance, comparaison de groupes) et expliquez votre choix.\n",
    "Outils : Jupyter Notebook, Python avec la bibliothèque Pandas.\n"
   ]
  },
  {
   "cell_type": "code",
   "execution_count": 3,
   "id": "432d0f75",
   "metadata": {},
   "outputs": [
    {
     "ename": "FileNotFoundError",
     "evalue": "[Errno 2] No such file or directory: 'sleep_data.csv'",
     "output_type": "error",
     "traceback": [
      "\u001b[1;31m---------------------------------------------------------------------------\u001b[0m",
      "\u001b[1;31mFileNotFoundError\u001b[0m                         Traceback (most recent call last)",
      "Cell \u001b[1;32mIn[3], line 4\u001b[0m\n\u001b[0;32m      1\u001b[0m \u001b[38;5;28;01mimport\u001b[39;00m\u001b[38;5;250m \u001b[39m\u001b[38;5;21;01mpandas\u001b[39;00m\u001b[38;5;250m \u001b[39m\u001b[38;5;28;01mas\u001b[39;00m\u001b[38;5;250m \u001b[39m\u001b[38;5;21;01mpd\u001b[39;00m\n\u001b[0;32m      3\u001b[0m \u001b[38;5;66;03m# Chargement du jeu de données (mets le nom exact de ton fichier)\u001b[39;00m\n\u001b[1;32m----> 4\u001b[0m df \u001b[38;5;241m=\u001b[39m pd\u001b[38;5;241m.\u001b[39mread_csv(\u001b[38;5;124m\"\u001b[39m\u001b[38;5;124msleep_data.csv\u001b[39m\u001b[38;5;124m\"\u001b[39m)  \u001b[38;5;66;03m# adapte le nom selon ton fichier réel\u001b[39;00m\n\u001b[0;32m      6\u001b[0m \u001b[38;5;66;03m# Affichage des premières lignes et des colonnes pour observation\u001b[39;00m\n\u001b[0;32m      7\u001b[0m \u001b[38;5;28mprint\u001b[39m(df\u001b[38;5;241m.\u001b[39mhead())\n",
      "File \u001b[1;32mc:\\ProgramData\\anaconda3\\Lib\\site-packages\\pandas\\io\\parsers\\readers.py:1026\u001b[0m, in \u001b[0;36mread_csv\u001b[1;34m(filepath_or_buffer, sep, delimiter, header, names, index_col, usecols, dtype, engine, converters, true_values, false_values, skipinitialspace, skiprows, skipfooter, nrows, na_values, keep_default_na, na_filter, verbose, skip_blank_lines, parse_dates, infer_datetime_format, keep_date_col, date_parser, date_format, dayfirst, cache_dates, iterator, chunksize, compression, thousands, decimal, lineterminator, quotechar, quoting, doublequote, escapechar, comment, encoding, encoding_errors, dialect, on_bad_lines, delim_whitespace, low_memory, memory_map, float_precision, storage_options, dtype_backend)\u001b[0m\n\u001b[0;32m   1013\u001b[0m kwds_defaults \u001b[38;5;241m=\u001b[39m _refine_defaults_read(\n\u001b[0;32m   1014\u001b[0m     dialect,\n\u001b[0;32m   1015\u001b[0m     delimiter,\n\u001b[1;32m   (...)\u001b[0m\n\u001b[0;32m   1022\u001b[0m     dtype_backend\u001b[38;5;241m=\u001b[39mdtype_backend,\n\u001b[0;32m   1023\u001b[0m )\n\u001b[0;32m   1024\u001b[0m kwds\u001b[38;5;241m.\u001b[39mupdate(kwds_defaults)\n\u001b[1;32m-> 1026\u001b[0m \u001b[38;5;28;01mreturn\u001b[39;00m _read(filepath_or_buffer, kwds)\n",
      "File \u001b[1;32mc:\\ProgramData\\anaconda3\\Lib\\site-packages\\pandas\\io\\parsers\\readers.py:620\u001b[0m, in \u001b[0;36m_read\u001b[1;34m(filepath_or_buffer, kwds)\u001b[0m\n\u001b[0;32m    617\u001b[0m _validate_names(kwds\u001b[38;5;241m.\u001b[39mget(\u001b[38;5;124m\"\u001b[39m\u001b[38;5;124mnames\u001b[39m\u001b[38;5;124m\"\u001b[39m, \u001b[38;5;28;01mNone\u001b[39;00m))\n\u001b[0;32m    619\u001b[0m \u001b[38;5;66;03m# Create the parser.\u001b[39;00m\n\u001b[1;32m--> 620\u001b[0m parser \u001b[38;5;241m=\u001b[39m TextFileReader(filepath_or_buffer, \u001b[38;5;241m*\u001b[39m\u001b[38;5;241m*\u001b[39mkwds)\n\u001b[0;32m    622\u001b[0m \u001b[38;5;28;01mif\u001b[39;00m chunksize \u001b[38;5;129;01mor\u001b[39;00m iterator:\n\u001b[0;32m    623\u001b[0m     \u001b[38;5;28;01mreturn\u001b[39;00m parser\n",
      "File \u001b[1;32mc:\\ProgramData\\anaconda3\\Lib\\site-packages\\pandas\\io\\parsers\\readers.py:1620\u001b[0m, in \u001b[0;36mTextFileReader.__init__\u001b[1;34m(self, f, engine, **kwds)\u001b[0m\n\u001b[0;32m   1617\u001b[0m     \u001b[38;5;28mself\u001b[39m\u001b[38;5;241m.\u001b[39moptions[\u001b[38;5;124m\"\u001b[39m\u001b[38;5;124mhas_index_names\u001b[39m\u001b[38;5;124m\"\u001b[39m] \u001b[38;5;241m=\u001b[39m kwds[\u001b[38;5;124m\"\u001b[39m\u001b[38;5;124mhas_index_names\u001b[39m\u001b[38;5;124m\"\u001b[39m]\n\u001b[0;32m   1619\u001b[0m \u001b[38;5;28mself\u001b[39m\u001b[38;5;241m.\u001b[39mhandles: IOHandles \u001b[38;5;241m|\u001b[39m \u001b[38;5;28;01mNone\u001b[39;00m \u001b[38;5;241m=\u001b[39m \u001b[38;5;28;01mNone\u001b[39;00m\n\u001b[1;32m-> 1620\u001b[0m \u001b[38;5;28mself\u001b[39m\u001b[38;5;241m.\u001b[39m_engine \u001b[38;5;241m=\u001b[39m \u001b[38;5;28mself\u001b[39m\u001b[38;5;241m.\u001b[39m_make_engine(f, \u001b[38;5;28mself\u001b[39m\u001b[38;5;241m.\u001b[39mengine)\n",
      "File \u001b[1;32mc:\\ProgramData\\anaconda3\\Lib\\site-packages\\pandas\\io\\parsers\\readers.py:1880\u001b[0m, in \u001b[0;36mTextFileReader._make_engine\u001b[1;34m(self, f, engine)\u001b[0m\n\u001b[0;32m   1878\u001b[0m     \u001b[38;5;28;01mif\u001b[39;00m \u001b[38;5;124m\"\u001b[39m\u001b[38;5;124mb\u001b[39m\u001b[38;5;124m\"\u001b[39m \u001b[38;5;129;01mnot\u001b[39;00m \u001b[38;5;129;01min\u001b[39;00m mode:\n\u001b[0;32m   1879\u001b[0m         mode \u001b[38;5;241m+\u001b[39m\u001b[38;5;241m=\u001b[39m \u001b[38;5;124m\"\u001b[39m\u001b[38;5;124mb\u001b[39m\u001b[38;5;124m\"\u001b[39m\n\u001b[1;32m-> 1880\u001b[0m \u001b[38;5;28mself\u001b[39m\u001b[38;5;241m.\u001b[39mhandles \u001b[38;5;241m=\u001b[39m get_handle(\n\u001b[0;32m   1881\u001b[0m     f,\n\u001b[0;32m   1882\u001b[0m     mode,\n\u001b[0;32m   1883\u001b[0m     encoding\u001b[38;5;241m=\u001b[39m\u001b[38;5;28mself\u001b[39m\u001b[38;5;241m.\u001b[39moptions\u001b[38;5;241m.\u001b[39mget(\u001b[38;5;124m\"\u001b[39m\u001b[38;5;124mencoding\u001b[39m\u001b[38;5;124m\"\u001b[39m, \u001b[38;5;28;01mNone\u001b[39;00m),\n\u001b[0;32m   1884\u001b[0m     compression\u001b[38;5;241m=\u001b[39m\u001b[38;5;28mself\u001b[39m\u001b[38;5;241m.\u001b[39moptions\u001b[38;5;241m.\u001b[39mget(\u001b[38;5;124m\"\u001b[39m\u001b[38;5;124mcompression\u001b[39m\u001b[38;5;124m\"\u001b[39m, \u001b[38;5;28;01mNone\u001b[39;00m),\n\u001b[0;32m   1885\u001b[0m     memory_map\u001b[38;5;241m=\u001b[39m\u001b[38;5;28mself\u001b[39m\u001b[38;5;241m.\u001b[39moptions\u001b[38;5;241m.\u001b[39mget(\u001b[38;5;124m\"\u001b[39m\u001b[38;5;124mmemory_map\u001b[39m\u001b[38;5;124m\"\u001b[39m, \u001b[38;5;28;01mFalse\u001b[39;00m),\n\u001b[0;32m   1886\u001b[0m     is_text\u001b[38;5;241m=\u001b[39mis_text,\n\u001b[0;32m   1887\u001b[0m     errors\u001b[38;5;241m=\u001b[39m\u001b[38;5;28mself\u001b[39m\u001b[38;5;241m.\u001b[39moptions\u001b[38;5;241m.\u001b[39mget(\u001b[38;5;124m\"\u001b[39m\u001b[38;5;124mencoding_errors\u001b[39m\u001b[38;5;124m\"\u001b[39m, \u001b[38;5;124m\"\u001b[39m\u001b[38;5;124mstrict\u001b[39m\u001b[38;5;124m\"\u001b[39m),\n\u001b[0;32m   1888\u001b[0m     storage_options\u001b[38;5;241m=\u001b[39m\u001b[38;5;28mself\u001b[39m\u001b[38;5;241m.\u001b[39moptions\u001b[38;5;241m.\u001b[39mget(\u001b[38;5;124m\"\u001b[39m\u001b[38;5;124mstorage_options\u001b[39m\u001b[38;5;124m\"\u001b[39m, \u001b[38;5;28;01mNone\u001b[39;00m),\n\u001b[0;32m   1889\u001b[0m )\n\u001b[0;32m   1890\u001b[0m \u001b[38;5;28;01massert\u001b[39;00m \u001b[38;5;28mself\u001b[39m\u001b[38;5;241m.\u001b[39mhandles \u001b[38;5;129;01mis\u001b[39;00m \u001b[38;5;129;01mnot\u001b[39;00m \u001b[38;5;28;01mNone\u001b[39;00m\n\u001b[0;32m   1891\u001b[0m f \u001b[38;5;241m=\u001b[39m \u001b[38;5;28mself\u001b[39m\u001b[38;5;241m.\u001b[39mhandles\u001b[38;5;241m.\u001b[39mhandle\n",
      "File \u001b[1;32mc:\\ProgramData\\anaconda3\\Lib\\site-packages\\pandas\\io\\common.py:873\u001b[0m, in \u001b[0;36mget_handle\u001b[1;34m(path_or_buf, mode, encoding, compression, memory_map, is_text, errors, storage_options)\u001b[0m\n\u001b[0;32m    868\u001b[0m \u001b[38;5;28;01melif\u001b[39;00m \u001b[38;5;28misinstance\u001b[39m(handle, \u001b[38;5;28mstr\u001b[39m):\n\u001b[0;32m    869\u001b[0m     \u001b[38;5;66;03m# Check whether the filename is to be opened in binary mode.\u001b[39;00m\n\u001b[0;32m    870\u001b[0m     \u001b[38;5;66;03m# Binary mode does not support 'encoding' and 'newline'.\u001b[39;00m\n\u001b[0;32m    871\u001b[0m     \u001b[38;5;28;01mif\u001b[39;00m ioargs\u001b[38;5;241m.\u001b[39mencoding \u001b[38;5;129;01mand\u001b[39;00m \u001b[38;5;124m\"\u001b[39m\u001b[38;5;124mb\u001b[39m\u001b[38;5;124m\"\u001b[39m \u001b[38;5;129;01mnot\u001b[39;00m \u001b[38;5;129;01min\u001b[39;00m ioargs\u001b[38;5;241m.\u001b[39mmode:\n\u001b[0;32m    872\u001b[0m         \u001b[38;5;66;03m# Encoding\u001b[39;00m\n\u001b[1;32m--> 873\u001b[0m         handle \u001b[38;5;241m=\u001b[39m \u001b[38;5;28mopen\u001b[39m(\n\u001b[0;32m    874\u001b[0m             handle,\n\u001b[0;32m    875\u001b[0m             ioargs\u001b[38;5;241m.\u001b[39mmode,\n\u001b[0;32m    876\u001b[0m             encoding\u001b[38;5;241m=\u001b[39mioargs\u001b[38;5;241m.\u001b[39mencoding,\n\u001b[0;32m    877\u001b[0m             errors\u001b[38;5;241m=\u001b[39merrors,\n\u001b[0;32m    878\u001b[0m             newline\u001b[38;5;241m=\u001b[39m\u001b[38;5;124m\"\u001b[39m\u001b[38;5;124m\"\u001b[39m,\n\u001b[0;32m    879\u001b[0m         )\n\u001b[0;32m    880\u001b[0m     \u001b[38;5;28;01melse\u001b[39;00m:\n\u001b[0;32m    881\u001b[0m         \u001b[38;5;66;03m# Binary mode\u001b[39;00m\n\u001b[0;32m    882\u001b[0m         handle \u001b[38;5;241m=\u001b[39m \u001b[38;5;28mopen\u001b[39m(handle, ioargs\u001b[38;5;241m.\u001b[39mmode)\n",
      "\u001b[1;31mFileNotFoundError\u001b[0m: [Errno 2] No such file or directory: 'sleep_data.csv'"
     ]
    }
   ],
   "source": [
    "import pandas as pd\n",
    "\n",
    "# Chargement du jeu de données (mets le nom exact de ton fichier)\n",
    "df = pd.read_csv(\"sleep_data.csv\")  # adapte le nom selon ton fichier réel\n",
    "\n",
    "# Affichage des premières lignes et des colonnes pour observation\n",
    "print(df.head())\n",
    "print(\"Colonnes :\", df.columns.tolist())\n"
   ]
  },
  {
   "cell_type": "markdown",
   "id": "50b83680",
   "metadata": {},
   "source": [
    "Colonnes potentiellement intéressantes et pourquoi :\n",
    "\n",
    "Year\n",
    "Analyse de tendance : Permet d’observer l’évolution du sommeil au fil du temps, de détecter des augmentations ou diminutions dans la durée de sommeil des Américains selon les années.\n",
    "\n",
    "State\n",
    "Comparaison géographique : Permet de comparer les habitudes de sommeil entre différents états, de repérer les régions où le manque de sommeil est plus fréquent.\n",
    "\n",
    "ShortSleepDuration\n",
    "Mesure quantitative centrale : C’est la variable principale à étudier, car elle indique le pourcentage d’adultes dormant moins de 7 heures. Peut servir pour toutes les analyses statistiques ou comparatives.\n",
    "\n",
    "Gender / AgeGroup / Race (ou équivalent selon les colonnes exactes)\n",
    "Comparaison de groupes : Ces colonnes permettent de segmenter la population par sexe, tranche d’âge ou groupe ethnique, pour voir quels sous-groupes dorment le moins ou le plus.\n",
    "\n",
    "Exemples d’analyses possibles :\n",
    "\n",
    "Analyse de tendance de ShortSleepDuration par année (Year)\n",
    "\n",
    "Comparaison du manque de sommeil entre les états (State)\n",
    "\n",
    "Comparaison entre hommes et femmes, ou selon les tranches d’âge (Gender, AgeGroup)\n",
    "\n",
    "Résumé :\n",
    "Les colonnes « Year », « State », « ShortSleepDuration » et les colonnes démographiques sont les plus pertinentes pour réaliser des analyses de tendances ou des comparaisons de groupes.\n",
    "Le choix se justifie car ce sont les axes principaux pour explorer des différences ou des évolutions dans les habitudes de sommeil."
   ]
  }
 ],
 "metadata": {
  "kernelspec": {
   "display_name": "base",
   "language": "python",
   "name": "python3"
  },
  "language_info": {
   "codemirror_mode": {
    "name": "ipython",
    "version": 3
   },
   "file_extension": ".py",
   "mimetype": "text/x-python",
   "name": "python",
   "nbconvert_exporter": "python",
   "pygments_lexer": "ipython3",
   "version": "3.12.7"
  }
 },
 "nbformat": 4,
 "nbformat_minor": 5
}
