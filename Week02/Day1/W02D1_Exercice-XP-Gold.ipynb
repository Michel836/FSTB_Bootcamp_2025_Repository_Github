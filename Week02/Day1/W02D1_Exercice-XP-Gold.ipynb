{
 "cells": [
  {
   "cell_type": "markdown",
   "id": "080f2b1a",
   "metadata": {},
   "source": [
    "# Exercices XP Gold\n",
    "Dernière mise à jour : 14 décembre 2023\n",
    "\n",
    "Ce que nous allons apprendre :\n",
    "Programmation Python de base dans Google Colab et Jupyter Notebook\n",
    "Accéder et analyser les ensembles de données de Kaggle\n",
    "Techniques de base d'analyse de données en Python\n",
    "Compétences en création et manipulation de données par programmation.\n",
    "\n",
    "\n",
    "Ce que vous allez créer :\n",
    "Scripts Python dans Google Colab et Jupyter Notebook\n",
    "Sorties affichant des résumés d'ensembles de données et des résultats d'analyse de données de base"
   ]
  },
  {
   "cell_type": "markdown",
   "id": "54e09471",
   "metadata": {},
   "source": [
    "## Exercice 1 : Programmation Python de base avec Google Colab.\n",
    "Instructions\n",
    "Créez un nouveau bloc-notes dans Google Colab.\n",
    "Écrivez un script Python pour vérifier si un nombre donné est premier. Par exemple, vérifiez si le nombre 7 est premier."
   ]
  },
  {
   "cell_type": "code",
   "execution_count": null,
   "id": "5bc25bb4",
   "metadata": {},
   "outputs": [],
   "source": [
    "# Vérifie si un nombre est premier\n",
    "\n",
    "def is_prime(n):\n",
    "    if n <= 1:\n",
    "        return False\n",
    "    for i in range(2, int(n**0.5) + 1):\n",
    "        if n % i == 0:\n",
    "            return False\n",
    "    return True\n",
    "\n",
    "# Exemple : vérifier si 7 est premier\n",
    "nombre = 7\n",
    "if is_prime(nombre):\n",
    "    print(f\"{nombre} est un nombre premier.\")\n",
    "else:\n",
    "    print(f\"{nombre} n'est pas un nombre premier.\")\n"
   ]
  },
  {
   "cell_type": "markdown",
   "id": "255be5d8",
   "metadata": {},
   "source": [
    "## Exercice 2 : Compréhensions de listes avec Jupyter Notebook.\n",
    "Instructions\n",
    "Lancez Jupyter Notebook sur votre machine locale.\n",
    "Créer un nouveau carnet.\n",
    "Écrivez un script Python utilisant des compréhensions de liste pour trouver tous les nombres dans une plage donnée (par exemple, 1 à 20) qui sont divisibles par un nombre spécifique (par exemple, 3)."
   ]
  },
  {
   "cell_type": "code",
   "execution_count": null,
   "id": "a882ee44",
   "metadata": {},
   "outputs": [],
   "source": [
    "# Trouver tous les nombres entre 1 et 20 divisibles par 3, avec une compréhension de liste\n",
    "\n",
    "divisible_by_3 = [n for n in range(1, 21) if n % 3 == 0]\n",
    "\n",
    "print(\"Nombres entre 1 et 20 divisibles par 3 :\", divisible_by_3)\n"
   ]
  },
  {
   "cell_type": "markdown",
   "id": "b09efeff",
   "metadata": {},
   "source": [
    "## Exercice 3 : Exploration de l'ensemble de données Kaggle : Imprimer les informations de l'ensemble de données\n",
    "Instructions\n",
    "Choisissez un ensemble de données autre que Titanic de Kaggle (par exemple, Iris Dataset).\n",
    "Écrivez un script pour imprimer l'en-tête, les colonnes et les types de données de l'ensemble de données choisi (sur Google Colab ou sur Jupyter Notebook)"
   ]
  },
  {
   "cell_type": "code",
   "execution_count": null,
   "id": "06965f76",
   "metadata": {},
   "outputs": [],
   "source": [
    "import pandas as pd\n",
    "\n",
    "# Charger le jeu de données (remplace 'iris.csv' par le nom réel de ton fichier)\n",
    "df = pd.read_csv('iris.csv')\n",
    "\n",
    "# Afficher les premières lignes (en-tête)\n",
    "print(\"En-tête de l'ensemble de données :\")\n",
    "print(df.head())\n",
    "\n",
    "# Afficher les noms des colonnes\n",
    "print(\"\\nColonnes de l'ensemble de données :\")\n",
    "print(df.columns.tolist())\n",
    "\n",
    "# Afficher les types de données\n",
    "print(\"\\nTypes de données des colonnes :\")\n",
    "print(df.dtypes)\n"
   ]
  },
  {
   "cell_type": "markdown",
   "id": "cc5ff36e",
   "metadata": {},
   "source": [
    "## Exercice 4 : Analyse de données de base avec Kaggle\n",
    "Instructions\n",
    "Sélectionnez un ensemble de données simple dans Kaggle (par exemple, l'ensemble de données sur le logement à Boston).\n",
    "Effectuez une analyse de données de base pour trouver la moyenne, la médiane et l’écart type d’une colonne particulière.\n"
   ]
  },
  {
   "cell_type": "code",
   "execution_count": null,
   "id": "66b53312",
   "metadata": {},
   "outputs": [],
   "source": [
    "import pandas as pd\n",
    "\n",
    "# Charger le jeu de données Boston Housing (remplace le nom du fichier si besoin)\n",
    "df = pd.read_csv('boston.csv')  # ou 'housing.csv' selon ton fichier\n",
    "\n",
    "# Exemple : analyser la colonne 'MEDV' (prix moyen des maisons)\n",
    "mean = df['MEDV'].mean()\n",
    "median = df['MEDV'].median()\n",
    "std = df['MEDV'].std()\n",
    "\n",
    "print(\"Moyenne de MEDV :\", mean)\n",
    "print(\"Médiane de MEDV :\", median)\n",
    "print(\"Écart type de MEDV :\", std)\n"
   ]
  },
  {
   "cell_type": "markdown",
   "id": "fd5b595e",
   "metadata": {},
   "source": [
    "## Exercice 5 : Transformer des données qualitatives en données quantitatives avec l'ensemble de données Titanic\n",
    "Instructions\n",
    "Téléchargez l'ensemble de données Titanic à partir d'une source comme Kaggle.\n",
    "Chargez l’ensemble de données dans un environnement Python à l’aide de Pandas.\n",
    "Transformez la colonne sexe pour représenter 0 comme « femme » et 1 pour « homme » à l'aide de .mapla fonction."
   ]
  },
  {
   "cell_type": "code",
   "execution_count": null,
   "id": "fe3f84db",
   "metadata": {},
   "outputs": [],
   "source": [
    "import pandas as pd\n",
    "\n",
    "# Charger l'ensemble de données Titanic (adapte le nom de fichier si besoin)\n",
    "df = pd.read_csv('titanic.csv')\n",
    "\n",
    "# Transformer la colonne 'Sex' en valeurs numériques : 0 pour femme, 1 pour homme\n",
    "df['Sex'] = df['Sex'].map({'female': 0, 'male': 1})\n",
    "\n",
    "# Afficher les premières lignes pour vérification\n",
    "print(df[['Sex']].head())\n"
   ]
  }
 ],
 "metadata": {
  "language_info": {
   "name": "python"
  }
 },
 "nbformat": 4,
 "nbformat_minor": 5
}
