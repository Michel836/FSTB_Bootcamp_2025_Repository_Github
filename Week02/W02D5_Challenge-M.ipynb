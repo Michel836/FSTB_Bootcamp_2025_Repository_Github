{
 "cells": [
  {
   "cell_type": "markdown",
   "id": "10510872",
   "metadata": {},
   "source": [
    "# Daily Challenge: Interactive Data Visualization with Matplotlib and Seaborn\n",
    "\n",
    "\n",
    "## 👩‍🏫 👩🏿‍🏫 What You’ll learn\n",
    "Advanced data visualization techniques.\n",
    "Interactive chart creation using Matplotlib.\n",
    "Elegant static data presentation with Seaborn.\n",
    "\n",
    "\n",
    "## Your Task\n",
    "\n",
    "\n",
    "### 1. Data Preparation:\n",
    "Download and explore the US Superstore data.\n",
    "Perform basic data cleaning and preprocessing.\n",
    "\n",
    "\n",
    "### 2. Data Visualization with Matplotlib:\n",
    "Create an interactive line chart to show sales trends over the years.\n",
    "Build an interactive map to visualize sales distribution by country.\n",
    "\n",
    "\n",
    "### 3. Data Visualization with Seaborn:\n",
    "Use Seaborn to generate a bar chart showing top 10 products by sales.\n",
    "Create a scatter plot to analyze the relationship between profit and discount.\n",
    "\n",
    "\n",
    "### 4. Comparative Analysis:\n",
    "Compare the insights gained from Matplotlib and Seaborn visualizations.\n",
    "Document your observations about the ease of use and effectiveness of both tools.\n",
    "\n",
    "\n",
    "### 5. Code and Insights:\n",
    "Write clear, well-documented Python code.\n",
    "Include your analysis and insights as comments or markdown cells in your Jupyter notebook."
   ]
  },
  {
   "cell_type": "markdown",
   "id": "8a12c511",
   "metadata": {},
   "source": [
    "# Phase 1. Data Scoping and Preparation\n",
    "Download and explore the US Superstore data.\n",
    "Perform basic data cleaning and preprocessing."
   ]
  },
  {
   "cell_type": "markdown",
   "id": "b8250b84",
   "metadata": {},
   "source": [
    "## 1 : Importation des bibliothèques nécessaires"
   ]
  },
  {
   "cell_type": "code",
   "execution_count": 2,
   "id": "9786d829",
   "metadata": {},
   "outputs": [],
   "source": [
    "import pandas as pd\n",
    "import numpy as np"
   ]
  },
  {
   "cell_type": "code",
   "execution_count": 3,
   "id": "7250e9cd",
   "metadata": {},
   "outputs": [],
   "source": [
    "# Import des bibliothèques\n",
    "import pandas as pd\n",
    "import numpy as np\n",
    "import sys\n",
    "import subprocess\n",
    "\n",
    "# Vérifie et installe xlrd si nécessaire\n",
    "try:\n",
    "    import xlrd\n",
    "except ImportError:\n",
    "    subprocess.check_call([sys.executable, \"-m\", \"pip\", \"install\", \"--user\", \"xlrd\"])\n",
    "    import xlrd\n"
   ]
  },
  {
   "cell_type": "markdown",
   "id": "d6efffa7",
   "metadata": {},
   "source": [
    "## 2 : Chargement du fichier Excel\n",
    "### Fichier \"US_Superstore data.xls\" est dans le même répertoire que ce notebook"
   ]
  },
  {
   "cell_type": "code",
   "execution_count": 4,
   "id": "53ce5483",
   "metadata": {},
   "outputs": [],
   "source": [
    "# Charger le fichier .xls avec le bon moteur\n",
    "df = pd.read_excel(\"US_Superstore data.xls\", engine=\"xlrd\")\n"
   ]
  },
  {
   "cell_type": "markdown",
   "id": "119fdf77",
   "metadata": {},
   "source": [
    "## 3 : Aperçu des données"
   ]
  },
  {
   "cell_type": "code",
   "execution_count": 5,
   "id": "058e2043",
   "metadata": {},
   "outputs": [
    {
     "data": {
      "application/vnd.microsoft.datawrangler.viewer.v0+json": {
       "columns": [
        {
         "name": "index",
         "rawType": "int64",
         "type": "integer"
        },
        {
         "name": "Row ID",
         "rawType": "int64",
         "type": "integer"
        },
        {
         "name": "Order ID",
         "rawType": "object",
         "type": "string"
        },
        {
         "name": "Order Date",
         "rawType": "datetime64[ns]",
         "type": "datetime"
        },
        {
         "name": "Ship Date",
         "rawType": "datetime64[ns]",
         "type": "datetime"
        },
        {
         "name": "Ship Mode",
         "rawType": "object",
         "type": "string"
        },
        {
         "name": "Customer ID",
         "rawType": "object",
         "type": "string"
        },
        {
         "name": "Customer Name",
         "rawType": "object",
         "type": "string"
        },
        {
         "name": "Segment",
         "rawType": "object",
         "type": "string"
        },
        {
         "name": "Country",
         "rawType": "object",
         "type": "string"
        },
        {
         "name": "City",
         "rawType": "object",
         "type": "string"
        },
        {
         "name": "State",
         "rawType": "object",
         "type": "string"
        },
        {
         "name": "Postal Code",
         "rawType": "int64",
         "type": "integer"
        },
        {
         "name": "Region",
         "rawType": "object",
         "type": "string"
        },
        {
         "name": "Product ID",
         "rawType": "object",
         "type": "string"
        },
        {
         "name": "Category",
         "rawType": "object",
         "type": "string"
        },
        {
         "name": "Sub-Category",
         "rawType": "object",
         "type": "string"
        },
        {
         "name": "Product Name",
         "rawType": "object",
         "type": "string"
        },
        {
         "name": "Sales",
         "rawType": "float64",
         "type": "float"
        },
        {
         "name": "Quantity",
         "rawType": "int64",
         "type": "integer"
        },
        {
         "name": "Discount",
         "rawType": "float64",
         "type": "float"
        },
        {
         "name": "Profit",
         "rawType": "float64",
         "type": "float"
        }
       ],
       "ref": "624ea5b6-0b0f-4c6f-91e4-ee857d4b59c5",
       "rows": [
        [
         "0",
         "1",
         "CA-2016-152156",
         "2016-11-08 00:00:00",
         "2016-11-11 00:00:00",
         "Second Class",
         "CG-12520",
         "Claire Gute",
         "Consumer",
         "United States",
         "Henderson",
         "Kentucky",
         "42420",
         "South",
         "FUR-BO-10001798",
         "Furniture",
         "Bookcases",
         "Bush Somerset Collection Bookcase",
         "261.96",
         "2",
         "0.0",
         "41.9136"
        ],
        [
         "1",
         "2",
         "CA-2016-152156",
         "2016-11-08 00:00:00",
         "2016-11-11 00:00:00",
         "Second Class",
         "CG-12520",
         "Claire Gute",
         "Consumer",
         "United States",
         "Henderson",
         "Kentucky",
         "42420",
         "South",
         "FUR-CH-10000454",
         "Furniture",
         "Chairs",
         "Hon Deluxe Fabric Upholstered Stacking Chairs, Rounded Back",
         "731.9399999999999",
         "3",
         "0.0",
         "219.58199999999997"
        ],
        [
         "2",
         "3",
         "CA-2016-138688",
         "2016-06-12 00:00:00",
         "2016-06-16 00:00:00",
         "Second Class",
         "DV-13045",
         "Darrin Van Huff",
         "Corporate",
         "United States",
         "Los Angeles",
         "California",
         "90036",
         "West",
         "OFF-LA-10000240",
         "Office Supplies",
         "Labels",
         "Self-Adhesive Address Labels for Typewriters by Universal",
         "14.62",
         "2",
         "0.0",
         "6.8713999999999995"
        ],
        [
         "3",
         "4",
         "US-2015-108966",
         "2015-10-11 00:00:00",
         "2015-10-18 00:00:00",
         "Standard Class",
         "SO-20335",
         "Sean O'Donnell",
         "Consumer",
         "United States",
         "Fort Lauderdale",
         "Florida",
         "33311",
         "South",
         "FUR-TA-10000577",
         "Furniture",
         "Tables",
         "Bretford CR4500 Series Slim Rectangular Table",
         "957.5775",
         "5",
         "0.45",
         "-383.03100000000006"
        ],
        [
         "4",
         "5",
         "US-2015-108966",
         "2015-10-11 00:00:00",
         "2015-10-18 00:00:00",
         "Standard Class",
         "SO-20335",
         "Sean O'Donnell",
         "Consumer",
         "United States",
         "Fort Lauderdale",
         "Florida",
         "33311",
         "South",
         "OFF-ST-10000760",
         "Office Supplies",
         "Storage",
         "Eldon Fold 'N Roll Cart System",
         "22.368000000000002",
         "2",
         "0.2",
         "2.516399999999999"
        ]
       ],
       "shape": {
        "columns": 21,
        "rows": 5
       }
      },
      "text/html": [
       "<div>\n",
       "<style scoped>\n",
       "    .dataframe tbody tr th:only-of-type {\n",
       "        vertical-align: middle;\n",
       "    }\n",
       "\n",
       "    .dataframe tbody tr th {\n",
       "        vertical-align: top;\n",
       "    }\n",
       "\n",
       "    .dataframe thead th {\n",
       "        text-align: right;\n",
       "    }\n",
       "</style>\n",
       "<table border=\"1\" class=\"dataframe\">\n",
       "  <thead>\n",
       "    <tr style=\"text-align: right;\">\n",
       "      <th></th>\n",
       "      <th>Row ID</th>\n",
       "      <th>Order ID</th>\n",
       "      <th>Order Date</th>\n",
       "      <th>Ship Date</th>\n",
       "      <th>Ship Mode</th>\n",
       "      <th>Customer ID</th>\n",
       "      <th>Customer Name</th>\n",
       "      <th>Segment</th>\n",
       "      <th>Country</th>\n",
       "      <th>City</th>\n",
       "      <th>...</th>\n",
       "      <th>Postal Code</th>\n",
       "      <th>Region</th>\n",
       "      <th>Product ID</th>\n",
       "      <th>Category</th>\n",
       "      <th>Sub-Category</th>\n",
       "      <th>Product Name</th>\n",
       "      <th>Sales</th>\n",
       "      <th>Quantity</th>\n",
       "      <th>Discount</th>\n",
       "      <th>Profit</th>\n",
       "    </tr>\n",
       "  </thead>\n",
       "  <tbody>\n",
       "    <tr>\n",
       "      <th>0</th>\n",
       "      <td>1</td>\n",
       "      <td>CA-2016-152156</td>\n",
       "      <td>2016-11-08</td>\n",
       "      <td>2016-11-11</td>\n",
       "      <td>Second Class</td>\n",
       "      <td>CG-12520</td>\n",
       "      <td>Claire Gute</td>\n",
       "      <td>Consumer</td>\n",
       "      <td>United States</td>\n",
       "      <td>Henderson</td>\n",
       "      <td>...</td>\n",
       "      <td>42420</td>\n",
       "      <td>South</td>\n",
       "      <td>FUR-BO-10001798</td>\n",
       "      <td>Furniture</td>\n",
       "      <td>Bookcases</td>\n",
       "      <td>Bush Somerset Collection Bookcase</td>\n",
       "      <td>261.9600</td>\n",
       "      <td>2</td>\n",
       "      <td>0.00</td>\n",
       "      <td>41.9136</td>\n",
       "    </tr>\n",
       "    <tr>\n",
       "      <th>1</th>\n",
       "      <td>2</td>\n",
       "      <td>CA-2016-152156</td>\n",
       "      <td>2016-11-08</td>\n",
       "      <td>2016-11-11</td>\n",
       "      <td>Second Class</td>\n",
       "      <td>CG-12520</td>\n",
       "      <td>Claire Gute</td>\n",
       "      <td>Consumer</td>\n",
       "      <td>United States</td>\n",
       "      <td>Henderson</td>\n",
       "      <td>...</td>\n",
       "      <td>42420</td>\n",
       "      <td>South</td>\n",
       "      <td>FUR-CH-10000454</td>\n",
       "      <td>Furniture</td>\n",
       "      <td>Chairs</td>\n",
       "      <td>Hon Deluxe Fabric Upholstered Stacking Chairs,...</td>\n",
       "      <td>731.9400</td>\n",
       "      <td>3</td>\n",
       "      <td>0.00</td>\n",
       "      <td>219.5820</td>\n",
       "    </tr>\n",
       "    <tr>\n",
       "      <th>2</th>\n",
       "      <td>3</td>\n",
       "      <td>CA-2016-138688</td>\n",
       "      <td>2016-06-12</td>\n",
       "      <td>2016-06-16</td>\n",
       "      <td>Second Class</td>\n",
       "      <td>DV-13045</td>\n",
       "      <td>Darrin Van Huff</td>\n",
       "      <td>Corporate</td>\n",
       "      <td>United States</td>\n",
       "      <td>Los Angeles</td>\n",
       "      <td>...</td>\n",
       "      <td>90036</td>\n",
       "      <td>West</td>\n",
       "      <td>OFF-LA-10000240</td>\n",
       "      <td>Office Supplies</td>\n",
       "      <td>Labels</td>\n",
       "      <td>Self-Adhesive Address Labels for Typewriters b...</td>\n",
       "      <td>14.6200</td>\n",
       "      <td>2</td>\n",
       "      <td>0.00</td>\n",
       "      <td>6.8714</td>\n",
       "    </tr>\n",
       "    <tr>\n",
       "      <th>3</th>\n",
       "      <td>4</td>\n",
       "      <td>US-2015-108966</td>\n",
       "      <td>2015-10-11</td>\n",
       "      <td>2015-10-18</td>\n",
       "      <td>Standard Class</td>\n",
       "      <td>SO-20335</td>\n",
       "      <td>Sean O'Donnell</td>\n",
       "      <td>Consumer</td>\n",
       "      <td>United States</td>\n",
       "      <td>Fort Lauderdale</td>\n",
       "      <td>...</td>\n",
       "      <td>33311</td>\n",
       "      <td>South</td>\n",
       "      <td>FUR-TA-10000577</td>\n",
       "      <td>Furniture</td>\n",
       "      <td>Tables</td>\n",
       "      <td>Bretford CR4500 Series Slim Rectangular Table</td>\n",
       "      <td>957.5775</td>\n",
       "      <td>5</td>\n",
       "      <td>0.45</td>\n",
       "      <td>-383.0310</td>\n",
       "    </tr>\n",
       "    <tr>\n",
       "      <th>4</th>\n",
       "      <td>5</td>\n",
       "      <td>US-2015-108966</td>\n",
       "      <td>2015-10-11</td>\n",
       "      <td>2015-10-18</td>\n",
       "      <td>Standard Class</td>\n",
       "      <td>SO-20335</td>\n",
       "      <td>Sean O'Donnell</td>\n",
       "      <td>Consumer</td>\n",
       "      <td>United States</td>\n",
       "      <td>Fort Lauderdale</td>\n",
       "      <td>...</td>\n",
       "      <td>33311</td>\n",
       "      <td>South</td>\n",
       "      <td>OFF-ST-10000760</td>\n",
       "      <td>Office Supplies</td>\n",
       "      <td>Storage</td>\n",
       "      <td>Eldon Fold 'N Roll Cart System</td>\n",
       "      <td>22.3680</td>\n",
       "      <td>2</td>\n",
       "      <td>0.20</td>\n",
       "      <td>2.5164</td>\n",
       "    </tr>\n",
       "  </tbody>\n",
       "</table>\n",
       "<p>5 rows × 21 columns</p>\n",
       "</div>"
      ],
      "text/plain": [
       "   Row ID        Order ID Order Date  Ship Date       Ship Mode Customer ID  \\\n",
       "0       1  CA-2016-152156 2016-11-08 2016-11-11    Second Class    CG-12520   \n",
       "1       2  CA-2016-152156 2016-11-08 2016-11-11    Second Class    CG-12520   \n",
       "2       3  CA-2016-138688 2016-06-12 2016-06-16    Second Class    DV-13045   \n",
       "3       4  US-2015-108966 2015-10-11 2015-10-18  Standard Class    SO-20335   \n",
       "4       5  US-2015-108966 2015-10-11 2015-10-18  Standard Class    SO-20335   \n",
       "\n",
       "     Customer Name    Segment        Country             City  ...  \\\n",
       "0      Claire Gute   Consumer  United States        Henderson  ...   \n",
       "1      Claire Gute   Consumer  United States        Henderson  ...   \n",
       "2  Darrin Van Huff  Corporate  United States      Los Angeles  ...   \n",
       "3   Sean O'Donnell   Consumer  United States  Fort Lauderdale  ...   \n",
       "4   Sean O'Donnell   Consumer  United States  Fort Lauderdale  ...   \n",
       "\n",
       "  Postal Code  Region       Product ID         Category Sub-Category  \\\n",
       "0       42420   South  FUR-BO-10001798        Furniture    Bookcases   \n",
       "1       42420   South  FUR-CH-10000454        Furniture       Chairs   \n",
       "2       90036    West  OFF-LA-10000240  Office Supplies       Labels   \n",
       "3       33311   South  FUR-TA-10000577        Furniture       Tables   \n",
       "4       33311   South  OFF-ST-10000760  Office Supplies      Storage   \n",
       "\n",
       "                                        Product Name     Sales  Quantity  \\\n",
       "0                  Bush Somerset Collection Bookcase  261.9600         2   \n",
       "1  Hon Deluxe Fabric Upholstered Stacking Chairs,...  731.9400         3   \n",
       "2  Self-Adhesive Address Labels for Typewriters b...   14.6200         2   \n",
       "3      Bretford CR4500 Series Slim Rectangular Table  957.5775         5   \n",
       "4                     Eldon Fold 'N Roll Cart System   22.3680         2   \n",
       "\n",
       "   Discount    Profit  \n",
       "0      0.00   41.9136  \n",
       "1      0.00  219.5820  \n",
       "2      0.00    6.8714  \n",
       "3      0.45 -383.0310  \n",
       "4      0.20    2.5164  \n",
       "\n",
       "[5 rows x 21 columns]"
      ]
     },
     "execution_count": 5,
     "metadata": {},
     "output_type": "execute_result"
    }
   ],
   "source": [
    "df.head()\n"
   ]
  },
  {
   "cell_type": "code",
   "execution_count": 6,
   "id": "b74e0859",
   "metadata": {},
   "outputs": [
    {
     "name": "stdout",
     "output_type": "stream",
     "text": [
      "['Row ID', 'Order ID', 'Order Date', 'Ship Date', 'Ship Mode', 'Customer ID', 'Customer Name', 'Segment', 'Country', 'City', 'State', 'Postal Code', 'Region', 'Product ID', 'Category', 'Sub-Category', 'Product Name', 'Sales', 'Quantity', 'Discount', 'Profit']\n"
     ]
    }
   ],
   "source": [
    "print(df.columns.tolist())\n"
   ]
  },
  {
   "cell_type": "code",
   "execution_count": 7,
   "id": "e8ad6cbb",
   "metadata": {},
   "outputs": [
    {
     "name": "stdout",
     "output_type": "stream",
     "text": [
      "Date minimale : 2014-01-03 00:00:00\n",
      "Date maximale : 2017-12-30 00:00:00\n"
     ]
    }
   ],
   "source": [
    "df['Order Date'] = pd.to_datetime(df['Order Date'])\n",
    "print(\"Date minimale :\", df['Order Date'].min())\n",
    "print(\"Date maximale :\", df['Order Date'].max())\n"
   ]
  },
  {
   "cell_type": "code",
   "execution_count": 8,
   "id": "fbf0e38a",
   "metadata": {},
   "outputs": [],
   "source": [
    "df.columns = df.columns.str.strip().str.replace(\" \", \"_\").str.lower()\n"
   ]
  },
  {
   "cell_type": "code",
   "execution_count": 9,
   "id": "185efc83",
   "metadata": {},
   "outputs": [
    {
     "name": "stdout",
     "output_type": "stream",
     "text": [
      "Date minimale : 2014-01-03 00:00:00\n",
      "Date maximale : 2017-12-30 00:00:00\n"
     ]
    }
   ],
   "source": [
    "print(\"Date minimale :\", df['order_date'].min())\n",
    "print(\"Date maximale :\", df['order_date'].max())\n"
   ]
  },
  {
   "cell_type": "markdown",
   "id": "95b25f82",
   "metadata": {},
   "source": [
    "## 4 : Informations générales"
   ]
  },
  {
   "cell_type": "code",
   "execution_count": 10,
   "id": "515948c9",
   "metadata": {},
   "outputs": [
    {
     "name": "stdout",
     "output_type": "stream",
     "text": [
      "<class 'pandas.core.frame.DataFrame'>\n",
      "RangeIndex: 9994 entries, 0 to 9993\n",
      "Data columns (total 21 columns):\n",
      " #   Column         Non-Null Count  Dtype         \n",
      "---  ------         --------------  -----         \n",
      " 0   row_id         9994 non-null   int64         \n",
      " 1   order_id       9994 non-null   object        \n",
      " 2   order_date     9994 non-null   datetime64[ns]\n",
      " 3   ship_date      9994 non-null   datetime64[ns]\n",
      " 4   ship_mode      9994 non-null   object        \n",
      " 5   customer_id    9994 non-null   object        \n",
      " 6   customer_name  9994 non-null   object        \n",
      " 7   segment        9994 non-null   object        \n",
      " 8   country        9994 non-null   object        \n",
      " 9   city           9994 non-null   object        \n",
      " 10  state          9994 non-null   object        \n",
      " 11  postal_code    9994 non-null   int64         \n",
      " 12  region         9994 non-null   object        \n",
      " 13  product_id     9994 non-null   object        \n",
      " 14  category       9994 non-null   object        \n",
      " 15  sub-category   9994 non-null   object        \n",
      " 16  product_name   9994 non-null   object        \n",
      " 17  sales          9994 non-null   float64       \n",
      " 18  quantity       9994 non-null   int64         \n",
      " 19  discount       9994 non-null   float64       \n",
      " 20  profit         9994 non-null   float64       \n",
      "dtypes: datetime64[ns](2), float64(3), int64(3), object(13)\n",
      "memory usage: 1.6+ MB\n"
     ]
    }
   ],
   "source": [
    "df.info()\n"
   ]
  },
  {
   "cell_type": "markdown",
   "id": "988322cf",
   "metadata": {},
   "source": [
    "## 5 : Statistiques descriptives"
   ]
  },
  {
   "cell_type": "code",
   "execution_count": 11,
   "id": "0f1995d8",
   "metadata": {},
   "outputs": [
    {
     "data": {
      "application/vnd.microsoft.datawrangler.viewer.v0+json": {
       "columns": [
        {
         "name": "index",
         "rawType": "object",
         "type": "string"
        },
        {
         "name": "row_id",
         "rawType": "float64",
         "type": "float"
        },
        {
         "name": "order_id",
         "rawType": "object",
         "type": "unknown"
        },
        {
         "name": "order_date",
         "rawType": "object",
         "type": "unknown"
        },
        {
         "name": "ship_date",
         "rawType": "object",
         "type": "unknown"
        },
        {
         "name": "ship_mode",
         "rawType": "object",
         "type": "unknown"
        },
        {
         "name": "customer_id",
         "rawType": "object",
         "type": "unknown"
        },
        {
         "name": "customer_name",
         "rawType": "object",
         "type": "unknown"
        },
        {
         "name": "segment",
         "rawType": "object",
         "type": "unknown"
        },
        {
         "name": "country",
         "rawType": "object",
         "type": "unknown"
        },
        {
         "name": "city",
         "rawType": "object",
         "type": "unknown"
        },
        {
         "name": "state",
         "rawType": "object",
         "type": "unknown"
        },
        {
         "name": "postal_code",
         "rawType": "float64",
         "type": "float"
        },
        {
         "name": "region",
         "rawType": "object",
         "type": "unknown"
        },
        {
         "name": "product_id",
         "rawType": "object",
         "type": "unknown"
        },
        {
         "name": "category",
         "rawType": "object",
         "type": "unknown"
        },
        {
         "name": "sub-category",
         "rawType": "object",
         "type": "unknown"
        },
        {
         "name": "product_name",
         "rawType": "object",
         "type": "unknown"
        },
        {
         "name": "sales",
         "rawType": "float64",
         "type": "float"
        },
        {
         "name": "quantity",
         "rawType": "float64",
         "type": "float"
        },
        {
         "name": "discount",
         "rawType": "float64",
         "type": "float"
        },
        {
         "name": "profit",
         "rawType": "float64",
         "type": "float"
        }
       ],
       "ref": "9eb6f260-415c-41da-8064-06e4ccd7dacc",
       "rows": [
        [
         "count",
         "9994.0",
         "9994",
         "9994",
         "9994",
         "9994",
         "9994",
         "9994",
         "9994",
         "9994",
         "9994",
         "9994",
         "9994.0",
         "9994",
         "9994",
         "9994",
         "9994",
         "9994",
         "9994.0",
         "9994.0",
         "9994.0",
         "9994.0"
        ],
        [
         "unique",
         null,
         "5009",
         null,
         null,
         "4",
         "793",
         "793",
         "3",
         "1",
         "531",
         "49",
         null,
         "4",
         "1862",
         "3",
         "17",
         "1850",
         null,
         null,
         null,
         null
        ],
        [
         "top",
         null,
         "CA-2017-100111",
         null,
         null,
         "Standard Class",
         "WB-21850",
         "William Brown",
         "Consumer",
         "United States",
         "New York City",
         "California",
         null,
         "West",
         "OFF-PA-10001970",
         "Office Supplies",
         "Binders",
         "Staple envelope",
         null,
         null,
         null,
         null
        ],
        [
         "freq",
         null,
         "14",
         null,
         null,
         "5968",
         "37",
         "37",
         "5191",
         "9994",
         "915",
         "2001",
         null,
         "3203",
         "19",
         "6026",
         "1523",
         "48",
         null,
         null,
         null,
         null
        ],
        [
         "mean",
         "4997.5",
         null,
         "2016-04-30 00:07:12.259355648",
         "2016-05-03 23:06:58.571142912",
         null,
         null,
         null,
         null,
         null,
         null,
         null,
         "55190.3794276566",
         null,
         null,
         null,
         null,
         null,
         "229.85800083049827",
         "3.789573744246548",
         "0.1562027216329798",
         "28.656896307784663"
        ],
        [
         "min",
         "1.0",
         null,
         "2014-01-03 00:00:00",
         "2014-01-07 00:00:00",
         null,
         null,
         null,
         null,
         null,
         null,
         null,
         "1040.0",
         null,
         null,
         null,
         null,
         null,
         "0.44399999999999995",
         "1.0",
         "0.0",
         "-6599.978000000001"
        ],
        [
         "25%",
         "2499.25",
         null,
         "2015-05-23 00:00:00",
         "2015-05-27 00:00:00",
         null,
         null,
         null,
         null,
         null,
         null,
         null,
         "23223.0",
         null,
         null,
         null,
         null,
         null,
         "17.28",
         "2.0",
         "0.0",
         "1.72875"
        ],
        [
         "50%",
         "4997.5",
         null,
         "2016-06-26 00:00:00",
         "2016-06-29 00:00:00",
         null,
         null,
         null,
         null,
         null,
         null,
         null,
         "56430.5",
         null,
         null,
         null,
         null,
         null,
         "54.489999999999995",
         "3.0",
         "0.2",
         "8.666499999999996"
        ],
        [
         "75%",
         "7495.75",
         null,
         "2017-05-14 00:00:00",
         "2017-05-18 00:00:00",
         null,
         null,
         null,
         null,
         null,
         null,
         null,
         "90008.0",
         null,
         null,
         null,
         null,
         null,
         "209.94",
         "5.0",
         "0.2",
         "29.363999999999997"
        ],
        [
         "max",
         "9994.0",
         null,
         "2017-12-30 00:00:00",
         "2018-01-05 00:00:00",
         null,
         null,
         null,
         null,
         null,
         null,
         null,
         "99301.0",
         null,
         null,
         null,
         null,
         null,
         "22638.48",
         "14.0",
         "0.8",
         "8399.975999999999"
        ],
        [
         "std",
         "2885.1636290974325",
         null,
         null,
         null,
         null,
         null,
         null,
         null,
         null,
         null,
         null,
         "32063.69335036448",
         null,
         null,
         null,
         null,
         null,
         "623.2451005086807",
         "2.2251096911414",
         "0.20645196782571615",
         "234.26010769095728"
        ]
       ],
       "shape": {
        "columns": 21,
        "rows": 11
       }
      },
      "text/html": [
       "<div>\n",
       "<style scoped>\n",
       "    .dataframe tbody tr th:only-of-type {\n",
       "        vertical-align: middle;\n",
       "    }\n",
       "\n",
       "    .dataframe tbody tr th {\n",
       "        vertical-align: top;\n",
       "    }\n",
       "\n",
       "    .dataframe thead th {\n",
       "        text-align: right;\n",
       "    }\n",
       "</style>\n",
       "<table border=\"1\" class=\"dataframe\">\n",
       "  <thead>\n",
       "    <tr style=\"text-align: right;\">\n",
       "      <th></th>\n",
       "      <th>row_id</th>\n",
       "      <th>order_id</th>\n",
       "      <th>order_date</th>\n",
       "      <th>ship_date</th>\n",
       "      <th>ship_mode</th>\n",
       "      <th>customer_id</th>\n",
       "      <th>customer_name</th>\n",
       "      <th>segment</th>\n",
       "      <th>country</th>\n",
       "      <th>city</th>\n",
       "      <th>...</th>\n",
       "      <th>postal_code</th>\n",
       "      <th>region</th>\n",
       "      <th>product_id</th>\n",
       "      <th>category</th>\n",
       "      <th>sub-category</th>\n",
       "      <th>product_name</th>\n",
       "      <th>sales</th>\n",
       "      <th>quantity</th>\n",
       "      <th>discount</th>\n",
       "      <th>profit</th>\n",
       "    </tr>\n",
       "  </thead>\n",
       "  <tbody>\n",
       "    <tr>\n",
       "      <th>count</th>\n",
       "      <td>9994.000000</td>\n",
       "      <td>9994</td>\n",
       "      <td>9994</td>\n",
       "      <td>9994</td>\n",
       "      <td>9994</td>\n",
       "      <td>9994</td>\n",
       "      <td>9994</td>\n",
       "      <td>9994</td>\n",
       "      <td>9994</td>\n",
       "      <td>9994</td>\n",
       "      <td>...</td>\n",
       "      <td>9994.000000</td>\n",
       "      <td>9994</td>\n",
       "      <td>9994</td>\n",
       "      <td>9994</td>\n",
       "      <td>9994</td>\n",
       "      <td>9994</td>\n",
       "      <td>9994.000000</td>\n",
       "      <td>9994.000000</td>\n",
       "      <td>9994.000000</td>\n",
       "      <td>9994.000000</td>\n",
       "    </tr>\n",
       "    <tr>\n",
       "      <th>unique</th>\n",
       "      <td>NaN</td>\n",
       "      <td>5009</td>\n",
       "      <td>NaN</td>\n",
       "      <td>NaN</td>\n",
       "      <td>4</td>\n",
       "      <td>793</td>\n",
       "      <td>793</td>\n",
       "      <td>3</td>\n",
       "      <td>1</td>\n",
       "      <td>531</td>\n",
       "      <td>...</td>\n",
       "      <td>NaN</td>\n",
       "      <td>4</td>\n",
       "      <td>1862</td>\n",
       "      <td>3</td>\n",
       "      <td>17</td>\n",
       "      <td>1850</td>\n",
       "      <td>NaN</td>\n",
       "      <td>NaN</td>\n",
       "      <td>NaN</td>\n",
       "      <td>NaN</td>\n",
       "    </tr>\n",
       "    <tr>\n",
       "      <th>top</th>\n",
       "      <td>NaN</td>\n",
       "      <td>CA-2017-100111</td>\n",
       "      <td>NaN</td>\n",
       "      <td>NaN</td>\n",
       "      <td>Standard Class</td>\n",
       "      <td>WB-21850</td>\n",
       "      <td>William Brown</td>\n",
       "      <td>Consumer</td>\n",
       "      <td>United States</td>\n",
       "      <td>New York City</td>\n",
       "      <td>...</td>\n",
       "      <td>NaN</td>\n",
       "      <td>West</td>\n",
       "      <td>OFF-PA-10001970</td>\n",
       "      <td>Office Supplies</td>\n",
       "      <td>Binders</td>\n",
       "      <td>Staple envelope</td>\n",
       "      <td>NaN</td>\n",
       "      <td>NaN</td>\n",
       "      <td>NaN</td>\n",
       "      <td>NaN</td>\n",
       "    </tr>\n",
       "    <tr>\n",
       "      <th>freq</th>\n",
       "      <td>NaN</td>\n",
       "      <td>14</td>\n",
       "      <td>NaN</td>\n",
       "      <td>NaN</td>\n",
       "      <td>5968</td>\n",
       "      <td>37</td>\n",
       "      <td>37</td>\n",
       "      <td>5191</td>\n",
       "      <td>9994</td>\n",
       "      <td>915</td>\n",
       "      <td>...</td>\n",
       "      <td>NaN</td>\n",
       "      <td>3203</td>\n",
       "      <td>19</td>\n",
       "      <td>6026</td>\n",
       "      <td>1523</td>\n",
       "      <td>48</td>\n",
       "      <td>NaN</td>\n",
       "      <td>NaN</td>\n",
       "      <td>NaN</td>\n",
       "      <td>NaN</td>\n",
       "    </tr>\n",
       "    <tr>\n",
       "      <th>mean</th>\n",
       "      <td>4997.500000</td>\n",
       "      <td>NaN</td>\n",
       "      <td>2016-04-30 00:07:12.259355648</td>\n",
       "      <td>2016-05-03 23:06:58.571142912</td>\n",
       "      <td>NaN</td>\n",
       "      <td>NaN</td>\n",
       "      <td>NaN</td>\n",
       "      <td>NaN</td>\n",
       "      <td>NaN</td>\n",
       "      <td>NaN</td>\n",
       "      <td>...</td>\n",
       "      <td>55190.379428</td>\n",
       "      <td>NaN</td>\n",
       "      <td>NaN</td>\n",
       "      <td>NaN</td>\n",
       "      <td>NaN</td>\n",
       "      <td>NaN</td>\n",
       "      <td>229.858001</td>\n",
       "      <td>3.789574</td>\n",
       "      <td>0.156203</td>\n",
       "      <td>28.656896</td>\n",
       "    </tr>\n",
       "    <tr>\n",
       "      <th>min</th>\n",
       "      <td>1.000000</td>\n",
       "      <td>NaN</td>\n",
       "      <td>2014-01-03 00:00:00</td>\n",
       "      <td>2014-01-07 00:00:00</td>\n",
       "      <td>NaN</td>\n",
       "      <td>NaN</td>\n",
       "      <td>NaN</td>\n",
       "      <td>NaN</td>\n",
       "      <td>NaN</td>\n",
       "      <td>NaN</td>\n",
       "      <td>...</td>\n",
       "      <td>1040.000000</td>\n",
       "      <td>NaN</td>\n",
       "      <td>NaN</td>\n",
       "      <td>NaN</td>\n",
       "      <td>NaN</td>\n",
       "      <td>NaN</td>\n",
       "      <td>0.444000</td>\n",
       "      <td>1.000000</td>\n",
       "      <td>0.000000</td>\n",
       "      <td>-6599.978000</td>\n",
       "    </tr>\n",
       "    <tr>\n",
       "      <th>25%</th>\n",
       "      <td>2499.250000</td>\n",
       "      <td>NaN</td>\n",
       "      <td>2015-05-23 00:00:00</td>\n",
       "      <td>2015-05-27 00:00:00</td>\n",
       "      <td>NaN</td>\n",
       "      <td>NaN</td>\n",
       "      <td>NaN</td>\n",
       "      <td>NaN</td>\n",
       "      <td>NaN</td>\n",
       "      <td>NaN</td>\n",
       "      <td>...</td>\n",
       "      <td>23223.000000</td>\n",
       "      <td>NaN</td>\n",
       "      <td>NaN</td>\n",
       "      <td>NaN</td>\n",
       "      <td>NaN</td>\n",
       "      <td>NaN</td>\n",
       "      <td>17.280000</td>\n",
       "      <td>2.000000</td>\n",
       "      <td>0.000000</td>\n",
       "      <td>1.728750</td>\n",
       "    </tr>\n",
       "    <tr>\n",
       "      <th>50%</th>\n",
       "      <td>4997.500000</td>\n",
       "      <td>NaN</td>\n",
       "      <td>2016-06-26 00:00:00</td>\n",
       "      <td>2016-06-29 00:00:00</td>\n",
       "      <td>NaN</td>\n",
       "      <td>NaN</td>\n",
       "      <td>NaN</td>\n",
       "      <td>NaN</td>\n",
       "      <td>NaN</td>\n",
       "      <td>NaN</td>\n",
       "      <td>...</td>\n",
       "      <td>56430.500000</td>\n",
       "      <td>NaN</td>\n",
       "      <td>NaN</td>\n",
       "      <td>NaN</td>\n",
       "      <td>NaN</td>\n",
       "      <td>NaN</td>\n",
       "      <td>54.490000</td>\n",
       "      <td>3.000000</td>\n",
       "      <td>0.200000</td>\n",
       "      <td>8.666500</td>\n",
       "    </tr>\n",
       "    <tr>\n",
       "      <th>75%</th>\n",
       "      <td>7495.750000</td>\n",
       "      <td>NaN</td>\n",
       "      <td>2017-05-14 00:00:00</td>\n",
       "      <td>2017-05-18 00:00:00</td>\n",
       "      <td>NaN</td>\n",
       "      <td>NaN</td>\n",
       "      <td>NaN</td>\n",
       "      <td>NaN</td>\n",
       "      <td>NaN</td>\n",
       "      <td>NaN</td>\n",
       "      <td>...</td>\n",
       "      <td>90008.000000</td>\n",
       "      <td>NaN</td>\n",
       "      <td>NaN</td>\n",
       "      <td>NaN</td>\n",
       "      <td>NaN</td>\n",
       "      <td>NaN</td>\n",
       "      <td>209.940000</td>\n",
       "      <td>5.000000</td>\n",
       "      <td>0.200000</td>\n",
       "      <td>29.364000</td>\n",
       "    </tr>\n",
       "    <tr>\n",
       "      <th>max</th>\n",
       "      <td>9994.000000</td>\n",
       "      <td>NaN</td>\n",
       "      <td>2017-12-30 00:00:00</td>\n",
       "      <td>2018-01-05 00:00:00</td>\n",
       "      <td>NaN</td>\n",
       "      <td>NaN</td>\n",
       "      <td>NaN</td>\n",
       "      <td>NaN</td>\n",
       "      <td>NaN</td>\n",
       "      <td>NaN</td>\n",
       "      <td>...</td>\n",
       "      <td>99301.000000</td>\n",
       "      <td>NaN</td>\n",
       "      <td>NaN</td>\n",
       "      <td>NaN</td>\n",
       "      <td>NaN</td>\n",
       "      <td>NaN</td>\n",
       "      <td>22638.480000</td>\n",
       "      <td>14.000000</td>\n",
       "      <td>0.800000</td>\n",
       "      <td>8399.976000</td>\n",
       "    </tr>\n",
       "    <tr>\n",
       "      <th>std</th>\n",
       "      <td>2885.163629</td>\n",
       "      <td>NaN</td>\n",
       "      <td>NaN</td>\n",
       "      <td>NaN</td>\n",
       "      <td>NaN</td>\n",
       "      <td>NaN</td>\n",
       "      <td>NaN</td>\n",
       "      <td>NaN</td>\n",
       "      <td>NaN</td>\n",
       "      <td>NaN</td>\n",
       "      <td>...</td>\n",
       "      <td>32063.693350</td>\n",
       "      <td>NaN</td>\n",
       "      <td>NaN</td>\n",
       "      <td>NaN</td>\n",
       "      <td>NaN</td>\n",
       "      <td>NaN</td>\n",
       "      <td>623.245101</td>\n",
       "      <td>2.225110</td>\n",
       "      <td>0.206452</td>\n",
       "      <td>234.260108</td>\n",
       "    </tr>\n",
       "  </tbody>\n",
       "</table>\n",
       "<p>11 rows × 21 columns</p>\n",
       "</div>"
      ],
      "text/plain": [
       "             row_id        order_id                     order_date  \\\n",
       "count   9994.000000            9994                           9994   \n",
       "unique          NaN            5009                            NaN   \n",
       "top             NaN  CA-2017-100111                            NaN   \n",
       "freq            NaN              14                            NaN   \n",
       "mean    4997.500000             NaN  2016-04-30 00:07:12.259355648   \n",
       "min        1.000000             NaN            2014-01-03 00:00:00   \n",
       "25%     2499.250000             NaN            2015-05-23 00:00:00   \n",
       "50%     4997.500000             NaN            2016-06-26 00:00:00   \n",
       "75%     7495.750000             NaN            2017-05-14 00:00:00   \n",
       "max     9994.000000             NaN            2017-12-30 00:00:00   \n",
       "std     2885.163629             NaN                            NaN   \n",
       "\n",
       "                            ship_date       ship_mode customer_id  \\\n",
       "count                            9994            9994        9994   \n",
       "unique                            NaN               4         793   \n",
       "top                               NaN  Standard Class    WB-21850   \n",
       "freq                              NaN            5968          37   \n",
       "mean    2016-05-03 23:06:58.571142912             NaN         NaN   \n",
       "min               2014-01-07 00:00:00             NaN         NaN   \n",
       "25%               2015-05-27 00:00:00             NaN         NaN   \n",
       "50%               2016-06-29 00:00:00             NaN         NaN   \n",
       "75%               2017-05-18 00:00:00             NaN         NaN   \n",
       "max               2018-01-05 00:00:00             NaN         NaN   \n",
       "std                               NaN             NaN         NaN   \n",
       "\n",
       "        customer_name   segment        country           city  ...  \\\n",
       "count            9994      9994           9994           9994  ...   \n",
       "unique            793         3              1            531  ...   \n",
       "top     William Brown  Consumer  United States  New York City  ...   \n",
       "freq               37      5191           9994            915  ...   \n",
       "mean              NaN       NaN            NaN            NaN  ...   \n",
       "min               NaN       NaN            NaN            NaN  ...   \n",
       "25%               NaN       NaN            NaN            NaN  ...   \n",
       "50%               NaN       NaN            NaN            NaN  ...   \n",
       "75%               NaN       NaN            NaN            NaN  ...   \n",
       "max               NaN       NaN            NaN            NaN  ...   \n",
       "std               NaN       NaN            NaN            NaN  ...   \n",
       "\n",
       "         postal_code  region       product_id         category sub-category  \\\n",
       "count    9994.000000    9994             9994             9994         9994   \n",
       "unique           NaN       4             1862                3           17   \n",
       "top              NaN    West  OFF-PA-10001970  Office Supplies      Binders   \n",
       "freq             NaN    3203               19             6026         1523   \n",
       "mean    55190.379428     NaN              NaN              NaN          NaN   \n",
       "min      1040.000000     NaN              NaN              NaN          NaN   \n",
       "25%     23223.000000     NaN              NaN              NaN          NaN   \n",
       "50%     56430.500000     NaN              NaN              NaN          NaN   \n",
       "75%     90008.000000     NaN              NaN              NaN          NaN   \n",
       "max     99301.000000     NaN              NaN              NaN          NaN   \n",
       "std     32063.693350     NaN              NaN              NaN          NaN   \n",
       "\n",
       "           product_name         sales     quantity     discount       profit  \n",
       "count              9994   9994.000000  9994.000000  9994.000000  9994.000000  \n",
       "unique             1850           NaN          NaN          NaN          NaN  \n",
       "top     Staple envelope           NaN          NaN          NaN          NaN  \n",
       "freq                 48           NaN          NaN          NaN          NaN  \n",
       "mean                NaN    229.858001     3.789574     0.156203    28.656896  \n",
       "min                 NaN      0.444000     1.000000     0.000000 -6599.978000  \n",
       "25%                 NaN     17.280000     2.000000     0.000000     1.728750  \n",
       "50%                 NaN     54.490000     3.000000     0.200000     8.666500  \n",
       "75%                 NaN    209.940000     5.000000     0.200000    29.364000  \n",
       "max                 NaN  22638.480000    14.000000     0.800000  8399.976000  \n",
       "std                 NaN    623.245101     2.225110     0.206452   234.260108  \n",
       "\n",
       "[11 rows x 21 columns]"
      ]
     },
     "execution_count": 11,
     "metadata": {},
     "output_type": "execute_result"
    }
   ],
   "source": [
    "df.describe(include='all')\n"
   ]
  },
  {
   "cell_type": "markdown",
   "id": "a1c30d22",
   "metadata": {},
   "source": [
    "## 6 : Détection et suppression des doublons"
   ]
  },
  {
   "cell_type": "code",
   "execution_count": 12,
   "id": "ac302e35",
   "metadata": {},
   "outputs": [
    {
     "name": "stdout",
     "output_type": "stream",
     "text": [
      "Doublons détectés : 0\n"
     ]
    }
   ],
   "source": [
    "print(\"Doublons détectés :\", df.duplicated().sum())\n",
    "df = df.drop_duplicates()\n"
   ]
  },
  {
   "cell_type": "markdown",
   "id": "86074a40",
   "metadata": {},
   "source": [
    "## 7 : Valeurs manquantes"
   ]
  },
  {
   "cell_type": "code",
   "execution_count": 13,
   "id": "4b994aec",
   "metadata": {},
   "outputs": [
    {
     "data": {
      "application/vnd.microsoft.datawrangler.viewer.v0+json": {
       "columns": [
        {
         "name": "index",
         "rawType": "object",
         "type": "string"
        },
        {
         "name": "0",
         "rawType": "int64",
         "type": "integer"
        }
       ],
       "ref": "c55b75a6-621f-44a1-b27c-d147ee0df591",
       "rows": [
        [
         "row_id",
         "0"
        ],
        [
         "order_id",
         "0"
        ],
        [
         "order_date",
         "0"
        ],
        [
         "ship_date",
         "0"
        ],
        [
         "ship_mode",
         "0"
        ],
        [
         "customer_id",
         "0"
        ],
        [
         "customer_name",
         "0"
        ],
        [
         "segment",
         "0"
        ],
        [
         "country",
         "0"
        ],
        [
         "city",
         "0"
        ],
        [
         "state",
         "0"
        ],
        [
         "postal_code",
         "0"
        ],
        [
         "region",
         "0"
        ],
        [
         "product_id",
         "0"
        ],
        [
         "category",
         "0"
        ],
        [
         "sub-category",
         "0"
        ],
        [
         "product_name",
         "0"
        ],
        [
         "sales",
         "0"
        ],
        [
         "quantity",
         "0"
        ],
        [
         "discount",
         "0"
        ],
        [
         "profit",
         "0"
        ]
       ],
       "shape": {
        "columns": 1,
        "rows": 21
       }
      },
      "text/plain": [
       "row_id           0\n",
       "order_id         0\n",
       "order_date       0\n",
       "ship_date        0\n",
       "ship_mode        0\n",
       "customer_id      0\n",
       "customer_name    0\n",
       "segment          0\n",
       "country          0\n",
       "city             0\n",
       "state            0\n",
       "postal_code      0\n",
       "region           0\n",
       "product_id       0\n",
       "category         0\n",
       "sub-category     0\n",
       "product_name     0\n",
       "sales            0\n",
       "quantity         0\n",
       "discount         0\n",
       "profit           0\n",
       "dtype: int64"
      ]
     },
     "execution_count": 13,
     "metadata": {},
     "output_type": "execute_result"
    }
   ],
   "source": [
    "df.isnull().sum()\n"
   ]
  },
  {
   "cell_type": "markdown",
   "id": "2cbf5b0b",
   "metadata": {},
   "source": [
    "## 8 : Traitement des valeurs manquantes numériques"
   ]
  },
  {
   "cell_type": "code",
   "execution_count": 14,
   "id": "855a8267",
   "metadata": {},
   "outputs": [],
   "source": [
    "for col in df.select_dtypes(include=[np.number]).columns:\n",
    "    df[col] = df[col].fillna(df[col].median())\n"
   ]
  },
  {
   "cell_type": "code",
   "execution_count": 15,
   "id": "c70e30ad",
   "metadata": {},
   "outputs": [],
   "source": [
    "for col in df.select_dtypes(include=[np.number]).columns:\n",
    "    df[col] = df[col].fillna(df[col].median())\n"
   ]
  },
  {
   "cell_type": "markdown",
   "id": "718cf74d",
   "metadata": {},
   "source": [
    "### Test 1 : Vérifier qu’il ne reste plus de valeurs manquantes (après remplissage)"
   ]
  },
  {
   "cell_type": "code",
   "execution_count": 16,
   "id": "2ab0e4b9",
   "metadata": {},
   "outputs": [
    {
     "name": "stdout",
     "output_type": "stream",
     "text": [
      "Valeurs manquantes après remplissage :\n",
      " Series([], dtype: int64)\n"
     ]
    }
   ],
   "source": [
    "missing_after_fill = df.isnull().sum()\n",
    "print(\"Valeurs manquantes après remplissage :\\n\", missing_after_fill[missing_after_fill > 0])\n"
   ]
  },
  {
   "cell_type": "markdown",
   "id": "ebef23bc",
   "metadata": {},
   "source": [
    "### Test 2 : Vérifier si des colonnes numériques contiennent encore des NaN"
   ]
  },
  {
   "cell_type": "code",
   "execution_count": 17,
   "id": "a6bbfb40",
   "metadata": {},
   "outputs": [
    {
     "data": {
      "application/vnd.microsoft.datawrangler.viewer.v0+json": {
       "columns": [
        {
         "name": "index",
         "rawType": "object",
         "type": "string"
        },
        {
         "name": "0",
         "rawType": "int64",
         "type": "integer"
        }
       ],
       "ref": "f676ba15-b0ce-4952-9ba3-bb03c7e5f978",
       "rows": [
        [
         "row_id",
         "0"
        ],
        [
         "postal_code",
         "0"
        ],
        [
         "sales",
         "0"
        ],
        [
         "quantity",
         "0"
        ],
        [
         "discount",
         "0"
        ],
        [
         "profit",
         "0"
        ]
       ],
       "shape": {
        "columns": 1,
        "rows": 6
       }
      },
      "text/plain": [
       "row_id         0\n",
       "postal_code    0\n",
       "sales          0\n",
       "quantity       0\n",
       "discount       0\n",
       "profit         0\n",
       "dtype: int64"
      ]
     },
     "execution_count": 17,
     "metadata": {},
     "output_type": "execute_result"
    }
   ],
   "source": [
    "df.select_dtypes(include=[np.number]).isnull().sum()\n"
   ]
  },
  {
   "cell_type": "markdown",
   "id": "a26d41ac",
   "metadata": {},
   "source": [
    "## 9 : Traitement des valeurs manquantes catégorielles"
   ]
  },
  {
   "cell_type": "code",
   "execution_count": 18,
   "id": "17ba4c1e",
   "metadata": {},
   "outputs": [],
   "source": [
    "for col in df.select_dtypes(include='object').columns:\n",
    "    df[col] = df[col].fillna(df[col].mode()[0])\n"
   ]
  },
  {
   "cell_type": "markdown",
   "id": "9b0c053f",
   "metadata": {},
   "source": [
    "### Test 3 : Vérifier si des colonnes objet contiennent encore des NaN"
   ]
  },
  {
   "cell_type": "code",
   "execution_count": 19,
   "id": "4c0530dd",
   "metadata": {},
   "outputs": [
    {
     "data": {
      "application/vnd.microsoft.datawrangler.viewer.v0+json": {
       "columns": [
        {
         "name": "index",
         "rawType": "object",
         "type": "string"
        },
        {
         "name": "0",
         "rawType": "int64",
         "type": "integer"
        }
       ],
       "ref": "f091292e-dc18-45c0-a22c-d93fd3720566",
       "rows": [
        [
         "order_id",
         "0"
        ],
        [
         "ship_mode",
         "0"
        ],
        [
         "customer_id",
         "0"
        ],
        [
         "customer_name",
         "0"
        ],
        [
         "segment",
         "0"
        ],
        [
         "country",
         "0"
        ],
        [
         "city",
         "0"
        ],
        [
         "state",
         "0"
        ],
        [
         "region",
         "0"
        ],
        [
         "product_id",
         "0"
        ],
        [
         "category",
         "0"
        ],
        [
         "sub-category",
         "0"
        ],
        [
         "product_name",
         "0"
        ]
       ],
       "shape": {
        "columns": 1,
        "rows": 13
       }
      },
      "text/plain": [
       "order_id         0\n",
       "ship_mode        0\n",
       "customer_id      0\n",
       "customer_name    0\n",
       "segment          0\n",
       "country          0\n",
       "city             0\n",
       "state            0\n",
       "region           0\n",
       "product_id       0\n",
       "category         0\n",
       "sub-category     0\n",
       "product_name     0\n",
       "dtype: int64"
      ]
     },
     "execution_count": 19,
     "metadata": {},
     "output_type": "execute_result"
    }
   ],
   "source": [
    "df.select_dtypes(include='object').isnull().sum()\n"
   ]
  },
  {
   "cell_type": "markdown",
   "id": "3f5348de",
   "metadata": {},
   "source": [
    "## 10 : Nettoyage des noms de colonnes"
   ]
  },
  {
   "cell_type": "code",
   "execution_count": 20,
   "id": "d9a4210b",
   "metadata": {},
   "outputs": [],
   "source": [
    "df.columns = df.columns.str.strip().str.replace(\" \", \"_\").str.lower()\n"
   ]
  },
  {
   "cell_type": "markdown",
   "id": "9df7d07a",
   "metadata": {},
   "source": [
    "## 11 : Conversion de la colonne date"
   ]
  },
  {
   "cell_type": "code",
   "execution_count": 21,
   "id": "41ca3895",
   "metadata": {},
   "outputs": [],
   "source": [
    "# Adapter le nom exact selon le fichier réel si différent\n",
    "if 'order_date' in df.columns:\n",
    "    df['order_date'] = pd.to_datetime(df['order_date'], errors='coerce')\n"
   ]
  },
  {
   "cell_type": "markdown",
   "id": "b5135f8d",
   "metadata": {},
   "source": [
    "## 12 : Vérification finale"
   ]
  },
  {
   "cell_type": "code",
   "execution_count": 22,
   "id": "348c62fc",
   "metadata": {},
   "outputs": [
    {
     "name": "stdout",
     "output_type": "stream",
     "text": [
      "<class 'pandas.core.frame.DataFrame'>\n",
      "RangeIndex: 9994 entries, 0 to 9993\n",
      "Data columns (total 21 columns):\n",
      " #   Column         Non-Null Count  Dtype         \n",
      "---  ------         --------------  -----         \n",
      " 0   row_id         9994 non-null   int64         \n",
      " 1   order_id       9994 non-null   object        \n",
      " 2   order_date     9994 non-null   datetime64[ns]\n",
      " 3   ship_date      9994 non-null   datetime64[ns]\n",
      " 4   ship_mode      9994 non-null   object        \n",
      " 5   customer_id    9994 non-null   object        \n",
      " 6   customer_name  9994 non-null   object        \n",
      " 7   segment        9994 non-null   object        \n",
      " 8   country        9994 non-null   object        \n",
      " 9   city           9994 non-null   object        \n",
      " 10  state          9994 non-null   object        \n",
      " 11  postal_code    9994 non-null   int64         \n",
      " 12  region         9994 non-null   object        \n",
      " 13  product_id     9994 non-null   object        \n",
      " 14  category       9994 non-null   object        \n",
      " 15  sub-category   9994 non-null   object        \n",
      " 16  product_name   9994 non-null   object        \n",
      " 17  sales          9994 non-null   float64       \n",
      " 18  quantity       9994 non-null   int64         \n",
      " 19  discount       9994 non-null   float64       \n",
      " 20  profit         9994 non-null   float64       \n",
      "dtypes: datetime64[ns](2), float64(3), int64(3), object(13)\n",
      "memory usage: 1.6+ MB\n"
     ]
    },
    {
     "data": {
      "application/vnd.microsoft.datawrangler.viewer.v0+json": {
       "columns": [
        {
         "name": "index",
         "rawType": "int64",
         "type": "integer"
        },
        {
         "name": "row_id",
         "rawType": "int64",
         "type": "integer"
        },
        {
         "name": "order_id",
         "rawType": "object",
         "type": "string"
        },
        {
         "name": "order_date",
         "rawType": "datetime64[ns]",
         "type": "datetime"
        },
        {
         "name": "ship_date",
         "rawType": "datetime64[ns]",
         "type": "datetime"
        },
        {
         "name": "ship_mode",
         "rawType": "object",
         "type": "string"
        },
        {
         "name": "customer_id",
         "rawType": "object",
         "type": "string"
        },
        {
         "name": "customer_name",
         "rawType": "object",
         "type": "string"
        },
        {
         "name": "segment",
         "rawType": "object",
         "type": "string"
        },
        {
         "name": "country",
         "rawType": "object",
         "type": "string"
        },
        {
         "name": "city",
         "rawType": "object",
         "type": "string"
        },
        {
         "name": "state",
         "rawType": "object",
         "type": "string"
        },
        {
         "name": "postal_code",
         "rawType": "int64",
         "type": "integer"
        },
        {
         "name": "region",
         "rawType": "object",
         "type": "string"
        },
        {
         "name": "product_id",
         "rawType": "object",
         "type": "string"
        },
        {
         "name": "category",
         "rawType": "object",
         "type": "string"
        },
        {
         "name": "sub-category",
         "rawType": "object",
         "type": "string"
        },
        {
         "name": "product_name",
         "rawType": "object",
         "type": "string"
        },
        {
         "name": "sales",
         "rawType": "float64",
         "type": "float"
        },
        {
         "name": "quantity",
         "rawType": "int64",
         "type": "integer"
        },
        {
         "name": "discount",
         "rawType": "float64",
         "type": "float"
        },
        {
         "name": "profit",
         "rawType": "float64",
         "type": "float"
        }
       ],
       "ref": "133f2c9c-14b5-4637-abb5-6e326fa29247",
       "rows": [
        [
         "0",
         "1",
         "CA-2016-152156",
         "2016-11-08 00:00:00",
         "2016-11-11 00:00:00",
         "Second Class",
         "CG-12520",
         "Claire Gute",
         "Consumer",
         "United States",
         "Henderson",
         "Kentucky",
         "42420",
         "South",
         "FUR-BO-10001798",
         "Furniture",
         "Bookcases",
         "Bush Somerset Collection Bookcase",
         "261.96",
         "2",
         "0.0",
         "41.9136"
        ],
        [
         "1",
         "2",
         "CA-2016-152156",
         "2016-11-08 00:00:00",
         "2016-11-11 00:00:00",
         "Second Class",
         "CG-12520",
         "Claire Gute",
         "Consumer",
         "United States",
         "Henderson",
         "Kentucky",
         "42420",
         "South",
         "FUR-CH-10000454",
         "Furniture",
         "Chairs",
         "Hon Deluxe Fabric Upholstered Stacking Chairs, Rounded Back",
         "731.9399999999999",
         "3",
         "0.0",
         "219.58199999999997"
        ],
        [
         "2",
         "3",
         "CA-2016-138688",
         "2016-06-12 00:00:00",
         "2016-06-16 00:00:00",
         "Second Class",
         "DV-13045",
         "Darrin Van Huff",
         "Corporate",
         "United States",
         "Los Angeles",
         "California",
         "90036",
         "West",
         "OFF-LA-10000240",
         "Office Supplies",
         "Labels",
         "Self-Adhesive Address Labels for Typewriters by Universal",
         "14.62",
         "2",
         "0.0",
         "6.8713999999999995"
        ],
        [
         "3",
         "4",
         "US-2015-108966",
         "2015-10-11 00:00:00",
         "2015-10-18 00:00:00",
         "Standard Class",
         "SO-20335",
         "Sean O'Donnell",
         "Consumer",
         "United States",
         "Fort Lauderdale",
         "Florida",
         "33311",
         "South",
         "FUR-TA-10000577",
         "Furniture",
         "Tables",
         "Bretford CR4500 Series Slim Rectangular Table",
         "957.5775",
         "5",
         "0.45",
         "-383.03100000000006"
        ],
        [
         "4",
         "5",
         "US-2015-108966",
         "2015-10-11 00:00:00",
         "2015-10-18 00:00:00",
         "Standard Class",
         "SO-20335",
         "Sean O'Donnell",
         "Consumer",
         "United States",
         "Fort Lauderdale",
         "Florida",
         "33311",
         "South",
         "OFF-ST-10000760",
         "Office Supplies",
         "Storage",
         "Eldon Fold 'N Roll Cart System",
         "22.368000000000002",
         "2",
         "0.2",
         "2.516399999999999"
        ]
       ],
       "shape": {
        "columns": 21,
        "rows": 5
       }
      },
      "text/html": [
       "<div>\n",
       "<style scoped>\n",
       "    .dataframe tbody tr th:only-of-type {\n",
       "        vertical-align: middle;\n",
       "    }\n",
       "\n",
       "    .dataframe tbody tr th {\n",
       "        vertical-align: top;\n",
       "    }\n",
       "\n",
       "    .dataframe thead th {\n",
       "        text-align: right;\n",
       "    }\n",
       "</style>\n",
       "<table border=\"1\" class=\"dataframe\">\n",
       "  <thead>\n",
       "    <tr style=\"text-align: right;\">\n",
       "      <th></th>\n",
       "      <th>row_id</th>\n",
       "      <th>order_id</th>\n",
       "      <th>order_date</th>\n",
       "      <th>ship_date</th>\n",
       "      <th>ship_mode</th>\n",
       "      <th>customer_id</th>\n",
       "      <th>customer_name</th>\n",
       "      <th>segment</th>\n",
       "      <th>country</th>\n",
       "      <th>city</th>\n",
       "      <th>...</th>\n",
       "      <th>postal_code</th>\n",
       "      <th>region</th>\n",
       "      <th>product_id</th>\n",
       "      <th>category</th>\n",
       "      <th>sub-category</th>\n",
       "      <th>product_name</th>\n",
       "      <th>sales</th>\n",
       "      <th>quantity</th>\n",
       "      <th>discount</th>\n",
       "      <th>profit</th>\n",
       "    </tr>\n",
       "  </thead>\n",
       "  <tbody>\n",
       "    <tr>\n",
       "      <th>0</th>\n",
       "      <td>1</td>\n",
       "      <td>CA-2016-152156</td>\n",
       "      <td>2016-11-08</td>\n",
       "      <td>2016-11-11</td>\n",
       "      <td>Second Class</td>\n",
       "      <td>CG-12520</td>\n",
       "      <td>Claire Gute</td>\n",
       "      <td>Consumer</td>\n",
       "      <td>United States</td>\n",
       "      <td>Henderson</td>\n",
       "      <td>...</td>\n",
       "      <td>42420</td>\n",
       "      <td>South</td>\n",
       "      <td>FUR-BO-10001798</td>\n",
       "      <td>Furniture</td>\n",
       "      <td>Bookcases</td>\n",
       "      <td>Bush Somerset Collection Bookcase</td>\n",
       "      <td>261.9600</td>\n",
       "      <td>2</td>\n",
       "      <td>0.00</td>\n",
       "      <td>41.9136</td>\n",
       "    </tr>\n",
       "    <tr>\n",
       "      <th>1</th>\n",
       "      <td>2</td>\n",
       "      <td>CA-2016-152156</td>\n",
       "      <td>2016-11-08</td>\n",
       "      <td>2016-11-11</td>\n",
       "      <td>Second Class</td>\n",
       "      <td>CG-12520</td>\n",
       "      <td>Claire Gute</td>\n",
       "      <td>Consumer</td>\n",
       "      <td>United States</td>\n",
       "      <td>Henderson</td>\n",
       "      <td>...</td>\n",
       "      <td>42420</td>\n",
       "      <td>South</td>\n",
       "      <td>FUR-CH-10000454</td>\n",
       "      <td>Furniture</td>\n",
       "      <td>Chairs</td>\n",
       "      <td>Hon Deluxe Fabric Upholstered Stacking Chairs,...</td>\n",
       "      <td>731.9400</td>\n",
       "      <td>3</td>\n",
       "      <td>0.00</td>\n",
       "      <td>219.5820</td>\n",
       "    </tr>\n",
       "    <tr>\n",
       "      <th>2</th>\n",
       "      <td>3</td>\n",
       "      <td>CA-2016-138688</td>\n",
       "      <td>2016-06-12</td>\n",
       "      <td>2016-06-16</td>\n",
       "      <td>Second Class</td>\n",
       "      <td>DV-13045</td>\n",
       "      <td>Darrin Van Huff</td>\n",
       "      <td>Corporate</td>\n",
       "      <td>United States</td>\n",
       "      <td>Los Angeles</td>\n",
       "      <td>...</td>\n",
       "      <td>90036</td>\n",
       "      <td>West</td>\n",
       "      <td>OFF-LA-10000240</td>\n",
       "      <td>Office Supplies</td>\n",
       "      <td>Labels</td>\n",
       "      <td>Self-Adhesive Address Labels for Typewriters b...</td>\n",
       "      <td>14.6200</td>\n",
       "      <td>2</td>\n",
       "      <td>0.00</td>\n",
       "      <td>6.8714</td>\n",
       "    </tr>\n",
       "    <tr>\n",
       "      <th>3</th>\n",
       "      <td>4</td>\n",
       "      <td>US-2015-108966</td>\n",
       "      <td>2015-10-11</td>\n",
       "      <td>2015-10-18</td>\n",
       "      <td>Standard Class</td>\n",
       "      <td>SO-20335</td>\n",
       "      <td>Sean O'Donnell</td>\n",
       "      <td>Consumer</td>\n",
       "      <td>United States</td>\n",
       "      <td>Fort Lauderdale</td>\n",
       "      <td>...</td>\n",
       "      <td>33311</td>\n",
       "      <td>South</td>\n",
       "      <td>FUR-TA-10000577</td>\n",
       "      <td>Furniture</td>\n",
       "      <td>Tables</td>\n",
       "      <td>Bretford CR4500 Series Slim Rectangular Table</td>\n",
       "      <td>957.5775</td>\n",
       "      <td>5</td>\n",
       "      <td>0.45</td>\n",
       "      <td>-383.0310</td>\n",
       "    </tr>\n",
       "    <tr>\n",
       "      <th>4</th>\n",
       "      <td>5</td>\n",
       "      <td>US-2015-108966</td>\n",
       "      <td>2015-10-11</td>\n",
       "      <td>2015-10-18</td>\n",
       "      <td>Standard Class</td>\n",
       "      <td>SO-20335</td>\n",
       "      <td>Sean O'Donnell</td>\n",
       "      <td>Consumer</td>\n",
       "      <td>United States</td>\n",
       "      <td>Fort Lauderdale</td>\n",
       "      <td>...</td>\n",
       "      <td>33311</td>\n",
       "      <td>South</td>\n",
       "      <td>OFF-ST-10000760</td>\n",
       "      <td>Office Supplies</td>\n",
       "      <td>Storage</td>\n",
       "      <td>Eldon Fold 'N Roll Cart System</td>\n",
       "      <td>22.3680</td>\n",
       "      <td>2</td>\n",
       "      <td>0.20</td>\n",
       "      <td>2.5164</td>\n",
       "    </tr>\n",
       "  </tbody>\n",
       "</table>\n",
       "<p>5 rows × 21 columns</p>\n",
       "</div>"
      ],
      "text/plain": [
       "   row_id        order_id order_date  ship_date       ship_mode customer_id  \\\n",
       "0       1  CA-2016-152156 2016-11-08 2016-11-11    Second Class    CG-12520   \n",
       "1       2  CA-2016-152156 2016-11-08 2016-11-11    Second Class    CG-12520   \n",
       "2       3  CA-2016-138688 2016-06-12 2016-06-16    Second Class    DV-13045   \n",
       "3       4  US-2015-108966 2015-10-11 2015-10-18  Standard Class    SO-20335   \n",
       "4       5  US-2015-108966 2015-10-11 2015-10-18  Standard Class    SO-20335   \n",
       "\n",
       "     customer_name    segment        country             city  ...  \\\n",
       "0      Claire Gute   Consumer  United States        Henderson  ...   \n",
       "1      Claire Gute   Consumer  United States        Henderson  ...   \n",
       "2  Darrin Van Huff  Corporate  United States      Los Angeles  ...   \n",
       "3   Sean O'Donnell   Consumer  United States  Fort Lauderdale  ...   \n",
       "4   Sean O'Donnell   Consumer  United States  Fort Lauderdale  ...   \n",
       "\n",
       "  postal_code  region       product_id         category sub-category  \\\n",
       "0       42420   South  FUR-BO-10001798        Furniture    Bookcases   \n",
       "1       42420   South  FUR-CH-10000454        Furniture       Chairs   \n",
       "2       90036    West  OFF-LA-10000240  Office Supplies       Labels   \n",
       "3       33311   South  FUR-TA-10000577        Furniture       Tables   \n",
       "4       33311   South  OFF-ST-10000760  Office Supplies      Storage   \n",
       "\n",
       "                                        product_name     sales  quantity  \\\n",
       "0                  Bush Somerset Collection Bookcase  261.9600         2   \n",
       "1  Hon Deluxe Fabric Upholstered Stacking Chairs,...  731.9400         3   \n",
       "2  Self-Adhesive Address Labels for Typewriters b...   14.6200         2   \n",
       "3      Bretford CR4500 Series Slim Rectangular Table  957.5775         5   \n",
       "4                     Eldon Fold 'N Roll Cart System   22.3680         2   \n",
       "\n",
       "   discount    profit  \n",
       "0      0.00   41.9136  \n",
       "1      0.00  219.5820  \n",
       "2      0.00    6.8714  \n",
       "3      0.45 -383.0310  \n",
       "4      0.20    2.5164  \n",
       "\n",
       "[5 rows x 21 columns]"
      ]
     },
     "execution_count": 22,
     "metadata": {},
     "output_type": "execute_result"
    }
   ],
   "source": [
    "df.info()\n",
    "df.head()\n"
   ]
  },
  {
   "cell_type": "markdown",
   "id": "23a4d669",
   "metadata": {},
   "source": [
    "## Bilan de la phase 1"
   ]
  },
  {
   "cell_type": "markdown",
   "id": "2d4a4d32",
   "metadata": {},
   "source": [
    "### **Structure générale**\n",
    "\n",
    "* **Nombre total de lignes** : 9 994 (pas de valeurs manquantes)\n",
    "* **Colonnes :** 21\n",
    "* **Types de données** :\n",
    "\n",
    "  * `object` : 13 colonnes (identifiants, texte, catégories)\n",
    "  * `int64` : 3 colonnes (row\\_id, postal\\_code, quantity)\n",
    "  * `float64` : 3 colonnes (sales, discount, profit)\n",
    "  * `datetime64[ns]` : 2 colonnes (order\\_date, ship\\_date)\n",
    "\n",
    "---\n",
    "\n",
    "### **Observation importante**\n",
    "\n",
    "* Aucune valeur manquante → dataset propre.\n",
    "* Les colonnes clés pour l’analyse :\n",
    "\n",
    "  * **`sales`**, **`profit`**, **`discount`**, **`quantity`**\n",
    "  * **`order_date`**, **`region`**, **`category`**, **`segment`**\n",
    "\n",
    "---\n",
    "\n",
    "### **Conclusion rapide**\n",
    "\n",
    "Le dataset est prêt pour :\n",
    "\n",
    "* des **analyses de performance** (ventes/profits par catégorie, région, segment…)\n",
    "* des **analyses temporelles** (via `order_date`)\n",
    "* une **analyse commerciale** (remises, rentabilité, quantité vendue)\n",
    "\n",
    "Souhaites-tu que je lance une **analyse automatique visuelle** ou un **modèle simple de scoring** ?\n"
   ]
  },
  {
   "cell_type": "markdown",
   "id": "314c75b7",
   "metadata": {},
   "source": [
    "## 13 : Feature engineering"
   ]
  },
  {
   "cell_type": "markdown",
   "id": "c3bdaebb",
   "metadata": {},
   "source": [
    "### 1. Création de la marge bénéficiaire (Profit Margin)\n",
    "\n",
    "Formule : (Profit / Sales) * 100"
   ]
  },
  {
   "cell_type": "code",
   "execution_count": 23,
   "id": "eee73ca7",
   "metadata": {},
   "outputs": [],
   "source": [
    "# Éviter la division par zéro\n",
    "df['profit_margin'] = np.where(df['sales'] != 0, (df['profit'] / df['sales']) * 100, 0)\n"
   ]
  },
  {
   "cell_type": "markdown",
   "id": "2e7edc38",
   "metadata": {},
   "source": [
    "### 2. Extraction de l'année de commande (Order Year)\n",
    "À partir de order_date :"
   ]
  },
  {
   "cell_type": "code",
   "execution_count": 24,
   "id": "b47e0b2b",
   "metadata": {},
   "outputs": [],
   "source": [
    "df['order_year'] = df['order_date'].dt.year\n"
   ]
  },
  {
   "cell_type": "markdown",
   "id": "6ac3511c",
   "metadata": {},
   "source": [
    "### 3. Extraction du mois de commande (Order Month)"
   ]
  },
  {
   "cell_type": "code",
   "execution_count": 25,
   "id": "8ffdc428",
   "metadata": {},
   "outputs": [],
   "source": [
    "df['order_month'] = df['order_date'].dt.month\n"
   ]
  },
  {
   "cell_type": "markdown",
   "id": "2afb1243",
   "metadata": {},
   "source": [
    "### 4. Vérification"
   ]
  },
  {
   "cell_type": "code",
   "execution_count": 26,
   "id": "5ccae105",
   "metadata": {},
   "outputs": [
    {
     "data": {
      "application/vnd.microsoft.datawrangler.viewer.v0+json": {
       "columns": [
        {
         "name": "index",
         "rawType": "int64",
         "type": "integer"
        },
        {
         "name": "order_date",
         "rawType": "datetime64[ns]",
         "type": "datetime"
        },
        {
         "name": "order_year",
         "rawType": "int32",
         "type": "integer"
        },
        {
         "name": "order_month",
         "rawType": "int32",
         "type": "integer"
        },
        {
         "name": "profit",
         "rawType": "float64",
         "type": "float"
        },
        {
         "name": "sales",
         "rawType": "float64",
         "type": "float"
        },
        {
         "name": "profit_margin",
         "rawType": "float64",
         "type": "float"
        }
       ],
       "ref": "709cf1fb-6183-48e2-a92c-f3eada6b5b01",
       "rows": [
        [
         "0",
         "2016-11-08 00:00:00",
         "2016",
         "11",
         "41.9136",
         "261.96",
         "16.000000000000004"
        ],
        [
         "1",
         "2016-11-08 00:00:00",
         "2016",
         "11",
         "219.58199999999997",
         "731.9399999999999",
         "30.0"
        ],
        [
         "2",
         "2016-06-12 00:00:00",
         "2016",
         "6",
         "6.8713999999999995",
         "14.62",
         "47.0"
        ],
        [
         "3",
         "2015-10-11 00:00:00",
         "2015",
         "10",
         "-383.03100000000006",
         "957.5775",
         "-40.00000000000001"
        ],
        [
         "4",
         "2015-10-11 00:00:00",
         "2015",
         "10",
         "2.516399999999999",
         "22.368000000000002",
         "11.249999999999995"
        ]
       ],
       "shape": {
        "columns": 6,
        "rows": 5
       }
      },
      "text/html": [
       "<div>\n",
       "<style scoped>\n",
       "    .dataframe tbody tr th:only-of-type {\n",
       "        vertical-align: middle;\n",
       "    }\n",
       "\n",
       "    .dataframe tbody tr th {\n",
       "        vertical-align: top;\n",
       "    }\n",
       "\n",
       "    .dataframe thead th {\n",
       "        text-align: right;\n",
       "    }\n",
       "</style>\n",
       "<table border=\"1\" class=\"dataframe\">\n",
       "  <thead>\n",
       "    <tr style=\"text-align: right;\">\n",
       "      <th></th>\n",
       "      <th>order_date</th>\n",
       "      <th>order_year</th>\n",
       "      <th>order_month</th>\n",
       "      <th>profit</th>\n",
       "      <th>sales</th>\n",
       "      <th>profit_margin</th>\n",
       "    </tr>\n",
       "  </thead>\n",
       "  <tbody>\n",
       "    <tr>\n",
       "      <th>0</th>\n",
       "      <td>2016-11-08</td>\n",
       "      <td>2016</td>\n",
       "      <td>11</td>\n",
       "      <td>41.9136</td>\n",
       "      <td>261.9600</td>\n",
       "      <td>16.00</td>\n",
       "    </tr>\n",
       "    <tr>\n",
       "      <th>1</th>\n",
       "      <td>2016-11-08</td>\n",
       "      <td>2016</td>\n",
       "      <td>11</td>\n",
       "      <td>219.5820</td>\n",
       "      <td>731.9400</td>\n",
       "      <td>30.00</td>\n",
       "    </tr>\n",
       "    <tr>\n",
       "      <th>2</th>\n",
       "      <td>2016-06-12</td>\n",
       "      <td>2016</td>\n",
       "      <td>6</td>\n",
       "      <td>6.8714</td>\n",
       "      <td>14.6200</td>\n",
       "      <td>47.00</td>\n",
       "    </tr>\n",
       "    <tr>\n",
       "      <th>3</th>\n",
       "      <td>2015-10-11</td>\n",
       "      <td>2015</td>\n",
       "      <td>10</td>\n",
       "      <td>-383.0310</td>\n",
       "      <td>957.5775</td>\n",
       "      <td>-40.00</td>\n",
       "    </tr>\n",
       "    <tr>\n",
       "      <th>4</th>\n",
       "      <td>2015-10-11</td>\n",
       "      <td>2015</td>\n",
       "      <td>10</td>\n",
       "      <td>2.5164</td>\n",
       "      <td>22.3680</td>\n",
       "      <td>11.25</td>\n",
       "    </tr>\n",
       "  </tbody>\n",
       "</table>\n",
       "</div>"
      ],
      "text/plain": [
       "  order_date  order_year  order_month    profit     sales  profit_margin\n",
       "0 2016-11-08        2016           11   41.9136  261.9600          16.00\n",
       "1 2016-11-08        2016           11  219.5820  731.9400          30.00\n",
       "2 2016-06-12        2016            6    6.8714   14.6200          47.00\n",
       "3 2015-10-11        2015           10 -383.0310  957.5775         -40.00\n",
       "4 2015-10-11        2015           10    2.5164   22.3680          11.25"
      ]
     },
     "execution_count": 26,
     "metadata": {},
     "output_type": "execute_result"
    }
   ],
   "source": [
    "df[['order_date', 'order_year', 'order_month', 'profit', 'sales', 'profit_margin']].head()\n"
   ]
  },
  {
   "cell_type": "markdown",
   "id": "3209d0c2",
   "metadata": {},
   "source": [
    "# Phase 2 _ Exploratory Analysis with Matplotlib"
   ]
  },
  {
   "cell_type": "markdown",
   "id": "89db7f2e",
   "metadata": {},
   "source": [
    "## 1. Time-Series Trend Investigation\n",
    " Objectif : ligne de ventes mensuelles globales avec filtre interactif par catégorie."
   ]
  },
  {
   "cell_type": "markdown",
   "id": "d12055c1",
   "metadata": {},
   "source": [
    "### Préparation des données : ventes par mois et par catégorie"
   ]
  },
  {
   "cell_type": "code",
   "execution_count": 35,
   "id": "df229b5a",
   "metadata": {},
   "outputs": [],
   "source": [
    "# Assure-toi que 'order_date' est bien au format datetime\n",
    "df['order_date'] = pd.to_datetime(df['order_date'], errors='coerce')\n",
    "\n",
    "# Créer une colonne Mois/Année\n",
    "df['order_month_year'] = df['order_date'].dt.to_period('M').astype(str)\n",
    "\n",
    "# Agréger les ventes par mois et catégorie\n",
    "monthly_sales = df.groupby(['order_month_year', 'category'])['sales'].sum().reset_index()\n"
   ]
  },
  {
   "cell_type": "markdown",
   "id": "568b27a2",
   "metadata": {},
   "source": [
    "### Courbe interactive avec dropdown (Matplotlib + ipywidgets)"
   ]
  },
  {
   "cell_type": "code",
   "execution_count": 36,
   "id": "325be95e",
   "metadata": {},
   "outputs": [
    {
     "data": {
      "application/vnd.jupyter.widget-view+json": {
       "model_id": "e84d18507971475b89a3d390d3b5a582",
       "version_major": 2,
       "version_minor": 0
      },
      "text/plain": [
       "interactive(children=(Dropdown(description='category', options=('Furniture', 'Office Supplies', 'Technology'),…"
      ]
     },
     "metadata": {},
     "output_type": "display_data"
    },
    {
     "data": {
      "text/plain": [
       "<function __main__.plot_monthly_sales(category)>"
      ]
     },
     "execution_count": 36,
     "metadata": {},
     "output_type": "execute_result"
    }
   ],
   "source": [
    "import matplotlib.pyplot as plt\n",
    "from ipywidgets import interact, widgets\n",
    "\n",
    "def plot_monthly_sales(category):\n",
    "    filtered = monthly_sales[monthly_sales['category'] == category]\n",
    "    plt.figure(figsize=(12, 5))\n",
    "    plt.plot(filtered['order_month_year'], filtered['sales'], marker='o')\n",
    "    plt.xticks(rotation=45)\n",
    "    plt.title(f\"Ventes mensuelles — {category}\")\n",
    "    plt.xlabel(\"Mois\")\n",
    "    plt.ylabel(\"Ventes ($)\")\n",
    "    plt.grid(True)\n",
    "    plt.tight_layout()\n",
    "    plt.show()\n",
    "\n",
    "interact(plot_monthly_sales, category=sorted(df['category'].unique()))\n"
   ]
  },
  {
   "cell_type": "markdown",
   "id": "1f06f2f9",
   "metadata": {},
   "source": [
    "### Analyse à documenter"
   ]
  },
  {
   "cell_type": "markdown",
   "id": "a3d00aaf",
   "metadata": {},
   "source": [
    "## Analyse des ventes mensuelles — Furniture\n",
    "\n",
    "- La catégorie **Furniture** montre une **saisonnalité très marquée**, avec des pics de ventes constants chaque mois de **novembre**.\n",
    "- Cela suggère un comportement d'achat saisonnier, probablement influencé par les **promotions et événements de fin d'année**.\n",
    "- En dehors de ces pics, les ventes restent **modérées et régulières**.\n",
    "- **Pas de croissance linéaire**, mais des sommets légèrement croissants sur les années, surtout en 2017.\n",
    "\n",
    "**Recommandation** : investir davantage en marketing et logistique sur les mois d'octobre à décembre pour capter le potentiel maximal de cette saisonnalité.\n"
   ]
  },
  {
   "cell_type": "markdown",
   "id": "94836453",
   "metadata": {},
   "source": [
    "## 2. Geographic Performance Analysis\n",
    "Objectif :\n",
    "Afficher les États avec les plus fortes ventes, avec un slider interactif \"Top N\" États."
   ]
  },
  {
   "cell_type": "markdown",
   "id": "03cc7ce5",
   "metadata": {},
   "source": [
    "### Préparation des données"
   ]
  },
  {
   "cell_type": "code",
   "execution_count": 37,
   "id": "0df98989",
   "metadata": {},
   "outputs": [],
   "source": [
    "state_sales = df.groupby('state')['sales'].sum().sort_values(ascending=False).reset_index()\n"
   ]
  },
  {
   "cell_type": "markdown",
   "id": "e786397f",
   "metadata": {},
   "source": [
    "### Bar chart interactif (slider pour Top N)"
   ]
  },
  {
   "cell_type": "code",
   "execution_count": 38,
   "id": "c9f1d714",
   "metadata": {},
   "outputs": [
    {
     "data": {
      "application/vnd.jupyter.widget-view+json": {
       "model_id": "e7e5f3bdc82e412ba0e10a4d5c2dd9b2",
       "version_major": 2,
       "version_minor": 0
      },
      "text/plain": [
       "interactive(children=(IntSlider(value=10, description='n', max=25, min=5), Output()), _dom_classes=('widget-in…"
      ]
     },
     "metadata": {},
     "output_type": "display_data"
    },
    {
     "data": {
      "text/plain": [
       "<function __main__.plot_top_states(n)>"
      ]
     },
     "execution_count": 38,
     "metadata": {},
     "output_type": "execute_result"
    }
   ],
   "source": [
    "def plot_top_states(n):\n",
    "    top_n = state_sales.head(n)\n",
    "    plt.figure(figsize=(12, 6))\n",
    "    plt.bar(top_n['state'], top_n['sales'], color='skyblue')\n",
    "    plt.xticks(rotation=90)\n",
    "    plt.title(f\"Top {n} États par ventes totales\")\n",
    "    plt.xlabel(\"État\")\n",
    "    plt.ylabel(\"Ventes ($)\")\n",
    "    plt.tight_layout()\n",
    "    plt.show()\n",
    "\n",
    "interact(plot_top_states, n=widgets.IntSlider(min=5, max=25, step=1, value=10))\n"
   ]
  },
  {
   "cell_type": "markdown",
   "id": "d0f21310",
   "metadata": {},
   "source": [
    "## Analyse géographique des ventes\n",
    "\n",
    "- Le classement montre une **forte concentration des ventes dans quelques États clés** :\n",
    "  - **California** domine très largement, avec plus de 450 000 $ de ventes.\n",
    "  - Suivent **New York** et **Texas**, bien qu’à un niveau nettement inférieur.\n",
    "- Les autres États du top 10 (**Washington, Pennsylvania, Florida...**) ont des ventes significativement plus faibles, avec un écart net après les 3 premiers.\n",
    "\n",
    "- **Concentration commerciale forte** dans les grands marchés économiques.\n",
    "- Certains grands États comme **Florida** ou **Illinois** performent modérément malgré leur population élevée.\n",
    "- De nombreux autres États (non affichés ici) génèrent très peu de ventes.\n",
    "\n",
    "**Conclusion** : la distribution des ventes est **fortement déséquilibrée**. Une stratégie d’expansion pourrait viser les États à fort potentiel mais à faibles ventes actuelles pour équilibrer la performance nationale.\n"
   ]
  },
  {
   "cell_type": "markdown",
   "id": "feb89d7a",
   "metadata": {},
   "source": [
    "# Phase 3: Communicating Findings with Seaborn"
   ]
  },
  {
   "cell_type": "markdown",
   "id": "013187ac",
   "metadata": {},
   "source": [
    "## 1. Product Profitability Report"
   ]
  },
  {
   "cell_type": "markdown",
   "id": "04883dd0",
   "metadata": {},
   "source": [
    "### Objectif :\n",
    "Afficher les 10 produits les plus rentables, avec :\n",
    "\n",
    "* Barres horizontales\n",
    "\n",
    "* Valeurs annotées\n",
    "\n",
    "* Titre clair & axes explicites (présentation exécutive)"
   ]
  },
  {
   "cell_type": "markdown",
   "id": "4e1d0897",
   "metadata": {},
   "source": [
    "### 1-Préparation des données"
   ]
  },
  {
   "cell_type": "code",
   "execution_count": 39,
   "id": "5c1dde92",
   "metadata": {},
   "outputs": [],
   "source": [
    "# Total des profits par produit\n",
    "top_profit_products = (\n",
    "    df.groupby('product_name')['profit']\n",
    "    .sum()\n",
    "    .sort_values(ascending=False)\n",
    "    .head(10)\n",
    "    .reset_index()\n",
    ")\n"
   ]
  },
  {
   "cell_type": "markdown",
   "id": "b39de2df",
   "metadata": {},
   "source": [
    "### 2-Bar chart horizontal Seaborn avec annotations"
   ]
  },
  {
   "cell_type": "code",
   "execution_count": 40,
   "id": "4aeb272e",
   "metadata": {},
   "outputs": [
    {
     "name": "stderr",
     "output_type": "stream",
     "text": [
      "C:\\Users\\chume\\AppData\\Local\\Temp\\ipykernel_13684\\3163660949.py:5: FutureWarning: \n",
      "\n",
      "Passing `palette` without assigning `hue` is deprecated and will be removed in v0.14.0. Assign the `y` variable to `hue` and set `legend=False` for the same effect.\n",
      "\n",
      "  barplot = sns.barplot(\n",
      "C:\\Users\\chume\\AppData\\Local\\Temp\\ipykernel_13684\\3163660949.py:19: UserWarning: Glyph 128285 (\\N{TOP WITH UPWARDS ARROW ABOVE}) missing from font(s) DejaVu Sans.\n",
      "  plt.tight_layout()\n",
      "C:\\Users\\chume\\AppData\\Roaming\\Python\\Python312\\site-packages\\IPython\\core\\pylabtools.py:152: UserWarning: Glyph 128285 (\\N{TOP WITH UPWARDS ARROW ABOVE}) missing from font(s) DejaVu Sans.\n",
      "  fig.canvas.print_figure(bytes_io, **kw)\n"
     ]
    },
    {
     "data": {
      "image/png": "[encoded data removed]",
      "text/plain": [
       "<Figure size 1000x600 with 1 Axes>"
      ]
     },
     "metadata": {},
     "output_type": "display_data"
    }
   ],
   "source": [
    "import seaborn as sns\n",
    "import matplotlib.pyplot as plt\n",
    "\n",
    "plt.figure(figsize=(10, 6))\n",
    "barplot = sns.barplot(\n",
    "    data=top_profit_products,\n",
    "    x='profit',\n",
    "    y='product_name',\n",
    "    palette='crest'\n",
    ")\n",
    "plt.title(\"🔝 Top 10 Produits les Plus Rentables\", fontsize=14, weight='bold')\n",
    "plt.xlabel(\"Profit ($)\")\n",
    "plt.ylabel(\"Produit\")\n",
    "\n",
    "# Annotations sur chaque barre\n",
    "for index, row in top_profit_products.iterrows():\n",
    "    barplot.text(row.profit + 100, index, f\"${row.profit:,.0f}\", color='black', va='center')\n",
    "\n",
    "plt.tight_layout()\n",
    "plt.show()\n"
   ]
  },
  {
   "cell_type": "markdown",
   "id": "d5ed1182",
   "metadata": {},
   "source": [
    "## Résumé exécutif — Produits les plus rentables\n",
    "\n",
    "- Le produit **Canon imageCLASS 2200 Advanced Copier** domine très largement, avec **25 200 $** de profit, soit **plus de 3x le deuxième**.\n",
    "- Tous les autres produits génèrent entre **3 300 $ et 7 700 $**, avec une rentabilité bien plus modérée.\n",
    "- Les produits du Top 10 sont principalement des **imprimantes, destructeurs ou systèmes de reliure**, donc des **biens d’équipement bureautique à forte marge**.\n",
    "\n",
    "**Conclusion stratégique :**\n",
    "- Le produit Canon imageCLASS doit être **protégé commercialement** : stock, support technique, conditions d’achat.\n",
    "- Une **dépendance excessive** à un seul produit (Canon) est visible : il serait judicieux de **diversifier** les produits à forte marge.\n",
    "- Ces insights peuvent **orienter les efforts de vente, marketing et achats**.\n",
    "\n"
   ]
  },
  {
   "cell_type": "markdown",
   "id": "a2ea76cd",
   "metadata": {},
   "source": [
    "## 2. Discount Strategy Analysis"
   ]
  },
  {
   "cell_type": "markdown",
   "id": "59fc2522",
   "metadata": {},
   "source": [
    "### Objectif :\n",
    "Analyser l’effet du discount sur la profitabilité, selon la catégorie de produit :\n",
    "\n",
    "* Scatter plot\n",
    "\n",
    "* hue = category\n",
    "\n",
    "* Ligne de tendance (regression)"
   ]
  },
  {
   "cell_type": "markdown",
   "id": "81ada9af",
   "metadata": {},
   "source": [
    "### Scatter plot avec hue + régression"
   ]
  },
  {
   "cell_type": "code",
   "execution_count": 41,
   "id": "6a407ceb",
   "metadata": {},
   "outputs": [
    {
     "name": "stderr",
     "output_type": "stream",
     "text": [
      "C:\\Users\\chume\\AppData\\Local\\Temp\\ipykernel_13684\\1943365734.py:24: UserWarning: Glyph 128201 (\\N{CHART WITH DOWNWARDS TREND}) missing from font(s) DejaVu Sans.\n",
      "  plt.tight_layout()\n",
      "C:\\Users\\chume\\AppData\\Roaming\\Python\\Python312\\site-packages\\IPython\\core\\pylabtools.py:152: UserWarning: Glyph 128201 (\\N{CHART WITH DOWNWARDS TREND}) missing from font(s) DejaVu Sans.\n",
      "  fig.canvas.print_figure(bytes_io, **kw)\n"
     ]
    },
    {
     "data": {
      "image/png": "[encoded data removed]",
      "text/plain": [
       "<Figure size 1000x600 with 1 Axes>"
      ]
     },
     "metadata": {},
     "output_type": "display_data"
    }
   ],
   "source": [
    "plt.figure(figsize=(10, 6))\n",
    "sns.scatterplot(\n",
    "    data=df,\n",
    "    x='discount',\n",
    "    y='profit',\n",
    "    hue='category',\n",
    "    alpha=0.6\n",
    ")\n",
    "plt.title(\"📉 Impact des Remises sur le Profit\", fontsize=14, weight='bold')\n",
    "plt.xlabel(\"Remise (%)\")\n",
    "plt.ylabel(\"Profit ($)\")\n",
    "plt.axhline(0, linestyle='--', color='grey')\n",
    "\n",
    "# Optionnel : ajouter une tendance globale\n",
    "sns.regplot(\n",
    "    data=df,\n",
    "    x='discount',\n",
    "    y='profit',\n",
    "    scatter=False,\n",
    "    color='black',\n",
    "    line_kws={'linestyle': 'dotted'}\n",
    ")\n",
    "\n",
    "plt.tight_layout()\n",
    "plt.show()\n"
   ]
  },
  {
   "cell_type": "markdown",
   "id": "e6b35d1c",
   "metadata": {},
   "source": [
    "## Analyse stratégique des remises\n",
    "\n",
    "- La tendance globale est **clairement décroissante** : plus le discount augmente, plus les profits chutent (ligne de tendance en pointillé).\n",
    "- À partir de **30 % de remise**, **la majorité des ventes deviennent non rentables** (valeurs sous l’axe zéro).\n",
    "- Les **zones à droite du graphique** (forts discounts) sont dominées par des points négatifs, en particulier :\n",
    "  - Pour la catégorie **Furniture** (bleu) et **Office Supplies** (orange), le passage en pertes est systématique dès 40 %.\n",
    "  - La catégorie **Technology** (vert) montre une **meilleure résilience** : quelques profits existent encore à haut niveau de remise.\n",
    "\n",
    "---\n",
    "\n",
    "### Conclusion stratégique :\n",
    "\n",
    "- Le discount est un **levier dangereux au-delà de 20–25%** : il mène rapidement à des pertes, surtout sur les **fournitures de bureau** et les **meubles**.\n",
    "- Seule **la technologie tolère modérément des remises importantes**, mais reste vulnérable au-delà de 40 %.\n",
    "- Il est recommandé de :\n",
    "  - **Limiter les remises à 25 % maximum** pour préserver la rentabilité.\n",
    "  - **Personnaliser les politiques de remise** selon les catégories de produits.\n"
   ]
  },
  {
   "cell_type": "markdown",
   "id": "660cda55",
   "metadata": {},
   "source": [
    "# Phase 4: Methodology and Tooling Review"
   ]
  },
  {
   "cell_type": "markdown",
   "id": "e017440d",
   "metadata": {},
   "source": [
    "## Comparative Evaluation: Matplotlib vs Seaborn\n",
    "\n",
    "### Efficiency\n",
    "- **Matplotlib** permet de créer des visualisations fonctionnelles très rapidement, mais demande plus d'effort pour les rendre présentables.\n",
    "- **Seaborn**, en revanche, produit des graphiques esthétiques, cohérents et prêts à l'emploi dès la première ligne, surtout pour les visualisations complexes comme les `barplot`, `scatterplot`, `regplot`.\n",
    "\n",
    "### Control vs Convention\n",
    "- **Matplotlib** offre un contrôle très fin (axes, échelles, légendes, interactivité avec widgets). Cela a été essentiel pour :\n",
    "  - Ajouter des sliders ou dropdowns dynamiques.\n",
    "  - Personnaliser les ticks, les titres, les grilles.\n",
    "- **Seaborn** simplifie les tâches fréquentes (groupes, couleurs, régression) grâce à son API haut niveau :\n",
    "  - Le `hue` sur `scatterplot` ou `barplot` a grandement accéléré la mise en forme des comparaisons entre catégories.\n",
    "  - Le `regplot` permet d’intégrer une ligne de tendance sans codage manuel.\n",
    "\n",
    "### Tool Selection Criteria — Recommandation personnelle\n",
    "\n",
    "> **Pour l'exploration initiale, rapide et interactive des données**, j'utiliserai principalement **Matplotlib**, car il me permet d'intégrer facilement des contrôles dynamiques (`interact`, `slider`) et d’ajuster chaque détail visuel si nécessaire.\n",
    "\n",
    "> **Pour les visualisations finales destinées à un public non technique (rapport, slides, direction)**, je privilégierai **Seaborn**, pour sa clarté, son esthétisme automatique et sa capacité à raconter une histoire visuelle avec peu de code.\n",
    "\n",
    "---\n",
    "\n",
    "**Conclusion** : Matplotlib est mon outil de contrôle. Seaborn est mon outil de communication.\n"
   ]
  },
  {
   "cell_type": "markdown",
   "id": "23926618",
   "metadata": {},
   "source": [
    "# Phase 5: Final Deliverable"
   ]
  },
  {
   "cell_type": "markdown",
   "id": "7041cd03",
   "metadata": {},
   "source": [
    "## Executive Summary — US Superstore Analysis\n",
    "\n",
    "Ce rapport analyse les ventes, les profits et les politiques de remise du dataset *US Superstore* (2014–2017). Il vise à identifier les leviers de performance commerciale.\n",
    "\n",
    "### Principaux constats\n",
    "\n",
    "- **Les remises au-delà de 20 % entraînent des pertes importantes**, en particulier dans la catégorie **Furniture**, où la rentabilité devient systématiquement négative à partir de 30 %.\n",
    "- **La catégorie Technology est la plus rentable et la plus résiliente**, générant la majorité des hauts profits, même avec un certain niveau de remise.\n",
    "- **Le produit Canon imageCLASS 2200 domine** avec plus de 25 000 $ de profit net, soit 3 fois plus que le deuxième produit rentable.\n",
    "- **La Californie, New York et le Texas génèrent plus de 50 % du chiffre d’affaires total**, indiquant une concentration géographique forte des ventes.\n",
    "- **Les ventes montrent une saisonnalité nette** avec des pics réguliers en novembre, probablement liés aux promotions (Black Friday, fêtes).\n",
    "\n",
    "### Recommandations stratégiques\n",
    "\n",
    "- **Plafonner les remises à 20 % sur les meubles et fournitures de bureau**, et instaurer une validation managériale pour toute exception.\n",
    "- **Consolider les ventes de produits les plus rentables** (ex. Canon Copier) avec des actions ciblées : stock, formation commerciale, priorité en ligne.\n",
    "- **Explorer les États sous-performants** (hors Top 10) pour identifier des opportunités de croissance régionale.\n",
    "- **Personnaliser les politiques de remise selon la catégorie** : approche plus flexible sur la technologie, plus stricte ailleurs.\n"
   ]
  },
  {
   "cell_type": "markdown",
   "id": "0100a3f2",
   "metadata": {},
   "source": [
    "# Phase 6: Optional Advanced Challenges"
   ]
  },
  {
   "cell_type": "markdown",
   "id": "ea9eb4b9",
   "metadata": {},
   "source": [
    "## 1. Integrated Dashboard (Matplotlib + ipywidgets)"
   ]
  },
  {
   "cell_type": "markdown",
   "id": "6da7686e",
   "metadata": {},
   "source": [
    "### Objectif :\n",
    "Créer une vue interactive où la sélection d’un État met à jour dynamiquement un graphique en barres des ventes par catégorie."
   ]
  },
  {
   "cell_type": "code",
   "execution_count": 42,
   "id": "3f961582",
   "metadata": {},
   "outputs": [
    {
     "data": {
      "application/vnd.jupyter.widget-view+json": {
       "model_id": "a479d47a831c42d0935ca528ecc25a5f",
       "version_major": 2,
       "version_minor": 0
      },
      "text/plain": [
       "interactive(children=(Dropdown(description='state', options=('Alabama', 'Arizona', 'Arkansas', 'California', '…"
      ]
     },
     "metadata": {},
     "output_type": "display_data"
    },
    {
     "data": {
      "text/plain": [
       "<function __main__.plot_category_breakdown(state)>"
      ]
     },
     "execution_count": 42,
     "metadata": {},
     "output_type": "execute_result"
    }
   ],
   "source": [
    "from ipywidgets import interact\n",
    "import matplotlib.pyplot as plt\n",
    "\n",
    "def plot_category_breakdown(state):\n",
    "    data = df[df['state'] == state]\n",
    "    category_sales = data.groupby('category')['sales'].sum().sort_values()\n",
    "    \n",
    "    plt.figure(figsize=(8, 5))\n",
    "    category_sales.plot(kind='barh', color='skyblue')\n",
    "    plt.title(f\"Répartition des ventes par catégorie — {state}\")\n",
    "    plt.xlabel(\"Ventes ($)\")\n",
    "    plt.tight_layout()\n",
    "    plt.show()\n",
    "\n",
    "interact(plot_category_breakdown, state=sorted(df['state'].unique()))\n"
   ]
  },
  {
   "cell_type": "markdown",
   "id": "f5f8ce70",
   "metadata": {},
   "source": [
    "## 2. Outlier Annotation — Top 3 & Bottom 3 Transactions"
   ]
  },
  {
   "cell_type": "markdown",
   "id": "09fc7e33",
   "metadata": {},
   "source": [
    "### But :\n",
    "Identifier et annoter dans le graphique les 3 transactions les plus profitables et les 3 pires (pertes)."
   ]
  },
  {
   "cell_type": "markdown",
   "id": "44584b57",
   "metadata": {},
   "source": [
    "### Code d’identification :"
   ]
  },
  {
   "cell_type": "code",
   "execution_count": 43,
   "id": "634c7ea7",
   "metadata": {},
   "outputs": [],
   "source": [
    "# Top 3 + bottom 3 transactions\n",
    "top3 = df.nlargest(3, 'profit')\n",
    "bottom3 = df.nsmallest(3, 'profit')\n",
    "outliers = pd.concat([top3, bottom3])\n"
   ]
  },
  {
   "cell_type": "markdown",
   "id": "6d4a7aa4",
   "metadata": {},
   "source": [
    "### Scatter avec annotation :"
   ]
  },
  {
   "cell_type": "code",
   "execution_count": 44,
   "id": "2d807490",
   "metadata": {},
   "outputs": [
    {
     "data": {
      "image/png": "[encoded data removed]",
      "text/plain": [
       "<Figure size 1000x600 with 1 Axes>"
      ]
     },
     "metadata": {},
     "output_type": "display_data"
    }
   ],
   "source": [
    "plt.figure(figsize=(10, 6))\n",
    "sns.scatterplot(data=df, x='discount', y='profit', hue='category', alpha=0.6)\n",
    "plt.axhline(0, linestyle='--', color='grey')\n",
    "sns.regplot(data=df, x='discount', y='profit', scatter=False, color='black', line_kws={'linestyle': 'dotted'})\n",
    "\n",
    "# Annotations\n",
    "for _, row in outliers.iterrows():\n",
    "    plt.annotate(\n",
    "        row['product_name'][:25] + \"...\",\n",
    "        (row['discount'], row['profit']),\n",
    "        textcoords=\"offset points\",\n",
    "        xytext=(0, 8),\n",
    "        ha='center',\n",
    "        fontsize=8,\n",
    "        color='red' if row['profit'] < 0 else 'green'\n",
    "    )\n",
    "\n",
    "plt.title(\"Profit vs Discount — avec Outliers annotés\")\n",
    "plt.xlabel(\"Remise (%)\")\n",
    "plt.ylabel(\"Profit ($)\")\n",
    "plt.tight_layout()\n",
    "plt.show()\n"
   ]
  },
  {
   "cell_type": "markdown",
   "id": "90117d7c",
   "metadata": {},
   "source": [
    "### Analyse ciblée des outliers\n",
    "\n",
    "#### **Top 3 transactions les plus rentables** (annotées en **vert**) :\n",
    "\n",
    "* Les **trois points verts situés en haut à gauche** correspondent au produit :\n",
    "\n",
    "  * **Canon imageCLASS 2200 Advanced Copier**\n",
    "* Ce produit génère systématiquement des profits élevés, même **sans remise**, ce qui indique :\n",
    "\n",
    "  * Un **fort pouvoir de marge**\n",
    "  * Une **forte demande**\n",
    "  * **Aucune dépendance au discount** pour vendre\n",
    "\n",
    "#### **3 pires transactions** (annotées en **rouge**) :\n",
    "\n",
    "* Deux d’entre elles concernent :\n",
    "\n",
    "  * **Cubify CubeX 3D Printer** → importantes pertes à partir de **40–50% de remise**\n",
    "* Une autre transaction fortement déficitaire :\n",
    "\n",
    "  * **GBC DocuBind P400 Electric Binding Machine** → remise très élevée (>70%) et **perte sévère**\n",
    "* Ces produits ont probablement été vendus avec **une politique de remise trop agressive** pour des produits à **coûts fixes élevés**.\n",
    "\n",
    "---\n",
    "\n",
    "### Recommandations opérationnelles\n",
    "\n",
    "* **Produits à éviter ou revaloriser** :\n",
    "\n",
    "  * Le **Cubify 3D Printer** est manifestement destructeur de valeur → revoir la stratégie produit ou cesser la vente.\n",
    "  * Même logique pour le **GBC DocuBind** : fort coût unitaire + remise excessive = perte garantie.\n",
    "\n",
    "* **Produits à mettre en avant** :\n",
    "\n",
    "  * **Canon Copier** mérite un **focus marketing + stock prioritaire**, sans avoir besoin de remise pour stimuler les ventes.\n",
    "\n",
    "* **Processus à instaurer** :\n",
    "\n",
    "  * Implémenter un **seuil de remise maximum par produit**, basé sur la rentabilité historique.\n",
    "  * Ajouter une **validation obligatoire** pour les remises >30%, surtout sur produits à forte perte potentielle.\n",
    "\n"
   ]
  },
  {
   "cell_type": "markdown",
   "id": "b638919a",
   "metadata": {},
   "source": [
    "## 3. Alternative Tooling — Plotly Express"
   ]
  },
  {
   "cell_type": "markdown",
   "id": "0a645afe",
   "metadata": {},
   "source": [
    "### Installation et utilisayion de Plotly Express"
   ]
  },
  {
   "cell_type": "code",
   "execution_count": 46,
   "id": "1037298b",
   "metadata": {},
   "outputs": [
    {
     "name": "stdout",
     "output_type": "stream",
     "text": [
      "📦 Installation de Plotly en cours...\n",
      "✅ Installation terminée. Tu peux maintenant utiliser Plotly.\n"
     ]
    }
   ],
   "source": [
    "import sys\n",
    "import subprocess\n",
    "\n",
    "try:\n",
    "    import plotly\n",
    "    print(\"✅ Plotly est déjà installé.\")\n",
    "except ImportError:\n",
    "    print(\"📦 Installation de Plotly en cours...\")\n",
    "    subprocess.check_call([sys.executable, \"-m\", \"pip\", \"install\", \"--user\", \"plotly\"])\n",
    "    print(\"✅ Installation terminée. Tu peux maintenant utiliser Plotly.\")\n"
   ]
  },
  {
   "cell_type": "code",
   "execution_count": 47,
   "id": "9b10adf1",
   "metadata": {},
   "outputs": [
    {
     "data": {
      "application/vnd.plotly.v1+json": {
       "config": {
        "plotlyServerURL": "https://plot.ly"
       },
       "data": [
        {
         "hovertemplate": "category=Furniture<br>order_month=%{x}<br>sales=%{y}<extra></extra>",
         "legendgroup": "Furniture",
         "line": {
          "color": "#636efa",
          "dash": "solid"
         },
         "marker": {
          "symbol": "circle"
         },
         "mode": "lines+markers",
         "name": "Furniture",
         "orientation": "v",
         "showlegend": true,
         "type": "scatter",
         "x": [
          "2014-01",
          "2014-02",
          "2014-03",
          "2014-04",
          "2014-05",
          "2014-06",
          "2014-07",
          "2014-08",
          "2014-09",
          "2014-10",
          "2014-11",
          "2014-12",
          "2015-01",
          "2015-02",
          "2015-03",
          "2015-04",
          "2015-05",
          "2015-06",
          "2015-07",
          "2015-08",
          "2015-09",
          "2015-10",
          "2015-11",
          "2015-12",
          "2016-01",
          "2016-02",
          "2016-03",
          "2016-04",
          "2016-05",
          "2016-06",
          "2016-07",
          "2016-08",
          "2016-09",
          "2016-10",
          "2016-11",
          "2016-12",
          "2017-01",
          "2017-02",
          "2017-03",
          "2017-04",
          "2017-05",
          "2017-06",
          "2017-07",
          "2017-08",
          "2017-09",
          "2017-10",
          "2017-11",
          "2017-12"
         ],
         "xaxis": "x",
         "y": {
          "bdata": "Z2ZmZoZiuEASg8DKob6cQH0/NV76dsxAwMqhRdYIv0D0/dR4yQC7QDAqqRMQy8lADAIrh4YixUAQWDm0WJi8QPtcbcUeQtdADi2ynR8IyEDOGVHaNw/VQObQItt97d1A9UpZhvjtxkBoke18v3yoQGIQWDnkachAIbByaNl1xEBt5/upeU/CQPyp8dItIr5AKVyPwjW1ykBYqDXNS9PCQPT91HhBqNlAhxbZzk99x0B7FK5HNSjeQDnWxW10i9ZA7nw/Nb7GvUAxCKwcGquuQJ7vp8aLAMlAUrgehQvOyUAVrkfh6ofNQKjGSzdJh8lAUI2XbkKGyUBvowG8nWHIQMNkqmC4n9pA5tAi20kwx0DvWkI+6AnfQBSuR+HW6OFAeekmMQhMt0CsrdhfVtK6QKHWNO+4RsVAJlMFo/q0wUAofoy5Y4/QQCQofowlkNJAQmDl0IISx0BaZDvf7yjOQL+fGi8NWdxAZohjXQRf1UAUrkfhFhjiQHEbDeDdq95A",
          "dtype": "f8"
         },
         "yaxis": "y"
        },
        {
         "hovertemplate": "category=Office Supplies<br>order_month=%{x}<br>sales=%{y}<extra></extra>",
         "legendgroup": "Office Supplies",
         "line": {
          "color": "#EF553B",
          "dash": "solid"
         },
         "marker": {
          "symbol": "circle"
         },
         "mode": "lines+markers",
         "name": "Office Supplies",
         "orientation": "v",
         "showlegend": true,
         "type": "scatter",
         "x": [
          "2014-01",
          "2014-02",
          "2014-03",
          "2014-04",
          "2014-05",
          "2014-06",
          "2014-07",
          "2014-08",
          "2014-09",
          "2014-10",
          "2014-11",
          "2014-12",
          "2015-01",
          "2015-02",
          "2015-03",
          "2015-04",
          "2015-05",
          "2015-06",
          "2015-07",
          "2015-08",
          "2015-09",
          "2015-10",
          "2015-11",
          "2015-12",
          "2016-01",
          "2016-02",
          "2016-03",
          "2016-04",
          "2016-05",
          "2016-06",
          "2016-07",
          "2016-08",
          "2016-09",
          "2016-10",
          "2016-11",
          "2016-12",
          "2017-01",
          "2017-02",
          "2017-03",
          "2017-04",
          "2017-05",
          "2017-06",
          "2017-07",
          "2017-08",
          "2017-09",
          "2017-10",
          "2017-11",
          "2017-12"
         ],
         "xaxis": "x",
         "y": {
          "bdata": "r0fhehTzskA3iUFg5b6QQJhuEoPwzsBA9P3UeInJxUC0yHa+n9+7QPp+aryETMlAyHa+n5qIzUBg5dAiuznGQI6XbhLTx9pA46WbxCArvEBEi2znmzvaQLByaJGdldFAhetRuB5DnEDVeOkmEfi0QHSTGARGBc9AlUOLbEeHyEDufD813szBQA8tsp3fy8RA8tJNYvBvskD8qfHSjevGQAIrhxZx2tJArkfherTwwEAfhetRiLjUQMHKoUXWpM9A30+Nl66ztECamZmZWYq6QCUGgZW78NBAqMZLN7nLxEDl0CLbmXXJQOF6FK7nSsVAt/P91Dg+yUCF61G43n/BQB1aZDvvt9ZAhMDKoeXMz0ATg8DK0QHUQDEIrByyjeJAItv5fpLG1ECDwMqhxe+8QFTjpZska8xAxSCwchhwzUCsHFpke9TKQCPb+X4ChNBARIts57sAxEANAiuH9lrdQKJFtvP1Jd9ANV66SUx/1kCwcmiRFbzeQDVeukk8ud1A",
          "dtype": "f8"
         },
         "yaxis": "y"
        },
        {
         "hovertemplate": "category=Technology<br>order_month=%{x}<br>sales=%{y}<extra></extra>",
         "legendgroup": "Technology",
         "line": {
          "color": "#00cc96",
          "dash": "solid"
         },
         "marker": {
          "symbol": "circle"
         },
         "mode": "lines+markers",
         "name": "Technology",
         "orientation": "v",
         "showlegend": true,
         "type": "scatter",
         "x": [
          "2014-01",
          "2014-02",
          "2014-03",
          "2014-04",
          "2014-05",
          "2014-06",
          "2014-07",
          "2014-08",
          "2014-09",
          "2014-10",
          "2014-11",
          "2014-12",
          "2015-01",
          "2015-02",
          "2015-03",
          "2015-04",
          "2015-05",
          "2015-06",
          "2015-07",
          "2015-08",
          "2015-09",
          "2015-10",
          "2015-11",
          "2015-12",
          "2016-01",
          "2016-02",
          "2016-03",
          "2016-04",
          "2016-05",
          "2016-06",
          "2016-07",
          "2016-08",
          "2016-09",
          "2016-10",
          "2016-11",
          "2016-12",
          "2017-01",
          "2017-02",
          "2017-03",
          "2017-04",
          "2017-05",
          "2017-06",
          "2017-07",
          "2017-08",
          "2017-09",
          "2017-10",
          "2017-11",
          "2017-12"
         ],
         "xaxis": "x",
         "y": {
          "bdata": "rkfhepSOqEDXo3A9CiKZQGHl0CLLv99APN9Pjbf1wUCmm8Qg8L/CQFK4HoX7ecBAqvHSTSJEv0CuR+F61PzBQFTjpZtk0t1AqvHSTQJRx0AxCKwcWn7dQDVeuklMZ9RAyXa+n1oRskA9Ctej8PGqQHWTGAT2M8RA5tAi23nMxUAAAAAAgL3GQFYOLbJdI7lA+FPjpXtBxECJQWDlUFLOQHnpJjFIktJAuB6F63HoxEA5tMh2ZlDXQIlBYOUAZuFAiUFg5RD0tUBGtvP9dPHHQAwCK4f2D9VATDeJQUAVzUBiEFg5LCjcQH9qvHQT+s9AAAAAAIDqyUB/arx0M+TCQIts5/vZWNZALLKd71fL3kCe76fGQ4HaQOOlm8SwzNVArBxaZENX0EAbL90kBou3QESLbOeTUuBAx0s3ibEvyEAHgZVDS3/KQGZmZmZGqdBABoGVQ3uq1kB9PzVeyjTRQN9PjZemT9pAqMZLN/UK4ED6fmq82F/oQNejcD06eNVA",
          "dtype": "f8"
         },
         "yaxis": "y"
        }
       ],
       "layout": {
        "legend": {
         "title": {
          "text": "category"
         },
         "tracegroupgap": 0
        },
        "template": {
         "data": {
          "bar": [
           {
            "error_x": {
             "color": "#2a3f5f"
            },
            "error_y": {
             "color": "#2a3f5f"
            },
            "marker": {
             "line": {
              "color": "#E5ECF6",
              "width": 0.5
             },
             "pattern": {
              "fillmode": "overlay",
              "size": 10,
              "solidity": 0.2
             }
            },
            "type": "bar"
           }
          ],
          "barpolar": [
           {
            "marker": {
             "line": {
              "color": "#E5ECF6",
              "width": 0.5
             },
             "pattern": {
              "fillmode": "overlay",
              "size": 10,
              "solidity": 0.2
             }
            },
            "type": "barpolar"
           }
          ],
          "carpet": [
           {
            "aaxis": {
             "endlinecolor": "#2a3f5f",
             "gridcolor": "white",
             "linecolor": "white",
             "minorgridcolor": "white",
             "startlinecolor": "#2a3f5f"
            },
            "baxis": {
             "endlinecolor": "#2a3f5f",
             "gridcolor": "white",
             "linecolor": "white",
             "minorgridcolor": "white",
             "startlinecolor": "#2a3f5f"
            },
            "type": "carpet"
           }
          ],
          "choropleth": [
           {
            "colorbar": {
             "outlinewidth": 0,
             "ticks": ""
            },
            "type": "choropleth"
           }
          ],
          "contour": [
           {
            "colorbar": {
             "outlinewidth": 0,
             "ticks": ""
            },
            "colorscale": [
             [
              0,
              "#0d0887"
             ],
             [
              0.1111111111111111,
              "#46039f"
             ],
             [
              0.2222222222222222,
              "#7201a8"
             ],
             [
              0.3333333333333333,
              "#9c179e"
             ],
             [
              0.4444444444444444,
              "#bd3786"
             ],
             [
              0.5555555555555556,
              "#d8576b"
             ],
             [
              0.6666666666666666,
              "#ed7953"
             ],
             [
              0.7777777777777778,
              "#fb9f3a"
             ],
             [
              0.8888888888888888,
              "#fdca26"
             ],
             [
              1,
              "#f0f921"
             ]
            ],
            "type": "contour"
           }
          ],
          "contourcarpet": [
           {
            "colorbar": {
             "outlinewidth": 0,
             "ticks": ""
            },
            "type": "contourcarpet"
           }
          ],
          "heatmap": [
           {
            "colorbar": {
             "outlinewidth": 0,
             "ticks": ""
            },
            "colorscale": [
             [
              0,
              "#0d0887"
             ],
             [
              0.1111111111111111,
              "#46039f"
             ],
             [
              0.2222222222222222,
              "#7201a8"
             ],
             [
              0.3333333333333333,
              "#9c179e"
             ],
             [
              0.4444444444444444,
              "#bd3786"
             ],
             [
              0.5555555555555556,
              "#d8576b"
             ],
             [
              0.6666666666666666,
              "#ed7953"
             ],
             [
              0.7777777777777778,
              "#fb9f3a"
             ],
             [
              0.8888888888888888,
              "#fdca26"
             ],
             [
              1,
              "#f0f921"
             ]
            ],
            "type": "heatmap"
           }
          ],
          "histogram": [
           {
            "marker": {
             "pattern": {
              "fillmode": "overlay",
              "size": 10,
              "solidity": 0.2
             }
            },
            "type": "histogram"
           }
          ],
          "histogram2d": [
           {
            "colorbar": {
             "outlinewidth": 0,
             "ticks": ""
            },
            "colorscale": [
             [
              0,
              "#0d0887"
             ],
             [
              0.1111111111111111,
              "#46039f"
             ],
             [
              0.2222222222222222,
              "#7201a8"
             ],
             [
              0.3333333333333333,
              "#9c179e"
             ],
             [
              0.4444444444444444,
              "#bd3786"
             ],
             [
              0.5555555555555556,
              "#d8576b"
             ],
             [
              0.6666666666666666,
              "#ed7953"
             ],
             [
              0.7777777777777778,
              "#fb9f3a"
             ],
             [
              0.8888888888888888,
              "#fdca26"
             ],
             [
              1,
              "#f0f921"
             ]
            ],
            "type": "histogram2d"
           }
          ],
          "histogram2dcontour": [
           {
            "colorbar": {
             "outlinewidth": 0,
             "ticks": ""
            },
            "colorscale": [
             [
              0,
              "#0d0887"
             ],
             [
              0.1111111111111111,
              "#46039f"
             ],
             [
              0.2222222222222222,
              "#7201a8"
             ],
             [
              0.3333333333333333,
              "#9c179e"
             ],
             [
              0.4444444444444444,
              "#bd3786"
             ],
             [
              0.5555555555555556,
              "#d8576b"
             ],
             [
              0.6666666666666666,
              "#ed7953"
             ],
             [
              0.7777777777777778,
              "#fb9f3a"
             ],
             [
              0.8888888888888888,
              "#fdca26"
             ],
             [
              1,
              "#f0f921"
             ]
            ],
            "type": "histogram2dcontour"
           }
          ],
          "mesh3d": [
           {
            "colorbar": {
             "outlinewidth": 0,
             "ticks": ""
            },
            "type": "mesh3d"
           }
          ],
          "parcoords": [
           {
            "line": {
             "colorbar": {
              "outlinewidth": 0,
              "ticks": ""
             }
            },
            "type": "parcoords"
           }
          ],
          "pie": [
           {
            "automargin": true,
            "type": "pie"
           }
          ],
          "scatter": [
           {
            "fillpattern": {
             "fillmode": "overlay",
             "size": 10,
             "solidity": 0.2
            },
            "type": "scatter"
           }
          ],
          "scatter3d": [
           {
            "line": {
             "colorbar": {
              "outlinewidth": 0,
              "ticks": ""
             }
            },
            "marker": {
             "colorbar": {
              "outlinewidth": 0,
              "ticks": ""
             }
            },
            "type": "scatter3d"
           }
          ],
          "scattercarpet": [
           {
            "marker": {
             "colorbar": {
              "outlinewidth": 0,
              "ticks": ""
             }
            },
            "type": "scattercarpet"
           }
          ],
          "scattergeo": [
           {
            "marker": {
             "colorbar": {
              "outlinewidth": 0,
              "ticks": ""
             }
            },
            "type": "scattergeo"
           }
          ],
          "scattergl": [
           {
            "marker": {
             "colorbar": {
              "outlinewidth": 0,
              "ticks": ""
             }
            },
            "type": "scattergl"
           }
          ],
          "scattermap": [
           {
            "marker": {
             "colorbar": {
              "outlinewidth": 0,
              "ticks": ""
             }
            },
            "type": "scattermap"
           }
          ],
          "scattermapbox": [
           {
            "marker": {
             "colorbar": {
              "outlinewidth": 0,
              "ticks": ""
             }
            },
            "type": "scattermapbox"
           }
          ],
          "scatterpolar": [
           {
            "marker": {
             "colorbar": {
              "outlinewidth": 0,
              "ticks": ""
             }
            },
            "type": "scatterpolar"
           }
          ],
          "scatterpolargl": [
           {
            "marker": {
             "colorbar": {
              "outlinewidth": 0,
              "ticks": ""
             }
            },
            "type": "scatterpolargl"
           }
          ],
          "scatterternary": [
           {
            "marker": {
             "colorbar": {
              "outlinewidth": 0,
              "ticks": ""
             }
            },
            "type": "scatterternary"
           }
          ],
          "surface": [
           {
            "colorbar": {
             "outlinewidth": 0,
             "ticks": ""
            },
            "colorscale": [
             [
              0,
              "#0d0887"
             ],
             [
              0.1111111111111111,
              "#46039f"
             ],
             [
              0.2222222222222222,
              "#7201a8"
             ],
             [
              0.3333333333333333,
              "#9c179e"
             ],
             [
              0.4444444444444444,
              "#bd3786"
             ],
             [
              0.5555555555555556,
              "#d8576b"
             ],
             [
              0.6666666666666666,
              "#ed7953"
             ],
             [
              0.7777777777777778,
              "#fb9f3a"
             ],
             [
              0.8888888888888888,
              "#fdca26"
             ],
             [
              1,
              "#f0f921"
             ]
            ],
            "type": "surface"
           }
          ],
          "table": [
           {
            "cells": {
             "fill": {
              "color": "#EBF0F8"
             },
             "line": {
              "color": "white"
             }
            },
            "header": {
             "fill": {
              "color": "#C8D4E3"
             },
             "line": {
              "color": "white"
             }
            },
            "type": "table"
           }
          ]
         },
         "layout": {
          "annotationdefaults": {
           "arrowcolor": "#2a3f5f",
           "arrowhead": 0,
           "arrowwidth": 1
          },
          "autotypenumbers": "strict",
          "coloraxis": {
           "colorbar": {
            "outlinewidth": 0,
            "ticks": ""
           }
          },
          "colorscale": {
           "diverging": [
            [
             0,
             "#8e0152"
            ],
            [
             0.1,
             "#c51b7d"
            ],
            [
             0.2,
             "#de77ae"
            ],
            [
             0.3,
             "#f1b6da"
            ],
            [
             0.4,
             "#fde0ef"
            ],
            [
             0.5,
             "#f7f7f7"
            ],
            [
             0.6,
             "#e6f5d0"
            ],
            [
             0.7,
             "#b8e186"
            ],
            [
             0.8,
             "#7fbc41"
            ],
            [
             0.9,
             "#4d9221"
            ],
            [
             1,
             "#276419"
            ]
           ],
           "sequential": [
            [
             0,
             "#0d0887"
            ],
            [
             0.1111111111111111,
             "#46039f"
            ],
            [
             0.2222222222222222,
             "#7201a8"
            ],
            [
             0.3333333333333333,
             "#9c179e"
            ],
            [
             0.4444444444444444,
             "#bd3786"
            ],
            [
             0.5555555555555556,
             "#d8576b"
            ],
            [
             0.6666666666666666,
             "#ed7953"
            ],
            [
             0.7777777777777778,
             "#fb9f3a"
            ],
            [
             0.8888888888888888,
             "#fdca26"
            ],
            [
             1,
             "#f0f921"
            ]
           ],
           "sequentialminus": [
            [
             0,
             "#0d0887"
            ],
            [
             0.1111111111111111,
             "#46039f"
            ],
            [
             0.2222222222222222,
             "#7201a8"
            ],
            [
             0.3333333333333333,
             "#9c179e"
            ],
            [
             0.4444444444444444,
             "#bd3786"
            ],
            [
             0.5555555555555556,
             "#d8576b"
            ],
            [
             0.6666666666666666,
             "#ed7953"
            ],
            [
             0.7777777777777778,
             "#fb9f3a"
            ],
            [
             0.8888888888888888,
             "#fdca26"
            ],
            [
             1,
             "#f0f921"
            ]
           ]
          },
          "colorway": [
           "#636efa",
           "#EF553B",
           "#00cc96",
           "#ab63fa",
           "#FFA15A",
           "#19d3f3",
           "#FF6692",
           "#B6E880",
           "#FF97FF",
           "#FECB52"
          ],
          "font": {
           "color": "#2a3f5f"
          },
          "geo": {
           "bgcolor": "white",
           "lakecolor": "white",
           "landcolor": "#E5ECF6",
           "showlakes": true,
           "showland": true,
           "subunitcolor": "white"
          },
          "hoverlabel": {
           "align": "left"
          },
          "hovermode": "closest",
          "mapbox": {
           "style": "light"
          },
          "paper_bgcolor": "white",
          "plot_bgcolor": "#E5ECF6",
          "polar": {
           "angularaxis": {
            "gridcolor": "white",
            "linecolor": "white",
            "ticks": ""
           },
           "bgcolor": "#E5ECF6",
           "radialaxis": {
            "gridcolor": "white",
            "linecolor": "white",
            "ticks": ""
           }
          },
          "scene": {
           "xaxis": {
            "backgroundcolor": "#E5ECF6",
            "gridcolor": "white",
            "gridwidth": 2,
            "linecolor": "white",
            "showbackground": true,
            "ticks": "",
            "zerolinecolor": "white"
           },
           "yaxis": {
            "backgroundcolor": "#E5ECF6",
            "gridcolor": "white",
            "gridwidth": 2,
            "linecolor": "white",
            "showbackground": true,
            "ticks": "",
            "zerolinecolor": "white"
           },
           "zaxis": {
            "backgroundcolor": "#E5ECF6",
            "gridcolor": "white",
            "gridwidth": 2,
            "linecolor": "white",
            "showbackground": true,
            "ticks": "",
            "zerolinecolor": "white"
           }
          },
          "shapedefaults": {
           "line": {
            "color": "#2a3f5f"
           }
          },
          "ternary": {
           "aaxis": {
            "gridcolor": "white",
            "linecolor": "white",
            "ticks": ""
           },
           "baxis": {
            "gridcolor": "white",
            "linecolor": "white",
            "ticks": ""
           },
           "bgcolor": "#E5ECF6",
           "caxis": {
            "gridcolor": "white",
            "linecolor": "white",
            "ticks": ""
           }
          },
          "title": {
           "x": 0.05
          },
          "xaxis": {
           "automargin": true,
           "gridcolor": "white",
           "linecolor": "white",
           "ticks": "",
           "title": {
            "standoff": 15
           },
           "zerolinecolor": "white",
           "zerolinewidth": 2
          },
          "yaxis": {
           "automargin": true,
           "gridcolor": "white",
           "linecolor": "white",
           "ticks": "",
           "title": {
            "standoff": 15
           },
           "zerolinecolor": "white",
           "zerolinewidth": 2
          }
         }
        },
        "title": {
         "text": "Ventes mensuelles par catégorie"
        },
        "xaxis": {
         "anchor": "y",
         "domain": [
          0,
          1
         ],
         "title": {
          "text": "Mois"
         }
        },
        "yaxis": {
         "anchor": "x",
         "domain": [
          0,
          1
         ],
         "title": {
          "text": "Ventes ($)"
         }
        }
       }
      }
     },
     "metadata": {},
     "output_type": "display_data"
    }
   ],
   "source": [
    "import plotly.express as px\n",
    "\n",
    "monthly_sales = df.copy()\n",
    "monthly_sales['order_month'] = monthly_sales['order_date'].dt.to_period('M').astype(str)\n",
    "monthly_summary = monthly_sales.groupby(['order_month', 'category'])['sales'].sum().reset_index()\n",
    "\n",
    "fig = px.line(\n",
    "    monthly_summary,\n",
    "    x='order_month',\n",
    "    y='sales',\n",
    "    color='category',\n",
    "    title=\"Ventes mensuelles par catégorie\",\n",
    "    markers=True\n",
    ")\n",
    "fig.update_layout(xaxis_title=\"Mois\", yaxis_title=\"Ventes ($)\")\n",
    "fig.show()\n"
   ]
  },
  {
   "cell_type": "markdown",
   "id": "e53c73c6",
   "metadata": {},
   "source": [
    "### Avantages de Plotly :\n",
    "* Interactivité native sans besoin d’ipywidgets.\n",
    "\n",
    "* Zoom, survol, export → très adapté à une interface web.\n",
    "\n",
    "* Idéal pour des dashboards Voilà ou Streamlit.\n",
    "\n",
    "### Inconvénients :\n",
    "* Moins de contrôle précis sur le style que Matplotlib.\n",
    "\n",
    "* Plus complexe à personnaliser dans un flux plt.subplot ou animation.\n",
    "\n",
    "* Nécessite une connexion ou extension Plotly dans certains environnements."
   ]
  }
 ],
 "metadata": {
  "kernelspec": {
   "display_name": "base",
   "language": "python",
   "name": "python3"
  },
  "language_info": {
   "codemirror_mode": {
    "name": "ipython",
    "version": 3
   },
   "file_extension": ".py",
   "mimetype": "text/x-python",
   "name": "python",
   "nbconvert_exporter": "python",
   "pygments_lexer": "ipython3",
   "version": "3.12.8"
  }
 },
 "nbformat": 4,
 "nbformat_minor": 5
}
