{
 "cells": [
  {
   "cell_type": "markdown",
   "id": "8a475ea1",
   "metadata": {},
   "source": [
    "# Exercises XP\n",
    "Last Updated: May 26th, 2025\n",
    "\n",
    "### 👩‍🏫 👩🏿‍🏫 What You’ll learn\n",
    "Identify structured and unstructured data.\n",
    "Convert unstructured data into structured formats.\n",
    "Categorize and utilize different data types in a business context.\n",
    "Learn how to import datasets directly from Kaggle.\n",
    "Understand the process of importing and displaying data from a CSV file using Pandas.\n",
    "Gain skills in fetching and reading JSON data from a URL using Pandas.\n",
    "\n",
    "\n",
    "### 🛠️ What you will create\n",
    "Classify various data sources.\n",
    "Convert raw data into structured formats.\n",
    "How to import the Titanic dataset from Kaggle and display its initial rows.\n",
    "A script for importing the Iris dataset from a CSV file and displaying its first few rows.\n",
    "How to import JSON data from a URL and display the initial entries."
   ]
  },
  {
   "cell_type": "markdown",
   "id": "3282fe99",
   "metadata": {
    "vscode": {
     "languageId": "plaintext"
    }
   },
   "source": [
    "## 🌟 Exercise 1: Identifying Data Types\n",
    "Below are various data sources. Identify whether each one is an example of structured or unstructured data.\n",
    "\n",
    "A company’s financial reports stored in an Excel file.\n",
    "Photographs uploaded to a social media platform.\n",
    "A collection of news articles on a website.\n",
    "Inventory data in a relational database.\n",
    "Recorded interviews from a market research study."
   ]
  },
  {
   "cell_type": "markdown",
   "id": "99995ef8",
   "metadata": {},
   "source": [
    "### Solution:\n",
    "\n",
    "1. **Un fichier Excel de rapports financiers d’une entreprise** : **Données structurées**\n",
    "2. **Photos sur un réseau social** : **Données non structurées**\n",
    "3. **Articles de presse sur un site web** : **Données non structurées**\n",
    "4. **Données d’inventaire dans une base de données relationnelle** : **Données structurées**\n",
    "5. **Enregistrements d’entretiens d’une étude de marché** : **Données non structurées**\n"
   ]
  },
  {
   "cell_type": "markdown",
   "id": "268b4918",
   "metadata": {},
   "source": [
    "## 🌟 Exercise 2: Transformation Exercise\n",
    "For each of the following unstructured data sources, propose a method to convert it into structured data. Explain your reasoning.\n",
    "\n",
    "A series of blog posts about travel experiences.\n",
    "Audio recordings of customer service calls.\n",
    "Handwritten notes from a brainstorming session.\n",
    "A video tutorial on cooking."
   ]
  },
  {
   "cell_type": "markdown",
   "id": "78192267",
   "metadata": {},
   "source": [
    "### Solution:\n",
    "\n",
    "1. **Blogues sur des expériences de voyage**\n",
    "\n",
    "   * **Méthode** : Utiliser un traitement automatique du langage (NLP) pour extraire des informations clés (lieux, dates, activités) et les organiser dans un tableau.\n",
    "   * **Raison** : Le texte est libre, mais on peut structurer les infos récurrentes en champs (ex : destination, durée, activité).\n",
    "\n",
    "2. **Enregistrements audio d’appels au service client**\n",
    "\n",
    "   * **Méthode** : Transcrire l’audio en texte, puis analyser le texte pour identifier les thèmes, les motifs d’appels, les résultats, etc.\n",
    "   * **Raison** : On obtient alors des catégories et des mots-clés exploitables dans une base de données.\n",
    "\n",
    "3. **Notes manuscrites d’une séance de brainstorming**\n",
    "\n",
    "   * **Méthode** : Scanner puis utiliser la reconnaissance optique de caractères (OCR), puis organiser les idées en catégories dans un tableau.\n",
    "   * **Raison** : Cela permet de passer du papier à des listes exploitables informatiquement.\n",
    "\n",
    "4. **Vidéo tutoriel de cuisine**\n",
    "\n",
    "   * **Méthode** : Convertir la vidéo en texte (transcription), puis extraire les étapes, ingrédients, durées, etc., pour remplir un tableau structuré (recette, étapes, temps).\n",
    "   * **Raison** : On transforme le contenu audiovisuel en données organisées, faciles à retrouver et analyser.\n"
   ]
  },
  {
   "cell_type": "markdown",
   "id": "c57ac0a9",
   "metadata": {},
   "source": [
    "## 🌟 Exercise 3 : Import a file from Kaggle\n",
    "Import the train dataset. Use the train.csv file.\n",
    "Print the first few rows of the DataFrame."
   ]
  },
  {
   "cell_type": "code",
   "execution_count": null,
   "id": "78673966",
   "metadata": {},
   "outputs": [],
   "source": [
    "import pandas as pd\n",
    "\n",
    "# Chemin vers le fichier téléchargé depuis Kaggle\n",
    "df = pd.read_csv('C:User\\desktop\\train.csv')\n",
    "\n",
    "# Afficher les premières lignes du DataFrame\n",
    "print(df.head())\n"
   ]
  },
  {
   "cell_type": "markdown",
   "id": "2a15c3e8",
   "metadata": {},
   "source": [
    "## 🌟 Exercise 4: Importing a CSV File\n",
    "Use the Iris Dataset CSV.\n",
    "\n",
    "Download the Iris dataset CSV file and place it in the same directory as your Jupyter Notebook.\n",
    "Import the CSV file using Pandas.\n",
    "Display the first five rows of the dataset."
   ]
  },
  {
   "cell_type": "code",
   "execution_count": null,
   "id": "84dcae67",
   "metadata": {},
   "outputs": [],
   "source": [
    "import pandas as pd\n",
    "\n",
    "# Importation du fichier Iris\n",
    "df = pd.read_csv('iris.csv')\n",
    "\n",
    "# Affichage des 5 premières lignes\n",
    "print(df.head())\n"
   ]
  },
  {
   "cell_type": "markdown",
   "id": "892e9fca",
   "metadata": {},
   "source": [
    "## 🌟 Exercise 5 : Export a dataframe to excel format and JSON format.\n",
    "Create a simple dataframe.\n",
    "Export the dataframe to an excel file.\n",
    "Export the dataframe to a JSON file."
   ]
  },
  {
   "cell_type": "code",
   "execution_count": null,
   "id": "04dcad3c",
   "metadata": {},
   "outputs": [],
   "source": [
    "import pandas as pd\n",
    "\n",
    "# Création d'un DataFrame simple\n",
    "data = {'Nom': ['Alice', 'Bob', 'Charlie'], 'Âge': [25, 30, 22]}\n",
    "df = pd.DataFrame(data)\n",
    "\n",
    "# Exporter en format Excel\n",
    "df.to_excel('exemple.xlsx', index=False)\n",
    "\n",
    "# Exporter en format JSON\n",
    "df.to_json('exemple.json', orient='records', force_ascii=False)\n"
   ]
  },
  {
   "cell_type": "markdown",
   "id": "580a5693",
   "metadata": {},
   "source": [
    "## 🌟 Exercise 6: Reading JSON Data\n",
    "Use a sample JSON dataset\n",
    "\n",
    "Import the JSON data from the provided URL.\n",
    "Use Pandas to read the JSON data.\n",
    "Display the first five entries of the data.🌟 Exercise 6: Reading JSON Data\n",
    "Use a sample JSON dataset\n",
    "\n",
    "Import the JSON data from the provided URL.\n",
    "Use Pandas to read the JSON data.\n",
    "Display the first five entries of the data."
   ]
  },
  {
   "cell_type": "code",
   "execution_count": null,
   "id": "d88a9ad8",
   "metadata": {},
   "outputs": [],
   "source": [
    "import pandas as pd\n",
    "\n",
    "# Remplace l’URL ci-dessous par celle fournie dans l’exercice\n",
    "url = 'URL_DU_JSON'\n",
    "\n",
    "# Importation des données JSON\n",
    "df = pd.read_json(url)\n",
    "\n",
    "# Affichage des 5 premières entrées\n",
    "print(df.head())\n"
   ]
  },
  {
   "cell_type": "markdown",
   "id": "bf12d0b2",
   "metadata": {},
   "source": [
    "À faire : Remplace URL_DU_JSON par l’URL réelle fournie dans l’exercice, puis exécute ce code."
   ]
  }
 ],
 "metadata": {
  "language_info": {
   "name": "python"
  }
 },
 "nbformat": 4,
 "nbformat_minor": 5
}
