{
 "cells": [
  {
   "cell_type": "markdown",
   "id": "832593d6",
   "metadata": {},
   "source": [
    "# Exercises XP Gold\n",
    "Last Updated: October 16th, 2024\n",
    "\n",
    "### 👩‍🏫 👩🏿‍🏫 What You’ll learn\n",
    "Perform a comparative analysis of structured and unstructured retail data.\n",
    "Understand the processing and analysis of structured and unstructured healthcare data.\n",
    "Gain familiarity with structured data through basic exploration.\n",
    "Understand the challenges of working with unstructured data and identify structured elements in a public transportation dataset.\n",
    "Generate a synthetic product catalog for an e-commerce platform using Faker.\n",
    "\n",
    "\n",
    "### 🛠️ What you will create\n",
    "A comparative analysis document discussing the insights from structured and unstructured retail data and the challenges in processing them.\n",
    "Identification of structured data elements within the E-Commerce dataset.\n",
    "Categorization of data elements in the dataset as structured or unstructured with justifications.\n",
    "A Python script using Faker to generate a synthetic product catalog for an e-commerce platform."
   ]
  },
  {
   "cell_type": "markdown",
   "id": "56b656fd",
   "metadata": {},
   "source": [
    "## Exercise 1: Comparative Analysis of Retail Data\n",
    "Dataset: Use the Retail Dataset for structured data and Women’s E-Commerce Clothing Reviews for unstructured data.\n",
    "\n",
    "Analyze the Retail Dataset focusing on sales trends, customer purchase patterns, and store performance.\n",
    "Analyze the Clothing Reviews dataset to extract insights like predominant sentiments, frequently mentioned topics, and overall customer satisfaction.\n",
    "Compare the insights you can derive from each dataset and discuss the challenges you faced in processing the unstructured data."
   ]
  },
  {
   "cell_type": "code",
   "execution_count": null,
   "id": "38d3c93a",
   "metadata": {},
   "outputs": [],
   "source": [
    "pip install pandas matplotlib textblob wordcloud"
   ]
  },
  {
   "cell_type": "markdown",
   "id": "07286c24",
   "metadata": {},
   "source": [
    "### 1. Analyse du Retail Dataset (données structurées)"
   ]
  },
  {
   "cell_type": "code",
   "execution_count": null,
   "id": "80f024d4",
   "metadata": {},
   "outputs": [],
   "source": [
    "import pandas as pd\n",
    "import matplotlib.pyplot as plt\n",
    "\n",
    "# Charger les données Retail\n",
    "retail_df = pd.read_csv('RetailDataset.csv')\n",
    "\n",
    "# Tendances des ventes par mois\n",
    "retail_df['Date'] = pd.to_datetime(retail_df['Date'])\n",
    "retail_df['Mois'] = retail_df['Date'].dt.to_period('M')\n",
    "ventes_mensuelles = retail_df.groupby('Mois')['Sales'].sum()\n",
    "ventes_mensuelles.plot(title='Ventes mensuelles')\n",
    "plt.show()\n",
    "\n",
    "# Comportement d’achat des clients\n",
    "clients = retail_df.groupby('CustomerID')['Sales'].agg(['count', 'sum', 'mean'])\n",
    "print(clients.head())\n",
    "\n",
    "# Performance des magasins\n",
    "magasins = retail_df.groupby('StoreID')['Sales'].sum().sort_values(ascending=False)\n",
    "print(magasins.head())\n"
   ]
  },
  {
   "cell_type": "markdown",
   "id": "442ad7f9",
   "metadata": {},
   "source": [
    "### 2. Analyse des avis (données non structurées)"
   ]
  },
  {
   "cell_type": "code",
   "execution_count": null,
   "id": "5fba1c41",
   "metadata": {},
   "outputs": [],
   "source": [
    "import pandas as pd\n",
    "from textblob import TextBlob\n",
    "from wordcloud import WordCloud\n",
    "import matplotlib.pyplot as plt\n",
    "\n",
    "# Charger les données d’avis\n",
    "reviews_df = pd.read_csv('Womens Clothing E-Commerce Reviews.csv')\n",
    "\n",
    "# Analyse de sentiment\n",
    "reviews_df['sentiment'] = reviews_df['Review Text'].dropna().apply(lambda x: TextBlob(x).sentiment.polarity)\n",
    "print(\"Score moyen de sentiment :\", reviews_df['sentiment'].mean())\n",
    "\n",
    "# Nuage de mots des thèmes fréquents\n",
    "text = ' '.join(reviews_df['Review Text'].dropna())\n",
    "wordcloud = WordCloud(width=800, height=400).generate(text)\n",
    "plt.figure(figsize=(10,5))\n",
    "plt.imshow(wordcloud, interpolation='bilinear')\n",
    "plt.axis('off')\n",
    "plt.show()\n",
    "\n",
    "# Satisfaction client (note moyenne)\n",
    "print(\"Satisfaction moyenne :\", reviews_df['Rating'].mean())\n"
   ]
  },
  {
   "cell_type": "markdown",
   "id": "e6f2431d",
   "metadata": {},
   "source": [
    "### 3. Remarques sur les difficultés"
   ]
  },
  {
   "cell_type": "markdown",
   "id": "8ee820ba",
   "metadata": {},
   "source": [
    "(Pas de code, mais pour rappel : nettoyage du texte, gestion des valeurs manquantes, etc.)"
   ]
  },
  {
   "cell_type": "markdown",
   "id": "e5a2bc59",
   "metadata": {},
   "source": [
    "## Exercise 2: Basic Data Exploration in E-Commerce\n",
    "Dataset: Use the “E-Commerce Data” dataset.\n",
    "\n",
    "Load the dataset using Pandas and print the first few rows to understand its structure.\n",
    "Print basic information about the dataset, like the number of rows, columns, and column names.\n",
    "Identify which columns in the dataset represent structured data (like numerical values, dates, fixed categories).\n",
    "Suggest what type of unstructured data could complement this dataset for a more comprehensive analysis (e.g., customer reviews, product descriptions).\n",
    "Discuss how this unstructured data might be used in conjunction with the structured data."
   ]
  },
  {
   "cell_type": "markdown",
   "id": "054792e6",
   "metadata": {},
   "source": [
    "### 1. Charger le dataset et afficher les premières lignes"
   ]
  },
  {
   "cell_type": "code",
   "execution_count": null,
   "id": "da50cd07",
   "metadata": {},
   "outputs": [],
   "source": [
    "import pandas as pd\n",
    "\n",
    "df = pd.read_csv('E-Commerce Data.csv')  # adapte le nom si besoin\n",
    "print(df.head())\n"
   ]
  },
  {
   "cell_type": "markdown",
   "id": "ce8564f9",
   "metadata": {},
   "source": [
    "### 2. Afficher des infos de base sur le dataset"
   ]
  },
  {
   "cell_type": "code",
   "execution_count": null,
   "id": "e2a82fd4",
   "metadata": {},
   "outputs": [],
   "source": [
    "print(\"Nombre de lignes :\", df.shape[0])\n",
    "print(\"Nombre de colonnes :\", df.shape[1])\n",
    "print(\"Nom des colonnes :\", df.columns.tolist())\n",
    "print(df.info())\n"
   ]
  },
  {
   "cell_type": "markdown",
   "id": "45f755df",
   "metadata": {},
   "source": [
    "### 3. Identifier les colonnes structurées"
   ]
  },
  {
   "cell_type": "markdown",
   "id": "55508d5a",
   "metadata": {},
   "source": [
    "Exemple typique (adapte selon ton dataset réel) :\n",
    "\n",
    "Structurées : ID, Date, Prix, Quantité, Catégorie, Pays, etc.\n",
    "\n",
    "Ce sont toutes les colonnes avec des valeurs numériques, des dates, ou des catégories fixes."
   ]
  },
  {
   "cell_type": "markdown",
   "id": "130d77f8",
   "metadata": {},
   "source": [
    "### 4. Exemple de données non structurées complémentaires"
   ]
  },
  {
   "cell_type": "markdown",
   "id": "c2f1eb30",
   "metadata": {},
   "source": [
    "Avis clients (textes libres)\n",
    "\n",
    "Descriptions produits\n",
    "\n",
    "E-mails ou échanges SAV\n",
    "\n",
    "Photos des produits"
   ]
  },
  {
   "cell_type": "markdown",
   "id": "d663f120",
   "metadata": {},
   "source": [
    "### 5. Utilité de ces données non structurées"
   ]
  },
  {
   "cell_type": "markdown",
   "id": "722f76a3",
   "metadata": {},
   "source": [
    "Avis clients : Analyse de sentiment pour comprendre la satisfaction réelle, détecter des problèmes récurrents ou des tendances.\n",
    "\n",
    "Descriptions produits : Extraire des caractéristiques non présentes dans les colonnes structurées (matière, couleur, style).\n",
    "\n",
    "Photos : Analyse visuelle ou validation de conformité produit.\n",
    "\n",
    "Combinaison : Croiser les avis négatifs/positifs avec les ventes, les retours, ou les catégories de produits pour identifier ce qui marche ou non."
   ]
  },
  {
   "cell_type": "markdown",
   "id": "bbf4b7dd",
   "metadata": {},
   "source": [
    "## Exercise 3: Analyzing a Public Transportation Dataset with a Focus on Data Types\n",
    "Dataset: Use the “Metro Interstate Traffic Volume” dataset.\n",
    "\n",
    "Load the dataset and display the first few rows to get a sense of the data.\n",
    "Identify and print the structured elements in the dataset, such as date-time, traffic volume, etc.\n",
    "Based on your observation of the dataset, categorize the data elements as structured or unstructured. For example, consider elements like weather descriptions, date-time, and traffic volume. Explain why you categorized them as such."
   ]
  },
  {
   "cell_type": "markdown",
   "id": "9a1e45fb",
   "metadata": {},
   "source": [
    "### 1. Charger le dataset et afficher les premières lignes"
   ]
  },
  {
   "cell_type": "code",
   "execution_count": null,
   "id": "9c03d4fc",
   "metadata": {},
   "outputs": [],
   "source": [
    "import pandas as pd\n",
    "\n",
    "df = pd.read_csv('Metro_Interstate_Traffic_Volume.csv')\n",
    "print(df.head())\n"
   ]
  },
  {
   "cell_type": "markdown",
   "id": "a93a0908",
   "metadata": {},
   "source": [
    "### 2. Identifier et afficher les éléments structurés"
   ]
  },
  {
   "cell_type": "code",
   "execution_count": null,
   "id": "ae62ff36",
   "metadata": {},
   "outputs": [],
   "source": [
    "print(\"Colonnes du dataset :\", df.columns.tolist())\n",
    "print(df.info())\n"
   ]
  },
  {
   "cell_type": "markdown",
   "id": "dabc70fe",
   "metadata": {},
   "source": [
    "Exemples d’éléments structurés typiques :\n",
    "\n",
    "date_time (horodatage, type date)\n",
    "\n",
    "traffic_volume (valeur numérique)\n",
    "\n",
    "temp, rain_1h, snow_1h, clouds_all (valeurs numériques)\n",
    "\n",
    "holiday, weather_main (catégories/fixes)"
   ]
  },
  {
   "cell_type": "markdown",
   "id": "edc92e22",
   "metadata": {},
   "source": [
    "### 3. Catégorisation des données"
   ]
  },
  {
   "cell_type": "markdown",
   "id": "96b32aec",
   "metadata": {},
   "source": [
    "Élément\tType\tExplication\n",
    "date_time\tStructuré\tFormat date/heure standard exploitable\n",
    "traffic_volume\tStructuré\tValeur numérique continue\n",
    "temp, rain_1h, etc.\tStructuré\tValeurs numériques ou catégories\n",
    "holiday\tStructuré\tValeur catégorielle (Oui/Non ou nom de jour férié)\n",
    "weather_main\tStructuré\tValeur catégorielle (ex : Clear, Clouds, Rain)\n",
    "weather_description\tNon structuré\tTexte libre avec description détaillée (ex : \"light rain\", \"scattered clouds\")"
   ]
  },
  {
   "cell_type": "markdown",
   "id": "37264cd4",
   "metadata": {},
   "source": [
    "Résumé :\n",
    "\n",
    "Structurées : colonnes numériques, dates, catégories fixes (ex : traffic_volume, date_time, temp, holiday…).\n",
    "\n",
    "Non structurée : colonne de description météo détaillée (“weather_description”), car c’est du texte libre.\n",
    "\n",
    "Justification : Les données structurées sont faciles à filtrer, agréger et analyser automatiquement. Le texte libre (“weather_description”) nécessite du NLP pour être exploité correctement."
   ]
  },
  {
   "cell_type": "markdown",
   "id": "4ff30742",
   "metadata": {},
   "source": [
    "## Exercise 4: Basic Data Analysis in a Movie Ratings Dataset\n",
    "Dataset: Use the “MovieLens Latest Datasets”.\n",
    "\n",
    "Load the ‘ratings.csv’ file from the dataset, which contains user ratings for movies, and display the first few rows.\n",
    "Identify and list down the structured elements in the dataset, such as user IDs, movie IDs, ratings, and timestamps.\n",
    "Explain why the data elements in the ‘ratings.csv’ file are considered structured data."
   ]
  },
  {
   "cell_type": "markdown",
   "id": "e53defb1",
   "metadata": {},
   "source": [
    "### 1. Charger le fichier et afficher les premières lignes"
   ]
  },
  {
   "cell_type": "code",
   "execution_count": null,
   "id": "85ec4104",
   "metadata": {},
   "outputs": [],
   "source": [
    "import pandas as pd\n",
    "\n",
    "df = pd.read_csv('ratings.csv')\n",
    "print(df.head())\n"
   ]
  },
  {
   "cell_type": "markdown",
   "id": "3a1bc05d",
   "metadata": {},
   "source": [
    "### 2. Identifier les éléments structurés"
   ]
  },
  {
   "cell_type": "code",
   "execution_count": null,
   "id": "e084a66e",
   "metadata": {},
   "outputs": [],
   "source": [
    "print(\"Colonnes :\", df.columns.tolist())\n"
   ]
  },
  {
   "cell_type": "markdown",
   "id": "2df67a6c",
   "metadata": {},
   "source": [
    "Éléments structurés présents :\n",
    "\n",
    "userId : identifiant utilisateur (nombre entier)\n",
    "\n",
    "movieId : identifiant film (nombre entier)\n",
    "\n",
    "rating : note attribuée (valeur numérique, souvent entre 0.5 et 5)\n",
    "\n",
    "timestamp : date/heure du rating (valeur numérique ou datetime)"
   ]
  },
  {
   "cell_type": "markdown",
   "id": "fbd37ab9",
   "metadata": {},
   "source": [
    "### 3. Pourquoi ces éléments sont structurés"
   ]
  },
  {
   "cell_type": "markdown",
   "id": "4d298137",
   "metadata": {},
   "source": [
    "Explication :\n",
    "\n",
    "Chaque colonne contient un type de donnée défini et constant :\n",
    "\n",
    "Identifiants (userId, movieId) : numériques, uniques, faciles à indexer.\n",
    "\n",
    "rating : valeur numérique sur une échelle fixe, simple à agréger.\n",
    "\n",
    "timestamp : date/heure, format standard, exploitable pour analyses temporelles.\n",
    "\n",
    "Ce ne sont pas des textes libres ou des champs ouverts, mais des valeurs prédéfinies, organisées et facilement analysables par des outils informatiques (filtres, moyennes, regroupements, etc.)."
   ]
  },
  {
   "cell_type": "markdown",
   "id": "652319da",
   "metadata": {},
   "source": [
    "Résumé :\n",
    "Tous les éléments de ratings.csv sont structurés car ils utilisent des formats de données standardisés, facilitant l’analyse automatique."
   ]
  },
  {
   "cell_type": "markdown",
   "id": "ad644fb7",
   "metadata": {},
   "source": [
    "## Exercise 5: Creating a Synthetic Product Catalog\n",
    "We want to generate a synthetic product catalog for an e-commerce platform using Faker.\n",
    "\n",
    "Ensure that the Faker library is installed and imported into your Python environment.\n",
    "Create a dataset of 500 products. Each product should have a unique ID, name, description, and price.\n",
    "Use Pandas to create a DataFrame from the generated data."
   ]
  },
  {
   "cell_type": "code",
   "execution_count": null,
   "id": "3154f300",
   "metadata": {},
   "outputs": [],
   "source": [
    "pip install faker"
   ]
  },
  {
   "cell_type": "markdown",
   "id": "08b95067",
   "metadata": {},
   "source": [
    "Le DataFrame contient 500 produits avec ID, nom, description et prix."
   ]
  },
  {
   "cell_type": "code",
   "execution_count": null,
   "id": "03ab71e7",
   "metadata": {},
   "outputs": [],
   "source": [
    "from faker import Faker\n",
    "import pandas as pd\n",
    "import random\n",
    "\n",
    "# Initialiser Faker\n",
    "fake = Faker()\n",
    "\n",
    "# Générer les données synthétiques\n",
    "products = []\n",
    "for i in range(1, 501):\n",
    "    product = {\n",
    "        \"product_id\": i,\n",
    "        \"name\": fake.unique.word().title(),\n",
    "        \"description\": fake.sentence(),\n",
    "        \"price\": round(random.uniform(5, 500), 2)\n",
    "    }\n",
    "    products.append(product)\n",
    "\n",
    "# Créer un DataFrame Pandas\n",
    "df = pd.DataFrame(products)\n",
    "\n",
    "print(df.head())\n"
   ]
  }
 ],
 "metadata": {
  "language_info": {
   "name": "python"
  }
 },
 "nbformat": 4,
 "nbformat_minor": 5
}
