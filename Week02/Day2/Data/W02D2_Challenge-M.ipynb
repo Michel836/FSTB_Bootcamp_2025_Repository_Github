{
 "cells": [
  {
   "cell_type": "markdown",
   "id": "b36cf577",
   "metadata": {},
   "source": [
    "# Daily Challenge: Hands-On Image Transformation and Visualization\n",
    "\n",
    "\n",
    "## 👩‍🏫 👩🏿‍🏫 What You’ll learn\n",
    "Data Augmentation\n",
    "Data visualization using MatPlotLib or PIL libraries.\n",
    "\n",
    "\n",
    "## Your Task\n",
    "For this challenge, please use google colab.\n",
    "\n",
    "Load and Visualize Images using the Flower Color Images dataset"
   ]
  },
  {
   "cell_type": "markdown",
   "id": "2ec3c8fc",
   "metadata": {},
   "source": [
    "### Load and Visualize Images using the Flower Color Images dataset"
   ]
  },
  {
   "cell_type": "code",
   "execution_count": null,
   "id": "7909e00e",
   "metadata": {},
   "outputs": [],
   "source": [
    "from google.colab import files\n",
    "files.upload()\n",
    "\n",
    "!mkdir -p ~/.kaggle\n",
    "!cp kaggle.json ~/.kaggle/\n",
    "!chmod 600 ~/.kaggle/kaggle.json\n",
    "\n",
    "!kaggle datasets download -d olgabelitskaya/flower-color-images"
   ]
  },
  {
   "cell_type": "code",
   "execution_count": null,
   "id": "db70186f",
   "metadata": {},
   "outputs": [],
   "source": [
    "!unzip flower-color-images.zip"
   ]
  },
  {
   "cell_type": "markdown",
   "id": "f9d97c2c",
   "metadata": {},
   "source": [
    "### Install the libraries :"
   ]
  },
  {
   "cell_type": "code",
   "execution_count": null,
   "id": "61332a6b",
   "metadata": {},
   "outputs": [],
   "source": [
    "!pip install tensorflow\n",
    "! pip install keras\n",
    "! pip install pillow"
   ]
  },
  {
   "cell_type": "markdown",
   "id": "332dd5f8",
   "metadata": {},
   "source": [
    "### To load an image and display it :"
   ]
  },
  {
   "cell_type": "code",
   "execution_count": null,
   "id": "b32c5485",
   "metadata": {},
   "outputs": [],
   "source": [
    "# Load an image using PIL\n",
    "image_path = 'flowers/flowers/19_010.png'\n",
    "original_image = Image.open(image_path)\n",
    "\n",
    "# Display the original image using matplotlib\n",
    "plt.imshow(original_image)"
   ]
  },
  {
   "cell_type": "markdown",
   "id": "cb9a06fc",
   "metadata": {},
   "source": [
    "### Rotate an image by 90 degrees"
   ]
  },
  {
   "cell_type": "code",
   "execution_count": null,
   "id": "64ae5edd",
   "metadata": {},
   "outputs": [],
   "source": [
    "from scipy.ndimage import rotate\n",
    "def rotate_image_30_degrees(image):\n",
    "return rotate( , , , ) #complete it"
   ]
  },
  {
   "cell_type": "code",
   "execution_count": null,
   "id": "eba95f9b",
   "metadata": {},
   "outputs": [],
   "source": [
    "# 1. Importations nécessaires\n",
    "from PIL import Image, ImageOps\n",
    "import matplotlib.pyplot as plt\n",
    "from scipy.ndimage import rotate\n",
    "import numpy as np"
   ]
  },
  {
   "cell_type": "code",
   "execution_count": null,
   "id": "98c22d63",
   "metadata": {},
   "outputs": [],
   "source": [
    "# 2. Charger et afficher une image\n",
    "image_path = 'flowers/flowers/19_010.png'\n",
    "original_image = Image.open(image_path)\n",
    "plt.imshow(original_image)\n",
    "plt.title('Image originale')\n",
    "plt.axis('off')\n",
    "plt.show()"
   ]
  },
  {
   "cell_type": "code",
   "execution_count": null,
   "id": "50b16a5c",
   "metadata": {},
   "outputs": [],
   "source": [
    "# 3. Rotation de l’image de 90°\n",
    "rotated_image = original_image.rotate(90, expand=True)\n",
    "plt.imshow(rotated_image)\n",
    "plt.title('Rotation 90°')\n",
    "plt.axis('off')\n",
    "plt.show()"
   ]
  },
  {
   "cell_type": "code",
   "execution_count": null,
   "id": "e62c45c5",
   "metadata": {},
   "outputs": [],
   "source": [
    "# 4. Fonction rotation 30°\n",
    "def rotate_image_30_degrees(image):\n",
    "    arr = np.array(image)\n",
    "    rotated_arr = rotate(arr, 30, reshape=True)\n",
    "    return Image.fromarray(rotated_arr.astype('uint8'))\n",
    "\n",
    "image_30 = rotate_image_30_degrees(original_image)\n",
    "plt.imshow(image_30)\n",
    "plt.title('Rotation 30°')\n",
    "plt.axis('off')\n",
    "plt.show()"
   ]
  },
  {
   "cell_type": "code",
   "execution_count": null,
   "id": "86784233",
   "metadata": {},
   "outputs": [],
   "source": [
    "# 5. Flip horizontal (ImageOps.mirror) et vertical (ImageOps.flip)\n",
    "horizontally_flipped = ImageOps.mirror(original_image)\n",
    "vertically_flipped = ImageOps.flip(original_image)\n",
    "\n",
    "plt.figure(figsize=(8,4))\n",
    "plt.subplot(1,2,1)\n",
    "plt.imshow(horizontally_flipped)\n",
    "plt.title('Flip horizontal')\n",
    "plt.axis('off')\n",
    "plt.subplot(1,2,2)\n",
    "plt.imshow(vertically_flipped)\n",
    "plt.title('Flip vertical')\n",
    "plt.axis('off')\n",
    "plt.show()"
   ]
  },
  {
   "cell_type": "code",
   "execution_count": null,
   "id": "03a71505",
   "metadata": {},
   "outputs": [],
   "source": [
    "# 6. Zoom 1.2x (resize)\n",
    "w, h = original_image.size\n",
    "zoomed_image = original_image.resize((int(w*1.2), int(h*1.2)))\n",
    "plt.imshow(zoomed_image)\n",
    "plt.title('Zoom x1.2')\n",
    "plt.axis('off')\n",
    "plt.show()"
   ]
  }
 ],
 "metadata": {
  "language_info": {
   "name": "python"
  }
 },
 "nbformat": 4,
 "nbformat_minor": 5
}
