{
 "cells": [
  {
   "cell_type": "markdown",
   "id": "06f8305d",
   "metadata": {},
   "source": [
    "# Exercises XP Ninja\n",
    "Last Updated: October 16th, 2024\n",
    "\n",
    "## 👩‍🏫 👩🏿‍🏫 What You’ll learn\n",
    "Practice converting unstructured data into a structured format.\n",
    "Conducting a basic analysis of a dataset\n",
    "Gain knowledge of various tools and techniques for processing both structured and unstructured data, including sentiment analysis.\n",
    "\n",
    "\n",
    "## 🛠️ What you will create\n",
    "Transform an unstructured dataset into a structured format, creating a new, organized dataset.\n",
    "Create reports that detail the analysis of both a structured and an unstructured dataset, highlighting key findings."
   ]
  },
  {
   "cell_type": "markdown",
   "id": "fe3aa207",
   "metadata": {},
   "source": [
    "## Exercise 1 : Comparative Analysis of Structured and Unstructured Data\n",
    "Given two datasets - one structured, a CSV file of product sales data and one unstructured, a collection of customer support tickets, perform a basic analysis on each.\n",
    "Identify the challenges faced while processing the unstructured dataset as compared to the structured dataset.\n",
    "Describe the tools and techniques that were effective for each type of data.\n",
    "Hint: Sentiment Analysis using TextBlob"
   ]
  },
  {
   "cell_type": "markdown",
   "id": "9b5ec175",
   "metadata": {},
   "source": [
    "### 1. Analyse du fichier CSV de ventes (données structurées) :"
   ]
  },
  {
   "cell_type": "code",
   "execution_count": null,
   "id": "380c75ff",
   "metadata": {},
   "outputs": [],
   "source": [
    "import pandas as pd\n",
    "\n",
    "# Chargement des ventes\n",
    "sales_df = pd.read_csv('sales.csv')\n",
    "\n",
    "# Exemple d'analyse : total des ventes par produit\n",
    "result = sales_df.groupby('product_name')['amount'].sum()\n",
    "print(result)\n"
   ]
  },
  {
   "cell_type": "markdown",
   "id": "423dc97d",
   "metadata": {},
   "source": [
    "### 2. Analyse des tickets clients (données non structurées) :"
   ]
  },
  {
   "cell_type": "code",
   "execution_count": null,
   "id": "28a086c4",
   "metadata": {},
   "outputs": [],
   "source": [
    "import pandas as pd\n",
    "from textblob import TextBlob\n",
    "\n",
    "# Chargement des tickets\n",
    "tickets_df = pd.read_csv('support_tickets.csv')\n",
    "\n",
    "# Analyse de sentiment sur les messages\n",
    "tickets_df['sentiment'] = tickets_df['message'].apply(lambda x: TextBlob(str(x)).sentiment.polarity)\n",
    "print(tickets_df[['message', 'sentiment']].head())\n"
   ]
  },
  {
   "cell_type": "markdown",
   "id": "e80e910f",
   "metadata": {},
   "source": [
    "### 3. Défis rencontrés avec les données non structurées :"
   ]
  },
  {
   "cell_type": "markdown",
   "id": "abd49ff1",
   "metadata": {},
   "source": [
    "Textes à nettoyer (fautes, abréviations, phrases incomplètes…).\n",
    "\n",
    "Informations dispersées, difficiles à organiser.\n",
    "\n",
    "L’analyse dépend de la qualité de la rédaction des clients."
   ]
  },
  {
   "cell_type": "markdown",
   "id": "16b61b7f",
   "metadata": {},
   "source": [
    "### 4. Résumé des outils efficaces :"
   ]
  },
  {
   "cell_type": "markdown",
   "id": "b216984a",
   "metadata": {},
   "source": [
    "Données structurées : Pandas (simple, rapide, précis).\n",
    "\n",
    "Données non structurées : Pandas + TextBlob (pour traiter et analyser le texte, mais nécessite plus de préparation)."
   ]
  },
  {
   "cell_type": "markdown",
   "id": "7ee40a0e",
   "metadata": {},
   "source": [
    "En résumé :\n",
    "\n",
    "L’analyse des données structurées est simple avec Pandas.\n",
    "\n",
    "L’analyse des tickets (texte libre) demande du nettoyage et des outils comme TextBlob.\n",
    "\n",
    "Les données non structurées sont plus complexes et moins directes à analyser."
   ]
  },
  {
   "cell_type": "markdown",
   "id": "116869f8",
   "metadata": {},
   "source": [
    "## Exercise 2 : Converting Unstructured Data to Structured Data\n",
    "Here is an unstructured dataset containing tweets.\n",
    "\n",
    "Apply text processing techniques to extract key information (such as hashtags and mentions, you already have a column “sentiment”) from the dataset.\n",
    "Organize this extracted information into a structured format (like a table with columns for each key information type).\n",
    "Perform a basic analysis on the newly structured data and compare insights with the original unstructured format."
   ]
  },
  {
   "cell_type": "markdown",
   "id": "a92a3bc7",
   "metadata": {},
   "source": [
    "### 1. Extraction des hashtags et mentions"
   ]
  },
  {
   "cell_type": "code",
   "execution_count": null,
   "id": "25a826aa",
   "metadata": {},
   "outputs": [],
   "source": [
    "import pandas as pd\n",
    "import re\n",
    "\n",
    "# Charger le fichier des tweets\n",
    "df = pd.read_csv('tweets.csv')\n",
    "\n",
    "# Extraction des hashtags et mentions\n",
    "df['hashtags'] = df['tweet'].apply(lambda x: re.findall(r'#\\w+', str(x)))\n",
    "df['mentions'] = df['tweet'].apply(lambda x: re.findall(r'@\\w+', str(x)))\n",
    "\n",
    "print(df[['tweet', 'hashtags', 'mentions', 'sentiment']].head())\n"
   ]
  },
  {
   "cell_type": "markdown",
   "id": "185a0f39",
   "metadata": {},
   "source": [
    "### 2. Organisation sous forme structurée"
   ]
  },
  {
   "cell_type": "markdown",
   "id": "7440c517",
   "metadata": {},
   "source": [
    "Le DataFrame comporte maintenant les colonnes :\n",
    "\n",
    "tweet (texte brut, non structuré)\n",
    "\n",
    "hashtags (liste de hashtags)\n",
    "\n",
    "mentions (liste de mentions)\n",
    "\n",
    "sentiment (donnée déjà présente)"
   ]
  },
  {
   "cell_type": "markdown",
   "id": "e360f276",
   "metadata": {},
   "source": [
    "### 3. Analyse de base sur les données structurées"
   ]
  },
  {
   "cell_type": "code",
   "execution_count": null,
   "id": "a92fb397",
   "metadata": {},
   "outputs": [],
   "source": [
    "# Hashtags les plus utilisés\n",
    "all_hashtags = df['hashtags'].explode()\n",
    "print(\"Top hashtags :\\n\", all_hashtags.value_counts().head())\n",
    "\n",
    "# Mentions les plus fréquentes\n",
    "all_mentions = df['mentions'].explode()\n",
    "print(\"Top mentions :\\n\", all_mentions.value_counts().head())\n",
    "\n",
    "# Répartition des sentiments\n",
    "print(\"Distribution des sentiments :\\n\", df['sentiment'].value_counts())\n"
   ]
  },
  {
   "cell_type": "markdown",
   "id": "bf3ed437",
   "metadata": {},
   "source": [
    "### 4. Comparaison des insights"
   ]
  },
  {
   "cell_type": "markdown",
   "id": "d0f1d3f4",
   "metadata": {},
   "source": [
    "Données brutes : On ne peut qu’examiner le texte au cas par cas, sans vue d’ensemble rapide.\n",
    "\n",
    "Données structurées : On peut compter, trier, filtrer les hashtags, mentions, sentiments → analyse beaucoup plus efficace et quantitative."
   ]
  },
  {
   "cell_type": "markdown",
   "id": "5729e707",
   "metadata": {},
   "source": [
    "Résumé :\n",
    "L’extraction d’informations transforme les tweets de non structuré à structuré, rendant l’analyse possible et rapide (par exemple : top hashtags, influenceurs, tendances de sentiment)."
   ]
  }
 ],
 "metadata": {
  "language_info": {
   "name": "python"
  }
 },
 "nbformat": 4,
 "nbformat_minor": 5
}
