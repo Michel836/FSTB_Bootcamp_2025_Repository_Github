{
 "cells": [
  {
   "cell_type": "code",
   "execution_count": 2,
   "id": "69d7e8a9",
   "metadata": {},
   "outputs": [
    {
     "ename": "NameError",
     "evalue": "name 'df' is not defined",
     "output_type": "error",
     "traceback": [
      "\u001b[1;31m---------------------------------------------------------------------------\u001b[0m",
      "\u001b[1;31mNameError\u001b[0m                                 Traceback (most recent call last)",
      "Cell \u001b[1;32mIn[2], line 1\u001b[0m\n\u001b[1;32m----> 1\u001b[0m \u001b[43mdf\u001b[49m\u001b[38;5;241m.\u001b[39mto_excel(\u001b[38;5;124m'\u001b[39m\u001b[38;5;124mfilename.xlsx\u001b[39m\u001b[38;5;124m'\u001b[39m, sheet_name\u001b[38;5;241m=\u001b[39m\u001b[38;5;124m'\u001b[39m\u001b[38;5;124mSheet1\u001b[39m\u001b[38;5;124m'\u001b[39m)\n",
      "\u001b[1;31mNameError\u001b[0m: name 'df' is not defined"
     ]
    }
   ],
   "source": [
    "df.to_excel('filename.xlsx', sheet_name='Sheet1')"
   ]
  },
  {
   "cell_type": "code",
   "execution_count": 1,
   "id": "91001e96",
   "metadata": {},
   "outputs": [
    {
     "ename": "NameError",
     "evalue": "name 'df' is not defined",
     "output_type": "error",
     "traceback": [
      "\u001b[1;31m---------------------------------------------------------------------------\u001b[0m",
      "\u001b[1;31mNameError\u001b[0m                                 Traceback (most recent call last)",
      "Cell \u001b[1;32mIn[1], line 1\u001b[0m\n\u001b[1;32m----> 1\u001b[0m \u001b[43mdf\u001b[49m\u001b[38;5;241m.\u001b[39mto_json(\u001b[38;5;124m'\u001b[39m\u001b[38;5;124mfilename.json\u001b[39m\u001b[38;5;124m'\u001b[39m, orient\u001b[38;5;241m=\u001b[39m\u001b[38;5;124m'\u001b[39m\u001b[38;5;124msplit\u001b[39m\u001b[38;5;124m'\u001b[39m)\n",
      "\u001b[1;31mNameError\u001b[0m: name 'df' is not defined"
     ]
    }
   ],
   "source": [
    "df.to_json('filename.json', orient='split')"
   ]
  },
  {
   "cell_type": "code",
   "execution_count": 3,
   "id": "3c757e95",
   "metadata": {},
   "outputs": [
    {
     "ename": "NameError",
     "evalue": "name 'df' is not defined",
     "output_type": "error",
     "traceback": [
      "\u001b[1;31m---------------------------------------------------------------------------\u001b[0m",
      "\u001b[1;31mNameError\u001b[0m                                 Traceback (most recent call last)",
      "Cell \u001b[1;32mIn[3], line 1\u001b[0m\n\u001b[1;32m----> 1\u001b[0m \u001b[43mdf\u001b[49m\u001b[38;5;241m.\u001b[39mto_csv(\u001b[38;5;124m'\u001b[39m\u001b[38;5;124mfilename.csv\u001b[39m\u001b[38;5;124m'\u001b[39m, index\u001b[38;5;241m=\u001b[39m\u001b[38;5;28;01mFalse\u001b[39;00m)\n",
      "\u001b[1;31mNameError\u001b[0m: name 'df' is not defined"
     ]
    }
   ],
   "source": [
    "df.to_csv('filename.csv', index=False)"
   ]
  },
  {
   "cell_type": "code",
   "execution_count": 4,
   "id": "16264402",
   "metadata": {},
   "outputs": [
    {
     "ename": "NameError",
     "evalue": "name 'df' is not defined",
     "output_type": "error",
     "traceback": [
      "\u001b[1;31m---------------------------------------------------------------------------\u001b[0m",
      "\u001b[1;31mNameError\u001b[0m                                 Traceback (most recent call last)",
      "Cell \u001b[1;32mIn[4], line 1\u001b[0m\n\u001b[1;32m----> 1\u001b[0m \u001b[43mdf\u001b[49m\u001b[38;5;241m.\u001b[39mto_excel(\u001b[38;5;124m'\u001b[39m\u001b[38;5;124mfilename.xlsx\u001b[39m\u001b[38;5;124m'\u001b[39m, sheet_name\u001b[38;5;241m=\u001b[39m\u001b[38;5;124m'\u001b[39m\u001b[38;5;124mSheet1\u001b[39m\u001b[38;5;124m'\u001b[39m)\n",
      "\u001b[1;31mNameError\u001b[0m: name 'df' is not defined"
     ]
    }
   ],
   "source": [
    "df.to_excel('filename.xlsx', sheet_name='Sheet1')"
   ]
  },
  {
   "cell_type": "code",
   "execution_count": 5,
   "id": "e4e252af",
   "metadata": {},
   "outputs": [
    {
     "ename": "NameError",
     "evalue": "name 'df' is not defined",
     "output_type": "error",
     "traceback": [
      "\u001b[1;31m---------------------------------------------------------------------------\u001b[0m",
      "\u001b[1;31mNameError\u001b[0m                                 Traceback (most recent call last)",
      "Cell \u001b[1;32mIn[5], line 1\u001b[0m\n\u001b[1;32m----> 1\u001b[0m \u001b[43mdf\u001b[49m\u001b[38;5;241m.\u001b[39mto_json(\u001b[38;5;124m'\u001b[39m\u001b[38;5;124mfilename.json\u001b[39m\u001b[38;5;124m'\u001b[39m, orient\u001b[38;5;241m=\u001b[39m\u001b[38;5;124m'\u001b[39m\u001b[38;5;124msplit\u001b[39m\u001b[38;5;124m'\u001b[39m)\n",
      "\u001b[1;31mNameError\u001b[0m: name 'df' is not defined"
     ]
    }
   ],
   "source": [
    "df.to_json('filename.json', orient='split')"
   ]
  },
  {
   "cell_type": "code",
   "execution_count": 6,
   "id": "0198107a",
   "metadata": {},
   "outputs": [
    {
     "ename": "NameError",
     "evalue": "name 'df' is not defined",
     "output_type": "error",
     "traceback": [
      "\u001b[1;31m---------------------------------------------------------------------------\u001b[0m",
      "\u001b[1;31mNameError\u001b[0m                                 Traceback (most recent call last)",
      "Cell \u001b[1;32mIn[6], line 2\u001b[0m\n\u001b[0;32m      1\u001b[0m \u001b[38;5;66;03m# Exporting with different orientations\u001b[39;00m\n\u001b[1;32m----> 2\u001b[0m \u001b[43mdf\u001b[49m\u001b[38;5;241m.\u001b[39mto_json(\u001b[38;5;124m'\u001b[39m\u001b[38;5;124mfilename.json\u001b[39m\u001b[38;5;124m'\u001b[39m, orient\u001b[38;5;241m=\u001b[39m\u001b[38;5;124m'\u001b[39m\u001b[38;5;124msplit\u001b[39m\u001b[38;5;124m'\u001b[39m)\n\u001b[0;32m      3\u001b[0m df\u001b[38;5;241m.\u001b[39mto_json(\u001b[38;5;124m'\u001b[39m\u001b[38;5;124mfilename_records.json\u001b[39m\u001b[38;5;124m'\u001b[39m, orient\u001b[38;5;241m=\u001b[39m\u001b[38;5;124m'\u001b[39m\u001b[38;5;124mrecords\u001b[39m\u001b[38;5;124m'\u001b[39m)\n",
      "\u001b[1;31mNameError\u001b[0m: name 'df' is not defined"
     ]
    }
   ],
   "source": [
    "# Exporting with different orientations\n",
    "df.to_json('filename.json', orient='split')\n",
    "df.to_json('filename_records.json', orient='records')"
   ]
  },
  {
   "cell_type": "markdown",
   "id": "896c45d1",
   "metadata": {},
   "source": [
    "Déf# i : Techniques d'exportation de données\n",
    "1. Exporter au format CSV :\n",
    "\n",
    "## Créez un DataFrame avec trois colonnes quelconques.\n",
    "Exportez-le vers un fichier CSV nommé simple_export.csv, en vous assurant que l'index n'est pas inclus.\n",
    "2. Exportation JSON :\n",
    "\n",
    "## Utilisez le même DataFrame.\n",
    "Exportez-le vers un fichier JSON nommé simple_export.jsonen utilisant les paramètres par défaut.\n",
    "3. Création de fichier Excel :\n",
    "\n",
    "Exporter le DataFrame vers un fichier Excel simple_export.xlsx."
   ]
  },
  {
   "cell_type": "code",
   "execution_count": 24,
   "id": "d73322ea",
   "metadata": {},
   "outputs": [],
   "source": [
    "import pandas as pd"
   ]
  },
  {
   "cell_type": "code",
   "execution_count": 25,
   "id": "53b875ac",
   "metadata": {},
   "outputs": [],
   "source": [
    "# Création du DataFrame\n",
    "df = pd.DataFrame({\n",
    "    'Nom': ['Alice', 'Bob', 'Charlie'],\n",
    "    'Âge': [25, 30, 35],\n",
    "    'Ville': ['Paris', 'Lyon', 'Marseille']\n",
    "})"
   ]
  },
  {
   "cell_type": "code",
   "execution_count": 26,
   "id": "672893d4",
   "metadata": {},
   "outputs": [],
   "source": [
    "# Exportation au format CSV (sans index)\n",
    "df.to_csv('simple_export.csv', index=False)"
   ]
  },
  {
   "cell_type": "code",
   "execution_count": 27,
   "id": "0b6db5b4",
   "metadata": {},
   "outputs": [],
   "source": [
    "# Exportation au format JSON (paramètres par défaut)\n",
    "df.to_json('simple_export.json')"
   ]
  },
  {
   "cell_type": "code",
   "execution_count": 32,
   "id": "436101cb",
   "metadata": {},
   "outputs": [],
   "source": [
    "import sys\n",
    "sys.path.append(r'C:\\Users\\chume\\Documents\\GitHub\\FSTB_Bootcamp_2025_Repository_Github\\FSTB_Bootcamp_2025_Repository_Github\\env\\Lib\\site-packages')\n",
    "\n",
    "import pandas as pd\n"
   ]
  },
  {
   "cell_type": "code",
   "execution_count": 33,
   "id": "786026e7",
   "metadata": {},
   "outputs": [],
   "source": [
    "df = pd.DataFrame({\n",
    "    'Nom': ['Alice', 'Bob', 'Charlie'],\n",
    "    'Âge': [25, 30, 35],\n",
    "    'Ville': ['Paris', 'Lyon', 'Marseille']\n",
    "})\n",
    "\n",
    "df.to_excel('simple_export.xlsx', index=False)\n"
   ]
  },
  {
   "cell_type": "markdown",
   "id": "293a614c",
   "metadata": {},
   "source": []
  },
  {
   "cell_type": "code",
   "execution_count": 40,
   "id": "0620aebb",
   "metadata": {},
   "outputs": [],
   "source": [
    " import pandas as pd\n",
    "\n",
    "# Create a DataFrame\n",
    "df = pd.DataFrame({\n",
    "    'Column1': [1, 2, 3, 4, 5],\n",
    "    'Column2': ['A', 'B', 'C', 'D', 'E'],\n",
    "    'Column3': [True, False, True, False, True]\n",
    "})\n",
    "\n",
    "# Export to CSV\n",
    "df.to_csv('my_dataframe.csv', index=False)\n",
    "\n",
    "# Export to JSON\n",
    "df.to_json('my_dataframe.json')"
   ]
  },
  {
   "cell_type": "markdown",
   "id": "cde9abb8",
   "metadata": {},
   "source": [
    "# 🚀 Challenge: Creating a Synthetic Sales Dataset"
   ]
  },
  {
   "cell_type": "markdown",
   "id": "3e90ecff",
   "metadata": {},
   "source": [
    "Objective: Your task is to generate a synthetic dataset that represents sales data for a retail store. This exercise will test your skills in applying statistical methods and using Python libraries to create data that mimics real-world scenarios."
   ]
  },
  {
   "cell_type": "code",
   "execution_count": 51,
   "id": "0fdc107d",
   "metadata": {},
   "outputs": [],
   "source": [
    "import numpy as np\n",
    "import pandas as pd\n",
    "from datetime import datetime, timedelta\n",
    "import random"
   ]
  },
  {
   "cell_type": "code",
   "execution_count": 52,
   "id": "18eb8aee",
   "metadata": {},
   "outputs": [],
   "source": [
    "# Paramètres\n",
    "n = 500\n",
    "produits = ['Chaussures', 'T-shirt', 'Jeans', 'Sac', 'Montre', 'Casquette', 'Sweat', 'Lunettes']"
   ]
  },
  {
   "cell_type": "code",
   "execution_count": 53,
   "id": "f7ce6bfb",
   "metadata": {},
   "outputs": [],
   "source": [
    "# Génération manuelle des données\n",
    "product_names = [random.choice(produits) for _ in range(n)]\n",
    "sale_amounts = np.random.randint(10, 500, size=n)\n",
    "sale_dates = [datetime.today() - timedelta(days=random.randint(0, 365)) for _ in range(n)]\n",
    "customer_ages = np.clip(np.random.normal(loc=35, scale=10, size=n).astype(int), 18, 75)\n"
   ]
  },
  {
   "cell_type": "code",
   "execution_count": 54,
   "id": "6b70fffe",
   "metadata": {},
   "outputs": [],
   "source": [
    "# Création du DataFrame\n",
    "df = pd.DataFrame({\n",
    "    'Product': product_names,\n",
    "    'Sale Amount': sale_amounts,\n",
    "    'Date of Sale': sale_dates,\n",
    "    'Customer Age': customer_ages\n",
    "})"
   ]
  },
  {
   "cell_type": "code",
   "execution_count": 55,
   "id": "cd737aca",
   "metadata": {},
   "outputs": [
    {
     "name": "stdout",
     "output_type": "stream",
     "text": [
      "   Product  Sale Amount               Date of Sale  Customer Age\n",
      "0      Sac          433 2024-12-22 11:59:59.460845            18\n",
      "1    Jeans          123 2025-01-28 11:59:59.460845            33\n",
      "2    Jeans          478 2024-08-05 11:59:59.460845            30\n",
      "3    Sweat          140 2024-07-31 11:59:59.460845            48\n",
      "4  T-shirt          187 2024-08-19 11:59:59.460845            34\n"
     ]
    }
   ],
   "source": [
    "print(df.head())"
   ]
  },
  {
   "cell_type": "markdown",
   "id": "1961cab4",
   "metadata": {},
   "source": [
    "# Exercice : création d'un ensemble de données\n",
    "Objectif : Créer un ensemble de données synthétiques qui pourrait être utilisé pour un modèle de prédiction des ventes au détail."
   ]
  },
  {
   "cell_type": "markdown",
   "id": "a03bd86b",
   "metadata": {},
   "source": [
    "## Mesures:\n",
    "\n",
    "\n",
    "1. Concevoir le schéma du jeu de données :\n",
    "\n",
    "Décidez des colonnes et des types de données (par exemple, catégories de produits, chiffres de vente, données démographiques des clients)."
   ]
  },
  {
   "cell_type": "markdown",
   "id": "61187d07",
   "metadata": {},
   "source": [
    "| Colonne           | Type     | Description               |\n",
    "| ----------------- | -------- | ------------------------- |\n",
    "| Product\\_Category | string   | Catégorie du produit      |\n",
    "| Sale\\_Amount      | float    | Montant de la vente (€)   |\n",
    "| Sale\\_Date        | datetime | Date de la vente          |\n",
    "| Customer\\_Age     | int      | Âge du client             |\n",
    "| Customer\\_Gender  | string   | Sexe du client ('M', 'F') |\n",
    "| Region            | string   | Région de vente           |\n"
   ]
  },
  {
   "cell_type": "markdown",
   "id": "bd46a4e2",
   "metadata": {},
   "source": [
    "## 2. Générer des données synthétiques :\n",
    "\n",
    "Utilisez la bibliothèque Python fakerpour créer des données clients réalistes.\n",
    "Simulez les chiffres de vente en fonction des modèles de vente au détail courants."
   ]
  },
  {
   "cell_type": "code",
   "execution_count": 57,
   "id": "e1f6e397",
   "metadata": {},
   "outputs": [
    {
     "name": "stdout",
     "output_type": "stream",
     "text": [
      "  Product_Category  Sale_Amount                  Sale_Date  Customer_Age  \\\n",
      "0           Beauté        29.92 2025-06-15 12:09:17.234887            25   \n",
      "1        Vêtements        52.21 2025-04-07 12:09:17.234887            41   \n",
      "2           Jouets        32.24 2025-03-01 12:09:17.234887            45   \n",
      "3           Jouets        18.14 2024-08-15 12:09:17.234887            33   \n",
      "4           Maison       146.62 2024-09-10 12:09:17.234887            30   \n",
      "\n",
      "  Customer_Gender Region  \n",
      "0               M   Nord  \n",
      "1               M    Sud  \n",
      "2               M  Ouest  \n",
      "3               F    Est  \n",
      "4               M  Ouest  \n"
     ]
    }
   ],
   "source": [
    "import pandas as pd\n",
    "import numpy as np\n",
    "import random\n",
    "from datetime import datetime, timedelta\n",
    "\n",
    "# Paramètres\n",
    "n = 1000\n",
    "categories = ['Électronique', 'Vêtements', 'Maison', 'Jouets', 'Beauté']\n",
    "regions = ['Nord', 'Sud', 'Est', 'Ouest']\n",
    "genders = ['M', 'F']\n",
    "\n",
    "# Fonctions auxiliaires\n",
    "def random_date():\n",
    "    today = datetime.today()\n",
    "    delta = timedelta(days=random.randint(0, 365))\n",
    "    return today - delta\n",
    "\n",
    "def seasonal_multiplier(month):\n",
    "    # Effet saisonnier simple\n",
    "    if month in [11, 12]:  # fêtes\n",
    "        return np.random.uniform(1.2, 1.8)\n",
    "    elif month in [6, 7, 8]:  # été calme\n",
    "        return np.random.uniform(0.7, 1.0)\n",
    "    else:\n",
    "        return np.random.uniform(0.9, 1.2)\n",
    "\n",
    "# Génération des données\n",
    "data = []\n",
    "for _ in range(n):\n",
    "    category = random.choice(categories)\n",
    "    region = random.choice(regions)\n",
    "    gender = random.choice(genders)\n",
    "    age = np.clip(int(np.random.normal(35, 12)), 18, 75)\n",
    "    date = random_date()\n",
    "    base_price = {\n",
    "        'Électronique': 200,\n",
    "        'Vêtements': 50,\n",
    "        'Maison': 120,\n",
    "        'Jouets': 30,\n",
    "        'Beauté': 40\n",
    "    }[category]\n",
    "    amount = round(base_price * seasonal_multiplier(date.month) * np.random.uniform(0.8, 1.2), 2)\n",
    "    \n",
    "    data.append([category, amount, date, age, gender, region])\n",
    "\n",
    "# DataFrame\n",
    "df = pd.DataFrame(data, columns=[\n",
    "    'Product_Category', 'Sale_Amount', 'Sale_Date', 'Customer_Age', 'Customer_Gender', 'Region'\n",
    "])\n",
    "\n",
    "print(df.head())\n"
   ]
  },
  {
   "cell_type": "code",
   "execution_count": 60,
   "id": "ba52b701",
   "metadata": {},
   "outputs": [
    {
     "data": {
      "image/png": "[encoded data removed]",
      "text/plain": [
       "<Figure size 1600x1000 with 4 Axes>"
      ]
     },
     "metadata": {},
     "output_type": "display_data"
    }
   ],
   "source": [
    "import pandas as pd\n",
    "import numpy as np\n",
    "import random\n",
    "from datetime import datetime, timedelta\n",
    "import matplotlib.pyplot as plt\n",
    "\n",
    "# Paramètres\n",
    "n = 1000\n",
    "categories = ['Électronique', 'Vêtements', 'Maison', 'Jouets', 'Beauté']\n",
    "regions = ['Nord', 'Sud', 'Est', 'Ouest']\n",
    "genders = ['M', 'F']\n",
    "\n",
    "# Fonctions utilitaires\n",
    "def random_date():\n",
    "    today = datetime.today()\n",
    "    delta = timedelta(days=random.randint(0, 365))\n",
    "    return today - delta\n",
    "\n",
    "def seasonal_multiplier(month):\n",
    "    if month in [11, 12]:\n",
    "        return np.random.uniform(1.2, 1.8)\n",
    "    elif month in [6, 7, 8]:\n",
    "        return np.random.uniform(0.7, 1.0)\n",
    "    else:\n",
    "        return np.random.uniform(0.9, 1.2)\n",
    "\n",
    "# Génération des données\n",
    "data = []\n",
    "for _ in range(n):\n",
    "    category = random.choice(categories)\n",
    "    region = random.choice(regions)\n",
    "    gender = random.choice(genders)\n",
    "    age = np.clip(int(np.random.normal(35, 12)), 18, 75)\n",
    "    date = random_date()\n",
    "    base_price = {\n",
    "        'Électronique': 200,\n",
    "        'Vêtements': 50,\n",
    "        'Maison': 120,\n",
    "        'Jouets': 30,\n",
    "        'Beauté': 40\n",
    "    }[category]\n",
    "    amount = round(base_price * seasonal_multiplier(date.month) * np.random.uniform(0.8, 1.2), 2)\n",
    "    \n",
    "    data.append([category, amount, date, age, gender, region])\n",
    "\n",
    "# Création du DataFrame\n",
    "df = pd.DataFrame(data, columns=[\n",
    "    'Product_Category', 'Sale_Amount', 'Sale_Date', 'Customer_Age', 'Customer_Gender', 'Region'\n",
    "])\n",
    "\n",
    "# Ajout de la colonne mois\n",
    "df['Sale_Month'] = df['Sale_Date'].dt.month\n",
    "\n",
    "# Affichage des distributions\n",
    "plt.figure(figsize=(16, 10))\n",
    "\n",
    "plt.subplot(2, 2, 1)\n",
    "plt.hist(df['Sale_Amount'], bins=30, edgecolor='black')\n",
    "plt.title('Distribution du montant des ventes (€)')\n",
    "plt.xlabel('Montant')\n",
    "plt.ylabel('Fréquence')\n",
    "\n",
    "plt.subplot(2, 2, 2)\n",
    "plt.hist(df['Customer_Age'], bins=20, edgecolor='black')\n",
    "plt.title(\"Distribution de l'âge des clients\")\n",
    "plt.xlabel('Âge')\n",
    "plt.ylabel('Fréquence')\n",
    "\n",
    "plt.subplot(2, 2, 3)\n",
    "df['Product_Category'].value_counts().plot(kind='bar')\n",
    "plt.title(\"Répartition par catégorie de produit\")\n",
    "plt.xlabel('Catégorie')\n",
    "plt.ylabel('Nombre de ventes')\n",
    "\n",
    "plt.subplot(2, 2, 4)\n",
    "df['Sale_Month'].value_counts().sort_index().plot(kind='bar')\n",
    "plt.title(\"Répartition des ventes par mois\")\n",
    "plt.xlabel('Mois')\n",
    "plt.ylabel('Nombre de ventes')\n",
    "\n",
    "plt.tight_layout()\n",
    "plt.show()\n"
   ]
  },
  {
   "cell_type": "markdown",
   "id": "e9e675b5",
   "metadata": {},
   "source": [
    "## 3. Augmentation des données :\n",
    "\n",
    "Introduire la variabilité, par exemple les changements saisonniers dans les ventes."
   ]
  },
  {
   "cell_type": "code",
   "execution_count": 59,
   "id": "12714ac9",
   "metadata": {},
   "outputs": [],
   "source": [
    "def seasonal_multiplier(month):\n",
    "    if month in [11, 12]:  # fêtes de fin d’année\n",
    "        return np.random.uniform(1.2, 1.8)  # +20% à +80%\n",
    "    elif month in [6, 7, 8]:  # été\n",
    "        return np.random.uniform(0.7, 1.0)  # -30% à stable\n",
    "    else:\n",
    "        return np.random.uniform(0.9, 1.2)  # ±10%\n"
   ]
  },
  {
   "cell_type": "markdown",
   "id": "e8152d96",
   "metadata": {},
   "source": [
    "L’objectif est de rendre les données plus réalistes en modélisant l’impact des saisons sur les ventes. Par exemple :\n",
    "\n",
    "En novembre/décembre (période des fêtes), les ventes augmentent.\n",
    "\n",
    "En été (juin à août), les ventes baissent selon les secteurs.\n",
    "\n",
    "Les autres mois sont considérés comme “normaux”.\n"
   ]
  },
  {
   "cell_type": "markdown",
   "id": "2c268072",
   "metadata": {},
   "source": [
    "## 4. Révision et perfectionnement :\n",
    "\n",
    "Inspectez l’ensemble de données pour vérifier sa qualité et son réalisme.\n",
    "Effectuer les ajustements nécessaires."
   ]
  },
  {
   "cell_type": "code",
   "execution_count": 58,
   "id": "c04882a5",
   "metadata": {},
   "outputs": [
    {
     "name": "stdout",
     "output_type": "stream",
     "text": [
      "       Product_Category  Sale_Amount                      Sale_Date  \\\n",
      "count              1000  1000.000000                           1000   \n",
      "unique                5          NaN                            NaN   \n",
      "top              Maison          NaN                            NaN   \n",
      "freq                223          NaN                            NaN   \n",
      "mean                NaN    96.214710  2024-12-17 12:00:38.842575104   \n",
      "min                 NaN    17.100000     2024-06-17 12:09:17.234887   \n",
      "25%                 NaN    38.335000  2024-09-07 06:09:17.242011136   \n",
      "50%                 NaN    58.695000  2024-12-20 12:09:17.239738880   \n",
      "75%                 NaN   143.945000  2025-03-26 12:09:17.246137856   \n",
      "max                 NaN   423.280000     2025-06-17 12:09:17.240278   \n",
      "std                 NaN    73.970813                            NaN   \n",
      "\n",
      "        Customer_Age Customer_Gender Region  \n",
      "count      1000.0000            1000   1000  \n",
      "unique           NaN               2      4  \n",
      "top              NaN               F    Est  \n",
      "freq             NaN             502    267  \n",
      "mean         35.3280             NaN    NaN  \n",
      "min          18.0000             NaN    NaN  \n",
      "25%          26.7500             NaN    NaN  \n",
      "50%          35.0000             NaN    NaN  \n",
      "75%          43.0000             NaN    NaN  \n",
      "max          75.0000             NaN    NaN  \n",
      "std          11.1501             NaN    NaN  \n",
      "2024-06-17 12:09:17.234887 2025-06-17 12:09:17.240278\n"
     ]
    }
   ],
   "source": [
    "print(df.describe(include='all'))\n",
    "print(df['Sale_Date'].min(), df['Sale_Date'].max())\n"
   ]
  }
 ],
 "metadata": {
  "kernelspec": {
   "display_name": "base",
   "language": "python",
   "name": "python3"
  },
  "language_info": {
   "codemirror_mode": {
    "name": "ipython",
    "version": 3
   },
   "file_extension": ".py",
   "mimetype": "text/x-python",
   "name": "python",
   "nbconvert_exporter": "python",
   "pygments_lexer": "ipython3",
   "version": "3.12.8"
  }
 },
 "nbformat": 4,
 "nbformat_minor": 5
}
