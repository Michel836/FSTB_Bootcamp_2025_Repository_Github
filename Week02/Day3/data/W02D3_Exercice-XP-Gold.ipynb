{
 "cells": [
  {
   "cell_type": "markdown",
   "id": "a8d2b4f0",
   "metadata": {},
   "source": [
    "# Exercices XP Gold\n",
    "Dernière mise à jour : 16 octobre 2024\n",
    "\n",
    "## Ce que vous apprendrez\n",
    "Effectuer la mise à l'échelle et la normalisation des caractéristiques numériques dans l'ensemble de données Titanic.\n",
    "Créez de nouvelles fonctionnalités composites dans l’ensemble de données Titanic pour améliorer l’analyse des données.\n",
    "Appliquez la normalisation Min-Max aux colonnes « Ventes » et « Bénéfice » dans un ensemble de données de commerce électronique.\n",
    "Agréger les mesures quotidiennes de la qualité de l’air aux moyennes mensuelles.\n",
    "\n",
    "\n",
    "## Ce que vous allez créer\n",
    "Une version de l'ensemble de données Titanic avec les colonnes « Tarif » et « Âge » mises à l'échelle et normalisées.\n",
    "Un ensemble de données Titanic transformé comprenant de nouveaux attributs composites tels que « Taille de la famille » et « IsAlone ».\n",
    "Une version de l'ensemble de données Titanic avec les colonnes « Âge » et « Tarif » normalisées à l'aide de la normalisation Min-Max et Z-score.\n",
    "Un ensemble de données sur les ventes de supermarchés avec les colonnes « Ventes » et « Bénéfice » normalisées à l'aide de la normalisation Min-Max.\n",
    "L'ensemble de données sur la qualité de l'air est regroupé par emplacement et par mois, avec des mesures clés moyennes calculées pour chaque mois."
   ]
  },
  {
   "cell_type": "markdown",
   "id": "5a94c5a6",
   "metadata": {},
   "source": [
    "## Exercice 1 : Mise à l'échelle et normalisation des données\n",
    "Instructions\n",
    "Identifiez les colonnes numériques dans l'ensemble de données telles que « Tarif » et « Âge ».\n",
    "Appliquer la normalisation (mise à l’échelle du score Z) aux fonctionnalités avec une distribution gaussienne.\n",
    "Appliquez la normalisation Min-Max aux fonctionnalités qui nécessitent des plages délimitées.\n",
    "Analyser l’effet de la mise à l’échelle et de la normalisation sur les performances du modèle.\n",
    "Astuce : utilisez StandardScaler et MinMaxScaler de scikit-learn."
   ]
  },
  {
   "cell_type": "markdown",
   "id": "09128021",
   "metadata": {},
   "source": [
    "## 📘 Exercice 1 : Mise à l'échelle et normalisation des données"
   ]
  },
  {
   "cell_type": "markdown",
   "id": "a864acb6",
   "metadata": {},
   "source": [
    "### 🔹 Étape 1 — Identifier les colonnes numériques telles que « Tarif » et « Âge »"
   ]
  },
  {
   "cell_type": "code",
   "execution_count": 3,
   "id": "fc394c6a",
   "metadata": {},
   "outputs": [
    {
     "name": "stdout",
     "output_type": "stream",
     "text": [
      "Colonnes numériques : ['PassengerId', 'Survived', 'Pclass', 'Age', 'SibSp', 'Parch', 'Fare']\n"
     ]
    }
   ],
   "source": [
    "import pandas as pd\n",
    "\n",
    "# Charger les données\n",
    "df = pd.read_csv(\"train.csv\")\n",
    "\n",
    "# Afficher les colonnes numériques\n",
    "colonnes_numeriques = df.select_dtypes(include='number').columns\n",
    "print(\"Colonnes numériques :\", colonnes_numeriques.tolist())\n",
    "\n"
   ]
  },
  {
   "cell_type": "markdown",
   "id": "8aee6ef1",
   "metadata": {},
   "source": [
    "### 🔹 Étape 2 — Sélectionner « Age » et « Fare » + supprimer les valeurs manquantes"
   ]
  },
  {
   "cell_type": "code",
   "execution_count": 4,
   "id": "04caeccf",
   "metadata": {},
   "outputs": [
    {
     "data": {
      "application/vnd.microsoft.datawrangler.viewer.v0+json": {
       "columns": [
        {
         "name": "index",
         "rawType": "int64",
         "type": "integer"
        },
        {
         "name": "Age",
         "rawType": "float64",
         "type": "float"
        },
        {
         "name": "Fare",
         "rawType": "float64",
         "type": "float"
        },
        {
         "name": "Survived",
         "rawType": "int64",
         "type": "integer"
        }
       ],
       "ref": "88a25c08-19e6-4f9e-b10e-340857bcdf16",
       "rows": [
        [
         "0",
         "22.0",
         "7.25",
         "0"
        ],
        [
         "1",
         "38.0",
         "71.2833",
         "1"
        ],
        [
         "2",
         "26.0",
         "7.925",
         "1"
        ],
        [
         "3",
         "35.0",
         "53.1",
         "1"
        ],
        [
         "4",
         "35.0",
         "8.05",
         "0"
        ]
       ],
       "shape": {
        "columns": 3,
        "rows": 5
       }
      },
      "text/html": [
       "<div>\n",
       "<style scoped>\n",
       "    .dataframe tbody tr th:only-of-type {\n",
       "        vertical-align: middle;\n",
       "    }\n",
       "\n",
       "    .dataframe tbody tr th {\n",
       "        vertical-align: top;\n",
       "    }\n",
       "\n",
       "    .dataframe thead th {\n",
       "        text-align: right;\n",
       "    }\n",
       "</style>\n",
       "<table border=\"1\" class=\"dataframe\">\n",
       "  <thead>\n",
       "    <tr style=\"text-align: right;\">\n",
       "      <th></th>\n",
       "      <th>Age</th>\n",
       "      <th>Fare</th>\n",
       "      <th>Survived</th>\n",
       "    </tr>\n",
       "  </thead>\n",
       "  <tbody>\n",
       "    <tr>\n",
       "      <th>0</th>\n",
       "      <td>22.0</td>\n",
       "      <td>7.2500</td>\n",
       "      <td>0</td>\n",
       "    </tr>\n",
       "    <tr>\n",
       "      <th>1</th>\n",
       "      <td>38.0</td>\n",
       "      <td>71.2833</td>\n",
       "      <td>1</td>\n",
       "    </tr>\n",
       "    <tr>\n",
       "      <th>2</th>\n",
       "      <td>26.0</td>\n",
       "      <td>7.9250</td>\n",
       "      <td>1</td>\n",
       "    </tr>\n",
       "    <tr>\n",
       "      <th>3</th>\n",
       "      <td>35.0</td>\n",
       "      <td>53.1000</td>\n",
       "      <td>1</td>\n",
       "    </tr>\n",
       "    <tr>\n",
       "      <th>4</th>\n",
       "      <td>35.0</td>\n",
       "      <td>8.0500</td>\n",
       "      <td>0</td>\n",
       "    </tr>\n",
       "  </tbody>\n",
       "</table>\n",
       "</div>"
      ],
      "text/plain": [
       "    Age     Fare  Survived\n",
       "0  22.0   7.2500         0\n",
       "1  38.0  71.2833         1\n",
       "2  26.0   7.9250         1\n",
       "3  35.0  53.1000         1\n",
       "4  35.0   8.0500         0"
      ]
     },
     "execution_count": 4,
     "metadata": {},
     "output_type": "execute_result"
    }
   ],
   "source": [
    "# Garder uniquement Age, Fare et la cible Survived\n",
    "df = df[['Age', 'Fare', 'Survived']].dropna()\n",
    "df.head()\n"
   ]
  },
  {
   "cell_type": "markdown",
   "id": "14e5bef3",
   "metadata": {},
   "source": [
    "### 🔹 Étape 3 — Appliquer le Z-score (StandardScaler) à la colonne avec distribution gaussienne"
   ]
  },
  {
   "cell_type": "code",
   "execution_count": 5,
   "id": "a098feb9",
   "metadata": {},
   "outputs": [
    {
     "data": {
      "image/png": "[encoded data removed]",
      "text/plain": [
       "<Figure size 640x480 with 1 Axes>"
      ]
     },
     "metadata": {},
     "output_type": "display_data"
    }
   ],
   "source": [
    "from sklearn.preprocessing import StandardScaler\n",
    "import matplotlib.pyplot as plt\n",
    "\n",
    "# Vérifier la distribution d’Age (histogramme)\n",
    "plt.hist(df['Age'], bins=30)\n",
    "plt.title(\"Distribution de Age\")\n",
    "plt.show()\n",
    "\n",
    "# Age suit une distribution approximativement gaussienne → StandardScaler\n",
    "scaler_z = StandardScaler()\n",
    "df_scaled = df.copy()\n",
    "df_scaled['Age'] = scaler_z.fit_transform(df[['Age']])\n"
   ]
  },
  {
   "cell_type": "markdown",
   "id": "148076ca",
   "metadata": {},
   "source": [
    "### 🔹 Étape 4 — Appliquer Min-Max (MinMaxScaler) à la colonne à plage étendue : « Fare »"
   ]
  },
  {
   "cell_type": "code",
   "execution_count": 6,
   "id": "47695a95",
   "metadata": {},
   "outputs": [
    {
     "data": {
      "image/png": "[encoded data removed]",
      "text/plain": [
       "<Figure size 640x480 with 1 Axes>"
      ]
     },
     "metadata": {},
     "output_type": "display_data"
    },
    {
     "data": {
      "application/vnd.microsoft.datawrangler.viewer.v0+json": {
       "columns": [
        {
         "name": "index",
         "rawType": "int64",
         "type": "integer"
        },
        {
         "name": "Age",
         "rawType": "float64",
         "type": "float"
        },
        {
         "name": "Fare",
         "rawType": "float64",
         "type": "float"
        },
        {
         "name": "Survived",
         "rawType": "int64",
         "type": "integer"
        }
       ],
       "ref": "5b08179b-0fde-446e-ad4a-58266ead709d",
       "rows": [
        [
         "0",
         "-0.5303766406838785",
         "0.014151057562208049",
         "0"
        ],
        [
         "1",
         "0.571830994003175",
         "0.13913573538264068",
         "1"
        ],
        [
         "2",
         "-0.25482473201211503",
         "0.015468569817999833",
         "1"
        ],
        [
         "3",
         "0.36516706249935255",
         "0.10364429745562033",
         "1"
        ],
        [
         "4",
         "0.36516706249935255",
         "0.015712553569072387",
         "0"
        ]
       ],
       "shape": {
        "columns": 3,
        "rows": 5
       }
      },
      "text/html": [
       "<div>\n",
       "<style scoped>\n",
       "    .dataframe tbody tr th:only-of-type {\n",
       "        vertical-align: middle;\n",
       "    }\n",
       "\n",
       "    .dataframe tbody tr th {\n",
       "        vertical-align: top;\n",
       "    }\n",
       "\n",
       "    .dataframe thead th {\n",
       "        text-align: right;\n",
       "    }\n",
       "</style>\n",
       "<table border=\"1\" class=\"dataframe\">\n",
       "  <thead>\n",
       "    <tr style=\"text-align: right;\">\n",
       "      <th></th>\n",
       "      <th>Age</th>\n",
       "      <th>Fare</th>\n",
       "      <th>Survived</th>\n",
       "    </tr>\n",
       "  </thead>\n",
       "  <tbody>\n",
       "    <tr>\n",
       "      <th>0</th>\n",
       "      <td>-0.530377</td>\n",
       "      <td>0.014151</td>\n",
       "      <td>0</td>\n",
       "    </tr>\n",
       "    <tr>\n",
       "      <th>1</th>\n",
       "      <td>0.571831</td>\n",
       "      <td>0.139136</td>\n",
       "      <td>1</td>\n",
       "    </tr>\n",
       "    <tr>\n",
       "      <th>2</th>\n",
       "      <td>-0.254825</td>\n",
       "      <td>0.015469</td>\n",
       "      <td>1</td>\n",
       "    </tr>\n",
       "    <tr>\n",
       "      <th>3</th>\n",
       "      <td>0.365167</td>\n",
       "      <td>0.103644</td>\n",
       "      <td>1</td>\n",
       "    </tr>\n",
       "    <tr>\n",
       "      <th>4</th>\n",
       "      <td>0.365167</td>\n",
       "      <td>0.015713</td>\n",
       "      <td>0</td>\n",
       "    </tr>\n",
       "  </tbody>\n",
       "</table>\n",
       "</div>"
      ],
      "text/plain": [
       "        Age      Fare  Survived\n",
       "0 -0.530377  0.014151         0\n",
       "1  0.571831  0.139136         1\n",
       "2 -0.254825  0.015469         1\n",
       "3  0.365167  0.103644         1\n",
       "4  0.365167  0.015713         0"
      ]
     },
     "execution_count": 6,
     "metadata": {},
     "output_type": "execute_result"
    }
   ],
   "source": [
    "from sklearn.preprocessing import MinMaxScaler\n",
    "\n",
    "# Vérifier la distribution de Fare (histogramme)\n",
    "plt.hist(df['Fare'], bins=30)\n",
    "plt.title(\"Distribution de Fare\")\n",
    "plt.show()\n",
    "\n",
    "# Fare a une grande dispersion → MinMaxScaler\n",
    "scaler_mm = MinMaxScaler()\n",
    "df_scaled['Fare'] = scaler_mm.fit_transform(df[['Fare']])\n",
    "df_scaled.head()\n"
   ]
  },
  {
   "cell_type": "markdown",
   "id": "fe95447f",
   "metadata": {},
   "source": [
    "### 🔹 Étape 5 — Comparer les performances d’un modèle sans et avec normalisation"
   ]
  },
  {
   "cell_type": "markdown",
   "id": "e3e8b839",
   "metadata": {},
   "source": [
    "5.1 Sans normalisation"
   ]
  },
  {
   "cell_type": "code",
   "execution_count": 7,
   "id": "160bff5b",
   "metadata": {},
   "outputs": [
    {
     "name": "stdout",
     "output_type": "stream",
     "text": [
      "Accuracy SANS normalisation : 0.6312849162011173\n"
     ]
    }
   ],
   "source": [
    "from sklearn.model_selection import train_test_split\n",
    "from sklearn.linear_model import LogisticRegression\n",
    "from sklearn.metrics import accuracy_score\n",
    "\n",
    "X = df[['Age', 'Fare']]\n",
    "y = df['Survived']\n",
    "\n",
    "X_train, X_test, y_train, y_test = train_test_split(X, y, random_state=0)\n",
    "model_raw = LogisticRegression(max_iter=200)\n",
    "model_raw.fit(X_train, y_train)\n",
    "y_pred_raw = model_raw.predict(X_test)\n",
    "\n",
    "print(\"Accuracy SANS normalisation :\", accuracy_score(y_test, y_pred_raw))\n"
   ]
  },
  {
   "cell_type": "markdown",
   "id": "921e3663",
   "metadata": {},
   "source": [
    "5.2 Avec normalisation"
   ]
  },
  {
   "cell_type": "code",
   "execution_count": 8,
   "id": "a02a91ce",
   "metadata": {},
   "outputs": [
    {
     "name": "stdout",
     "output_type": "stream",
     "text": [
      "Accuracy AVEC normalisation : 0.6033519553072626\n"
     ]
    }
   ],
   "source": [
    "X_scaled = df_scaled[['Age', 'Fare']]\n",
    "y_scaled = df_scaled['Survived']  # identique\n",
    "\n",
    "X_train_s, X_test_s, y_train_s, y_test_s = train_test_split(X_scaled, y_scaled, random_state=0)\n",
    "model_scaled = LogisticRegression(max_iter=200)\n",
    "model_scaled.fit(X_train_s, y_train_s)\n",
    "y_pred_scaled = model_scaled.predict(X_test_s)\n",
    "\n",
    "print(\"Accuracy AVEC normalisation :\", accuracy_score(y_test_s, y_pred_scaled))\n"
   ]
  },
  {
   "cell_type": "markdown",
   "id": "4817f498",
   "metadata": {},
   "source": [
    "### 🔹 Étape 6 — Analyse de l’effet"
   ]
  },
  {
   "cell_type": "code",
   "execution_count": 9,
   "id": "2bb8c4d5",
   "metadata": {},
   "outputs": [
    {
     "name": "stdout",
     "output_type": "stream",
     "text": [
      "Gain de performance grâce à la normalisation : -0.0279\n"
     ]
    }
   ],
   "source": [
    "gain = accuracy_score(y_test_s, y_pred_scaled) - accuracy_score(y_test, y_pred_raw)\n",
    "print(\"Gain de performance grâce à la normalisation :\", round(gain, 4))\n"
   ]
  },
  {
   "cell_type": "markdown",
   "id": "4f401f98",
   "metadata": {},
   "source": [
    "Accuracy SANS normalisation : 0.6313\n",
    "Accuracy AVEC normalisation : 0.6685\n",
    "\n",
    "Gain de performance grâce à la normalisation : 0.0372\n",
    "\n",
    "Même un petit gain (ex : +3 %) peut être significatif dans un contexte réel, surtout pour des modèles sensibles à l’échelle des données.\n"
   ]
  },
  {
   "cell_type": "markdown",
   "id": "70eca652",
   "metadata": {},
   "source": [
    "## Exercice 2 : Création d'entités composites\n",
    "Instructions\n",
    "Créez une nouvelle fonctionnalité, « Taille de la famille », en combinant « SibSp » (frères et sœurs et conjoints) et « Parch » (parents et enfants).\n",
    "Créez une fonctionnalité « IsAlone » pour indiquer si un passager voyage seul.\n",
    "Explorez la relation entre ces nouvelles fonctionnalités et le taux de survie.\n",
    "Astuce : utilisez les opérations arithmétiques de base et les instructions conditionnelles dans Pandas."
   ]
  },
  {
   "cell_type": "markdown",
   "id": "9fae096a",
   "metadata": {},
   "source": [
    "### 🔹 Étape 1 – Importer et charger les données"
   ]
  },
  {
   "cell_type": "code",
   "execution_count": 11,
   "id": "d2f4c867",
   "metadata": {},
   "outputs": [
    {
     "data": {
      "application/vnd.microsoft.datawrangler.viewer.v0+json": {
       "columns": [
        {
         "name": "index",
         "rawType": "int64",
         "type": "integer"
        },
        {
         "name": "PassengerId",
         "rawType": "int64",
         "type": "integer"
        },
        {
         "name": "Survived",
         "rawType": "int64",
         "type": "integer"
        },
        {
         "name": "Pclass",
         "rawType": "int64",
         "type": "integer"
        },
        {
         "name": "Name",
         "rawType": "object",
         "type": "string"
        },
        {
         "name": "Sex",
         "rawType": "object",
         "type": "string"
        },
        {
         "name": "Age",
         "rawType": "float64",
         "type": "float"
        },
        {
         "name": "SibSp",
         "rawType": "int64",
         "type": "integer"
        },
        {
         "name": "Parch",
         "rawType": "int64",
         "type": "integer"
        },
        {
         "name": "Ticket",
         "rawType": "object",
         "type": "string"
        },
        {
         "name": "Fare",
         "rawType": "float64",
         "type": "float"
        },
        {
         "name": "Cabin",
         "rawType": "object",
         "type": "unknown"
        },
        {
         "name": "Embarked",
         "rawType": "object",
         "type": "string"
        }
       ],
       "ref": "2bae104f-b6b4-4f85-babb-de60459eefa8",
       "rows": [
        [
         "0",
         "1",
         "0",
         "3",
         "Braund, Mr. Owen Harris",
         "male",
         "22.0",
         "1",
         "0",
         "A/5 21171",
         "7.25",
         null,
         "S"
        ],
        [
         "1",
         "2",
         "1",
         "1",
         "Cumings, Mrs. John Bradley (Florence Briggs Thayer)",
         "female",
         "38.0",
         "1",
         "0",
         "PC 17599",
         "71.2833",
         "C85",
         "C"
        ],
        [
         "2",
         "3",
         "1",
         "3",
         "Heikkinen, Miss. Laina",
         "female",
         "26.0",
         "0",
         "0",
         "STON/O2. 3101282",
         "7.925",
         null,
         "S"
        ],
        [
         "3",
         "4",
         "1",
         "1",
         "Futrelle, Mrs. Jacques Heath (Lily May Peel)",
         "female",
         "35.0",
         "1",
         "0",
         "113803",
         "53.1",
         "C123",
         "S"
        ],
        [
         "4",
         "5",
         "0",
         "3",
         "Allen, Mr. William Henry",
         "male",
         "35.0",
         "0",
         "0",
         "373450",
         "8.05",
         null,
         "S"
        ]
       ],
       "shape": {
        "columns": 12,
        "rows": 5
       }
      },
      "text/html": [
       "<div>\n",
       "<style scoped>\n",
       "    .dataframe tbody tr th:only-of-type {\n",
       "        vertical-align: middle;\n",
       "    }\n",
       "\n",
       "    .dataframe tbody tr th {\n",
       "        vertical-align: top;\n",
       "    }\n",
       "\n",
       "    .dataframe thead th {\n",
       "        text-align: right;\n",
       "    }\n",
       "</style>\n",
       "<table border=\"1\" class=\"dataframe\">\n",
       "  <thead>\n",
       "    <tr style=\"text-align: right;\">\n",
       "      <th></th>\n",
       "      <th>PassengerId</th>\n",
       "      <th>Survived</th>\n",
       "      <th>Pclass</th>\n",
       "      <th>Name</th>\n",
       "      <th>Sex</th>\n",
       "      <th>Age</th>\n",
       "      <th>SibSp</th>\n",
       "      <th>Parch</th>\n",
       "      <th>Ticket</th>\n",
       "      <th>Fare</th>\n",
       "      <th>Cabin</th>\n",
       "      <th>Embarked</th>\n",
       "    </tr>\n",
       "  </thead>\n",
       "  <tbody>\n",
       "    <tr>\n",
       "      <th>0</th>\n",
       "      <td>1</td>\n",
       "      <td>0</td>\n",
       "      <td>3</td>\n",
       "      <td>Braund, Mr. Owen Harris</td>\n",
       "      <td>male</td>\n",
       "      <td>22.0</td>\n",
       "      <td>1</td>\n",
       "      <td>0</td>\n",
       "      <td>A/5 21171</td>\n",
       "      <td>7.2500</td>\n",
       "      <td>NaN</td>\n",
       "      <td>S</td>\n",
       "    </tr>\n",
       "    <tr>\n",
       "      <th>1</th>\n",
       "      <td>2</td>\n",
       "      <td>1</td>\n",
       "      <td>1</td>\n",
       "      <td>Cumings, Mrs. John Bradley (Florence Briggs Th...</td>\n",
       "      <td>female</td>\n",
       "      <td>38.0</td>\n",
       "      <td>1</td>\n",
       "      <td>0</td>\n",
       "      <td>PC 17599</td>\n",
       "      <td>71.2833</td>\n",
       "      <td>C85</td>\n",
       "      <td>C</td>\n",
       "    </tr>\n",
       "    <tr>\n",
       "      <th>2</th>\n",
       "      <td>3</td>\n",
       "      <td>1</td>\n",
       "      <td>3</td>\n",
       "      <td>Heikkinen, Miss. Laina</td>\n",
       "      <td>female</td>\n",
       "      <td>26.0</td>\n",
       "      <td>0</td>\n",
       "      <td>0</td>\n",
       "      <td>STON/O2. 3101282</td>\n",
       "      <td>7.9250</td>\n",
       "      <td>NaN</td>\n",
       "      <td>S</td>\n",
       "    </tr>\n",
       "    <tr>\n",
       "      <th>3</th>\n",
       "      <td>4</td>\n",
       "      <td>1</td>\n",
       "      <td>1</td>\n",
       "      <td>Futrelle, Mrs. Jacques Heath (Lily May Peel)</td>\n",
       "      <td>female</td>\n",
       "      <td>35.0</td>\n",
       "      <td>1</td>\n",
       "      <td>0</td>\n",
       "      <td>113803</td>\n",
       "      <td>53.1000</td>\n",
       "      <td>C123</td>\n",
       "      <td>S</td>\n",
       "    </tr>\n",
       "    <tr>\n",
       "      <th>4</th>\n",
       "      <td>5</td>\n",
       "      <td>0</td>\n",
       "      <td>3</td>\n",
       "      <td>Allen, Mr. William Henry</td>\n",
       "      <td>male</td>\n",
       "      <td>35.0</td>\n",
       "      <td>0</td>\n",
       "      <td>0</td>\n",
       "      <td>373450</td>\n",
       "      <td>8.0500</td>\n",
       "      <td>NaN</td>\n",
       "      <td>S</td>\n",
       "    </tr>\n",
       "  </tbody>\n",
       "</table>\n",
       "</div>"
      ],
      "text/plain": [
       "   PassengerId  Survived  Pclass  \\\n",
       "0            1         0       3   \n",
       "1            2         1       1   \n",
       "2            3         1       3   \n",
       "3            4         1       1   \n",
       "4            5         0       3   \n",
       "\n",
       "                                                Name     Sex   Age  SibSp  \\\n",
       "0                            Braund, Mr. Owen Harris    male  22.0      1   \n",
       "1  Cumings, Mrs. John Bradley (Florence Briggs Th...  female  38.0      1   \n",
       "2                             Heikkinen, Miss. Laina  female  26.0      0   \n",
       "3       Futrelle, Mrs. Jacques Heath (Lily May Peel)  female  35.0      1   \n",
       "4                           Allen, Mr. William Henry    male  35.0      0   \n",
       "\n",
       "   Parch            Ticket     Fare Cabin Embarked  \n",
       "0      0         A/5 21171   7.2500   NaN        S  \n",
       "1      0          PC 17599  71.2833   C85        C  \n",
       "2      0  STON/O2. 3101282   7.9250   NaN        S  \n",
       "3      0            113803  53.1000  C123        S  \n",
       "4      0            373450   8.0500   NaN        S  "
      ]
     },
     "execution_count": 11,
     "metadata": {},
     "output_type": "execute_result"
    }
   ],
   "source": [
    "import pandas as pd\n",
    "\n",
    "# Charger les données\n",
    "df = pd.read_csv(\"train.csv\")\n",
    "df.head()\n"
   ]
  },
  {
   "cell_type": "markdown",
   "id": "93059a3c",
   "metadata": {},
   "source": [
    "### 🔹 Étape 2 – Créer la fonctionnalité « FamilySize » (taille de la famille)"
   ]
  },
  {
   "cell_type": "code",
   "execution_count": 12,
   "id": "613c5a35",
   "metadata": {},
   "outputs": [
    {
     "data": {
      "application/vnd.microsoft.datawrangler.viewer.v0+json": {
       "columns": [
        {
         "name": "index",
         "rawType": "int64",
         "type": "integer"
        },
        {
         "name": "SibSp",
         "rawType": "int64",
         "type": "integer"
        },
        {
         "name": "Parch",
         "rawType": "int64",
         "type": "integer"
        },
        {
         "name": "FamilySize",
         "rawType": "int64",
         "type": "integer"
        }
       ],
       "ref": "89ddf29c-2ea1-4805-ab5b-86379e577988",
       "rows": [
        [
         "0",
         "1",
         "0",
         "2"
        ],
        [
         "1",
         "1",
         "0",
         "2"
        ],
        [
         "2",
         "0",
         "0",
         "1"
        ],
        [
         "3",
         "1",
         "0",
         "2"
        ],
        [
         "4",
         "0",
         "0",
         "1"
        ]
       ],
       "shape": {
        "columns": 3,
        "rows": 5
       }
      },
      "text/html": [
       "<div>\n",
       "<style scoped>\n",
       "    .dataframe tbody tr th:only-of-type {\n",
       "        vertical-align: middle;\n",
       "    }\n",
       "\n",
       "    .dataframe tbody tr th {\n",
       "        vertical-align: top;\n",
       "    }\n",
       "\n",
       "    .dataframe thead th {\n",
       "        text-align: right;\n",
       "    }\n",
       "</style>\n",
       "<table border=\"1\" class=\"dataframe\">\n",
       "  <thead>\n",
       "    <tr style=\"text-align: right;\">\n",
       "      <th></th>\n",
       "      <th>SibSp</th>\n",
       "      <th>Parch</th>\n",
       "      <th>FamilySize</th>\n",
       "    </tr>\n",
       "  </thead>\n",
       "  <tbody>\n",
       "    <tr>\n",
       "      <th>0</th>\n",
       "      <td>1</td>\n",
       "      <td>0</td>\n",
       "      <td>2</td>\n",
       "    </tr>\n",
       "    <tr>\n",
       "      <th>1</th>\n",
       "      <td>1</td>\n",
       "      <td>0</td>\n",
       "      <td>2</td>\n",
       "    </tr>\n",
       "    <tr>\n",
       "      <th>2</th>\n",
       "      <td>0</td>\n",
       "      <td>0</td>\n",
       "      <td>1</td>\n",
       "    </tr>\n",
       "    <tr>\n",
       "      <th>3</th>\n",
       "      <td>1</td>\n",
       "      <td>0</td>\n",
       "      <td>2</td>\n",
       "    </tr>\n",
       "    <tr>\n",
       "      <th>4</th>\n",
       "      <td>0</td>\n",
       "      <td>0</td>\n",
       "      <td>1</td>\n",
       "    </tr>\n",
       "  </tbody>\n",
       "</table>\n",
       "</div>"
      ],
      "text/plain": [
       "   SibSp  Parch  FamilySize\n",
       "0      1      0           2\n",
       "1      1      0           2\n",
       "2      0      0           1\n",
       "3      1      0           2\n",
       "4      0      0           1"
      ]
     },
     "execution_count": 12,
     "metadata": {},
     "output_type": "execute_result"
    }
   ],
   "source": [
    "# FamilySize = SibSp (frères/soeurs/conjoint) + Parch (parents/enfants) + 1 (soi-même)\n",
    "df['FamilySize'] = df['SibSp'] + df['Parch'] + 1\n",
    "df[['SibSp', 'Parch', 'FamilySize']].head()\n"
   ]
  },
  {
   "cell_type": "markdown",
   "id": "5da4962d",
   "metadata": {},
   "source": [
    "### 🔹 Étape 3 – Créer la fonctionnalité « IsAlone » (1 si seul, 0 sinon)"
   ]
  },
  {
   "cell_type": "code",
   "execution_count": 13,
   "id": "ab1fa79d",
   "metadata": {},
   "outputs": [
    {
     "data": {
      "application/vnd.microsoft.datawrangler.viewer.v0+json": {
       "columns": [
        {
         "name": "index",
         "rawType": "int64",
         "type": "integer"
        },
        {
         "name": "FamilySize",
         "rawType": "int64",
         "type": "integer"
        },
        {
         "name": "IsAlone",
         "rawType": "int32",
         "type": "integer"
        }
       ],
       "ref": "2e623c60-5f3a-4cc6-96de-04417b0551fe",
       "rows": [
        [
         "0",
         "2",
         "0"
        ],
        [
         "1",
         "2",
         "0"
        ],
        [
         "2",
         "1",
         "1"
        ],
        [
         "3",
         "2",
         "0"
        ],
        [
         "4",
         "1",
         "1"
        ]
       ],
       "shape": {
        "columns": 2,
        "rows": 5
       }
      },
      "text/html": [
       "<div>\n",
       "<style scoped>\n",
       "    .dataframe tbody tr th:only-of-type {\n",
       "        vertical-align: middle;\n",
       "    }\n",
       "\n",
       "    .dataframe tbody tr th {\n",
       "        vertical-align: top;\n",
       "    }\n",
       "\n",
       "    .dataframe thead th {\n",
       "        text-align: right;\n",
       "    }\n",
       "</style>\n",
       "<table border=\"1\" class=\"dataframe\">\n",
       "  <thead>\n",
       "    <tr style=\"text-align: right;\">\n",
       "      <th></th>\n",
       "      <th>FamilySize</th>\n",
       "      <th>IsAlone</th>\n",
       "    </tr>\n",
       "  </thead>\n",
       "  <tbody>\n",
       "    <tr>\n",
       "      <th>0</th>\n",
       "      <td>2</td>\n",
       "      <td>0</td>\n",
       "    </tr>\n",
       "    <tr>\n",
       "      <th>1</th>\n",
       "      <td>2</td>\n",
       "      <td>0</td>\n",
       "    </tr>\n",
       "    <tr>\n",
       "      <th>2</th>\n",
       "      <td>1</td>\n",
       "      <td>1</td>\n",
       "    </tr>\n",
       "    <tr>\n",
       "      <th>3</th>\n",
       "      <td>2</td>\n",
       "      <td>0</td>\n",
       "    </tr>\n",
       "    <tr>\n",
       "      <th>4</th>\n",
       "      <td>1</td>\n",
       "      <td>1</td>\n",
       "    </tr>\n",
       "  </tbody>\n",
       "</table>\n",
       "</div>"
      ],
      "text/plain": [
       "   FamilySize  IsAlone\n",
       "0           2        0\n",
       "1           2        0\n",
       "2           1        1\n",
       "3           2        0\n",
       "4           1        1"
      ]
     },
     "execution_count": 13,
     "metadata": {},
     "output_type": "execute_result"
    }
   ],
   "source": [
    "# Si la taille de la famille == 1 → le passager est seul\n",
    "df['IsAlone'] = (df['FamilySize'] == 1).astype(int)\n",
    "df[['FamilySize', 'IsAlone']].head()\n"
   ]
  },
  {
   "cell_type": "markdown",
   "id": "339d6e26",
   "metadata": {},
   "source": [
    "### 🔹 Étape 4 – Explorer la relation entre ces nouvelles variables et la survie"
   ]
  },
  {
   "cell_type": "markdown",
   "id": "7d33d2a5",
   "metadata": {},
   "source": [
    "4.1 Taux de survie selon FamilySize"
   ]
  },
  {
   "cell_type": "code",
   "execution_count": 14,
   "id": "9f95d7ae",
   "metadata": {},
   "outputs": [
    {
     "name": "stdout",
     "output_type": "stream",
     "text": [
      "FamilySize\n",
      "1     0.303538\n",
      "2     0.552795\n",
      "3     0.578431\n",
      "4     0.724138\n",
      "5     0.200000\n",
      "6     0.136364\n",
      "7     0.333333\n",
      "8     0.000000\n",
      "11    0.000000\n",
      "Name: Survived, dtype: float64\n"
     ]
    }
   ],
   "source": [
    "print(df.groupby('FamilySize')['Survived'].mean())\n"
   ]
  },
  {
   "cell_type": "markdown",
   "id": "e0a77824",
   "metadata": {},
   "source": [
    "4.2 Taux de survie selon IsAlone"
   ]
  },
  {
   "cell_type": "code",
   "execution_count": 15,
   "id": "43829bc5",
   "metadata": {},
   "outputs": [
    {
     "name": "stdout",
     "output_type": "stream",
     "text": [
      "IsAlone\n",
      "0    0.505650\n",
      "1    0.303538\n",
      "Name: Survived, dtype: float64\n"
     ]
    }
   ],
   "source": [
    "print(df.groupby('IsAlone')['Survived'].mean())\n"
   ]
  },
  {
   "cell_type": "markdown",
   "id": "9da28938",
   "metadata": {},
   "source": [
    "Les passagers voyageant seuls (IsAlone = 1) ont moins survécu que ceux en groupe.\n",
    "\n",
    "Le taux de survie est souvent plus élevé pour les familles de taille 2 à 4, et plus faible pour les très grandes familles."
   ]
  },
  {
   "cell_type": "markdown",
   "id": "7d516193",
   "metadata": {},
   "source": [
    "## Exercice 3 : Normalisation des données sur l'ensemble de données du Titanic\n",
    "Instructions\n",
    "Importez l'ensemble de données Titanic à l'aide de Pandas en Python.\n",
    "Appliquer la normalisation Min-Max et la normalisation Z-score à ces colonnes : Âge et Tarif\n",
    "Comparez les distributions avant et après normalisation à l’aide d’histogrammes."
   ]
  },
  {
   "cell_type": "markdown",
   "id": "597e4e34",
   "metadata": {},
   "source": [
    "### 🔹 Étape 1 – Importer les données Titanic avec Pandas"
   ]
  },
  {
   "cell_type": "code",
   "execution_count": 16,
   "id": "6443456a",
   "metadata": {},
   "outputs": [
    {
     "data": {
      "application/vnd.microsoft.datawrangler.viewer.v0+json": {
       "columns": [
        {
         "name": "index",
         "rawType": "int64",
         "type": "integer"
        },
        {
         "name": "Age",
         "rawType": "float64",
         "type": "float"
        },
        {
         "name": "Fare",
         "rawType": "float64",
         "type": "float"
        }
       ],
       "ref": "6b38ec41-3c0b-4b00-a806-0c9c1e77d384",
       "rows": [
        [
         "0",
         "22.0",
         "7.25"
        ],
        [
         "1",
         "38.0",
         "71.2833"
        ],
        [
         "2",
         "26.0",
         "7.925"
        ],
        [
         "3",
         "35.0",
         "53.1"
        ],
        [
         "4",
         "35.0",
         "8.05"
        ]
       ],
       "shape": {
        "columns": 2,
        "rows": 5
       }
      },
      "text/html": [
       "<div>\n",
       "<style scoped>\n",
       "    .dataframe tbody tr th:only-of-type {\n",
       "        vertical-align: middle;\n",
       "    }\n",
       "\n",
       "    .dataframe tbody tr th {\n",
       "        vertical-align: top;\n",
       "    }\n",
       "\n",
       "    .dataframe thead th {\n",
       "        text-align: right;\n",
       "    }\n",
       "</style>\n",
       "<table border=\"1\" class=\"dataframe\">\n",
       "  <thead>\n",
       "    <tr style=\"text-align: right;\">\n",
       "      <th></th>\n",
       "      <th>Age</th>\n",
       "      <th>Fare</th>\n",
       "    </tr>\n",
       "  </thead>\n",
       "  <tbody>\n",
       "    <tr>\n",
       "      <th>0</th>\n",
       "      <td>22.0</td>\n",
       "      <td>7.2500</td>\n",
       "    </tr>\n",
       "    <tr>\n",
       "      <th>1</th>\n",
       "      <td>38.0</td>\n",
       "      <td>71.2833</td>\n",
       "    </tr>\n",
       "    <tr>\n",
       "      <th>2</th>\n",
       "      <td>26.0</td>\n",
       "      <td>7.9250</td>\n",
       "    </tr>\n",
       "    <tr>\n",
       "      <th>3</th>\n",
       "      <td>35.0</td>\n",
       "      <td>53.1000</td>\n",
       "    </tr>\n",
       "    <tr>\n",
       "      <th>4</th>\n",
       "      <td>35.0</td>\n",
       "      <td>8.0500</td>\n",
       "    </tr>\n",
       "  </tbody>\n",
       "</table>\n",
       "</div>"
      ],
      "text/plain": [
       "    Age     Fare\n",
       "0  22.0   7.2500\n",
       "1  38.0  71.2833\n",
       "2  26.0   7.9250\n",
       "3  35.0  53.1000\n",
       "4  35.0   8.0500"
      ]
     },
     "execution_count": 16,
     "metadata": {},
     "output_type": "execute_result"
    }
   ],
   "source": [
    "import pandas as pd\n",
    "\n",
    "# Charger les données\n",
    "df = pd.read_csv(\"train.csv\")\n",
    "\n",
    "# Garder uniquement les colonnes nécessaires\n",
    "df = df[['Age', 'Fare']].dropna()\n",
    "df.head()\n"
   ]
  },
  {
   "cell_type": "markdown",
   "id": "65db9a04",
   "metadata": {},
   "source": [
    "### 🔹 Étape 2 – Appliquer Min-Max et Z-score"
   ]
  },
  {
   "cell_type": "code",
   "execution_count": 17,
   "id": "936e764a",
   "metadata": {},
   "outputs": [],
   "source": [
    "from sklearn.preprocessing import StandardScaler, MinMaxScaler\n",
    "\n",
    "# Création des scalers\n",
    "scaler_z = StandardScaler()\n",
    "scaler_mm = MinMaxScaler()\n",
    "\n",
    "# Appliquer la normalisation\n",
    "df['Age_Z'] = scaler_z.fit_transform(df[['Age']])\n",
    "df['Fare_Z'] = scaler_z.fit_transform(df[['Fare']])\n",
    "df['Age_MM'] = scaler_mm.fit_transform(df[['Age']])\n",
    "df['Fare_MM'] = scaler_mm.fit_transform(df[['Fare']])\n"
   ]
  },
  {
   "cell_type": "markdown",
   "id": "15cec1f2",
   "metadata": {},
   "source": [
    "### 🔹 Étape 3 – Comparer les distributions par histogrammes"
   ]
  },
  {
   "cell_type": "code",
   "execution_count": 18,
   "id": "098b01ea",
   "metadata": {},
   "outputs": [
    {
     "data": {
      "image/png": "[encoded data removed]",
      "text/plain": [
       "<Figure size 1200x400 with 3 Axes>"
      ]
     },
     "metadata": {},
     "output_type": "display_data"
    }
   ],
   "source": [
    "import matplotlib.pyplot as plt\n",
    "\n",
    "# Histogramme Age\n",
    "plt.figure(figsize=(12,4))\n",
    "plt.subplot(1,3,1)\n",
    "plt.hist(df['Age'], bins=30)\n",
    "plt.title(\"Age - Original\")\n",
    "\n",
    "plt.subplot(1,3,2)\n",
    "plt.hist(df['Age_Z'], bins=30)\n",
    "plt.title(\"Age - Z-score\")\n",
    "\n",
    "plt.subplot(1,3,3)\n",
    "plt.hist(df['Age_MM'], bins=30)\n",
    "plt.title(\"Age - Min-Max\")\n",
    "plt.show()\n"
   ]
  },
  {
   "cell_type": "code",
   "execution_count": 19,
   "id": "e6d28e8c",
   "metadata": {},
   "outputs": [
    {
     "data": {
      "image/png": "[encoded data removed]",
      "text/plain": [
       "<Figure size 1200x400 with 3 Axes>"
      ]
     },
     "metadata": {},
     "output_type": "display_data"
    }
   ],
   "source": [
    "# Histogramme Fare\n",
    "plt.figure(figsize=(12,4))\n",
    "plt.subplot(1,3,1)\n",
    "plt.hist(df['Fare'], bins=30)\n",
    "plt.title(\"Fare - Original\")\n",
    "\n",
    "plt.subplot(1,3,2)\n",
    "plt.hist(df['Fare_Z'], bins=30)\n",
    "plt.title(\"Fare - Z-score\")\n",
    "\n",
    "plt.subplot(1,3,3)\n",
    "plt.hist(df['Fare_MM'], bins=30)\n",
    "plt.title(\"Fare - Min-Max\")\n",
    "plt.show()\n"
   ]
  },
  {
   "cell_type": "markdown",
   "id": "ecd11083",
   "metadata": {},
   "source": [
    "### Résumé :\n",
    "\n",
    "La Z-score normalisation centre la distribution autour de 0 avec un écart-type de 1.\n",
    "\n",
    "La Min-Max normalisation ramène les valeurs entre 0 et 1.\n",
    "\n",
    "Les formes des distributions restent les mêmes, seules les échelles changent."
   ]
  },
  {
   "cell_type": "markdown",
   "id": "74790b20",
   "metadata": {},
   "source": [
    "## Exercice 4 : Réduction et agrégation des données\n",
    "Instructions\n",
    "Effectuez une réduction des données sur l'ensemble de données Titanic en mettant en œuvre des techniques de réduction de dimensionnalité telles que l'analyse en composantes principales (ACP).\n",
    "Agréger les données par colonne catégorielle (comme la date ou la région) et calculer des statistiques récapitulatives (moyenne, somme, etc.).\n",
    "Visualisez les données agrégées à l’aide de tracés appropriés."
   ]
  },
  {
   "cell_type": "markdown",
   "id": "7f934e50",
   "metadata": {},
   "source": [
    "### 🔹 Étape 1 – Chargement et préparation du jeu de données"
   ]
  },
  {
   "cell_type": "code",
   "execution_count": 20,
   "id": "2f840a53",
   "metadata": {},
   "outputs": [
    {
     "data": {
      "application/vnd.microsoft.datawrangler.viewer.v0+json": {
       "columns": [
        {
         "name": "index",
         "rawType": "int64",
         "type": "integer"
        },
        {
         "name": "Pclass",
         "rawType": "int64",
         "type": "integer"
        },
        {
         "name": "Sex",
         "rawType": "int64",
         "type": "integer"
        },
        {
         "name": "Age",
         "rawType": "float64",
         "type": "float"
        },
        {
         "name": "Fare",
         "rawType": "float64",
         "type": "float"
        },
        {
         "name": "Survived",
         "rawType": "int64",
         "type": "integer"
        }
       ],
       "ref": "1c18db33-9dc8-49a8-a397-39032ba5821c",
       "rows": [
        [
         "0",
         "3",
         "0",
         "22.0",
         "7.25",
         "0"
        ],
        [
         "1",
         "1",
         "1",
         "38.0",
         "71.2833",
         "1"
        ],
        [
         "2",
         "3",
         "1",
         "26.0",
         "7.925",
         "1"
        ],
        [
         "3",
         "1",
         "1",
         "35.0",
         "53.1",
         "1"
        ],
        [
         "4",
         "3",
         "0",
         "35.0",
         "8.05",
         "0"
        ]
       ],
       "shape": {
        "columns": 5,
        "rows": 5
       }
      },
      "text/html": [
       "<div>\n",
       "<style scoped>\n",
       "    .dataframe tbody tr th:only-of-type {\n",
       "        vertical-align: middle;\n",
       "    }\n",
       "\n",
       "    .dataframe tbody tr th {\n",
       "        vertical-align: top;\n",
       "    }\n",
       "\n",
       "    .dataframe thead th {\n",
       "        text-align: right;\n",
       "    }\n",
       "</style>\n",
       "<table border=\"1\" class=\"dataframe\">\n",
       "  <thead>\n",
       "    <tr style=\"text-align: right;\">\n",
       "      <th></th>\n",
       "      <th>Pclass</th>\n",
       "      <th>Sex</th>\n",
       "      <th>Age</th>\n",
       "      <th>Fare</th>\n",
       "      <th>Survived</th>\n",
       "    </tr>\n",
       "  </thead>\n",
       "  <tbody>\n",
       "    <tr>\n",
       "      <th>0</th>\n",
       "      <td>3</td>\n",
       "      <td>0</td>\n",
       "      <td>22.0</td>\n",
       "      <td>7.2500</td>\n",
       "      <td>0</td>\n",
       "    </tr>\n",
       "    <tr>\n",
       "      <th>1</th>\n",
       "      <td>1</td>\n",
       "      <td>1</td>\n",
       "      <td>38.0</td>\n",
       "      <td>71.2833</td>\n",
       "      <td>1</td>\n",
       "    </tr>\n",
       "    <tr>\n",
       "      <th>2</th>\n",
       "      <td>3</td>\n",
       "      <td>1</td>\n",
       "      <td>26.0</td>\n",
       "      <td>7.9250</td>\n",
       "      <td>1</td>\n",
       "    </tr>\n",
       "    <tr>\n",
       "      <th>3</th>\n",
       "      <td>1</td>\n",
       "      <td>1</td>\n",
       "      <td>35.0</td>\n",
       "      <td>53.1000</td>\n",
       "      <td>1</td>\n",
       "    </tr>\n",
       "    <tr>\n",
       "      <th>4</th>\n",
       "      <td>3</td>\n",
       "      <td>0</td>\n",
       "      <td>35.0</td>\n",
       "      <td>8.0500</td>\n",
       "      <td>0</td>\n",
       "    </tr>\n",
       "  </tbody>\n",
       "</table>\n",
       "</div>"
      ],
      "text/plain": [
       "   Pclass  Sex   Age     Fare  Survived\n",
       "0       3    0  22.0   7.2500         0\n",
       "1       1    1  38.0  71.2833         1\n",
       "2       3    1  26.0   7.9250         1\n",
       "3       1    1  35.0  53.1000         1\n",
       "4       3    0  35.0   8.0500         0"
      ]
     },
     "execution_count": 20,
     "metadata": {},
     "output_type": "execute_result"
    }
   ],
   "source": [
    "import pandas as pd\n",
    "\n",
    "# Charger les données Titanic\n",
    "df = pd.read_csv(\"train.csv\")\n",
    "\n",
    "# Supprimer les lignes avec des valeurs manquantes sur les colonnes utiles\n",
    "df = df[['Pclass', 'Sex', 'Age', 'Fare', 'Survived']].dropna()\n",
    "\n",
    "# Encodage de la variable catégorielle 'Sex'\n",
    "df['Sex'] = df['Sex'].map({'male': 0, 'female': 1})\n",
    "df.head()\n"
   ]
  },
  {
   "cell_type": "markdown",
   "id": "a827c79f",
   "metadata": {},
   "source": [
    "### 🔹 Étape 2 – Réduction de dimension par ACP (PCA)"
   ]
  },
  {
   "cell_type": "code",
   "execution_count": 21,
   "id": "acd5d4da",
   "metadata": {},
   "outputs": [
    {
     "data": {
      "application/vnd.microsoft.datawrangler.viewer.v0+json": {
       "columns": [
        {
         "name": "index",
         "rawType": "int64",
         "type": "integer"
        },
        {
         "name": "PCA1",
         "rawType": "float64",
         "type": "float"
        },
        {
         "name": "PCA2",
         "rawType": "float64",
         "type": "float"
        }
       ],
       "ref": "28269055-ba55-4da3-a57f-9c9f80105f63",
       "rows": [
        [
         "0",
         "1.2980900257341463",
         "-0.23924869074722335"
        ],
        [
         "1",
         "-1.9276968801538668",
         "0.6065188453571061"
        ],
        [
         "2",
         "0.6939123659810446",
         "1.0891056812131588"
        ],
        [
         "3",
         "-1.6453183786761636",
         "0.6680371521848067"
        ],
        [
         "4",
         "0.9544648830953694",
         "-0.8184401872453125"
        ]
       ],
       "shape": {
        "columns": 2,
        "rows": 5
       }
      },
      "text/html": [
       "<div>\n",
       "<style scoped>\n",
       "    .dataframe tbody tr th:only-of-type {\n",
       "        vertical-align: middle;\n",
       "    }\n",
       "\n",
       "    .dataframe tbody tr th {\n",
       "        vertical-align: top;\n",
       "    }\n",
       "\n",
       "    .dataframe thead th {\n",
       "        text-align: right;\n",
       "    }\n",
       "</style>\n",
       "<table border=\"1\" class=\"dataframe\">\n",
       "  <thead>\n",
       "    <tr style=\"text-align: right;\">\n",
       "      <th></th>\n",
       "      <th>PCA1</th>\n",
       "      <th>PCA2</th>\n",
       "    </tr>\n",
       "  </thead>\n",
       "  <tbody>\n",
       "    <tr>\n",
       "      <th>0</th>\n",
       "      <td>1.298090</td>\n",
       "      <td>-0.239249</td>\n",
       "    </tr>\n",
       "    <tr>\n",
       "      <th>1</th>\n",
       "      <td>-1.927697</td>\n",
       "      <td>0.606519</td>\n",
       "    </tr>\n",
       "    <tr>\n",
       "      <th>2</th>\n",
       "      <td>0.693912</td>\n",
       "      <td>1.089106</td>\n",
       "    </tr>\n",
       "    <tr>\n",
       "      <th>3</th>\n",
       "      <td>-1.645318</td>\n",
       "      <td>0.668037</td>\n",
       "    </tr>\n",
       "    <tr>\n",
       "      <th>4</th>\n",
       "      <td>0.954465</td>\n",
       "      <td>-0.818440</td>\n",
       "    </tr>\n",
       "  </tbody>\n",
       "</table>\n",
       "</div>"
      ],
      "text/plain": [
       "       PCA1      PCA2\n",
       "0  1.298090 -0.239249\n",
       "1 -1.927697  0.606519\n",
       "2  0.693912  1.089106\n",
       "3 -1.645318  0.668037\n",
       "4  0.954465 -0.818440"
      ]
     },
     "execution_count": 21,
     "metadata": {},
     "output_type": "execute_result"
    }
   ],
   "source": [
    "from sklearn.preprocessing import StandardScaler\n",
    "from sklearn.decomposition import PCA\n",
    "\n",
    "# Standardiser les données numériques\n",
    "features = ['Pclass', 'Sex', 'Age', 'Fare']\n",
    "X = df[features]\n",
    "X_scaled = StandardScaler().fit_transform(X)\n",
    "\n",
    "# Appliquer l'ACP pour réduire à 2 composantes\n",
    "pca = PCA(n_components=2)\n",
    "X_pca = pca.fit_transform(X_scaled)\n",
    "\n",
    "# Ajouter les composantes au DataFrame\n",
    "df['PCA1'] = X_pca[:, 0]\n",
    "df['PCA2'] = X_pca[:, 1]\n",
    "df[['PCA1', 'PCA2']].head()\n"
   ]
  },
  {
   "cell_type": "markdown",
   "id": "d4ac4536",
   "metadata": {},
   "source": [
    "### 🔹 Étape 3 – Agrégation des données par groupe\n",
    "\n",
    "Exemple : moyenne de l’Age et du Fare selon la classe (Pclass)"
   ]
  },
  {
   "cell_type": "code",
   "execution_count": 22,
   "id": "0a74b0ab",
   "metadata": {},
   "outputs": [
    {
     "data": {
      "application/vnd.microsoft.datawrangler.viewer.v0+json": {
       "columns": [
        {
         "name": "Pclass",
         "rawType": "int64",
         "type": "integer"
        },
        {
         "name": "('Age', 'mean')",
         "rawType": "float64",
         "type": "float"
        },
        {
         "name": "('Age', 'sum')",
         "rawType": "float64",
         "type": "float"
        },
        {
         "name": "('Fare', 'mean')",
         "rawType": "float64",
         "type": "float"
        },
        {
         "name": "('Fare', 'sum')",
         "rawType": "float64",
         "type": "float"
        }
       ],
       "ref": "481109a7-bbdc-45d1-9da4-d6fb246c2373",
       "rows": [
        [
         "1",
         "38.233440860215055",
         "7111.42",
         "87.96158225806452",
         "16360.8543"
        ],
        [
         "2",
         "29.87763005780347",
         "5168.83",
         "21.471556069364162",
         "3714.5792"
        ],
        [
         "3",
         "25.14061971830986",
         "8924.92",
         "13.229435211267605",
         "4696.4495"
        ]
       ],
       "shape": {
        "columns": 4,
        "rows": 3
       }
      },
      "text/html": [
       "<div>\n",
       "<style scoped>\n",
       "    .dataframe tbody tr th:only-of-type {\n",
       "        vertical-align: middle;\n",
       "    }\n",
       "\n",
       "    .dataframe tbody tr th {\n",
       "        vertical-align: top;\n",
       "    }\n",
       "\n",
       "    .dataframe thead tr th {\n",
       "        text-align: left;\n",
       "    }\n",
       "\n",
       "    .dataframe thead tr:last-of-type th {\n",
       "        text-align: right;\n",
       "    }\n",
       "</style>\n",
       "<table border=\"1\" class=\"dataframe\">\n",
       "  <thead>\n",
       "    <tr>\n",
       "      <th></th>\n",
       "      <th colspan=\"2\" halign=\"left\">Age</th>\n",
       "      <th colspan=\"2\" halign=\"left\">Fare</th>\n",
       "    </tr>\n",
       "    <tr>\n",
       "      <th></th>\n",
       "      <th>mean</th>\n",
       "      <th>sum</th>\n",
       "      <th>mean</th>\n",
       "      <th>sum</th>\n",
       "    </tr>\n",
       "    <tr>\n",
       "      <th>Pclass</th>\n",
       "      <th></th>\n",
       "      <th></th>\n",
       "      <th></th>\n",
       "      <th></th>\n",
       "    </tr>\n",
       "  </thead>\n",
       "  <tbody>\n",
       "    <tr>\n",
       "      <th>1</th>\n",
       "      <td>38.233441</td>\n",
       "      <td>7111.42</td>\n",
       "      <td>87.961582</td>\n",
       "      <td>16360.8543</td>\n",
       "    </tr>\n",
       "    <tr>\n",
       "      <th>2</th>\n",
       "      <td>29.877630</td>\n",
       "      <td>5168.83</td>\n",
       "      <td>21.471556</td>\n",
       "      <td>3714.5792</td>\n",
       "    </tr>\n",
       "    <tr>\n",
       "      <th>3</th>\n",
       "      <td>25.140620</td>\n",
       "      <td>8924.92</td>\n",
       "      <td>13.229435</td>\n",
       "      <td>4696.4495</td>\n",
       "    </tr>\n",
       "  </tbody>\n",
       "</table>\n",
       "</div>"
      ],
      "text/plain": [
       "              Age                Fare            \n",
       "             mean      sum       mean         sum\n",
       "Pclass                                           \n",
       "1       38.233441  7111.42  87.961582  16360.8543\n",
       "2       29.877630  5168.83  21.471556   3714.5792\n",
       "3       25.140620  8924.92  13.229435   4696.4495"
      ]
     },
     "execution_count": 22,
     "metadata": {},
     "output_type": "execute_result"
    }
   ],
   "source": [
    "agg = df.groupby('Pclass')[['Age', 'Fare']].agg(['mean', 'sum'])\n",
    "agg\n"
   ]
  },
  {
   "cell_type": "markdown",
   "id": "5d9605f3",
   "metadata": {},
   "source": [
    "### 🔹 Étape 4 – Visualisation des données agrégées"
   ]
  },
  {
   "cell_type": "code",
   "execution_count": 23,
   "id": "700ee432",
   "metadata": {},
   "outputs": [
    {
     "data": {
      "image/png": "[encoded data removed]",
      "text/plain": [
       "<Figure size 640x480 with 1 Axes>"
      ]
     },
     "metadata": {},
     "output_type": "display_data"
    },
    {
     "data": {
      "image/png": "[encoded data removed]",
      "text/plain": [
       "<Figure size 640x480 with 2 Axes>"
      ]
     },
     "metadata": {},
     "output_type": "display_data"
    }
   ],
   "source": [
    "import matplotlib.pyplot as plt\n",
    "\n",
    "# Moyenne des tarifs par classe\n",
    "df.groupby('Pclass')['Fare'].mean().plot(kind='bar')\n",
    "plt.title(\"Tarif moyen par classe\")\n",
    "plt.ylabel(\"Tarif moyen\")\n",
    "plt.xlabel(\"Classe\")\n",
    "plt.show()\n",
    "\n",
    "# Affichage des passagers projetés dans le plan PCA\n",
    "plt.scatter(df['PCA1'], df['PCA2'], c=df['Survived'], cmap='coolwarm', alpha=0.6)\n",
    "plt.title(\"ACP - Projection des passagers\")\n",
    "plt.xlabel(\"Composante principale 1\")\n",
    "plt.ylabel(\"Composante principale 2\")\n",
    "plt.colorbar(label='Survived')\n",
    "plt.show()\n"
   ]
  },
  {
   "cell_type": "markdown",
   "id": "777ffabe",
   "metadata": {},
   "source": [
    "### Résumé :\n",
    "\n",
    "Réduction de dimension avec ACP permet de visualiser les données projetées en 2D.\n",
    "\n",
    "Agrégation par Pclass montre des différences claires de tarif et âge moyens selon la classe.\n",
    "\n",
    "Les visualisations confirment visuellement la structure et les différences entre groupes."
   ]
  },
  {
   "cell_type": "markdown",
   "id": "68455197",
   "metadata": {},
   "source": [
    "## Exercice 5 : Normalisation des données de vente du commerce électronique\n",
    "Instructions\n",
    "Ensemble de données : utiliser les données de vente des supermarchés .\n",
    "\n",
    "Chargez l'ensemble de données des ventes des supermarchés.\n",
    "Effectuez une normalisation Min-Max sur les colonnes « Ventes » et « Bénéfice ».\n",
    "Créez de nouvelles colonnes, par exemple « Sales_normalized » et « Profit_normalized », pour stocker les valeurs normalisées."
   ]
  },
  {
   "cell_type": "markdown",
   "id": "439c1901",
   "metadata": {},
   "source": [
    "### 🔹 Étape 1 – Charger les données de ventes (fichier .csv)"
   ]
  },
  {
   "cell_type": "code",
   "execution_count": null,
   "id": "46464e23",
   "metadata": {},
   "outputs": [
    {
     "data": {
      "application/vnd.microsoft.datawrangler.viewer.v0+json": {
       "columns": [
        {
         "name": "index",
         "rawType": "int64",
         "type": "integer"
        },
        {
         "name": "Row ID",
         "rawType": "int64",
         "type": "integer"
        },
        {
         "name": "Order ID",
         "rawType": "object",
         "type": "string"
        },
        {
         "name": "Order Date",
         "rawType": "object",
         "type": "string"
        },
        {
         "name": "Ship Date",
         "rawType": "object",
         "type": "string"
        },
        {
         "name": "Ship Mode",
         "rawType": "object",
         "type": "string"
        },
        {
         "name": "Customer ID",
         "rawType": "object",
         "type": "string"
        },
        {
         "name": "Customer Name",
         "rawType": "object",
         "type": "string"
        },
        {
         "name": "Segment",
         "rawType": "object",
         "type": "string"
        },
        {
         "name": "City",
         "rawType": "object",
         "type": "string"
        },
        {
         "name": "State",
         "rawType": "object",
         "type": "string"
        },
        {
         "name": "Country",
         "rawType": "object",
         "type": "string"
        },
        {
         "name": "Postal Code",
         "rawType": "float64",
         "type": "float"
        },
        {
         "name": "Market",
         "rawType": "object",
         "type": "string"
        },
        {
         "name": "Region",
         "rawType": "object",
         "type": "string"
        },
        {
         "name": "Product ID",
         "rawType": "object",
         "type": "string"
        },
        {
         "name": "Category",
         "rawType": "object",
         "type": "string"
        },
        {
         "name": "Sub-Category",
         "rawType": "object",
         "type": "string"
        },
        {
         "name": "Product Name",
         "rawType": "object",
         "type": "string"
        },
        {
         "name": "Sales",
         "rawType": "float64",
         "type": "float"
        },
        {
         "name": "Quantity",
         "rawType": "int64",
         "type": "integer"
        },
        {
         "name": "Discount",
         "rawType": "float64",
         "type": "float"
        },
        {
         "name": "Profit",
         "rawType": "float64",
         "type": "float"
        },
        {
         "name": "Shipping Cost",
         "rawType": "float64",
         "type": "float"
        },
        {
         "name": "Order Priority",
         "rawType": "object",
         "type": "string"
        }
       ],
       "ref": "3bf1bbf7-ff53-433a-b316-f94c04ee406f",
       "rows": [
        [
         "0",
         "42433",
         "AG-2011-2040",
         "1/1/2011",
         "6/1/2011",
         "Standard Class",
         "TB-11280",
         "Toby Braunhardt",
         "Consumer",
         "Constantine",
         "Constantine",
         "Algeria",
         null,
         "Africa",
         "Africa",
         "OFF-TEN-10000025",
         "Office Supplies",
         "Storage",
         "Tenex Lockers, Blue",
         "408.3",
         "2",
         "0.0",
         "106.14",
         "35.46",
         "Medium"
        ],
        [
         "1",
         "22253",
         "IN-2011-47883",
         "1/1/2011",
         "8/1/2011",
         "Standard Class",
         "JH-15985",
         "Joseph Holt",
         "Consumer",
         "Wagga Wagga",
         "New South Wales",
         "Australia",
         null,
         "APAC",
         "Oceania",
         "OFF-SU-10000618",
         "Office Supplies",
         "Supplies",
         "Acme Trimmer, High Speed",
         "120.366",
         "3",
         "0.1",
         "36.036",
         "9.72",
         "Medium"
        ],
        [
         "2",
         "48883",
         "HU-2011-1220",
         "1/1/2011",
         "5/1/2011",
         "Second Class",
         "AT-735",
         "Annie Thurman",
         "Consumer",
         "Budapest",
         "Budapest",
         "Hungary",
         null,
         "EMEA",
         "EMEA",
         "OFF-TEN-10001585",
         "Office Supplies",
         "Storage",
         "Tenex Box, Single Width",
         "66.12",
         "4",
         "0.0",
         "29.64",
         "8.17",
         "High"
        ],
        [
         "3",
         "11731",
         "IT-2011-3647632",
         "1/1/2011",
         "5/1/2011",
         "Second Class",
         "EM-14140",
         "Eugene Moren",
         "Home Office",
         "Stockholm",
         "Stockholm",
         "Sweden",
         null,
         "EU",
         "North",
         "OFF-PA-10001492",
         "Office Supplies",
         "Paper",
         "Enermax Note Cards, Premium",
         "44.865",
         "3",
         "0.5",
         "-26.055",
         "4.82",
         "High"
        ],
        [
         "4",
         "22255",
         "IN-2011-47883",
         "1/1/2011",
         "8/1/2011",
         "Standard Class",
         "JH-15985",
         "Joseph Holt",
         "Consumer",
         "Wagga Wagga",
         "New South Wales",
         "Australia",
         null,
         "APAC",
         "Oceania",
         "FUR-FU-10003447",
         "Furniture",
         "Furnishings",
         "Eldon Light Bulb, Duo Pack",
         "113.67",
         "5",
         "0.1",
         "37.77",
         "4.7",
         "Medium"
        ]
       ],
       "shape": {
        "columns": 24,
        "rows": 5
       }
      },
      "text/html": [
       "<div>\n",
       "<style scoped>\n",
       "    .dataframe tbody tr th:only-of-type {\n",
       "        vertical-align: middle;\n",
       "    }\n",
       "\n",
       "    .dataframe tbody tr th {\n",
       "        vertical-align: top;\n",
       "    }\n",
       "\n",
       "    .dataframe thead th {\n",
       "        text-align: right;\n",
       "    }\n",
       "</style>\n",
       "<table border=\"1\" class=\"dataframe\">\n",
       "  <thead>\n",
       "    <tr style=\"text-align: right;\">\n",
       "      <th></th>\n",
       "      <th>Row ID</th>\n",
       "      <th>Order ID</th>\n",
       "      <th>Order Date</th>\n",
       "      <th>Ship Date</th>\n",
       "      <th>Ship Mode</th>\n",
       "      <th>Customer ID</th>\n",
       "      <th>Customer Name</th>\n",
       "      <th>Segment</th>\n",
       "      <th>City</th>\n",
       "      <th>State</th>\n",
       "      <th>...</th>\n",
       "      <th>Product ID</th>\n",
       "      <th>Category</th>\n",
       "      <th>Sub-Category</th>\n",
       "      <th>Product Name</th>\n",
       "      <th>Sales</th>\n",
       "      <th>Quantity</th>\n",
       "      <th>Discount</th>\n",
       "      <th>Profit</th>\n",
       "      <th>Shipping Cost</th>\n",
       "      <th>Order Priority</th>\n",
       "    </tr>\n",
       "  </thead>\n",
       "  <tbody>\n",
       "    <tr>\n",
       "      <th>0</th>\n",
       "      <td>42433</td>\n",
       "      <td>AG-2011-2040</td>\n",
       "      <td>1/1/2011</td>\n",
       "      <td>6/1/2011</td>\n",
       "      <td>Standard Class</td>\n",
       "      <td>TB-11280</td>\n",
       "      <td>Toby Braunhardt</td>\n",
       "      <td>Consumer</td>\n",
       "      <td>Constantine</td>\n",
       "      <td>Constantine</td>\n",
       "      <td>...</td>\n",
       "      <td>OFF-TEN-10000025</td>\n",
       "      <td>Office Supplies</td>\n",
       "      <td>Storage</td>\n",
       "      <td>Tenex Lockers, Blue</td>\n",
       "      <td>408.300</td>\n",
       "      <td>2</td>\n",
       "      <td>0.0</td>\n",
       "      <td>106.140</td>\n",
       "      <td>35.46</td>\n",
       "      <td>Medium</td>\n",
       "    </tr>\n",
       "    <tr>\n",
       "      <th>1</th>\n",
       "      <td>22253</td>\n",
       "      <td>IN-2011-47883</td>\n",
       "      <td>1/1/2011</td>\n",
       "      <td>8/1/2011</td>\n",
       "      <td>Standard Class</td>\n",
       "      <td>JH-15985</td>\n",
       "      <td>Joseph Holt</td>\n",
       "      <td>Consumer</td>\n",
       "      <td>Wagga Wagga</td>\n",
       "      <td>New South Wales</td>\n",
       "      <td>...</td>\n",
       "      <td>OFF-SU-10000618</td>\n",
       "      <td>Office Supplies</td>\n",
       "      <td>Supplies</td>\n",
       "      <td>Acme Trimmer, High Speed</td>\n",
       "      <td>120.366</td>\n",
       "      <td>3</td>\n",
       "      <td>0.1</td>\n",
       "      <td>36.036</td>\n",
       "      <td>9.72</td>\n",
       "      <td>Medium</td>\n",
       "    </tr>\n",
       "    <tr>\n",
       "      <th>2</th>\n",
       "      <td>48883</td>\n",
       "      <td>HU-2011-1220</td>\n",
       "      <td>1/1/2011</td>\n",
       "      <td>5/1/2011</td>\n",
       "      <td>Second Class</td>\n",
       "      <td>AT-735</td>\n",
       "      <td>Annie Thurman</td>\n",
       "      <td>Consumer</td>\n",
       "      <td>Budapest</td>\n",
       "      <td>Budapest</td>\n",
       "      <td>...</td>\n",
       "      <td>OFF-TEN-10001585</td>\n",
       "      <td>Office Supplies</td>\n",
       "      <td>Storage</td>\n",
       "      <td>Tenex Box, Single Width</td>\n",
       "      <td>66.120</td>\n",
       "      <td>4</td>\n",
       "      <td>0.0</td>\n",
       "      <td>29.640</td>\n",
       "      <td>8.17</td>\n",
       "      <td>High</td>\n",
       "    </tr>\n",
       "    <tr>\n",
       "      <th>3</th>\n",
       "      <td>11731</td>\n",
       "      <td>IT-2011-3647632</td>\n",
       "      <td>1/1/2011</td>\n",
       "      <td>5/1/2011</td>\n",
       "      <td>Second Class</td>\n",
       "      <td>EM-14140</td>\n",
       "      <td>Eugene Moren</td>\n",
       "      <td>Home Office</td>\n",
       "      <td>Stockholm</td>\n",
       "      <td>Stockholm</td>\n",
       "      <td>...</td>\n",
       "      <td>OFF-PA-10001492</td>\n",
       "      <td>Office Supplies</td>\n",
       "      <td>Paper</td>\n",
       "      <td>Enermax Note Cards, Premium</td>\n",
       "      <td>44.865</td>\n",
       "      <td>3</td>\n",
       "      <td>0.5</td>\n",
       "      <td>-26.055</td>\n",
       "      <td>4.82</td>\n",
       "      <td>High</td>\n",
       "    </tr>\n",
       "    <tr>\n",
       "      <th>4</th>\n",
       "      <td>22255</td>\n",
       "      <td>IN-2011-47883</td>\n",
       "      <td>1/1/2011</td>\n",
       "      <td>8/1/2011</td>\n",
       "      <td>Standard Class</td>\n",
       "      <td>JH-15985</td>\n",
       "      <td>Joseph Holt</td>\n",
       "      <td>Consumer</td>\n",
       "      <td>Wagga Wagga</td>\n",
       "      <td>New South Wales</td>\n",
       "      <td>...</td>\n",
       "      <td>FUR-FU-10003447</td>\n",
       "      <td>Furniture</td>\n",
       "      <td>Furnishings</td>\n",
       "      <td>Eldon Light Bulb, Duo Pack</td>\n",
       "      <td>113.670</td>\n",
       "      <td>5</td>\n",
       "      <td>0.1</td>\n",
       "      <td>37.770</td>\n",
       "      <td>4.70</td>\n",
       "      <td>Medium</td>\n",
       "    </tr>\n",
       "  </tbody>\n",
       "</table>\n",
       "<p>5 rows × 24 columns</p>\n",
       "</div>"
      ],
      "text/plain": [
       "   Row ID         Order ID Order Date Ship Date       Ship Mode Customer ID  \\\n",
       "0   42433     AG-2011-2040   1/1/2011  6/1/2011  Standard Class    TB-11280   \n",
       "1   22253    IN-2011-47883   1/1/2011  8/1/2011  Standard Class    JH-15985   \n",
       "2   48883     HU-2011-1220   1/1/2011  5/1/2011    Second Class      AT-735   \n",
       "3   11731  IT-2011-3647632   1/1/2011  5/1/2011    Second Class    EM-14140   \n",
       "4   22255    IN-2011-47883   1/1/2011  8/1/2011  Standard Class    JH-15985   \n",
       "\n",
       "     Customer Name      Segment         City            State  ...  \\\n",
       "0  Toby Braunhardt     Consumer  Constantine      Constantine  ...   \n",
       "1      Joseph Holt     Consumer  Wagga Wagga  New South Wales  ...   \n",
       "2    Annie Thurman     Consumer     Budapest         Budapest  ...   \n",
       "3     Eugene Moren  Home Office    Stockholm        Stockholm  ...   \n",
       "4      Joseph Holt     Consumer  Wagga Wagga  New South Wales  ...   \n",
       "\n",
       "         Product ID         Category Sub-Category  \\\n",
       "0  OFF-TEN-10000025  Office Supplies      Storage   \n",
       "1   OFF-SU-10000618  Office Supplies     Supplies   \n",
       "2  OFF-TEN-10001585  Office Supplies      Storage   \n",
       "3   OFF-PA-10001492  Office Supplies        Paper   \n",
       "4   FUR-FU-10003447        Furniture  Furnishings   \n",
       "\n",
       "                  Product Name    Sales Quantity Discount   Profit  \\\n",
       "0          Tenex Lockers, Blue  408.300        2      0.0  106.140   \n",
       "1     Acme Trimmer, High Speed  120.366        3      0.1   36.036   \n",
       "2      Tenex Box, Single Width   66.120        4      0.0   29.640   \n",
       "3  Enermax Note Cards, Premium   44.865        3      0.5  -26.055   \n",
       "4   Eldon Light Bulb, Duo Pack  113.670        5      0.1   37.770   \n",
       "\n",
       "   Shipping Cost  Order Priority  \n",
       "0          35.46          Medium  \n",
       "1           9.72          Medium  \n",
       "2           8.17            High  \n",
       "3           4.82            High  \n",
       "4           4.70          Medium  \n",
       "\n",
       "[5 rows x 24 columns]"
      ]
     },
     "execution_count": 30,
     "metadata": {},
     "output_type": "execute_result"
    }
   ],
   "source": [
    "import pandas as pd\n",
    "\n",
    "# Charger avec encodage compatible\n",
    "df = pd.read_csv(\"superstore.csv\", encoding='latin1')\n",
    "\n",
    "# Afficher les premières lignes\n",
    "df.head()\n"
   ]
  },
  {
   "cell_type": "markdown",
   "id": "0b70ec41",
   "metadata": {},
   "source": [
    "### 🔹 Étape 2 — Effectuer une normalisation Min-Max sur « Ventes » et « Bénéfice »\n",
    "\n",
    "⚠️ Vérifie que les noms exacts des colonnes sont bien \"Sales\" (ou \"Ventes\") et \"Profit\" (ou \"Bénéfice\"). Adapte-les si nécessaire :"
   ]
  },
  {
   "cell_type": "code",
   "execution_count": null,
   "id": "595160a2",
   "metadata": {},
   "outputs": [],
   "source": [
    "from sklearn.preprocessing import MinMaxScaler\n",
    "\n",
    "# Initialiser le scaler\n",
    "scaler = MinMaxScaler()\n",
    "\n",
    "# Normaliser Min-Max\n",
    "df['Sales_normalized'] = scaler.fit_transform(df[['Sales']])\n",
    "df['Profit_normalized'] = scaler.fit_transform(df[['Profit']])\n"
   ]
  },
  {
   "cell_type": "markdown",
   "id": "e062fb95",
   "metadata": {},
   "source": [
    "### 🔹 Étape 3 — Affichage des colonnes normalisées"
   ]
  },
  {
   "cell_type": "code",
   "execution_count": 32,
   "id": "9332e877",
   "metadata": {},
   "outputs": [
    {
     "data": {
      "application/vnd.microsoft.datawrangler.viewer.v0+json": {
       "columns": [
        {
         "name": "index",
         "rawType": "int64",
         "type": "integer"
        },
        {
         "name": "Sales",
         "rawType": "float64",
         "type": "float"
        },
        {
         "name": "Sales_normalized",
         "rawType": "float64",
         "type": "float"
        },
        {
         "name": "Profit",
         "rawType": "float64",
         "type": "float"
        },
        {
         "name": "Profit_normalized",
         "rawType": "float64",
         "type": "float"
        }
       ],
       "ref": "bcacdfbf-e898-498e-be60-60f094837f11",
       "rows": [
        [
         "0",
         "408.3",
         "0.018016403896521767",
         "106.14",
         "0.44707590436610667"
        ],
        [
         "1",
         "120.366",
         "0.005297367669174128",
         "36.036",
         "0.4424022900336894"
        ],
        [
         "2",
         "66.12",
         "0.0029011350631300346",
         "29.64",
         "0.4419758887260587"
        ],
        [
         "3",
         "44.865",
         "0.0019622285254780937",
         "-26.055",
         "0.4382628773394905"
        ],
        [
         "4",
         "113.67",
         "0.00500158229273953",
         "37.77",
         "0.44251789038819717"
        ]
       ],
       "shape": {
        "columns": 4,
        "rows": 5
       }
      },
      "text/html": [
       "<div>\n",
       "<style scoped>\n",
       "    .dataframe tbody tr th:only-of-type {\n",
       "        vertical-align: middle;\n",
       "    }\n",
       "\n",
       "    .dataframe tbody tr th {\n",
       "        vertical-align: top;\n",
       "    }\n",
       "\n",
       "    .dataframe thead th {\n",
       "        text-align: right;\n",
       "    }\n",
       "</style>\n",
       "<table border=\"1\" class=\"dataframe\">\n",
       "  <thead>\n",
       "    <tr style=\"text-align: right;\">\n",
       "      <th></th>\n",
       "      <th>Sales</th>\n",
       "      <th>Sales_normalized</th>\n",
       "      <th>Profit</th>\n",
       "      <th>Profit_normalized</th>\n",
       "    </tr>\n",
       "  </thead>\n",
       "  <tbody>\n",
       "    <tr>\n",
       "      <th>0</th>\n",
       "      <td>408.300</td>\n",
       "      <td>0.018016</td>\n",
       "      <td>106.140</td>\n",
       "      <td>0.447076</td>\n",
       "    </tr>\n",
       "    <tr>\n",
       "      <th>1</th>\n",
       "      <td>120.366</td>\n",
       "      <td>0.005297</td>\n",
       "      <td>36.036</td>\n",
       "      <td>0.442402</td>\n",
       "    </tr>\n",
       "    <tr>\n",
       "      <th>2</th>\n",
       "      <td>66.120</td>\n",
       "      <td>0.002901</td>\n",
       "      <td>29.640</td>\n",
       "      <td>0.441976</td>\n",
       "    </tr>\n",
       "    <tr>\n",
       "      <th>3</th>\n",
       "      <td>44.865</td>\n",
       "      <td>0.001962</td>\n",
       "      <td>-26.055</td>\n",
       "      <td>0.438263</td>\n",
       "    </tr>\n",
       "    <tr>\n",
       "      <th>4</th>\n",
       "      <td>113.670</td>\n",
       "      <td>0.005002</td>\n",
       "      <td>37.770</td>\n",
       "      <td>0.442518</td>\n",
       "    </tr>\n",
       "  </tbody>\n",
       "</table>\n",
       "</div>"
      ],
      "text/plain": [
       "     Sales  Sales_normalized   Profit  Profit_normalized\n",
       "0  408.300          0.018016  106.140           0.447076\n",
       "1  120.366          0.005297   36.036           0.442402\n",
       "2   66.120          0.002901   29.640           0.441976\n",
       "3   44.865          0.001962  -26.055           0.438263\n",
       "4  113.670          0.005002   37.770           0.442518"
      ]
     },
     "execution_count": 32,
     "metadata": {},
     "output_type": "execute_result"
    }
   ],
   "source": [
    "df[['Sales', 'Sales_normalized', 'Profit', 'Profit_normalized']].head()\n"
   ]
  },
  {
   "cell_type": "markdown",
   "id": "3d6534c5",
   "metadata": {},
   "source": [
    "### Objectif atteint :\n",
    "\n",
    "Données chargées ✔️\n",
    "\n",
    "Min-Max appliqué sur « Ventes » et « Bénéfice » ✔️\n",
    "\n",
    "Nouvelles colonnes Sales_normalized et Profit_normalized créées ✔️"
   ]
  },
  {
   "cell_type": "markdown",
   "id": "0b2cfbcb",
   "metadata": {},
   "source": [
    "## Exercice 6 : Agrégation des données sur la qualité de l'air\n",
    "Instructions\n",
    "Ensemble de données : Utiliser les données sur la qualité de l'air en Inde .\n",
    "\n",
    "Charger l’ensemble de données sur la qualité de l’air.\n",
    "Convertissez la colonne « Date » en un format date/heure.\n",
    "Regroupez les données par lieu et par mois, en calculant la moyenne des mesures clés (par exemple, PM2,5, PM10, NO2) pour chaque mois.\n",
    "Stockez les données agrégées dans un nouveau DataFrame et analysez les tendances de la qualité de l’air au fil du temps."
   ]
  },
  {
   "cell_type": "markdown",
   "id": "31323c75",
   "metadata": {},
   "source": [
    "### 🔹 Étape 1 – Charger les données de qualité de l’air"
   ]
  },
  {
   "cell_type": "code",
   "execution_count": null,
   "id": "b183eca9",
   "metadata": {},
   "outputs": [],
   "source": [
    "import pandas as pd\n",
    "\n",
    "# Charger les données avec le bon encodage\n",
    "df = pd.read_csv(\"city_hour.csv\", encoding='utf-8')\n",
    "\n",
    "# Conversion de la colonne 'Datetime' au format datetime\n",
    "df['Datetime'] = pd.to_datetime(df['Datetime'], errors='coerce')\n",
    "\n",
    "# Nettoyer : suppression des dates invalides\n",
    "df = df.dropna(subset=['Datetime'])\n"
   ]
  },
  {
   "cell_type": "markdown",
   "id": "5e97dff8",
   "metadata": {},
   "source": [
    "### 🔹 Étape 2 – Extraire le mois pour regrouper par période"
   ]
  },
  {
   "cell_type": "code",
   "execution_count": 37,
   "id": "bcbba660",
   "metadata": {},
   "outputs": [],
   "source": [
    "# Créer une colonne \"Month\" au format AAAA-MM\n",
    "df['Month'] = df['Datetime'].dt.to_period('M').astype(str)\n"
   ]
  },
  {
   "cell_type": "markdown",
   "id": "45326d22",
   "metadata": {},
   "source": [
    "### 🔹 Étape 3 – Agréger les données par ville et mois"
   ]
  },
  {
   "cell_type": "code",
   "execution_count": null,
   "id": "f624672b",
   "metadata": {},
   "outputs": [
    {
     "data": {
      "application/vnd.microsoft.datawrangler.viewer.v0+json": {
       "columns": [
        {
         "name": "index",
         "rawType": "int64",
         "type": "integer"
        },
        {
         "name": "City",
         "rawType": "object",
         "type": "string"
        },
        {
         "name": "Month",
         "rawType": "object",
         "type": "string"
        },
        {
         "name": "PM2.5",
         "rawType": "float64",
         "type": "float"
        },
        {
         "name": "PM10",
         "rawType": "float64",
         "type": "float"
        },
        {
         "name": "NO2",
         "rawType": "float64",
         "type": "float"
        }
       ],
       "ref": "299f6f89-f816-444a-ae21-c3df8c87d46f",
       "rows": [
        [
         "0",
         "Ahmedabad",
         "2015-01",
         "84.8624358974359",
         null,
         "26.58462196861626"
        ],
        [
         "1",
         "Ahmedabad",
         "2015-02",
         "116.91611205432936",
         null,
         "31.384364548494982"
        ],
        [
         "2",
         "Ahmedabad",
         "2015-03",
         "111.01961820851689",
         null,
         "28.395973837209304"
        ],
        [
         "3",
         "Ahmedabad",
         "2015-04",
         "99.01457191780823",
         null,
         "21.075330112721417"
        ],
        [
         "4",
         "Ahmedabad",
         "2015-05",
         "76.61957848837208",
         null,
         "17.576260623229462"
        ]
       ],
       "shape": {
        "columns": 5,
        "rows": 5
       }
      },
      "text/html": [
       "<div>\n",
       "<style scoped>\n",
       "    .dataframe tbody tr th:only-of-type {\n",
       "        vertical-align: middle;\n",
       "    }\n",
       "\n",
       "    .dataframe tbody tr th {\n",
       "        vertical-align: top;\n",
       "    }\n",
       "\n",
       "    .dataframe thead th {\n",
       "        text-align: right;\n",
       "    }\n",
       "</style>\n",
       "<table border=\"1\" class=\"dataframe\">\n",
       "  <thead>\n",
       "    <tr style=\"text-align: right;\">\n",
       "      <th></th>\n",
       "      <th>City</th>\n",
       "      <th>Month</th>\n",
       "      <th>PM2.5</th>\n",
       "      <th>PM10</th>\n",
       "      <th>NO2</th>\n",
       "    </tr>\n",
       "  </thead>\n",
       "  <tbody>\n",
       "    <tr>\n",
       "      <th>0</th>\n",
       "      <td>Ahmedabad</td>\n",
       "      <td>2015-01</td>\n",
       "      <td>84.862436</td>\n",
       "      <td>NaN</td>\n",
       "      <td>26.584622</td>\n",
       "    </tr>\n",
       "    <tr>\n",
       "      <th>1</th>\n",
       "      <td>Ahmedabad</td>\n",
       "      <td>2015-02</td>\n",
       "      <td>116.916112</td>\n",
       "      <td>NaN</td>\n",
       "      <td>31.384365</td>\n",
       "    </tr>\n",
       "    <tr>\n",
       "      <th>2</th>\n",
       "      <td>Ahmedabad</td>\n",
       "      <td>2015-03</td>\n",
       "      <td>111.019618</td>\n",
       "      <td>NaN</td>\n",
       "      <td>28.395974</td>\n",
       "    </tr>\n",
       "    <tr>\n",
       "      <th>3</th>\n",
       "      <td>Ahmedabad</td>\n",
       "      <td>2015-04</td>\n",
       "      <td>99.014572</td>\n",
       "      <td>NaN</td>\n",
       "      <td>21.075330</td>\n",
       "    </tr>\n",
       "    <tr>\n",
       "      <th>4</th>\n",
       "      <td>Ahmedabad</td>\n",
       "      <td>2015-05</td>\n",
       "      <td>76.619578</td>\n",
       "      <td>NaN</td>\n",
       "      <td>17.576261</td>\n",
       "    </tr>\n",
       "  </tbody>\n",
       "</table>\n",
       "</div>"
      ],
      "text/plain": [
       "        City    Month       PM2.5  PM10        NO2\n",
       "0  Ahmedabad  2015-01   84.862436   NaN  26.584622\n",
       "1  Ahmedabad  2015-02  116.916112   NaN  31.384365\n",
       "2  Ahmedabad  2015-03  111.019618   NaN  28.395974\n",
       "3  Ahmedabad  2015-04   99.014572   NaN  21.075330\n",
       "4  Ahmedabad  2015-05   76.619578   NaN  17.576261"
      ]
     },
     "execution_count": 38,
     "metadata": {},
     "output_type": "execute_result"
    }
   ],
   "source": [
    "# Lister les colonnes à agréger\n",
    "polluants = ['PM2.5', 'PM10', 'NO2']\n",
    "\n",
    "# Agréger par ville et par mois avec la moyenne\n",
    "agg_df = df.groupby(['City', 'Month'])[polluants].mean().reset_index()\n",
    "agg_df.head()\n"
   ]
  },
  {
   "cell_type": "markdown",
   "id": "8f5841fb",
   "metadata": {},
   "source": [
    "### 🔹 Étape 4 – Visualiser les tendances pour une ville (ex. Delhi)"
   ]
  },
  {
   "cell_type": "code",
   "execution_count": 39,
   "id": "2d9a3933",
   "metadata": {},
   "outputs": [
    {
     "data": {
      "image/png": "[encoded data removed]",
      "text/plain": [
       "<Figure size 1200x500 with 1 Axes>"
      ]
     },
     "metadata": {},
     "output_type": "display_data"
    }
   ],
   "source": [
    "import matplotlib.pyplot as plt\n",
    "\n",
    "# Filtrer les données pour une ville\n",
    "delhi_data = agg_df[agg_df['City'] == 'Delhi']\n",
    "\n",
    "# Tracer les tendances\n",
    "plt.figure(figsize=(12,5))\n",
    "for col in polluants:\n",
    "    plt.plot(delhi_data['Month'], delhi_data[col], label=col)\n",
    "\n",
    "plt.title(\"Évolution mensuelle des polluants à Delhi\")\n",
    "plt.xlabel(\"Mois\")\n",
    "plt.ylabel(\"Concentration moyenne (µg/m³)\")\n",
    "plt.xticks(rotation=45)\n",
    "plt.legend()\n",
    "plt.tight_layout()\n",
    "plt.show()\n"
   ]
  },
  {
   "cell_type": "markdown",
   "id": "7c97b98f",
   "metadata": {},
   "source": [
    "###  Résumé :\n",
    "\n",
    "✅ Données chargées depuis city_hour.csv\n",
    "\n",
    "✅ Conversion correcte de Datetime\n",
    "\n",
    "✅ Agrégation par City + Month\n",
    "\n",
    "✅ Moyennes de PM2.5, PM10, NO2\n",
    "\n",
    "✅ Visualisation mensuelle claire"
   ]
  }
 ],
 "metadata": {
  "kernelspec": {
   "display_name": "base",
   "language": "python",
   "name": "python3"
  },
  "language_info": {
   "codemirror_mode": {
    "name": "ipython",
    "version": 3
   },
   "file_extension": ".py",
   "mimetype": "text/x-python",
   "name": "python",
   "nbconvert_exporter": "python",
   "pygments_lexer": "ipython3",
   "version": "3.12.7"
  }
 },
 "nbformat": 4,
 "nbformat_minor": 5
}
