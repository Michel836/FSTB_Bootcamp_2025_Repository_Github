{
 "cells": [
  {
   "cell_type": "markdown",
   "id": "ed433155",
   "metadata": {},
   "source": [
    "# Exercises XP\n",
    "Last Updated: October 16th, 2024\n",
    "\n",
    "## What you will learn\n",
    "Identify and remove duplicate entries in the Titanic dataset.\n",
    "Explore various techniques for handling missing values in the Titanic dataset.\n",
    "Perform feature engineering on the Titanic dataset to create new meaningful attributes.\n",
    "Standardize and normalize numerical columns in the Titanic dataset for consistent scale.\n",
    "Transform the Age feature in the Titanic dataset for better representation and analysis.\n",
    "\n",
    "\n",
    "## What you will create\n",
    "A cleaned version of the Titanic dataset with duplicate rows removed.\n",
    "A version of the Titanic dataset where missing values have been addressed using various strategies like removal, imputation, and constant value filling.\n",
    "A Titanic dataset with standardized and normalized numerical columns.A Titanic dataset with passengers categorized into different age groups and these groups encoded into binary features.\n",
    "A Titanic dataset with encoded categorical features using one-hot and label encoding techniques.\n",
    "\n",
    "\n",
    "For all of the below exercises, you will use the Titanic dataset (train.csv), so load it beforehand on your notebook.\n",
    "You will notice in the following exercises that the dataset is already pretty clean but try and understand all of the functions used for preprocessing the data.\n",
    "Optionally, if you have time and willing to, you can redo the exercises with a less clean dataset : Weather Data Munich 1954-2022."
   ]
  },
  {
   "cell_type": "markdown",
   "id": "ca8ae8b1",
   "metadata": {},
   "source": [
    "# 🌟 Exercice 1 : Détection et suppression des doublons\n",
    "Instructions\n",
    "Objectif : identifier et supprimer les entrées en double dans l’ensemble de données Titanic.\n",
    "\n",
    "Charger l'ensemble de données Titanic.\n",
    "Identifiez s’il existe des lignes en double en fonction de toutes les colonnes.\n",
    "Supprimez toutes les lignes en double trouvées dans l’ensemble de données.\n",
    "Vérifiez la suppression des doublons en vérifiant le nombre de lignes avant et après la suppression des doublons.\n",
    "Astuce : utilisez les fonctions duplicated()et drop_duplicates()dans Pandas."
   ]
  },
  {
   "cell_type": "markdown",
   "id": "07af499c",
   "metadata": {},
   "source": [
    "## 1️⃣ Charger l'ensemble de données Titanic"
   ]
  },
  {
   "cell_type": "code",
   "execution_count": null,
   "id": "08be4f35",
   "metadata": {},
   "outputs": [
    {
     "data": {
      "application/vnd.microsoft.datawrangler.viewer.v0+json": {
       "columns": [
        {
         "name": "index",
         "rawType": "int64",
         "type": "integer"
        },
        {
         "name": "PassengerId",
         "rawType": "int64",
         "type": "integer"
        },
        {
         "name": "Survived",
         "rawType": "int64",
         "type": "integer"
        },
        {
         "name": "Pclass",
         "rawType": "int64",
         "type": "integer"
        },
        {
         "name": "Name",
         "rawType": "object",
         "type": "string"
        },
        {
         "name": "Sex",
         "rawType": "object",
         "type": "string"
        },
        {
         "name": "Age",
         "rawType": "float64",
         "type": "float"
        },
        {
         "name": "SibSp",
         "rawType": "int64",
         "type": "integer"
        },
        {
         "name": "Parch",
         "rawType": "int64",
         "type": "integer"
        },
        {
         "name": "Ticket",
         "rawType": "object",
         "type": "string"
        },
        {
         "name": "Fare",
         "rawType": "float64",
         "type": "float"
        },
        {
         "name": "Cabin",
         "rawType": "object",
         "type": "unknown"
        },
        {
         "name": "Embarked",
         "rawType": "object",
         "type": "string"
        }
       ],
       "ref": "142c8ef8-c7dd-4fd1-848c-61bbab49b7f7",
       "rows": [
        [
         "0",
         "1",
         "0",
         "3",
         "Braund, Mr. Owen Harris",
         "male",
         "22.0",
         "1",
         "0",
         "A/5 21171",
         "7.25",
         null,
         "S"
        ],
        [
         "1",
         "2",
         "1",
         "1",
         "Cumings, Mrs. John Bradley (Florence Briggs Thayer)",
         "female",
         "38.0",
         "1",
         "0",
         "PC 17599",
         "71.2833",
         "C85",
         "C"
        ],
        [
         "2",
         "3",
         "1",
         "3",
         "Heikkinen, Miss. Laina",
         "female",
         "26.0",
         "0",
         "0",
         "STON/O2. 3101282",
         "7.925",
         null,
         "S"
        ],
        [
         "3",
         "4",
         "1",
         "1",
         "Futrelle, Mrs. Jacques Heath (Lily May Peel)",
         "female",
         "35.0",
         "1",
         "0",
         "113803",
         "53.1",
         "C123",
         "S"
        ],
        [
         "4",
         "5",
         "0",
         "3",
         "Allen, Mr. William Henry",
         "male",
         "35.0",
         "0",
         "0",
         "373450",
         "8.05",
         null,
         "S"
        ]
       ],
       "shape": {
        "columns": 12,
        "rows": 5
       }
      },
      "text/html": [
       "<div>\n",
       "<style scoped>\n",
       "    .dataframe tbody tr th:only-of-type {\n",
       "        vertical-align: middle;\n",
       "    }\n",
       "\n",
       "    .dataframe tbody tr th {\n",
       "        vertical-align: top;\n",
       "    }\n",
       "\n",
       "    .dataframe thead th {\n",
       "        text-align: right;\n",
       "    }\n",
       "</style>\n",
       "<table border=\"1\" class=\"dataframe\">\n",
       "  <thead>\n",
       "    <tr style=\"text-align: right;\">\n",
       "      <th></th>\n",
       "      <th>PassengerId</th>\n",
       "      <th>Survived</th>\n",
       "      <th>Pclass</th>\n",
       "      <th>Name</th>\n",
       "      <th>Sex</th>\n",
       "      <th>Age</th>\n",
       "      <th>SibSp</th>\n",
       "      <th>Parch</th>\n",
       "      <th>Ticket</th>\n",
       "      <th>Fare</th>\n",
       "      <th>Cabin</th>\n",
       "      <th>Embarked</th>\n",
       "    </tr>\n",
       "  </thead>\n",
       "  <tbody>\n",
       "    <tr>\n",
       "      <th>0</th>\n",
       "      <td>1</td>\n",
       "      <td>0</td>\n",
       "      <td>3</td>\n",
       "      <td>Braund, Mr. Owen Harris</td>\n",
       "      <td>male</td>\n",
       "      <td>22.0</td>\n",
       "      <td>1</td>\n",
       "      <td>0</td>\n",
       "      <td>A/5 21171</td>\n",
       "      <td>7.2500</td>\n",
       "      <td>NaN</td>\n",
       "      <td>S</td>\n",
       "    </tr>\n",
       "    <tr>\n",
       "      <th>1</th>\n",
       "      <td>2</td>\n",
       "      <td>1</td>\n",
       "      <td>1</td>\n",
       "      <td>Cumings, Mrs. John Bradley (Florence Briggs Th...</td>\n",
       "      <td>female</td>\n",
       "      <td>38.0</td>\n",
       "      <td>1</td>\n",
       "      <td>0</td>\n",
       "      <td>PC 17599</td>\n",
       "      <td>71.2833</td>\n",
       "      <td>C85</td>\n",
       "      <td>C</td>\n",
       "    </tr>\n",
       "    <tr>\n",
       "      <th>2</th>\n",
       "      <td>3</td>\n",
       "      <td>1</td>\n",
       "      <td>3</td>\n",
       "      <td>Heikkinen, Miss. Laina</td>\n",
       "      <td>female</td>\n",
       "      <td>26.0</td>\n",
       "      <td>0</td>\n",
       "      <td>0</td>\n",
       "      <td>STON/O2. 3101282</td>\n",
       "      <td>7.9250</td>\n",
       "      <td>NaN</td>\n",
       "      <td>S</td>\n",
       "    </tr>\n",
       "    <tr>\n",
       "      <th>3</th>\n",
       "      <td>4</td>\n",
       "      <td>1</td>\n",
       "      <td>1</td>\n",
       "      <td>Futrelle, Mrs. Jacques Heath (Lily May Peel)</td>\n",
       "      <td>female</td>\n",
       "      <td>35.0</td>\n",
       "      <td>1</td>\n",
       "      <td>0</td>\n",
       "      <td>113803</td>\n",
       "      <td>53.1000</td>\n",
       "      <td>C123</td>\n",
       "      <td>S</td>\n",
       "    </tr>\n",
       "    <tr>\n",
       "      <th>4</th>\n",
       "      <td>5</td>\n",
       "      <td>0</td>\n",
       "      <td>3</td>\n",
       "      <td>Allen, Mr. William Henry</td>\n",
       "      <td>male</td>\n",
       "      <td>35.0</td>\n",
       "      <td>0</td>\n",
       "      <td>0</td>\n",
       "      <td>373450</td>\n",
       "      <td>8.0500</td>\n",
       "      <td>NaN</td>\n",
       "      <td>S</td>\n",
       "    </tr>\n",
       "  </tbody>\n",
       "</table>\n",
       "</div>"
      ],
      "text/plain": [
       "   PassengerId  Survived  Pclass  \\\n",
       "0            1         0       3   \n",
       "1            2         1       1   \n",
       "2            3         1       3   \n",
       "3            4         1       1   \n",
       "4            5         0       3   \n",
       "\n",
       "                                                Name     Sex   Age  SibSp  \\\n",
       "0                            Braund, Mr. Owen Harris    male  22.0      1   \n",
       "1  Cumings, Mrs. John Bradley (Florence Briggs Th...  female  38.0      1   \n",
       "2                             Heikkinen, Miss. Laina  female  26.0      0   \n",
       "3       Futrelle, Mrs. Jacques Heath (Lily May Peel)  female  35.0      1   \n",
       "4                           Allen, Mr. William Henry    male  35.0      0   \n",
       "\n",
       "   Parch            Ticket     Fare Cabin Embarked  \n",
       "0      0         A/5 21171   7.2500   NaN        S  \n",
       "1      0          PC 17599  71.2833   C85        C  \n",
       "2      0  STON/O2. 3101282   7.9250   NaN        S  \n",
       "3      0            113803  53.1000  C123        S  \n",
       "4      0            373450   8.0500   NaN        S  "
      ]
     },
     "execution_count": 1,
     "metadata": {},
     "output_type": "execute_result"
    }
   ],
   "source": [
    "import pandas as pd\n",
    "\n",
    "# Charger le fichier Titanic\n",
    "url = \"train.csv\"\n",
    "df = pd.read_csv(url)\n",
    "\n",
    "# Afficher les 5 premières lignes pour voir à quoi ressemble le jeu de données\n",
    "df.head()\n"
   ]
  },
  {
   "cell_type": "markdown",
   "id": "b267f454",
   "metadata": {},
   "source": [
    "## 2️⃣ Identifier s’il existe des lignes en double (sur toutes les colonnes)\n"
   ]
  },
  {
   "cell_type": "code",
   "execution_count": 2,
   "id": "35c44e90",
   "metadata": {},
   "outputs": [
    {
     "name": "stdout",
     "output_type": "stream",
     "text": [
      "Nombre de doublons trouvés : 0\n"
     ]
    }
   ],
   "source": [
    "# .duplicated() renvoie True si une ligne est un doublon de la précédente (toutes colonnes confondues)\n",
    "# On compte le nombre total de doublons\n",
    "nb_doublons = df.duplicated().sum()\n",
    "\n",
    "print(f\"Nombre de doublons trouvés : {nb_doublons}\")\n"
   ]
  },
  {
   "cell_type": "markdown",
   "id": "3f7f4d96",
   "metadata": {},
   "source": [
    "## 3️⃣ Supprimer toutes les lignes en double"
   ]
  },
  {
   "cell_type": "code",
   "execution_count": null,
   "id": "eafb07b9",
   "metadata": {},
   "outputs": [
    {
     "data": {
      "application/vnd.microsoft.datawrangler.viewer.v0+json": {
       "columns": [
        {
         "name": "index",
         "rawType": "int64",
         "type": "integer"
        },
        {
         "name": "PassengerId",
         "rawType": "int64",
         "type": "integer"
        },
        {
         "name": "Survived",
         "rawType": "int64",
         "type": "integer"
        },
        {
         "name": "Pclass",
         "rawType": "int64",
         "type": "integer"
        },
        {
         "name": "Name",
         "rawType": "object",
         "type": "string"
        },
        {
         "name": "Sex",
         "rawType": "object",
         "type": "string"
        },
        {
         "name": "Age",
         "rawType": "float64",
         "type": "float"
        },
        {
         "name": "SibSp",
         "rawType": "int64",
         "type": "integer"
        },
        {
         "name": "Parch",
         "rawType": "int64",
         "type": "integer"
        },
        {
         "name": "Ticket",
         "rawType": "object",
         "type": "string"
        },
        {
         "name": "Fare",
         "rawType": "float64",
         "type": "float"
        },
        {
         "name": "Cabin",
         "rawType": "object",
         "type": "unknown"
        },
        {
         "name": "Embarked",
         "rawType": "object",
         "type": "string"
        }
       ],
       "ref": "d802a284-f9c4-4949-bc64-a23bc0a48375",
       "rows": [
        [
         "0",
         "1",
         "0",
         "3",
         "Braund, Mr. Owen Harris",
         "male",
         "22.0",
         "1",
         "0",
         "A/5 21171",
         "7.25",
         null,
         "S"
        ],
        [
         "1",
         "2",
         "1",
         "1",
         "Cumings, Mrs. John Bradley (Florence Briggs Thayer)",
         "female",
         "38.0",
         "1",
         "0",
         "PC 17599",
         "71.2833",
         "C85",
         "C"
        ],
        [
         "2",
         "3",
         "1",
         "3",
         "Heikkinen, Miss. Laina",
         "female",
         "26.0",
         "0",
         "0",
         "STON/O2. 3101282",
         "7.925",
         null,
         "S"
        ],
        [
         "3",
         "4",
         "1",
         "1",
         "Futrelle, Mrs. Jacques Heath (Lily May Peel)",
         "female",
         "35.0",
         "1",
         "0",
         "113803",
         "53.1",
         "C123",
         "S"
        ],
        [
         "4",
         "5",
         "0",
         "3",
         "Allen, Mr. William Henry",
         "male",
         "35.0",
         "0",
         "0",
         "373450",
         "8.05",
         null,
         "S"
        ]
       ],
       "shape": {
        "columns": 12,
        "rows": 5
       }
      },
      "text/html": [
       "<div>\n",
       "<style scoped>\n",
       "    .dataframe tbody tr th:only-of-type {\n",
       "        vertical-align: middle;\n",
       "    }\n",
       "\n",
       "    .dataframe tbody tr th {\n",
       "        vertical-align: top;\n",
       "    }\n",
       "\n",
       "    .dataframe thead th {\n",
       "        text-align: right;\n",
       "    }\n",
       "</style>\n",
       "<table border=\"1\" class=\"dataframe\">\n",
       "  <thead>\n",
       "    <tr style=\"text-align: right;\">\n",
       "      <th></th>\n",
       "      <th>PassengerId</th>\n",
       "      <th>Survived</th>\n",
       "      <th>Pclass</th>\n",
       "      <th>Name</th>\n",
       "      <th>Sex</th>\n",
       "      <th>Age</th>\n",
       "      <th>SibSp</th>\n",
       "      <th>Parch</th>\n",
       "      <th>Ticket</th>\n",
       "      <th>Fare</th>\n",
       "      <th>Cabin</th>\n",
       "      <th>Embarked</th>\n",
       "    </tr>\n",
       "  </thead>\n",
       "  <tbody>\n",
       "    <tr>\n",
       "      <th>0</th>\n",
       "      <td>1</td>\n",
       "      <td>0</td>\n",
       "      <td>3</td>\n",
       "      <td>Braund, Mr. Owen Harris</td>\n",
       "      <td>male</td>\n",
       "      <td>22.0</td>\n",
       "      <td>1</td>\n",
       "      <td>0</td>\n",
       "      <td>A/5 21171</td>\n",
       "      <td>7.2500</td>\n",
       "      <td>NaN</td>\n",
       "      <td>S</td>\n",
       "    </tr>\n",
       "    <tr>\n",
       "      <th>1</th>\n",
       "      <td>2</td>\n",
       "      <td>1</td>\n",
       "      <td>1</td>\n",
       "      <td>Cumings, Mrs. John Bradley (Florence Briggs Th...</td>\n",
       "      <td>female</td>\n",
       "      <td>38.0</td>\n",
       "      <td>1</td>\n",
       "      <td>0</td>\n",
       "      <td>PC 17599</td>\n",
       "      <td>71.2833</td>\n",
       "      <td>C85</td>\n",
       "      <td>C</td>\n",
       "    </tr>\n",
       "    <tr>\n",
       "      <th>2</th>\n",
       "      <td>3</td>\n",
       "      <td>1</td>\n",
       "      <td>3</td>\n",
       "      <td>Heikkinen, Miss. Laina</td>\n",
       "      <td>female</td>\n",
       "      <td>26.0</td>\n",
       "      <td>0</td>\n",
       "      <td>0</td>\n",
       "      <td>STON/O2. 3101282</td>\n",
       "      <td>7.9250</td>\n",
       "      <td>NaN</td>\n",
       "      <td>S</td>\n",
       "    </tr>\n",
       "    <tr>\n",
       "      <th>3</th>\n",
       "      <td>4</td>\n",
       "      <td>1</td>\n",
       "      <td>1</td>\n",
       "      <td>Futrelle, Mrs. Jacques Heath (Lily May Peel)</td>\n",
       "      <td>female</td>\n",
       "      <td>35.0</td>\n",
       "      <td>1</td>\n",
       "      <td>0</td>\n",
       "      <td>113803</td>\n",
       "      <td>53.1000</td>\n",
       "      <td>C123</td>\n",
       "      <td>S</td>\n",
       "    </tr>\n",
       "    <tr>\n",
       "      <th>4</th>\n",
       "      <td>5</td>\n",
       "      <td>0</td>\n",
       "      <td>3</td>\n",
       "      <td>Allen, Mr. William Henry</td>\n",
       "      <td>male</td>\n",
       "      <td>35.0</td>\n",
       "      <td>0</td>\n",
       "      <td>0</td>\n",
       "      <td>373450</td>\n",
       "      <td>8.0500</td>\n",
       "      <td>NaN</td>\n",
       "      <td>S</td>\n",
       "    </tr>\n",
       "  </tbody>\n",
       "</table>\n",
       "</div>"
      ],
      "text/plain": [
       "   PassengerId  Survived  Pclass  \\\n",
       "0            1         0       3   \n",
       "1            2         1       1   \n",
       "2            3         1       3   \n",
       "3            4         1       1   \n",
       "4            5         0       3   \n",
       "\n",
       "                                                Name     Sex   Age  SibSp  \\\n",
       "0                            Braund, Mr. Owen Harris    male  22.0      1   \n",
       "1  Cumings, Mrs. John Bradley (Florence Briggs Th...  female  38.0      1   \n",
       "2                             Heikkinen, Miss. Laina  female  26.0      0   \n",
       "3       Futrelle, Mrs. Jacques Heath (Lily May Peel)  female  35.0      1   \n",
       "4                           Allen, Mr. William Henry    male  35.0      0   \n",
       "\n",
       "   Parch            Ticket     Fare Cabin Embarked  \n",
       "0      0         A/5 21171   7.2500   NaN        S  \n",
       "1      0          PC 17599  71.2833   C85        C  \n",
       "2      0  STON/O2. 3101282   7.9250   NaN        S  \n",
       "3      0            113803  53.1000  C123        S  \n",
       "4      0            373450   8.0500   NaN        S  "
      ]
     },
     "execution_count": 3,
     "metadata": {},
     "output_type": "execute_result"
    }
   ],
   "source": [
    "# Supprimer les doublons avec drop_duplicates(), inplace=True modifie directement df\n",
    "df_sans_doublons = df.drop_duplicates()\n",
    "\n",
    "# Afficher le nouveau DataFrame (5 premières lignes pour vérifier)\n",
    "df_sans_doublons.head()\n"
   ]
  },
  {
   "cell_type": "markdown",
   "id": "c7002b02",
   "metadata": {},
   "source": [
    "## 4️⃣ Vérifier le nombre de lignes avant et après la suppression"
   ]
  },
  {
   "cell_type": "code",
   "execution_count": 4,
   "id": "78067f3a",
   "metadata": {},
   "outputs": [
    {
     "name": "stdout",
     "output_type": "stream",
     "text": [
      "Nombre de lignes avant suppression : 891\n",
      "Nombre de lignes après suppression : 891\n",
      "Nombre de lignes supprimées : 0\n"
     ]
    }
   ],
   "source": [
    "# Nombre de lignes avant\n",
    "nb_lignes_avant = df.shape[0]\n",
    "# Nombre de lignes après\n",
    "nb_lignes_apres = df_sans_doublons.shape[0]\n",
    "\n",
    "print(f\"Nombre de lignes avant suppression : {nb_lignes_avant}\")\n",
    "print(f\"Nombre de lignes après suppression : {nb_lignes_apres}\")\n",
    "print(f\"Nombre de lignes supprimées : {nb_lignes_avant - nb_lignes_apres}\")\n"
   ]
  },
  {
   "cell_type": "markdown",
   "id": "4bd33a62",
   "metadata": {},
   "source": [
    "# 🌟 Exercice 2 : Gestion des valeurs manquantes\n",
    "Instructions\n",
    "Identifiez les colonnes de l’ensemble de données Titanic avec des valeurs manquantes.\n",
    "Explorez différentes stratégies de gestion des données manquantes, telles que la suppression, l’imputation et le remplissage avec une valeur constante.\n",
    "Appliquez chaque stratégie à différentes colonnes en fonction de la nature des données.\n",
    "Astuce : passez en revue les méthodes telles que dropna(), fillna(), et SimpleImputerde scikit-learn."
   ]
  },
  {
   "cell_type": "markdown",
   "id": "3ccddb0d",
   "metadata": {},
   "source": [
    "## 1️⃣ Identifier les colonnes avec des valeurs manquantes"
   ]
  },
  {
   "cell_type": "code",
   "execution_count": null,
   "id": "4e60fdf1",
   "metadata": {},
   "outputs": [
    {
     "name": "stdout",
     "output_type": "stream",
     "text": [
      "Colonnes avec des valeurs manquantes :\n",
      "Age         177\n",
      "Cabin       687\n",
      "Embarked      2\n",
      "dtype: int64\n"
     ]
    }
   ],
   "source": [
    "# Afficher le nombre de valeurs manquantes par colonne\n",
    "valeurs_manquantes = df.isnull().sum()\n",
    "\n",
    "# Afficher uniquement les colonnes où il manque au moins une valeur\n",
    "colonnes_manquantes = valeurs_manquantes[valeurs_manquantes > 0]\n",
    "print(\"Colonnes avec des valeurs manquantes :\")\n",
    "print(colonnes_manquantes)\n"
   ]
  },
  {
   "cell_type": "markdown",
   "id": "26c40238",
   "metadata": {},
   "source": [
    "## 2️⃣ Stratégie 1 : Suppression des lignes avec valeurs manquantes (dropna())"
   ]
  },
  {
   "cell_type": "code",
   "execution_count": null,
   "id": "2c106c05",
   "metadata": {},
   "outputs": [
    {
     "name": "stdout",
     "output_type": "stream",
     "text": [
      "Nombre de lignes après suppression : 183\n"
     ]
    }
   ],
   "source": [
    "# Créer une copie du DataFrame pour cette stratégie\n",
    "df_dropna = df.dropna()\n",
    "\n",
    "print(f\"Nombre de lignes après suppression : {df_dropna.shape[0]}\")\n"
   ]
  },
  {
   "cell_type": "markdown",
   "id": "2e20b660",
   "metadata": {},
   "source": [
    "## 3️⃣ Stratégie 2 : Remplir avec une valeur constante (fillna())"
   ]
  },
  {
   "cell_type": "code",
   "execution_count": null,
   "id": "e223c095",
   "metadata": {},
   "outputs": [
    {
     "name": "stdout",
     "output_type": "stream",
     "text": [
      "Valeurs manquantes après remplissage :\n",
      "PassengerId      0\n",
      "Survived         0\n",
      "Pclass           0\n",
      "Name             0\n",
      "Sex              0\n",
      "Age              0\n",
      "SibSp            0\n",
      "Parch            0\n",
      "Ticket           0\n",
      "Fare             0\n",
      "Cabin          687\n",
      "Embarked         0\n",
      "dtype: int64\n"
     ]
    }
   ],
   "source": [
    "# Remplir les valeurs manquantes de la colonne 'Embarked' avec 'U' (pour 'Unknown')\n",
    "df_fillna = df.copy()\n",
    "df_fillna['Embarked'] = df_fillna['Embarked'].fillna('U')\n",
    "\n",
    "# Remplir les valeurs manquantes de la colonne 'Age' avec 0 (mauvaise pratique, mais démonstration)\n",
    "df_fillna['Age'] = df_fillna['Age'].fillna(0)\n",
    "\n",
    "# Vérification rapide\n",
    "print(\"Valeurs manquantes après remplissage :\")\n",
    "print(df_fillna.isnull().sum())\n"
   ]
  },
  {
   "cell_type": "markdown",
   "id": "cd8b7ec0",
   "metadata": {},
   "source": [
    "## 4️⃣ Stratégie 3 : Imputation avec la moyenne ou la médiane (SimpleImputer de scikit-learn)"
   ]
  },
  {
   "cell_type": "code",
   "execution_count": null,
   "id": "25bfd33b",
   "metadata": {},
   "outputs": [
    {
     "name": "stdout",
     "output_type": "stream",
     "text": [
      "Valeurs manquantes après imputation :\n",
      "PassengerId      0\n",
      "Survived         0\n",
      "Pclass           0\n",
      "Name             0\n",
      "Sex              0\n",
      "Age              0\n",
      "SibSp            0\n",
      "Parch            0\n",
      "Ticket           0\n",
      "Fare             0\n",
      "Cabin          687\n",
      "Embarked         2\n",
      "dtype: int64\n"
     ]
    }
   ],
   "source": [
    "from sklearn.impute import SimpleImputer\n",
    "\n",
    "# Créer une copie pour cette stratégie\n",
    "df_impute = df.copy()\n",
    "\n",
    "# Imputater la colonne 'Age' avec la moyenne\n",
    "imputer_age = SimpleImputer(strategy='mean')\n",
    "df_impute['Age'] = imputer_age.fit_transform(df_impute[['Age']])\n",
    "\n",
    "# Imputater la colonne 'Fare' avec la médiane\n",
    "imputer_fare = SimpleImputer(strategy='median')\n",
    "df_impute['Fare'] = imputer_fare.fit_transform(df_impute[['Fare']])\n",
    "\n",
    "# Vérification rapide\n",
    "print(\"Valeurs manquantes après imputation :\")\n",
    "print(df_impute.isnull().sum())\n"
   ]
  },
  {
   "cell_type": "markdown",
   "id": "db2086d1",
   "metadata": {},
   "source": [
    "# 🌟 Exercice 3 : Ingénierie des fonctionnalités\n",
    "Instructions\n",
    "Créez de nouvelles fonctionnalités, telles que Family Sizefrom SibSpet Parch, et Titleextraites de la Namecolonne.\n",
    "Convertissez les variables catégorielles en forme numérique à l'aide de techniques telles que l'encodage one-hot ou l'encodage d'étiquettes.\n",
    "Normaliser ou standardiser les caractéristiques numériques si nécessaire.\n",
    "Astuce : utilisez Pandas pour la manipulation des données et le module de prétraitement de scikit-learn pour l'encodage."
   ]
  },
  {
   "cell_type": "markdown",
   "id": "a5754ebd",
   "metadata": {},
   "source": [
    "## 1️⃣ Créer une nouvelle colonne : FamilySize à partir de SibSp et Parch"
   ]
  },
  {
   "cell_type": "code",
   "execution_count": 9,
   "id": "78e89763",
   "metadata": {},
   "outputs": [
    {
     "data": {
      "application/vnd.microsoft.datawrangler.viewer.v0+json": {
       "columns": [
        {
         "name": "index",
         "rawType": "int64",
         "type": "integer"
        },
        {
         "name": "SibSp",
         "rawType": "int64",
         "type": "integer"
        },
        {
         "name": "Parch",
         "rawType": "int64",
         "type": "integer"
        },
        {
         "name": "FamilySize",
         "rawType": "int64",
         "type": "integer"
        }
       ],
       "ref": "02d5603c-1370-4569-8b44-828bb32cfc77",
       "rows": [
        [
         "0",
         "1",
         "0",
         "2"
        ],
        [
         "1",
         "1",
         "0",
         "2"
        ],
        [
         "2",
         "0",
         "0",
         "1"
        ],
        [
         "3",
         "1",
         "0",
         "2"
        ],
        [
         "4",
         "0",
         "0",
         "1"
        ]
       ],
       "shape": {
        "columns": 3,
        "rows": 5
       }
      },
      "text/html": [
       "<div>\n",
       "<style scoped>\n",
       "    .dataframe tbody tr th:only-of-type {\n",
       "        vertical-align: middle;\n",
       "    }\n",
       "\n",
       "    .dataframe tbody tr th {\n",
       "        vertical-align: top;\n",
       "    }\n",
       "\n",
       "    .dataframe thead th {\n",
       "        text-align: right;\n",
       "    }\n",
       "</style>\n",
       "<table border=\"1\" class=\"dataframe\">\n",
       "  <thead>\n",
       "    <tr style=\"text-align: right;\">\n",
       "      <th></th>\n",
       "      <th>SibSp</th>\n",
       "      <th>Parch</th>\n",
       "      <th>FamilySize</th>\n",
       "    </tr>\n",
       "  </thead>\n",
       "  <tbody>\n",
       "    <tr>\n",
       "      <th>0</th>\n",
       "      <td>1</td>\n",
       "      <td>0</td>\n",
       "      <td>2</td>\n",
       "    </tr>\n",
       "    <tr>\n",
       "      <th>1</th>\n",
       "      <td>1</td>\n",
       "      <td>0</td>\n",
       "      <td>2</td>\n",
       "    </tr>\n",
       "    <tr>\n",
       "      <th>2</th>\n",
       "      <td>0</td>\n",
       "      <td>0</td>\n",
       "      <td>1</td>\n",
       "    </tr>\n",
       "    <tr>\n",
       "      <th>3</th>\n",
       "      <td>1</td>\n",
       "      <td>0</td>\n",
       "      <td>2</td>\n",
       "    </tr>\n",
       "    <tr>\n",
       "      <th>4</th>\n",
       "      <td>0</td>\n",
       "      <td>0</td>\n",
       "      <td>1</td>\n",
       "    </tr>\n",
       "  </tbody>\n",
       "</table>\n",
       "</div>"
      ],
      "text/plain": [
       "   SibSp  Parch  FamilySize\n",
       "0      1      0           2\n",
       "1      1      0           2\n",
       "2      0      0           1\n",
       "3      1      0           2\n",
       "4      0      0           1"
      ]
     },
     "execution_count": 9,
     "metadata": {},
     "output_type": "execute_result"
    }
   ],
   "source": [
    "# FamilySize = nombre de frères/soeurs/conjoints à bord + nombre de parents/enfants à bord + 1 (pour soi-même)\n",
    "df['FamilySize'] = df['SibSp'] + df['Parch'] + 1\n",
    "\n",
    "# Vérification\n",
    "df[['SibSp', 'Parch', 'FamilySize']].head()\n"
   ]
  },
  {
   "cell_type": "markdown",
   "id": "39c711ec",
   "metadata": {},
   "source": [
    "## 2️⃣ Extraire le Title (Monsieur, Miss, etc.) depuis la colonne Name"
   ]
  },
  {
   "cell_type": "code",
   "execution_count": null,
   "id": "cc3593d2",
   "metadata": {},
   "outputs": [
    {
     "data": {
      "application/vnd.microsoft.datawrangler.viewer.v0+json": {
       "columns": [
        {
         "name": "index",
         "rawType": "int64",
         "type": "integer"
        },
        {
         "name": "Name",
         "rawType": "object",
         "type": "string"
        },
        {
         "name": "Title",
         "rawType": "object",
         "type": "string"
        }
       ],
       "ref": "6e081148-6cdd-4007-bf77-e29ca3d346a3",
       "rows": [
        [
         "0",
         "Braund, Mr. Owen Harris",
         "Mr"
        ],
        [
         "1",
         "Cumings, Mrs. John Bradley (Florence Briggs Thayer)",
         "Mrs"
        ],
        [
         "2",
         "Heikkinen, Miss. Laina",
         "Miss"
        ],
        [
         "3",
         "Futrelle, Mrs. Jacques Heath (Lily May Peel)",
         "Mrs"
        ],
        [
         "4",
         "Allen, Mr. William Henry",
         "Mr"
        ]
       ],
       "shape": {
        "columns": 2,
        "rows": 5
       }
      },
      "text/html": [
       "<div>\n",
       "<style scoped>\n",
       "    .dataframe tbody tr th:only-of-type {\n",
       "        vertical-align: middle;\n",
       "    }\n",
       "\n",
       "    .dataframe tbody tr th {\n",
       "        vertical-align: top;\n",
       "    }\n",
       "\n",
       "    .dataframe thead th {\n",
       "        text-align: right;\n",
       "    }\n",
       "</style>\n",
       "<table border=\"1\" class=\"dataframe\">\n",
       "  <thead>\n",
       "    <tr style=\"text-align: right;\">\n",
       "      <th></th>\n",
       "      <th>Name</th>\n",
       "      <th>Title</th>\n",
       "    </tr>\n",
       "  </thead>\n",
       "  <tbody>\n",
       "    <tr>\n",
       "      <th>0</th>\n",
       "      <td>Braund, Mr. Owen Harris</td>\n",
       "      <td>Mr</td>\n",
       "    </tr>\n",
       "    <tr>\n",
       "      <th>1</th>\n",
       "      <td>Cumings, Mrs. John Bradley (Florence Briggs Th...</td>\n",
       "      <td>Mrs</td>\n",
       "    </tr>\n",
       "    <tr>\n",
       "      <th>2</th>\n",
       "      <td>Heikkinen, Miss. Laina</td>\n",
       "      <td>Miss</td>\n",
       "    </tr>\n",
       "    <tr>\n",
       "      <th>3</th>\n",
       "      <td>Futrelle, Mrs. Jacques Heath (Lily May Peel)</td>\n",
       "      <td>Mrs</td>\n",
       "    </tr>\n",
       "    <tr>\n",
       "      <th>4</th>\n",
       "      <td>Allen, Mr. William Henry</td>\n",
       "      <td>Mr</td>\n",
       "    </tr>\n",
       "  </tbody>\n",
       "</table>\n",
       "</div>"
      ],
      "text/plain": [
       "                                                Name Title\n",
       "0                            Braund, Mr. Owen Harris    Mr\n",
       "1  Cumings, Mrs. John Bradley (Florence Briggs Th...   Mrs\n",
       "2                             Heikkinen, Miss. Laina  Miss\n",
       "3       Futrelle, Mrs. Jacques Heath (Lily May Peel)   Mrs\n",
       "4                           Allen, Mr. William Henry    Mr"
      ]
     },
     "execution_count": 10,
     "metadata": {},
     "output_type": "execute_result"
    }
   ],
   "source": [
    "# Titre est entre la virgule et le point dans Name\n",
    "df['Title'] = df['Name'].str.extract(', (\\w+)\\.')\n",
    "\n",
    "# Vérification\n",
    "df[['Name', 'Title']].head()\n"
   ]
  },
  {
   "cell_type": "markdown",
   "id": "3b6cba89",
   "metadata": {},
   "source": [
    "## 3️⃣ Encodage des variables catégorielles (one-hot ou label encoding)"
   ]
  },
  {
   "cell_type": "code",
   "execution_count": null,
   "id": "37d0c62e",
   "metadata": {},
   "outputs": [
    {
     "name": "stdout",
     "output_type": "stream",
     "text": [
      "      Sex  Sex_encoded\n",
      "0    male            1\n",
      "1  female            0\n",
      "2  female            0\n",
      "3  female            0\n",
      "4    male            1\n",
      "   Embarked_C  Embarked_Q  Embarked_S\n",
      "0       False       False        True\n",
      "1        True       False       False\n",
      "2       False       False        True\n",
      "3       False       False        True\n",
      "4       False       False        True\n"
     ]
    }
   ],
   "source": [
    "from sklearn.preprocessing import LabelEncoder\n",
    "\n",
    "# Label Encoding sur 'Sex' (homme/femme)\n",
    "le_sex = LabelEncoder()\n",
    "df['Sex_encoded'] = le_sex.fit_transform(df['Sex'])\n",
    "\n",
    "# One-Hot Encoding sur 'Embarked'\n",
    "df_onehot = pd.get_dummies(df, columns=['Embarked'], prefix='Embarked')\n",
    "\n",
    "# Vérification\n",
    "print(df[['Sex', 'Sex_encoded']].head())\n",
    "print(df_onehot.filter(like='Embarked_').head())\n"
   ]
  },
  {
   "cell_type": "markdown",
   "id": "84aeaa0b",
   "metadata": {},
   "source": [
    "## 4️⃣ Normalisation/Standardisation des caractéristiques numériques"
   ]
  },
  {
   "cell_type": "code",
   "execution_count": 12,
   "id": "ca2650ba",
   "metadata": {},
   "outputs": [
    {
     "data": {
      "application/vnd.microsoft.datawrangler.viewer.v0+json": {
       "columns": [
        {
         "name": "index",
         "rawType": "int64",
         "type": "integer"
        },
        {
         "name": "Age",
         "rawType": "float64",
         "type": "float"
        },
        {
         "name": "Age_scaled",
         "rawType": "float64",
         "type": "float"
        },
        {
         "name": "Fare",
         "rawType": "float64",
         "type": "float"
        },
        {
         "name": "Fare_scaled",
         "rawType": "float64",
         "type": "float"
        }
       ],
       "ref": "79c9bfd1-1a3f-41d3-a57b-4185b0027959",
       "rows": [
        [
         "0",
         "22.0",
         "-0.5303766406838785",
         "7.25",
         "-0.5024451714361923"
        ],
        [
         "1",
         "38.0",
         "0.571830994003175",
         "71.2833",
         "0.7868452935884461"
        ],
        [
         "2",
         "26.0",
         "-0.25482473201211503",
         "7.925",
         "-0.4888542575852486"
        ],
        [
         "3",
         "35.0",
         "0.36516706249935255",
         "53.1",
         "0.4207302360686478"
        ],
        [
         "4",
         "35.0",
         "0.36516706249935255",
         "8.05",
         "-0.4863374216869257"
        ]
       ],
       "shape": {
        "columns": 4,
        "rows": 5
       }
      },
      "text/html": [
       "<div>\n",
       "<style scoped>\n",
       "    .dataframe tbody tr th:only-of-type {\n",
       "        vertical-align: middle;\n",
       "    }\n",
       "\n",
       "    .dataframe tbody tr th {\n",
       "        vertical-align: top;\n",
       "    }\n",
       "\n",
       "    .dataframe thead th {\n",
       "        text-align: right;\n",
       "    }\n",
       "</style>\n",
       "<table border=\"1\" class=\"dataframe\">\n",
       "  <thead>\n",
       "    <tr style=\"text-align: right;\">\n",
       "      <th></th>\n",
       "      <th>Age</th>\n",
       "      <th>Age_scaled</th>\n",
       "      <th>Fare</th>\n",
       "      <th>Fare_scaled</th>\n",
       "    </tr>\n",
       "  </thead>\n",
       "  <tbody>\n",
       "    <tr>\n",
       "      <th>0</th>\n",
       "      <td>22.0</td>\n",
       "      <td>-0.530377</td>\n",
       "      <td>7.2500</td>\n",
       "      <td>-0.502445</td>\n",
       "    </tr>\n",
       "    <tr>\n",
       "      <th>1</th>\n",
       "      <td>38.0</td>\n",
       "      <td>0.571831</td>\n",
       "      <td>71.2833</td>\n",
       "      <td>0.786845</td>\n",
       "    </tr>\n",
       "    <tr>\n",
       "      <th>2</th>\n",
       "      <td>26.0</td>\n",
       "      <td>-0.254825</td>\n",
       "      <td>7.9250</td>\n",
       "      <td>-0.488854</td>\n",
       "    </tr>\n",
       "    <tr>\n",
       "      <th>3</th>\n",
       "      <td>35.0</td>\n",
       "      <td>0.365167</td>\n",
       "      <td>53.1000</td>\n",
       "      <td>0.420730</td>\n",
       "    </tr>\n",
       "    <tr>\n",
       "      <th>4</th>\n",
       "      <td>35.0</td>\n",
       "      <td>0.365167</td>\n",
       "      <td>8.0500</td>\n",
       "      <td>-0.486337</td>\n",
       "    </tr>\n",
       "  </tbody>\n",
       "</table>\n",
       "</div>"
      ],
      "text/plain": [
       "    Age  Age_scaled     Fare  Fare_scaled\n",
       "0  22.0   -0.530377   7.2500    -0.502445\n",
       "1  38.0    0.571831  71.2833     0.786845\n",
       "2  26.0   -0.254825   7.9250    -0.488854\n",
       "3  35.0    0.365167  53.1000     0.420730\n",
       "4  35.0    0.365167   8.0500    -0.486337"
      ]
     },
     "execution_count": 12,
     "metadata": {},
     "output_type": "execute_result"
    }
   ],
   "source": [
    "from sklearn.preprocessing import StandardScaler\n",
    "\n",
    "# Exemple : Standardisation de 'Age' et 'Fare'\n",
    "scaler = StandardScaler()\n",
    "df[['Age_scaled', 'Fare_scaled']] = scaler.fit_transform(df[['Age', 'Fare']])\n",
    "\n",
    "# Vérification\n",
    "df[['Age', 'Age_scaled', 'Fare', 'Fare_scaled']].head()\n"
   ]
  },
  {
   "cell_type": "markdown",
   "id": "a43844e8",
   "metadata": {},
   "source": [
    "# 🌟 Exercice 4 : Détection et traitement des valeurs aberrantes\n",
    "Instructions\n",
    "Utilisez des méthodes statistiques pour détecter les valeurs aberrantes dans des colonnes telles que Fareet Age.\n",
    "Décidez d’une stratégie pour gérer les valeurs aberrantes identifiées, telles que le plafonnement, la transformation ou la suppression.\n",
    "Mettre en œuvre la stratégie choisie et évaluer son impact sur l’ensemble de données.\n",
    "Astuce : explorez des méthodes telles que l’IQR (écart interquartile) et le score Z pour la détection des valeurs aberrantes."
   ]
  },
  {
   "cell_type": "markdown",
   "id": "dcb826dc",
   "metadata": {},
   "source": [
    "## 1️⃣ Détection des valeurs aberrantes avec l'IQR (InterQuartile Range) pour les colonnes Age et Fare"
   ]
  },
  {
   "cell_type": "code",
   "execution_count": 13,
   "id": "6a6be2d5",
   "metadata": {},
   "outputs": [
    {
     "name": "stdout",
     "output_type": "stream",
     "text": [
      "Valeurs aberrantes pour 'Age' : 11\n",
      "Valeurs aberrantes pour 'Fare' : 116\n"
     ]
    }
   ],
   "source": [
    "# Calculer l'IQR pour Age\n",
    "Q1_age = df['Age'].quantile(0.25)\n",
    "Q3_age = df['Age'].quantile(0.75)\n",
    "IQR_age = Q3_age - Q1_age\n",
    "\n",
    "# Seuils pour détecter les valeurs aberrantes (outliers)\n",
    "seuil_bas_age = Q1_age - 1.5 * IQR_age\n",
    "seuil_haut_age = Q3_age + 1.5 * IQR_age\n",
    "\n",
    "# Afficher le nombre d'outliers pour Age\n",
    "outliers_age = df[(df['Age'] < seuil_bas_age) | (df['Age'] > seuil_haut_age)]\n",
    "print(f\"Valeurs aberrantes pour 'Age' : {outliers_age.shape[0]}\")\n",
    "\n",
    "# Idem pour Fare\n",
    "Q1_fare = df['Fare'].quantile(0.25)\n",
    "Q3_fare = df['Fare'].quantile(0.75)\n",
    "IQR_fare = Q3_fare - Q1_fare\n",
    "seuil_bas_fare = Q1_fare - 1.5 * IQR_fare\n",
    "seuil_haut_fare = Q3_fare + 1.5 * IQR_fare\n",
    "outliers_fare = df[(df['Fare'] < seuil_bas_fare) | (df['Fare'] > seuil_haut_fare)]\n",
    "print(f\"Valeurs aberrantes pour 'Fare' : {outliers_fare.shape[0]}\")\n"
   ]
  },
  {
   "cell_type": "markdown",
   "id": "ce9e60bd",
   "metadata": {},
   "source": [
    "## 2️⃣ Traitement des outliers : plafonnement (capping)"
   ]
  },
  {
   "cell_type": "code",
   "execution_count": null,
   "id": "5a034155",
   "metadata": {},
   "outputs": [
    {
     "name": "stdout",
     "output_type": "stream",
     "text": [
      "Valeurs 'Age' hors seuil après capping : 0\n",
      "Valeurs 'Fare' hors seuil après capping : 0\n"
     ]
    }
   ],
   "source": [
    "# Plafonner les valeurs trop faibles/élevées au seuil IQR\n",
    "\n",
    "df_capped = df.copy()\n",
    "# Pour 'Age'\n",
    "df_capped['Age'] = df_capped['Age'].clip(lower=seuil_bas_age, upper=seuil_haut_age)\n",
    "# Pour 'Fare'\n",
    "df_capped['Fare'] = df_capped['Fare'].clip(lower=seuil_bas_fare, upper=seuil_haut_fare)\n",
    "\n",
    "# Vérification : plus de valeurs au-dessus/en-dessous des seuils\n",
    "print(f\"Valeurs 'Age' hors seuil après capping : {(df_capped['Age'] < seuil_bas_age).sum() + (df_capped['Age'] > seuil_haut_age).sum()}\")\n",
    "print(f\"Valeurs 'Fare' hors seuil après capping : {(df_capped['Fare'] < seuil_bas_fare).sum() + (df_capped['Fare'] > seuil_haut_fare).sum()}\")\n"
   ]
  },
  {
   "cell_type": "markdown",
   "id": "a2df37c4",
   "metadata": {},
   "source": [
    "## 3️⃣ Évaluer l’impact du traitement sur les colonnes"
   ]
  },
  {
   "cell_type": "code",
   "execution_count": null,
   "id": "25f2d536",
   "metadata": {},
   "outputs": [
    {
     "name": "stdout",
     "output_type": "stream",
     "text": [
      "Statistiques avant capping (Age et Fare) :\n",
      "              Age        Fare\n",
      "count  714.000000  891.000000\n",
      "mean    29.699118   32.204208\n",
      "std     14.526497   49.693429\n",
      "min      0.420000    0.000000\n",
      "25%     20.125000    7.910400\n",
      "50%     28.000000   14.454200\n",
      "75%     38.000000   31.000000\n",
      "max     80.000000  512.329200\n",
      "\n",
      "Statistiques après capping (Age et Fare) :\n",
      "              Age        Fare\n",
      "count  714.000000  891.000000\n",
      "mean    29.622700   24.046813\n",
      "std     14.316665   20.481625\n",
      "min      0.420000    0.000000\n",
      "25%     20.125000    7.910400\n",
      "50%     28.000000   14.454200\n",
      "75%     38.000000   31.000000\n",
      "max     64.812500   65.634400\n"
     ]
    }
   ],
   "source": [
    "# Comparer des statistiques avant/après traitement\n",
    "print(\"Statistiques avant capping (Age et Fare) :\")\n",
    "print(df[['Age', 'Fare']].describe())\n",
    "\n",
    "print(\"\\nStatistiques après capping (Age et Fare) :\")\n",
    "print(df_capped[['Age', 'Fare']].describe())\n"
   ]
  },
  {
   "cell_type": "markdown",
   "id": "c37e2469",
   "metadata": {},
   "source": [
    "# 🌟 Exercice 5 : Standardisation et normalisation des données\n",
    "Instructions\n",
    "Évaluer l’échelle et la distribution des colonnes numériques dans l’ensemble de données.\n",
    "Appliquer la normalisation aux fonctionnalités avec une large gamme de valeurs.\n",
    "Normaliser les données qui nécessitent une plage délimitée, comme [0, 1].\n",
    "Astuce : pensez à utiliser StandardScaler et MinMaxScaler du module de prétraitement de scikit-learn."
   ]
  },
  {
   "cell_type": "markdown",
   "id": "f21f07e7",
   "metadata": {},
   "source": [
    "## 1️⃣ Évaluer l’échelle et la distribution des colonnes numériques"
   ]
  },
  {
   "cell_type": "code",
   "execution_count": null,
   "id": "3557f0d3",
   "metadata": {},
   "outputs": [
    {
     "name": "stdout",
     "output_type": "stream",
     "text": [
      "              Age        Fare       SibSp       Parch  FamilySize\n",
      "count  714.000000  891.000000  891.000000  891.000000  891.000000\n",
      "mean    29.699118   32.204208    0.523008    0.381594    1.904602\n",
      "std     14.526497   49.693429    1.102743    0.806057    1.613459\n",
      "min      0.420000    0.000000    0.000000    0.000000    1.000000\n",
      "25%     20.125000    7.910400    0.000000    0.000000    1.000000\n",
      "50%     28.000000   14.454200    0.000000    0.000000    1.000000\n",
      "75%     38.000000   31.000000    1.000000    0.000000    2.000000\n",
      "max     80.000000  512.329200    8.000000    6.000000   11.000000\n"
     ]
    }
   ],
   "source": [
    "# Liste des colonnes numériques principales\n",
    "colonnes_numeriques = ['Age', 'Fare', 'SibSp', 'Parch', 'FamilySize']\n",
    "\n",
    "# Afficher les statistiques de base pour repérer les écarts d’échelle\n",
    "print(df[colonnes_numeriques].describe())\n"
   ]
  },
  {
   "cell_type": "markdown",
   "id": "7a9154f1",
   "metadata": {},
   "source": [
    "## 2️⃣ Standardisation avec StandardScaler (moyenne = 0, écart-type = 1)"
   ]
  },
  {
   "cell_type": "code",
   "execution_count": 17,
   "id": "bac9e57f",
   "metadata": {},
   "outputs": [
    {
     "name": "stdout",
     "output_type": "stream",
     "text": [
      "    Age_std  Fare_std  SibSp_std  Parch_std  FamilySize_std\n",
      "0 -0.530377 -0.502445   0.432793  -0.473674        0.059160\n",
      "1  0.571831  0.786845   0.432793  -0.473674        0.059160\n",
      "2 -0.254825 -0.488854  -0.474545  -0.473674       -0.560975\n",
      "3  0.365167  0.420730   0.432793  -0.473674        0.059160\n",
      "4  0.365167 -0.486337  -0.474545  -0.473674       -0.560975\n"
     ]
    }
   ],
   "source": [
    "from sklearn.preprocessing import StandardScaler\n",
    "\n",
    "# Initialiser le scaler\n",
    "scaler_standard = StandardScaler()\n",
    "\n",
    "# Appliquer la transformation\n",
    "df_standard = df.copy()\n",
    "df_standard[[col + '_std' for col in colonnes_numeriques]] = scaler_standard.fit_transform(df[colonnes_numeriques])\n",
    "\n",
    "# Afficher un extrait pour vérifier\n",
    "print(df_standard[[col + '_std' for col in colonnes_numeriques]].head())\n"
   ]
  },
  {
   "cell_type": "markdown",
   "id": "260f25ae",
   "metadata": {},
   "source": [
    "## 3️⃣ Normalisation avec MinMaxScaler (toutes les valeurs entre 0 et 1)"
   ]
  },
  {
   "cell_type": "code",
   "execution_count": 18,
   "id": "6c4c43b8",
   "metadata": {},
   "outputs": [
    {
     "name": "stdout",
     "output_type": "stream",
     "text": [
      "   Age_minmax  Fare_minmax  SibSp_minmax  Parch_minmax  FamilySize_minmax\n",
      "0    0.271174     0.014151         0.125           0.0                0.1\n",
      "1    0.472229     0.139136         0.125           0.0                0.1\n",
      "2    0.321438     0.015469         0.000           0.0                0.0\n",
      "3    0.434531     0.103644         0.125           0.0                0.1\n",
      "4    0.434531     0.015713         0.000           0.0                0.0\n"
     ]
    }
   ],
   "source": [
    "from sklearn.preprocessing import MinMaxScaler\n",
    "\n",
    "# Initialiser le scaler\n",
    "scaler_minmax = MinMaxScaler()\n",
    "\n",
    "# Appliquer la transformation\n",
    "df_minmax = df.copy()\n",
    "df_minmax[[col + '_minmax' for col in colonnes_numeriques]] = scaler_minmax.fit_transform(df[colonnes_numeriques])\n",
    "\n",
    "# Afficher un extrait pour vérifier\n",
    "print(df_minmax[[col + '_minmax' for col in colonnes_numeriques]].head())\n"
   ]
  },
  {
   "cell_type": "markdown",
   "id": "4e7e14dd",
   "metadata": {},
   "source": [
    "# Exercice 6 : Encodage des fonctionnalités\n",
    "Instructions\n",
    "Identifiez les colonnes catégorielles dans l'ensemble de données Titanic, telles que Sexet Embarked.\n",
    "Utilisez le codage one-hot pour les variables nominales et le codage d'étiquette pour les variables ordinales.\n",
    "Réintégrez les fonctionnalités codées dans l’ensemble de données principal.\n",
    "Astuce : utilisez pandas.get_dummies() pour l’encodage à chaud et LabelEncoder de scikit-learn pour l’encodage des étiquettes."
   ]
  },
  {
   "cell_type": "markdown",
   "id": "a6edf14f",
   "metadata": {},
   "source": [
    "## 1️⃣ Identifier les colonnes catégorielles"
   ]
  },
  {
   "cell_type": "code",
   "execution_count": null,
   "id": "446e8ba3",
   "metadata": {},
   "outputs": [
    {
     "name": "stdout",
     "output_type": "stream",
     "text": [
      "Colonnes catégorielles : ['Sex', 'Embarked', 'Title']\n"
     ]
    }
   ],
   "source": [
    "# Regarder les colonnes non numériques principales\n",
    "colonnes_categorielle = ['Sex', 'Embarked', 'Title']\n",
    "print(\"Colonnes catégorielles :\", colonnes_categorielle)\n"
   ]
  },
  {
   "cell_type": "markdown",
   "id": "b7ca8450",
   "metadata": {},
   "source": [
    "## 2️⃣ Encodage one-hot pour les variables nominales (Sex, Embarked)"
   ]
  },
  {
   "cell_type": "code",
   "execution_count": null,
   "id": "01398709",
   "metadata": {},
   "outputs": [
    {
     "name": "stdout",
     "output_type": "stream",
     "text": [
      "   Sex_encoded  Sex_female  Sex_male\n",
      "0            1       False      True\n",
      "1            0        True     False\n",
      "2            0        True     False\n",
      "3            0        True     False\n",
      "4            1       False      True\n",
      "   Embarked_C  Embarked_Q  Embarked_S\n",
      "0       False       False        True\n",
      "1        True       False       False\n",
      "2       False       False        True\n",
      "3       False       False        True\n",
      "4       False       False        True\n"
     ]
    }
   ],
   "source": [
    "# Utiliser pd.get_dummies pour créer des colonnes binaires (0/1)\n",
    "df_onehot = pd.get_dummies(df, columns=['Sex', 'Embarked'], prefix=['Sex', 'Embarked'])\n",
    "\n",
    "# Vérification\n",
    "print(df_onehot.filter(like='Sex_').head())\n",
    "print(df_onehot.filter(like='Embarked_').head())\n"
   ]
  },
  {
   "cell_type": "markdown",
   "id": "9098dd9e",
   "metadata": {},
   "source": [
    "## 3️⃣ Encodage d'étiquette (label encoding) pour variable ordinale (exemple : Title)"
   ]
  },
  {
   "cell_type": "code",
   "execution_count": null,
   "id": "09174b5e",
   "metadata": {},
   "outputs": [
    {
     "name": "stdout",
     "output_type": "stream",
     "text": [
      "        Title  Encoded\n",
      "0          Mr       11\n",
      "1         Mrs       12\n",
      "2        Miss        8\n",
      "7      Master        7\n",
      "30        Don        2\n",
      "149       Rev       14\n",
      "245        Dr        3\n",
      "369       Mme       10\n",
      "443        Ms       13\n",
      "449     Major        6\n",
      "556      Lady        5\n",
      "599       Sir       15\n",
      "641      Mlle        9\n",
      "647       Col        1\n",
      "745      Capt        0\n",
      "759       NaN       16\n",
      "822  Jonkheer        4\n"
     ]
    },
    {
     "name": "stderr",
     "output_type": "stream",
     "text": [
      "c:\\ProgramData\\anaconda3\\Lib\\site-packages\\sklearn\\preprocessing\\_label.py:129: DataConversionWarning: A column-vector y was passed when a 1d array was expected. Please change the shape of y to (n_samples, ), for example using ravel().\n",
      "  y = column_or_1d(y, dtype=self.classes_.dtype, warn=True)\n"
     ]
    }
   ],
   "source": [
    "from sklearn.preprocessing import LabelEncoder\n",
    "\n",
    "# Supposons qu'on utilise 'Title' comme variable ordinale\n",
    "le_title = LabelEncoder()\n",
    "df_onehot['Title_encoded'] = le_title.fit_transform(df['Title'])\n",
    "\n",
    "# Vérification\n",
    "print(df[['Title']].drop_duplicates().assign(Encoded=le_title.transform(df[['Title']].drop_duplicates())))\n"
   ]
  },
  {
   "cell_type": "markdown",
   "id": "25c5c822",
   "metadata": {},
   "source": [
    "## 4️⃣ Réintégration des fonctionnalités codées dans le jeu de données principal"
   ]
  },
  {
   "cell_type": "code",
   "execution_count": 21,
   "id": "0724d754",
   "metadata": {},
   "outputs": [
    {
     "name": "stdout",
     "output_type": "stream",
     "text": [
      "   PassengerId  Survived  Pclass  \\\n",
      "0            1         0       3   \n",
      "1            2         1       1   \n",
      "2            3         1       3   \n",
      "3            4         1       1   \n",
      "4            5         0       3   \n",
      "\n",
      "                                                Name   Age  SibSp  Parch  \\\n",
      "0                            Braund, Mr. Owen Harris  22.0      1      0   \n",
      "1  Cumings, Mrs. John Bradley (Florence Briggs Th...  38.0      1      0   \n",
      "2                             Heikkinen, Miss. Laina  26.0      0      0   \n",
      "3       Futrelle, Mrs. Jacques Heath (Lily May Peel)  35.0      1      0   \n",
      "4                           Allen, Mr. William Henry  35.0      0      0   \n",
      "\n",
      "             Ticket     Fare Cabin  FamilySize Title  Sex_encoded  Age_scaled  \\\n",
      "0         A/5 21171   7.2500   NaN           2    Mr            1   -0.530377   \n",
      "1          PC 17599  71.2833   C85           2   Mrs            0    0.571831   \n",
      "2  STON/O2. 3101282   7.9250   NaN           1  Miss            0   -0.254825   \n",
      "3            113803  53.1000  C123           2   Mrs            0    0.365167   \n",
      "4            373450   8.0500   NaN           1    Mr            1    0.365167   \n",
      "\n",
      "   Fare_scaled  Sex_female  Sex_male  Embarked_C  Embarked_Q  Embarked_S  \n",
      "0    -0.502445       False      True       False       False        True  \n",
      "1     0.786845        True     False        True       False       False  \n",
      "2    -0.488854        True     False       False       False        True  \n",
      "3     0.420730        True     False       False       False        True  \n",
      "4    -0.486337       False      True       False       False        True  \n"
     ]
    }
   ],
   "source": [
    "# Les colonnes sont déjà intégrées dans df_onehot à l’étape précédente.\n",
    "# On peut afficher les 5 premières lignes pour visualiser le résultat\n",
    "print(df_onehot.head())\n"
   ]
  },
  {
   "cell_type": "markdown",
   "id": "f7e4bed3",
   "metadata": {},
   "source": [
    "# Exercice 7 : Transformation des données pour la fonction Âge\n",
    "Instructions\n",
    "Créez des groupes d'âge (bacs) à partir de la Agecolonne pour classer les passagers dans différentes catégories d'âge.\n",
    "Appliquez un codage one-hot aux groupes d’âge pour les convertir en caractéristiques binaires.\n",
    "Astuce : utilisez -le pd.cut()pour regrouper la Agecolonne et pd.get_dummies()pour l'encodage à chaud."
   ]
  },
  {
   "cell_type": "markdown",
   "id": "2813f564",
   "metadata": {},
   "source": [
    "## 1️⃣ Créer des groupes d'âge (Age) avec pd.cut()"
   ]
  },
  {
   "cell_type": "code",
   "execution_count": null,
   "id": "0ed09d85",
   "metadata": {},
   "outputs": [
    {
     "name": "stdout",
     "output_type": "stream",
     "text": [
      "    Age      AgeGroup\n",
      "0  22.0  Jeune_Adulte\n",
      "1  38.0        Adulte\n",
      "2  26.0  Jeune_Adulte\n",
      "3  35.0        Adulte\n",
      "4  35.0        Adulte\n",
      "5   NaN           NaN\n",
      "6  54.0        Adulte\n",
      "7   2.0        Enfant\n",
      "8  27.0  Jeune_Adulte\n",
      "9  14.0    Adolescent\n"
     ]
    }
   ],
   "source": [
    "# Définir les bornes pour les groupes d'âge (en années)\n",
    "bornes = [0, 12, 18, 35, 60, 100]\n",
    "noms_groupes = ['Enfant', 'Adolescent', 'Jeune_Adulte', 'Adulte', 'Senior']\n",
    "\n",
    "# Créer la colonne 'AgeGroup'\n",
    "df['AgeGroup'] = pd.cut(df['Age'], bins=bornes, labels=noms_groupes, right=False)\n",
    "\n",
    "# Vérification\n",
    "print(df[['Age', 'AgeGroup']].head(10))\n"
   ]
  },
  {
   "cell_type": "markdown",
   "id": "8b84bf67",
   "metadata": {},
   "source": [
    "## 2️⃣ Appliquer un codage one-hot aux groupes d’âge avec pd.get_dummies()"
   ]
  },
  {
   "cell_type": "code",
   "execution_count": null,
   "id": "35f1bb1f",
   "metadata": {},
   "outputs": [
    {
     "name": "stdout",
     "output_type": "stream",
     "text": [
      "   AgeGroup_Enfant  AgeGroup_Adolescent  AgeGroup_Jeune_Adulte  \\\n",
      "0            False                False                   True   \n",
      "1            False                False                  False   \n",
      "2            False                False                   True   \n",
      "3            False                False                  False   \n",
      "4            False                False                  False   \n",
      "5            False                False                  False   \n",
      "6            False                False                  False   \n",
      "7             True                False                  False   \n",
      "8            False                False                   True   \n",
      "9            False                 True                  False   \n",
      "\n",
      "   AgeGroup_Adulte  AgeGroup_Senior  \n",
      "0            False            False  \n",
      "1             True            False  \n",
      "2            False            False  \n",
      "3             True            False  \n",
      "4             True            False  \n",
      "5            False            False  \n",
      "6             True            False  \n",
      "7            False            False  \n",
      "8            False            False  \n",
      "9            False            False  \n"
     ]
    }
   ],
   "source": [
    "# Créer les colonnes binaires pour chaque groupe d'âge\n",
    "df_age_onehot = pd.get_dummies(df, columns=['AgeGroup'])\n",
    "\n",
    "# Vérification : affiche les nouvelles colonnes liées à AgeGroup\n",
    "print(df_age_onehot.filter(like='AgeGroup_').head(10))\n"
   ]
  }
 ],
 "metadata": {
  "kernelspec": {
   "display_name": "base",
   "language": "python",
   "name": "python3"
  },
  "language_info": {
   "codemirror_mode": {
    "name": "ipython",
    "version": 3
   },
   "file_extension": ".py",
   "mimetype": "text/x-python",
   "name": "python",
   "nbconvert_exporter": "python",
   "pygments_lexer": "ipython3",
   "version": "3.12.7"
  }
 },
 "nbformat": 4,
 "nbformat_minor": 5
}
