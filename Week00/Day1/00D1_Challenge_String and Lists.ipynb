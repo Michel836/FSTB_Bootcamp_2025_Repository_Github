{
 "cells": [
  {
   "cell_type": "markdown",
   "id": "3f67ff8a",
   "metadata": {},
   "source": [
    "# Daily Challenge : String and Lists\n",
    "Last Updated: January 31st, 2025\n",
    "\n",
    "👩‍🏫 👩🏿‍🏫 What You’ll learn\n",
    "How to manipulate lists in Python to generate sequences based on input criteria.\n",
    "Techniques for string manipulation to modify and format strings based on specific rules.\n",
    "Developing logic to handle and remove consecutive duplicate characters from strings.\n",
    "\n",
    "\n",
    "🛠️ What you will create\n",
    "A Python program that takes a number and generates a list of its multiples up to a specified length.\n",
    "A Python script that processes user input to remove consecutive duplicate characters from strings, enhancing your understanding of string handling.\n"
   ]
  },
  {
   "cell_type": "markdown",
   "id": "093c3834",
   "metadata": {},
   "source": [
    "# Challenge 1\n",
    "Ask the user for a number and a length.\n",
    "Create a program that prints a list of multiples of the number until the list length reaches length.\n",
    "Examples\n",
    "\n",
    "number: 7 - length 5 ➞ [7, 14, 21, 28, 35]\n",
    "\n",
    "number: 12 - length 10 ➞ [12, 24, 36, 48, 60, 72, 84, 96, 108, 120]\n",
    "\n",
    "number: 17 - length 6 ➞ [17, 34, 51, 68, 85, 102]\n",
    "\n",
    "\n"
   ]
  },
  {
   "cell_type": "code",
   "execution_count": 10,
   "id": "431dba55",
   "metadata": {},
   "outputs": [
    {
     "name": "stdout",
     "output_type": "stream",
     "text": [
      "[7, 14, 21, 28, 35, 42, 49]\n"
     ]
    }
   ],
   "source": [
    "number = int(input(\"Enter a number ?\"))   # Demande un nombre à l'utilisateur et le convertit en entier\n",
    "length = int(input(\"Enter a length ?\"))   # Demande une longueur et la convertit en entier\n",
    "\n",
    "multiples = []                            # Crée une liste vide pour stocker les multiples\n",
    "for i in range(1, length + 1):            # Boucle de 1 à length inclus\n",
    "    multiples.append(number * i)           # Ajoute le multiple (number * i) à la liste\n",
    "\n",
    "print(multiples)                          # Affiche la liste finale\n",
    "                        "
   ]
  },
  {
   "cell_type": "markdown",
   "id": "8603dee9",
   "metadata": {},
   "source": [
    "# Challenge 2\n",
    "Write a program that asks a string to the user, and display a new string with any duplicate consecutive letters removed.\n",
    "\n",
    "Examples\n",
    "\n",
    "user's word : \"ppoeemm\" ➞ \"poem\"\n",
    "\n",
    "user's word : \"wiiiinnnnd\" ➞ \"wind\"\n",
    "\n",
    "user's word : \"ttiiitllleeee\" ➞ \"title\"\n",
    "\n",
    "user's word : \"cccccaaarrrbbonnnnn\" ➞ \"carbon\"\n",
    "\n",
    "Notes\n",
    "Final strings won’t include words with double letters (e.g. “passing”, “lottery”)."
   ]
  },
  {
   "cell_type": "code",
   "execution_count": 14,
   "id": "855f97bc",
   "metadata": {},
   "outputs": [
    {
     "name": "stdout",
     "output_type": "stream",
     "text": [
      "carbon\n"
     ]
    }
   ],
   "source": [
    "# 1. Demander un mot à l'utilisateur\n",
    "word = input(\"Entrez un mot : \")\n",
    "\n",
    "# 2. Créer une variable vide qui contiendra le nouveau mot sans lettres doublées\n",
    "new_word = \"\"\n",
    "\n",
    "# 3. Démarrer une boucle qui va examiner chaque lettre du mot, une par une\n",
    "for i in range(len(word)):\n",
    "    \n",
    "    # 4. Si c'est la première lettre (indice 0)\n",
    "    if i == 0:\n",
    "        # Ajouter cette lettre à new_word\n",
    "        new_word += word[i]\n",
    "        \n",
    "    # 5. Si ce n'est pas la première lettre\n",
    "    else:\n",
    "        # Comparer la lettre actuelle à la lettre précédente\n",
    "        if word[i] != word[i - 1]:\n",
    "            # Si elles sont différentes, ajouter la lettre actuelle à new_word\n",
    "            new_word += word[i]\n",
    "        # Sinon (si elles sont identiques), ne rien faire (on saute cette lettre)\n",
    "\n",
    "# 6. Quand la boucle est terminée, afficher le nouveau mot\n",
    "print(new_word)\n"
   ]
  },
  {
   "cell_type": "markdown",
   "id": "c0c10cc8",
   "metadata": {},
   "source": [
    "# Daily challenge GOLD : Happy birthday\n",
    "Last Updated: March 10th, 2025\n",
    "\n",
    "What You will learn :\n",
    "Python Basics\n",
    "Conditionals\n",
    "\n",
    "\n",
    "Instructions\n",
    "Ask the user for their birthdate (specify the format, for example: DD/MM/YYYY).\n",
    "Display a little cake as seen below:\n",
    "       ___iiiii___\n",
    "      |:H:a:p:p:y:|\n",
    "    __|___________|__\n",
    "   |^^^^^^^^^^^^^^^^^|\n",
    "   |:B:i:r:t:h:d:a:y:|\n",
    "   |                 |\n",
    "   ~~~~~~~~~~~~~~~~~~~\n",
    "\n",
    "The number of candles on the cake should be the last number of the users age, if they are 53, then add 3 candles.\n",
    "\n",
    "Bonus : If they were born on a leap year, display two cakes !\n",
    "\n"
   ]
  },
  {
   "cell_type": "markdown",
   "id": "741de35c",
   "metadata": {},
   "source": [
    "## 1. Demander la date de naissance à l’utilisateur\n",
    "\n",
    "Spécifier le format : « JJ/MM/AAAA ».\n",
    "\n",
    "Exemple de saisie : 14/03/2002."
   ]
  },
  {
   "cell_type": "code",
   "execution_count": 20,
   "id": "1301da5c",
   "metadata": {},
   "outputs": [],
   "source": [
    "# 1. Demander la date\n",
    "birth_str = input(\"Entrez votre date de naissance (JJ/MM/AAAA) : \")"
   ]
  },
  {
   "cell_type": "markdown",
   "id": "c45b7aa6",
   "metadata": {},
   "source": [
    "## 2. Extraire le jour, le mois et l’année\n",
    "\n",
    "Découper la chaîne en utilisant split('/').\n",
    "\n",
    "Convertir le jour, le mois et l’année en entiers."
   ]
  },
  {
   "cell_type": "code",
   "execution_count": 21,
   "id": "91bd4760",
   "metadata": {},
   "outputs": [],
   "source": [
    "# 2. Extraire jour, mois, année\n",
    "day, month, year = map(int, birth_str.split('/'))"
   ]
  },
  {
   "cell_type": "markdown",
   "id": "67f365c7",
   "metadata": {},
   "source": [
    "## 3. Calculer l’âge\n",
    "\n",
    "Récupérer la date actuelle (avec datetime.date.today()).\n",
    "\n",
    "Calculer la différence d’années.\n",
    "\n",
    "Si l’anniversaire de cette année n’est pas encore passé, retirer 1 an."
   ]
  },
  {
   "cell_type": "code",
   "execution_count": null,
   "id": "ef8b49a8",
   "metadata": {},
   "outputs": [],
   "source": [
    "# 3. Calculer l'âge\n",
    "import datetime # importation bibliotheque pour la date du jour, sinon fmessage error !\n",
    "\n",
    "today = datetime.date.today()\n",
    "age = today.year - year\n",
    "if (today.month, today.day) < (month, day):\n",
    "    age -= 1"
   ]
  },
  {
   "cell_type": "markdown",
   "id": "4250cca4",
   "metadata": {},
   "source": [
    "## 4. Déterminer le nombre de bougies\n",
    "\n",
    "Prendre le dernier chiffre de l’âge (age % 10)."
   ]
  },
  {
   "cell_type": "code",
   "execution_count": 24,
   "id": "0502310f",
   "metadata": {},
   "outputs": [],
   "source": [
    "# 4. Nombre de bougies (dernier chiffre de l'âge)\n",
    "candles = age % 10\n",
    "if candles == 0:\n",
    "    candles = 10  # Pour avoir au moins une bougie"
   ]
  },
  {
   "cell_type": "markdown",
   "id": "1a03e41f",
   "metadata": {},
   "source": [
    "## 5. Générer la ligne des bougies\n",
    "\n",
    "Exemple : pour 7 bougies : ___iiiiiii___"
   ]
  },
  {
   "cell_type": "code",
   "execution_count": 25,
   "id": "32172d08",
   "metadata": {},
   "outputs": [],
   "source": [
    "# 5. Générer la ligne de bougies\n",
    "candle_line = \"___\" + \"i\" * candles + \"___\""
   ]
  },
  {
   "cell_type": "markdown",
   "id": "5fbfaf32",
   "metadata": {},
   "source": [
    "## 6. Afficher le gâteau\n",
    "\n",
    "Utiliser le modèle fourni.\n",
    "\n",
    "Remplacer la ligne de bougies par la bonne quantité de i."
   ]
  },
  {
   "cell_type": "code",
   "execution_count": 26,
   "id": "db190595",
   "metadata": {},
   "outputs": [],
   "source": [
    "# 6. Préparer le gâteau\n",
    "cake = f\"\"\"{candle_line}\n",
    "|:H:a:p:p:y:|\n",
    "__|___________|__\n",
    "|^^^^^^^^^^^^^^^^^|\n",
    "|:B:i:r:t:h:d:a:y:|\n",
    "|                 |\n",
    "~~~~~~~~~~~~~~~~~~~\"\"\""
   ]
  },
  {
   "cell_type": "markdown",
   "id": "bb2695dc",
   "metadata": {},
   "source": [
    "## 7. (Bonus) Déterminer si l’année de naissance est une année bissextile\n",
    "\n",
    "Une année est bissextile si :\n",
    "\n",
    "Elle est divisible par 4\n",
    "\n",
    "Sauf si elle est divisible par 100, mais alors oui si aussi divisible par 400\n",
    "\n",
    "Si oui, afficher deux gâteaux."
   ]
  },
  {
   "cell_type": "code",
   "execution_count": 27,
   "id": "ada434c7",
   "metadata": {},
   "outputs": [],
   "source": [
    "# 7. (Bonus) Tester année bissextile\n",
    "is_leap = (year % 4 == 0 and (year % 100 != 0 or year % 400 == 0))"
   ]
  },
  {
   "cell_type": "code",
   "execution_count": 28,
   "id": "c139fdb7",
   "metadata": {},
   "outputs": [
    {
     "name": "stdout",
     "output_type": "stream",
     "text": [
      "___iiiiiii___\n",
      "|:H:a:p:p:y:|\n",
      "__|___________|__\n",
      "|^^^^^^^^^^^^^^^^^|\n",
      "|:B:i:r:t:h:d:a:y:|\n",
      "|                 |\n",
      "~~~~~~~~~~~~~~~~~~~\n"
     ]
    }
   ],
   "source": [
    "# 8. Afficher le ou les gâteaux\n",
    "if is_leap:\n",
    "    print(cake)\n",
    "    print()\n",
    "    print(cake)\n",
    "else:\n",
    "    print(cake)"
   ]
  }
 ],
 "metadata": {
  "kernelspec": {
   "display_name": "Python 3",
   "language": "python",
   "name": "python3"
  },
  "language_info": {
   "codemirror_mode": {
    "name": "ipython",
    "version": 3
   },
   "file_extension": ".py",
   "mimetype": "text/x-python",
   "name": "python",
   "nbconvert_exporter": "python",
   "pygments_lexer": "ipython3",
   "version": "3.12.8"
  }
 },
 "nbformat": 4,
 "nbformat_minor": 5
}
