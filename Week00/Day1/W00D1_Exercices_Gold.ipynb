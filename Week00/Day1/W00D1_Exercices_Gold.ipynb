{
 "cells": [
  {
   "cell_type": "markdown",
   "id": "308b378e",
   "metadata": {},
   "source": [
    "# Exercices XP Gold\n",
    "Dernière mise à jour : 28 mai 2025\n",
    "\n",
    "### 👩‍🏫 👩🏿‍🏫 Ce que vous apprendrez\n",
    "Comment utiliser le flux de contrôle avec des conditions et des boucles en Python.\n",
    "Implémentation et manipulation de boucles (for et while) pour diverses utilisations.\n",
    "Acquérir des compétences dans la gestion des entrées utilisateur et la fourniture de résultats appropriés.\n",
    "Utilisation du module aléatoire de Python pour créer des résultats interactifs et aléatoires.\n",
    "Développer la logique pour la prise de décision de base grâce à la programmation.\n",
    "\n",
    "\n",
    "### 🛠️ Ce que vous allez créer\n",
    "Un programme qui détermine la saison en fonction des entrées de l'utilisateur.\n",
    "Scripts qui utilisent des boucles for pour des sorties numériques spécifiques.\n",
    "Une boucle while qui interagit dynamiquement avec la saisie de l'utilisateur.\n",
    "Un mécanisme de recherche dans une liste pour trouver et signaler les indices d'éléments spécifiques.\n",
    "Un outil de comparaison pour déterminer le plus grand des trois nombres saisis par l'utilisateur.\n",
    "Un jeu interactif qui utilise des nombres aléatoires pour comparer les suppositions des utilisateurs et fournit un retour d'information continu avec une option pour quitter et revoir les scores."
   ]
  },
  {
   "cell_type": "markdown",
   "id": "308107ea",
   "metadata": {},
   "source": [
    "### Exercice 1 : Quelle est la saison ?\n",
    "Demandez à l'utilisateur de saisir un mois (1 à 12).\n",
    "Afficher la saison du mois reçu :\n",
    "Springse déroule de mars (3) à mai (5)\n",
    "Summerse déroule de juin (6) à août (8)\n",
    "Autumnse déroule de septembre (9) à novembre (11)\n",
    "Winterse déroule de décembre (12) à février (2)"
   ]
  },
  {
   "cell_type": "code",
   "execution_count": 2,
   "id": "a04022d4",
   "metadata": {},
   "outputs": [
    {
     "name": "stdout",
     "output_type": "stream",
     "text": [
      "Spring\n"
     ]
    }
   ],
   "source": [
    "# Demande du mois à l'utilisateur\n",
    "mois = int(input(\"Saisis un mois (1 à 12) : \"))\n",
    "\n",
    "# Détermination de la saison selon le mois\n",
    "if 3 <= mois <= 5:\n",
    "    print(\"Spring\")\n",
    "elif 6 <= mois <= 8:\n",
    "    print(\"Summer\")\n",
    "elif 9 <= mois <= 11:\n",
    "    print(\"Autumn\")\n",
    "elif mois == 12 or 1 <= mois <= 2:\n",
    "    print(\"Winter\")\n",
    "else:\n",
    "    print(\"Mois invalide\")\n"
   ]
  },
  {
   "cell_type": "markdown",
   "id": "c004ac60",
   "metadata": {},
   "source": [
    "### Exercice 2 : Boucle For\n",
    "Sujets clés de Python :\n",
    "\n",
    "Boucles ( for)\n",
    "Portée et indexation\n",
    "\n",
    "\n",
    "Instructions:\n",
    "\n",
    "Écrivez une forboucle pour imprimer tous les nombres de 1 à 20 inclus.\n",
    "Écrivez une autre forboucle qui imprime chaque nombre de 1 à 20 où l'index est pair."
   ]
  },
  {
   "cell_type": "code",
   "execution_count": 3,
   "id": "7dd320ff",
   "metadata": {},
   "outputs": [
    {
     "name": "stdout",
     "output_type": "stream",
     "text": [
      "1\n",
      "2\n",
      "3\n",
      "4\n",
      "5\n",
      "6\n",
      "7\n",
      "8\n",
      "9\n",
      "10\n",
      "11\n",
      "12\n",
      "13\n",
      "14\n",
      "15\n",
      "16\n",
      "17\n",
      "18\n",
      "19\n",
      "20\n",
      "1\n",
      "3\n",
      "5\n",
      "7\n",
      "9\n",
      "11\n",
      "13\n",
      "15\n",
      "17\n",
      "19\n"
     ]
    }
   ],
   "source": [
    "# Boucle pour afficher tous les nombres de 1 à 20 inclus\n",
    "for i in range(1, 21):\n",
    "    print(i)\n",
    "\n",
    "# Boucle pour afficher les nombres de 1 à 20 où l'index (position dans la séquence) est pair\n",
    "# L'index commence à 0 pour le premier élément\n",
    "for index, value in enumerate(range(1, 21)):\n",
    "    if index % 2 == 0:\n",
    "        print(value)\n"
   ]
  },
  {
   "cell_type": "markdown",
   "id": "617e8aae",
   "metadata": {},
   "source": [
    "### Exercice 3 : Boucle While\n",
    "Sujets clés de Python :\n",
    "\n",
    "Boucles ( while)\n",
    "Conditionnels\n",
    "\n",
    "\n",
    "Instructions:\n",
    "\n",
    "Écrivez une whileboucle qui demande sans cesse à l’utilisateur de saisir son nom.\n",
    "Arrêtez la boucle si l'entrée de l'utilisateur est votre nom."
   ]
  },
  {
   "cell_type": "code",
   "execution_count": 4,
   "id": "794d9c8f",
   "metadata": {},
   "outputs": [],
   "source": [
    "# Remplace \"Alex\" par ton nom si besoin\n",
    "mon_nom = \"Alex\"\n",
    "\n",
    "# Boucle infinie, s'arrête si l'utilisateur entre le bon nom\n",
    "while True:\n",
    "    nom = input(\"Entrez votre nom : \")\n",
    "    if nom == mon_nom:\n",
    "        break\n"
   ]
  },
  {
   "cell_type": "markdown",
   "id": "16222d21",
   "metadata": {},
   "source": [
    "### Exercice 4 : Vérifiez l'index\n",
    "En utilisant cette variable :\n",
    "\n",
    "names = ['Samus', 'Cortana', 'V', 'Link', 'Mario', 'Cortana', 'Samus']\n",
    "\n",
    "Demandez à un utilisateur son nom name, si son nom est dans la liste des noms, imprimez l'index de la première occurrence du nom.\n",
    "\n",
    "Exemple : si l'entrée est, Cortananous devrions imprimer l'index 1"
   ]
  },
  {
   "cell_type": "code",
   "execution_count": 6,
   "id": "2e58bf8c",
   "metadata": {},
   "outputs": [
    {
     "name": "stdout",
     "output_type": "stream",
     "text": [
      "0\n"
     ]
    }
   ],
   "source": [
    "names = ['Samus', 'Cortana', 'V', 'Link', 'Mario', 'Cortana', 'Samus']\n",
    "\n",
    "# Demande du nom à l'utilisateur\n",
    "name = input(\"Entrez votre nom : \")\n",
    "\n",
    "# Vérifie si le nom est dans la liste et affiche l'index de la première occurrence\n",
    "if name in names:\n",
    "    print(names.index(name))\n"
   ]
  },
  {
   "cell_type": "markdown",
   "id": "a2793df8",
   "metadata": {},
   "source": [
    "### Exercice 5 : Plus grand nombre\n",
    "Demandez à l'utilisateur 3 nombres et imprimez le plus grand nombre.\n",
    "\n",
    "Données de test :\n",
    "\n",
    "Input the 1st number: 25\n",
    "Input the 2nd number: 78\n",
    "Input the 3rd number: 87\n",
    "\n",
    "The greatest number is: 87\n"
   ]
  },
  {
   "cell_type": "code",
   "execution_count": 7,
   "id": "a45e56f1",
   "metadata": {},
   "outputs": [
    {
     "name": "stdout",
     "output_type": "stream",
     "text": [
      "The greatest number is: 6\n"
     ]
    }
   ],
   "source": [
    "# Demande des 3 nombres à l'utilisateur et conversion en int\n",
    "n1 = int(input(\"Input the 1st number: \"))\n",
    "n2 = int(input(\"Input the 2nd number: \"))\n",
    "n3 = int(input(\"Input the 3rd number: \"))\n",
    "\n",
    "# Affiche le plus grand nombre avec max()\n",
    "print(\"The greatest number is:\", max(n1, n2, n3))\n"
   ]
  },
  {
   "cell_type": "markdown",
   "id": "37aa7374",
   "metadata": {},
   "source": [
    "### Exercice 6 : Nombre aléatoire\n",
    "Demandez à l'utilisateur de saisir un nombre de 1 à 9 (inclus).\n",
    "Obtenez un nombre aléatoire entre 1 et 9. Indice : module aléatoire.\n",
    "Si l'utilisateur devine le bon numéro, imprimez un message indiquant « Gagnant ».\n",
    "Si l'utilisateur devine le mauvais numéro, imprimez un message indiquant « Meilleure chance la prochaine fois ».\n",
    "Bonus : utilisez une boucle qui permet à l'utilisateur de continuer à deviner jusqu'à ce qu'il veuille abandonner.\n",
    "Bonus 2 : à la sortie de la boucle, totalisez et affichez le total des parties gagnées et perdues."
   ]
  },
  {
   "cell_type": "code",
   "execution_count": 8,
   "id": "409950a3",
   "metadata": {},
   "outputs": [
    {
     "name": "stdout",
     "output_type": "stream",
     "text": [
      "Meilleure chance la prochaine fois\n",
      "Meilleure chance la prochaine fois\n",
      "Meilleure chance la prochaine fois\n",
      "Meilleure chance la prochaine fois\n",
      "Meilleure chance la prochaine fois\n",
      "Meilleure chance la prochaine fois\n",
      "Meilleure chance la prochaine fois\n"
     ]
    },
    {
     "ename": "ValueError",
     "evalue": "invalid literal for int() with base 10: ''",
     "output_type": "error",
     "traceback": [
      "\u001b[1;31m---------------------------------------------------------------------------\u001b[0m",
      "\u001b[1;31mValueError\u001b[0m                                Traceback (most recent call last)",
      "Cell \u001b[1;32mIn[8], line 11\u001b[0m\n\u001b[0;32m      9\u001b[0m \u001b[38;5;28;01mif\u001b[39;00m user_input\u001b[38;5;241m.\u001b[39mlower() \u001b[38;5;241m==\u001b[39m \u001b[38;5;124m'\u001b[39m\u001b[38;5;124mq\u001b[39m\u001b[38;5;124m'\u001b[39m:\n\u001b[0;32m     10\u001b[0m     \u001b[38;5;28;01mbreak\u001b[39;00m\n\u001b[1;32m---> 11\u001b[0m nombre_user \u001b[38;5;241m=\u001b[39m \u001b[38;5;28mint\u001b[39m(user_input)\n\u001b[0;32m     12\u001b[0m nombre_aleatoire \u001b[38;5;241m=\u001b[39m random\u001b[38;5;241m.\u001b[39mrandint(\u001b[38;5;241m1\u001b[39m, \u001b[38;5;241m9\u001b[39m)\n\u001b[0;32m     14\u001b[0m \u001b[38;5;28;01mif\u001b[39;00m nombre_user \u001b[38;5;241m==\u001b[39m nombre_aleatoire:\n",
      "\u001b[1;31mValueError\u001b[0m: invalid literal for int() with base 10: ''"
     ]
    }
   ],
   "source": [
    "import random\n",
    "\n",
    "gagnes = 0\n",
    "perdues = 0\n",
    "\n",
    "while True:\n",
    "    # Demande d'un nombre entre 1 et 9\n",
    "    user_input = input(\"Devine un nombre entre 1 et 9 (ou 'q' pour quitter) : \")\n",
    "    if user_input.lower() == 'q':\n",
    "        break\n",
    "    nombre_user = int(user_input)\n",
    "    nombre_aleatoire = random.randint(1, 9)\n",
    "\n",
    "    if nombre_user == nombre_aleatoire:\n",
    "        print(\"Gagnant\")\n",
    "        gagnes += 1\n",
    "    else:\n",
    "        print(\"Meilleure chance la prochaine fois\")\n",
    "        perdues += 1\n",
    "\n",
    "# Affichage du score final\n",
    "print(f\"Parties gagnées : {gagnes}\")\n",
    "print(f\"Parties perdues : {perdues}\")\n"
   ]
  }
 ],
 "metadata": {
  "kernelspec": {
   "display_name": "base",
   "language": "python",
   "name": "python3"
  },
  "language_info": {
   "codemirror_mode": {
    "name": "ipython",
    "version": 3
   },
   "file_extension": ".py",
   "mimetype": "text/x-python",
   "name": "python",
   "nbconvert_exporter": "python",
   "pygments_lexer": "ipython3",
   "version": "3.12.7"
  }
 },
 "nbformat": 4,
 "nbformat_minor": 5
}
