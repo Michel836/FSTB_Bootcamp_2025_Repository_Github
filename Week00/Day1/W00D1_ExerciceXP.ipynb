{
 "cells": [
  {
   "cell_type": "markdown",
   "id": "048cb961",
   "metadata": {},
   "source": [
    "## Exercices XP\n",
    "Dernière mise à jour : 28 mai 2025\n",
    "\n",
    "👩‍🏫 👩🏿‍🏫 Ce que vous apprendrez\n",
    "Syntaxe et opérations Python de base.\n",
    "Comment interagir avec l'utilisateur via l'entrée et la sortie.\n",
    "Travailler avec différents types de données, notamment des listes, des tuples et des ensembles.\n",
    "Instructions conditionnelles et boucles en Python.\n",
    "\n",
    "\n",
    "🛠️ Ce que vous allez créer\n",
    "Divers petits programmes qui démontrent des concepts de programmation fondamentaux tels que les boucles, les conditions et les structures de données."
   ]
  },
  {
   "cell_type": "markdown",
   "id": "e29a428c",
   "metadata": {},
   "source": [
    "## 🌟 Exercice 1 : Bonjour le monde\n",
    "Imprimez la sortie suivante en une seule ligne de code :\n",
    "\n",
    "Hello world\n",
    "Hello world\n",
    "Hello world\n",
    "Hello world\n"
   ]
  },
  {
   "cell_type": "code",
   "execution_count": 1,
   "id": "c73658cd",
   "metadata": {},
   "outputs": [
    {
     "name": "stdout",
     "output_type": "stream",
     "text": [
      "Hello world\n",
      "Hello world\n",
      "Hello world\n",
      "Hello world\n"
     ]
    }
   ],
   "source": [
    "# On utilise une seule instruction print() avec le caractère de saut de ligne \\n pour tout afficher sur une ligne\n",
    "print(\"Hello world\\nHello world\\nHello world\\nHello world\")\n"
   ]
  },
  {
   "cell_type": "markdown",
   "id": "17ee6faf",
   "metadata": {},
   "source": [
    "## 🌟 Exercice 2 : Un peu de mathématiques\n",
    "Écrivez du code qui calcule le résultat de : (99^3)*8(ce qui signifie 99 à la puissance 3, fois 8)."
   ]
  },
  {
   "cell_type": "code",
   "execution_count": 2,
   "id": "6812466f",
   "metadata": {},
   "outputs": [
    {
     "name": "stdout",
     "output_type": "stream",
     "text": [
      "7762392\n"
     ]
    }
   ],
   "source": [
    "# On utilise ** pour la puissance en Python et on multiplie le résultat par 8\n",
    "resultat = (99**3) * 8\n",
    "print(resultat)  # Affiche le résultat final\n"
   ]
  },
  {
   "cell_type": "markdown",
   "id": "19de199f",
   "metadata": {},
   "source": [
    "## 🌟 Exercice 3 : Comment t'appelles-tu ?\n",
    "Écrivez du code qui demande à l'utilisateur son nom nameet détermine si vous avez ou non le même nom, imprimez un message amusant en fonction du résultat."
   ]
  },
  {
   "cell_type": "code",
   "execution_count": 3,
   "id": "3417a3ab",
   "metadata": {},
   "outputs": [
    {
     "name": "stdout",
     "output_type": "stream",
     "text": [
      "Sympa, moi c'est Alex !\n"
     ]
    }
   ],
   "source": [
    "# On demande le nom de l'utilisateur avec input()\n",
    "nom_utilisateur = input(\"Comment t'appelles-tu ? \")\n",
    "\n",
    "# On compare le nom à un nom choisi (exemple : \"Alex\")\n",
    "mon_nom = \"Alex\"\n",
    "\n",
    "if nom_utilisateur == mon_nom:\n",
    "    print(\"Incroyable, on a le même nom !\")\n",
    "else:\n",
    "    print(\"Sympa, moi c'est\", mon_nom, \"!\")\n"
   ]
  },
  {
   "cell_type": "markdown",
   "id": "b4cc8f5d",
   "metadata": {},
   "source": [
    "## 🌟 Exercice 4 : Assez grand pour faire des montagnes russes\n",
    "Écrivez du code qui demandera à l'utilisateur sa taille en centimètres.\n",
    "S'ils mesurent plus de 145 cm, imprimez un message indiquant qu'ils sont suffisamment grands pour rouler.\n",
    "S'ils ne sont pas assez grands, imprimez un message indiquant qu'ils doivent grandir encore un peu pour pouvoir rouler."
   ]
  },
  {
   "cell_type": "code",
   "execution_count": 4,
   "id": "1f26be2e",
   "metadata": {},
   "outputs": [
    {
     "name": "stdout",
     "output_type": "stream",
     "text": [
      "Tu es assez grand(e) pour faire des montagnes russes !\n"
     ]
    }
   ],
   "source": [
    "# On demande la taille à l'utilisateur et on convertit en entier\n",
    "taille = int(input(\"Quelle est ta taille en cm ? \"))\n",
    "\n",
    "# On vérifie si la taille est suffisante\n",
    "if taille > 145:\n",
    "    print(\"Tu es assez grand(e) pour faire des montagnes russes !\")\n",
    "else:\n",
    "    print(\"Désolé, il faut encore grandir un peu pour y aller.\")\n"
   ]
  },
  {
   "cell_type": "markdown",
   "id": "bdf05f0f",
   "metadata": {},
   "source": [
    "## 🌟 Exercice 5 : Numéros préférés\n",
    "Sujets clés de Python :\n",
    "\n",
    "Ensembles\n",
    "Ajout/suppression d'éléments dans un ensemble\n",
    "Concaténation d'ensembles (en utilisant l'union)\n",
    "\n",
    "\n",
    "#### Instructions:\n",
    "\n",
    "Créez un ensemble appelé my_fav_numberset remplissez-le avec vos numéros préférés.\n",
    "Ajoutez deux nouveaux nombres à l’ensemble.\n",
    "Supprimez le dernier numéro que vous avez ajouté à l'ensemble.\n",
    "Créez un autre ensemble appelé friend_fav_numberset remplissez-le avec les numéros préférés de votre ami.\n",
    "Concaténer my_fav_numberset friend_fav_numberscréer un nouvel ensemble appelé our_fav_numbers.\n",
    "Remarque : les ensembles sont des collections non ordonnées, assurez-vous donc qu'aucun numéro en double n'est ajouté.\n"
   ]
  },
  {
   "cell_type": "code",
   "execution_count": 5,
   "id": "6f7685a5",
   "metadata": {},
   "outputs": [
    {
     "name": "stdout",
     "output_type": "stream",
     "text": [
      "Mes numéros : {7, 14, 21, 28}\n",
      "Numéros de mon ami : {8, 14, 22}\n",
      "Nos numéros : {21, 22, 7, 8, 28, 14}\n"
     ]
    }
   ],
   "source": [
    "# Création de l'ensemble avec mes numéros préférés\n",
    "my_fav_numbers = {7, 14, 21}\n",
    "\n",
    "# Ajout de deux nouveaux numéros\n",
    "my_fav_numbers.add(28)\n",
    "my_fav_numbers.add(35)\n",
    "\n",
    "# Suppression du dernier numéro ajouté (ici 35)\n",
    "my_fav_numbers.remove(35)\n",
    "\n",
    "# Ensemble des numéros préférés d'un ami\n",
    "friend_fav_numbers = {8, 14, 22}\n",
    "\n",
    "# Concaténation (union) des deux ensembles\n",
    "our_fav_numbers = my_fav_numbers.union(friend_fav_numbers)\n",
    "\n",
    "# Affichage pour vérifier\n",
    "print(\"Mes numéros :\", my_fav_numbers)\n",
    "print(\"Numéros de mon ami :\", friend_fav_numbers)\n",
    "print(\"Nos numéros :\", our_fav_numbers)\n"
   ]
  },
  {
   "cell_type": "markdown",
   "id": "60fcf86b",
   "metadata": {},
   "source": [
    "## 🌟 Exercice 6 : Tuple\n",
    "Sujets clés de Python :\n",
    "\n",
    "Tuples (immuabilité)\n",
    "\n",
    "\n",
    "### Instructions:\n",
    "\n",
    "Étant donné un tuple d'entiers, essayez d'ajouter plus d'entiers au tuple.\n",
    "Astuce : les tuples sont immuables, ce qui signifie qu'ils ne peuvent pas être modifiés après leur création. Réfléchissez à la raison pour laquelle vous ne pouvez pas ajouter d'entiers à un tuple."
   ]
  },
  {
   "cell_type": "code",
   "execution_count": 6,
   "id": "5f67b8c0",
   "metadata": {},
   "outputs": [
    {
     "name": "stdout",
     "output_type": "stream",
     "text": [
      "(1, 2, 3, 4, 5)\n"
     ]
    }
   ],
   "source": [
    "# Création d'un tuple d'entiers\n",
    "mon_tuple = (1, 2, 3)\n",
    "\n",
    "# Essai d'ajout d'un entier au tuple (cette opération n'est pas possible)\n",
    "# mon_tuple.append(4)  # Cette ligne provoque une erreur, car les tuples sont immuables\n",
    "\n",
    "# Explication dans le code :\n",
    "# On ne peut pas modifier un tuple (ajouter, supprimer, changer un élément) après sa création.\n",
    "# Pour ajouter des éléments, il faut créer un nouveau tuple :\n",
    "nouveau_tuple = mon_tuple + (4, 5)\n",
    "print(nouveau_tuple)\n"
   ]
  },
  {
   "cell_type": "markdown",
   "id": "65ecab3d",
   "metadata": {},
   "source": [
    "## 🌟 Exercice 7 : Manipulation de listes\n",
    "Sujets clés de Python :\n",
    "\n",
    "Listes\n",
    "Liste des méthodes : append, remove, insert, count,clear\n",
    "\n",
    "\n",
    "### Instructions:\n",
    "\n",
    "Vous avez une liste :basket = [\"Banana\", \"Apples\", \"Oranges\", \"Blueberries\"]\n",
    "Supprimer \"Banana\"de la liste.\n",
    "Supprimer \"Blueberries\"de la liste.\n",
    "Ajouter \"Kiwi\"à la fin de la liste.\n",
    "Ajouter \"Apples\"au début de la liste.\n",
    "Comptez combien de fois \"Apples\"il apparaît dans la liste.\n",
    "Vider la liste.\n",
    "Imprimez l'état final de la liste."
   ]
  },
  {
   "cell_type": "code",
   "execution_count": 7,
   "id": "c7bf72ed",
   "metadata": {},
   "outputs": [
    {
     "name": "stdout",
     "output_type": "stream",
     "text": [
      "Nombre de 'Apples' : 2\n",
      "Liste finale : []\n"
     ]
    }
   ],
   "source": [
    "# Liste de départ\n",
    "basket = [\"Banana\", \"Apples\", \"Oranges\", \"Blueberries\"]\n",
    "\n",
    "# Suppression de \"Banana\"\n",
    "basket.remove(\"Banana\")\n",
    "\n",
    "# Suppression de \"Blueberries\"\n",
    "basket.remove(\"Blueberries\")\n",
    "\n",
    "# Ajout de \"Kiwi\" à la fin\n",
    "basket.append(\"Kiwi\")\n",
    "\n",
    "# Ajout de \"Apples\" au début (position 0)\n",
    "basket.insert(0, \"Apples\")\n",
    "\n",
    "# Compter combien de fois \"Apples\" apparaît\n",
    "nb_apples = basket.count(\"Apples\")\n",
    "print(\"Nombre de 'Apples' :\", nb_apples)\n",
    "\n",
    "# Vider la liste\n",
    "basket.clear()\n",
    "\n",
    "# Afficher l'état final de la liste (doit être vide)\n",
    "print(\"Liste finale :\", basket)\n"
   ]
  },
  {
   "cell_type": "markdown",
   "id": "c7abf978",
   "metadata": {},
   "source": [
    "## 🌟 Exercice 8 : Commandes de sandwichs\n",
    "En utilisant la liste ci-dessous :\n",
    "\n",
    "sandwich_orders = [\"Tuna sandwich\", \"Pastrami sandwich\", \"Avocado sandwich\", \"Pastrami sandwich\", \"Egg sandwich\", \"Chicken sandwich\", \"Pastrami sandwich\"].\n",
    "\n",
    "La charcuterie n'a plus de pastrami, utilisez une boucle while pour supprimer toutes les occurrences de Pastrami sandwichsandwich_orders.\n",
    "Nous devons préparer les commandes des clients :\n",
    "\n",
    "Créez une liste vide appelée finished_sandwiches.\n",
    "\n",
    "Retirez un à un chaque sandwich de sandwich_ordersla liste tout en les ajoutant à celle-ci finished_sandwiches.\n",
    "Une fois tous les sandwichs préparés, imprimez un message répertoriant chaque sandwich préparé, par exemple :\n",
    "\n",
    "\n",
    "I made your tuna sandwich\n",
    "I made your avocado sandwich\n",
    "I made your egg sandwich\n",
    "I made your chicken sandwich\n"
   ]
  },
  {
   "cell_type": "code",
   "execution_count": 8,
   "id": "7d1a82ba",
   "metadata": {},
   "outputs": [
    {
     "name": "stdout",
     "output_type": "stream",
     "text": [
      "I made your tuna sandwich\n",
      "I made your avocado sandwich\n",
      "I made your egg sandwich\n",
      "I made your chicken sandwich\n"
     ]
    }
   ],
   "source": [
    "# Liste de départ\n",
    "sandwich_orders = [\n",
    "    \"Tuna sandwich\", \"Pastrami sandwich\", \"Avocado sandwich\", \n",
    "    \"Pastrami sandwich\", \"Egg sandwich\", \"Chicken sandwich\", \n",
    "    \"Pastrami sandwich\"\n",
    "]\n",
    "\n",
    "# Suppression de tous les \"Pastrami sandwich\"\n",
    "while \"Pastrami sandwich\" in sandwich_orders:\n",
    "    sandwich_orders.remove(\"Pastrami sandwich\")\n",
    "\n",
    "# Liste des sandwichs préparés\n",
    "finished_sandwiches = []\n",
    "\n",
    "# Préparation des sandwichs restants\n",
    "while sandwich_orders:\n",
    "    sandwich = sandwich_orders.pop(0)  # Retirer le premier sandwich\n",
    "    finished_sandwiches.append(sandwich)\n",
    "    print(f\"I made your {sandwich.lower()}\")  # Affichage du message\n"
   ]
  }
 ],
 "metadata": {
  "kernelspec": {
   "display_name": "base",
   "language": "python",
   "name": "python3"
  },
  "language_info": {
   "codemirror_mode": {
    "name": "ipython",
    "version": 3
   },
   "file_extension": ".py",
   "mimetype": "text/x-python",
   "name": "python",
   "nbconvert_exporter": "python",
   "pygments_lexer": "ipython3",
   "version": "3.12.7"
  }
 },
 "nbformat": 4,
 "nbformat_minor": 5
}
