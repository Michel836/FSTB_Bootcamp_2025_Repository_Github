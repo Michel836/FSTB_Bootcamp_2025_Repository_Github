{
 "cells": [
  {
   "cell_type": "markdown",
   "id": "a757ed67",
   "metadata": {},
   "source": [
    "# Exercices XP Ninja\n",
    "Dernière mise à jour : 31 décembre 2024\n",
    "\n",
    "## 👩‍🏫 👩🏿‍🏫 Ce que vous apprendrez\n",
    "Comprendre et analyser les résultats de différentes expressions Python et fonctions intégrées.\n",
    "Améliorer votre capacité à prédire le comportement des expressions booléennes et des comparaisons de valeurs en Python.\n",
    "Développer des compétences en manipulation de chaînes et en analyse de texte.\n",
    "Apprendre à interagir avec les entrées des utilisateurs pour créer des scripts Python dynamiques et interactifs.\n",
    "Appliquer les concepts de traitement de texte pour effectuer des analyses textuelles et des statistiques détaillées.\n",
    "\n",
    "\n",
    "## 🛠️ Ce que vous allez créer\n",
    "Un programme pour prédire et comprendre les sorties Python complexes impliquant des opérateurs booléens et de comparaison.\n",
    "Un script interactif qui met les utilisateurs au défi de créer les phrases les plus longues sans utiliser de caractère spécifique et fournit des commentaires en temps réel.\n",
    "Un outil d'analyse textuelle détaillé qui calcule diverses mesures sur un paragraphe donné, telles que le nombre de mots, le nombre de phrases, le nombre de mots uniques, etc., fournissant des informations sur le traitement de base du langage naturel."
   ]
  },
  {
   "cell_type": "markdown",
   "id": "f4271870",
   "metadata": {},
   "source": [
    "### Exercice 1 : Résultats\n",
    "Prédisez la sortie des extraits de code suivants :\n",
    "\n",
    "\n",
    "\n",
    ">>> 3 <= 3 < 9\n",
    "\n",
    ">>> 3 == 3 == 3\n",
    "\n",
    ">>> bool(0)\n",
    "\n",
    ">>> bool(5 == \"5\")\n",
    "\n",
    ">>> bool(4 == 4) == bool(\"4\" == \"4\")\n",
    "\n",
    ">>> bool(bool(None))\n",
    "\n",
    "x = (1 == True)\n",
    "y = (1 == False)\n",
    "a = True + 4\n",
    "b = False + 10\n",
    "\n",
    "print(\"x is\", x)\n",
    "print(\"y is\", y)\n",
    "print(\"a:\", a)\n",
    "print(\"b:\", b)"
   ]
  },
  {
   "cell_type": "code",
   "execution_count": 1,
   "id": "d8ba4015",
   "metadata": {},
   "outputs": [
    {
     "name": "stdout",
     "output_type": "stream",
     "text": [
      "x is True\n",
      "y is False\n",
      "a: 5\n",
      "b: 10\n"
     ]
    }
   ],
   "source": [
    "# Prédictions :\n",
    "\n",
    "# 3 <= 3 < 9\n",
    "# True, car 3 <= 3 ET 3 < 9 sont vraies\n",
    "\n",
    "# 3 == 3 == 3\n",
    "# True, car 3 == 3 ET 3 == 3\n",
    "\n",
    "# bool(0)\n",
    "# False, 0 est considéré comme False\n",
    "\n",
    "# bool(5 == \"5\")\n",
    "# False, car 5 n'est pas égal à \"5\" (un int et une str)\n",
    "\n",
    "# bool(4 == 4) == bool(\"4\" == \"4\")\n",
    "# True, car 4 == 4 (True) et \"4\" == \"4\" (True), donc True == True\n",
    "\n",
    "# bool(bool(None))\n",
    "# False, car bool(None) donne False et donc bool(False) est False\n",
    "\n",
    "# Pour les variables :\n",
    "x = (1 == True)  # True, car 1 == True\n",
    "y = (1 == False) # False, car 1 != False\n",
    "a = True + 4     # 5, car True vaut 1\n",
    "b = False + 10   # 10, car False vaut 0\n",
    "\n",
    "print(\"x is\", x)  # x is True\n",
    "print(\"y is\", y)  # y is False\n",
    "print(\"a:\", a)    # a: 5\n",
    "print(\"b:\", b)    # b: 10\n"
   ]
  },
  {
   "cell_type": "markdown",
   "id": "b4b52fab",
   "metadata": {},
   "source": [
    "### Exercice 2 : Le mot le plus long sans caractère spécifique\n",
    "Continuez à demander à l’utilisateur de saisir la phrase la plus longue possible sans le caractère « A ».\n",
    "Chaque fois qu'un utilisateur définit avec succès une nouvelle phrase la plus longue, imprimez un message de félicitations."
   ]
  },
  {
   "cell_type": "code",
   "execution_count": null,
   "id": "87758c71",
   "metadata": {},
   "outputs": [
    {
     "name": "stdout",
     "output_type": "stream",
     "text": [
      "Félicitations, nouvelle phrase la plus longue !\n"
     ]
    }
   ],
   "source": [
    "# On garde la longueur maximale atteinte\n",
    "max_length = 0\n",
    "\n",
    "while True:\n",
    "    phrase = input(\"Saisis la phrase la plus longue possible sans le caractère 'A' : \")\n",
    "    if 'A' in phrase or 'a' in phrase:\n",
    "        print(\"La phrase contient le caractère 'A'. Fin.\")\n",
    "        break\n",
    "    if len(phrase) > max_length:\n",
    "        max_length = len(phrase)\n",
    "        print(\"Félicitations, nouvelle phrase la plus longue !\")\n"
   ]
  },
  {
   "cell_type": "markdown",
   "id": "a9406706",
   "metadata": {},
   "source": [
    "### Exercice 3 : Travailler sur un paragraphe\n",
    "Trouvez un paragraphe de texte intéressant en ligne. (Veuillez le rendre adapté au contexte social de notre classe.)\n",
    "Collez-le dans votre code et stockez-le dans une variable.\n",
    "Analysons le paragraphe. Imprimez un message bien formaté indiquant :\n",
    "Combien de caractères il contient (celui-ci est facile…).\n",
    "Combien de phrases contient-il ?\n",
    "Combien de mots il contient.\n",
    "Combien de mots uniques il contient.\n",
    "Bonus : nombre de caractères non blancs qu'il contient.\n",
    "Bonus : nombre moyen de mots par phrase dans le paragraphe.\n",
    "Bonus : nombre de mots non uniques dans le paragraphe."
   ]
  },
  {
   "cell_type": "code",
   "execution_count": 1,
   "id": "bb047ecd",
   "metadata": {},
   "outputs": [
    {
     "name": "stdout",
     "output_type": "stream",
     "text": [
      "Caractères (avec espaces) : 196\n",
      "Phrases : 3\n",
      "Mots : 25\n",
      "Mots uniques : 21\n",
      "Caractères non blancs : 172\n",
      "Moyenne de mots par phrase : 8.33\n",
      "Mots non uniques : 4\n"
     ]
    }
   ],
   "source": [
    "# Exemple de paragraphe adapté\n",
    "paragraphe = (\"La curiosité est le moteur de l'apprentissage. \"\n",
    "              \"Lorsque nous posons des questions et explorons le monde, \"\n",
    "              \"nous grandissons intellectuellement et émotionnellement. \"\n",
    "              \"L'apprentissage ne s'arrête jamais.\")\n",
    "\n",
    "# Nombre total de caractères (espaces inclus)\n",
    "nb_caracteres = len(paragraphe)\n",
    "\n",
    "# Nombre de phrases (on compte les points)\n",
    "nb_phrases = paragraphe.count('.')\n",
    "\n",
    "# Découpage du texte en mots (en séparant par espace)\n",
    "mots = paragraphe.split()\n",
    "nb_mots = len(mots)\n",
    "\n",
    "# Ensemble de mots uniques (casse insensible, ponctuation retirée)\n",
    "mots_uniques = set(mot.strip(\".,'’\").lower() for mot in mots)\n",
    "nb_mots_uniques = len(mots_uniques)\n",
    "\n",
    "# Bonus : caractères non blancs (sans les espaces)\n",
    "nb_sans_espaces = len(paragraphe.replace(\" \", \"\"))\n",
    "\n",
    "# Bonus : moyenne de mots par phrase\n",
    "moyenne_mots_par_phrase = nb_mots / nb_phrases if nb_phrases else 0\n",
    "\n",
    "# Bonus : mots non uniques\n",
    "nb_mots_non_uniques = nb_mots - nb_mots_uniques\n",
    "\n",
    "# Affichage formaté\n",
    "print(f\"Caractères (avec espaces) : {nb_caracteres}\")\n",
    "print(f\"Phrases : {nb_phrases}\")\n",
    "print(f\"Mots : {nb_mots}\")\n",
    "print(f\"Mots uniques : {nb_mots_uniques}\")\n",
    "print(f\"Caractères non blancs : {nb_sans_espaces}\")\n",
    "print(f\"Moyenne de mots par phrase : {moyenne_mots_par_phrase:.2f}\")\n",
    "print(f\"Mots non uniques : {nb_mots_non_uniques}\")\n"
   ]
  }
 ],
 "metadata": {
  "kernelspec": {
   "display_name": "base",
   "language": "python",
   "name": "python3"
  },
  "language_info": {
   "codemirror_mode": {
    "name": "ipython",
    "version": 3
   },
   "file_extension": ".py",
   "mimetype": "text/x-python",
   "name": "python",
   "nbconvert_exporter": "python",
   "pygments_lexer": "ipython3",
   "version": "3.12.7"
  }
 },
 "nbformat": 4,
 "nbformat_minor": 5
}
