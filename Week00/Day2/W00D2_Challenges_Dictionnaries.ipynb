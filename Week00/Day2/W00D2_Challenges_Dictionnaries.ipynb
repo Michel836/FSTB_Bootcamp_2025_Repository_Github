{
 "cells": [
  {
   "cell_type": "markdown",
   "id": "03b74d2e",
   "metadata": {},
   "source": [
    "# Daily Challenge: Dictionaries\n",
    "Last Updated: March 5th, 2025\n",
    "\n",
    "👩‍🏫 👩🏿‍🏫 What You’ll learn\n",
    "In this challenge, you will enhance your understanding of Python dictionaries, string manipulation, and working with list data structures. You’ll practice iterating over strings, updating dictionaries, and handling data types, all fundamental skills in programming.\n",
    "\n",
    "\n",
    "\n",
    "🛠️ What you will create\n",
    "You will create a Python script that processes user input to map the positions of each letter in a given word into a dictionary. This will involve string indexing, dictionary manipulation, and ensuring data types are appropriately handled.\n",
    "\n",
    "\n",
    "\n",
    "Challenge\n",
    "Ask a user for a word.\n",
    "Write a program that creates a dictionary. This dictionary stores the indexes of each letter in a list.\n",
    "Make sure the letters are the keys.\n",
    "Make sure the letters are strings.\n",
    "Make sure the indexes are stored in a list, and those lists are values.\n",
    "\n",
    "Examples\n",
    "“dodo” ➞ { “d”: [0, 2], “o”: [1, 3] }\n",
    "“froggy” ➞ { “f”: [0], “r”: [1], “o”: [2], “g”: [3, 4], “y”: [5] }\n",
    "“grapes” ➞ { “g”: [0], “r”: [1], “a”: [2], “p”: [3] }"
   ]
  },
  {
   "cell_type": "markdown",
   "id": "7ea07fe9",
   "metadata": {},
   "source": [
    "## 1. Demander un mot à l'utilisateur\n",
    "\n",
    "Utiliser input() pour lire une chaîne de caractères.\n",
    "\n",
    "Exemple : \"dodo\"."
   ]
  },
  {
   "cell_type": "code",
   "execution_count": 13,
   "id": "2dc00d2d",
   "metadata": {},
   "outputs": [],
   "source": [
    "word = input(\"Entrez un mot : \")    # Demande et stocke le mot saisi\n"
   ]
  },
  {
   "cell_type": "markdown",
   "id": "3b013aea",
   "metadata": {},
   "source": [
    "## 2. Créer un dictionnaire vide\n",
    "\n",
    "Ce dictionnaire servira à stocker chaque lettre et ses positions."
   ]
  },
  {
   "cell_type": "code",
   "execution_count": 14,
   "id": "72de5f0c",
   "metadata": {},
   "outputs": [],
   "source": [
    "letters_dict = {}   # Initialise un dictionnaire vide\n"
   ]
  },
  {
   "cell_type": "markdown",
   "id": "d230ff91",
   "metadata": {},
   "source": [
    "## 3. Parcourir chaque lettre du mot (avec son index)\n",
    "\n",
    "Utiliser une boucle avec enumerate() pour avoir à la fois l’index et la lettre."
   ]
  },
  {
   "cell_type": "code",
   "execution_count": 15,
   "id": "bb8fdcba",
   "metadata": {},
   "outputs": [],
   "source": [
    "for index, letter in enumerate(word):   # Pour chaque index et chaque lettre dans le mot\n",
    "    if letter not in letters_dict:          # Si la lettre n'est pas déjà présente\n",
    "        letters_dict[letter] = [index]      # On crée une nouvelle clé avec l'index dans une liste\n",
    "    else:\n",
    "        letters_dict[letter].append(index)  # Sinon on ajoute l'index à la liste existante"
   ]
  },
  {
   "cell_type": "markdown",
   "id": "9899670e",
   "metadata": {},
   "source": [
    "## 4. Pour chaque lettre :\n",
    "\n",
    "Si la lettre n’est pas encore dans le dictionnaire :\n",
    "\n",
    "Ajouter cette lettre comme clé (string) dans le dictionnaire.\n",
    "\n",
    "Créer une liste contenant l’index courant comme valeur.\n",
    "\n",
    "Si la lettre est déjà présente :\n",
    "\n",
    "Ajouter le nouvel index à la liste existante."
   ]
  },
  {
   "cell_type": "markdown",
   "id": "67b423a5",
   "metadata": {},
   "source": [
    "## 5. Afficher le dictionnaire final\n",
    "\n",
    "Les clés sont les lettres (chaînes).\n",
    "\n",
    "Les valeurs sont des listes d’index."
   ]
  },
  {
   "cell_type": "code",
   "execution_count": 16,
   "id": "e05bcfff",
   "metadata": {},
   "outputs": [
    {
     "name": "stdout",
     "output_type": "stream",
     "text": [
      "{'g': [0], 'r': [1], 'a': [2], 'p': [3], 'e': [4], 's': [5]}\n"
     ]
    }
   ],
   "source": [
    "print(letters_dict)    # Affiche le résultat final\n"
   ]
  },
  {
   "cell_type": "markdown",
   "id": "0a49bc03",
   "metadata": {},
   "source": [
    "# Daily challenge Gold : Solve the Matrix\n",
    "\n",
    "\n",
    "\n",
    "👩‍🏫 👩🏿‍🏫 What You’ll learn\n",
    "Python Basics\n",
    "Conditionals\n",
    "Loops\n",
    "Functions\n",
    "\n",
    "\n",
    "Instructions\n",
    "Given a “Matrix” string:\n",
    "\n",
    "7ii\n",
    "Tsx\n",
    "h%?\n",
    "i #\n",
    "sM \n",
    "$a \n",
    "#t%\n",
    "^r!\n",
    "\n",
    "\n",
    "The matrix is a grid of strings (alphanumeric characters and spaces) with a hidden message in it.\n",
    "A grid means that you could potentially break it into rows and columns, like here:\n",
    "\n",
    "7\ti\ti\n",
    "T\ts\tx\n",
    "h\t%\t?\n",
    "i\t\t#\n",
    "s\tM\t\n",
    "$\ta\t\n",
    "#\tt\t%\n",
    "^\tr\t!\n",
    "\n",
    "\n",
    "Matrix: A matrix is a two-dimensional array. It is a grid of numbers arranged in rows and columns.\n",
    "To reproduce the grid, the matrix should be a 2D list, not a string\n",
    "\n",
    "\n",
    "\n",
    "To decrypt the matrix, Neo reads each column from top to bottom, starting from the leftmost column, selecting only the alpha characters and connecting them. Then he replaces every group of symbols between two alpha characters by a space.\n",
    "\n",
    "Using his technique, try to decode this matrix.\n",
    "\n",
    "Hints:\n",
    "\n",
    "Use\n",
    "\n",
    "● lists for storing data\n",
    "● Loops for going through the data\n",
    "● if/else statements to check the data\n",
    "● String for the output of the secret message\n",
    "\n",
    "Hint (if needed) : Look at the remote learning “Matrix” video.\n",
    "\n"
   ]
  },
  {
   "cell_type": "code",
   "execution_count": null,
   "id": "67ce6ec0",
   "metadata": {},
   "outputs": [
    {
     "name": "stdout",
     "output_type": "stream",
     "text": [
      "This is Matrix\n"
     ]
    }
   ],
   "source": [
    "# 1. Ecrire la matrice comme une liste de chaînes (chaque chaîne = une ligne)\n",
    "matrix = [\n",
    "    \"7ii\",\n",
    "    \"Tsx\",\n",
    "    \"h%?\",\n",
    "    \"i #\",\n",
    "    \"sM \",\n",
    "    \"$a \",\n",
    "    \"#t%\",\n",
    "    \"^r!\"\n",
    "]\n",
    "\n",
    "# 2. Récupérer la longueur maximale des lignes (colonnes)\n",
    "num_cols = max(len(row) for row in matrix)\n",
    "\n",
    "# 3. Lire colonne par colonne, de haut en bas\n",
    "message = \"\"\n",
    "for col in range(num_cols):\n",
    "    for row in matrix:\n",
    "        if col < len(row):\n",
    "            message += row[col]\n",
    "\n",
    "# 4. Remplacer chaque séquence non-alphabétique entre deux lettres par un espace\n",
    "import re\n",
    "decoded = re.sub(r'[^a-zA-Z]+', ' ', message)      # remplace les groupes de non-lettres par un espace\n",
    "\n",
    "# 5. Afficher le résultat\n",
    "print(decoded.strip())\n"
   ]
  }
 ],
 "metadata": {
  "kernelspec": {
   "display_name": "Python 3",
   "language": "python",
   "name": "python3"
  },
  "language_info": {
   "codemirror_mode": {
    "name": "ipython",
    "version": 3
   },
   "file_extension": ".py",
   "mimetype": "text/x-python",
   "name": "python",
   "nbconvert_exporter": "python",
   "pygments_lexer": "ipython3",
   "version": "3.12.8"
  }
 },
 "nbformat": 4,
 "nbformat_minor": 5
}
