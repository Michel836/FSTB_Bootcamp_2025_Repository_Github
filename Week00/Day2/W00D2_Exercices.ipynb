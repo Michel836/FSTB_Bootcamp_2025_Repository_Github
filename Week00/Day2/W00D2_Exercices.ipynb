{
 "cells": [
  {
   "cell_type": "markdown",
   "id": "0e1eee9f",
   "metadata": {},
   "source": [
    "# Exercise 1 : Boolean Logic\n",
    "Instructions\n",
    "Complete the exercises below by writing an expression in Python to answer the question:"
   ]
  },
  {
   "cell_type": "code",
   "execution_count": 21,
   "id": "38efe5b1",
   "metadata": {},
   "outputs": [],
   "source": [
    "# 1. Declare a variable called first and assign it to \"Hello World\"\n",
    "first = \"Hello World\""
   ]
  },
  {
   "cell_type": "code",
   "execution_count": 22,
   "id": "f6521f70",
   "metadata": {},
   "outputs": [],
   "source": [
    "# 2. Write a comment that says \"This is a comment.\"\n",
    "# This is a comment."
   ]
  },
  {
   "cell_type": "code",
   "execution_count": 23,
   "id": "ded4af2c",
   "metadata": {},
   "outputs": [
    {
     "name": "stdout",
     "output_type": "stream",
     "text": [
      "I AM A COMPUTER!\n"
     ]
    }
   ],
   "source": [
    "# 3. Log a message to the terminal that says \"I AM A COMPUTER!\"\n",
    "print(\"I AM A COMPUTER!\")"
   ]
  },
  {
   "cell_type": "code",
   "execution_count": 24,
   "id": "5737c1bf",
   "metadata": {},
   "outputs": [
    {
     "name": "stdout",
     "output_type": "stream",
     "text": [
      "Math is fun.\n"
     ]
    }
   ],
   "source": [
    "# 4. Write an if statement: 1 < 2 and 4 > 2 => print \"Math is fun.\"\n",
    "if 1 < 2 and 4 > 2:\n",
    "    print(\"Math is fun.\")"
   ]
  },
  {
   "cell_type": "code",
   "execution_count": 25,
   "id": "44d9b3b0",
   "metadata": {},
   "outputs": [],
   "source": [
    "# 5. Assign a variable called nope to an absence of value (None in Python)\n",
    "nope = None"
   ]
  },
  {
   "cell_type": "code",
   "execution_count": 41,
   "id": "834ce9f0",
   "metadata": {},
   "outputs": [
    {
     "name": "stdout",
     "output_type": "stream",
     "text": [
      "False\n"
     ]
    }
   ],
   "source": [
    "# 6. Use boolean \"and\" operator with True and False\n",
    "result = True and False\n",
    "print(result)"
   ]
  },
  {
   "cell_type": "code",
   "execution_count": 42,
   "id": "607b21e2",
   "metadata": {},
   "outputs": [
    {
     "name": "stdout",
     "output_type": "stream",
     "text": [
      "17\n"
     ]
    }
   ],
   "source": [
    "# 7. Calculate the length of the string \"What's my length?\"\n",
    "length = len(\"What's my length?\")\n",
    "print(length)"
   ]
  },
  {
   "cell_type": "code",
   "execution_count": 28,
   "id": "d37f9da8",
   "metadata": {},
   "outputs": [
    {
     "name": "stdout",
     "output_type": "stream",
     "text": [
      "I AM SHOUTING\n"
     ]
    }
   ],
   "source": [
    "# 8. Convert the string \"i am shouting\" to uppercase\n",
    "shout = \"i am shouting\".upper()\n",
    "print(shout)"
   ]
  },
  {
   "cell_type": "code",
   "execution_count": 29,
   "id": "5d2936ea",
   "metadata": {},
   "outputs": [
    {
     "name": "stdout",
     "output_type": "stream",
     "text": [
      "1000\n"
     ]
    }
   ],
   "source": [
    "# 9. Convert the string \"1000\" to the number 1000\n",
    "num = int(\"1000\")\n",
    "print(num)"
   ]
  },
  {
   "cell_type": "code",
   "execution_count": 30,
   "id": "f7e91f75",
   "metadata": {},
   "outputs": [
    {
     "name": "stdout",
     "output_type": "stream",
     "text": [
      "4real\n"
     ]
    }
   ],
   "source": [
    "# 10. Combine the number 4 with the string \"real\" to get \"4real\"\n",
    "combined = str(4) + \"real\"\n",
    "print(combined)\n"
   ]
  },
  {
   "cell_type": "code",
   "execution_count": null,
   "id": "fafd53db",
   "metadata": {},
   "outputs": [
    {
     "name": "stdout",
     "output_type": "stream",
     "text": [
      "coolcoolcool\n"
     ]
    }
   ],
   "source": [
    "# 11. Record the output of 3 * \"cool\"\n",
    "# It will repeat the string 3 times\n",
    "print(3 * \"cool\")"
   ]
  },
  {
   "cell_type": "code",
   "execution_count": 32,
   "id": "a9c338f8",
   "metadata": {},
   "outputs": [],
   "source": [
    "# 12. Record the output of 1 / 0\n",
    "# This will crash the program with a ZeroDivisionError\n",
    "# print(1 / 0)  # Uncommenting this will cause an error"
   ]
  },
  {
   "cell_type": "code",
   "execution_count": null,
   "id": "4f5a83e5",
   "metadata": {},
   "outputs": [
    {
     "name": "stdout",
     "output_type": "stream",
     "text": [
      "<class 'list'>\n"
     ]
    }
   ],
   "source": [
    "# 13. Determine the type of []\n",
    "print(type([]))"
   ]
  },
  {
   "cell_type": "code",
   "execution_count": 34,
   "id": "21e0d70b",
   "metadata": {},
   "outputs": [
    {
     "name": "stdout",
     "output_type": "stream",
     "text": [
      "Hello, Michel!\n"
     ]
    }
   ],
   "source": [
    "# 14. Ask the user for their name and store it in a variable called name\n",
    "name = input(\"Enter your name: \")\n",
    "print(\"Hello, \" + name + \"!\")"
   ]
  },
  {
   "cell_type": "code",
   "execution_count": 35,
   "id": "8e74d2b8",
   "metadata": {},
   "outputs": [
    {
     "name": "stdout",
     "output_type": "stream",
     "text": [
      "That number is greater than 0!\n"
     ]
    }
   ],
   "source": [
    "# 15. Ask the user for a number, and show a message based on its value\n",
    "number = int(input(\"Enter a number: \"))\n",
    "if number < 0:\n",
    "    print(\"That number is less than 0!\")\n",
    "elif number > 0:\n",
    "    print(\"That number is greater than 0!\")\n",
    "else:\n",
    "    print(\"You picked 0!\")"
   ]
  },
  {
   "cell_type": "code",
   "execution_count": null,
   "id": "929fe4dd",
   "metadata": {},
   "outputs": [
    {
     "name": "stdout",
     "output_type": "stream",
     "text": [
      "3\n"
     ]
    }
   ],
   "source": [
    "# 16. Find the index of \"l\" in \"apple\"\n",
    "index = \"apple\".index(\"l\")\n",
    "print(index)"
   ]
  },
  {
   "cell_type": "code",
   "execution_count": null,
   "id": "a170cfb4",
   "metadata": {},
   "outputs": [
    {
     "name": "stdout",
     "output_type": "stream",
     "text": [
      "True\n"
     ]
    }
   ],
   "source": [
    "# 17. Check whether \"y\" is in \"xylophone\"\n",
    "print(\"y\" in \"xylophone\")"
   ]
  },
  {
   "cell_type": "code",
   "execution_count": null,
   "id": "29715704",
   "metadata": {},
   "outputs": [
    {
     "name": "stdout",
     "output_type": "stream",
     "text": [
      "True\n"
     ]
    }
   ],
   "source": [
    "# 18. Check whether my_string is all lowercase\n",
    "my_string = \"hello world\"\n",
    "print(my_string.islower())"
   ]
  },
  {
   "cell_type": "markdown",
   "id": "33be5d79",
   "metadata": {},
   "source": [
    "# Exercise 2 : cat's and dog's years\n",
    "Instructions\n",
    "Write a program that will calculate cat’s and dog’s years based on human years:\n",
    "\n",
    "I have a cat and a dog. I got them at the same time as kitten/puppy. That was humanYears years ago. Print their respective ages now as [humanYears,catYears,dogYears]\n",
    "\n",
    "NOTES:\n",
    "\n",
    "humanYears >= 1 humanYears are whole numbers only\n",
    "\n",
    "Cat Years 15 cat years for first year +9 cat years for second year +4 cat years for each year after that\n",
    "\n",
    "Dog Years 15 dog years for first year +9 dog years for second year +5 dog years for each year after that\n",
    "\n",
    "example of output:\n",
    "\n",
    "human_years = 10\n",
    "output: [10, 56, 64]\n",
    "\n",
    "human_years = 1\n",
    "output: [1, 15, 15]\n",
    "\n",
    "human_years = 2\n",
    "output [2, 24, 24]\n",
    "\n",
    "\n",
    "test the program with the following values:\n",
    "\n",
    "human_years = 10\n",
    "human_years = 1\n",
    "human_years = 2"
   ]
  },
  {
   "cell_type": "code",
   "execution_count": 44,
   "id": "7b32eab7",
   "metadata": {},
   "outputs": [
    {
     "name": "stdout",
     "output_type": "stream",
     "text": [
      "[10, 56, 64]\n",
      "[1, 15, 15]\n",
      "[2, 24, 24]\n"
     ]
    }
   ],
   "source": [
    "# Simple program to calculate cat and dog years from human years\n",
    "\n",
    "# Test 1\n",
    "human_years = 10\n",
    "\n",
    "if human_years == 1:\n",
    "    cat_years = 15\n",
    "    dog_years = 15\n",
    "elif human_years == 2:\n",
    "    cat_years = 15 + 9\n",
    "    dog_years = 15 + 9\n",
    "else:\n",
    "    cat_years = 15 + 9 + (human_years - 2) * 4\n",
    "    dog_years = 15 + 9 + (human_years - 2) * 5\n",
    "\n",
    "print([human_years, cat_years, dog_years])  # [10, 56, 64]\n",
    "\n",
    "# Test 2\n",
    "human_years = 1\n",
    "\n",
    "if human_years == 1:\n",
    "    cat_years = 15\n",
    "    dog_years = 15\n",
    "elif human_years == 2:\n",
    "    cat_years = 15 + 9\n",
    "    dog_years = 15 + 9\n",
    "else:\n",
    "    cat_years = 15 + 9 + (human_years - 2) * 4\n",
    "    dog_years = 15 + 9 + (human_years - 2) * 5\n",
    "\n",
    "print([human_years, cat_years, dog_years])  # [1, 15, 15]\n",
    "\n",
    "# Test 3\n",
    "human_years = 2\n",
    "\n",
    "if human_years == 1:\n",
    "    cat_years = 15\n",
    "    dog_years = 15\n",
    "elif human_years == 2:\n",
    "    cat_years = 15 + 9\n",
    "    dog_years = 15 + 9\n",
    "else:\n",
    "    cat_years = 15 + 9 + (human_years - 2) * 4\n",
    "    dog_years = 15 + 9 + (human_years - 2) * 5\n",
    "\n",
    "print([human_years, cat_years, dog_years])  # [2, 24, 24]\n"
   ]
  },
  {
   "cell_type": "markdown",
   "id": "3089f883",
   "metadata": {},
   "source": [
    "# Explication de l'exercice — Âge des chats et chiens\n",
    "Ce petit programme en Python permet de convertir l’âge humain d’un chat et d’un chien en âge \"animal\".\n",
    "On suppose que tu as adopté ton chaton et ton chiot en même temps, il y a un certain nombre d’années.\n",
    "\n",
    "## Les règles de calcul\n",
    "Pour les chats :\n",
    "La 1ère année humaine compte pour 15 ans chats\n",
    "\n",
    "La 2ème année humaine ajoute 9 ans chats\n",
    "\n",
    "Chaque année suivante ajoute 4 ans chats\n",
    "\n",
    "Pour les chiens :\n",
    "La 1ère année humaine = 15 ans chiens\n",
    "\n",
    "La 2ème année humaine = +9 ans chiens\n",
    "\n",
    "Chaque année après = +5 ans chiens\n",
    "\n",
    "## Exemples de calcul\n",
    "Si tu dis que ton animal a 1 an :\n",
    "Chat : 15 ans\n",
    "\n",
    "Chien : 15 ans\n",
    "Résultat : [1, 15, 15]\n",
    "\n",
    "Si ton animal a 2 ans :\n",
    "Chat : 15 + 9 = 24 ans\n",
    "\n",
    "Chien : 15 + 9 = 24 ans\n",
    "Résultat : [2, 24, 24]\n",
    "\n",
    "Si ton animal a 10 ans :\n",
    "Chat : 15 + 9 + (8 × 4) = 15 + 9 + 32 = 56\n",
    "\n",
    "Chien : 15 + 9 + (8 × 5) = 15 + 9 + 40 = 64\n",
    "Résultat : [10, 56, 64]\n",
    "\n",
    "## Ce que fait le programme\n",
    "Il prend un âge humain (ex. 10)\n",
    "\n",
    "Il calcule l’âge chat avec les règles ci-dessus\n",
    "\n",
    "Il calcule l’âge chien\n",
    "\n",
    "Il affiche les trois valeurs dans une liste : [âge humain, âge chat, âge chien]\n",
    "\n"
   ]
  },
  {
   "cell_type": "markdown",
   "id": "b515ac2b",
   "metadata": {},
   "source": [
    "#  Bilan des exercices — Début du Bootcamp IA\n",
    "Tu viens de terminer une série d'exercices fondamentaux dans le cadre de ton bootcamp en intelligence artificielle. Voici un résumé clair et structuré de ce que tu as appris jusqu’ici :\n",
    "\n",
    "## Exercice 1 – Logique booléenne et manipulations de base\n",
    "Objectifs atteints :\n",
    "\n",
    "Déclarer et utiliser des variables (first = \"Hello World\")\n",
    "\n",
    "Utiliser la fonction print() pour afficher des messages\n",
    "\n",
    "Écrire des commentaires pour documenter le code\n",
    "\n",
    "Utiliser des opérateurs logiques (and, or)\n",
    "\n",
    "Gérer des valeurs spéciales : None, True, False\n",
    "\n",
    "Appliquer des fonctions de transformation : len(), .upper(), int(), str()\n",
    "\n",
    "Concaténer du texte et des nombres\n",
    "\n",
    "Comprendre les erreurs courantes (1 / 0)\n",
    "\n",
    "Utiliser input() pour interagir avec l’utilisateur\n",
    "\n",
    "Écrire des conditions simples avec if, elif, else\n",
    "\n",
    "Travailler avec les types (type([]), isupper(), islower())\n",
    "\n",
    "Rechercher dans une chaîne (in, .index())\n",
    "\n",
    "Ce que tu maîtrises maintenant :\n",
    "\n",
    "Les bases du langage Python pour manipuler des données, interagir avec l'utilisateur et appliquer une logique conditionnelle.\n",
    "\n",
    "## Exercice 2 – Conversion d’années humaines en années animales\n",
    "Objectifs atteints :\n",
    "\n",
    "Écrire un algorithme avec des règles conditionnelles\n",
    "\n",
    "Utiliser if, elif, else de façon structurée\n",
    "\n",
    "Calculer des valeurs selon des formules spécifiques\n",
    "\n",
    "Afficher les résultats dans une liste formatée\n",
    "\n",
    "Réutiliser une logique pour différents cas de test\n",
    "\n",
    "Ce que tu maîtrises maintenant :\n",
    "\n",
    "L’écriture de logique algorithmique claire, avec des règles, des branches conditionnelles et des tests multiples.\n",
    "\n",
    "## Compétences acquises (à ce stade du bootcamp)\n",
    "Syntaxe de base Python\n",
    "\n",
    "Types de données (string, int, bool, NoneType)\n",
    "\n",
    "Entrées/sorties (input, print)\n",
    "\n",
    "Conversions de types\n",
    "\n",
    "Conditions (if, elif, else)\n",
    "\n",
    "Opérations booléennes\n",
    "\n",
    "Gestion d’erreurs simples\n",
    "\n",
    "Structure logique d’un programme\n",
    "\n",
    "\n"
   ]
  }
 ],
 "metadata": {
  "kernelspec": {
   "display_name": "Python 3",
   "language": "python",
   "name": "python3"
  },
  "language_info": {
   "codemirror_mode": {
    "name": "ipython",
    "version": 3
   },
   "file_extension": ".py",
   "mimetype": "text/x-python",
   "name": "python",
   "nbconvert_exporter": "python",
   "pygments_lexer": "ipython3",
   "version": "3.11.9"
  }
 },
 "nbformat": 4,
 "nbformat_minor": 5
}
