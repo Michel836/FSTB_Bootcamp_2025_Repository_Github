{
 "cells": [
  {
   "cell_type": "markdown",
   "id": "136b4f5b",
   "metadata": {},
   "source": [
    "# TP Fonctions Basics"
   ]
  },
  {
   "cell_type": "markdown",
   "id": "90dfefa6",
   "metadata": {},
   "source": [
    "## 1-Exercise 1 : Add Two Numbers\n",
    "Instructions\n",
    "Write a function add_two_numbers that takes two numbers as parameters and returns their sum.\n",
    "\n",
    "Example:\n",
    "\n",
    "print(add_two_numbers(3, 5))  # Output: 8\n",
    "print(add_two_numbers(10, 20))  # Output: 30"
   ]
  },
  {
   "cell_type": "code",
   "execution_count": 2,
   "id": "900014f3",
   "metadata": {},
   "outputs": [
    {
     "name": "stdout",
     "output_type": "stream",
     "text": [
      "8\n",
      "30\n"
     ]
    }
   ],
   "source": [
    "def add_two_numbers(a, b):\n",
    "    return a + b\n",
    "\n",
    "# Exemple d'utilisation\n",
    "print(add_two_numbers(3, 5))    # Affiche : 8\n",
    "print(add_two_numbers(10, 20))  # Affiche : 30\n"
   ]
  },
  {
   "cell_type": "markdown",
   "id": "42237d87",
   "metadata": {},
   "source": [
    "## 2-Exercise 2 : Print a Greeting\n",
    "Instructions\n",
    "Write a function greet that takes one parameter, a person’s name, and prints a greeting message like “Hello, [name]!”.\n",
    "\n",
    "Example:\n",
    "\n",
    "greet(\"Alice\")  # Output: \"Hello, Alice!\"\n",
    "greet(\"Bob\")    # Output: \"Hello, Bob!\""
   ]
  },
  {
   "cell_type": "code",
   "execution_count": 3,
   "id": "aed6b318",
   "metadata": {},
   "outputs": [
    {
     "name": "stdout",
     "output_type": "stream",
     "text": [
      "Hello, Alice!\n",
      "Hello, Bob!\n"
     ]
    }
   ],
   "source": [
    "def greet(name):\n",
    "    print(f\"Hello, {name}!\")\n",
    "\n",
    "# Exemple d'utilisation\n",
    "greet(\"Alice\")  # Affiche : \"Hello, Alice!\"\n",
    "greet(\"Bob\")    # Affiche : \"Hello, Bob!\"\n"
   ]
  },
  {
   "cell_type": "markdown",
   "id": "a685d430",
   "metadata": {},
   "source": [
    "## 3-Exercise 3 : Check if Number is Even or Odd\n",
    "Instructions\n",
    "Write a function check_even_odd that takes one number and prints “Even” if the number is even, and “Odd” if the number is odd.\n",
    "\n",
    "Example:\n",
    "\n",
    "check_even_odd(4)  # Output: \"Even\"\n",
    "check_even_odd(7)  # Output: \"Odd\""
   ]
  },
  {
   "cell_type": "code",
   "execution_count": 4,
   "id": "06d273be",
   "metadata": {},
   "outputs": [
    {
     "name": "stdout",
     "output_type": "stream",
     "text": [
      "Even\n",
      "Odd\n"
     ]
    }
   ],
   "source": [
    "def check_even_odd(number):\n",
    "    if number % 2 == 0:\n",
    "        print(\"Even\")\n",
    "    else:\n",
    "        print(\"Odd\")\n",
    "\n",
    "# Exemple d'utilisation\n",
    "check_even_odd(4)  # Affiche : \"Even\"\n",
    "check_even_odd(7)  # Affiche : \"Odd\"\n"
   ]
  },
  {
   "cell_type": "markdown",
   "id": "bc55c17a",
   "metadata": {},
   "source": [
    "## 4-Exercise 4 : Sum of Numbers in a List\n",
    "Instructions\n",
    "Write a function sum_list that takes a list of numbers as a parameter and returns the sum of all numbers in the list.\n",
    "\n",
    "Example:\n",
    "\n",
    "print(sum_list([1, 2, 3, 4]))  # Output: 10\n",
    "print(sum_list([5, 5, 5]))  # Output: 15\n"
   ]
  },
  {
   "cell_type": "code",
   "execution_count": 5,
   "id": "51d6eb52",
   "metadata": {},
   "outputs": [
    {
     "name": "stdout",
     "output_type": "stream",
     "text": [
      "10\n",
      "15\n"
     ]
    }
   ],
   "source": [
    "def sum_list(numbers):\n",
    "    return sum(numbers)\n",
    "\n",
    "# Exemple d'utilisation\n",
    "print(sum_list([1, 2, 3, 4]))  # Affiche : 10\n",
    "print(sum_list([5, 5, 5]))     # Affiche : 15\n"
   ]
  },
  {
   "cell_type": "markdown",
   "id": "00033e92",
   "metadata": {},
   "source": [
    "## 5-Exercise 5 : Print Days of the Week\n",
    "Instructions\n",
    "Write a function print_days that prints the days of the week (Sunday, Monday, Tuesday, etc.) using a loop.\n",
    "\n",
    "Example:\n",
    "\n",
    "print_days()  \n",
    "Output:\n",
    "Sunday\n",
    "Monday\n",
    "Tuesday\n",
    "Wednesday\n",
    "Thursday\n",
    "Friday\n",
    "Saturday\n"
   ]
  },
  {
   "cell_type": "code",
   "execution_count": 6,
   "id": "5405594f",
   "metadata": {},
   "outputs": [
    {
     "name": "stdout",
     "output_type": "stream",
     "text": [
      "Sunday\n",
      "Monday\n",
      "Tuesday\n",
      "Wednesday\n",
      "Thursday\n",
      "Friday\n",
      "Saturday\n"
     ]
    }
   ],
   "source": [
    "def print_days():\n",
    "    days = [\"Sunday\", \"Monday\", \"Tuesday\", \"Wednesday\", \"Thursday\", \"Friday\", \"Saturday\"]\n",
    "    for day in days:\n",
    "        print(day)\n",
    "\n",
    "# Exemple d'utilisation\n",
    "print_days()\n"
   ]
  },
  {
   "cell_type": "markdown",
   "id": "7cce619c",
   "metadata": {},
   "source": [
    "## 6-Exercise 6 : Check if Number is Positive, Negative, or Zero\n",
    "Instructions\n",
    "Write a function check_sign that takes a number and prints whether the number is positive, negative, or zero.\n",
    "\n",
    "Example:\n",
    "\n",
    "check_sign(10)  # Output: \"Positive\"\n",
    "check_sign(-5)  # Output: \"Negative\"\n",
    "check_sign(0)   # Output: \"Zero\""
   ]
  },
  {
   "cell_type": "code",
   "execution_count": null,
   "id": "ab5fa3e7",
   "metadata": {},
   "outputs": [],
   "source": [
    "def check_sign(number):\n",
    "    if number > 0:\n",
    "        print(\"Positive\")\n",
    "    elif number < 0:\n",
    "        print(\"Negative\")\n",
    "    else:\n",
    "        print(\"Zero\")\n",
    "\n",
    "# Exemple d'utilisation\n",
    "check_sign(10)   # Affiche : \"Positive\"\n",
    "check_sign(-5)   # Affiche : \"Negative\"\n",
    "check_sign(0)    # Affiche : \"Zero\"\n"
   ]
  },
  {
   "cell_type": "markdown",
   "id": "5b3e7e61",
   "metadata": {},
   "source": [
    "## 7-Exercise 7 : Repeat a Word\n",
    "Instructions\n",
    "Write a function repeat_word that takes a word and a number as parameters and prints the word that many times.\n",
    "\n",
    "Example:\n",
    "\n",
    "repeat_word(\"hello\", 3)  \n",
    "Output:\n",
    "hello\n",
    "hello\n",
    "hello\n",
    "\n",
    "repeat_word(\"goodbye\", 2)  \n",
    "Output:\n",
    "goodbye\n",
    "goodbye"
   ]
  },
  {
   "cell_type": "code",
   "execution_count": 7,
   "id": "a0190c41",
   "metadata": {},
   "outputs": [
    {
     "name": "stdout",
     "output_type": "stream",
     "text": [
      "hello\n",
      "hello\n",
      "hello\n",
      "goodbye\n",
      "goodbye\n"
     ]
    }
   ],
   "source": [
    "def repeat_word(word, n):\n",
    "    for _ in range(n):\n",
    "        print(word)\n",
    "\n",
    "# Exemple d'utilisation\n",
    "repeat_word(\"hello\", 3)\n",
    "repeat_word(\"goodbye\", 2)\n"
   ]
  },
  {
   "cell_type": "markdown",
   "id": "479b4c14",
   "metadata": {},
   "source": [
    "# Exercises Functions - Intermediate"
   ]
  },
  {
   "cell_type": "markdown",
   "id": "d78b4c7b",
   "metadata": {},
   "source": [
    "## 1-Exercise 1 : Return the Largest Number\n",
    "Instructions\n",
    "Write a function find_largest that takes a list of numbers and returns the largest number in the list.\n",
    "\n",
    "Example:\n",
    "\n",
    "print(find_largest([1, 2, 3, 4]))  # Output: 4\n",
    "print(find_largest([10, 20, 5]))  # Output: 20"
   ]
  },
  {
   "cell_type": "code",
   "execution_count": 8,
   "id": "cd00ea8a",
   "metadata": {},
   "outputs": [
    {
     "name": "stdout",
     "output_type": "stream",
     "text": [
      "4\n",
      "20\n"
     ]
    }
   ],
   "source": [
    "def find_largest(numbers):\n",
    "    return max(numbers)\n",
    "\n",
    "# Exemple d'utilisation\n",
    "print(find_largest([1, 2, 3, 4]))   # Affiche : 4\n",
    "print(find_largest([10, 20, 5]))    # Affiche : 20\n"
   ]
  },
  {
   "cell_type": "markdown",
   "id": "39cce063",
   "metadata": {},
   "source": [
    "# 2-Exercise 2 : Check for Letter in Word\n",
    "Instructions\n",
    "Write a function check_letter that takes a word and a letter as parameters and checks if the letter is in the word. It should return True if the letter is found and False if not.\n",
    "\n",
    "Example:\n",
    "\n",
    "print(check_letter(\"apple\", \"a\"))  # Output: True\n",
    "print(check_letter(\"banana\", \"z\"))  # Output: False\n"
   ]
  },
  {
   "cell_type": "code",
   "execution_count": 9,
   "id": "a6705206",
   "metadata": {},
   "outputs": [
    {
     "name": "stdout",
     "output_type": "stream",
     "text": [
      "True\n",
      "False\n"
     ]
    }
   ],
   "source": [
    "def check_letter(word, letter):\n",
    "    return letter in word\n",
    "\n",
    "# Exemple d'utilisation\n",
    "print(check_letter(\"apple\", \"a\"))   # Affiche : True\n",
    "print(check_letter(\"banana\", \"z\"))  # Affiche : False\n"
   ]
  },
  {
   "cell_type": "markdown",
   "id": "0acbd61b",
   "metadata": {},
   "source": [
    "## 3-Exercise 3 : Count to a Number\n",
    "Instructions\n",
    "Write a function count_to_number that takes a number as a parameter and prints all numbers from 1 to that number.\n",
    "\n",
    "Example:\n",
    "\n",
    "count_to_number(3)  \n",
    "Output:\n",
    "1\n",
    "2\n",
    "3\n",
    "\n",
    "count_to_number(5)  \n",
    "Output:\n",
    "1\n",
    "2\n",
    "3\n",
    "4\n",
    "5"
   ]
  },
  {
   "cell_type": "code",
   "execution_count": 10,
   "id": "0dd34d0a",
   "metadata": {},
   "outputs": [
    {
     "name": "stdout",
     "output_type": "stream",
     "text": [
      "1\n",
      "2\n",
      "3\n",
      "1\n",
      "2\n",
      "3\n",
      "4\n",
      "5\n"
     ]
    }
   ],
   "source": [
    "def count_to_number(n):\n",
    "    for i in range(1, n + 1):\n",
    "        print(i)\n",
    "\n",
    "# Exemple d'utilisation\n",
    "count_to_number(3)\n",
    "count_to_number(5)\n"
   ]
  },
  {
   "cell_type": "markdown",
   "id": "6285a711",
   "metadata": {},
   "source": [
    "# Bilan rapide de ces exercices :\n",
    "\n",
    "Exercices très basiques : Ils couvrent les fondamentaux de la programmation Python (fonctions, boucles, conditions, listes, etc.).\n",
    "\n",
    "Objectifs principaux :\n",
    "\n",
    "Manipulation de fonctions et paramètres\n",
    "\n",
    "Contrôle de flux (if, for)\n",
    "\n",
    "Opérations sur les listes\n",
    "\n",
    "Retour de valeurs et affichage avec print\n",
    "\n",
    "Utilité : Parfaits pour débutants, permettent de consolider les bases essentielles."
   ]
  }
 ],
 "metadata": {
  "kernelspec": {
   "display_name": "Python 3",
   "language": "python",
   "name": "python3"
  },
  "language_info": {
   "codemirror_mode": {
    "name": "ipython",
    "version": 3
   },
   "file_extension": ".py",
   "mimetype": "text/x-python",
   "name": "python",
   "nbconvert_exporter": "python",
   "pygments_lexer": "ipython3",
   "version": "3.11.9"
  }
 },
 "nbformat": 4,
 "nbformat_minor": 5
}
