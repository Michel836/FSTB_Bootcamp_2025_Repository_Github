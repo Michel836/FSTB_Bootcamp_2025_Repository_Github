{
 "cells": [
  {
   "cell_type": "markdown",
   "id": "7d162506",
   "metadata": {},
   "source": [
    "# Exercise - Lists\n",
    "Last Updated: March 27th, 2025\n",
    "\n",
    "\n",
    "\n",
    "🌟 Exercise 1 : Lists\n",
    "\n",
    "Instructions\n",
    "Write Python code to complete the following tasks."
   ]
  },
  {
   "cell_type": "code",
   "execution_count": null,
   "id": "ff6de337",
   "metadata": {},
   "outputs": [
    {
     "name": "stdout",
     "output_type": "stream",
     "text": [
      "1\n",
      "2\n",
      "3\n",
      "4\n"
     ]
    }
   ],
   "source": [
    "# 1-Given a list [1, 2, 3, 4], print out all the values in the list one by one.\n",
    "\n",
    "liste = [1, 2, 3, 4]\n",
    "for valeur in liste:\n",
    "    print(valeur)"
   ]
  },
  {
   "cell_type": "code",
   "execution_count": null,
   "id": "a26e633d",
   "metadata": {},
   "outputs": [
    {
     "name": "stdout",
     "output_type": "stream",
     "text": [
      "20\n",
      "40\n",
      "60\n",
      "80\n"
     ]
    }
   ],
   "source": [
    "# 2- Given a list [1, 2, 3, 4], print out all the values in the list multiplied by 20.\n",
    "\n",
    "liste = [1, 2, 3, 4]\n",
    "for valeur in liste:\n",
    "    print(valeur * 20)\n"
   ]
  },
  {
   "cell_type": "code",
   "execution_count": 125,
   "id": "64c179c2",
   "metadata": {},
   "outputs": [
    {
     "name": "stdout",
     "output_type": "stream",
     "text": [
      "['E', 'T', 'M']\n"
     ]
    }
   ],
   "source": [
    "# 3-Given a list [\"Elie\", \"Tim\", \"Matt\"], return a new list with only the first letter of each name: [\"E\", \"T\", \"M\"].\n",
    "\n",
    "noms = [\"Elie\", \"Tim\", \"Matt\"]\n",
    "premieres_lettres = [nom[0] for nom in noms]\n",
    "print(premieres_lettres)\n"
   ]
  },
  {
   "cell_type": "code",
   "execution_count": 126,
   "id": "8abb162c",
   "metadata": {},
   "outputs": [
    {
     "name": "stdout",
     "output_type": "stream",
     "text": [
      "[2, 4, 6]\n"
     ]
    }
   ],
   "source": [
    "# 4-Given a list [1, 2, 3, 4, 5, 6], return a new list with all the even values: [2, 4, 6].\n",
    "\n",
    "nombres = [1, 2, 3, 4, 5, 6]\n",
    "pairs = [n for n in nombres if n % 2 == 0]\n",
    "print(pairs)\n"
   ]
  },
  {
   "cell_type": "code",
   "execution_count": 128,
   "id": "ca7279b2",
   "metadata": {},
   "outputs": [
    {
     "name": "stdout",
     "output_type": "stream",
     "text": [
      "[3, 4]\n"
     ]
    }
   ],
   "source": [
    "# 5-Given two lists [1, 2, 3, 4] and [3, 4, 5, 6], return a new list that contains only the values present in both lists: [3, 4].\n",
    "\n",
    "liste1 = [1, 2, 3, 4]\n",
    "liste2 = [3, 4, 5, 6]\n",
    "communs = [x for x in liste1 if x in liste2]\n",
    "print(communs)"
   ]
  },
  {
   "cell_type": "code",
   "execution_count": 130,
   "id": "14aa304a",
   "metadata": {},
   "outputs": [
    {
     "name": "stdout",
     "output_type": "stream",
     "text": [
      "['eile', 'mit', 'ttam']\n"
     ]
    }
   ],
   "source": [
    "# 6-Given a list of words [\"Elie\", \"Tim\", \"Matt\"], return a new list with each word reversed and in lowercase: [\"eile\", \"mit\", \"ttam\"].\n",
    "\n",
    "mots = [\"Elie\", \"Tim\", \"Matt\"]\n",
    "resultat = [mot[::-1].lower() for mot in mots]\n",
    "print(resultat)"
   ]
  },
  {
   "cell_type": "code",
   "execution_count": 131,
   "id": "dc0212b4",
   "metadata": {},
   "outputs": [
    {
     "name": "stdout",
     "output_type": "stream",
     "text": [
      "['i', 'r', 't']\n"
     ]
    }
   ],
   "source": [
    "# 7-Given two strings \"first\" and \"third\", return a new list of the letters that are present in both strings: [\"i\", \"r\", \"t\"].\n",
    "\n",
    "str1 = \"first\"\n",
    "str2 = \"third\"\n",
    "communs = [lettre for lettre in str1 if lettre in str2]\n",
    "communs_sans_doublons = list(dict.fromkeys(communs))\n",
    "print(communs_sans_doublons)"
   ]
  },
  {
   "cell_type": "code",
   "execution_count": 132,
   "id": "9d95eb6a",
   "metadata": {},
   "outputs": [
    {
     "name": "stdout",
     "output_type": "stream",
     "text": [
      "[12, 24, 36, 48, 60, 72, 84, 96]\n"
     ]
    }
   ],
   "source": [
    "# 8-For all numbers between 1 and 100, return a list of the numbers that are divisible by 12: [12, 24, 36, 48, 60, 72, 84, 96].\n",
    "\n",
    "resultat = [n for n in range(1, 101) if n % 12 == 0]\n",
    "print(resultat)"
   ]
  },
  {
   "cell_type": "code",
   "execution_count": 133,
   "id": "aa1b3375",
   "metadata": {},
   "outputs": [
    {
     "name": "stdout",
     "output_type": "stream",
     "text": [
      "['m', 'z', 'n', 'g']\n"
     ]
    }
   ],
   "source": [
    "# 9-Given the string \"amazing\", return a list with all the vowels removed: [\"m\", \"z\", \"n\", \"g\"].\n",
    "\n",
    "mot = \"amazing\"\n",
    "resultat = [lettre for lettre in mot if lettre not in \"aeiou\"]\n",
    "print(resultat)\n"
   ]
  },
  {
   "cell_type": "code",
   "execution_count": 134,
   "id": "15afb883",
   "metadata": {},
   "outputs": [
    {
     "name": "stdout",
     "output_type": "stream",
     "text": [
      "[[0, 1, 2], [0, 1, 2], [0, 1, 2]]\n"
     ]
    }
   ],
   "source": [
    "# 10-Generate a list with the following value: [[0, 1, 2], [0, 1, 2], [0, 1, 2]].\n",
    "\n",
    "liste = [[0, 1, 2] for _ in range(3)]\n",
    "print(liste)"
   ]
  },
  {
   "cell_type": "code",
   "execution_count": 135,
   "id": "5962cd1b",
   "metadata": {},
   "outputs": [
    {
     "name": "stdout",
     "output_type": "stream",
     "text": [
      "[[0, 1, 2, 3, 4, 5, 6, 7, 8, 9], [0, 1, 2, 3, 4, 5, 6, 7, 8, 9], [0, 1, 2, 3, 4, 5, 6, 7, 8, 9], [0, 1, 2, 3, 4, 5, 6, 7, 8, 9], [0, 1, 2, 3, 4, 5, 6, 7, 8, 9], [0, 1, 2, 3, 4, 5, 6, 7, 8, 9], [0, 1, 2, 3, 4, 5, 6, 7, 8, 9], [0, 1, 2, 3, 4, 5, 6, 7, 8, 9], [0, 1, 2, 3, 4, 5, 6, 7, 8, 9], [0, 1, 2, 3, 4, 5, 6, 7, 8, 9]]\n"
     ]
    }
   ],
   "source": [
    "# 11-Generate a list with the following structure:\n",
    "\n",
    "[\n",
    "  [0, 1, 2, 3, 4, 5, 6, 7, 8, 9],\n",
    "  [0, 1, 2, 3, 4, 5, 6, 7, 8, 9],\n",
    "  [0, 1, 2, 3, 4, 5, 6, 7, 8, 9],\n",
    "  [0, 1, 2, 3, 4, 5, 6, 7, 8, 9],\n",
    "  [0, 1, 2, 3, 4, 5, 6, 7, 8, 9],\n",
    "  [0, 1, 2, 3, 4, 5, 6, 7, 8, 9],\n",
    "  [0, 1, 2, 3, 4, 5, 6, 7, 8, 9],\n",
    "  [0, 1, 2, 3, 4, 5, 6, 7, 8, 9],\n",
    "  [0, 1, 2, 3, 4, 5, 6, 7, 8, 9],\n",
    "  [0, 1, 2, 3, 4, 5, 6, 7, 8, 9]\n",
    "]\n",
    "liste = [[i for i in range(10)] for _ in range(10)]\n",
    "print(liste)\n",
    "\n"
   ]
  },
  {
   "cell_type": "markdown",
   "id": "0425cb6f",
   "metadata": {},
   "source": [
    "# Exercise : Dictionary\n",
    "Instructions"
   ]
  },
  {
   "cell_type": "code",
   "execution_count": null,
   "id": "25f684c3",
   "metadata": {},
   "outputs": [
    {
     "name": "stdout",
     "output_type": "stream",
     "text": [
      "{'name': 'Elie', 'job': 'Instructor'}\n"
     ]
    }
   ],
   "source": [
    "# 1-Given a list: [(\"name\", \"Elie\"), (\"job\", \"Instructor\")], create a dictionary that looks like this: {'job': 'Instructor', 'name': 'Elie'} (Note: The order does not matter).\n",
    "\n",
    "liste = [(\"name\", \"Elie\"), (\"job\", \"Instructor\")]\n",
    "dictionnaire = dict(liste)\n",
    "print(dictionnaire)\n"
   ]
  },
  {
   "cell_type": "code",
   "execution_count": 137,
   "id": "d6575cf7",
   "metadata": {},
   "outputs": [
    {
     "name": "stdout",
     "output_type": "stream",
     "text": [
      "{'CA': 'California', 'NJ': 'New Jersey', 'RI': 'Rhode Island'}\n"
     ]
    }
   ],
   "source": [
    "# 2-Given two lists: [\"CA\", \"NJ\", \"RI\"] and [\"California\", \"New Jersey\", \"Rhode Island\"], return a dictionary that looks like this: {'CA': 'California', 'NJ': 'New Jersey', 'RI': 'Rhode Island'}.\n",
    "\n",
    "abrev = [\"CA\", \"NJ\", \"RI\"]\n",
    "noms = [\"California\", \"New Jersey\", \"Rhode Island\"]\n",
    "dictionnaire = dict(zip(abrev, noms))\n",
    "print(dictionnaire)\n"
   ]
  },
  {
   "cell_type": "code",
   "execution_count": 138,
   "id": "ca22ed8c",
   "metadata": {},
   "outputs": [
    {
     "name": "stdout",
     "output_type": "stream",
     "text": [
      "{'a': 0, 'e': 0, 'i': 0, 'o': 0, 'u': 0}\n"
     ]
    }
   ],
   "source": [
    "# 3-Create a dictionary where the keys are vowels in the alphabet and the values are 0. Your dictionary should look like this: {'a': 0, 'e': 0, 'i': 0, 'o': 0, 'u': 0}. (Do not use the fromkeys method).\n",
    "\n",
    "voyelles = ['a', 'e', 'i', 'o', 'u']\n",
    "dictionnaire = {v: 0 for v in voyelles}\n",
    "print(dictionnaire)"
   ]
  },
  {
   "cell_type": "code",
   "execution_count": 140,
   "id": "15d406c3",
   "metadata": {},
   "outputs": [
    {
     "name": "stdout",
     "output_type": "stream",
     "text": [
      "{1: 'A', 2: 'B', 3: 'C', 4: 'D', 5: 'E', 6: 'F', 7: 'G', 8: 'H', 9: 'I', 10: 'J', 11: 'K', 12: 'L', 13: 'M', 14: 'N', 15: 'O', 16: 'P', 17: 'Q', 18: 'R', 19: 'S', 20: 'T', 21: 'U', 22: 'V', 23: 'W', 24: 'X', 25: 'Y', 26: 'Z'}\n"
     ]
    }
   ],
   "source": [
    "# 4-dictionnaire = {i+1: chr(65+i) for i in range(26)}\n",
    "\n",
    "dictionnaire = {i+1: chr(65+i) for i in range(26)}\n",
    "print(dictionnaire)\n"
   ]
  },
  {
   "cell_type": "markdown",
   "id": "3375dd08",
   "metadata": {},
   "source": [
    "# Bilan de tous ces exercices :\n",
    "\n",
    "## Tu as travaillé sur plusieurs exercices fondamentaux en Python, portant sur :\n",
    "\n",
    "Manipulation des listes\n",
    "\n",
    "Boucles pour afficher, transformer, filtrer des éléments.\n",
    "\n",
    "Compréhensions de listes pour générer des listes selon des conditions.\n",
    "\n",
    "Manipulation des ensembles (sets)\n",
    "\n",
    "Ajout, suppression, intersection d’éléments.\n",
    "\n",
    "\n",
    "## Manipulation des dictionnaires\n",
    "\n",
    "Création à partir de listes ou de compréhensions.\n",
    "\n",
    "Association clé/valeur selon différentes logiques (positions dans l’alphabet, abréviations d’États…).\n",
    "\n",
    "Manipulation des chaînes de caractères\n",
    "\n",
    "Rechercher, filtrer, transformer, et comparer des caractères dans des chaînes.\n",
    "\n",
    "Utilisation des compréhensions et des fonctions intégrées\n",
    "\n",
    "Utilisation de zip, dict, add, clear, intersection, etc.\n",
    "\n",
    "## En résumé :\n",
    "Ces exercices couvrent les bases essentielles de la programmation en Python, utiles pour l’analyse de données, l’automatisation, et la résolution de problèmes courants. Tu sais maintenant créer, transformer, filtrer, et croiser efficacement listes, ensembles et dictionnaires."
   ]
  }
 ],
 "metadata": {
  "kernelspec": {
   "display_name": "Python 3",
   "language": "python",
   "name": "python3"
  },
  "language_info": {
   "codemirror_mode": {
    "name": "ipython",
    "version": 3
   },
   "file_extension": ".py",
   "mimetype": "text/x-python",
   "name": "python",
   "nbconvert_exporter": "python",
   "pygments_lexer": "ipython3",
   "version": "3.12.8"
  }
 },
 "nbformat": 4,
 "nbformat_minor": 5
}
