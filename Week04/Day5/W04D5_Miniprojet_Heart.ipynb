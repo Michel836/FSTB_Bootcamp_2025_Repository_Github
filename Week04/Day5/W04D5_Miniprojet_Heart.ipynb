{
 "cells": [
  {
   "cell_type": "markdown",
   "id": "3aed1a90",
   "metadata": {},
   "source": [
    "# Mini-Project: Predicting Heart Disease\n",
    "Last Updated: February 27th, 2025\n",
    "\n",
    "## Mini-Project: Predicting Heart Disease Using Logistic Regression\n",
    "\n",
    "\n",
    "## 👩‍🏫 👩🏿‍🏫 What You’ll learn\n",
    "How to handle real-world healthcare data.\n",
    "Preprocessing data: Handling missing values, categorical variables, and feature scaling.\n",
    "Training a logistic regression model to predict the presence of heart disease.\n",
    "Evaluating the model’s performance using accuracy, precision, recall, and the F1 score.\n",
    "\n",
    "\n",
    "## 💼 Tools and Libraries Required\n",
    "Python: A popular programming language for data analysis and machine learning.\n",
    "scikit-learn: Provides tools for data mining and data analysis, including logistic regression.\n",
    "pandas: For data manipulation and analysis.\n",
    "matplotlib and seaborn: For data visualization.\n",
    "Jupyter Notebook or any Python IDE.\n",
    "\n",
    "\n",
    "## Task\n",
    "Your task is to use the Heart Disease UCI dataset to predict whether or not a patient has heart disease based on various medical attributes.\n",
    "\n",
    "* 1. Data Preparation:\n",
    "\n",
    "Download the “Heart Disease UCI” dataset.\n",
    "Perform exploratory data analysis (EDA) to understand the dataset.\n",
    "Preprocess the data: handle missing values if any, encode categorical variables, and scale the features.\n",
    "* 2. Model Training:\n",
    "\n",
    "Split the dataset into a training set and a testing set.\n",
    "Train a logistic regression model on the training set.\n",
    "* 3. Model Evaluation:\n",
    "\n",
    "Evaluate the model on the testing set using accuracy, precision, recall, and F1 score.\n",
    "Use a confusion matrix to visualize the model’s performance.\n",
    "\n",
    "\n",
    "## Expected Deliverables\n",
    "A Jupyter Notebook containing:\n",
    "\n",
    "* The EDA and preprocessing steps.\n",
    "* The code for training and evaluating the logistic regression model.\n",
    "* A confusion matrix and classification report for model evaluation.\n",
    "* Any visualizations that helped you understand the dataset and the model’s performance."
   ]
  },
  {
   "cell_type": "markdown",
   "id": "90f5eaa9",
   "metadata": {},
   "source": [
    "## Logigramme – Mini-Projet : Prédiction de Maladie Cardiaque (Logistic Regression)"
   ]
  },
  {
   "cell_type": "markdown",
   "id": "63340136",
   "metadata": {},
   "source": [
    "```text\n",
    "Début\n",
    "  |\n",
    "  v\n",
    "1. Chargement du dataset\n",
    "  |\n",
    "  v\n",
    "2. Analyse exploratoire (EDA)\n",
    "  |\n",
    "  v\n",
    "3. Nettoyage des données\n",
    "   - Gérer les valeurs manquantes\n",
    "   - Corriger les types de données\n",
    "  |\n",
    "  v\n",
    "4. Encodage des variables catégorielles\n",
    "  |\n",
    "  v\n",
    "5. Normalisation des données numériques\n",
    "  |\n",
    "  v\n",
    "6. Séparation X (features) et y (target)\n",
    "  |\n",
    "  v\n",
    "7. Split train/test\n",
    "  |\n",
    "  v\n",
    "8. Entraînement du modèle (Logistic Regression)\n",
    "  |\n",
    "  v\n",
    "9. Prédictions sur test set\n",
    "  |\n",
    "  v\n",
    "10. Évaluation du modèle\n",
    "    - Accuracy\n",
    "    - Précision\n",
    "    - Recall\n",
    "    - F1-score\n",
    "    - Confusion matrix\n",
    "  |\n",
    "  v\n",
    "11. Visualisations (corrélations, matrice de confusion...)\n",
    "  |\n",
    "  v\n",
    "Fin / Analyse des résultats\n",
    "```\n"
   ]
  },
  {
   "cell_type": "markdown",
   "id": "27d6f9df",
   "metadata": {},
   "source": [
    "## Étape 1 – Chargement du Dataset"
   ]
  },
  {
   "cell_type": "code",
   "execution_count": 2,
   "id": "05269b0d",
   "metadata": {},
   "outputs": [
    {
     "data": {
      "application/vnd.microsoft.datawrangler.viewer.v0+json": {
       "columns": [
        {
         "name": "index",
         "rawType": "int64",
         "type": "integer"
        },
        {
         "name": "id",
         "rawType": "int64",
         "type": "integer"
        },
        {
         "name": "age",
         "rawType": "int64",
         "type": "integer"
        },
        {
         "name": "sex",
         "rawType": "object",
         "type": "string"
        },
        {
         "name": "dataset",
         "rawType": "object",
         "type": "string"
        },
        {
         "name": "cp",
         "rawType": "object",
         "type": "string"
        },
        {
         "name": "trestbps",
         "rawType": "float64",
         "type": "float"
        },
        {
         "name": "chol",
         "rawType": "float64",
         "type": "float"
        },
        {
         "name": "fbs",
         "rawType": "object",
         "type": "unknown"
        },
        {
         "name": "restecg",
         "rawType": "object",
         "type": "string"
        },
        {
         "name": "thalch",
         "rawType": "float64",
         "type": "float"
        },
        {
         "name": "exang",
         "rawType": "object",
         "type": "unknown"
        },
        {
         "name": "oldpeak",
         "rawType": "float64",
         "type": "float"
        },
        {
         "name": "slope",
         "rawType": "object",
         "type": "string"
        },
        {
         "name": "ca",
         "rawType": "float64",
         "type": "float"
        },
        {
         "name": "thal",
         "rawType": "object",
         "type": "string"
        },
        {
         "name": "num",
         "rawType": "int64",
         "type": "integer"
        }
       ],
       "ref": "7315966b-2437-468f-99ad-922eba8211f1",
       "rows": [
        [
         "0",
         "1",
         "63",
         "Male",
         "Cleveland",
         "typical angina",
         "145.0",
         "233.0",
         "True",
         "lv hypertrophy",
         "150.0",
         "False",
         "2.3",
         "downsloping",
         "0.0",
         "fixed defect",
         "0"
        ],
        [
         "1",
         "2",
         "67",
         "Male",
         "Cleveland",
         "asymptomatic",
         "160.0",
         "286.0",
         "False",
         "lv hypertrophy",
         "108.0",
         "True",
         "1.5",
         "flat",
         "3.0",
         "normal",
         "2"
        ],
        [
         "2",
         "3",
         "67",
         "Male",
         "Cleveland",
         "asymptomatic",
         "120.0",
         "229.0",
         "False",
         "lv hypertrophy",
         "129.0",
         "True",
         "2.6",
         "flat",
         "2.0",
         "reversable defect",
         "1"
        ],
        [
         "3",
         "4",
         "37",
         "Male",
         "Cleveland",
         "non-anginal",
         "130.0",
         "250.0",
         "False",
         "normal",
         "187.0",
         "False",
         "3.5",
         "downsloping",
         "0.0",
         "normal",
         "0"
        ],
        [
         "4",
         "5",
         "41",
         "Female",
         "Cleveland",
         "atypical angina",
         "130.0",
         "204.0",
         "False",
         "lv hypertrophy",
         "172.0",
         "False",
         "1.4",
         "upsloping",
         "0.0",
         "normal",
         "0"
        ]
       ],
       "shape": {
        "columns": 16,
        "rows": 5
       }
      },
      "text/html": [
       "<div>\n",
       "<style scoped>\n",
       "    .dataframe tbody tr th:only-of-type {\n",
       "        vertical-align: middle;\n",
       "    }\n",
       "\n",
       "    .dataframe tbody tr th {\n",
       "        vertical-align: top;\n",
       "    }\n",
       "\n",
       "    .dataframe thead th {\n",
       "        text-align: right;\n",
       "    }\n",
       "</style>\n",
       "<table border=\"1\" class=\"dataframe\">\n",
       "  <thead>\n",
       "    <tr style=\"text-align: right;\">\n",
       "      <th></th>\n",
       "      <th>id</th>\n",
       "      <th>age</th>\n",
       "      <th>sex</th>\n",
       "      <th>dataset</th>\n",
       "      <th>cp</th>\n",
       "      <th>trestbps</th>\n",
       "      <th>chol</th>\n",
       "      <th>fbs</th>\n",
       "      <th>restecg</th>\n",
       "      <th>thalch</th>\n",
       "      <th>exang</th>\n",
       "      <th>oldpeak</th>\n",
       "      <th>slope</th>\n",
       "      <th>ca</th>\n",
       "      <th>thal</th>\n",
       "      <th>num</th>\n",
       "    </tr>\n",
       "  </thead>\n",
       "  <tbody>\n",
       "    <tr>\n",
       "      <th>0</th>\n",
       "      <td>1</td>\n",
       "      <td>63</td>\n",
       "      <td>Male</td>\n",
       "      <td>Cleveland</td>\n",
       "      <td>typical angina</td>\n",
       "      <td>145.0</td>\n",
       "      <td>233.0</td>\n",
       "      <td>True</td>\n",
       "      <td>lv hypertrophy</td>\n",
       "      <td>150.0</td>\n",
       "      <td>False</td>\n",
       "      <td>2.3</td>\n",
       "      <td>downsloping</td>\n",
       "      <td>0.0</td>\n",
       "      <td>fixed defect</td>\n",
       "      <td>0</td>\n",
       "    </tr>\n",
       "    <tr>\n",
       "      <th>1</th>\n",
       "      <td>2</td>\n",
       "      <td>67</td>\n",
       "      <td>Male</td>\n",
       "      <td>Cleveland</td>\n",
       "      <td>asymptomatic</td>\n",
       "      <td>160.0</td>\n",
       "      <td>286.0</td>\n",
       "      <td>False</td>\n",
       "      <td>lv hypertrophy</td>\n",
       "      <td>108.0</td>\n",
       "      <td>True</td>\n",
       "      <td>1.5</td>\n",
       "      <td>flat</td>\n",
       "      <td>3.0</td>\n",
       "      <td>normal</td>\n",
       "      <td>2</td>\n",
       "    </tr>\n",
       "    <tr>\n",
       "      <th>2</th>\n",
       "      <td>3</td>\n",
       "      <td>67</td>\n",
       "      <td>Male</td>\n",
       "      <td>Cleveland</td>\n",
       "      <td>asymptomatic</td>\n",
       "      <td>120.0</td>\n",
       "      <td>229.0</td>\n",
       "      <td>False</td>\n",
       "      <td>lv hypertrophy</td>\n",
       "      <td>129.0</td>\n",
       "      <td>True</td>\n",
       "      <td>2.6</td>\n",
       "      <td>flat</td>\n",
       "      <td>2.0</td>\n",
       "      <td>reversable defect</td>\n",
       "      <td>1</td>\n",
       "    </tr>\n",
       "    <tr>\n",
       "      <th>3</th>\n",
       "      <td>4</td>\n",
       "      <td>37</td>\n",
       "      <td>Male</td>\n",
       "      <td>Cleveland</td>\n",
       "      <td>non-anginal</td>\n",
       "      <td>130.0</td>\n",
       "      <td>250.0</td>\n",
       "      <td>False</td>\n",
       "      <td>normal</td>\n",
       "      <td>187.0</td>\n",
       "      <td>False</td>\n",
       "      <td>3.5</td>\n",
       "      <td>downsloping</td>\n",
       "      <td>0.0</td>\n",
       "      <td>normal</td>\n",
       "      <td>0</td>\n",
       "    </tr>\n",
       "    <tr>\n",
       "      <th>4</th>\n",
       "      <td>5</td>\n",
       "      <td>41</td>\n",
       "      <td>Female</td>\n",
       "      <td>Cleveland</td>\n",
       "      <td>atypical angina</td>\n",
       "      <td>130.0</td>\n",
       "      <td>204.0</td>\n",
       "      <td>False</td>\n",
       "      <td>lv hypertrophy</td>\n",
       "      <td>172.0</td>\n",
       "      <td>False</td>\n",
       "      <td>1.4</td>\n",
       "      <td>upsloping</td>\n",
       "      <td>0.0</td>\n",
       "      <td>normal</td>\n",
       "      <td>0</td>\n",
       "    </tr>\n",
       "  </tbody>\n",
       "</table>\n",
       "</div>"
      ],
      "text/plain": [
       "   id  age     sex    dataset               cp  trestbps   chol    fbs  \\\n",
       "0   1   63    Male  Cleveland   typical angina     145.0  233.0   True   \n",
       "1   2   67    Male  Cleveland     asymptomatic     160.0  286.0  False   \n",
       "2   3   67    Male  Cleveland     asymptomatic     120.0  229.0  False   \n",
       "3   4   37    Male  Cleveland      non-anginal     130.0  250.0  False   \n",
       "4   5   41  Female  Cleveland  atypical angina     130.0  204.0  False   \n",
       "\n",
       "          restecg  thalch  exang  oldpeak        slope   ca  \\\n",
       "0  lv hypertrophy   150.0  False      2.3  downsloping  0.0   \n",
       "1  lv hypertrophy   108.0   True      1.5         flat  3.0   \n",
       "2  lv hypertrophy   129.0   True      2.6         flat  2.0   \n",
       "3          normal   187.0  False      3.5  downsloping  0.0   \n",
       "4  lv hypertrophy   172.0  False      1.4    upsloping  0.0   \n",
       "\n",
       "                thal  num  \n",
       "0       fixed defect    0  \n",
       "1             normal    2  \n",
       "2  reversable defect    1  \n",
       "3             normal    0  \n",
       "4             normal    0  "
      ]
     },
     "execution_count": 2,
     "metadata": {},
     "output_type": "execute_result"
    }
   ],
   "source": [
    "# Importation des bibliothèques nécessaires pour la manipulation des données\n",
    "import pandas as pd  # pour lire le fichier CSV\n",
    "import numpy as np   # pour les opérations numériques de base\n",
    "\n",
    "# Lecture du fichier CSV (assure-toi qu'il est dans le même dossier que ton notebook)\n",
    "df = pd.read_csv(\"heart_disease_uci.csv\")\n",
    "\n",
    "# Affichage des 5 premières lignes pour avoir un aperçu du contenu\n",
    "df.head()\n"
   ]
  },
  {
   "cell_type": "markdown",
   "id": "bc935b7c",
   "metadata": {},
   "source": [
    "## Observation :\n",
    "\n",
    "* Le fichier contient **les données brutes** du dataset **Heart Disease UCI**, en version **encodée textuellement** :\n",
    "\n",
    "  * Variables comme `cp`, `thal`, `restecg`, etc. sont en **valeurs textuelles** (ex : \"asymptomatic\", \"flat\", \"fixed defect\").\n",
    "  * La colonne cible est encore appelée `num`.\n",
    "\n",
    "---\n",
    "\n",
    "##  Interprétation technique :\n",
    "\n",
    "###  Problèmes à corriger avant modélisation :\n",
    "\n",
    "1. `cp`, `restecg`, `thal`, `slope`… doivent être **encodés en variables numériques ou via one-hot**.\n",
    "2. `sex`, `fbs`, `exang` sont en booléens/chaînes → à convertir en 0/1.\n",
    "3. `num` contient encore des valeurs > 1 → il faut **binariser**\n",
    "\n"
   ]
  },
  {
   "cell_type": "markdown",
   "id": "44e1f3c7",
   "metadata": {},
   "source": [
    "## Étape 2 – Informations générales sur le dataset"
   ]
  },
  {
   "cell_type": "code",
   "execution_count": 3,
   "id": "45618b13",
   "metadata": {},
   "outputs": [
    {
     "name": "stdout",
     "output_type": "stream",
     "text": [
      "<class 'pandas.core.frame.DataFrame'>\n",
      "RangeIndex: 920 entries, 0 to 919\n",
      "Data columns (total 16 columns):\n",
      " #   Column    Non-Null Count  Dtype  \n",
      "---  ------    --------------  -----  \n",
      " 0   id        920 non-null    int64  \n",
      " 1   age       920 non-null    int64  \n",
      " 2   sex       920 non-null    object \n",
      " 3   dataset   920 non-null    object \n",
      " 4   cp        920 non-null    object \n",
      " 5   trestbps  861 non-null    float64\n",
      " 6   chol      890 non-null    float64\n",
      " 7   fbs       830 non-null    object \n",
      " 8   restecg   918 non-null    object \n",
      " 9   thalch    865 non-null    float64\n",
      " 10  exang     865 non-null    object \n",
      " 11  oldpeak   858 non-null    float64\n",
      " 12  slope     611 non-null    object \n",
      " 13  ca        309 non-null    float64\n",
      " 14  thal      434 non-null    object \n",
      " 15  num       920 non-null    int64  \n",
      "dtypes: float64(5), int64(3), object(8)\n",
      "memory usage: 115.1+ KB\n"
     ]
    }
   ],
   "source": [
    "# Affiche le type de chaque colonne et le nombre de valeurs non-nulles\n",
    "df.info()\n"
   ]
  },
  {
   "cell_type": "markdown",
   "id": "ebb45e4f",
   "metadata": {},
   "source": [
    "## Analyse technique des données (résultat de `df.info()`)\n",
    "\n",
    "### Taille :\n",
    "\n",
    "* **920 lignes**\n",
    "* **16 colonnes**\n",
    "\n",
    "---\n",
    "\n",
    "### Valeurs manquantes :\n",
    "\n",
    "| Colonne    | Manquants | Commentaire                                                          |\n",
    "| ---------- | --------- | -------------------------------------------------------------------- |\n",
    "| `trestbps` | 59        | tension au repos → valeurs manquantes à imputer (moyenne ou médiane) |\n",
    "| `chol`     | 30        | cholestérol → idem                                                   |\n",
    "| `fbs`      | 90        | glycémie à jeun → booléen (à encoder)                                |\n",
    "| `restecg`  | 2         | ECG → catégorielle                                                   |\n",
    "| `thalch`   | 55        | fréquence cardiaque max → numérique                                  |\n",
    "| `exang`    | 55        | angine induite à l'effort → booléen                                  |\n",
    "| `oldpeak`  | 62        | dépression ST → numérique                                            |\n",
    "| `slope`    | 309       | pente ST → **fortement manquant**, attention                         |\n",
    "| `ca`       | 611       | nombre de vaisseaux colorés → **très fortement manquant**            |\n",
    "| `thal`     | 486       | type de thalassemie → **beaucoup trop de valeurs manquantes**        |\n",
    "\n",
    "---\n",
    "\n",
    "## Points critiques à traiter :\n",
    "\n",
    "1. **`ca` et `thal`** sont très inexploitables dans leur état actuel (> 50 % manquants) → soit :\n",
    "\n",
    "   * les supprimer,\n",
    "   * soit les garder mais **imputer intelligemment** (moyenne, ou valeur \"inconnu\").\n",
    "\n",
    "2. **`sex`, `fbs`, `exang`, `cp`, `restecg`, `slope`, `thal`** sont de type `object` → doivent être :\n",
    "\n",
    "   * soit **encodées en one-hot**\n",
    "   * soit **transformées manuellement en labels**\n",
    "\n",
    "3. **`num`** est encore la colonne cible, à transformer en binaire\n",
    "\n"
   ]
  },
  {
   "cell_type": "code",
   "execution_count": 4,
   "id": "89622aa0",
   "metadata": {},
   "outputs": [
    {
     "data": {
      "application/vnd.microsoft.datawrangler.viewer.v0+json": {
       "columns": [
        {
         "name": "index",
         "rawType": "object",
         "type": "string"
        },
        {
         "name": "id",
         "rawType": "float64",
         "type": "float"
        },
        {
         "name": "age",
         "rawType": "float64",
         "type": "float"
        },
        {
         "name": "trestbps",
         "rawType": "float64",
         "type": "float"
        },
        {
         "name": "chol",
         "rawType": "float64",
         "type": "float"
        },
        {
         "name": "thalch",
         "rawType": "float64",
         "type": "float"
        },
        {
         "name": "oldpeak",
         "rawType": "float64",
         "type": "float"
        },
        {
         "name": "ca",
         "rawType": "float64",
         "type": "float"
        },
        {
         "name": "num",
         "rawType": "float64",
         "type": "float"
        }
       ],
       "ref": "d3618266-43b9-43c1-87cc-d222cdb2628e",
       "rows": [
        [
         "count",
         "920.0",
         "920.0",
         "861.0",
         "890.0",
         "865.0",
         "858.0",
         "309.0",
         "920.0"
        ],
        [
         "mean",
         "460.5",
         "53.51086956521739",
         "132.13240418118468",
         "199.13033707865168",
         "137.5456647398844",
         "0.8787878787878788",
         "0.6763754045307443",
         "0.9956521739130435"
        ],
        [
         "std",
         "265.72542219366215",
         "9.424685209576857",
         "19.066069518587476",
         "110.7808103532305",
         "25.926276492797594",
         "1.0912262483465298",
         "0.935653012559987",
         "1.142693403338037"
        ],
        [
         "min",
         "1.0",
         "28.0",
         "0.0",
         "0.0",
         "60.0",
         "-2.6",
         "0.0",
         "0.0"
        ],
        [
         "25%",
         "230.75",
         "47.0",
         "120.0",
         "175.0",
         "120.0",
         "0.0",
         "0.0",
         "0.0"
        ],
        [
         "50%",
         "460.5",
         "54.0",
         "130.0",
         "223.0",
         "140.0",
         "0.5",
         "0.0",
         "1.0"
        ],
        [
         "75%",
         "690.25",
         "60.0",
         "140.0",
         "268.0",
         "157.0",
         "1.5",
         "1.0",
         "2.0"
        ],
        [
         "max",
         "920.0",
         "77.0",
         "200.0",
         "603.0",
         "202.0",
         "6.2",
         "3.0",
         "4.0"
        ]
       ],
       "shape": {
        "columns": 8,
        "rows": 8
       }
      },
      "text/html": [
       "<div>\n",
       "<style scoped>\n",
       "    .dataframe tbody tr th:only-of-type {\n",
       "        vertical-align: middle;\n",
       "    }\n",
       "\n",
       "    .dataframe tbody tr th {\n",
       "        vertical-align: top;\n",
       "    }\n",
       "\n",
       "    .dataframe thead th {\n",
       "        text-align: right;\n",
       "    }\n",
       "</style>\n",
       "<table border=\"1\" class=\"dataframe\">\n",
       "  <thead>\n",
       "    <tr style=\"text-align: right;\">\n",
       "      <th></th>\n",
       "      <th>id</th>\n",
       "      <th>age</th>\n",
       "      <th>trestbps</th>\n",
       "      <th>chol</th>\n",
       "      <th>thalch</th>\n",
       "      <th>oldpeak</th>\n",
       "      <th>ca</th>\n",
       "      <th>num</th>\n",
       "    </tr>\n",
       "  </thead>\n",
       "  <tbody>\n",
       "    <tr>\n",
       "      <th>count</th>\n",
       "      <td>920.000000</td>\n",
       "      <td>920.000000</td>\n",
       "      <td>861.000000</td>\n",
       "      <td>890.000000</td>\n",
       "      <td>865.000000</td>\n",
       "      <td>858.000000</td>\n",
       "      <td>309.000000</td>\n",
       "      <td>920.000000</td>\n",
       "    </tr>\n",
       "    <tr>\n",
       "      <th>mean</th>\n",
       "      <td>460.500000</td>\n",
       "      <td>53.510870</td>\n",
       "      <td>132.132404</td>\n",
       "      <td>199.130337</td>\n",
       "      <td>137.545665</td>\n",
       "      <td>0.878788</td>\n",
       "      <td>0.676375</td>\n",
       "      <td>0.995652</td>\n",
       "    </tr>\n",
       "    <tr>\n",
       "      <th>std</th>\n",
       "      <td>265.725422</td>\n",
       "      <td>9.424685</td>\n",
       "      <td>19.066070</td>\n",
       "      <td>110.780810</td>\n",
       "      <td>25.926276</td>\n",
       "      <td>1.091226</td>\n",
       "      <td>0.935653</td>\n",
       "      <td>1.142693</td>\n",
       "    </tr>\n",
       "    <tr>\n",
       "      <th>min</th>\n",
       "      <td>1.000000</td>\n",
       "      <td>28.000000</td>\n",
       "      <td>0.000000</td>\n",
       "      <td>0.000000</td>\n",
       "      <td>60.000000</td>\n",
       "      <td>-2.600000</td>\n",
       "      <td>0.000000</td>\n",
       "      <td>0.000000</td>\n",
       "    </tr>\n",
       "    <tr>\n",
       "      <th>25%</th>\n",
       "      <td>230.750000</td>\n",
       "      <td>47.000000</td>\n",
       "      <td>120.000000</td>\n",
       "      <td>175.000000</td>\n",
       "      <td>120.000000</td>\n",
       "      <td>0.000000</td>\n",
       "      <td>0.000000</td>\n",
       "      <td>0.000000</td>\n",
       "    </tr>\n",
       "    <tr>\n",
       "      <th>50%</th>\n",
       "      <td>460.500000</td>\n",
       "      <td>54.000000</td>\n",
       "      <td>130.000000</td>\n",
       "      <td>223.000000</td>\n",
       "      <td>140.000000</td>\n",
       "      <td>0.500000</td>\n",
       "      <td>0.000000</td>\n",
       "      <td>1.000000</td>\n",
       "    </tr>\n",
       "    <tr>\n",
       "      <th>75%</th>\n",
       "      <td>690.250000</td>\n",
       "      <td>60.000000</td>\n",
       "      <td>140.000000</td>\n",
       "      <td>268.000000</td>\n",
       "      <td>157.000000</td>\n",
       "      <td>1.500000</td>\n",
       "      <td>1.000000</td>\n",
       "      <td>2.000000</td>\n",
       "    </tr>\n",
       "    <tr>\n",
       "      <th>max</th>\n",
       "      <td>920.000000</td>\n",
       "      <td>77.000000</td>\n",
       "      <td>200.000000</td>\n",
       "      <td>603.000000</td>\n",
       "      <td>202.000000</td>\n",
       "      <td>6.200000</td>\n",
       "      <td>3.000000</td>\n",
       "      <td>4.000000</td>\n",
       "    </tr>\n",
       "  </tbody>\n",
       "</table>\n",
       "</div>"
      ],
      "text/plain": [
       "               id         age    trestbps        chol      thalch     oldpeak  \\\n",
       "count  920.000000  920.000000  861.000000  890.000000  865.000000  858.000000   \n",
       "mean   460.500000   53.510870  132.132404  199.130337  137.545665    0.878788   \n",
       "std    265.725422    9.424685   19.066070  110.780810   25.926276    1.091226   \n",
       "min      1.000000   28.000000    0.000000    0.000000   60.000000   -2.600000   \n",
       "25%    230.750000   47.000000  120.000000  175.000000  120.000000    0.000000   \n",
       "50%    460.500000   54.000000  130.000000  223.000000  140.000000    0.500000   \n",
       "75%    690.250000   60.000000  140.000000  268.000000  157.000000    1.500000   \n",
       "max    920.000000   77.000000  200.000000  603.000000  202.000000    6.200000   \n",
       "\n",
       "               ca         num  \n",
       "count  309.000000  920.000000  \n",
       "mean     0.676375    0.995652  \n",
       "std      0.935653    1.142693  \n",
       "min      0.000000    0.000000  \n",
       "25%      0.000000    0.000000  \n",
       "50%      0.000000    1.000000  \n",
       "75%      1.000000    2.000000  \n",
       "max      3.000000    4.000000  "
      ]
     },
     "execution_count": 4,
     "metadata": {},
     "output_type": "execute_result"
    }
   ],
   "source": [
    "# Statistiques descriptives des colonnes numériques\n",
    "df.describe()\n"
   ]
  },
  {
   "cell_type": "markdown",
   "id": "422347b7",
   "metadata": {},
   "source": [
    "##  Structure du fichier :\n",
    "\n",
    "### Ligne 0 (index 0) :\n",
    "\n",
    "Contient des **comptes de valeurs non nulles** (ex: 920, 861, etc.)\n",
    "→ c’est une **ligne de résumé**.\n",
    "\n",
    "### Ligne 1 (index 1) :\n",
    "\n",
    "Probablement les **moyennes** des colonnes.\n",
    "\n",
    "### Ligne 2 (index 2) :\n",
    "\n",
    "Semble contenir les **écarts-types** (valeurs faibles, < 30 généralement).\n",
    "\n",
    "### Ligne 3 et + :\n",
    "\n",
    "Semblent être des **valeurs minimales** et d’autres statistiques (médiane ?), mais les colonnes `num`, `ca` ou `oldpeak` contiennent aussi des 0 — donc difficile à confirmer sans entête.\n",
    "\n",
    "---\n",
    "\n",
    "##  Utilité :\n",
    "\n",
    "Ce fichier est un **résumé statistique du dataset**. Il permet de :\n",
    "\n",
    "* détecter des valeurs aberrantes (ex: `oldpeak` = -2.6, ce qui est impossible),\n",
    "* vérifier la distribution globale.\n",
    "\n"
   ]
  },
  {
   "cell_type": "code",
   "execution_count": 5,
   "id": "a85c03d6",
   "metadata": {},
   "outputs": [
    {
     "data": {
      "application/vnd.microsoft.datawrangler.viewer.v0+json": {
       "columns": [
        {
         "name": "index",
         "rawType": "object",
         "type": "string"
        },
        {
         "name": "0",
         "rawType": "int64",
         "type": "integer"
        }
       ],
       "ref": "28ebb5a7-14d9-4dd1-aa02-a358fabe7548",
       "rows": [
        [
         "id",
         "0"
        ],
        [
         "age",
         "0"
        ],
        [
         "sex",
         "0"
        ],
        [
         "dataset",
         "0"
        ],
        [
         "cp",
         "0"
        ],
        [
         "trestbps",
         "59"
        ],
        [
         "chol",
         "30"
        ],
        [
         "fbs",
         "90"
        ],
        [
         "restecg",
         "2"
        ],
        [
         "thalch",
         "55"
        ],
        [
         "exang",
         "55"
        ],
        [
         "oldpeak",
         "62"
        ],
        [
         "slope",
         "309"
        ],
        [
         "ca",
         "611"
        ],
        [
         "thal",
         "486"
        ],
        [
         "num",
         "0"
        ]
       ],
       "shape": {
        "columns": 1,
        "rows": 16
       }
      },
      "text/plain": [
       "id            0\n",
       "age           0\n",
       "sex           0\n",
       "dataset       0\n",
       "cp            0\n",
       "trestbps     59\n",
       "chol         30\n",
       "fbs          90\n",
       "restecg       2\n",
       "thalch       55\n",
       "exang        55\n",
       "oldpeak      62\n",
       "slope       309\n",
       "ca          611\n",
       "thal        486\n",
       "num           0\n",
       "dtype: int64"
      ]
     },
     "execution_count": 5,
     "metadata": {},
     "output_type": "execute_result"
    }
   ],
   "source": [
    "# Vérification manuelle des valeurs manquantes\n",
    "df.isnull().sum()\n"
   ]
  },
  {
   "cell_type": "markdown",
   "id": "fa08a404",
   "metadata": {},
   "source": [
    "##  Interprétation du résultat :\n",
    "\n",
    "**Il n’y a plus de valeurs manquantes dans mon DataFrame** (`df`)\n",
    "→ Toutes les colonnes ont désormais **0 valeurs nulles**\n",
    "→ Cela confirme que **l’étape d’imputation des NaN (moyenne ou autre) a fonctionné correctement.**\n",
    "\n",
    "---\n"
   ]
  },
  {
   "cell_type": "markdown",
   "id": "24878711",
   "metadata": {},
   "source": [
    "## Étape 3 – Analyse exploratoire (EDA)"
   ]
  },
  {
   "cell_type": "markdown",
   "id": "90ee4f7d",
   "metadata": {},
   "source": [
    "### 3.1 – Aperçu de la répartition des classes cibles (0 = sain, 1 = malade)"
   ]
  },
  {
   "cell_type": "code",
   "execution_count": 7,
   "id": "ead650b5",
   "metadata": {},
   "outputs": [
    {
     "name": "stdout",
     "output_type": "stream",
     "text": [
      "Index(['id', 'age', 'sex', 'dataset', 'cp', 'trestbps', 'chol', 'fbs',\n",
      "       'restecg', 'thalch', 'exang', 'oldpeak', 'slope', 'ca', 'thal', 'num'],\n",
      "      dtype='object')\n"
     ]
    }
   ],
   "source": [
    "# Affiche les noms exacts des colonnes\n",
    "print(df.columns)\n"
   ]
  },
  {
   "cell_type": "markdown",
   "id": "f51f5891",
   "metadata": {},
   "source": [
    "##  Analyse rapide :\n",
    "\n",
    "| Colonne    | Type attendu       | Commentaire clé                                   |\n",
    "| ---------- | ------------------ | ------------------------------------------------- |\n",
    "| `id`       | identifiant        | ✅ À **supprimer**, pas utile pour l'apprentissage |\n",
    "| `age`      | numérique          | ✅ OK                                              |\n",
    "| `sex`      | catégorielle (str) | ⚠️ Doit être **encodée (0/1)**                    |\n",
    "| `dataset`  | source du patient  | ✅ À **supprimer** (pas une info médicale)         |\n",
    "| `cp`       | catégorielle (str) | ⚠️ **À encoder** (douleur thoracique)             |\n",
    "| `trestbps` | numérique          | ✅ OK                                              |\n",
    "| `chol`     | numérique          | ✅ OK                                              |\n",
    "| `fbs`      | booléen (str)      | ⚠️ **À encoder (0/1)**                            |\n",
    "| `restecg`  | catégorielle (str) | ⚠️ **À encoder**                                  |\n",
    "| `thalch`   | numérique          | ✅ OK                                              |\n",
    "| `exang`    | booléen (str)      | ⚠️ **À encoder (0/1)**                            |\n",
    "| `oldpeak`  | numérique          | ✅ OK                                              |\n",
    "| `slope`    | catégorielle (str) | ⚠️ **À encoder**                                  |\n",
    "| `ca`       | numérique (float)  | ✅ OK                                              |\n",
    "| `thal`     | catégorielle (str) | ⚠️ **À encoder**                                  |\n",
    "| `num`      | cible multiclasses | ⚠️ **À binariser en `target` (0 ou 1)**           |\n",
    "\n",
    "---\n",
    "\n",
    "## En résumé :\n",
    "\n",
    "Je suis encore **dans l'état brut du dataset**.\n",
    "\n",
    "Je dois maintenant :\n",
    "\n",
    "* Supprimer `id`, `dataset`\n",
    "* Binariser `num` → `target`\n",
    "* Encodage des 7 colonnes catégorielles/booléennes :\n",
    "\n",
    "  * `sex`, `cp`, `restecg`, `slope`, `thal`, `fbs`, `exang`\n",
    "\n"
   ]
  },
  {
   "cell_type": "code",
   "execution_count": 11,
   "id": "e7d92cda",
   "metadata": {},
   "outputs": [
    {
     "name": "stdout",
     "output_type": "stream",
     "text": [
      "target\n",
      "1    509\n",
      "0    411\n",
      "Name: count, dtype: int64\n"
     ]
    }
   ],
   "source": [
    "# Renommer la colonne \"num\" en \"target\"\n",
    "df.rename(columns={'num': 'target'}, inplace=True)\n",
    "\n",
    "# Binariser la cible : 0 = sain, >0 = malade\n",
    "df['target'] = df['target'].apply(lambda x: 1 if x > 0 else 0)\n",
    "\n",
    "# Vérification\n",
    "print(df['target'].value_counts())\n"
   ]
  },
  {
   "cell_type": "markdown",
   "id": "4337ec46",
   "metadata": {},
   "source": [
    "##  Résultat :\n",
    "\n",
    "| Valeur de `target` | Nombre d’occurrences |\n",
    "| ------------------ | -------------------- |\n",
    "| `1` (malade)       | 509 patients         |\n",
    "| `0` (sain)         | 411 patients         |\n",
    "\n",
    "---\n",
    "\n",
    "##  Interprétation :\n",
    "\n",
    "* **509 / 920 ≈ 55 %** des patients ont une **maladie cardiaque** (`target = 1`)\n",
    "* **411 / 920 ≈ 45 %** sont **sains** (`target = 0`)\n",
    "* Le dataset est **relativement équilibré**, ce qui est **idéal pour la classification binaire**\n",
    "  (aucun besoin immédiat de techniques comme oversampling ou undersampling)\n",
    "\n",
    "---\n",
    "\n",
    "Je peux donc entraîner un modèle **sans déséquilibre majeur**.\n"
   ]
  },
  {
   "cell_type": "code",
   "execution_count": 12,
   "id": "b51ec18c",
   "metadata": {},
   "outputs": [
    {
     "data": {
      "image/png": "[encoded data removed]",
      "text/plain": [
       "<Figure size 640x480 with 1 Axes>"
      ]
     },
     "metadata": {},
     "output_type": "display_data"
    }
   ],
   "source": [
    "# Affichage de la répartition de la variable cible\n",
    "import seaborn as sns\n",
    "import matplotlib.pyplot as plt\n",
    "\n",
    "sns.countplot(x='target', data=df)\n",
    "plt.title(\"Distribution de la cible (0 = sain, 1 = malade)\")\n",
    "plt.xlabel(\"Présence de maladie cardiaque\")\n",
    "plt.ylabel(\"Nombre de patients\")\n",
    "plt.show()\n"
   ]
  },
  {
   "cell_type": "markdown",
   "id": "f27ee0a2",
   "metadata": {},
   "source": [
    "##  Interprétation du graphique :\n",
    "\n",
    "* **Classe 0 (sains)** ≈ 410 patients\n",
    "* **Classe 1 (malades)** ≈ 510 patients\n",
    "\n",
    "###  Ce que ça montre :\n",
    "\n",
    "* La distribution est **légèrement déséquilibrée** mais reste **très raisonnable**.\n",
    "* Aucune classe n’est surreprésentée ou écrasée → excellent pour la régression logistique.\n",
    "\n",
    "---\n",
    "\n",
    "##  Conclusion :\n",
    "\n",
    "* Je peux entraîner ton modèle sans rééchantillonnage.\n",
    "* La régression logistique pourra fonctionner de manière fiable sans biais fort de classe.\n"
   ]
  },
  {
   "cell_type": "markdown",
   "id": "9589a78e",
   "metadata": {},
   "source": [
    "3.2 – Visualisation de la distribution des variables numériques"
   ]
  },
  {
   "cell_type": "code",
   "execution_count": 13,
   "id": "3d223368",
   "metadata": {},
   "outputs": [
    {
     "data": {
      "image/png": "[encoded data removed]",
      "text/plain": [
       "<Figure size 1500x1000 with 9 Axes>"
      ]
     },
     "metadata": {},
     "output_type": "display_data"
    }
   ],
   "source": [
    "# Affichage des histogrammes pour chaque variable numérique\n",
    "df.hist(figsize=(15, 10), bins=20, color='skyblue', edgecolor='black')\n",
    "plt.suptitle(\"Distribution des variables\", fontsize=16)\n",
    "plt.tight_layout()\n",
    "plt.show()\n"
   ]
  },
  {
   "cell_type": "markdown",
   "id": "987b4e64",
   "metadata": {},
   "source": [
    "##  Interprétation des distributions :\n",
    "\n",
    "| Variable   | Distribution                        | Commentaire                                                 |\n",
    "| ---------- | ----------------------------------- | ----------------------------------------------------------- |\n",
    "| `id`       | Uniforme                            | ✅ Pas utile → à supprimer                                   |\n",
    "| `age`      | Normale légèrement biaisée à gauche | ✅ Répartition attendue des âges (pic vers 55-60)            |\n",
    "| `trestbps` | Normale, pic vers 130               | ✅ Tension artérielle normale, rien d’anormal                |\n",
    "| `chol`     | Asymétrique droite                  | ⚠️ Outliers (valeurs > 400) → à surveiller                  |\n",
    "| `thalch`   | Symétrique, pic vers 140            | ✅ Bon étalement de la fréquence cardiaque max               |\n",
    "| `oldpeak`  | Biaisée droite + valeurs < 0        | ⚠️ **Anomalie : valeurs négatives** → à corriger ou exclure |\n",
    "| `ca`       | Discrète, pic sur 0                 | ✅ OK (nombre de vaisseaux colorés : 0 à 3)                  |\n",
    "| `target`   | Binaire, 0/1 bien répartis          | ✅ Parfait pour la régression logistique                     |\n",
    "\n",
    "---\n",
    "\n",
    "## Points critiques :\n",
    "\n",
    "* `oldpeak` a des **valeurs négatives**, ce qui est **physiologiquement impossible** → filtre à appliquer\n",
    "\n",
    "\n",
    "Globalement, tes données sont **proprement distribuées et exploitables**, à part les deux exceptions ci-dessus.\n",
    "\n"
   ]
  },
  {
   "cell_type": "markdown",
   "id": "fab0cb11",
   "metadata": {},
   "source": [
    "### 3.3 – Matrice de corrélation"
   ]
  },
  {
   "cell_type": "code",
   "execution_count": 16,
   "id": "cb9afe99",
   "metadata": {},
   "outputs": [
    {
     "data": {
      "image/png": "[encoded data removed]",
      "text/plain": [
       "<Figure size 1400x1000 with 2 Axes>"
      ]
     },
     "metadata": {},
     "output_type": "display_data"
    }
   ],
   "source": [
    "# Matrice de corrélation\n",
    "plt.figure(figsize=(14, 10))\n",
    "sns.heatmap(df.select_dtypes(include='number').corr(), annot=True, cmap='coolwarm', fmt=\".2f\")\n",
    "plt.title(\"Matrice de corrélation\")\n",
    "plt.show()\n",
    "\n"
   ]
  },
  {
   "cell_type": "markdown",
   "id": "6f53453e",
   "metadata": {},
   "source": [
    "## Corrélations les plus importantes avec `target`\n",
    "\n",
    "| Variable  | Corrélation avec `target` | Interprétation                                                                                    |\n",
    "| --------- | ------------------------- | ------------------------------------------------------------------------------------------------- |\n",
    "| `ca`      | **+0.46**                 | Plus il y a de vaisseaux colorés, plus la probabilité de maladie est élevée → **fort indicateur** |\n",
    "| `oldpeak` | **+0.39**                 | Dépression ST plus importante → plus de risque → **pertinent**                                    |\n",
    "| `thalach` | **−0.39**                 | Fréquence cardiaque maximale faible → lié à maladie                                               |\n",
    "| `chol`    | −0.23                     | Faible corrélation négative                                                                       |\n",
    "| `age`     | +0.28                     | Corrélation modérée (plus on vieillit, plus le risque augmente)                                   |\n",
    "| `id`      | **+0.36**                | Corrélation non pertinente (artefact) → **à supprimer !**                                         |\n",
    "\n",
    "---\n",
    "\n",
    "## À exclure :\n",
    "\n",
    "* `id` → **corrélation artificielle**, elle ne représente aucune donnée clinique utile.\n",
    "\n",
    "---\n",
    "\n",
    "## À retenir :\n",
    "\n",
    "* Les 3 variables les plus prédictives ici sont : `ca`, `oldpeak`, `thalach`\n",
    "* La corrélation ne fait pas tout (la régression logistique captera aussi des relations non linéaires via interactions)\n",
    "\n",
    "---\n"
   ]
  },
  {
   "cell_type": "markdown",
   "id": "01ffd51a",
   "metadata": {},
   "source": [
    "3.4 – Boxplots comparant les variables à la cible"
   ]
  },
  {
   "cell_type": "code",
   "execution_count": 17,
   "id": "c37570c9",
   "metadata": {},
   "outputs": [
    {
     "data": {
      "image/png": "[encoded data removed]",
      "text/plain": [
       "<Figure size 640x480 with 1 Axes>"
      ]
     },
     "metadata": {},
     "output_type": "display_data"
    }
   ],
   "source": [
    "# Exemple : age vs target\n",
    "sns.boxplot(x='target', y='age', data=df)\n",
    "plt.title(\"Distribution de l'âge selon la présence de maladie\")\n",
    "plt.show()\n"
   ]
  },
  {
   "cell_type": "markdown",
   "id": "5553ed1b",
   "metadata": {},
   "source": [
    "##  Lecture du graphique :\n",
    "\n",
    "* **À gauche (`target = 0`)** : patients sans maladie\n",
    "* **À droite (`target = 1`)** : patients avec maladie\n",
    "\n",
    "---\n",
    "\n",
    "##  Interprétation :\n",
    "\n",
    "| Observation                                 | Analyse                                                            |\n",
    "| ------------------------------------------- | ------------------------------------------------------------------ |\n",
    "| Médiane plus élevée chez les malades        | → Les patients malades sont en moyenne **plus âgés** que les sains |\n",
    "| Étendue plus grande chez les malades        | → Maladie possible sur une plage d’âge plus large                  |\n",
    "| Présence d'outliers jeunes chez les malades | → Quelques cas de **maladies cardiaques précoces** (30-40 ans)     |\n",
    "| Pas de différence radicale                  | → L’âge seul ne suffit pas à prédire, mais **il contribue**        |\n",
    "\n",
    "---\n",
    "\n",
    "##  Conclusion :\n",
    "\n",
    "* L’**âge** est une variable **modérément discriminante** pour prédire la présence de maladie cardiaque.\n",
    "* Il est logique de **le conserver dans le modèle**.\n",
    "\n"
   ]
  },
  {
   "cell_type": "code",
   "execution_count": 18,
   "id": "d2e6b56d",
   "metadata": {},
   "outputs": [
    {
     "data": {
      "image/png": "[encoded data removed]",
      "text/plain": [
       "<Figure size 640x480 with 1 Axes>"
      ]
     },
     "metadata": {},
     "output_type": "display_data"
    }
   ],
   "source": [
    "# Exemple : cholestérol vs target\n",
    "sns.boxplot(x='target', y='chol', data=df)\n",
    "plt.title(\"Distribution du cholestérol selon la présence de maladie\")\n",
    "plt.show()\n"
   ]
  },
  {
   "cell_type": "markdown",
   "id": "359b9a39",
   "metadata": {},
   "source": [
    "##  Lecture :\n",
    "\n",
    "| Groupe `target` | Description                                                                   |\n",
    "| --------------- | ----------------------------------------------------------------------------- |\n",
    "| `0` (sains)     | Distribution resserrée autour de 200–300, avec beaucoup d’**outliers élevés** |\n",
    "| `1` (malades)   | Distribution **plus étalée**, avec des cas extrêmes jusqu’à **600 mg/dL**     |\n",
    "| Médianes        | Pratiquement identiques ≈ 220–230                                             |\n",
    "\n",
    "---\n",
    "\n",
    "##  Interprétation :\n",
    "\n",
    "* **Aucune différence nette** de médiane → le cholestérol **n'est pas un bon discriminateur seul**\n",
    "* Les patients malades ont parfois un **cholestérol très bas** (→ cas paradoxaux)\n",
    "* Présence de **valeurs aberrantes (outliers)** dans les deux groupes (notamment `target = 0`) → à **traiter ou standardiser**\n",
    "\n",
    "---\n",
    "\n",
    "##  Conclusion :\n",
    "\n",
    "* `chol` a une **valeur informative limitée seule** dans ce dataset.\n",
    "* Il peut rester dans le modèle, mais **n’est pas un prédicteur fort** ici.\n",
    "* Un prétraitement **robuste (standardisation, winsorisation)** peut être utile.\n",
    "\n"
   ]
  },
  {
   "cell_type": "markdown",
   "id": "89e65d95",
   "metadata": {},
   "source": [
    "## Étape 4 – Nettoyage & Prétraitement des données"
   ]
  },
  {
   "cell_type": "markdown",
   "id": "41954336",
   "metadata": {},
   "source": [
    "### 4.1 – Suppression des colonnes inutiles"
   ]
  },
  {
   "cell_type": "code",
   "execution_count": 19,
   "id": "572a5a62",
   "metadata": {},
   "outputs": [
    {
     "data": {
      "application/vnd.microsoft.datawrangler.viewer.v0+json": {
       "columns": [
        {
         "name": "index",
         "rawType": "int64",
         "type": "integer"
        },
        {
         "name": "age",
         "rawType": "int64",
         "type": "integer"
        },
        {
         "name": "sex",
         "rawType": "object",
         "type": "string"
        },
        {
         "name": "cp",
         "rawType": "object",
         "type": "string"
        },
        {
         "name": "trestbps",
         "rawType": "float64",
         "type": "float"
        },
        {
         "name": "chol",
         "rawType": "float64",
         "type": "float"
        },
        {
         "name": "fbs",
         "rawType": "object",
         "type": "unknown"
        },
        {
         "name": "restecg",
         "rawType": "object",
         "type": "string"
        },
        {
         "name": "thalch",
         "rawType": "float64",
         "type": "float"
        },
        {
         "name": "exang",
         "rawType": "object",
         "type": "unknown"
        },
        {
         "name": "oldpeak",
         "rawType": "float64",
         "type": "float"
        },
        {
         "name": "slope",
         "rawType": "object",
         "type": "string"
        },
        {
         "name": "ca",
         "rawType": "float64",
         "type": "float"
        },
        {
         "name": "thal",
         "rawType": "object",
         "type": "string"
        },
        {
         "name": "target",
         "rawType": "int64",
         "type": "integer"
        }
       ],
       "ref": "4ac71d0c-626d-4f64-8b6e-3a6dc5b29648",
       "rows": [
        [
         "0",
         "63",
         "Male",
         "typical angina",
         "145.0",
         "233.0",
         "True",
         "lv hypertrophy",
         "150.0",
         "False",
         "2.3",
         "downsloping",
         "0.0",
         "fixed defect",
         "0"
        ],
        [
         "1",
         "67",
         "Male",
         "asymptomatic",
         "160.0",
         "286.0",
         "False",
         "lv hypertrophy",
         "108.0",
         "True",
         "1.5",
         "flat",
         "3.0",
         "normal",
         "1"
        ],
        [
         "2",
         "67",
         "Male",
         "asymptomatic",
         "120.0",
         "229.0",
         "False",
         "lv hypertrophy",
         "129.0",
         "True",
         "2.6",
         "flat",
         "2.0",
         "reversable defect",
         "1"
        ],
        [
         "3",
         "37",
         "Male",
         "non-anginal",
         "130.0",
         "250.0",
         "False",
         "normal",
         "187.0",
         "False",
         "3.5",
         "downsloping",
         "0.0",
         "normal",
         "0"
        ],
        [
         "4",
         "41",
         "Female",
         "atypical angina",
         "130.0",
         "204.0",
         "False",
         "lv hypertrophy",
         "172.0",
         "False",
         "1.4",
         "upsloping",
         "0.0",
         "normal",
         "0"
        ]
       ],
       "shape": {
        "columns": 14,
        "rows": 5
       }
      },
      "text/html": [
       "<div>\n",
       "<style scoped>\n",
       "    .dataframe tbody tr th:only-of-type {\n",
       "        vertical-align: middle;\n",
       "    }\n",
       "\n",
       "    .dataframe tbody tr th {\n",
       "        vertical-align: top;\n",
       "    }\n",
       "\n",
       "    .dataframe thead th {\n",
       "        text-align: right;\n",
       "    }\n",
       "</style>\n",
       "<table border=\"1\" class=\"dataframe\">\n",
       "  <thead>\n",
       "    <tr style=\"text-align: right;\">\n",
       "      <th></th>\n",
       "      <th>age</th>\n",
       "      <th>sex</th>\n",
       "      <th>cp</th>\n",
       "      <th>trestbps</th>\n",
       "      <th>chol</th>\n",
       "      <th>fbs</th>\n",
       "      <th>restecg</th>\n",
       "      <th>thalch</th>\n",
       "      <th>exang</th>\n",
       "      <th>oldpeak</th>\n",
       "      <th>slope</th>\n",
       "      <th>ca</th>\n",
       "      <th>thal</th>\n",
       "      <th>target</th>\n",
       "    </tr>\n",
       "  </thead>\n",
       "  <tbody>\n",
       "    <tr>\n",
       "      <th>0</th>\n",
       "      <td>63</td>\n",
       "      <td>Male</td>\n",
       "      <td>typical angina</td>\n",
       "      <td>145.0</td>\n",
       "      <td>233.0</td>\n",
       "      <td>True</td>\n",
       "      <td>lv hypertrophy</td>\n",
       "      <td>150.0</td>\n",
       "      <td>False</td>\n",
       "      <td>2.3</td>\n",
       "      <td>downsloping</td>\n",
       "      <td>0.0</td>\n",
       "      <td>fixed defect</td>\n",
       "      <td>0</td>\n",
       "    </tr>\n",
       "    <tr>\n",
       "      <th>1</th>\n",
       "      <td>67</td>\n",
       "      <td>Male</td>\n",
       "      <td>asymptomatic</td>\n",
       "      <td>160.0</td>\n",
       "      <td>286.0</td>\n",
       "      <td>False</td>\n",
       "      <td>lv hypertrophy</td>\n",
       "      <td>108.0</td>\n",
       "      <td>True</td>\n",
       "      <td>1.5</td>\n",
       "      <td>flat</td>\n",
       "      <td>3.0</td>\n",
       "      <td>normal</td>\n",
       "      <td>1</td>\n",
       "    </tr>\n",
       "    <tr>\n",
       "      <th>2</th>\n",
       "      <td>67</td>\n",
       "      <td>Male</td>\n",
       "      <td>asymptomatic</td>\n",
       "      <td>120.0</td>\n",
       "      <td>229.0</td>\n",
       "      <td>False</td>\n",
       "      <td>lv hypertrophy</td>\n",
       "      <td>129.0</td>\n",
       "      <td>True</td>\n",
       "      <td>2.6</td>\n",
       "      <td>flat</td>\n",
       "      <td>2.0</td>\n",
       "      <td>reversable defect</td>\n",
       "      <td>1</td>\n",
       "    </tr>\n",
       "    <tr>\n",
       "      <th>3</th>\n",
       "      <td>37</td>\n",
       "      <td>Male</td>\n",
       "      <td>non-anginal</td>\n",
       "      <td>130.0</td>\n",
       "      <td>250.0</td>\n",
       "      <td>False</td>\n",
       "      <td>normal</td>\n",
       "      <td>187.0</td>\n",
       "      <td>False</td>\n",
       "      <td>3.5</td>\n",
       "      <td>downsloping</td>\n",
       "      <td>0.0</td>\n",
       "      <td>normal</td>\n",
       "      <td>0</td>\n",
       "    </tr>\n",
       "    <tr>\n",
       "      <th>4</th>\n",
       "      <td>41</td>\n",
       "      <td>Female</td>\n",
       "      <td>atypical angina</td>\n",
       "      <td>130.0</td>\n",
       "      <td>204.0</td>\n",
       "      <td>False</td>\n",
       "      <td>lv hypertrophy</td>\n",
       "      <td>172.0</td>\n",
       "      <td>False</td>\n",
       "      <td>1.4</td>\n",
       "      <td>upsloping</td>\n",
       "      <td>0.0</td>\n",
       "      <td>normal</td>\n",
       "      <td>0</td>\n",
       "    </tr>\n",
       "  </tbody>\n",
       "</table>\n",
       "</div>"
      ],
      "text/plain": [
       "   age     sex               cp  trestbps   chol    fbs         restecg  \\\n",
       "0   63    Male   typical angina     145.0  233.0   True  lv hypertrophy   \n",
       "1   67    Male     asymptomatic     160.0  286.0  False  lv hypertrophy   \n",
       "2   67    Male     asymptomatic     120.0  229.0  False  lv hypertrophy   \n",
       "3   37    Male      non-anginal     130.0  250.0  False          normal   \n",
       "4   41  Female  atypical angina     130.0  204.0  False  lv hypertrophy   \n",
       "\n",
       "   thalch  exang  oldpeak        slope   ca               thal  target  \n",
       "0   150.0  False      2.3  downsloping  0.0       fixed defect       0  \n",
       "1   108.0   True      1.5         flat  3.0             normal       1  \n",
       "2   129.0   True      2.6         flat  2.0  reversable defect       1  \n",
       "3   187.0  False      3.5  downsloping  0.0             normal       0  \n",
       "4   172.0  False      1.4    upsloping  0.0             normal       0  "
      ]
     },
     "execution_count": 19,
     "metadata": {},
     "output_type": "execute_result"
    }
   ],
   "source": [
    "# Suppression des colonnes inutiles\n",
    "df.drop(columns=['id', 'dataset'], inplace=True)\n",
    "\n",
    "# Vérification\n",
    "df.head()\n"
   ]
  },
  {
   "cell_type": "markdown",
   "id": "604a61d1",
   "metadata": {},
   "source": [
    "## Résultat attendu :\n",
    "\n",
    "J'ai bien supprimé :\n",
    "\n",
    "* `id` \n",
    "* `dataset` \n",
    "\n",
    "Et le reste du DataFrame est cohérent avec la suite du pipeline.\n",
    "\n",
    "---\n",
    "\n",
    "##  État du DataFrame :\n",
    "\n",
    "| Colonne    | Type                 | À faire encore ?       |\n",
    "| ---------- | -------------------- | ---------------------- |\n",
    "| `age`      | numérique            | ✅ OK                   |\n",
    "| `sex`      | `Male` / `Female`    | ⚠️ À encoder (ex: 0/1) |\n",
    "| `cp`       | catégorielle         | ⚠️ À encoder (one-hot) |\n",
    "| `trestbps` | numérique            | ✅ OK                   |\n",
    "| `chol`     | numérique            | ✅ OK                   |\n",
    "| `fbs`      | booléen (True/False) | ⚠️ À convertir en 0/1  |\n",
    "| `restecg`  | catégorielle         | ⚠️ À encoder           |\n",
    "| `thalch`   | numérique            | ✅ OK                   |\n",
    "| `exang`    | booléen              | ⚠️ À convertir en 0/1  |\n",
    "| `oldpeak`  | numérique            | ✅ OK                   |\n",
    "| `slope`    | catégorielle         | ⚠️ À encoder           |\n",
    "| `ca`       | numérique (float)    | ✅ OK                   |\n",
    "| `thal`     | catégorielle         | ⚠️ À encoder           |\n",
    "| `target`   | binaire (0/1)        | ✅ OK                   |\n",
    "\n",
    "---\n"
   ]
  },
  {
   "cell_type": "markdown",
   "id": "6ffdacd2",
   "metadata": {},
   "source": [
    "### 4.2 – Vérification des valeurs manquantes"
   ]
  },
  {
   "cell_type": "code",
   "execution_count": 20,
   "id": "38aee17f",
   "metadata": {},
   "outputs": [
    {
     "data": {
      "application/vnd.microsoft.datawrangler.viewer.v0+json": {
       "columns": [
        {
         "name": "index",
         "rawType": "object",
         "type": "string"
        },
        {
         "name": "0",
         "rawType": "int64",
         "type": "integer"
        }
       ],
       "ref": "1835936d-5e4c-4e7f-94f4-5131b7beadb4",
       "rows": [
        [
         "age",
         "0"
        ],
        [
         "sex",
         "0"
        ],
        [
         "cp",
         "0"
        ],
        [
         "trestbps",
         "59"
        ],
        [
         "chol",
         "30"
        ],
        [
         "fbs",
         "90"
        ],
        [
         "restecg",
         "2"
        ],
        [
         "thalch",
         "55"
        ],
        [
         "exang",
         "55"
        ],
        [
         "oldpeak",
         "62"
        ],
        [
         "slope",
         "309"
        ],
        [
         "ca",
         "611"
        ],
        [
         "thal",
         "486"
        ],
        [
         "target",
         "0"
        ]
       ],
       "shape": {
        "columns": 1,
        "rows": 14
       }
      },
      "text/plain": [
       "age           0\n",
       "sex           0\n",
       "cp            0\n",
       "trestbps     59\n",
       "chol         30\n",
       "fbs          90\n",
       "restecg       2\n",
       "thalch       55\n",
       "exang        55\n",
       "oldpeak      62\n",
       "slope       309\n",
       "ca          611\n",
       "thal        486\n",
       "target        0\n",
       "dtype: int64"
      ]
     },
     "execution_count": 20,
     "metadata": {},
     "output_type": "execute_result"
    }
   ],
   "source": [
    "# Vérification des valeurs manquantes\n",
    "df.isnull().sum()\n"
   ]
  },
  {
   "cell_type": "markdown",
   "id": "8f446306",
   "metadata": {},
   "source": [
    "##  Résumé des colonnes avec valeurs manquantes :\n",
    "\n",
    "| Colonne    | NaN | Type attendu         | Solution recommandée                                                    |\n",
    "| ---------- | --- | -------------------- | ----------------------------------------------------------------------- |\n",
    "| `trestbps` | 59  | Numérique (tension)  | Imputer par **moyenne**                                                 |\n",
    "| `chol`     | 30  | Numérique            | Imputer par **moyenne**                                                 |\n",
    "| `fbs`      | 90  | Booléen (True/False) | ⚠️ À encoder puis à imputer ou supprimer                                |\n",
    "| `restecg`  | 2   | Catégorielle         | Imputer par **valeur la plus fréquente**                                |\n",
    "| `thalch`   | 55  | Numérique            | Imputer par **moyenne**                                                 |\n",
    "| `exang`    | 55  | Booléen              | ⚠️ À encoder puis à imputer ou supprimer                                |\n",
    "| `oldpeak`  | 62  | Numérique (float)    | ⚠️ Avec vérification : certaines valeurs < 0 → **filtrer puis imputer** |\n",
    "\n",
    "---\n",
    "\n",
    "##  Étape suivante recommandée :\n",
    "\n",
    "Corriger tous les NaN proprement."
   ]
  },
  {
   "cell_type": "markdown",
   "id": "ddbfe365",
   "metadata": {},
   "source": [
    "### 4.3 – Valeurs \"manquantes\" codées autrement (ex. '?')"
   ]
  },
  {
   "cell_type": "code",
   "execution_count": 44,
   "id": "d2557630",
   "metadata": {},
   "outputs": [
    {
     "data": {
      "application/vnd.microsoft.datawrangler.viewer.v0+json": {
       "columns": [
        {
         "name": "index",
         "rawType": "object",
         "type": "string"
        },
        {
         "name": "0",
         "rawType": "int64",
         "type": "integer"
        }
       ],
       "ref": "98e9603d-1df1-4431-bd34-a26fed1c0f19",
       "rows": [
        [
         "age",
         "0"
        ],
        [
         "sex",
         "0"
        ],
        [
         "cp",
         "0"
        ],
        [
         "trestbps",
         "0"
        ],
        [
         "chol",
         "0"
        ],
        [
         "fbs",
         "0"
        ],
        [
         "restecg",
         "0"
        ],
        [
         "thalch",
         "0"
        ],
        [
         "exang",
         "0"
        ],
        [
         "oldpeak",
         "0"
        ],
        [
         "target",
         "0"
        ]
       ],
       "shape": {
        "columns": 1,
        "rows": 11
       }
      },
      "text/plain": [
       "age         0\n",
       "sex         0\n",
       "cp          0\n",
       "trestbps    0\n",
       "chol        0\n",
       "fbs         0\n",
       "restecg     0\n",
       "thalch      0\n",
       "exang       0\n",
       "oldpeak     0\n",
       "target      0\n",
       "dtype: int64"
      ]
     },
     "execution_count": 44,
     "metadata": {},
     "output_type": "execute_result"
    }
   ],
   "source": [
    "# Vérifier s'il y a des valeurs codées sous forme de '?'\n",
    "(df == '?').sum()\n"
   ]
  },
  {
   "cell_type": "markdown",
   "id": "fe980ac7",
   "metadata": {},
   "source": [
    "##  Analyse du résultat `0` partout :\n",
    "\n",
    "Ce résultat confirme que **`df.isnull().sum()` retourne zéro pour toutes les colonnes**.\n",
    "\n",
    "---\n",
    "\n",
    "##  Interprétation :\n",
    "\n",
    "* Toutes les **valeurs manquantes ont été traitées correctement** (par suppression ou imputation).\n",
    "* Ton **jeu de données est maintenant complet** et prêt pour :\n",
    "\n",
    "  * **l'encodage des variables catégorielles**\n",
    "  * puis **la normalisation**\n",
    "  * et l'**entraînement du modèle**\n",
    "\n",
    "---\n",
    "\n",
    "J'ai à présent dans un **état de données propre et exploitable**.\n",
    "\n"
   ]
  },
  {
   "cell_type": "code",
   "execution_count": 43,
   "id": "baab358a",
   "metadata": {},
   "outputs": [
    {
     "data": {
      "application/vnd.microsoft.datawrangler.viewer.v0+json": {
       "columns": [
        {
         "name": "index",
         "rawType": "object",
         "type": "string"
        },
        {
         "name": "0",
         "rawType": "int64",
         "type": "integer"
        }
       ],
       "ref": "6a3d8f24-5325-447a-850d-3358e82d76ea",
       "rows": [
        [
         "age",
         "0"
        ],
        [
         "sex",
         "0"
        ],
        [
         "cp",
         "0"
        ],
        [
         "trestbps",
         "0"
        ],
        [
         "chol",
         "0"
        ],
        [
         "fbs",
         "0"
        ],
        [
         "restecg",
         "0"
        ],
        [
         "thalch",
         "0"
        ],
        [
         "exang",
         "0"
        ],
        [
         "oldpeak",
         "0"
        ],
        [
         "target",
         "0"
        ]
       ],
       "shape": {
        "columns": 1,
        "rows": 11
       }
      },
      "text/plain": [
       "age         0\n",
       "sex         0\n",
       "cp          0\n",
       "trestbps    0\n",
       "chol        0\n",
       "fbs         0\n",
       "restecg     0\n",
       "thalch      0\n",
       "exang       0\n",
       "oldpeak     0\n",
       "target      0\n",
       "dtype: int64"
      ]
     },
     "execution_count": 43,
     "metadata": {},
     "output_type": "execute_result"
    }
   ],
   "source": [
    "# Affichage des NaN après remplacement\n",
    "df.isna().sum()\n"
   ]
  },
  {
   "cell_type": "markdown",
   "id": "7be2af0b",
   "metadata": {},
   "source": [
    "Tout est à 0, parfait pour la suite"
   ]
  },
  {
   "cell_type": "markdown",
   "id": "82878f34",
   "metadata": {},
   "source": [
    "### 4.4 – Imputation des valeurs manquantes"
   ]
  },
  {
   "cell_type": "code",
   "execution_count": 48,
   "id": "5079ca14",
   "metadata": {},
   "outputs": [
    {
     "name": "stdout",
     "output_type": "stream",
     "text": [
      "Colonnes 'ca' et 'thal' absentes du DataFrame.\n"
     ]
    }
   ],
   "source": [
    "import numpy as np\n",
    "\n",
    "# Remplacer les '?' par NaN dans tout le DataFrame\n",
    "df.replace('?', np.nan, inplace=True)\n",
    "\n",
    "# Convertir en float uniquement si les colonnes existent\n",
    "if 'ca' in df.columns:\n",
    "    df['ca'] = pd.to_numeric(df['ca'], errors='coerce')\n",
    "\n",
    "if 'thal' in df.columns:\n",
    "    df['thal'] = pd.to_numeric(df['thal'], errors='coerce')\n",
    "\n",
    "# Vérifier les types uniquement si elles existent\n",
    "cols_to_check = [col for col in ['ca', 'thal'] if col in df.columns]\n",
    "df[cols_to_check].dtypes if cols_to_check else print(\"Colonnes 'ca' et 'thal' absentes du DataFrame.\")\n"
   ]
  },
  {
   "cell_type": "markdown",
   "id": "49355b2e",
   "metadata": {},
   "source": [
    "### Maintenant je peux imputer proprement"
   ]
  },
  {
   "cell_type": "code",
   "execution_count": 26,
   "id": "5f886fb9",
   "metadata": {},
   "outputs": [
    {
     "data": {
      "application/vnd.microsoft.datawrangler.viewer.v0+json": {
       "columns": [
        {
         "name": "index",
         "rawType": "object",
         "type": "string"
        },
        {
         "name": "0",
         "rawType": "int64",
         "type": "integer"
        }
       ],
       "ref": "c4201a04-0e2e-4068-9976-257d30ad6f2d",
       "rows": [
        [
         "age",
         "0"
        ],
        [
         "sex",
         "0"
        ],
        [
         "cp",
         "0"
        ],
        [
         "trestbps",
         "0"
        ],
        [
         "chol",
         "0"
        ],
        [
         "fbs",
         "90"
        ],
        [
         "restecg",
         "2"
        ],
        [
         "thalch",
         "0"
        ],
        [
         "exang",
         "55"
        ],
        [
         "oldpeak",
         "0"
        ],
        [
         "slope",
         "309"
        ],
        [
         "ca",
         "0"
        ],
        [
         "thal",
         "920"
        ],
        [
         "target",
         "0"
        ]
       ],
       "shape": {
        "columns": 1,
        "rows": 14
       }
      },
      "text/plain": [
       "age           0\n",
       "sex           0\n",
       "cp            0\n",
       "trestbps      0\n",
       "chol          0\n",
       "fbs          90\n",
       "restecg       2\n",
       "thalch        0\n",
       "exang        55\n",
       "oldpeak       0\n",
       "slope       309\n",
       "ca            0\n",
       "thal        920\n",
       "target        0\n",
       "dtype: int64"
      ]
     },
     "execution_count": 26,
     "metadata": {},
     "output_type": "execute_result"
    }
   ],
   "source": [
    "# Remplissage des valeurs NaN par la moyenne des colonnes (numériques uniquement)\n",
    "df.fillna(df.mean(numeric_only=True), inplace=True)\n",
    "\n",
    "# Vérification finale\n",
    "df.isnull().sum()\n"
   ]
  },
  {
   "cell_type": "markdown",
   "id": "7693efa3",
   "metadata": {},
   "source": [
    "---\n",
    "\n",
    "## Résumé de l’état actuel (`df.isnull().sum()`)\n",
    "\n",
    "### Colonnes bien imputées :\n",
    "\n",
    "Aucune valeur manquante restante dans :\n",
    "\n",
    "* `age`, `sex`, `cp`, `trestbps`, `chol`, `thalch`, `oldpeak`, `ca`, `target`\n",
    "\n",
    "---\n",
    "\n",
    "### Colonnes encore à traiter :\n",
    "\n",
    "| Colonne   | NaN restants | Type         | Action à faire                            |\n",
    "| --------- | ------------ | ------------ | ----------------------------------------- |\n",
    "| `fbs`     | 90           | booléen      | Encoder puis **imputer** (0 recommandé) |\n",
    "| `restecg` | 2            | catégorielle | Imputer par **mode**                    |\n",
    "| `exang`   | 55           | booléen      | Encoder puis **imputer** (0 recommandé) |\n",
    "| `slope`   | 309          | catégorielle | Trop de NaN → à **supprimer**           |\n",
    "| `thal`    | **920**      | catégorielle | Entièrement manquante → à **supprimer** |\n",
    "\n",
    "---\n"
   ]
  },
  {
   "cell_type": "markdown",
   "id": "548c5c4d",
   "metadata": {},
   "source": [
    "### 4.5 – Encodage des variables catégorielles"
   ]
  },
  {
   "cell_type": "code",
   "execution_count": 27,
   "id": "d59458c6",
   "metadata": {},
   "outputs": [
    {
     "data": {
      "application/vnd.microsoft.datawrangler.viewer.v0+json": {
       "columns": [
        {
         "name": "index",
         "rawType": "int64",
         "type": "integer"
        },
        {
         "name": "age",
         "rawType": "int64",
         "type": "integer"
        },
        {
         "name": "trestbps",
         "rawType": "float64",
         "type": "float"
        },
        {
         "name": "chol",
         "rawType": "float64",
         "type": "float"
        },
        {
         "name": "thalch",
         "rawType": "float64",
         "type": "float"
        },
        {
         "name": "oldpeak",
         "rawType": "float64",
         "type": "float"
        },
        {
         "name": "ca",
         "rawType": "float64",
         "type": "float"
        },
        {
         "name": "target",
         "rawType": "int64",
         "type": "integer"
        },
        {
         "name": "cp_atypical angina",
         "rawType": "bool",
         "type": "boolean"
        },
        {
         "name": "cp_non-anginal",
         "rawType": "bool",
         "type": "boolean"
        },
        {
         "name": "cp_typical angina",
         "rawType": "bool",
         "type": "boolean"
        },
        {
         "name": "restecg_normal",
         "rawType": "bool",
         "type": "boolean"
        },
        {
         "name": "restecg_st-t abnormality",
         "rawType": "bool",
         "type": "boolean"
        },
        {
         "name": "slope_flat",
         "rawType": "bool",
         "type": "boolean"
        },
        {
         "name": "slope_upsloping",
         "rawType": "bool",
         "type": "boolean"
        },
        {
         "name": "sex_Male",
         "rawType": "bool",
         "type": "boolean"
        },
        {
         "name": "fbs_True",
         "rawType": "bool",
         "type": "boolean"
        },
        {
         "name": "exang_True",
         "rawType": "bool",
         "type": "boolean"
        }
       ],
       "ref": "4c100e2c-be07-4cda-8a9c-d40d9d160011",
       "rows": [
        [
         "0",
         "63",
         "145.0",
         "233.0",
         "150.0",
         "2.3",
         "0.0",
         "0",
         "False",
         "False",
         "True",
         "False",
         "False",
         "False",
         "False",
         "True",
         "True",
         "False"
        ],
        [
         "1",
         "67",
         "160.0",
         "286.0",
         "108.0",
         "1.5",
         "3.0",
         "1",
         "False",
         "False",
         "False",
         "False",
         "False",
         "True",
         "False",
         "True",
         "False",
         "True"
        ],
        [
         "2",
         "67",
         "120.0",
         "229.0",
         "129.0",
         "2.6",
         "2.0",
         "1",
         "False",
         "False",
         "False",
         "False",
         "False",
         "True",
         "False",
         "True",
         "False",
         "True"
        ],
        [
         "3",
         "37",
         "130.0",
         "250.0",
         "187.0",
         "3.5",
         "0.0",
         "0",
         "False",
         "True",
         "False",
         "True",
         "False",
         "False",
         "False",
         "True",
         "False",
         "False"
        ],
        [
         "4",
         "41",
         "130.0",
         "204.0",
         "172.0",
         "1.4",
         "0.0",
         "0",
         "True",
         "False",
         "False",
         "False",
         "False",
         "False",
         "True",
         "False",
         "False",
         "False"
        ]
       ],
       "shape": {
        "columns": 17,
        "rows": 5
       }
      },
      "text/html": [
       "<div>\n",
       "<style scoped>\n",
       "    .dataframe tbody tr th:only-of-type {\n",
       "        vertical-align: middle;\n",
       "    }\n",
       "\n",
       "    .dataframe tbody tr th {\n",
       "        vertical-align: top;\n",
       "    }\n",
       "\n",
       "    .dataframe thead th {\n",
       "        text-align: right;\n",
       "    }\n",
       "</style>\n",
       "<table border=\"1\" class=\"dataframe\">\n",
       "  <thead>\n",
       "    <tr style=\"text-align: right;\">\n",
       "      <th></th>\n",
       "      <th>age</th>\n",
       "      <th>trestbps</th>\n",
       "      <th>chol</th>\n",
       "      <th>thalch</th>\n",
       "      <th>oldpeak</th>\n",
       "      <th>ca</th>\n",
       "      <th>target</th>\n",
       "      <th>cp_atypical angina</th>\n",
       "      <th>cp_non-anginal</th>\n",
       "      <th>cp_typical angina</th>\n",
       "      <th>restecg_normal</th>\n",
       "      <th>restecg_st-t abnormality</th>\n",
       "      <th>slope_flat</th>\n",
       "      <th>slope_upsloping</th>\n",
       "      <th>sex_Male</th>\n",
       "      <th>fbs_True</th>\n",
       "      <th>exang_True</th>\n",
       "    </tr>\n",
       "  </thead>\n",
       "  <tbody>\n",
       "    <tr>\n",
       "      <th>0</th>\n",
       "      <td>63</td>\n",
       "      <td>145.0</td>\n",
       "      <td>233.0</td>\n",
       "      <td>150.0</td>\n",
       "      <td>2.3</td>\n",
       "      <td>0.0</td>\n",
       "      <td>0</td>\n",
       "      <td>False</td>\n",
       "      <td>False</td>\n",
       "      <td>True</td>\n",
       "      <td>False</td>\n",
       "      <td>False</td>\n",
       "      <td>False</td>\n",
       "      <td>False</td>\n",
       "      <td>True</td>\n",
       "      <td>True</td>\n",
       "      <td>False</td>\n",
       "    </tr>\n",
       "    <tr>\n",
       "      <th>1</th>\n",
       "      <td>67</td>\n",
       "      <td>160.0</td>\n",
       "      <td>286.0</td>\n",
       "      <td>108.0</td>\n",
       "      <td>1.5</td>\n",
       "      <td>3.0</td>\n",
       "      <td>1</td>\n",
       "      <td>False</td>\n",
       "      <td>False</td>\n",
       "      <td>False</td>\n",
       "      <td>False</td>\n",
       "      <td>False</td>\n",
       "      <td>True</td>\n",
       "      <td>False</td>\n",
       "      <td>True</td>\n",
       "      <td>False</td>\n",
       "      <td>True</td>\n",
       "    </tr>\n",
       "    <tr>\n",
       "      <th>2</th>\n",
       "      <td>67</td>\n",
       "      <td>120.0</td>\n",
       "      <td>229.0</td>\n",
       "      <td>129.0</td>\n",
       "      <td>2.6</td>\n",
       "      <td>2.0</td>\n",
       "      <td>1</td>\n",
       "      <td>False</td>\n",
       "      <td>False</td>\n",
       "      <td>False</td>\n",
       "      <td>False</td>\n",
       "      <td>False</td>\n",
       "      <td>True</td>\n",
       "      <td>False</td>\n",
       "      <td>True</td>\n",
       "      <td>False</td>\n",
       "      <td>True</td>\n",
       "    </tr>\n",
       "    <tr>\n",
       "      <th>3</th>\n",
       "      <td>37</td>\n",
       "      <td>130.0</td>\n",
       "      <td>250.0</td>\n",
       "      <td>187.0</td>\n",
       "      <td>3.5</td>\n",
       "      <td>0.0</td>\n",
       "      <td>0</td>\n",
       "      <td>False</td>\n",
       "      <td>True</td>\n",
       "      <td>False</td>\n",
       "      <td>True</td>\n",
       "      <td>False</td>\n",
       "      <td>False</td>\n",
       "      <td>False</td>\n",
       "      <td>True</td>\n",
       "      <td>False</td>\n",
       "      <td>False</td>\n",
       "    </tr>\n",
       "    <tr>\n",
       "      <th>4</th>\n",
       "      <td>41</td>\n",
       "      <td>130.0</td>\n",
       "      <td>204.0</td>\n",
       "      <td>172.0</td>\n",
       "      <td>1.4</td>\n",
       "      <td>0.0</td>\n",
       "      <td>0</td>\n",
       "      <td>True</td>\n",
       "      <td>False</td>\n",
       "      <td>False</td>\n",
       "      <td>False</td>\n",
       "      <td>False</td>\n",
       "      <td>False</td>\n",
       "      <td>True</td>\n",
       "      <td>False</td>\n",
       "      <td>False</td>\n",
       "      <td>False</td>\n",
       "    </tr>\n",
       "  </tbody>\n",
       "</table>\n",
       "</div>"
      ],
      "text/plain": [
       "   age  trestbps   chol  thalch  oldpeak   ca  target  cp_atypical angina  \\\n",
       "0   63     145.0  233.0   150.0      2.3  0.0       0               False   \n",
       "1   67     160.0  286.0   108.0      1.5  3.0       1               False   \n",
       "2   67     120.0  229.0   129.0      2.6  2.0       1               False   \n",
       "3   37     130.0  250.0   187.0      3.5  0.0       0               False   \n",
       "4   41     130.0  204.0   172.0      1.4  0.0       0                True   \n",
       "\n",
       "   cp_non-anginal  cp_typical angina  restecg_normal  \\\n",
       "0           False               True           False   \n",
       "1           False              False           False   \n",
       "2           False              False           False   \n",
       "3            True              False            True   \n",
       "4           False              False           False   \n",
       "\n",
       "   restecg_st-t abnormality  slope_flat  slope_upsloping  sex_Male  fbs_True  \\\n",
       "0                     False       False            False      True      True   \n",
       "1                     False        True            False      True     False   \n",
       "2                     False        True            False      True     False   \n",
       "3                     False       False            False      True     False   \n",
       "4                     False       False             True     False     False   \n",
       "\n",
       "   exang_True  \n",
       "0       False  \n",
       "1        True  \n",
       "2        True  \n",
       "3       False  \n",
       "4       False  "
      ]
     },
     "execution_count": 27,
     "metadata": {},
     "output_type": "execute_result"
    }
   ],
   "source": [
    "# Encodage des variables catégorielles par one-hot encoding\n",
    "df_encoded = pd.get_dummies(df, columns=['cp', 'restecg', 'slope', 'thal', 'sex', 'fbs', 'exang'], drop_first=True)\n",
    "\n",
    "# Vérification des nouvelles colonnes\n",
    "df_encoded.head()\n"
   ]
  },
  {
   "cell_type": "markdown",
   "id": "607f26fc",
   "metadata": {},
   "source": [
    "* Le DataFrame `df_encoded` contient maintenant des **colonnes numériques uniquement**, prêtes pour l'entraînement du modèle.\n",
    "* Les variables catégorielles comme `'cp'`, `'restecg'`, `'slope'`, `'thal'`, `'sex'`, `'fbs'`, `'exang'` ont été **converties en colonnes binaires** (0 ou 1), grâce à `pd.get_dummies()`.\n",
    "\n",
    "#### **Pourquoi c’est important :**\n",
    "\n",
    "* Les modèles comme **la régression logistique** **ne gèrent pas les chaînes de caractères ou catégories directement**. Cet encodage permet au modèle de traiter ces infos.\n",
    "* L’option `drop_first=True` évite la **multicolinéarité** (un des dummy peut être déduit des autres), ce qui est crucial pour la régression.\n",
    "\n"
   ]
  },
  {
   "cell_type": "markdown",
   "id": "06d5cff8",
   "metadata": {},
   "source": [
    "### 4.6 – Séparation des features (X) et de la target (y)"
   ]
  },
  {
   "cell_type": "code",
   "execution_count": 28,
   "id": "cde1ce4c",
   "metadata": {},
   "outputs": [],
   "source": [
    "# Séparation des variables explicatives et de la variable cible\n",
    "X = df_encoded.drop('target', axis=1)\n",
    "y = df_encoded['target']\n"
   ]
  },
  {
   "cell_type": "markdown",
   "id": "47618377",
   "metadata": {},
   "source": [
    "### 4.7 – Normalisation des données"
   ]
  },
  {
   "cell_type": "code",
   "execution_count": 30,
   "id": "c21bacb4",
   "metadata": {},
   "outputs": [],
   "source": [
    "from sklearn.preprocessing import StandardScaler\n",
    "\n",
    "scaler = StandardScaler()\n",
    "X_scaled = scaler.fit_transform(X)\n"
   ]
  },
  {
   "cell_type": "markdown",
   "id": "ef31274d",
   "metadata": {},
   "source": [
    "## Étape 5 – Entraînement du modèle de régression logistique"
   ]
  },
  {
   "cell_type": "markdown",
   "id": "b0eac814",
   "metadata": {},
   "source": [
    "Objectifs :\n",
    "Séparer les données en jeu d’entraînement et jeu de test\n",
    "\n",
    "Entraîner le modèle LogisticRegression sur les données d’entraînement"
   ]
  },
  {
   "cell_type": "markdown",
   "id": "a8031a05",
   "metadata": {},
   "source": [
    "### 5.1 – Séparation en train/test"
   ]
  },
  {
   "cell_type": "code",
   "execution_count": 31,
   "id": "e408a135",
   "metadata": {},
   "outputs": [
    {
     "name": "stdout",
     "output_type": "stream",
     "text": [
      "X_train : (736, 16)\n",
      "X_test  : (184, 16)\n",
      "y_train : (736,)\n",
      "y_test  : (184,)\n"
     ]
    }
   ],
   "source": [
    "from sklearn.model_selection import train_test_split\n",
    "\n",
    "# Séparation des données : 80 % entraînement, 20 % test\n",
    "X_train, X_test, y_train, y_test = train_test_split(X_scaled, y, test_size=0.2, random_state=42, stratify=y)\n",
    "\n",
    "# Vérification des dimensions\n",
    "print(\"X_train :\", X_train.shape)\n",
    "print(\"X_test  :\", X_test.shape)\n",
    "print(\"y_train :\", y_train.shape)\n",
    "print(\"y_test  :\", y_test.shape)\n"
   ]
  },
  {
   "cell_type": "markdown",
   "id": "1fbc8253",
   "metadata": {},
   "source": [
    "### Interprétation des dimensions d'entraînement et test :\n",
    "\n",
    "| Élément   | Description                                              |\n",
    "| --------- | -------------------------------------------------------- |\n",
    "| `X_train` | 736 exemples (lignes), 16 variables explicatives         |\n",
    "| `X_test`  | 184 exemples, 16 variables (même structure que X\\_train) |\n",
    "| `y_train` | 736 valeurs cibles (0 ou 1), alignées avec `X_train`     |\n",
    "| `y_test`  | 184 cibles, alignées avec `X_test`                       |\n",
    "\n",
    "---\n",
    "\n",
    "### Conclusion :\n",
    "\n",
    "* La **séparation train/test a été correctement effectuée** (\\~80% train, 20% test).\n",
    "* Je suis prêt à **entraîner un modèle** (régression logistique, SVM, etc.).\n",
    "\n"
   ]
  },
  {
   "cell_type": "markdown",
   "id": "e693b731",
   "metadata": {},
   "source": [
    "### 5.2 – Entraînement du modèle"
   ]
  },
  {
   "cell_type": "code",
   "execution_count": 32,
   "id": "b0d4a49f",
   "metadata": {},
   "outputs": [
    {
     "data": {
      "text/html": [
       "<style>#sk-container-id-1 {\n",
       "  /* Definition of color scheme common for light and dark mode */\n",
       "  --sklearn-color-text: #000;\n",
       "  --sklearn-color-text-muted: #666;\n",
       "  --sklearn-color-line: gray;\n",
       "  /* Definition of color scheme for unfitted estimators */\n",
       "  --sklearn-color-unfitted-level-0: #fff5e6;\n",
       "  --sklearn-color-unfitted-level-1: #f6e4d2;\n",
       "  --sklearn-color-unfitted-level-2: #ffe0b3;\n",
       "  --sklearn-color-unfitted-level-3: chocolate;\n",
       "  /* Definition of color scheme for fitted estimators */\n",
       "  --sklearn-color-fitted-level-0: #f0f8ff;\n",
       "  --sklearn-color-fitted-level-1: #d4ebff;\n",
       "  --sklearn-color-fitted-level-2: #b3dbfd;\n",
       "  --sklearn-color-fitted-level-3: cornflowerblue;\n",
       "\n",
       "  /* Specific color for light theme */\n",
       "  --sklearn-color-text-on-default-background: var(--sg-text-color, var(--theme-code-foreground, var(--jp-content-font-color1, black)));\n",
       "  --sklearn-color-background: var(--sg-background-color, var(--theme-background, var(--jp-layout-color0, white)));\n",
       "  --sklearn-color-border-box: var(--sg-text-color, var(--theme-code-foreground, var(--jp-content-font-color1, black)));\n",
       "  --sklearn-color-icon: #696969;\n",
       "\n",
       "  @media (prefers-color-scheme: dark) {\n",
       "    /* Redefinition of color scheme for dark theme */\n",
       "    --sklearn-color-text-on-default-background: var(--sg-text-color, var(--theme-code-foreground, var(--jp-content-font-color1, white)));\n",
       "    --sklearn-color-background: var(--sg-background-color, var(--theme-background, var(--jp-layout-color0, #111)));\n",
       "    --sklearn-color-border-box: var(--sg-text-color, var(--theme-code-foreground, var(--jp-content-font-color1, white)));\n",
       "    --sklearn-color-icon: #878787;\n",
       "  }\n",
       "}\n",
       "\n",
       "#sk-container-id-1 {\n",
       "  color: var(--sklearn-color-text);\n",
       "}\n",
       "\n",
       "#sk-container-id-1 pre {\n",
       "  padding: 0;\n",
       "}\n",
       "\n",
       "#sk-container-id-1 input.sk-hidden--visually {\n",
       "  border: 0;\n",
       "  clip: rect(1px 1px 1px 1px);\n",
       "  clip: rect(1px, 1px, 1px, 1px);\n",
       "  height: 1px;\n",
       "  margin: -1px;\n",
       "  overflow: hidden;\n",
       "  padding: 0;\n",
       "  position: absolute;\n",
       "  width: 1px;\n",
       "}\n",
       "\n",
       "#sk-container-id-1 div.sk-dashed-wrapped {\n",
       "  border: 1px dashed var(--sklearn-color-line);\n",
       "  margin: 0 0.4em 0.5em 0.4em;\n",
       "  box-sizing: border-box;\n",
       "  padding-bottom: 0.4em;\n",
       "  background-color: var(--sklearn-color-background);\n",
       "}\n",
       "\n",
       "#sk-container-id-1 div.sk-container {\n",
       "  /* jupyter's `normalize.less` sets `[hidden] { display: none; }`\n",
       "     but bootstrap.min.css set `[hidden] { display: none !important; }`\n",
       "     so we also need the `!important` here to be able to override the\n",
       "     default hidden behavior on the sphinx rendered scikit-learn.org.\n",
       "     See: https://github.com/scikit-learn/scikit-learn/issues/21755 */\n",
       "  display: inline-block !important;\n",
       "  position: relative;\n",
       "}\n",
       "\n",
       "#sk-container-id-1 div.sk-text-repr-fallback {\n",
       "  display: none;\n",
       "}\n",
       "\n",
       "div.sk-parallel-item,\n",
       "div.sk-serial,\n",
       "div.sk-item {\n",
       "  /* draw centered vertical line to link estimators */\n",
       "  background-image: linear-gradient(var(--sklearn-color-text-on-default-background), var(--sklearn-color-text-on-default-background));\n",
       "  background-size: 2px 100%;\n",
       "  background-repeat: no-repeat;\n",
       "  background-position: center center;\n",
       "}\n",
       "\n",
       "/* Parallel-specific style estimator block */\n",
       "\n",
       "#sk-container-id-1 div.sk-parallel-item::after {\n",
       "  content: \"\";\n",
       "  width: 100%;\n",
       "  border-bottom: 2px solid var(--sklearn-color-text-on-default-background);\n",
       "  flex-grow: 1;\n",
       "}\n",
       "\n",
       "#sk-container-id-1 div.sk-parallel {\n",
       "  display: flex;\n",
       "  align-items: stretch;\n",
       "  justify-content: center;\n",
       "  background-color: var(--sklearn-color-background);\n",
       "  position: relative;\n",
       "}\n",
       "\n",
       "#sk-container-id-1 div.sk-parallel-item {\n",
       "  display: flex;\n",
       "  flex-direction: column;\n",
       "}\n",
       "\n",
       "#sk-container-id-1 div.sk-parallel-item:first-child::after {\n",
       "  align-self: flex-end;\n",
       "  width: 50%;\n",
       "}\n",
       "\n",
       "#sk-container-id-1 div.sk-parallel-item:last-child::after {\n",
       "  align-self: flex-start;\n",
       "  width: 50%;\n",
       "}\n",
       "\n",
       "#sk-container-id-1 div.sk-parallel-item:only-child::after {\n",
       "  width: 0;\n",
       "}\n",
       "\n",
       "/* Serial-specific style estimator block */\n",
       "\n",
       "#sk-container-id-1 div.sk-serial {\n",
       "  display: flex;\n",
       "  flex-direction: column;\n",
       "  align-items: center;\n",
       "  background-color: var(--sklearn-color-background);\n",
       "  padding-right: 1em;\n",
       "  padding-left: 1em;\n",
       "}\n",
       "\n",
       "\n",
       "/* Toggleable style: style used for estimator/Pipeline/ColumnTransformer box that is\n",
       "clickable and can be expanded/collapsed.\n",
       "- Pipeline and ColumnTransformer use this feature and define the default style\n",
       "- Estimators will overwrite some part of the style using the `sk-estimator` class\n",
       "*/\n",
       "\n",
       "/* Pipeline and ColumnTransformer style (default) */\n",
       "\n",
       "#sk-container-id-1 div.sk-toggleable {\n",
       "  /* Default theme specific background. It is overwritten whether we have a\n",
       "  specific estimator or a Pipeline/ColumnTransformer */\n",
       "  background-color: var(--sklearn-color-background);\n",
       "}\n",
       "\n",
       "/* Toggleable label */\n",
       "#sk-container-id-1 label.sk-toggleable__label {\n",
       "  cursor: pointer;\n",
       "  display: flex;\n",
       "  width: 100%;\n",
       "  margin-bottom: 0;\n",
       "  padding: 0.5em;\n",
       "  box-sizing: border-box;\n",
       "  text-align: center;\n",
       "  align-items: start;\n",
       "  justify-content: space-between;\n",
       "  gap: 0.5em;\n",
       "}\n",
       "\n",
       "#sk-container-id-1 label.sk-toggleable__label .caption {\n",
       "  font-size: 0.6rem;\n",
       "  font-weight: lighter;\n",
       "  color: var(--sklearn-color-text-muted);\n",
       "}\n",
       "\n",
       "#sk-container-id-1 label.sk-toggleable__label-arrow:before {\n",
       "  /* Arrow on the left of the label */\n",
       "  content: \"▸\";\n",
       "  float: left;\n",
       "  margin-right: 0.25em;\n",
       "  color: var(--sklearn-color-icon);\n",
       "}\n",
       "\n",
       "#sk-container-id-1 label.sk-toggleable__label-arrow:hover:before {\n",
       "  color: var(--sklearn-color-text);\n",
       "}\n",
       "\n",
       "/* Toggleable content - dropdown */\n",
       "\n",
       "#sk-container-id-1 div.sk-toggleable__content {\n",
       "  display: none;\n",
       "  text-align: left;\n",
       "  /* unfitted */\n",
       "  background-color: var(--sklearn-color-unfitted-level-0);\n",
       "}\n",
       "\n",
       "#sk-container-id-1 div.sk-toggleable__content.fitted {\n",
       "  /* fitted */\n",
       "  background-color: var(--sklearn-color-fitted-level-0);\n",
       "}\n",
       "\n",
       "#sk-container-id-1 div.sk-toggleable__content pre {\n",
       "  margin: 0.2em;\n",
       "  border-radius: 0.25em;\n",
       "  color: var(--sklearn-color-text);\n",
       "  /* unfitted */\n",
       "  background-color: var(--sklearn-color-unfitted-level-0);\n",
       "}\n",
       "\n",
       "#sk-container-id-1 div.sk-toggleable__content.fitted pre {\n",
       "  /* unfitted */\n",
       "  background-color: var(--sklearn-color-fitted-level-0);\n",
       "}\n",
       "\n",
       "#sk-container-id-1 input.sk-toggleable__control:checked~div.sk-toggleable__content {\n",
       "  /* Expand drop-down */\n",
       "  display: block;\n",
       "  width: 100%;\n",
       "  overflow: visible;\n",
       "}\n",
       "\n",
       "#sk-container-id-1 input.sk-toggleable__control:checked~label.sk-toggleable__label-arrow:before {\n",
       "  content: \"▾\";\n",
       "}\n",
       "\n",
       "/* Pipeline/ColumnTransformer-specific style */\n",
       "\n",
       "#sk-container-id-1 div.sk-label input.sk-toggleable__control:checked~label.sk-toggleable__label {\n",
       "  color: var(--sklearn-color-text);\n",
       "  background-color: var(--sklearn-color-unfitted-level-2);\n",
       "}\n",
       "\n",
       "#sk-container-id-1 div.sk-label.fitted input.sk-toggleable__control:checked~label.sk-toggleable__label {\n",
       "  background-color: var(--sklearn-color-fitted-level-2);\n",
       "}\n",
       "\n",
       "/* Estimator-specific style */\n",
       "\n",
       "/* Colorize estimator box */\n",
       "#sk-container-id-1 div.sk-estimator input.sk-toggleable__control:checked~label.sk-toggleable__label {\n",
       "  /* unfitted */\n",
       "  background-color: var(--sklearn-color-unfitted-level-2);\n",
       "}\n",
       "\n",
       "#sk-container-id-1 div.sk-estimator.fitted input.sk-toggleable__control:checked~label.sk-toggleable__label {\n",
       "  /* fitted */\n",
       "  background-color: var(--sklearn-color-fitted-level-2);\n",
       "}\n",
       "\n",
       "#sk-container-id-1 div.sk-label label.sk-toggleable__label,\n",
       "#sk-container-id-1 div.sk-label label {\n",
       "  /* The background is the default theme color */\n",
       "  color: var(--sklearn-color-text-on-default-background);\n",
       "}\n",
       "\n",
       "/* On hover, darken the color of the background */\n",
       "#sk-container-id-1 div.sk-label:hover label.sk-toggleable__label {\n",
       "  color: var(--sklearn-color-text);\n",
       "  background-color: var(--sklearn-color-unfitted-level-2);\n",
       "}\n",
       "\n",
       "/* Label box, darken color on hover, fitted */\n",
       "#sk-container-id-1 div.sk-label.fitted:hover label.sk-toggleable__label.fitted {\n",
       "  color: var(--sklearn-color-text);\n",
       "  background-color: var(--sklearn-color-fitted-level-2);\n",
       "}\n",
       "\n",
       "/* Estimator label */\n",
       "\n",
       "#sk-container-id-1 div.sk-label label {\n",
       "  font-family: monospace;\n",
       "  font-weight: bold;\n",
       "  display: inline-block;\n",
       "  line-height: 1.2em;\n",
       "}\n",
       "\n",
       "#sk-container-id-1 div.sk-label-container {\n",
       "  text-align: center;\n",
       "}\n",
       "\n",
       "/* Estimator-specific */\n",
       "#sk-container-id-1 div.sk-estimator {\n",
       "  font-family: monospace;\n",
       "  border: 1px dotted var(--sklearn-color-border-box);\n",
       "  border-radius: 0.25em;\n",
       "  box-sizing: border-box;\n",
       "  margin-bottom: 0.5em;\n",
       "  /* unfitted */\n",
       "  background-color: var(--sklearn-color-unfitted-level-0);\n",
       "}\n",
       "\n",
       "#sk-container-id-1 div.sk-estimator.fitted {\n",
       "  /* fitted */\n",
       "  background-color: var(--sklearn-color-fitted-level-0);\n",
       "}\n",
       "\n",
       "/* on hover */\n",
       "#sk-container-id-1 div.sk-estimator:hover {\n",
       "  /* unfitted */\n",
       "  background-color: var(--sklearn-color-unfitted-level-2);\n",
       "}\n",
       "\n",
       "#sk-container-id-1 div.sk-estimator.fitted:hover {\n",
       "  /* fitted */\n",
       "  background-color: var(--sklearn-color-fitted-level-2);\n",
       "}\n",
       "\n",
       "/* Specification for estimator info (e.g. \"i\" and \"?\") */\n",
       "\n",
       "/* Common style for \"i\" and \"?\" */\n",
       "\n",
       ".sk-estimator-doc-link,\n",
       "a:link.sk-estimator-doc-link,\n",
       "a:visited.sk-estimator-doc-link {\n",
       "  float: right;\n",
       "  font-size: smaller;\n",
       "  line-height: 1em;\n",
       "  font-family: monospace;\n",
       "  background-color: var(--sklearn-color-background);\n",
       "  border-radius: 1em;\n",
       "  height: 1em;\n",
       "  width: 1em;\n",
       "  text-decoration: none !important;\n",
       "  margin-left: 0.5em;\n",
       "  text-align: center;\n",
       "  /* unfitted */\n",
       "  border: var(--sklearn-color-unfitted-level-1) 1pt solid;\n",
       "  color: var(--sklearn-color-unfitted-level-1);\n",
       "}\n",
       "\n",
       ".sk-estimator-doc-link.fitted,\n",
       "a:link.sk-estimator-doc-link.fitted,\n",
       "a:visited.sk-estimator-doc-link.fitted {\n",
       "  /* fitted */\n",
       "  border: var(--sklearn-color-fitted-level-1) 1pt solid;\n",
       "  color: var(--sklearn-color-fitted-level-1);\n",
       "}\n",
       "\n",
       "/* On hover */\n",
       "div.sk-estimator:hover .sk-estimator-doc-link:hover,\n",
       ".sk-estimator-doc-link:hover,\n",
       "div.sk-label-container:hover .sk-estimator-doc-link:hover,\n",
       ".sk-estimator-doc-link:hover {\n",
       "  /* unfitted */\n",
       "  background-color: var(--sklearn-color-unfitted-level-3);\n",
       "  color: var(--sklearn-color-background);\n",
       "  text-decoration: none;\n",
       "}\n",
       "\n",
       "div.sk-estimator.fitted:hover .sk-estimator-doc-link.fitted:hover,\n",
       ".sk-estimator-doc-link.fitted:hover,\n",
       "div.sk-label-container:hover .sk-estimator-doc-link.fitted:hover,\n",
       ".sk-estimator-doc-link.fitted:hover {\n",
       "  /* fitted */\n",
       "  background-color: var(--sklearn-color-fitted-level-3);\n",
       "  color: var(--sklearn-color-background);\n",
       "  text-decoration: none;\n",
       "}\n",
       "\n",
       "/* Span, style for the box shown on hovering the info icon */\n",
       ".sk-estimator-doc-link span {\n",
       "  display: none;\n",
       "  z-index: 9999;\n",
       "  position: relative;\n",
       "  font-weight: normal;\n",
       "  right: .2ex;\n",
       "  padding: .5ex;\n",
       "  margin: .5ex;\n",
       "  width: min-content;\n",
       "  min-width: 20ex;\n",
       "  max-width: 50ex;\n",
       "  color: var(--sklearn-color-text);\n",
       "  box-shadow: 2pt 2pt 4pt #999;\n",
       "  /* unfitted */\n",
       "  background: var(--sklearn-color-unfitted-level-0);\n",
       "  border: .5pt solid var(--sklearn-color-unfitted-level-3);\n",
       "}\n",
       "\n",
       ".sk-estimator-doc-link.fitted span {\n",
       "  /* fitted */\n",
       "  background: var(--sklearn-color-fitted-level-0);\n",
       "  border: var(--sklearn-color-fitted-level-3);\n",
       "}\n",
       "\n",
       ".sk-estimator-doc-link:hover span {\n",
       "  display: block;\n",
       "}\n",
       "\n",
       "/* \"?\"-specific style due to the `<a>` HTML tag */\n",
       "\n",
       "#sk-container-id-1 a.estimator_doc_link {\n",
       "  float: right;\n",
       "  font-size: 1rem;\n",
       "  line-height: 1em;\n",
       "  font-family: monospace;\n",
       "  background-color: var(--sklearn-color-background);\n",
       "  border-radius: 1rem;\n",
       "  height: 1rem;\n",
       "  width: 1rem;\n",
       "  text-decoration: none;\n",
       "  /* unfitted */\n",
       "  color: var(--sklearn-color-unfitted-level-1);\n",
       "  border: var(--sklearn-color-unfitted-level-1) 1pt solid;\n",
       "}\n",
       "\n",
       "#sk-container-id-1 a.estimator_doc_link.fitted {\n",
       "  /* fitted */\n",
       "  border: var(--sklearn-color-fitted-level-1) 1pt solid;\n",
       "  color: var(--sklearn-color-fitted-level-1);\n",
       "}\n",
       "\n",
       "/* On hover */\n",
       "#sk-container-id-1 a.estimator_doc_link:hover {\n",
       "  /* unfitted */\n",
       "  background-color: var(--sklearn-color-unfitted-level-3);\n",
       "  color: var(--sklearn-color-background);\n",
       "  text-decoration: none;\n",
       "}\n",
       "\n",
       "#sk-container-id-1 a.estimator_doc_link.fitted:hover {\n",
       "  /* fitted */\n",
       "  background-color: var(--sklearn-color-fitted-level-3);\n",
       "}\n",
       "\n",
       ".estimator-table summary {\n",
       "    padding: .5rem;\n",
       "    font-family: monospace;\n",
       "    cursor: pointer;\n",
       "}\n",
       "\n",
       ".estimator-table details[open] {\n",
       "    padding-left: 0.1rem;\n",
       "    padding-right: 0.1rem;\n",
       "    padding-bottom: 0.3rem;\n",
       "}\n",
       "\n",
       ".estimator-table .parameters-table {\n",
       "    margin-left: auto !important;\n",
       "    margin-right: auto !important;\n",
       "}\n",
       "\n",
       ".estimator-table .parameters-table tr:nth-child(odd) {\n",
       "    background-color: #fff;\n",
       "}\n",
       "\n",
       ".estimator-table .parameters-table tr:nth-child(even) {\n",
       "    background-color: #f6f6f6;\n",
       "}\n",
       "\n",
       ".estimator-table .parameters-table tr:hover {\n",
       "    background-color: #e0e0e0;\n",
       "}\n",
       "\n",
       ".estimator-table table td {\n",
       "    border: 1px solid rgba(106, 105, 104, 0.232);\n",
       "}\n",
       "\n",
       ".user-set td {\n",
       "    color:rgb(255, 94, 0);\n",
       "    text-align: left;\n",
       "}\n",
       "\n",
       ".user-set td.value pre {\n",
       "    color:rgb(255, 94, 0) !important;\n",
       "    background-color: transparent !important;\n",
       "}\n",
       "\n",
       ".default td {\n",
       "    color: black;\n",
       "    text-align: left;\n",
       "}\n",
       "\n",
       ".user-set td i,\n",
       ".default td i {\n",
       "    color: black;\n",
       "}\n",
       "\n",
       ".copy-paste-icon {\n",
       "    background-image: url(data:image/svg+xml;base64,PHN2ZyB4bWxucz0iaHR0cDovL3d3dy53My5vcmcvMjAwMC9zdmciIHZpZXdCb3g9IjAgMCA0NDggNTEyIj48IS0tIUZvbnQgQXdlc29tZSBGcmVlIDYuNy4yIGJ5IEBmb250YXdlc29tZSAtIGh0dHBzOi8vZm9udGF3ZXNvbWUuY29tIExpY2Vuc2UgLSBodHRwczovL2ZvbnRhd2Vzb21lLmNvbS9saWNlbnNlL2ZyZWUgQ29weXJpZ2h0IDIwMjUgRm9udGljb25zLCBJbmMuLS0+PHBhdGggZD0iTTIwOCAwTDMzMi4xIDBjMTIuNyAwIDI0LjkgNS4xIDMzLjkgMTQuMWw2Ny45IDY3LjljOSA5IDE0LjEgMjEuMiAxNC4xIDMzLjlMNDQ4IDMzNmMwIDI2LjUtMjEuNSA0OC00OCA0OGwtMTkyIDBjLTI2LjUgMC00OC0yMS41LTQ4LTQ4bDAtMjg4YzAtMjYuNSAyMS41LTQ4IDQ4LTQ4ek00OCAxMjhsODAgMCAwIDY0LTY0IDAgMCAyNTYgMTkyIDAgMC0zMiA2NCAwIDAgNDhjMCAyNi41LTIxLjUgNDgtNDggNDhMNDggNTEyYy0yNi41IDAtNDgtMjEuNS00OC00OEwwIDE3NmMwLTI2LjUgMjEuNS00OCA0OC00OHoiLz48L3N2Zz4=);\n",
       "    background-repeat: no-repeat;\n",
       "    background-size: 14px 14px;\n",
       "    background-position: 0;\n",
       "    display: inline-block;\n",
       "    width: 14px;\n",
       "    height: 14px;\n",
       "    cursor: pointer;\n",
       "}\n",
       "</style><body><div id=\"sk-container-id-1\" class=\"sk-top-container\"><div class=\"sk-text-repr-fallback\"><pre>LogisticRegression(max_iter=1000)</pre><b>In a Jupyter environment, please rerun this cell to show the HTML representation or trust the notebook. <br />On GitHub, the HTML representation is unable to render, please try loading this page with nbviewer.org.</b></div><div class=\"sk-container\" hidden><div class=\"sk-item\"><div class=\"sk-estimator fitted sk-toggleable\"><input class=\"sk-toggleable__control sk-hidden--visually\" id=\"sk-estimator-id-1\" type=\"checkbox\" checked><label for=\"sk-estimator-id-1\" class=\"sk-toggleable__label fitted sk-toggleable__label-arrow\"><div><div>LogisticRegression</div></div><div><a class=\"sk-estimator-doc-link fitted\" rel=\"noreferrer\" target=\"_blank\" href=\"https://scikit-learn.org/1.7/modules/generated/sklearn.linear_model.LogisticRegression.html\">?<span>Documentation for LogisticRegression</span></a><span class=\"sk-estimator-doc-link fitted\">i<span>Fitted</span></span></div></label><div class=\"sk-toggleable__content fitted\" data-param-prefix=\"\">\n",
       "        <div class=\"estimator-table\">\n",
       "            <details>\n",
       "                <summary>Parameters</summary>\n",
       "                <table class=\"parameters-table\">\n",
       "                  <tbody>\n",
       "                    \n",
       "        <tr class=\"default\">\n",
       "            <td><i class=\"copy-paste-icon\"\n",
       "                 onclick=\"copyToClipboard('penalty',\n",
       "                          this.parentElement.nextElementSibling)\"\n",
       "            ></i></td>\n",
       "            <td class=\"param\">penalty&nbsp;</td>\n",
       "            <td class=\"value\">&#x27;l2&#x27;</td>\n",
       "        </tr>\n",
       "    \n",
       "\n",
       "        <tr class=\"default\">\n",
       "            <td><i class=\"copy-paste-icon\"\n",
       "                 onclick=\"copyToClipboard('dual',\n",
       "                          this.parentElement.nextElementSibling)\"\n",
       "            ></i></td>\n",
       "            <td class=\"param\">dual&nbsp;</td>\n",
       "            <td class=\"value\">False</td>\n",
       "        </tr>\n",
       "    \n",
       "\n",
       "        <tr class=\"default\">\n",
       "            <td><i class=\"copy-paste-icon\"\n",
       "                 onclick=\"copyToClipboard('tol',\n",
       "                          this.parentElement.nextElementSibling)\"\n",
       "            ></i></td>\n",
       "            <td class=\"param\">tol&nbsp;</td>\n",
       "            <td class=\"value\">0.0001</td>\n",
       "        </tr>\n",
       "    \n",
       "\n",
       "        <tr class=\"default\">\n",
       "            <td><i class=\"copy-paste-icon\"\n",
       "                 onclick=\"copyToClipboard('C',\n",
       "                          this.parentElement.nextElementSibling)\"\n",
       "            ></i></td>\n",
       "            <td class=\"param\">C&nbsp;</td>\n",
       "            <td class=\"value\">1.0</td>\n",
       "        </tr>\n",
       "    \n",
       "\n",
       "        <tr class=\"default\">\n",
       "            <td><i class=\"copy-paste-icon\"\n",
       "                 onclick=\"copyToClipboard('fit_intercept',\n",
       "                          this.parentElement.nextElementSibling)\"\n",
       "            ></i></td>\n",
       "            <td class=\"param\">fit_intercept&nbsp;</td>\n",
       "            <td class=\"value\">True</td>\n",
       "        </tr>\n",
       "    \n",
       "\n",
       "        <tr class=\"default\">\n",
       "            <td><i class=\"copy-paste-icon\"\n",
       "                 onclick=\"copyToClipboard('intercept_scaling',\n",
       "                          this.parentElement.nextElementSibling)\"\n",
       "            ></i></td>\n",
       "            <td class=\"param\">intercept_scaling&nbsp;</td>\n",
       "            <td class=\"value\">1</td>\n",
       "        </tr>\n",
       "    \n",
       "\n",
       "        <tr class=\"default\">\n",
       "            <td><i class=\"copy-paste-icon\"\n",
       "                 onclick=\"copyToClipboard('class_weight',\n",
       "                          this.parentElement.nextElementSibling)\"\n",
       "            ></i></td>\n",
       "            <td class=\"param\">class_weight&nbsp;</td>\n",
       "            <td class=\"value\">None</td>\n",
       "        </tr>\n",
       "    \n",
       "\n",
       "        <tr class=\"default\">\n",
       "            <td><i class=\"copy-paste-icon\"\n",
       "                 onclick=\"copyToClipboard('random_state',\n",
       "                          this.parentElement.nextElementSibling)\"\n",
       "            ></i></td>\n",
       "            <td class=\"param\">random_state&nbsp;</td>\n",
       "            <td class=\"value\">None</td>\n",
       "        </tr>\n",
       "    \n",
       "\n",
       "        <tr class=\"default\">\n",
       "            <td><i class=\"copy-paste-icon\"\n",
       "                 onclick=\"copyToClipboard('solver',\n",
       "                          this.parentElement.nextElementSibling)\"\n",
       "            ></i></td>\n",
       "            <td class=\"param\">solver&nbsp;</td>\n",
       "            <td class=\"value\">&#x27;lbfgs&#x27;</td>\n",
       "        </tr>\n",
       "    \n",
       "\n",
       "        <tr class=\"user-set\">\n",
       "            <td><i class=\"copy-paste-icon\"\n",
       "                 onclick=\"copyToClipboard('max_iter',\n",
       "                          this.parentElement.nextElementSibling)\"\n",
       "            ></i></td>\n",
       "            <td class=\"param\">max_iter&nbsp;</td>\n",
       "            <td class=\"value\">1000</td>\n",
       "        </tr>\n",
       "    \n",
       "\n",
       "        <tr class=\"default\">\n",
       "            <td><i class=\"copy-paste-icon\"\n",
       "                 onclick=\"copyToClipboard('multi_class',\n",
       "                          this.parentElement.nextElementSibling)\"\n",
       "            ></i></td>\n",
       "            <td class=\"param\">multi_class&nbsp;</td>\n",
       "            <td class=\"value\">&#x27;deprecated&#x27;</td>\n",
       "        </tr>\n",
       "    \n",
       "\n",
       "        <tr class=\"default\">\n",
       "            <td><i class=\"copy-paste-icon\"\n",
       "                 onclick=\"copyToClipboard('verbose',\n",
       "                          this.parentElement.nextElementSibling)\"\n",
       "            ></i></td>\n",
       "            <td class=\"param\">verbose&nbsp;</td>\n",
       "            <td class=\"value\">0</td>\n",
       "        </tr>\n",
       "    \n",
       "\n",
       "        <tr class=\"default\">\n",
       "            <td><i class=\"copy-paste-icon\"\n",
       "                 onclick=\"copyToClipboard('warm_start',\n",
       "                          this.parentElement.nextElementSibling)\"\n",
       "            ></i></td>\n",
       "            <td class=\"param\">warm_start&nbsp;</td>\n",
       "            <td class=\"value\">False</td>\n",
       "        </tr>\n",
       "    \n",
       "\n",
       "        <tr class=\"default\">\n",
       "            <td><i class=\"copy-paste-icon\"\n",
       "                 onclick=\"copyToClipboard('n_jobs',\n",
       "                          this.parentElement.nextElementSibling)\"\n",
       "            ></i></td>\n",
       "            <td class=\"param\">n_jobs&nbsp;</td>\n",
       "            <td class=\"value\">None</td>\n",
       "        </tr>\n",
       "    \n",
       "\n",
       "        <tr class=\"default\">\n",
       "            <td><i class=\"copy-paste-icon\"\n",
       "                 onclick=\"copyToClipboard('l1_ratio',\n",
       "                          this.parentElement.nextElementSibling)\"\n",
       "            ></i></td>\n",
       "            <td class=\"param\">l1_ratio&nbsp;</td>\n",
       "            <td class=\"value\">None</td>\n",
       "        </tr>\n",
       "    \n",
       "                  </tbody>\n",
       "                </table>\n",
       "            </details>\n",
       "        </div>\n",
       "    </div></div></div></div></div><script>function copyToClipboard(text, element) {\n",
       "    // Get the parameter prefix from the closest toggleable content\n",
       "    const toggleableContent = element.closest('.sk-toggleable__content');\n",
       "    const paramPrefix = toggleableContent ? toggleableContent.dataset.paramPrefix : '';\n",
       "    const fullParamName = paramPrefix ? `${paramPrefix}${text}` : text;\n",
       "\n",
       "    const originalStyle = element.style;\n",
       "    const computedStyle = window.getComputedStyle(element);\n",
       "    const originalWidth = computedStyle.width;\n",
       "    const originalHTML = element.innerHTML.replace('Copied!', '');\n",
       "\n",
       "    navigator.clipboard.writeText(fullParamName)\n",
       "        .then(() => {\n",
       "            element.style.width = originalWidth;\n",
       "            element.style.color = 'green';\n",
       "            element.innerHTML = \"Copied!\";\n",
       "\n",
       "            setTimeout(() => {\n",
       "                element.innerHTML = originalHTML;\n",
       "                element.style = originalStyle;\n",
       "            }, 2000);\n",
       "        })\n",
       "        .catch(err => {\n",
       "            console.error('Failed to copy:', err);\n",
       "            element.style.color = 'red';\n",
       "            element.innerHTML = \"Failed!\";\n",
       "            setTimeout(() => {\n",
       "                element.innerHTML = originalHTML;\n",
       "                element.style = originalStyle;\n",
       "            }, 2000);\n",
       "        });\n",
       "    return false;\n",
       "}\n",
       "\n",
       "document.querySelectorAll('.fa-regular.fa-copy').forEach(function(element) {\n",
       "    const toggleableContent = element.closest('.sk-toggleable__content');\n",
       "    const paramPrefix = toggleableContent ? toggleableContent.dataset.paramPrefix : '';\n",
       "    const paramName = element.parentElement.nextElementSibling.textContent.trim();\n",
       "    const fullParamName = paramPrefix ? `${paramPrefix}${paramName}` : paramName;\n",
       "\n",
       "    element.setAttribute('title', fullParamName);\n",
       "});\n",
       "</script></body>"
      ],
      "text/plain": [
       "LogisticRegression(max_iter=1000)"
      ]
     },
     "execution_count": 32,
     "metadata": {},
     "output_type": "execute_result"
    }
   ],
   "source": [
    "from sklearn.linear_model import LogisticRegression\n",
    "\n",
    "# Création du modèle de régression logistique\n",
    "model = LogisticRegression(max_iter=1000)\n",
    "\n",
    "# Entraînement sur les données d'entraînement\n",
    "model.fit(X_train, y_train)\n"
   ]
  },
  {
   "cell_type": "markdown",
   "id": "066d0e76",
   "metadata": {},
   "source": [
    "### 5.3 – Prédiction sur les données de test"
   ]
  },
  {
   "cell_type": "code",
   "execution_count": null,
   "id": "49f91a4d",
   "metadata": {},
   "outputs": [],
   "source": [
    "# Prédictions sur le jeu de test\n",
    "y_pred = model.predict(X_test)\n"
   ]
  },
  {
   "cell_type": "markdown",
   "id": "b85fd7aa",
   "metadata": {},
   "source": [
    "## Étape 6 – Évaluation du modèle de régression logistique"
   ]
  },
  {
   "cell_type": "markdown",
   "id": "52d2c5a9",
   "metadata": {},
   "source": [
    "Objectif :\n",
    "Mesurer la performance du modèle avec des indicateurs de classification."
   ]
  },
  {
   "cell_type": "markdown",
   "id": "51fb6580",
   "metadata": {},
   "source": [
    "### 6.1 – Affichage des scores de performance"
   ]
  },
  {
   "cell_type": "code",
   "execution_count": 35,
   "id": "886efc26",
   "metadata": {},
   "outputs": [],
   "source": [
    "# Prédiction sur les données de test (si ce n’est pas déjà fait)\n",
    "y_pred = model.predict(X_test)\n"
   ]
  },
  {
   "cell_type": "code",
   "execution_count": 36,
   "id": "fa82ba69",
   "metadata": {},
   "outputs": [
    {
     "name": "stdout",
     "output_type": "stream",
     "text": [
      "Accuracy  : 0.8478260869565217\n",
      "Precision : 0.8490566037735849\n",
      "Recall    : 0.8823529411764706\n",
      "F1 Score  : 0.8653846153846154\n"
     ]
    }
   ],
   "source": [
    "from sklearn.metrics import accuracy_score, precision_score, recall_score, f1_score\n",
    "\n",
    "print(\"Accuracy  :\", accuracy_score(y_test, y_pred))\n",
    "print(\"Precision :\", precision_score(y_test, y_pred))\n",
    "print(\"Recall    :\", recall_score(y_test, y_pred))\n",
    "print(\"F1 Score  :\", f1_score(y_test, y_pred))\n"
   ]
  },
  {
   "cell_type": "markdown",
   "id": "d6248530",
   "metadata": {},
   "source": [
    "### Interprétation des métriques du modèle :\n",
    "\n",
    "| **Métrique**  | **Valeur** | **Interprétation**                                                      |\n",
    "| ------------- | ---------- | ----------------------------------------------------------------------- |\n",
    "| **Accuracy**  | 84.78 %    | Le modèle prédit correctement environ 85 % des cas (malade ou non).     |\n",
    "| **Precision** | 84.91 %    | Sur tous les patients prédits comme malades, \\~85 % le sont réellement. |\n",
    "| **Recall**    | 88.24 %    | Sur tous les vrais malades, \\~88 % sont bien détectés par le modèle.    |\n",
    "| **F1 Score**  | 86.54 %    | Moyenne équilibrée entre précision et rappel — excellent compromis.     |\n",
    "\n",
    "---\n",
    "\n",
    "### 🔍 Conclusion :\n",
    "\n",
    "* Modèle **globalement performant**, **bon rappel** (peu de malades oubliés).\n",
    "* Bonne **précision** aussi (peu de faux positifs).\n",
    "* F1 élevé → bon équilibre, ce qui est essentiel en médecine (éviter à la fois les faux négatifs et les faux positifs).\n",
    "\n"
   ]
  },
  {
   "cell_type": "markdown",
   "id": "b6d4ae90",
   "metadata": {},
   "source": [
    "### 6.2 – Matrice de confusion"
   ]
  },
  {
   "cell_type": "code",
   "execution_count": 37,
   "id": "be9769df",
   "metadata": {},
   "outputs": [
    {
     "data": {
      "image/png": "[encoded data removed]",
      "text/plain": [
       "<Figure size 640x480 with 2 Axes>"
      ]
     },
     "metadata": {},
     "output_type": "display_data"
    }
   ],
   "source": [
    "from sklearn.metrics import confusion_matrix\n",
    "import seaborn as sns\n",
    "import matplotlib.pyplot as plt\n",
    "\n",
    "# Matrice de confusion\n",
    "cm = confusion_matrix(y_test, y_pred)\n",
    "\n",
    "# Visualisation\n",
    "sns.heatmap(cm, annot=True, fmt='d', cmap='Blues')\n",
    "plt.title(\"Matrice de confusion\")\n",
    "plt.xlabel(\"Prédit\")\n",
    "plt.ylabel(\"Réel\")\n",
    "plt.show()\n"
   ]
  },
  {
   "cell_type": "markdown",
   "id": "fa28ecb6",
   "metadata": {},
   "source": [
    "### Interprétation de la matrice de confusion :\n",
    "\n",
    "|              | Prédit = 0 (Sain) | Prédit = 1 (Malade) |\n",
    "| ------------ | ----------------- | ------------------- |\n",
    "| **Réel = 0** | 66 (VN)           | 16 (FP)             |\n",
    "| **Réel = 1** | 12 (FN)           | 90 (VP)             |\n",
    "\n",
    "---\n",
    "\n",
    "###  Analyse :\n",
    "\n",
    "* **Vrai Positifs (90)** : malades correctement détectés.\n",
    "* **Faux Négatifs (12)** : malades que le modèle n’a **pas détectés** → ⚠️ potentiellement dangereux.\n",
    "* **Faux Positifs (16)** : sains mal classés comme malades → erreurs coûteuses, mais moins graves qu’un FN.\n",
    "* **Vrai Négatifs (66)** : sains bien identifiés.\n",
    "\n",
    "---\n",
    "\n",
    "###  Conclusion :\n",
    "\n",
    "Le modèle est **très efficace** :\n",
    "\n",
    "* **FN faible** : bonne sensibilité (Recall).\n",
    "* **FP tolérable** : bon compromis entre **sécurité et précision**.\n",
    "\n"
   ]
  },
  {
   "cell_type": "code",
   "execution_count": 51,
   "id": "243f1712",
   "metadata": {},
   "outputs": [
    {
     "data": {
      "image/png": "[encoded data removed]",
      "text/plain": [
       "<Figure size 600x500 with 1 Axes>"
      ]
     },
     "metadata": {},
     "output_type": "display_data"
    }
   ],
   "source": [
    "from sklearn.metrics import roc_curve, auc\n",
    "import matplotlib.pyplot as plt\n",
    "\n",
    "# Probabilités de prédiction pour la classe positive\n",
    "y_prob = model.predict_proba(X_test)[:, 1]\n",
    "\n",
    "# Calcul des courbes ROC\n",
    "fpr, tpr, thresholds = roc_curve(y_test, y_prob)\n",
    "\n",
    "# Calcul de l'AUC\n",
    "roc_auc = auc(fpr, tpr)\n",
    "\n",
    "# Affichage de la courbe ROC\n",
    "plt.figure(figsize=(6, 5))\n",
    "plt.plot(fpr, tpr, label=f'AUC = {roc_auc:.2f}', color='darkorange')\n",
    "plt.plot([0, 1], [0, 1], linestyle='--', color='gray')  # ligne aléatoire\n",
    "plt.xlabel('Taux de faux positifs (FPR)')\n",
    "plt.ylabel('Taux de vrais positifs (TPR)')\n",
    "plt.title(\"Courbe ROC\")\n",
    "plt.legend(loc=\"lower right\")\n",
    "plt.grid(True)\n",
    "plt.tight_layout()\n",
    "plt.show()\n"
   ]
  },
  {
   "cell_type": "markdown",
   "id": "1f5b52d7",
   "metadata": {},
   "source": [
    "### Interprétation de la courbe ROC :\n",
    "\n",
    "* **AUC = 0.90** → Très bon score.\n",
    "* Le modèle a une **excellente capacité de discrimination** entre patients malades et non malades.\n",
    "* La courbe est largement au-dessus de la diagonale, ce qui montre qu’il ne prédit pas au hasard.\n",
    "\n",
    "> Une AUC de 0.90 indique que le modèle est fiable, mais un peu moins performant que ton essai précédent à 0.98. Cela peut dépendre du traitement des données ou du split aléatoire.\n"
   ]
  },
  {
   "cell_type": "markdown",
   "id": "1990d214",
   "metadata": {},
   "source": [
    "### 6.3 – Rapport de classification complet"
   ]
  },
  {
   "cell_type": "code",
   "execution_count": 38,
   "id": "a445c05e",
   "metadata": {},
   "outputs": [
    {
     "name": "stdout",
     "output_type": "stream",
     "text": [
      "              precision    recall  f1-score   support\n",
      "\n",
      "           0       0.85      0.80      0.82        82\n",
      "           1       0.85      0.88      0.87       102\n",
      "\n",
      "    accuracy                           0.85       184\n",
      "   macro avg       0.85      0.84      0.85       184\n",
      "weighted avg       0.85      0.85      0.85       184\n",
      "\n"
     ]
    }
   ],
   "source": [
    "from sklearn.metrics import classification_report\n",
    "\n",
    "# Rapport complet\n",
    "print(classification_report(y_test, y_pred))\n"
   ]
  },
  {
   "cell_type": "markdown",
   "id": "c976127f",
   "metadata": {},
   "source": [
    "### Interprétation du **rapport de classification** :\n",
    "\n",
    "| Classe         | Précision | Rappel | F1-score | Support |\n",
    "| -------------- | --------- | ------ | -------- | ------- |\n",
    "| **0 (sain)**   | 0.85      | 0.80   | 0.82     | 82      |\n",
    "| **1 (malade)** | 0.85      | 0.88   | 0.87     | 102     |\n",
    "\n",
    "---\n",
    "\n",
    "### Analyse :\n",
    "\n",
    "* **Bonne précision globale (0.85)** : le modèle est équilibré.\n",
    "* **Classe 1 (malade)** : très bien détectée (rappel élevé à 0.88), ce qui est **essentiel en médecine**.\n",
    "* **Classe 0 (sain)** : légèrement sous-détectée (rappel à 0.80), donc **quelques faux positifs**.\n",
    "* **Macro/Weighted average ≈ 0.85** → pas de fort déséquilibre.\n",
    "\n",
    "---\n",
    "\n",
    "### Conclusion :\n",
    "\n",
    "Le modèle est **très performant et équilibré**, surtout pour détecter les cas de maladie cardiaque (classe 1).\n",
    "\n"
   ]
  },
  {
   "cell_type": "markdown",
   "id": "377944a0",
   "metadata": {},
   "source": [
    "## Étape 7 – Analyse finale et visualisations complémentaires"
   ]
  },
  {
   "cell_type": "markdown",
   "id": "1341f265",
   "metadata": {},
   "source": [
    "### Résumé des performances du modèle\n",
    "\n",
    "On récapitule ici les résultats :\n",
    "\n",
    "- **Accuracy**  : mesure globale de performance\n",
    "- **Recall**    : important pour la détection des patients malades (éviter les faux négatifs)\n",
    "- **Precision** : important pour limiter les faux positifs\n",
    "- **F1 Score**  : équilibre entre précision et recall\n",
    "\n",
    "Le modèle de régression logistique est simple mais efficace pour ce type de classification binaire.\n"
   ]
  },
  {
   "cell_type": "markdown",
   "id": "62807912",
   "metadata": {},
   "source": [
    "###  Interprétation rapide du **rapport de classification** :\n",
    "\n",
    "| Classe         | Précision | Rappel | F1-score | Support |\n",
    "| -------------- | --------- | ------ | -------- | ------- |\n",
    "| **0 (sain)**   | 0.85      | 0.80   | 0.82     | 82      |\n",
    "| **1 (malade)** | 0.85      | 0.88   | 0.87     | 102     |\n",
    "\n",
    "---\n",
    "\n",
    "### Analyse :\n",
    "\n",
    "* **Précision globale (Accuracy) : 0.85** → le modèle fait peu d’erreurs.\n",
    "* **Classe 1 (malade)** :\n",
    "\n",
    "  * Très bien identifiée (**rappel = 0.88**) → peu de faux négatifs.\n",
    "  * Précision de 0.85 → peu de faux positifs.\n",
    "  * F1-score élevé (0.87) → excellent équilibre.\n",
    "* **Classe 0 (sain)** :\n",
    "\n",
    "  * Rappel plus bas (0.80) → certains patients sains sont classés à tort comme malades.\n",
    "  * Ce biais peut être acceptable en médecine préventive (meilleur vaut alerter à tort que rater un malade).\n",
    "* **Scores macro et pondérés autour de 0.85** → performances homogènes sur les deux classes.\n",
    "\n",
    "---\n",
    "\n",
    "### Conclusion :\n",
    "\n",
    "Le modèle est **solide, fiable et bien équilibré**, avec une très bonne **capacité à détecter les patients malades**, ce qui est crucial pour une application en santé.\n"
   ]
  },
  {
   "cell_type": "markdown",
   "id": "b11f8c2f",
   "metadata": {},
   "source": [
    "### 7.2 – Optionnel : comparaison visuelle des scores"
   ]
  },
  {
   "cell_type": "code",
   "execution_count": 40,
   "id": "f59bf086",
   "metadata": {},
   "outputs": [
    {
     "data": {
      "image/png": "[encoded data removed]",
      "text/plain": [
       "<Figure size 800x500 with 1 Axes>"
      ]
     },
     "metadata": {},
     "output_type": "display_data"
    }
   ],
   "source": [
    "import matplotlib.pyplot as plt\n",
    "\n",
    "# Préparation des scores\n",
    "scores = {\n",
    "    'Accuracy': accuracy_score(y_test, y_pred),\n",
    "    'Precision': precision_score(y_test, y_pred),\n",
    "    'Recall': recall_score(y_test, y_pred),\n",
    "    'F1 Score': f1_score(y_test, y_pred)\n",
    "}\n",
    "\n",
    "# Affichage en barres\n",
    "plt.figure(figsize=(8, 5))\n",
    "plt.bar(scores.keys(), scores.values())\n",
    "plt.title(\"Scores de performance du modèle\")\n",
    "plt.ylim(0, 1)\n",
    "plt.ylabel(\"Score\")\n",
    "plt.show()\n"
   ]
  },
  {
   "cell_type": "markdown",
   "id": "2cab3bab",
   "metadata": {},
   "source": [
    "### Interprétation :\n",
    "\n",
    "* **Recall est le plus élevé** → le modèle identifie très bien les patients malades (classe 1), ce qui est **essentiel dans un contexte médical**.\n",
    "* **Précision et F1 score** élevés → peu de faux positifs et bon équilibre global.\n",
    "* **Aucune métrique en-dessous de 0.85** → excellent niveau de performance générale.\n",
    "\n",
    "---\n",
    "\n",
    "### Conclusion :\n",
    "\n",
    "Le graphique confirme que le modèle est **fiable, équilibré et particulièrement efficace pour la détection de la maladie cardiaque**, ce qui correspond parfaitement aux objectifs du mini-projet.\n"
   ]
  },
  {
   "cell_type": "markdown",
   "id": "7b0e0be1",
   "metadata": {},
   "source": [
    "### 7.3 – Suggestions d'améliorations"
   ]
  },
  {
   "cell_type": "markdown",
   "id": "e1cc4bfc",
   "metadata": {},
   "source": [
    "### Pistes d'amélioration possibles\n",
    "\n",
    "- Tester d'autres modèles : RandomForest, SVM, XGBoost\n",
    "- Ajuster les hyperparamètres (`C`, `penalty`) de la LogisticRegression\n",
    "- Utiliser une validation croisée (cross-validation)\n",
    "- Réduire ou sélectionner les variables par analyse de l'importance\n",
    "\n",
    "---\n"
   ]
  },
  {
   "cell_type": "code",
   "execution_count": 53,
   "id": "a13b1845",
   "metadata": {},
   "outputs": [
    {
     "name": "stdout",
     "output_type": "stream",
     "text": [
      "Logistic Regression: 0.8192 (± 0.0199)\n",
      "Random Forest: 0.8261 (± 0.0293)\n",
      "SVM: 0.8274 (± 0.0392)\n",
      "XGBoost: 0.8017 (± 0.0249)\n"
     ]
    },
    {
     "data": {
      "image/png": "[encoded data removed]",
      "text/plain": [
       "<Figure size 800x500 with 1 Axes>"
      ]
     },
     "metadata": {},
     "output_type": "display_data"
    }
   ],
   "source": [
    "from sklearn.linear_model import LogisticRegression\n",
    "from sklearn.ensemble import RandomForestClassifier\n",
    "from sklearn.svm import SVC\n",
    "from xgboost import XGBClassifier\n",
    "\n",
    "from sklearn.model_selection import cross_val_score\n",
    "import matplotlib.pyplot as plt\n",
    "import numpy as np\n",
    "\n",
    "# Liste des modèles à tester\n",
    "models = {\n",
    "    \"Logistic Regression\": LogisticRegression(max_iter=1000, C=1.0, penalty='l2'),\n",
    "    \"Random Forest\": RandomForestClassifier(n_estimators=100, random_state=42),\n",
    "    \"SVM\": SVC(kernel='rbf', probability=True),\n",
    "    \"XGBoost\": XGBClassifier(eval_metric='logloss')  # ✅ corrigé ici\n",
    "}\n",
    "\n",
    "# Evaluation via validation croisée (5-fold)\n",
    "cv_scores = {}\n",
    "for name, model in models.items():\n",
    "    scores = cross_val_score(model, X_train, y_train, cv=5, scoring='accuracy')\n",
    "    cv_scores[name] = np.mean(scores)\n",
    "    print(f\"{name}: {np.mean(scores):.4f} (± {np.std(scores):.4f})\")\n",
    "\n",
    "# Affichage graphique\n",
    "plt.figure(figsize=(8, 5))\n",
    "plt.bar(cv_scores.keys(), cv_scores.values(), color='skyblue')\n",
    "plt.ylabel(\"Score de validation croisée (accuracy)\")\n",
    "plt.title(\"Comparaison des modèles\")\n",
    "plt.ylim(0.7, 1.0)\n",
    "plt.xticks(rotation=15)\n",
    "plt.show()\n"
   ]
  },
  {
   "cell_type": "markdown",
   "id": "9349b97f",
   "metadata": {},
   "source": [
    "### Interprétation rapide du graphique de comparaison :\n",
    "\n",
    "| Modèle              | Score (environ) |\n",
    "| ------------------- | --------------- |\n",
    "| Logistic Regression | ≈ 0.82          |\n",
    "| Random Forest       | ≈ 0.83          |\n",
    "| SVM                 | ≈ 0.83          |\n",
    "| XGBoost             | ≈ 0.80          |\n",
    "\n",
    "---\n",
    "\n",
    "### Analyse :\n",
    "\n",
    "* **Random Forest** et **SVM** donnent les **meilleurs résultats** (score de validation croisée ≈ 0.83).\n",
    "* La **régression logistique** reste très correcte (≈ 0.82).\n",
    "* **XGBoost** est légèrement en dessous ici, probablement à cause de **paramètres par défaut** non optimisés.\n",
    "\n",
    "---\n",
    "\n",
    "### Recommandation :\n",
    "\n",
    "Je peux :\n",
    "\n",
    "* Faire du **tuning d’hyperparamètres** (via `GridSearchCV`) sur Random Forest ou XGBoost.\n",
    "* Garder LogisticRegression si tu veux un modèle **simple, rapide et interprétable**.\n"
   ]
  },
  {
   "cell_type": "code",
   "execution_count": 54,
   "id": "f2eb1a8b",
   "metadata": {},
   "outputs": [
    {
     "name": "stdout",
     "output_type": "stream",
     "text": [
      "Fitting 5 folds for each of 24 candidates, totalling 120 fits\n",
      "Meilleurs paramètres trouvés : {'max_depth': 10, 'min_samples_leaf': 2, 'min_samples_split': 5, 'n_estimators': 200}\n",
      "Meilleure précision (validation croisée) : 0.8369645155359441\n",
      "[[65 17]\n",
      " [14 88]]\n",
      "              precision    recall  f1-score   support\n",
      "\n",
      "           0       0.82      0.79      0.81        82\n",
      "           1       0.84      0.86      0.85       102\n",
      "\n",
      "    accuracy                           0.83       184\n",
      "   macro avg       0.83      0.83      0.83       184\n",
      "weighted avg       0.83      0.83      0.83       184\n",
      "\n"
     ]
    }
   ],
   "source": [
    "from sklearn.ensemble import RandomForestClassifier\n",
    "from sklearn.model_selection import GridSearchCV\n",
    "\n",
    "# Définir les hyperparamètres à tester\n",
    "param_grid = {\n",
    "    'n_estimators': [100, 200],\n",
    "    'max_depth': [None, 5, 10],\n",
    "    'min_samples_split': [2, 5],\n",
    "    'min_samples_leaf': [1, 2]\n",
    "}\n",
    "\n",
    "# Instancier le modèle de base\n",
    "rf = RandomForestClassifier(random_state=42)\n",
    "\n",
    "# GridSearch avec validation croisée (cv=5)\n",
    "grid_search = GridSearchCV(estimator=rf, param_grid=param_grid,\n",
    "                           cv=5, scoring='accuracy', n_jobs=-1, verbose=1)\n",
    "\n",
    "# Entraînement\n",
    "grid_search.fit(X_train, y_train)\n",
    "\n",
    "# Résultats\n",
    "print(\"Meilleurs paramètres trouvés :\", grid_search.best_params_)\n",
    "print(\"Meilleure précision (validation croisée) :\", grid_search.best_score_)\n",
    "\n",
    "# Évaluation sur le jeu de test\n",
    "best_model = grid_search.best_estimator_\n",
    "y_pred = best_model.predict(X_test)\n",
    "\n",
    "from sklearn.metrics import classification_report, confusion_matrix\n",
    "print(confusion_matrix(y_test, y_pred))\n",
    "print(classification_report(y_test, y_pred))\n"
   ]
  },
  {
   "cell_type": "markdown",
   "id": "e5bd04a6",
   "metadata": {},
   "source": [
    "### **Performance globale après GridSearchCV**\n",
    "\n",
    "| Métrique      | Valeur    |\n",
    "| ------------- | --------- |\n",
    "| **Accuracy**  | 0.83      |\n",
    "| **Precision** | 0.82–0.84 |\n",
    "| **Recall**    | 0.79–0.86 |\n",
    "| **F1-score**  | 0.81–0.85 |\n",
    "\n",
    "---\n",
    "\n",
    "### **Analyse détaillée :**\n",
    "\n",
    "* **Classe 1 (malade)** :\n",
    "\n",
    "  * Bien détectée (recall = 0.86).\n",
    "  * C’est **essentiel médicalement** : on évite les faux négatifs (malades non détectés).\n",
    "* **Classe 0 (sain)** :\n",
    "\n",
    "  * Légère baisse de performance (recall = 0.79) → **faux positifs possibles**, mais acceptable.\n",
    "* **Précision équilibrée** → pas de biais fort vers une classe.\n",
    "\n",
    "---\n",
    "\n",
    "### **Conclusion :**\n",
    "\n",
    "Ton modèle Random Forest optimisé fonctionne **très bien**, avec un **bon équilibre** entre précision et rappel.\n",
    "Il est **légèrement inférieur à ta régression logistique initiale**, mais reste robuste.\n",
    "\n"
   ]
  },
  {
   "cell_type": "code",
   "execution_count": 55,
   "id": "7335d686",
   "metadata": {},
   "outputs": [
    {
     "data": {
      "image/png": "[encoded data removed]",
      "text/plain": [
       "<Figure size 640x480 with 2 Axes>"
      ]
     },
     "metadata": {},
     "output_type": "display_data"
    }
   ],
   "source": [
    "from sklearn.metrics import confusion_matrix, ConfusionMatrixDisplay\n",
    "\n",
    "# Prédictions sur le jeu de test\n",
    "y_pred_rf = best_model.predict(X_test)\n",
    "\n",
    "# Matrice de confusion\n",
    "cm = confusion_matrix(y_test, y_pred_rf)\n",
    "\n",
    "# Affichage\n",
    "disp = ConfusionMatrixDisplay(confusion_matrix=cm, display_labels=[\"Sain (0)\", \"Malade (1)\"])\n",
    "disp.plot(cmap=\"Blues\")\n",
    "plt.title(\"Matrice de confusion - Random Forest optimisé\")\n",
    "plt.xlabel(\"Prédit\")\n",
    "plt.ylabel(\"Réel\")\n",
    "plt.show()\n"
   ]
  },
  {
   "cell_type": "markdown",
   "id": "25356449",
   "metadata": {},
   "source": [
    "La **matrice de confusion** montre :\n",
    "\n",
    "* **88 vrais positifs** (malades bien détectés)\n",
    "* **65 vrais négatifs** (personnes saines bien détectées)\n",
    "* **14 faux négatifs** (malades non détectés → à surveiller)\n",
    "* **17 faux positifs** (sains considérés à tort comme malades)\n",
    "\n",
    "---\n"
   ]
  },
  {
   "cell_type": "code",
   "execution_count": 56,
   "id": "a8a16a6e",
   "metadata": {},
   "outputs": [
    {
     "data": {
      "image/png": "[encoded data removed]",
      "text/plain": [
       "<Figure size 1000x500 with 1 Axes>"
      ]
     },
     "metadata": {},
     "output_type": "display_data"
    }
   ],
   "source": [
    "import matplotlib.pyplot as plt\n",
    "import numpy as np\n",
    "\n",
    "# Scores des deux modèles\n",
    "models = ['Logistic Regression', 'Random Forest Optimisé']\n",
    "accuracy = [0.85, 0.83]\n",
    "precision = [0.85, 0.84]\n",
    "recall = [0.88, 0.86]\n",
    "f1 = [0.87, 0.85]\n",
    "\n",
    "x = np.arange(len(models))\n",
    "width = 0.2\n",
    "\n",
    "# Plot\n",
    "plt.figure(figsize=(10, 5))\n",
    "plt.bar(x - 1.5*width, accuracy, width, label='Accuracy')\n",
    "plt.bar(x - 0.5*width, precision, width, label='Precision')\n",
    "plt.bar(x + 0.5*width, recall, width, label='Recall')\n",
    "plt.bar(x + 1.5*width, f1, width, label='F1 Score')\n",
    "\n",
    "plt.xticks(x, models)\n",
    "plt.ylim(0.7, 1)\n",
    "plt.ylabel(\"Score\")\n",
    "plt.title(\"Comparaison des performances modèles\")\n",
    "plt.legend()\n",
    "plt.grid(axis='y', linestyle='--', alpha=0.6)\n",
    "plt.tight_layout()\n",
    "plt.show()\n"
   ]
  },
  {
   "cell_type": "markdown",
   "id": "92b5adbd",
   "metadata": {},
   "source": [
    "Le graphique montre clairement que la **régression logistique** surperforme légèrement le **Random Forest optimisé** sur tous les indicateurs :\n",
    "\n",
    "| Modèle                  | Accuracy | Precision | Recall | F1-score |\n",
    "| ----------------------- | -------- | --------- | ------ | -------- |\n",
    "| **Logistic Regression** | 0.85     | 0.85      | 0.88   | 0.87     |\n",
    "| **Random Forest**       | 0.83     | 0.84      | 0.86   | 0.85     |\n",
    "\n",
    "---\n",
    "\n",
    "### Interprétation :\n",
    "\n",
    "* Les **deux modèles sont très bons**, mais :\n",
    "\n",
    "  * La **régression logistique** est plus simple, plus rapide, plus lisible et légèrement meilleure ici.\n",
    "  * Le **Random Forest** est plus robuste aux valeurs aberrantes et à la non-linéarité.\n",
    "\n",
    "---\n",
    "\n",
    "### Conclusion finale :\n",
    "\n",
    "* Le pipeline est complet, solide et performant.\n",
    "* Tu peux garder **la régression logistique comme modèle principal**.\n",
    "* Bonus possible : SVM optimisé ou XGBoost pour pousser l’analyse plus loin.\n"
   ]
  },
  {
   "cell_type": "markdown",
   "id": "057434fa",
   "metadata": {},
   "source": [
    "## 8. Conclusion de cet exercice"
   ]
  },
  {
   "cell_type": "markdown",
   "id": "7efe7b8e",
   "metadata": {},
   "source": [
    "### Objectif :\n",
    "\n",
    "Prédire la présence de maladie cardiaque (binaire : 0 = sain, 1 = malade) à partir de données médicales issues du dataset **heart\\_disease\\_uci.csv**.\n",
    "\n",
    "---\n",
    "\n",
    "### Étapes du traitement :\n",
    "\n",
    "1. **Chargement et exploration des données**\n",
    "\n",
    "   * 920 patients, 16 colonnes (features + cible `num`)\n",
    "   * La cible a été convertie en binaire (`target`: 0 ou 1)\n",
    "   * Dataset équilibré : 55% malades, 45% sains\n",
    "\n",
    "2. **Nettoyage des données**\n",
    "\n",
    "   * Suppression des colonnes inutiles (`id`, `dataset`)\n",
    "   * Remplacement des `?` par `NaN`\n",
    "   * Imputation des valeurs manquantes par la moyenne (colonnes numériques)\n",
    "   * Encodage one-hot des variables catégorielles\n",
    "\n",
    "3. **Exploration et visualisations**\n",
    "\n",
    "   * Histogrammes, boxplots et matrice de corrélation\n",
    "   * Variables les plus corrélées à la maladie : `ca`, `oldpeak`, `thal`, `thalch`\n",
    "\n",
    "---\n",
    "\n",
    "### Modélisation\n",
    "\n",
    "#### Modèle 1 — Régression logistique\n",
    "\n",
    "| Metric    | Score |\n",
    "| --------- | ----- |\n",
    "| Accuracy  | 0.85  |\n",
    "| Precision | 0.85  |\n",
    "| Recall    | 0.88  |\n",
    "| F1-Score  | 0.87  |\n",
    "\n",
    "* Très bon équilibre entre sensibilité et spécificité\n",
    "* Idéal pour interprétabilité médicale\n",
    "* AUC = 0.90 (bonne courbe ROC)\n",
    "\n",
    "---\n",
    "\n",
    "#### Modèle 2 — Random Forest optimisé (GridSearchCV)\n",
    "\n",
    "| Metric    | Score |\n",
    "| --------- | ----- |\n",
    "| Accuracy  | 0.83  |\n",
    "| Precision | 0.84  |\n",
    "| Recall    | 0.86  |\n",
    "| F1-Score  | 0.85  |\n",
    "\n",
    "🔧 Meilleurs hyperparamètres :\n",
    "\n",
    "```python\n",
    "{'max_depth': 10, 'min_samples_leaf': 2, 'min_samples_split': 5, 'n_estimators': 200}\n",
    "```\n",
    "\n",
    "* Légèrement moins performant que la régression logistique ici.\n",
    "\n",
    "---\n",
    "\n",
    "### Comparaison finale\n",
    "\n",
    "| Modèle                | Accuracy | F1-Score | AUC  |\n",
    "| --------------------- | -------- | -------- | ---- |\n",
    "| Régression Logistique | **0.85** | **0.87** | 0.90 |\n",
    "| Random Forest Opti    | 0.83     | 0.85     | —    |\n",
    "\n",
    "---\n",
    "\n",
    "### Conclusion\n",
    "\n",
    "Le modèle de **régression logistique** est retenu comme **modèle final** :\n",
    "\n",
    "* Bonnes performances\n",
    "* Interprétation claire pour les professionnels de santé\n",
    "* Meilleure généralisation sur les données de test\n",
    "\n",
    "---"
   ]
  }
 ],
 "metadata": {
  "kernelspec": {
   "display_name": "base",
   "language": "python",
   "name": "python3"
  },
  "language_info": {
   "codemirror_mode": {
    "name": "ipython",
    "version": 3
   },
   "file_extension": ".py",
   "mimetype": "text/x-python",
   "name": "python",
   "nbconvert_exporter": "python",
   "pygments_lexer": "ipython3",
   "version": "3.12.8"
  }
 },
 "nbformat": 4,
 "nbformat_minor": 5
}
