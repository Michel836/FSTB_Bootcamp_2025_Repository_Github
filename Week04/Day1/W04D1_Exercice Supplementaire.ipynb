{
 "cells": [
  {
   "cell_type": "markdown",
   "id": "27a955c9",
   "metadata": {},
   "source": [
    "# CONSIGNES EXERCICES\n",
    "## Partie 1 : Les Fondations du Machine Learning (Exercices de Cours)\n",
    "Ce premier bloc se concentre sur la théorie. L'objectif est de vous faire réfléchir aux concepts clés du Machine Learning avant de passer à la pratique. Vous n'avez pas besoin de coder ici, seulement de raisonner et de structurer votre pensée.\n",
    ":étoile2: Exercice 1 : Comprendre le Problème et Choisir la Bonne Approche\n",
    "Avant de construire une solution, un bon data scientist doit d'abord comprendre le problème et savoir quel type d'outil utiliser.\n",
    "Instructions :\n",
    "Pour chaque scénario ci-dessous, déterminez s'il s'agit d'un problème d'apprentissage supervisé, non supervisé ou par renforcement. Justifiez votre choix en une ou deux phrases simples.\n",
    "Prédiction des prix des actions : On veut prédire la valeur future d'une action en se basant sur ses prix passés et les actualités financières.\n",
    "Question pour vous guider : Est-ce qu'on essaie de prédire une valeur précise (un \"label\") en se basant sur des données existantes ?\n",
    "Organisation d'une bibliothèque : On souhaite regrouper automatiquement des milliers de livres en différentes catégories (science-fiction, histoire, romance...) sans savoir à l'avance quelles sont toutes les catégories possibles.\n",
    "Question pour vous guider : Est-ce qu'on cherche à découvrir une structure ou des groupes cachés dans les données, sans avoir de \"bonne réponse\" prédéfinie ?\n",
    "Programmer un robot aspirateur : On veut apprendre à un robot à nettoyer une pièce le plus efficacement possible en le récompensant quand il nettoie une nouvelle zone et en le pénalisant quand il se cogne contre un mur.\n",
    "Question pour vous guider : Est-ce que l'on apprend par essais et erreurs, en interagissant avec un environnement pour maximiser une récompense ?\n",
    ":étoile2: Exercice 2 : Définir un Plan d'Action pour un Projet de Prédiction\n",
    "Imaginons que vous travaillez pour une banque. Votre mission est de créer un modèle pour prédire si un client remboursera son prêt ou non. C'est un projet de classification (une branche de l'apprentissage supervisé).\n",
    "Instructions :\n",
    "Rédigez un document simple qui définit votre plan d'action.\n",
    "Définir le Problème : Écrivez en une phrase claire l'objectif du modèle. (Exemple : \"Le modèle doit prédire si un demandeur de prêt sera en défaut de paiement ou non.\")\n",
    "Identifier les Données Nécessaires : Listez au moins 5 types d'informations (de \"features\") que vous jugeriez utiles pour prendre cette décision.\n",
    "Question pour vous guider : Si vous étiez banquier, quelles informations demanderiez-vous à un client avant de lui prêter de l'argent ? (Pensez à son âge, son salaire, ses dettes actuelles, etc.)\n",
    "Imaginer les Sources de Données : Où une banque pourrait-elle trouver ces informations ? (Exemple : formulaires de demande de prêt, historique bancaire du client...).\n",
    ":étoile2: Exercice 3 : Comment Savoir si Votre Modèle est Performant ?\n",
    "Construire un modèle c'est bien, mais prouver qu'il fonctionne bien, c'est mieux ! L'évaluation dépend du type de modèle que vous avez construit.\n",
    "Instructions :\n",
    "Expliquez brièvement comment vous évalueriez la performance pour les trois familles de modèles que nous avons vues.\n",
    "Pour un modèle de classification (supervisé) comme celui de la prédiction de prêt :\n",
    "Citez 2 ou 3 métriques (ex: exactitude/accuracy, précision, rappel/recall).\n",
    "Expliquez en une phrase ce que l'une d'entre elles signifie dans le contexte de la banque.\n",
    "Question pour vous guider : Pour une banque, qu'est-ce qui est le plus grave : refuser un prêt à quelqu'un qui aurait remboursé (faux négatif) ou accepter quelqu'un qui ne remboursera pas (faux positif) ? Pourquoi ?\n",
    "Pour un modèle de clustering (non supervisé) comme celui qui organise les livres :\n",
    "Comment pourriez-vous juger de la qualité des groupes créés, sachant que vous n'avez pas d'étiquettes ? (Cherchez des techniques comme la méthode du coude ou le score de silhouette).\n",
    "Pour un modèle par renforcement comme le robot aspirateur :\n",
    "Quel indicateur principal suivriez-vous pour savoir si le robot devient meilleur ? (Pensez à la notion de \"récompense\").\n",
    "## Partie 2 : Votre Premier Projet de Machine Learning de A à Z\n",
    "Maintenant, mettons les mains dans le cambouis ! Vous allez suivre les étapes d'un vrai projet de data science. L'objectif est de construire, comparer et évaluer plusieurs modèles pour prédire l'octroi de prêts.\n",
    "Contexte : Vous êtes un data scientist junior dans une société financière. On vous fournit un jeu de données contenant des informations sur d'anciens clients et on vous demande de créer le meilleur modèle de prédiction possible.\n",
    ":fléchette: Étape 1 : Exploration et Compréhension des Données (EDA)\n",
    "On ne peut pas travailler avec des données qu'on ne comprend pas. Cette première étape est cruciale.\n",
    "Instructions :\n",
    "À partir du jeu de données fourni, réalisez une analyse exploratoire.\n",
    "Nettoyez les données : Y a-t-il des valeurs manquantes ? Des données bizarres ?\n",
    "Visualisez : Créez quelques graphiques simples (histogrammes, diagrammes en barres) pour comprendre la distribution de chaque information importante.\n",
    "Posez-vous les bonnes questions :\n",
    "Combien de personnes ont remboursé leur prêt et combien ne l'ont pas fait ? (La cible est-elle équilibrée ?)\n",
    "Le salaire semble-t-il avoir un impact sur le remboursement ?\n",
    "Y a-t-il une corrélation entre l'âge du client et le montant du prêt demandé ?\n",
    "Livrable attendu : Un court résumé de vos découvertes, avec 2 ou 3 graphiques clés et leurs interprétations.\n",
    ":roue_dentée: Étape 2 : Préparation des Données et Entraînement des Modèles\n",
    "Il est temps de construire nos modèles !\n",
    "Instructions :\n",
    "Sélectionnez les \"features\" : Sur la base de votre exploration, choisissez les colonnes (features) que vous allez utiliser pour entraîner vos modèles. Justifiez brièvement pourquoi vous gardez une colonne ou pourquoi vous en enlevez une autre.\n",
    "Préparez les données : Assurez-vous que toutes vos données sont au format numérique et prêtes à être utilisées par les algorithmes.\n",
    "Entraînez plusieurs modèles : Appliquez au moins deux modèles de classification que vous avez vus en cours (par exemple : Régression Logistique, Arbre de Décision, Forêt Aléatoire...).\n",
    ":histogramme: Étape 3 : Évaluation, Comparaison et Conclusion\n",
    "Quel modèle est le meilleur ? C'est le moment de le découvrir !\n",
    "Instructions :\n",
    "Évaluez chaque modèle : Pour chaque modèle entraîné, calculez les métriques de performance pertinentes (exactitude, précision, rappel, F1-score...).\n",
    "Comparez les performances : Présentez vos résultats dans un tableau simple pour pouvoir comparer facilement les modèles entre eux.\n",
    "ModèleExactitudePrécisionRappelModèle A.........Modèle B.........\n",
    "Rédigez votre conclusion :\n",
    "Quel modèle recommanderiez-vous à la banque ?\n",
    "Justifiez votre choix. Ne vous basez pas uniquement sur la meilleure métrique, mais aussi sur le contexte. Par exemple : \"Je recommande le Modèle B car, même si son exactitude est légèrement plus faible, sa précision est bien meilleure, ce qui signifie que lorsque le modèle prédit un défaut de paiement, il se trompe très rarement. C'est crucial pour la banque afin de minimiser les pertes.\"\n",
    "Pensez à la \"simplicité\" du modèle. Un modèle plus simple est parfois plus facile à expliquer et à maintenir.\n",
    ":prière:\n",
    "1\n",
    "\n",
    "\n",
    "\n",
    "\n",
    "\n",
    "\n",
    "14 h 59\n",
    "Rendus pour la Partie 1 : Les Fondations (Exercices Théoriques)\n",
    "Pour cette partie, vous n'avez pas besoin de coder. Les rendus attendus sont des documents texte (ex: .docx, PDF, ou simplement écrits dans le corps d'un email ou d'un document partagé). La clarté de votre raisonnement est plus importante que la longueur de vos réponses.\n",
    "14 h 59\n",
    "Rendus pour la Partie 2 : Votre Premier Projet de Machine Learning (Projet Pratique)\n",
    "Pour cette partie, le rendu idéal est un notebook de programmation (comme un Jupyter Notebook, .ipynb) qui combine votre code, les sorties de ce code (graphiques, tableaux) et vos explications écrites. Si vous n'utilisez pas de notebook, un document texte qui combine des captures d'écran de votre code, vos graphiques et vos analyses est aussi acceptable."
   ]
  },
  {
   "cell_type": "markdown",
   "id": "023b19dc",
   "metadata": {},
   "source": [
    "# Partie 1 : Les Fondations du Machine Learning (Exercices de Cours)\n",
    "Ce premier bloc se concentre sur la théorie. L'objectif est de vous faire réfléchir aux concepts clés du Machine Learning avant de passer à la pratique. Vous n'avez pas besoin de coder ici, seulement de raisonner et de structurer votre pensée. \n",
    " \n",
    "## Exercice 1 : Comprendre le Problème et Choisir la Bonne Approche\n",
    "Avant de construire une solution, un bon data scientist doit d'abord comprendre le problème et savoir quel type d'outil utiliser.\n",
    "Instructions :\n",
    "Pour chaque scénario ci-dessous, déterminez s'il s'agit d'un problème d'apprentissage supervisé, non supervisé ou par renforcement. Justifiez votre choix en une ou deux phrases simples.\n",
    "1.\tPrédiction des prix des actions : On veut prédire la valeur future d'une action en se basant sur ses prix passés et les actualités financières.\n",
    "o\tQuestion pour vous guider : Est-ce qu'on essaie de prédire une valeur précise (un \"label\") en se basant sur des données existantes ?\n",
    "2.\tOrganisation d'une bibliothèque : On souhaite regrouper automatiquement des milliers de livres en différentes catégories (science-fiction, histoire, romance...) sans savoir à l'avance quelles sont toutes les catégories possibles.\n",
    "o\tQuestion pour vous guider : Est-ce qu'on cherche à découvrir une structure ou des groupes cachés dans les données, sans avoir de \"bonne réponse\" prédéfinie ?\n",
    "3.\tProgrammer un robot aspirateur : On veut apprendre à un robot à nettoyer une pièce le plus efficacement possible en le récompensant quand il nettoie une nouvelle zone et en le pénalisant quand il se cogne contre un mur.\n",
    "o\tQuestion pour vous guider : Est-ce que l'on apprend par essais et erreurs, en interagissant avec un environnement pour maximiser une récompense ?\n"
   ]
  },
  {
   "cell_type": "markdown",
   "id": "53536da7",
   "metadata": {},
   "source": [
    "---\n",
    "\n",
    "**1. Prédiction des prix des actions**\n",
    "**Type :** Apprentissage supervisé\n",
    "\n",
    "**Justification :** On cherche à prédire une valeur précise (le prix futur), à partir de données historiques étiquetées (prix passés, actualités).\n",
    "\n",
    "---\n",
    "\n",
    "**2. Organisation d'une bibliothèque**\n",
    "**Type :** Apprentissage non supervisé\n",
    "\n",
    "**Justification :** On veut découvrir des groupes ou structures cachés sans connaître les catégories à l’avance (pas de labels).\n",
    "\n",
    "---\n",
    "\n",
    "**3. Programmer un robot aspirateur**\n",
    "**Type :** Apprentissage par renforcement\n",
    "\n",
    "**Justification :** Le robot apprend par essais/erreurs en interagissant avec son environnement pour maximiser une récompense.\n",
    "\n",
    "---\n"
   ]
  },
  {
   "cell_type": "markdown",
   "id": "23045be1",
   "metadata": {},
   "source": [
    "## Exercice 2 : Définir un Plan d'Action pour un Projet de Prédiction\n",
    "Imaginons que vous travaillez pour une banque. Votre mission est de créer un modèle pour prédire si un client remboursera son prêt ou non. C'est un projet de classification (une branche de l'apprentissage supervisé).\n",
    "Instructions :\n",
    "Rédigez un document simple qui définit votre plan d'action.\n",
    "1.\tDéfinir le Problème : Écrivez en une phrase claire l'objectif du modèle. (Exemple : \"Le modèle doit prédire si un demandeur de prêt sera en défaut de paiement ou non.\")\n",
    "2.\tIdentifier les Données Nécessaires : Listez au moins 5 types d'informations (de \"features\") que vous jugeriez utiles pour prendre cette décision.\n",
    "o\tQuestion pour vous guider : Si vous étiez banquier, quelles informations demanderiez-vous à un client avant de lui prêter de l'argent ? (Pensez à son âge, son salaire, ses dettes actuelles, etc.)\n",
    "3.\tImaginer les Sources de Données : Où une banque pourrait-elle trouver ces informations ? (Exemple : formulaires de demande de prêt, historique bancaire du client...).\n"
   ]
  },
  {
   "cell_type": "markdown",
   "id": "2d3c8969",
   "metadata": {},
   "source": [
    "**Plan d'Action pour le Projet de Prédiction de Remboursement de Prêt**\n",
    "\n",
    "---\n",
    "\n",
    "**1. Définir le Problème :**\n",
    "Le modèle doit prédire si un demandeur de prêt remboursera son crédit ou sera en défaut de paiement.\n",
    "\n",
    "---\n",
    "\n",
    "**2. Identifier les Données Nécessaires (Features) :**\n",
    "\n",
    "* Âge du client\n",
    "* Revenu mensuel\n",
    "* Montant total des dettes actuelles\n",
    "* Historique de crédit (score ou incidents passés)\n",
    "* Type et montant du prêt demandé\n",
    "\n",
    "---\n",
    "\n",
    "**3. Imaginer les Sources de Données :**\n",
    "\n",
    "* Formulaire de demande de prêt\n",
    "* Historique bancaire interne (transactions, épargne, etc.)\n",
    "* Données d’agences de crédit (score, incidents)\n",
    "* Bulletins de salaire ou documents fiscaux\n",
    "* Relevés d’emploi ou contrat de travail\n",
    "\n",
    "---\n"
   ]
  },
  {
   "cell_type": "markdown",
   "id": "e2259fd8",
   "metadata": {},
   "source": [
    "## Exercice 3 : Comment Savoir si Votre Modèle est Performant ?\n",
    "Construire un modèle c'est bien, mais prouver qu'il fonctionne bien, c'est mieux ! L'évaluation dépend du type de modèle que vous avez construit.\n",
    "Instructions :\n",
    "Expliquez brièvement comment vous évalueriez la performance pour les trois familles de modèles que nous avons vues.\n",
    "1.\tPour un modèle de classification (supervisé) comme celui de la prédiction de prêt :\n",
    "o\tCitez 2 ou 3 métriques (ex: exactitude/accuracy, précision, rappel/recall).\n",
    "o\tExpliquez en une phrase ce que l'une d'entre elles signifie dans le contexte de la banque.\n",
    "o\tQuestion pour vous guider : Pour une banque, qu'est-ce qui est le plus grave : refuser un prêt à quelqu'un qui aurait remboursé (faux négatif) ou accepter quelqu'un qui ne remboursera pas (faux positif) ? Pourquoi ?\n",
    "2.\tPour un modèle de clustering (non supervisé) comme celui qui organise les livres :\n",
    "o\tComment pourriez-vous juger de la qualité des groupes créés, sachant que vous n'avez pas d'étiquettes ? (Cherchez des techniques comme la méthode du coude ou le score de silhouette).\n",
    "3.\tPour un modèle par renforcement comme le robot aspirateur :\n",
    "o\tQuel indicateur principal suivriez-vous pour savoir si le robot devient meilleur ? (Pensez à la notion de \"récompense\").\n"
   ]
  },
  {
   "cell_type": "markdown",
   "id": "236ddf7b",
   "metadata": {},
   "source": [
    "**Évaluer la Performance d’un Modèle**\n",
    "\n",
    "---\n",
    "\n",
    "**1. Modèle de classification (ex : prédiction de prêt)**\n",
    "\n",
    "* **Métriques :** Accuracy (exactitude), Précision, Rappel (Recall)\n",
    "* **Exemple d’explication (rappel) :** Le rappel mesure la capacité du modèle à identifier correctement les clients à risque réel de non-remboursement.\n",
    "* **Réflexion :** Pour une banque, un **faux positif** est plus grave : prêter à quelqu’un qui ne remboursera pas entraîne une perte financière directe.\n",
    "\n",
    "---\n",
    "\n",
    "**2. Modèle de clustering (ex : organisation de livres)**\n",
    "\n",
    "* **Évaluation :** Utiliser la **méthode du coude** pour déterminer le bon nombre de clusters et le **score de silhouette** pour mesurer la cohérence interne des groupes (plus le score est élevé, plus les groupes sont bien séparés et denses).\n",
    "\n",
    "---\n",
    "\n",
    "**3. Modèle par renforcement (ex : robot aspirateur)**\n",
    "\n",
    "* **Indicateur principal :** **Récompense cumulative moyenne** : elle mesure l’efficacité du robot à maximiser les bonnes actions (nettoyage sans collision) sur le long terme.\n",
    "\n",
    "---\n"
   ]
  },
  {
   "cell_type": "markdown",
   "id": "266aa3bb",
   "metadata": {},
   "source": [
    "# Partie 2 : Votre Premier Projet de Machine Learning de A à Z\n",
    "Maintenant, mettons les mains dans le cambouis ! Vous allez suivre les étapes d'un vrai projet de data science. L'objectif est de construire, comparer et évaluer plusieurs modèles pour prédire l'octroi de prêts.\n",
    "Contexte : Vous êtes un data scientist junior dans une société financière. On vous fournit un jeu de données contenant des informations sur d'anciens clients et on vous demande de créer le meilleur modèle de prédiction possible.\n"
   ]
  },
  {
   "cell_type": "markdown",
   "id": "03574652",
   "metadata": {},
   "source": [
    "## Étape 1 : Exploration et Compréhension des Données (EDA)\n",
    "On ne peut pas travailler avec des données qu'on ne comprend pas. Cette première étape est cruciale.\n",
    "Instructions :\n",
    "À partir du jeu de données fourni, réalisez une analyse exploratoire.\n",
    "* Nettoyez les données : Y a-t-il des valeurs manquantes ? Des données bizarres ?\n",
    "* Visualisez : Créez quelques graphiques simples (histogrammes, diagrammes en barres) pour comprendre la distribution de chaque information importante.\n",
    "* Posez-vous les bonnes questions :\n",
    "* Combien de personnes ont remboursé leur prêt et combien ne l'ont pas fait ? (La cible est-elle équilibrée ?)\n",
    "* Le salaire semble-t-il avoir un impact sur le remboursement ?\n",
    "* Y a-t-il une corrélation entre l'âge du client et le montant du prêt demandé ?\n",
    "* Livrable attendu : Un court résumé de vos découvertes, avec 2 ou 3 graphiques clés et leurs interprétations.\n"
   ]
  },
  {
   "cell_type": "code",
   "execution_count": 20,
   "id": "ab05973b",
   "metadata": {},
   "outputs": [],
   "source": [
    "import pandas as pd\n",
    "import matplotlib.pyplot as plt\n",
    "import seaborn as sns"
   ]
  },
  {
   "cell_type": "code",
   "execution_count": 22,
   "id": "4e8c9af4",
   "metadata": {},
   "outputs": [],
   "source": [
    "# Charger les données\n",
    "df = pd.read_csv(\"train_u6lujuX_CVtuZ9i (1).csv\")"
   ]
  },
  {
   "cell_type": "markdown",
   "id": "112556ed",
   "metadata": {},
   "source": [
    "### 1. Nettoyage : valeurs manquantes et données bizarres"
   ]
  },
  {
   "cell_type": "code",
   "execution_count": null,
   "id": "2dc965c0",
   "metadata": {},
   "outputs": [
    {
     "name": "stdout",
     "output_type": "stream",
     "text": [
      "Valeurs manquantes par colonne :\n",
      "Loan_ID               0\n",
      "Gender               13\n",
      "Married               3\n",
      "Dependents           15\n",
      "Education             0\n",
      "Self_Employed        32\n",
      "ApplicantIncome       0\n",
      "CoapplicantIncome     0\n",
      "LoanAmount           22\n",
      "Loan_Amount_Term     14\n",
      "Credit_History       50\n",
      "Property_Area         0\n",
      "Loan_Status           0\n",
      "dtype: int64\n"
     ]
    }
   ],
   "source": [
    "\n",
    "print(\"Valeurs manquantes par colonne :\")\n",
    "print(df.isnull().sum())"
   ]
  },
  {
   "cell_type": "markdown",
   "id": "1c0cd4fb",
   "metadata": {},
   "source": [
    "### Analyse :\n",
    "\n",
    "* **Aucune valeur manquante** sur les variables clés numériques (`ApplicantIncome`, `CoapplicantIncome`, `Loan_Status`) → exploitables directement.\n",
    "* **Colonnes peu touchées (<5%)** : `Gender` (13), `Married` (3), `Dependents` (15), `Loan_Amount_Term` (14) → imputables sans impact significatif (mode).\n",
    "* **Colonnes sensibles** :\n",
    "\n",
    "  * `Self_Employed` (32) : imputable (souvent \"No\")\n",
    "  * `LoanAmount` (22) : importante → imputation par médiane recommandée.\n",
    "  * `Credit_History` (50) : cruciale pour le modèle → **imputation par mode impérative**.\n",
    "\n",
    "**Conclusion** : Pas besoin de supprimer, mais imputation ciblée obligatoire pour `Credit_History` et `LoanAmount`.\n"
   ]
  },
  {
   "cell_type": "code",
   "execution_count": 24,
   "id": "dbeaad3f",
   "metadata": {},
   "outputs": [],
   "source": [
    "# Suppression des lignes incomplètes pour simplifier l'analyse\n",
    "df_clean = df.dropna()"
   ]
  },
  {
   "cell_type": "code",
   "execution_count": 25,
   "id": "bf047ba4",
   "metadata": {},
   "outputs": [
    {
     "name": "stdout",
     "output_type": "stream",
     "text": [
      "\n",
      "Types de données et valeurs uniques :\n",
      "Loan_ID               object\n",
      "Gender                object\n",
      "Married               object\n",
      "Dependents            object\n",
      "Education             object\n",
      "Self_Employed         object\n",
      "ApplicantIncome        int64\n",
      "CoapplicantIncome    float64\n",
      "LoanAmount           float64\n",
      "Loan_Amount_Term     float64\n",
      "Credit_History       float64\n",
      "Property_Area         object\n",
      "Loan_Status           object\n",
      "dtype: object\n",
      "\n",
      "Exemples de données bizarres :\n",
      "['1' '0' '2' '3+']\n",
      "count    480.000000\n",
      "mean     144.735417\n",
      "std       80.508164\n",
      "min        9.000000\n",
      "25%      100.000000\n",
      "50%      128.000000\n",
      "75%      170.000000\n",
      "max      600.000000\n",
      "Name: LoanAmount, dtype: float64\n"
     ]
    }
   ],
   "source": [
    "# Vérification des types et des valeurs uniques\n",
    "print(\"\\nTypes de données et valeurs uniques :\")\n",
    "print(df_clean.dtypes)\n",
    "print(\"\\nExemples de données bizarres :\")\n",
    "print(df_clean['Dependents'].unique())\n",
    "print(df_clean['LoanAmount'].describe())\n"
   ]
  },
  {
   "cell_type": "markdown",
   "id": "d5caa61d",
   "metadata": {},
   "source": [
    "### Types de données :\n",
    "* Les variables catégorielles (Gender, Married, Education, etc.) sont bien en object.\n",
    "\n",
    "* Les variables numériques (ApplicantIncome, LoanAmount, etc.) ont des types cohérents → prêtes pour analyse/modélisation après imputation.\n",
    "\n",
    "### Données bizarres repérées :\n",
    "* Dependents contient '3+' → à remplacer par 3 ou convertir en entier pour modélisation.\n",
    "\n",
    "### LoanAmount :\n",
    "\n",
    "* Min = 9 et Max = 600 → distribution très étendue, présence probable de valeurs extrêmes (outliers).\n",
    "\n",
    "* Moyenne = 144, mais écart-type élevé (~80) → distribution très dispersée → log-transformation possible."
   ]
  },
  {
   "cell_type": "markdown",
   "id": "f20ff971",
   "metadata": {},
   "source": [
    "### 2. Visualisation : graphiques simples"
   ]
  },
  {
   "cell_type": "code",
   "execution_count": null,
   "id": "f29ede05",
   "metadata": {},
   "outputs": [
    {
     "data": {
      "image/png": "[encoded data removed]",
      "text/plain": [
       "<Figure size 600x400 with 1 Axes>"
      ]
     },
     "metadata": {},
     "output_type": "display_data"
    }
   ],
   "source": [
    "\n",
    "\n",
    "# a) Répartition de la variable cible (Loan_Status)\n",
    "plt.figure(figsize=(6, 4))\n",
    "sns.countplot(data=df_clean, x='Loan_Status')\n",
    "plt.title(\"Répartition des prêts : remboursés (Y) vs défaut (N)\")\n",
    "plt.show()"
   ]
  },
  {
   "cell_type": "markdown",
   "id": "3ec07c09",
   "metadata": {},
   "source": [
    "### Répartition des prêts (Loan_Status) :\n",
    "* Y (Remboursé) ≈ 2 fois plus fréquent que N (Défaut).\n",
    "\n",
    "### Déséquilibre clair des classes :\n",
    "\n",
    "* Classe majoritaire = Y (~68 %)\n",
    "\n",
    "* Classe minoritaire = N (~32 %)\n",
    "\n",
    "### Conséquence :\n",
    "* Le modèle risque de favoriser la prédiction des prêts remboursés si on ne corrige pas ce déséquilibre.\n",
    "\n",
    "* Nécessité d’utiliser des techniques comme SMOTE, class_weight='balanced', ou évaluation par F1-score / recall au lieu d’accuracy."
   ]
  },
  {
   "cell_type": "code",
   "execution_count": 27,
   "id": "a1d73f1b",
   "metadata": {},
   "outputs": [
    {
     "data": {
      "image/png": "[encoded data removed]",
      "text/plain": [
       "<Figure size 800x400 with 1 Axes>"
      ]
     },
     "metadata": {},
     "output_type": "display_data"
    }
   ],
   "source": [
    "# b) Distribution du revenu\n",
    "plt.figure(figsize=(8, 4))\n",
    "sns.histplot(df_clean['ApplicantIncome'], kde=True, bins=30)\n",
    "plt.title(\"Distribution des revenus des demandeurs\")\n",
    "plt.show()"
   ]
  },
  {
   "cell_type": "markdown",
   "id": "7d9f3abc",
   "metadata": {},
   "source": [
    "###  Observation :\n",
    "\n",
    "* **Distribution fortement asymétrique à droite (skewed)**.\n",
    "* **Grande majorité** des revenus entre **0 et 10 000**.\n",
    "* Présence de **valeurs extrêmes (outliers)** allant jusqu'à **80 000**.\n",
    "\n",
    "---\n",
    "\n",
    "### Interprétation :\n",
    "\n",
    "* La moyenne est **fortement biaisée** par quelques cas rares à revenus très élevés.\n",
    "* Les algorithmes sensibles aux distributions (régression logistique, KNN, etc.) seront perturbés.\n",
    "\n",
    "---\n",
    "\n",
    "### Recommandation :\n",
    "\n",
    "* Appliquer une **transformation logarithmique** :\n",
    "\n",
    "  ```python\n",
    "  df['ApplicantIncome_log'] = np.log1p(df['ApplicantIncome'])\n",
    "  ```\n",
    "* Permet d’avoir une distribution **plus symétrique** et **plus exploitable** pour les modèles.\n"
   ]
  },
  {
   "cell_type": "code",
   "execution_count": 31,
   "id": "05dbd652",
   "metadata": {},
   "outputs": [
    {
     "name": "stderr",
     "output_type": "stream",
     "text": [
      "C:\\Users\\chume\\AppData\\Local\\Temp\\ipykernel_10300\\4052120442.py:6: SettingWithCopyWarning: \n",
      "A value is trying to be set on a copy of a slice from a DataFrame.\n",
      "Try using .loc[row_indexer,col_indexer] = value instead\n",
      "\n",
      "See the caveats in the documentation: https://pandas.pydata.org/pandas-docs/stable/user_guide/indexing.html#returning-a-view-versus-a-copy\n",
      "  df_clean['ApplicantIncome_log'] = np.log1p(df_clean['ApplicantIncome'])\n"
     ]
    },
    {
     "data": {
      "image/png": "[encoded data removed]",
      "text/plain": [
       "<Figure size 800x400 with 1 Axes>"
      ]
     },
     "metadata": {},
     "output_type": "display_data"
    }
   ],
   "source": [
    "import numpy as np\n",
    "import matplotlib.pyplot as plt\n",
    "import seaborn as sns\n",
    "\n",
    "# Transformation logarithmique\n",
    "df_clean['ApplicantIncome_log'] = np.log1p(df_clean['ApplicantIncome'])\n",
    "\n",
    "# Affichage\n",
    "plt.figure(figsize=(8, 4))\n",
    "sns.histplot(df_clean['ApplicantIncome_log'], kde=True, bins=30)\n",
    "plt.title(\"Distribution du revenu (log-transformé)\")\n",
    "plt.xlabel(\"log(ApplicantIncome)\")\n",
    "plt.ylabel(\"Count\")\n",
    "plt.show()\n"
   ]
  },
  {
   "cell_type": "markdown",
   "id": "d521b93b",
   "metadata": {},
   "source": [
    "* La distribution est quasi-normale (gaussienne).\n",
    "\n",
    "* Les outliers extrêmes ont été écrasés, rendant les données plus stables.\n",
    "\n",
    "* C’est adapté à la modélisation (régression, arbres, etc.)."
   ]
  },
  {
   "cell_type": "code",
   "execution_count": 28,
   "id": "35e50635",
   "metadata": {},
   "outputs": [
    {
     "data": {
      "image/png": "[encoded data removed]",
      "text/plain": [
       "<Figure size 800x400 with 1 Axes>"
      ]
     },
     "metadata": {},
     "output_type": "display_data"
    }
   ],
   "source": [
    "# c) Boxplot du revenu par statut de remboursement\n",
    "plt.figure(figsize=(8, 4))\n",
    "sns.boxplot(data=df_clean, x='Loan_Status', y='ApplicantIncome')\n",
    "plt.title(\"Revenu du demandeur selon le remboursement\")\n",
    "plt.show()"
   ]
  },
  {
   "cell_type": "markdown",
   "id": "bc0b2ef8",
   "metadata": {},
   "source": [
    "### Observation :\n",
    "* Les distributions de revenu sont similaires entre les deux groupes (Y remboursé, N défaut).\n",
    "\n",
    "* Les médianes sont proches.\n",
    "\n",
    "* Beaucoup d'outliers des deux côtés, surtout dans les défauts (N).\n",
    "\n",
    "### Conclusion :\n",
    "* Le revenu seul ne distingue pas clairement les bons et mauvais payeurs.\n",
    "\n",
    "* Il n’a pas un impact direct évident sur le remboursement, en tout cas de manière isolée.\n",
    "\n",
    "* Il faudra le combiner à d'autres variables (comme Credit_History) pour de meilleures prédictions."
   ]
  },
  {
   "cell_type": "code",
   "execution_count": 32,
   "id": "58ad6c42",
   "metadata": {},
   "outputs": [
    {
     "data": {
      "image/png": "[encoded data removed]",
      "text/plain": [
       "<Figure size 800x400 with 1 Axes>"
      ]
     },
     "metadata": {},
     "output_type": "display_data"
    }
   ],
   "source": [
    "# d) Nuage de points : Revenu vs Montant de prêt\n",
    "plt.figure(figsize=(8, 4))\n",
    "sns.scatterplot(data=df_clean, x='ApplicantIncome', y='LoanAmount', hue='Loan_Status')\n",
    "plt.title(\"Relation entre Revenu et Montant du prêt\")\n",
    "plt.show()"
   ]
  },
  {
   "cell_type": "markdown",
   "id": "ad674761",
   "metadata": {},
   "source": [
    "### Observation :\n",
    "* Tendance générale positive : à revenu plus élevé, montants de prêt plus importants.\n",
    "\n",
    "* La relation reste faible et très dispersée.\n",
    "\n",
    "* Aucune séparation nette entre remboursés (Y) et défauts (N).\n",
    "\n",
    "### Corrélation :\n",
    "* En général, ApplicantIncome et LoanAmount ont une corrélation modérée (~0.5 à 0.6).\n",
    "\n",
    "* Ce n’est pas suffisant seul pour prédire le statut du prêt.\n",
    "\n",
    "### Conclusion :\n",
    "* Le revenu influence un peu le montant emprunté, mais cela n'explique pas le remboursement.\n",
    "\n",
    "* Il faudra intégrer d'autres variables plus discriminantes (ex. Credit_History) dans le modèle."
   ]
  },
  {
   "cell_type": "markdown",
   "id": "864b3754",
   "metadata": {},
   "source": [
    "### 3. Réponses aux questions"
   ]
  },
  {
   "cell_type": "code",
   "execution_count": 29,
   "id": "8547cff2",
   "metadata": {},
   "outputs": [
    {
     "name": "stdout",
     "output_type": "stream",
     "text": [
      "\n",
      "Nombre de prêts remboursés (Y) vs en défaut (N) :\n",
      "Loan_Status\n",
      "Y    332\n",
      "N    148\n",
      "Name: count, dtype: int64\n"
     ]
    }
   ],
   "source": [
    "# a) Répartition des remboursements\n",
    "print(\"\\nNombre de prêts remboursés (Y) vs en défaut (N) :\")\n",
    "print(df_clean['Loan_Status'].value_counts())"
   ]
  },
  {
   "cell_type": "markdown",
   "id": "020fa07c",
   "metadata": {},
   "source": [
    "### Répartition des prêts :\n",
    "* 332 remboursés (Y)\n",
    "\n",
    "* 148 en défaut (N)\n",
    "\n",
    "### Déséquilibre :\n",
    "* Y = 69%, N = 31% → classe déséquilibrée\n",
    "\n",
    "Un modèle naïf pourrait prédire « remboursé » tout le temps et obtenir 69 % d'accuracy.\n",
    "\n",
    "### Conséquences :\n",
    "* Nécessité de traiter le déséquilibre :\n",
    "\n",
    "* SMOTE (oversampling des défauts)\n",
    "\n",
    "* class_weight='balanced' dans certains modèles\n",
    "\n",
    "* Utiliser F1-score, recall au lieu d’accuracy pour évaluer la performance"
   ]
  },
  {
   "cell_type": "code",
   "execution_count": 30,
   "id": "eaec0d35",
   "metadata": {},
   "outputs": [
    {
     "name": "stdout",
     "output_type": "stream",
     "text": [
      "\n",
      "Revenu moyen - Défaut : 5730.19\n",
      "Revenu moyen - Remboursé : 5201.09\n"
     ]
    }
   ],
   "source": [
    "# b) Le salaire a-t-il un impact ?\n",
    "mean_income_default = df_clean[df_clean['Loan_Status'] == 'N']['ApplicantIncome'].mean()\n",
    "mean_income_paid = df_clean[df_clean['Loan_Status'] == 'Y']['ApplicantIncome'].mean()\n",
    "print(f\"\\nRevenu moyen - Défaut : {mean_income_default:.2f}\")\n",
    "print(f\"Revenu moyen - Remboursé : {mean_income_paid:.2f}\")"
   ]
  },
  {
   "cell_type": "markdown",
   "id": "24061efb",
   "metadata": {},
   "source": [
    "### Revenu moyen :\n",
    "\n",
    "* **Défaut (`N`)** : **5730.19**\n",
    "* **Remboursé (`Y`)** : **5201.09**\n",
    "\n",
    "---\n",
    "\n",
    "### Interprétation :\n",
    "\n",
    "* Le revenu moyen est **légèrement plus élevé chez les défauts**, **contrairement à ce qu’on pourrait attendre**.\n",
    "* Cela confirme que **le revenu seul n’explique pas le comportement de remboursement**.\n",
    "\n",
    "---\n",
    "\n",
    "### Conclusion :\n",
    "\n",
    "* Le **revenu n'est pas un bon indicateur isolé** du risque de défaut.\n",
    "* Il faut croiser avec d'autres variables clés comme :\n",
    "\n",
    "  * `Credit_History`\n",
    "  * `LoanAmount`\n",
    "  * `Loan_Amount_Term`\n"
   ]
  },
  {
   "cell_type": "markdown",
   "id": "ecf8b812",
   "metadata": {},
   "source": [
    "Souhaites-tu faire une analyse croisée avec `Credit_History` ?"
   ]
  },
  {
   "cell_type": "code",
   "execution_count": 33,
   "id": "90582c22",
   "metadata": {},
   "outputs": [
    {
     "name": "stdout",
     "output_type": "stream",
     "text": [
      "Loan_Status      N    Y\n",
      "Credit_History         \n",
      "0.0             63    7\n",
      "1.0             85  325\n",
      "\n",
      "Pourcentage de défaut par Credit_History :\n",
      "Loan_Status        N     Y\n",
      "Credit_History            \n",
      "0.0             90.0  10.0\n",
      "1.0             20.7  79.3\n"
     ]
    },
    {
     "data": {
      "image/png": "[encoded data removed]",
      "text/plain": [
       "<Figure size 640x480 with 1 Axes>"
      ]
     },
     "metadata": {},
     "output_type": "display_data"
    }
   ],
   "source": [
    "import pandas as pd\n",
    "import seaborn as sns\n",
    "import matplotlib.pyplot as plt\n",
    "\n",
    "# Tableau croisé : remboursement selon Credit_History\n",
    "credit_status = pd.crosstab(df_clean['Credit_History'], df_clean['Loan_Status'])\n",
    "print(credit_status)\n",
    "\n",
    "# Pourcentage de défaut par historique de crédit\n",
    "credit_status_pct = credit_status.div(credit_status.sum(axis=1), axis=0)\n",
    "print(\"\\nPourcentage de défaut par Credit_History :\")\n",
    "print((credit_status_pct * 100).round(1))\n",
    "\n",
    "# Graphique\n",
    "credit_status.plot(kind='bar', stacked=True)\n",
    "plt.title(\"Remboursement selon l'historique de crédit\")\n",
    "plt.xlabel(\"Credit_History\")\n",
    "plt.ylabel(\"Nombre de prêts\")\n",
    "plt.legend(title=\"Loan_Status\", labels=[\"Défaut (N)\", \"Remboursé (Y)\"])\n",
    "plt.show()\n"
   ]
  },
  {
   "cell_type": "markdown",
   "id": "0f2989ea",
   "metadata": {},
   "source": [
    "### Résultats :\n",
    "\n",
    "* **Clients sans historique de crédit (`Credit_History = 0.0`)** :\n",
    "\n",
    "  * **90 % en défaut** → très risqués\n",
    "* **Clients avec historique (`Credit_History = 1.0`)** :\n",
    "\n",
    "  * **79 % remboursent correctement**\n",
    "\n",
    "---\n",
    "\n",
    "### Conclusion :\n",
    "\n",
    "* `Credit_History` est **de loin la variable la plus prédictive du remboursement**.\n",
    "* Elle doit être **systématiquement incluse dans tout modèle de prédiction**.\n",
    "* Son absence (valeurs manquantes) doit être **imputée avec prudence** (par mode, pas suppression brute).\n"
   ]
  },
  {
   "cell_type": "code",
   "execution_count": 34,
   "id": "9166d31b",
   "metadata": {},
   "outputs": [
    {
     "name": "stdout",
     "output_type": "stream",
     "text": [
      "\n",
      "Corrélation entre Revenu et Montant du prêt :\n",
      "                 ApplicantIncome  LoanAmount\n",
      "ApplicantIncome          1.00000     0.49531\n",
      "LoanAmount               0.49531     1.00000\n"
     ]
    }
   ],
   "source": [
    "# c) Corrélation Revenu ↔ Montant du prêt (pas d'âge explicite)\n",
    "correlation = df_clean[['ApplicantIncome', 'LoanAmount']].corr()\n",
    "print(\"\\nCorrélation entre Revenu et Montant du prêt :\")\n",
    "print(correlation)"
   ]
  },
  {
   "cell_type": "markdown",
   "id": "77a2b494",
   "metadata": {},
   "source": [
    "### Corrélation :\n",
    "\n",
    "* **Corrélation Revenu ↔ Montant du prêt** = **0.50**\n",
    "* Corrélation **positive et modérée**\n",
    "\n",
    "---\n",
    "\n",
    "### Interprétation :\n",
    "\n",
    "* Plus le revenu est élevé, plus le montant du prêt demandé a tendance à l’être.\n",
    "* Mais la relation n’est **ni linéaire forte**, ni suffisante pour faire des prédictions fiables seules.\n",
    "\n",
    "---\n",
    "\n",
    "### Conclusion :\n",
    "\n",
    "* Cette corrélation est **logique** mais **insuffisante** pour expliquer le comportement de remboursement.\n",
    "* À utiliser **en combinaison avec d'autres variables** (comme `Credit_History`, `Loan_Amount_Term`, etc.)."
   ]
  },
  {
   "cell_type": "markdown",
   "id": "d5cf53bb",
   "metadata": {},
   "source": [
    "### Analyse exploratoire des données (EDA)\n",
    "\n",
    "#### 1. Nettoyage des données\n",
    "\n",
    "* **Colonnes avec valeurs manquantes** : `Credit_History` (50), `LoanAmount` (22), `Self_Employed` (32), etc.\n",
    "* **Traitement recommandé** : imputation par **mode** pour les variables catégorielles (`Credit_History`, `Self_Employed`, etc.), **médiane** pour les numériques (`LoanAmount`).\n",
    "* **Valeur anormale** : `Dependents` contient `'3+'` → converti en `3`.\n",
    "\n",
    "#### 2. Répartition de la variable cible\n",
    "\n",
    "* **Prêts remboursés (`Y`)** : 332\n",
    "* **Prêts en défaut (`N`)** : 148\n",
    "  → Classe **déséquilibrée** (≈69 % remboursés, 31 % défauts) → nécessite un **rééquilibrage** (SMOTE ou class\\_weight).\n",
    "\n",
    "#### 3. Revenus (`ApplicantIncome`)\n",
    "\n",
    "* **Distribution asymétrique**, présence d’**outliers**.\n",
    "* Transformation **logarithmique efficace** pour normaliser.\n",
    "* **Revenu moyen défaut** : 5730 ; **Remboursé** : 5201 → pas discriminant seul.\n",
    "\n",
    "#### 🔗 4. Corrélation Revenu ↔ Montant du prêt\n",
    "\n",
    "* Corrélation modérée **(+0.50)** → cohérente : revenus élevés → prêts plus importants.\n",
    "* Pas suffisant seul pour expliquer le comportement de remboursement.\n",
    "\n",
    "#### 5. Impact de l’historique de crédit (`Credit_History`)\n",
    "\n",
    "| Credit\\_History | Défaut (%) | Remboursé (%) |\n",
    "| --------------- | ---------- | ------------- |\n",
    "| 0.0             | **90.0 %** | 10.0 %        |\n",
    "| 1.0             | 20.7 %     | **79.3 %**    |\n",
    "\n",
    "→ **Variable la plus discriminante du dataset**.\n",
    "\n",
    "---\n",
    "\n",
    "### Conclusion\n",
    "\n",
    "* Le dataset nécessite un **nettoyage léger** et une **imputation ciblée**.\n",
    "* `Credit_History` est **essentiel** pour la prédiction.\n",
    "* Le **revenu seul n'est pas prédictif**, mais combiné avec d'autres variables (montant, historique), il apporte de la valeur.\n",
    "* La **classe cible est déséquilibrée**, ce qui impose une attention particulière lors de l'entraînement des modèles.\n",
    "\n"
   ]
  },
  {
   "cell_type": "markdown",
   "id": "2b8c4730",
   "metadata": {},
   "source": [
    "## Étape 2 : Préparation des Données et Entraînement des Modèles\n",
    "Il est temps de construire nos modèles !\n",
    "Instructions :\n",
    "1.\tSélectionnez les \"features\" : Sur la base de votre exploration, choisissez les colonnes (features) que vous allez utiliser pour entraîner vos modèles. Justifiez brièvement pourquoi vous gardez une colonne ou pourquoi vous en enlevez une autre.\n",
    "2.\tPréparez les données : Assurez-vous que toutes vos données sont au format numérique et prêtes à être utilisées par les algorithmes.\n",
    "3.\tEntraînez plusieurs modèles : Appliquez au moins deux modèles de classification que vous avez vus en cours (par exemple : Régression Logistique, Arbre de Décision, Forêt Aléatoire...).\n"
   ]
  },
  {
   "cell_type": "markdown",
   "id": "3661925e",
   "metadata": {},
   "source": [
    "## 1. Sélection des features"
   ]
  },
  {
   "cell_type": "markdown",
   "id": "8c5f3fcf",
   "metadata": {},
   "source": [
    "#### Variables conservées (pertinentes) :\n",
    "* Credit_History → très forte corrélation avec remboursement\n",
    "\n",
    "* LoanAmount (log-transformée) → taille du prêt\n",
    "\n",
    "* ApplicantIncome (log-transformée) → capacité de remboursement\n",
    "\n",
    "* Loan_Amount_Term → durée du prêt\n",
    "\n",
    "* CoapplicantIncome → revenu complémentaire\n",
    "\n",
    "* Education, Self_Employed, Property_Area, Married, Gender, Dependents → variables catégorielles explicatives\n",
    "\n",
    "### Variables supprimées :\n",
    "* Loan_ID → identifiant inutile pour la prédiction"
   ]
  },
  {
   "cell_type": "markdown",
   "id": "14a70490",
   "metadata": {},
   "source": [
    "## 2. Préparation des données"
   ]
  },
  {
   "cell_type": "code",
   "execution_count": 35,
   "id": "a4c1611a",
   "metadata": {},
   "outputs": [],
   "source": [
    "import pandas as pd\n",
    "import numpy as np\n",
    "from sklearn.model_selection import train_test_split\n",
    "from sklearn.preprocessing import StandardScaler\n",
    "from sklearn.linear_model import LogisticRegression\n",
    "from sklearn.tree import DecisionTreeClassifier\n",
    "from sklearn.metrics import classification_report\n",
    "from sklearn.ensemble import RandomForestClassifier\n"
   ]
  },
  {
   "cell_type": "code",
   "execution_count": 36,
   "id": "35259470",
   "metadata": {},
   "outputs": [],
   "source": [
    "# Charger et copier\n",
    "df = pd.read_csv(\"train_u6lujuX_CVtuZ9i (1).csv\").copy()\n"
   ]
  },
  {
   "cell_type": "code",
   "execution_count": 37,
   "id": "87802fe8",
   "metadata": {},
   "outputs": [],
   "source": [
    "# Nettoyage basique\n",
    "df.drop(columns=['Loan_ID'], inplace=True)\n",
    "df['Dependents'] = df['Dependents'].replace('3+', '3').astype(float)"
   ]
  },
  {
   "cell_type": "code",
   "execution_count": 39,
   "id": "ec1e4cde",
   "metadata": {},
   "outputs": [],
   "source": [
    "# Remplacer les valeurs manquantes correctement\n",
    "df['Gender'] = df['Gender'].fillna(df['Gender'].mode()[0])\n",
    "df['Married'] = df['Married'].fillna(df['Married'].mode()[0])\n",
    "df['Self_Employed'] = df['Self_Employed'].fillna(df['Self_Employed'].mode()[0])\n",
    "df['Credit_History'] = df['Credit_History'].fillna(df['Credit_History'].mode()[0])\n",
    "df['Loan_Amount_Term'] = df['Loan_Amount_Term'].fillna(df['Loan_Amount_Term'].mode()[0])\n",
    "df['LoanAmount'] = df['LoanAmount'].fillna(df['LoanAmount'].median())\n",
    "df['Dependents'] = df['Dependents'].fillna(0)\n"
   ]
  },
  {
   "cell_type": "code",
   "execution_count": 40,
   "id": "5c45fd21",
   "metadata": {},
   "outputs": [],
   "source": [
    "# Transformation log\n",
    "df['LoanAmount_log'] = np.log1p(df['LoanAmount'])\n",
    "df['ApplicantIncome_log'] = np.log1p(df['ApplicantIncome'])"
   ]
  },
  {
   "cell_type": "code",
   "execution_count": 41,
   "id": "a0c909f4",
   "metadata": {},
   "outputs": [],
   "source": [
    "# Suppression des colonnes brutes\n",
    "df.drop(columns=['LoanAmount', 'ApplicantIncome'], inplace=True)"
   ]
  },
  {
   "cell_type": "code",
   "execution_count": 42,
   "id": "1c4d1bdd",
   "metadata": {},
   "outputs": [],
   "source": [
    "# Encodage des variables catégorielles\n",
    "df = pd.get_dummies(df, drop_first=True)"
   ]
  },
  {
   "cell_type": "code",
   "execution_count": 44,
   "id": "5b06d599",
   "metadata": {},
   "outputs": [],
   "source": [
    "# Nettoyer les noms de colonnes (très important)\n",
    "df.columns = df.columns.str.strip()\n"
   ]
  },
  {
   "cell_type": "code",
   "execution_count": null,
   "id": "1d095e0e",
   "metadata": {},
   "outputs": [],
   "source": [
    "print(df.columns)\n"
   ]
  },
  {
   "cell_type": "code",
   "execution_count": 48,
   "id": "a1803a56",
   "metadata": {},
   "outputs": [],
   "source": [
    "df.columns = df.columns.str.strip()  # Supprime les espaces\n"
   ]
  },
  {
   "cell_type": "code",
   "execution_count": 50,
   "id": "383c2a80",
   "metadata": {},
   "outputs": [
    {
     "name": "stdout",
     "output_type": "stream",
     "text": [
      "['Dependents', 'CoapplicantIncome', 'Loan_Amount_Term', 'Credit_History', 'LoanAmount_log', 'ApplicantIncome_log', 'Gender_Male', 'Married_Yes', 'Education_Not Graduate', 'Self_Employed_Yes', 'Property_Area_Semiurban', 'Property_Area_Urban', 'Loan_Status_Y']\n"
     ]
    }
   ],
   "source": [
    "print(df.columns.tolist())\n"
   ]
  },
  {
   "cell_type": "code",
   "execution_count": 51,
   "id": "32a68b1d",
   "metadata": {},
   "outputs": [],
   "source": [
    "df['Loan_Status'] = df['Loan_Status_Y'].map({1: 0, 0: 1})\n"
   ]
  },
  {
   "cell_type": "code",
   "execution_count": 52,
   "id": "d05d2a0f",
   "metadata": {},
   "outputs": [],
   "source": [
    "# Séparation\n",
    "X = df.drop('Loan_Status', axis=1)\n",
    "y = df['Loan_Status']"
   ]
  },
  {
   "cell_type": "code",
   "execution_count": 53,
   "id": "bbccfb85",
   "metadata": {},
   "outputs": [],
   "source": [
    "\n",
    "# Split\n",
    "X_train, X_test, y_train, y_test = train_test_split(X, y, test_size=0.3, random_state=42)"
   ]
  },
  {
   "cell_type": "markdown",
   "id": "f3985e81",
   "metadata": {},
   "source": [
    "## 3. Entraînement de plusieurs modèles"
   ]
  },
  {
   "cell_type": "markdown",
   "id": "5c01a892",
   "metadata": {},
   "source": [
    "### Régression logistique"
   ]
  },
  {
   "cell_type": "code",
   "execution_count": 64,
   "id": "62a150fd",
   "metadata": {},
   "outputs": [
    {
     "name": "stdout",
     "output_type": "stream",
     "text": [
      "=== RÉSULTATS - RÉGRESSION LOGISTIQUE ===\n",
      "              precision    recall  f1-score   support\n",
      "\n",
      "           0       0.76      0.98      0.86       120\n",
      "           1       0.93      0.42      0.57        65\n",
      "\n",
      "    accuracy                           0.78       185\n",
      "   macro avg       0.84      0.70      0.71       185\n",
      "weighted avg       0.82      0.78      0.76       185\n",
      "\n"
     ]
    },
    {
     "name": "stderr",
     "output_type": "stream",
     "text": [
      "C:\\Users\\chume\\AppData\\Roaming\\Python\\Python312\\site-packages\\sklearn\\linear_model\\_logistic.py:470: ConvergenceWarning: lbfgs failed to converge after 1000 iteration(s) (status=1):\n",
      "STOP: TOTAL NO. OF ITERATIONS REACHED LIMIT\n",
      "\n",
      "Increase the number of iterations to improve the convergence (max_iter=1000).\n",
      "You might also want to scale the data as shown in:\n",
      "    https://scikit-learn.org/stable/modules/preprocessing.html\n",
      "Please also refer to the documentation for alternative solver options:\n",
      "    https://scikit-learn.org/stable/modules/linear_model.html#logistic-regression\n",
      "  n_iter_i = _check_optimize_result(\n"
     ]
    }
   ],
   "source": [
    "import pandas as pd\n",
    "import numpy as np\n",
    "from sklearn.model_selection import train_test_split\n",
    "from sklearn.linear_model import LogisticRegression\n",
    "from sklearn.metrics import classification_report\n",
    "\n",
    "# 1. Charger le dataset (adapter le chemin si nécessaire)\n",
    "df = pd.read_csv(r\"train_u6lujuX_CVtuZ9i (1).csv\")\n",
    "\n",
    "# 2. Nettoyage des colonnes\n",
    "df.columns = df.columns.str.strip()\n",
    "df = df[df['Loan_Status'].notna()]  # supprimer les lignes sans étiquette\n",
    "\n",
    "# 3. Nettoyage des données\n",
    "df['Dependents'] = df['Dependents'].replace('3+', '3').astype(float)\n",
    "df['Gender'] = df['Gender'].fillna(df['Gender'].mode()[0])\n",
    "df['Married'] = df['Married'].fillna(df['Married'].mode()[0])\n",
    "df['Self_Employed'] = df['Self_Employed'].fillna(df['Self_Employed'].mode()[0])\n",
    "df['Credit_History'] = df['Credit_History'].fillna(df['Credit_History'].mode()[0])\n",
    "df['Loan_Amount_Term'] = df['Loan_Amount_Term'].fillna(df['Loan_Amount_Term'].mode()[0])\n",
    "df['LoanAmount'] = df['LoanAmount'].fillna(df['LoanAmount'].median())\n",
    "df['Dependents'] = df['Dependents'].fillna(0)\n",
    "\n",
    "# 4. Transformation log\n",
    "df['LoanAmount_log'] = np.log1p(df['LoanAmount'])\n",
    "df['ApplicantIncome_log'] = np.log1p(df['ApplicantIncome'])\n",
    "df.drop(columns=['Loan_ID', 'LoanAmount', 'ApplicantIncome'], inplace=True)\n",
    "\n",
    "# 5. Encodage de la cible AVANT get_dummies\n",
    "df['Loan_Status'] = df['Loan_Status'].map({'Y': 0, 'N': 1})\n",
    "\n",
    "# 6. get_dummies sur les autres colonnes\n",
    "df = pd.get_dummies(df, drop_first=True)\n",
    "\n",
    "\n",
    "# 7. Séparation des variables et de la cible\n",
    "X = df.drop('Loan_Status', axis=1)\n",
    "y = df['Loan_Status']\n",
    "\n",
    "# 8. Split en train/test\n",
    "X_train, X_test, y_train, y_test = train_test_split(X, y, test_size=0.3, random_state=42)\n",
    "\n",
    "# 9. Régression logistique\n",
    "model = LogisticRegression(max_iter=1000)\n",
    "model.fit(X_train, y_train)\n",
    "y_pred = model.predict(X_test)\n",
    "\n",
    "# 10. Évaluation\n",
    "print(\"=== RÉSULTATS - RÉGRESSION LOGISTIQUE ===\")\n",
    "print(classification_report(y_test, y_pred))\n"
   ]
  },
  {
   "cell_type": "code",
   "execution_count": 65,
   "id": "485c77ff",
   "metadata": {},
   "outputs": [
    {
     "name": "stdout",
     "output_type": "stream",
     "text": [
      "=== RÉSULTATS - RÉGRESSION LOGISTIQUE (standardisée + balanced) ===\n",
      "              precision    recall  f1-score   support\n",
      "\n",
      "           0       0.77      0.82      0.80       120\n",
      "           1       0.62      0.54      0.58        65\n",
      "\n",
      "    accuracy                           0.72       185\n",
      "   macro avg       0.70      0.68      0.69       185\n",
      "weighted avg       0.72      0.72      0.72       185\n",
      "\n"
     ]
    }
   ],
   "source": [
    "from sklearn.preprocessing import StandardScaler\n",
    "from sklearn.linear_model import LogisticRegression\n",
    "from sklearn.metrics import classification_report\n",
    "\n",
    "# 1. Standardiser les features\n",
    "scaler = StandardScaler()\n",
    "X_train_scaled = scaler.fit_transform(X_train)\n",
    "X_test_scaled = scaler.transform(X_test)\n",
    "\n",
    "# 2. Régression logistique améliorée\n",
    "model = LogisticRegression(max_iter=5000, class_weight='balanced', solver='lbfgs')\n",
    "model.fit(X_train_scaled, y_train)\n",
    "\n",
    "# 3. Prédictions\n",
    "y_pred = model.predict(X_test_scaled)\n",
    "\n",
    "# 4. Résultats\n",
    "print(\"=== RÉSULTATS - RÉGRESSION LOGISTIQUE (standardisée + balanced) ===\")\n",
    "print(classification_report(y_test, y_pred))\n"
   ]
  },
  {
   "cell_type": "markdown",
   "id": "a9cc78ea",
   "metadata": {},
   "source": [
    "### Améliorations obtenues :\n",
    "Classe 1 (défaut) :\n",
    "\n",
    "* Rappel monté à 0.54 (contre 0.42 avant) → le modèle détecte mieux les défauts\n",
    "\n",
    "* Précision = 0.62 → correct\n",
    "\n",
    "Modèle mieux équilibré :\n",
    "\n",
    "* F1-score de classe 1 = 0.58 (avant 0.57)\n",
    "\n",
    "* Plus de compromis entre les deux classes, moins biaisé vers les remboursés\n",
    "\n",
    "### Interprétation :\n",
    "Grâce à :\n",
    "\n",
    "* class_weight=\"balanced\" → compense le déséquilibre\n",
    "\n",
    "* Standardisation (StandardScaler) → meilleure stabilité numérique\n",
    "\n",
    "* max_iter=5000 → plus de cycles d’apprentissage pour converger"
   ]
  },
  {
   "cell_type": "markdown",
   "id": "06653a4c",
   "metadata": {},
   "source": [
    "## Forêt Aléatoire (RandomForestClassifier)"
   ]
  },
  {
   "cell_type": "code",
   "execution_count": 66,
   "id": "b8d15f37",
   "metadata": {},
   "outputs": [
    {
     "name": "stdout",
     "output_type": "stream",
     "text": [
      "=== RÉSULTATS - FORÊT ALÉATOIRE ===\n",
      "              precision    recall  f1-score   support\n",
      "\n",
      "           0       0.75      0.94      0.84       120\n",
      "           1       0.80      0.43      0.56        65\n",
      "\n",
      "    accuracy                           0.76       185\n",
      "   macro avg       0.78      0.69      0.70       185\n",
      "weighted avg       0.77      0.76      0.74       185\n",
      "\n"
     ]
    }
   ],
   "source": [
    "from sklearn.ensemble import RandomForestClassifier\n",
    "\n",
    "# Entraîner la forêt aléatoire avec class_weight pour équilibrer\n",
    "model_rf = RandomForestClassifier(n_estimators=100, class_weight='balanced', random_state=42)\n",
    "model_rf.fit(X_train, y_train)\n",
    "\n",
    "# Prédictions\n",
    "y_pred_rf = model_rf.predict(X_test)\n",
    "\n",
    "# Évaluation\n",
    "from sklearn.metrics import classification_report\n",
    "\n",
    "print(\"=== RÉSULTATS - FORÊT ALÉATOIRE ===\")\n",
    "print(classification_report(y_test, y_pred_rf))\n"
   ]
  },
  {
   "cell_type": "markdown",
   "id": "214323e4",
   "metadata": {},
   "source": [
    "## Résumé des performances\n",
    "\n",
    "| Modèle                | Accuracy | Précision (défaut) | Rappel (défaut) | F1-score (défaut) |\n",
    "| --------------------- | -------- | ------------------ | --------------- | ----------------- |\n",
    "| Régression logistique | **0.72** | 0.62               | **0.54**        | **0.58**          |\n",
    "| Forêt aléatoire       | 0.76     | **0.80**           | 0.43            | 0.56              |\n",
    "\n",
    "---\n",
    "\n",
    "## Conclusion :\n",
    "\n",
    "* **Régression logistique** :\n",
    "\n",
    "  * Meilleur **rappel pour les défauts** (identifie plus de cas problématiques)\n",
    "  * Moins précise, mais **plus utile si l’objectif est de minimiser le risque**\n",
    "\n",
    "* **Forêt aléatoire** :\n",
    "\n",
    "  * **Plus précise** (moins de faux positifs)\n",
    "  * **Rappel plus faible** : détecte moins de défauts réels\n",
    "\n",
    "---\n",
    "\n",
    "## Recommandation :\n",
    "\n",
    "* Si ton objectif est de **repérer un maximum de défauts (risques)** ➜ **privilégier la régression logistique avec class\\_weight**\n",
    "* Sinon, combiner les deux modèles (vote, stacking) ou tester **XGBoost**\n"
   ]
  },
  {
   "cell_type": "markdown",
   "id": "78413a94",
   "metadata": {},
   "source": [
    "## XGBoostClassifier"
   ]
  },
  {
   "cell_type": "code",
   "execution_count": 67,
   "id": "7acca0d4",
   "metadata": {},
   "outputs": [
    {
     "name": "stdout",
     "output_type": "stream",
     "text": [
      "Defaulting to user installation because normal site-packages is not writeable\n",
      "Collecting xgboost\n",
      "  Downloading xgboost-3.0.2-py3-none-win_amd64.whl.metadata (2.1 kB)\n",
      "Requirement already satisfied: numpy in c:\\users\\chume\\appdata\\roaming\\python\\python312\\site-packages (from xgboost) (2.3.0)\n",
      "Requirement already satisfied: scipy in c:\\users\\chume\\appdata\\roaming\\python\\python312\\site-packages (from xgboost) (1.15.3)\n",
      "Downloading xgboost-3.0.2-py3-none-win_amd64.whl (150.0 MB)\n",
      "   ---------------------------------------- 0.0/150.0 MB ? eta -:--:--\n",
      "    --------------------------------------- 3.4/150.0 MB 18.3 MB/s eta 0:00:09\n",
      "   -- ------------------------------------- 7.6/150.0 MB 18.8 MB/s eta 0:00:08\n",
      "   --- ------------------------------------ 11.3/150.0 MB 19.0 MB/s eta 0:00:08\n",
      "   ---- ----------------------------------- 15.5/150.0 MB 19.1 MB/s eta 0:00:08\n",
      "   ----- ---------------------------------- 19.4/150.0 MB 19.1 MB/s eta 0:00:07\n",
      "   ------ --------------------------------- 23.1/150.0 MB 19.0 MB/s eta 0:00:07\n",
      "   ------- -------------------------------- 27.0/150.0 MB 19.0 MB/s eta 0:00:07\n",
      "   -------- ------------------------------- 31.2/150.0 MB 19.0 MB/s eta 0:00:07\n",
      "   --------- ------------------------------ 34.9/150.0 MB 18.9 MB/s eta 0:00:07\n",
      "   ---------- ----------------------------- 38.5/150.0 MB 19.0 MB/s eta 0:00:06\n",
      "   ----------- ---------------------------- 42.5/150.0 MB 19.0 MB/s eta 0:00:06\n",
      "   ------------ --------------------------- 46.4/150.0 MB 19.0 MB/s eta 0:00:06\n",
      "   ------------- -------------------------- 50.3/150.0 MB 19.1 MB/s eta 0:00:06\n",
      "   -------------- ------------------------- 54.3/150.0 MB 19.1 MB/s eta 0:00:06\n",
      "   --------------- ------------------------ 58.2/150.0 MB 19.0 MB/s eta 0:00:05\n",
      "   ---------------- ----------------------- 62.1/150.0 MB 19.0 MB/s eta 0:00:05\n",
      "   ----------------- ---------------------- 66.1/150.0 MB 19.1 MB/s eta 0:00:05\n",
      "   ------------------ --------------------- 70.0/150.0 MB 19.1 MB/s eta 0:00:05\n",
      "   ------------------- -------------------- 74.2/150.0 MB 19.1 MB/s eta 0:00:04\n",
      "   -------------------- ------------------- 78.1/150.0 MB 19.1 MB/s eta 0:00:04\n",
      "   --------------------- ------------------ 82.1/150.0 MB 19.1 MB/s eta 0:00:04\n",
      "   ---------------------- ----------------- 86.0/150.0 MB 19.1 MB/s eta 0:00:04\n",
      "   ----------------------- ---------------- 89.9/150.0 MB 19.1 MB/s eta 0:00:04\n",
      "   ------------------------- -------------- 93.8/150.0 MB 19.1 MB/s eta 0:00:03\n",
      "   -------------------------- ------------- 97.8/150.0 MB 19.1 MB/s eta 0:00:03\n",
      "   -------------------------- ------------ 101.4/150.0 MB 19.1 MB/s eta 0:00:03\n",
      "   --------------------------- ----------- 105.6/150.0 MB 19.2 MB/s eta 0:00:03\n",
      "   ---------------------------- ---------- 109.6/150.0 MB 19.2 MB/s eta 0:00:03\n",
      "   ----------------------------- --------- 113.2/150.0 MB 19.1 MB/s eta 0:00:02\n",
      "   ------------------------------ -------- 117.2/150.0 MB 19.1 MB/s eta 0:00:02\n",
      "   ------------------------------- ------- 120.8/150.0 MB 19.1 MB/s eta 0:00:02\n",
      "   -------------------------------- ------ 125.0/150.0 MB 19.1 MB/s eta 0:00:02\n",
      "   --------------------------------- ----- 129.0/150.0 MB 19.1 MB/s eta 0:00:02\n",
      "   ---------------------------------- ---- 132.9/150.0 MB 19.1 MB/s eta 0:00:01\n",
      "   ----------------------------------- --- 136.6/150.0 MB 19.1 MB/s eta 0:00:01\n",
      "   ------------------------------------ -- 140.5/150.0 MB 19.1 MB/s eta 0:00:01\n",
      "   ------------------------------------- - 144.4/150.0 MB 19.1 MB/s eta 0:00:01\n",
      "   --------------------------------------  148.4/150.0 MB 19.1 MB/s eta 0:00:01\n",
      "   --------------------------------------  149.9/150.0 MB 19.1 MB/s eta 0:00:01\n",
      "   --------------------------------------- 150.0/150.0 MB 18.5 MB/s eta 0:00:00\n",
      "Installing collected packages: xgboost\n",
      "Successfully installed xgboost-3.0.2\n",
      "Note: you may need to restart the kernel to use updated packages.\n"
     ]
    }
   ],
   "source": [
    "pip install xgboost\n"
   ]
  },
  {
   "cell_type": "code",
   "execution_count": 68,
   "id": "980f4bda",
   "metadata": {},
   "outputs": [
    {
     "name": "stdout",
     "output_type": "stream",
     "text": [
      "=== RÉSULTATS - XGBoostClassifier ===\n",
      "              precision    recall  f1-score   support\n",
      "\n",
      "           0       0.77      0.88      0.82       120\n",
      "           1       0.71      0.52      0.60        65\n",
      "\n",
      "    accuracy                           0.76       185\n",
      "   macro avg       0.74      0.70      0.71       185\n",
      "weighted avg       0.75      0.76      0.75       185\n",
      "\n"
     ]
    },
    {
     "name": "stderr",
     "output_type": "stream",
     "text": [
      "C:\\Users\\chume\\AppData\\Roaming\\Python\\Python312\\site-packages\\xgboost\\training.py:183: UserWarning: [19:20:38] WARNING: C:\\actions-runner\\_work\\xgboost\\xgboost\\src\\learner.cc:738: \n",
      "Parameters: { \"use_label_encoder\" } are not used.\n",
      "\n",
      "  bst.update(dtrain, iteration=i, fobj=obj)\n"
     ]
    }
   ],
   "source": [
    "from xgboost import XGBClassifier\n",
    "from sklearn.metrics import classification_report\n",
    "\n",
    "# Entraînement\n",
    "model_xgb = XGBClassifier(use_label_encoder=False, eval_metric='logloss', scale_pos_weight=1.84, random_state=42)\n",
    "model_xgb.fit(X_train, y_train)\n",
    "\n",
    "# Prédictions\n",
    "y_pred_xgb = model_xgb.predict(X_test)\n",
    "\n",
    "# Évaluation\n",
    "print(\"=== RÉSULTATS - XGBoostClassifier ===\")\n",
    "print(classification_report(y_test, y_pred_xgb))\n"
   ]
  },
  {
   "cell_type": "markdown",
   "id": "e71ac7a9",
   "metadata": {},
   "source": [
    "## Comparatif des modèles\n",
    "\n",
    "| Modèle                | Accuracy | Précision (défaut) | Rappel (défaut) | F1-score (défaut) |\n",
    "| --------------------- | -------- | ------------------ | --------------- | ----------------- |\n",
    "| Régression logistique | 0.72     | 0.62               | **0.54**        | 0.58              |\n",
    "| Forêt aléatoire       | **0.76** | **0.80**           | 0.43            | 0.56              |\n",
    "| XGBoost               | 0.76     | 0.71               | **0.52**        | **0.60**          |\n",
    "\n",
    "---\n",
    "\n",
    "## Interprétation :\n",
    "\n",
    "* **XGBoost** est globalement le **meilleur compromis** :\n",
    "\n",
    "  * Bon rappel **(0.52)** pour les défauts\n",
    "  * Bonne précision et F1-score\n",
    "  * Stable malgré le déséquilibre\n",
    "\n",
    "* **Régression logistique** : simple et efficace si tu veux **maximiser le rappel** (détecter un max de défauts).\n",
    "\n",
    "* **Forêt aléatoire** : meilleure précision, mais **rappel trop faible**.\n",
    "\n",
    "---\n",
    "\n",
    "## Recommandation :\n",
    "\n",
    "> **XGBoostClassifier** est **le meilleur choix global** pour ce problème de prédiction de défauts.\n",
    "\n",
    "---"
   ]
  },
  {
   "cell_type": "markdown",
   "id": "e2a0b596",
   "metadata": {},
   "source": [
    "### Conclusion :\n",
    "Le modèle XGBoostClassifier offre le meilleur compromis entre détection des défauts (rappel), précision globale et stabilité.\n",
    "Il est retenu comme modèle final pour la prédiction du risque de défaut de prêt."
   ]
  },
  {
   "cell_type": "markdown",
   "id": "60393198",
   "metadata": {},
   "source": [
    "## Étape 3 : Évaluation, Comparaison et Conclusion\n",
    "Quel modèle est le meilleur ? C'est le moment de le découvrir !\n",
    "Instructions :\n",
    "1.\tÉvaluez chaque modèle : Pour chaque modèle entraîné, calculez les métriques de performance pertinentes (exactitude, précision, rappel, F1-score...).\n",
    "2.\tComparez les performances : Présentez vos résultats dans un tableau simple pour pouvoir comparer facilement les modèles entre eux.\n",
    "ModèleExactitudePrécisionRappelModèle A.........Modèle B.........\n",
    "1.\tRédigez votre conclusion :\n",
    "o\tQuel modèle recommanderiez-vous à la banque ?\n",
    "o\tJustifiez votre choix. Ne vous basez pas uniquement sur la meilleure métrique, mais aussi sur le contexte. Par exemple : \"Je recommande le Modèle B car, même si son exactitude est légèrement plus faible, sa précision est bien meilleure, ce qui signifie que lorsque le modèle prédit un défaut de paiement, il se trompe très rarement. C'est crucial pour la banque afin de minimiser les pertes.\"\n",
    "o\tPensez à la \"simplicité\" du modèle. Un modèle plus simple est parfois plus facile à expliquer et à maintenir.\n",
    "\n"
   ]
  },
  {
   "cell_type": "markdown",
   "id": "b475fbbf",
   "metadata": {},
   "source": [
    "##  1. Évaluation des modèles\n",
    "\n",
    "Voici les **métriques principales** obtenues pour chacun des 3 modèles testés :\n",
    "\n",
    "| Modèle                | Exactitude | Précision (défaut) | Rappel (défaut) | F1-score (défaut) |\n",
    "| --------------------- | ---------- | ------------------ | --------------- | ----------------- |\n",
    "| Régression logistique | 72 %       | 0.62               | **0.54**        | 0.58              |\n",
    "| Forêt aléatoire       | **76 %**   | **0.80**           | 0.43            | 0.56              |\n",
    "| XGBoost               | **76 %**   | 0.71               | **0.52**        | **0.60**          |\n",
    "\n",
    "---\n",
    "\n",
    "##  2. Comparaison claire\n",
    "\n",
    "* **XGBoost** est **le plus équilibré** : bonne précision, bon rappel, bon F1-score.\n",
    "* **Régression logistique** a le **meilleur rappel**, donc elle détecte plus de défauts.\n",
    "* **Forêt aléatoire** a la **meilleure précision**, donc moins de faux positifs, mais **rappel trop faible**.\n",
    "\n",
    "---\n",
    "\n",
    "##  3. Conclusion\n",
    "\n",
    "> Je recommande le **modèle XGBoost** à la banque.\n",
    "\n",
    "**Pourquoi ?**\n",
    "\n",
    "* Il offre le **meilleur compromis** entre précision, rappel et F1-score.\n",
    "* Il détecte **plus de clients à risque** que la Forêt Aléatoire tout en étant plus fiable que la Régression Logistique.\n",
    "* Il est robuste face au déséquilibre de classes, ce qui est **essentiel** dans ce contexte.\n",
    "* Bien que plus complexe, **XGBoost reste maintenable** et bien documenté.\n",
    "\n",
    "**Remarque :**\n",
    "Si la banque privilégie la **simplicité, l’interprétabilité et la transparence**, alors la **régression logistique** reste un choix défendable, notamment pour **des décisions réglementaires ou justifiables**.\n",
    "\n",
    "---\n"
   ]
  }
 ],
 "metadata": {
  "kernelspec": {
   "display_name": "base",
   "language": "python",
   "name": "python3"
  },
  "language_info": {
   "codemirror_mode": {
    "name": "ipython",
    "version": 3
   },
   "file_extension": ".py",
   "mimetype": "text/x-python",
   "name": "python",
   "nbconvert_exporter": "python",
   "pygments_lexer": "ipython3",
   "version": "3.12.8"
  }
 },
 "nbformat": 4,
 "nbformat_minor": 5
}
