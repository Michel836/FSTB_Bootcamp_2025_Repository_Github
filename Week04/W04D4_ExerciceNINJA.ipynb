{
 "cells": [
  {
   "cell_type": "markdown",
   "id": "dc8b9638",
   "metadata": {},
   "source": [
    "# Exercise XP Ninja : Monitoring NLP Models in Production\n",
    "\n",
    "\n",
    "## 👩‍🏫 👩🏿‍🏫 What You’ll learn\n",
    "In this daily challenge, you will delve into the nuances of monitoring Natural Language Processing (NLP) models in production settings. Monitoring NLP models involves unique challenges due to the evolving nature of language and the complexity of text data. This Colab tutorial will guide you through:\n",
    "\n",
    "## Understanding the significance of continuous monitoring to sustain NLP model performance in production.\n",
    "Learning strategies to detect and mitigate common issues like data drift and deterioration in model quality for text-based applications.\n",
    "\n",
    "\n",
    "## 🛠️ What you will create\n",
    "Throughout this challenge, you will engage with a dataset of drug reviews to:\n",
    "\n",
    "## Develop a Review Classification Model: Construct and assess a model designed to categorize drug reviews into positive or negative sentiments.\n",
    "Simulate and Detect Data Quality Issues: Generate typical data quality problems that could impact NLP models, evaluate their effect on model precision, and discover methods to identify such issues preemptively.\n",
    "Monitor and Amend Model Quality Decay: Deploy your model on novel datasets, identify signals of degradation in model quality, and explore corrective measures.\n",
    "You will be utilizing the Evidently Python library, a powerful tool for diagnosing and addressing issues in model performance.\n",
    "\n",
    "\n",
    "\n",
    "## Your Task\n",
    "Open this colab notebook and complete the “TODO”."
   ]
  }
 ],
 "metadata": {
  "language_info": {
   "name": "python"
  }
 },
 "nbformat": 4,
 "nbformat_minor": 5
}
