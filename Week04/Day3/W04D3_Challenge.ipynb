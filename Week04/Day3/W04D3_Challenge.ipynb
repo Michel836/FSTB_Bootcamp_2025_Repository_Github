{
 "cells": [
  {
   "cell_type": "markdown",
   "id": "e953d542",
   "metadata": {},
   "source": [
    "# Breast Cancer Prediction\n",
    "Last Updated: January 15th, 2024\n",
    "\n",
    "Daily Challenge: Breast Cancer Prediction\n",
    "\n",
    "\n",
    "What you will learn\n",
    "Data visualization with scatter plots.\n",
    "Basic understanding of classification models\n",
    "Interpreting the results.\n",
    "\n",
    "\n",
    "What you will create\n",
    "In this notebook, you will be using 4 classification models- Logistic Regression, K Nearest Neighbours, Random Forests and Support Vector Machines (SVM).\n",
    "dataset available here\n",
    "\n",
    "\n",
    "\n",
    "Your Task\n",
    "Exploratory Data Analysis\n",
    "Use pandas to load the dataset and examine the first few rows.\n",
    "Check and handle the missing values.\n",
    "Drop any unnecessary column\n",
    "Create a Countplot to display diagnosis from magma\n",
    "\n",
    "Data Preprocessing, Building Models and Evaluation :\n",
    "counts of unique rows in the ‘diagnosis’ column\n",
    "map categorical values to numerical values\n",
    "Splitting the data into train and test\n",
    "Implement logistic regression and print the accuracy.\n",
    "Implement K Nearest Neighbours and print the accuracy.\n",
    "Implement Random Forests and print the accuracy.\n",
    "Implement Support Vector Machines (SVM) and print the accuracy.\n",
    "Which is the best model ?\n"
   ]
  },
  {
   "cell_type": "markdown",
   "id": "d32f0eb7",
   "metadata": {},
   "source": [
    " 1. Chargement des données et EDA"
   ]
  },
  {
   "cell_type": "code",
   "execution_count": 2,
   "id": "9614e81f",
   "metadata": {},
   "outputs": [
    {
     "name": "stdout",
     "output_type": "stream",
     "text": [
      "Collecting pandas\n",
      "  Downloading pandas-2.3.0-cp310-cp310-win_amd64.whl (11.1 MB)\n",
      "     --------------------------------------- 11.1/11.1 MB 93.8 MB/s eta 0:00:00\n",
      "Collecting seaborn\n",
      "  Downloading seaborn-0.13.2-py3-none-any.whl (294 kB)\n",
      "     ---------------------------------------- 294.9/294.9 kB ? eta 0:00:00\n",
      "Collecting matplotlib\n",
      "  Downloading matplotlib-3.10.3-cp310-cp310-win_amd64.whl (8.1 MB)\n",
      "     ---------------------------------------- 8.1/8.1 MB 171.2 MB/s eta 0:00:00\n",
      "Collecting scikit-learn\n",
      "  Downloading scikit_learn-1.7.0-cp310-cp310-win_amd64.whl (10.7 MB)\n",
      "     -------------------------------------- 10.7/10.7 MB 164.9 MB/s eta 0:00:00\n",
      "Collecting tzdata>=2022.7\n",
      "  Downloading tzdata-2025.2-py2.py3-none-any.whl (347 kB)\n",
      "     ---------------------------------------- 347.8/347.8 kB ? eta 0:00:00\n",
      "Requirement already satisfied: numpy>=1.22.4 in c:\\users\\chume\\appdata\\local\\programs\\python\\python310\\lib\\site-packages (from pandas) (1.24.3)\n",
      "Collecting pytz>=2020.1\n",
      "  Downloading pytz-2025.2-py2.py3-none-any.whl (509 kB)\n",
      "     ---------------------------------------- 509.2/509.2 kB ? eta 0:00:00\n",
      "Requirement already satisfied: python-dateutil>=2.8.2 in c:\\users\\chume\\appdata\\roaming\\python\\python310\\site-packages (from pandas) (2.9.0.post0)\n",
      "Collecting fonttools>=4.22.0\n",
      "  Downloading fonttools-4.58.4-cp310-cp310-win_amd64.whl (2.2 MB)\n",
      "     ---------------------------------------- 2.2/2.2 MB 149.1 MB/s eta 0:00:00\n",
      "Collecting cycler>=0.10\n",
      "  Downloading cycler-0.12.1-py3-none-any.whl (8.3 kB)\n",
      "Collecting pillow>=8\n",
      "  Downloading pillow-11.3.0-cp310-cp310-win_amd64.whl (7.0 MB)\n",
      "     ---------------------------------------- 7.0/7.0 MB 148.4 MB/s eta 0:00:00\n",
      "Collecting pyparsing>=2.3.1\n",
      "  Downloading pyparsing-3.2.3-py3-none-any.whl (111 kB)\n",
      "     ---------------------------------------- 111.1/111.1 kB ? eta 0:00:00\n",
      "Collecting kiwisolver>=1.3.1\n",
      "  Downloading kiwisolver-1.4.8-cp310-cp310-win_amd64.whl (71 kB)\n",
      "     ---------------------------------------- 71.9/71.9 kB ? eta 0:00:00\n",
      "Requirement already satisfied: packaging>=20.0 in c:\\users\\chume\\appdata\\local\\programs\\python\\python310\\lib\\site-packages (from matplotlib) (25.0)\n",
      "Collecting contourpy>=1.0.1\n",
      "  Downloading contourpy-1.3.2-cp310-cp310-win_amd64.whl (221 kB)\n",
      "     ---------------------------------------- 221.2/221.2 kB ? eta 0:00:00\n",
      "Collecting scipy>=1.8.0\n",
      "  Downloading scipy-1.15.3-cp310-cp310-win_amd64.whl (41.3 MB)\n",
      "     -------------------------------------- 41.3/41.3 MB 108.7 MB/s eta 0:00:00\n",
      "Collecting joblib>=1.2.0\n",
      "  Downloading joblib-1.5.1-py3-none-any.whl (307 kB)\n",
      "     ------------------------------------- 307.7/307.7 kB 19.8 MB/s eta 0:00:00\n",
      "Collecting threadpoolctl>=3.1.0\n",
      "  Downloading threadpoolctl-3.6.0-py3-none-any.whl (18 kB)\n",
      "Requirement already satisfied: six>=1.5 in c:\\users\\chume\\appdata\\local\\programs\\python\\python310\\lib\\site-packages (from python-dateutil>=2.8.2->pandas) (1.17.0)\n",
      "Installing collected packages: pytz, tzdata, threadpoolctl, scipy, pyparsing, pillow, kiwisolver, joblib, fonttools, cycler, contourpy, scikit-learn, pandas, matplotlib, seaborn\n",
      "Successfully installed contourpy-1.3.2 cycler-0.12.1 fonttools-4.58.4 joblib-1.5.1 kiwisolver-1.4.8 matplotlib-3.10.3 pandas-2.3.0 pillow-11.3.0 pyparsing-3.2.3 pytz-2025.2 scikit-learn-1.7.0 scipy-1.15.3 seaborn-0.13.2 threadpoolctl-3.6.0 tzdata-2025.2\n",
      "Note: you may need to restart the kernel to use updated packages.\n"
     ]
    },
    {
     "name": "stderr",
     "output_type": "stream",
     "text": [
      "  WARNING: The scripts fonttools.exe, pyftmerge.exe, pyftsubset.exe and ttx.exe are installed in 'c:\\Users\\chume\\AppData\\Local\\Programs\\Python\\Python310\\Scripts' which is not on PATH.\n",
      "  Consider adding this directory to PATH or, if you prefer to suppress this warning, use --no-warn-script-location.\n",
      "\n",
      "[notice] A new release of pip available: 22.3.1 -> 25.1.1\n",
      "[notice] To update, run: python.exe -m pip install --upgrade pip\n"
     ]
    }
   ],
   "source": [
    "pip install pandas seaborn matplotlib scikit-learn\n"
   ]
  },
  {
   "cell_type": "code",
   "execution_count": 3,
   "id": "f828665a",
   "metadata": {},
   "outputs": [
    {
     "name": "stdout",
     "output_type": "stream",
     "text": [
      "         id diagnosis  radius_mean  texture_mean  perimeter_mean  area_mean  \\\n",
      "0    842302         M        17.99         10.38          122.80     1001.0   \n",
      "1    842517         M        20.57         17.77          132.90     1326.0   \n",
      "2  84300903         M        19.69         21.25          130.00     1203.0   \n",
      "3  84348301         M        11.42         20.38           77.58      386.1   \n",
      "4  84358402         M        20.29         14.34          135.10     1297.0   \n",
      "\n",
      "   smoothness_mean  compactness_mean  concavity_mean  concave points_mean  \\\n",
      "0          0.11840           0.27760          0.3001              0.14710   \n",
      "1          0.08474           0.07864          0.0869              0.07017   \n",
      "2          0.10960           0.15990          0.1974              0.12790   \n",
      "3          0.14250           0.28390          0.2414              0.10520   \n",
      "4          0.10030           0.13280          0.1980              0.10430   \n",
      "\n",
      "   ...  texture_worst  perimeter_worst  area_worst  smoothness_worst  \\\n",
      "0  ...          17.33           184.60      2019.0            0.1622   \n",
      "1  ...          23.41           158.80      1956.0            0.1238   \n",
      "2  ...          25.53           152.50      1709.0            0.1444   \n",
      "3  ...          26.50            98.87       567.7            0.2098   \n",
      "4  ...          16.67           152.20      1575.0            0.1374   \n",
      "\n",
      "   compactness_worst  concavity_worst  concave points_worst  symmetry_worst  \\\n",
      "0             0.6656           0.7119                0.2654          0.4601   \n",
      "1             0.1866           0.2416                0.1860          0.2750   \n",
      "2             0.4245           0.4504                0.2430          0.3613   \n",
      "3             0.8663           0.6869                0.2575          0.6638   \n",
      "4             0.2050           0.4000                0.1625          0.2364   \n",
      "\n",
      "   fractal_dimension_worst  Unnamed: 32  \n",
      "0                  0.11890          NaN  \n",
      "1                  0.08902          NaN  \n",
      "2                  0.08758          NaN  \n",
      "3                  0.17300          NaN  \n",
      "4                  0.07678          NaN  \n",
      "\n",
      "[5 rows x 33 columns]\n",
      "id                           0\n",
      "diagnosis                    0\n",
      "radius_mean                  0\n",
      "texture_mean                 0\n",
      "perimeter_mean               0\n",
      "area_mean                    0\n",
      "smoothness_mean              0\n",
      "compactness_mean             0\n",
      "concavity_mean               0\n",
      "concave points_mean          0\n",
      "symmetry_mean                0\n",
      "fractal_dimension_mean       0\n",
      "radius_se                    0\n",
      "texture_se                   0\n",
      "perimeter_se                 0\n",
      "area_se                      0\n",
      "smoothness_se                0\n",
      "compactness_se               0\n",
      "concavity_se                 0\n",
      "concave points_se            0\n",
      "symmetry_se                  0\n",
      "fractal_dimension_se         0\n",
      "radius_worst                 0\n",
      "texture_worst                0\n",
      "perimeter_worst              0\n",
      "area_worst                   0\n",
      "smoothness_worst             0\n",
      "compactness_worst            0\n",
      "concavity_worst              0\n",
      "concave points_worst         0\n",
      "symmetry_worst               0\n",
      "fractal_dimension_worst      0\n",
      "Unnamed: 32                569\n",
      "dtype: int64\n"
     ]
    },
    {
     "data": {
      "image/png": "[encoded data removed]",
      "text/plain": [
       "<Figure size 640x480 with 1 Axes>"
      ]
     },
     "metadata": {},
     "output_type": "display_data"
    }
   ],
   "source": [
    "import pandas as pd\n",
    "import seaborn as sns\n",
    "import matplotlib.pyplot as plt\n",
    "\n",
    "# Chargement des données\n",
    "df = pd.read_csv('data_breast_cancer.csv')\n",
    "print(df.head())\n",
    "\n",
    "# Vérifier les valeurs manquantes\n",
    "print(df.isnull().sum())\n",
    "\n",
    "# Supprimer les colonnes inutiles (ex : 'id' ou 'Unnamed: 32' s'il existe)\n",
    "df.drop(columns=['id'], inplace=True, errors='ignore')\n",
    "df.drop(columns=['Unnamed: 32'], inplace=True, errors='ignore')\n",
    "\n",
    "# Afficher un Countplot du diagnostic\n",
    "sns.countplot(x='diagnosis', data=df)\n",
    "plt.title(\"Répartition des diagnostics\")\n",
    "plt.show()\n"
   ]
  },
  {
   "cell_type": "code",
   "execution_count": null,
   "id": "d1a40c40",
   "metadata": {},
   "outputs": [],
   "source": [
    "Nettoyage"
   ]
  },
  {
   "cell_type": "code",
   "execution_count": 5,
   "id": "49275373",
   "metadata": {},
   "outputs": [],
   "source": [
    "# Supprimer les colonnes uniquement si elles existent\n",
    "df.drop(columns=[col for col in ['id', 'Unnamed: 32'] if col in df.columns], inplace=True)\n"
   ]
  },
  {
   "cell_type": "markdown",
   "id": "ca9efe5d",
   "metadata": {},
   "source": [
    "Prétraitement + Modélisation"
   ]
  },
  {
   "cell_type": "code",
   "execution_count": 8,
   "id": "17e9e353",
   "metadata": {},
   "outputs": [],
   "source": [
    "from sklearn.model_selection import train_test_split\n",
    "from sklearn.preprocessing import StandardScaler\n",
    "from sklearn.linear_model import LogisticRegression\n",
    "from sklearn.neighbors import KNeighborsClassifier\n",
    "from sklearn.ensemble import RandomForestClassifier\n",
    "from sklearn.svm import SVC\n",
    "from sklearn.metrics import accuracy_score\n",
    "\n",
    "# Mapper la colonne 'diagnosis' en numérique\n",
    "df['diagnosis'] = df['diagnosis'].map({'M': 1, 'B': 0})\n",
    "\n",
    "# Séparer les features et la cible\n",
    "X = df.drop(columns='diagnosis')\n",
    "y = df['diagnosis']\n",
    "\n",
    "# Standardisation\n",
    "scaler = StandardScaler()\n",
    "X_scaled = scaler.fit_transform(X)\n",
    "\n",
    "# Split des données\n",
    "X_train, X_test, y_train, y_test = train_test_split(X_scaled, y, test_size=0.2, random_state=42)\n"
   ]
  },
  {
   "cell_type": "markdown",
   "id": "854799ac",
   "metadata": {},
   "source": [
    "Entraînement des modèles + évaluation"
   ]
  },
  {
   "cell_type": "code",
   "execution_count": 9,
   "id": "e3814b48",
   "metadata": {},
   "outputs": [
    {
     "name": "stdout",
     "output_type": "stream",
     "text": [
      "Logistic Regression Accuracy: 0.9736842105263158\n",
      "KNN Accuracy: 0.9473684210526315\n",
      "Random Forest Accuracy: 0.9649122807017544\n",
      "SVM Accuracy: 0.9736842105263158\n",
      "✅ Meilleur modèle : Logistic Regression avec une précision de 0.9736842105263158\n"
     ]
    }
   ],
   "source": [
    "# Logistic Regression\n",
    "lr = LogisticRegression()\n",
    "lr.fit(X_train, y_train)\n",
    "lr_acc = accuracy_score(y_test, lr.predict(X_test))\n",
    "\n",
    "# KNN\n",
    "knn = KNeighborsClassifier()\n",
    "knn.fit(X_train, y_train)\n",
    "knn_acc = accuracy_score(y_test, knn.predict(X_test))\n",
    "\n",
    "# Random Forest\n",
    "rf = RandomForestClassifier(random_state=42)\n",
    "rf.fit(X_train, y_train)\n",
    "rf_acc = accuracy_score(y_test, rf.predict(X_test))\n",
    "\n",
    "# SVM\n",
    "svm = SVC()\n",
    "svm.fit(X_train, y_train)\n",
    "svm_acc = accuracy_score(y_test, svm.predict(X_test))\n",
    "\n",
    "# Résultats\n",
    "print(\"Logistic Regression Accuracy:\", lr_acc)\n",
    "print(\"KNN Accuracy:\", knn_acc)\n",
    "print(\"Random Forest Accuracy:\", rf_acc)\n",
    "print(\"SVM Accuracy:\", svm_acc)\n",
    "\n",
    "# Meilleur modèle\n",
    "accs = {\n",
    "    \"Logistic Regression\": lr_acc,\n",
    "    \"KNN\": knn_acc,\n",
    "    \"Random Forest\": rf_acc,\n",
    "    \"SVM\": svm_acc\n",
    "}\n",
    "best_model = max(accs, key=accs.get)\n",
    "print(\"✅ Meilleur modèle :\", best_model, \"avec une précision de\", accs[best_model])\n"
   ]
  },
  {
   "cell_type": "markdown",
   "id": "0f5d36b3",
   "metadata": {},
   "source": [
    "Le code fonctionne bien et les résultats sont cohérents.\n",
    "\n",
    "### Résumé :\n",
    "\n",
    "* **Logistic Regression** : **97.36 %** → 🔥 meilleur (à égalité avec SVM)\n",
    "* **SVM** : **97.36 %** → aussi très performant\n",
    "* **Random Forest** : **96.49 %**\n",
    "* **KNN** : **94.74 %** → un peu en dessous\n",
    "\n",
    "### Conclusion :\n",
    "\n",
    "Le modèle **Logistic Regression** est le meilleur ici (simple, rapide, efficace), mais **SVM** donne le **même score**, donc aussi valable.\n",
    "\n"
   ]
  },
  {
   "cell_type": "markdown",
   "id": "30385f12",
   "metadata": {},
   "source": [
    "Afficher la matrice de confusion du meilleur modèle (Logistic Regression ici)"
   ]
  },
  {
   "cell_type": "code",
   "execution_count": 10,
   "id": "2620b3e2",
   "metadata": {},
   "outputs": [
    {
     "data": {
      "image/png": "[encoded data removed]",
      "text/plain": [
       "<Figure size 640x480 with 2 Axes>"
      ]
     },
     "metadata": {},
     "output_type": "display_data"
    }
   ],
   "source": [
    "from sklearn.metrics import confusion_matrix, ConfusionMatrixDisplay\n",
    "\n",
    "# Prédictions\n",
    "y_pred = lr.predict(X_test)\n",
    "\n",
    "# Matrice de confusion\n",
    "cm = confusion_matrix(y_test, y_pred)\n",
    "disp = ConfusionMatrixDisplay(confusion_matrix=cm, display_labels=[\"Bénin (0)\", \"Malin (1)\"])\n",
    "disp.plot(cmap=\"Blues\")\n",
    "plt.title(\"Matrice de confusion – Logistic Regression\")\n",
    "plt.show()\n"
   ]
  },
  {
   "cell_type": "markdown",
   "id": "45cf764e",
   "metadata": {},
   "source": [
    "La matrice de confusion est excellente\n",
    "\n",
    "### Interprétation :\n",
    "\n",
    "* **70 vrais bénins (0)** bien prédits\n",
    "* **41 vrais malins (1)** bien prédits\n",
    "* **1 faux positif** : bénin → prédit comme malin\n",
    "* **2 faux négatifs** : malin → prédit comme bénin ⚠️ (les plus critiques en médecine)\n",
    "\n",
    "### Résultat :\n",
    "\n",
    "* Précision globale : **97.36 %**\n",
    "* Très bon équilibre entre sensibilité et spécificité.\n",
    "\n"
   ]
  },
  {
   "cell_type": "markdown",
   "id": "cb282578",
   "metadata": {},
   "source": [
    "Sauvegarder le modèle avec joblib"
   ]
  },
  {
   "cell_type": "code",
   "execution_count": 11,
   "id": "51edc80d",
   "metadata": {},
   "outputs": [
    {
     "name": "stdout",
     "output_type": "stream",
     "text": [
      "Modèle sauvegardé sous best_model_logistic_regression.pkl\n"
     ]
    }
   ],
   "source": [
    "import joblib\n",
    "\n",
    "# Sauvegarde du modèle\n",
    "joblib.dump(lr, \"best_model_logistic_regression.pkl\")\n",
    "print(\"Modèle sauvegardé sous best_model_logistic_regression.pkl\")\n"
   ]
  },
  {
   "cell_type": "markdown",
   "id": "7e11b21a",
   "metadata": {},
   "source": [
    "Charger et utiliser le modèle plus tard"
   ]
  },
  {
   "cell_type": "code",
   "execution_count": 12,
   "id": "517d8c1f",
   "metadata": {},
   "outputs": [
    {
     "name": "stdout",
     "output_type": "stream",
     "text": [
      "Prédiction : [0]\n"
     ]
    }
   ],
   "source": [
    "# Chargement du modèle\n",
    "model_loaded = joblib.load(\"best_model_logistic_regression.pkl\")\n",
    "\n",
    "# Prédiction exemple (sur le premier test)\n",
    "sample = X_test[0].reshape(1, -1)\n",
    "print(\"Prédiction :\", model_loaded.predict(sample))\n"
   ]
  },
  {
   "cell_type": "markdown",
   "id": "3c07e423",
   "metadata": {},
   "source": [
    "### **Bilan rapide – Exercice Breast Cancer Prediction**\n",
    "\n",
    "| Étape                               | Statut |\n",
    "| ----------------------------------- | ------ |\n",
    "| Chargement et affichage des données | ✅ Fait |\n",
    "| Nettoyage (colonnes inutiles)       | ✅ Fait |\n",
    "| Analyse : countplot + valeurs       | ✅ Fait |\n",
    "| Mapping `diagnosis` en numérique    | ✅ Fait |\n",
    "| Normalisation des features          | ✅ Fait |\n",
    "| Split train/test                    | ✅ Fait |\n",
    "| Modèles entraînés (4 demandés)      | ✅ Fait |\n",
    "| Précisions affichées                | ✅ Fait |\n",
    "| Meilleur modèle identifié           | ✅ Fait |\n",
    "| Matrice de confusion                | ✅ Fait |\n",
    "\n",
    "### **Modèle gagnant :** `Logistic Regression` avec **97.36 % de précision**\n",
    "\n"
   ]
  }
 ],
 "metadata": {
  "kernelspec": {
   "display_name": "Python 3",
   "language": "python",
   "name": "python3"
  },
  "language_info": {
   "codemirror_mode": {
    "name": "ipython",
    "version": 3
   },
   "file_extension": ".py",
   "mimetype": "text/x-python",
   "name": "python",
   "nbconvert_exporter": "python",
   "pygments_lexer": "ipython3",
   "version": "3.10.9"
  }
 },
 "nbformat": 4,
 "nbformat_minor": 5
}
