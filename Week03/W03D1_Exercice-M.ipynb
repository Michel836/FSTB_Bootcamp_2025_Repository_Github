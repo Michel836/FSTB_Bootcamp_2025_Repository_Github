{
 "cells": [
  {
   "cell_type": "markdown",
   "id": "30982dbd",
   "metadata": {},
   "source": [
    "# Exercices XP du 23/06/2025\n",
    "Dernière mise à jour : 7 mars 2025\n",
    "\n",
    "## Ce que vous apprendrez :\n",
    "Opérations NumPy de base, y compris la création de tableaux, la manipulation et les opérations de base sur les tableaux.\n",
    "Compétences dans la manipulation de tableaux unidimensionnels et multidimensionnels.\n",
    "\n",
    "\n",
    "## Ce que vous allez créer :\n",
    "Une série de tableaux NumPy démontrant différentes opérations, allant de la simple création de tableaux à des manipulations plus complexes.\n"
   ]
  },
  {
   "cell_type": "markdown",
   "id": "cf1476f5",
   "metadata": {},
   "source": [
    "## 🌟 Exercice 1 : Création et manipulation de tableaux\n",
    "Instructions\n",
    "Créez un tableau NumPy 1D contenant des nombres de 0 à 9.\n",
    "\n",
    "Résultat attendu :\n",
    "\n",
    "\n",
    "\n",
    "array([0, 1, 2, 3, 4, 5, 6, 7, 8, 9])"
   ]
  },
  {
   "cell_type": "code",
   "execution_count": 7,
   "id": "2467de6f",
   "metadata": {},
   "outputs": [],
   "source": [
    "import numpy as np  # Importation de NumPy"
   ]
  },
  {
   "cell_type": "code",
   "execution_count": null,
   "id": "0a45a49b",
   "metadata": {},
   "outputs": [],
   "source": [
    "# Étape 1 : Créer un tableau 1D contenant les entiers de 0 à 9\n",
    "# np.arange génère une séquence de 0 à 9 (10 exclu)\n",
    "tableau = np.arange(10)"
   ]
  },
  {
   "cell_type": "code",
   "execution_count": null,
   "id": "45d68074",
   "metadata": {},
   "outputs": [
    {
     "name": "stdout",
     "output_type": "stream",
     "text": [
      "[0 1 2 3 4 5 6 7 8 9]\n"
     ]
    }
   ],
   "source": [
    "# Étape 2 : Afficher tableau\n",
    "print(tableau)  # Résultat : array([0, 1, 2, 3, 4, 5, 6, 7, 8, 9])"
   ]
  },
  {
   "cell_type": "markdown",
   "id": "eeecca5d",
   "metadata": {},
   "source": [
    "## Exercice 2 : Conversion de type et opérations sur les tableaux\n",
    "Instructions\n",
    "Convertissez une liste [3.14, 2.17, 0, 1, 2]en un tableau NumPy et convertissez son type de données en entier.\n",
    "\n",
    "Résultat attendu :\n",
    "\n",
    "array([3, 2, 0, 1, 2])"
   ]
  },
  {
   "cell_type": "code",
   "execution_count": null,
   "id": "1468991c",
   "metadata": {},
   "outputs": [],
   "source": [
    "import numpy as np  # Importer bibliothèque NumPy"
   ]
  },
  {
   "cell_type": "code",
   "execution_count": null,
   "id": "af88aaa7",
   "metadata": {},
   "outputs": [],
   "source": [
    "# Étape 1 : Définir liste contenant des nombres flottants\n",
    "liste = [3.14, 2.17, 0, 1, 2]"
   ]
  },
  {
   "cell_type": "code",
   "execution_count": 5,
   "id": "35a2619c",
   "metadata": {},
   "outputs": [],
   "source": [
    "# Étape 2 : Conversion de la liste en tableau NumPy avec un type de données entier\n",
    "# Cela convertit chaque élément en entier en supprimant la partie décimale (pas d'arrondi)\n",
    "tableau = np.array(liste, dtype=int)"
   ]
  },
  {
   "cell_type": "code",
   "execution_count": null,
   "id": "54378e0a",
   "metadata": {},
   "outputs": [
    {
     "name": "stdout",
     "output_type": "stream",
     "text": [
      "[3 2 0 1 2]\n"
     ]
    }
   ],
   "source": [
    "# Étape 3 : Afficher tableau résultant\n",
    "print(tableau)  # Résultat : array([3, 2, 0, 1, 2])"
   ]
  },
  {
   "cell_type": "markdown",
   "id": "240f3591",
   "metadata": {},
   "source": [
    "## Exercice 3 : Travailler avec des tableaux multidimensionnels\n",
    "Instructions\n",
    "Créez un tableau NumPy 3x3 avec des valeurs allant de 1 à 9.\n",
    "\n",
    "Résultat attendu :\n",
    "\n",
    "\n",
    "\n",
    "array([[1, 2, 3],\n",
    "       [4, 5, 6],\n",
    "       [7, 8, 9]])"
   ]
  },
  {
   "cell_type": "code",
   "execution_count": null,
   "id": "914b35e6",
   "metadata": {},
   "outputs": [],
   "source": [
    "import numpy as np  # Importation de la bibliothèque NumPy"
   ]
  },
  {
   "cell_type": "code",
   "execution_count": 10,
   "id": "d6e93ff0",
   "metadata": {},
   "outputs": [],
   "source": [
    "# Étape 1 : Générer une séquence de 1 à 9\n",
    "# np.arange(1, 10) crée un tableau 1D avec les valeurs de 1 à 9\n",
    "valeurs = np.arange(1, 10)"
   ]
  },
  {
   "cell_type": "code",
   "execution_count": 11,
   "id": "2e92ae31",
   "metadata": {},
   "outputs": [],
   "source": [
    "# Étape 2 : Remodeler le tableau en 3 lignes et 3 colonnes (3x3)\n",
    "# reshape transforme le tableau 1D en matrice 2D\n",
    "tableau_3x3 = valeurs.reshape((3, 3))"
   ]
  },
  {
   "cell_type": "code",
   "execution_count": 12,
   "id": "5a61db3a",
   "metadata": {},
   "outputs": [
    {
     "name": "stdout",
     "output_type": "stream",
     "text": [
      "[[1 2 3]\n",
      " [4 5 6]\n",
      " [7 8 9]]\n"
     ]
    }
   ],
   "source": [
    "# Étape 3 : Affichage du tableau 2D\n",
    "print(tableau_3x3)"
   ]
  },
  {
   "cell_type": "markdown",
   "id": "e89e6c14",
   "metadata": {},
   "source": [
    "## Exercice 4 : Création d'un tableau multidimensionnel avec des nombres aléatoires\n",
    "Instructions\n",
    "Créez un tableau NumPy 2D de forme (4, 5) rempli de nombres aléatoires.\n",
    "\n",
    "Résultat attendu :\n",
    "\n",
    "array([[0.56, 0.85, 0.01, 0.42, 0.68],\n",
    "       [0.22, 0.37, 0.73, 0.93, 0.39],\n",
    "       [0.44, 0.03, 0.87, 0.02, 0.83],\n",
    "       [0.78, 0.87, 0.98, 0.80, 0.46]])"
   ]
  },
  {
   "cell_type": "code",
   "execution_count": null,
   "id": "2d0c2ac5",
   "metadata": {},
   "outputs": [],
   "source": [
    "import numpy as np  # Importation de NumPy"
   ]
  },
  {
   "cell_type": "code",
   "execution_count": 13,
   "id": "85aac1a4",
   "metadata": {},
   "outputs": [],
   "source": [
    "# Étape 1 : Créer un tableau 2D de forme (4, 5) avec des valeurs aléatoires entre 0 et 1\n",
    "# np.random.rand(4, 5) génère un tableau 4x5 de flottants aléatoires uniformes\n",
    "tableau_aleatoire = np.random.rand(4, 5)"
   ]
  },
  {
   "cell_type": "code",
   "execution_count": 23,
   "id": "f3fe8f57",
   "metadata": {},
   "outputs": [],
   "source": [
    "# Étape 2 : Arrondir les valeurs à 2 décimales pour lisibilité (optionnel)\n",
    "tableau_aleatoire = np.round(tableau_aleatoire, 2)"
   ]
  },
  {
   "cell_type": "code",
   "execution_count": 24,
   "id": "59e6d76e",
   "metadata": {},
   "outputs": [
    {
     "name": "stdout",
     "output_type": "stream",
     "text": [
      "[[0.81 0.58 0.03 0.21 0.14]\n",
      " [0.9  0.6  0.38 0.6  0.6 ]\n",
      " [0.29 0.34 0.23 0.32 0.12]\n",
      " [0.31 0.8  0.09 0.93 0.61]]\n"
     ]
    }
   ],
   "source": [
    "# Étape 3 : Affichage du tableau\n",
    "print(tableau_aleatoire)"
   ]
  },
  {
   "cell_type": "markdown",
   "id": "b1d1fc46",
   "metadata": {},
   "source": [
    "## 🌟 Exercice 5 : Indexation des tableaux\n",
    "Instructions\n",
    "Sélectionnez la deuxième ligne d’un tableau NumPy 2D donné.\n",
    "\n",
    "Résultat attendu :\n",
    "\n",
    "\n",
    "\n",
    "array = np.array([[21,22,23,22,22],[20, 21, 22, 23, 24],[21,22,23,22,22]])"
   ]
  },
  {
   "cell_type": "code",
   "execution_count": null,
   "id": "bef4a0a5",
   "metadata": {},
   "outputs": [],
   "source": [
    "import numpy as np  # Importation de NumPy"
   ]
  },
  {
   "cell_type": "code",
   "execution_count": 25,
   "id": "1d679d09",
   "metadata": {},
   "outputs": [],
   "source": [
    "# Étape 1 : Définir le tableau 2D\n",
    "array = np.array([\n",
    "    [21, 22, 23, 22, 22],\n",
    "    [20, 21, 22, 23, 24],\n",
    "    [21, 22, 23, 22, 22]\n",
    "])"
   ]
  },
  {
   "cell_type": "code",
   "execution_count": 26,
   "id": "89969895",
   "metadata": {},
   "outputs": [],
   "source": [
    "# Étape 2 : Sélection de la deuxième ligne (index 1, car l’indexation commence à 0)\n",
    "deuxieme_ligne = array[1]"
   ]
  },
  {
   "cell_type": "code",
   "execution_count": 27,
   "id": "9979f5f0",
   "metadata": {},
   "outputs": [
    {
     "name": "stdout",
     "output_type": "stream",
     "text": [
      "[20 21 22 23 24]\n"
     ]
    }
   ],
   "source": [
    "# Étape 3 : Affichage de la ligne extraite\n",
    "print(deuxieme_ligne)"
   ]
  },
  {
   "cell_type": "markdown",
   "id": "6ff8c94b",
   "metadata": {},
   "source": [
    "## 🌟 Exercice 6 : Inversion des éléments\n",
    "Instructions\n",
    "Inverse l'ordre des éléments dans un tableau NumPy 1D donné (le premier élément devient le dernier).\n",
    "\n",
    "Résultat attendu :\n",
    "\n",
    "\n",
    "\n",
    "array([9, 8, 7, 6, 5, 4, 3, 2, 1, 0])"
   ]
  },
  {
   "cell_type": "code",
   "execution_count": 28,
   "id": "9f86bf9e",
   "metadata": {},
   "outputs": [],
   "source": [
    "import numpy as np  # Importation de NumPy"
   ]
  },
  {
   "cell_type": "code",
   "execution_count": 29,
   "id": "45f13c22",
   "metadata": {},
   "outputs": [],
   "source": [
    "# Étape 1 : Création du tableau initial de 0 à 9\n",
    "tableau = np.arange(10)"
   ]
  },
  {
   "cell_type": "code",
   "execution_count": 30,
   "id": "7acc709e",
   "metadata": {},
   "outputs": [],
   "source": [
    "# Étape 2 : Inversion de l'ordre des éléments avec slicing\n",
    "tableau_inverse = tableau[::-1]"
   ]
  },
  {
   "cell_type": "code",
   "execution_count": 31,
   "id": "7c5ce8e8",
   "metadata": {},
   "outputs": [
    {
     "name": "stdout",
     "output_type": "stream",
     "text": [
      "[9 8 7 6 5 4 3 2 1 0]\n"
     ]
    }
   ],
   "source": [
    "# Étape 3 : Affichage du tableau inversé\n",
    "print(tableau_inverse)"
   ]
  },
  {
   "cell_type": "markdown",
   "id": "fce02304",
   "metadata": {},
   "source": [
    "## 🌟 Exercice 7 : Matrice d'identité\n",
    "Instructions\n",
    "Créez une matrice d'identité 4x4 à l'aide de NumPy.\n",
    "\n",
    "Résultat attendu :\n",
    "\n",
    "\n",
    "\n",
    "array([[1., 0., 0., 0.],\n",
    "       [0., 1., 0., 0.],\n",
    "       [0., 0., 1., 0.],\n",
    "       [0., 0., 0., 1.]])"
   ]
  },
  {
   "cell_type": "code",
   "execution_count": 32,
   "id": "b79b50d2",
   "metadata": {},
   "outputs": [],
   "source": [
    "import numpy as np  # Importation de NumPy"
   ]
  },
  {
   "cell_type": "code",
   "execution_count": 33,
   "id": "ea5ac8e0",
   "metadata": {},
   "outputs": [],
   "source": [
    "# Étape 1 : Création d'une matrice identité de taille 4x4\n",
    "# np.eye(n) génère une matrice identité de taille n\n",
    "matrice_identite = np.eye(4)"
   ]
  },
  {
   "cell_type": "code",
   "execution_count": 34,
   "id": "88628950",
   "metadata": {},
   "outputs": [
    {
     "name": "stdout",
     "output_type": "stream",
     "text": [
      "[[1. 0. 0. 0.]\n",
      " [0. 1. 0. 0.]\n",
      " [0. 0. 1. 0.]\n",
      " [0. 0. 0. 1.]]\n"
     ]
    }
   ],
   "source": [
    "# Étape 2 : Affichage de la matrice\n",
    "print(matrice_identite)"
   ]
  },
  {
   "cell_type": "markdown",
   "id": "385d5fd6",
   "metadata": {},
   "source": [
    "## 🌟 Exercice 8 : Fonctions d'agrégation simples\n",
    "Instructions\n",
    "Trouvez la somme et la moyenne d'un tableau 1D donné.\n",
    "\n",
    "Résultat attendu :\n",
    "\n",
    "\n",
    "\n",
    "Sum: 45, Average: 4.5"
   ]
  },
  {
   "cell_type": "code",
   "execution_count": 35,
   "id": "13627d87",
   "metadata": {},
   "outputs": [],
   "source": [
    "import numpy as np  # Importation de NumPy"
   ]
  },
  {
   "cell_type": "code",
   "execution_count": 36,
   "id": "e7c93186",
   "metadata": {},
   "outputs": [],
   "source": [
    "# Étape 1 : Création du tableau 1D\n",
    "tableau = np.array([0, 1, 2, 3, 4, 5, 6, 7, 8, 9])"
   ]
  },
  {
   "cell_type": "code",
   "execution_count": 37,
   "id": "a628edde",
   "metadata": {},
   "outputs": [],
   "source": [
    "# Étape 2 : Calcul de la somme des éléments\n",
    "somme = np.sum(tableau)"
   ]
  },
  {
   "cell_type": "code",
   "execution_count": 38,
   "id": "513cff35",
   "metadata": {},
   "outputs": [],
   "source": [
    "# Étape 3 : Calcul de la moyenne des éléments\n",
    "moyenne = np.mean(tableau)"
   ]
  },
  {
   "cell_type": "code",
   "execution_count": 39,
   "id": "5ac128a5",
   "metadata": {},
   "outputs": [
    {
     "name": "stdout",
     "output_type": "stream",
     "text": [
      "Sum: 45 , Average: 4.5\n"
     ]
    }
   ],
   "source": [
    "# Étape 4 : Affichage des résultats\n",
    "print(\"Sum:\", somme, \", Average:\", moyenne)"
   ]
  },
  {
   "cell_type": "markdown",
   "id": "b832d92a",
   "metadata": {},
   "source": [
    "## Exercice 9 : Créer un tableau et modifier sa structure\n",
    "Instructions\n",
    "Créez un tableau NumPy avec des éléments de 1 à 20 ; puis remodelez-le en une matrice 4x5.\n",
    "\n",
    "Résultat attendu :\n",
    "\n",
    "\n",
    "\n",
    "array([[ 1,  2,  3,  4,  5],\n",
    "       [ 6,  7,  8,  9, 10],\n",
    "       [11, 12, 13, 14, 15],\n",
    "       [16, 17, 18, 19, 20]])\n"
   ]
  },
  {
   "cell_type": "code",
   "execution_count": 40,
   "id": "bdff4042",
   "metadata": {},
   "outputs": [],
   "source": [
    "import numpy as np  # Importation de NumPy"
   ]
  },
  {
   "cell_type": "code",
   "execution_count": 41,
   "id": "daa5526b",
   "metadata": {},
   "outputs": [],
   "source": [
    "# Étape 1 : Créer un tableau contenant les entiers de 1 à 20\n",
    "tableau = np.arange(1, 21)"
   ]
  },
  {
   "cell_type": "code",
   "execution_count": 42,
   "id": "dbc1741d",
   "metadata": {},
   "outputs": [],
   "source": [
    "# Étape 2 : Remodeler le tableau en matrice 4x5\n",
    "matrice = tableau.reshape((4, 5))"
   ]
  },
  {
   "cell_type": "code",
   "execution_count": 43,
   "id": "5d243904",
   "metadata": {},
   "outputs": [
    {
     "name": "stdout",
     "output_type": "stream",
     "text": [
      "[[ 1  2  3  4  5]\n",
      " [ 6  7  8  9 10]\n",
      " [11 12 13 14 15]\n",
      " [16 17 18 19 20]]\n"
     ]
    }
   ],
   "source": [
    "# Étape 3 : Affichage de la matrice résultante\n",
    "print(matrice)"
   ]
  },
  {
   "cell_type": "markdown",
   "id": "01ba9630",
   "metadata": {},
   "source": [
    "## 🌟 Exercice 10 : Sélection conditionnelle de valeurs\n",
    "Instructions\n",
    "Extraire tous les nombres impairs d'un tableau NumPy donné.\n",
    "\n",
    "Résultat attendu :\n",
    "\n",
    "\n",
    "\n",
    "array([1, 3, 5, 7, 9])"
   ]
  },
  {
   "cell_type": "code",
   "execution_count": 44,
   "id": "61ee4d75",
   "metadata": {},
   "outputs": [],
   "source": [
    "import numpy as np  # Importation de NumPy"
   ]
  },
  {
   "cell_type": "code",
   "execution_count": 45,
   "id": "13050d05",
   "metadata": {},
   "outputs": [],
   "source": [
    "# Étape 1 : Créer un tableau 1D de 0 à 9\n",
    "tableau = np.arange(10)"
   ]
  },
  {
   "cell_type": "code",
   "execution_count": 46,
   "id": "08e72341",
   "metadata": {},
   "outputs": [],
   "source": [
    "# Étape 2 : Sélectionner les éléments impairs avec une condition\n",
    "# Un nombre est impair si le reste de la division par 2 est 1\n",
    "impairs = tableau[tableau % 2 == 1]"
   ]
  },
  {
   "cell_type": "code",
   "execution_count": 47,
   "id": "c015ed49",
   "metadata": {},
   "outputs": [
    {
     "name": "stdout",
     "output_type": "stream",
     "text": [
      "[1 3 5 7 9]\n"
     ]
    }
   ],
   "source": [
    "# Étape 3 : Affichage du résultat\n",
    "print(impairs)"
   ]
  }
 ],
 "metadata": {
  "kernelspec": {
   "display_name": "base",
   "language": "python",
   "name": "python3"
  },
  "language_info": {
   "codemirror_mode": {
    "name": "ipython",
    "version": 3
   },
   "file_extension": ".py",
   "mimetype": "text/x-python",
   "name": "python",
   "nbconvert_exporter": "python",
   "pygments_lexer": "ipython3",
   "version": "3.12.7"
  }
 },
 "nbformat": 4,
 "nbformat_minor": 5
}
