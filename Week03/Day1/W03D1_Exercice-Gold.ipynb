{
 "cells": [
  {
   "cell_type": "markdown",
   "id": "8980fc58",
   "metadata": {},
   "source": [
    "# Exercices XP Gold\n",
    "Dernière mise à jour : 20 novembre 2024\n",
    "\n",
    "👩‍🏫 👩🏿‍🏫 Ce que vous apprendrez\n",
    "Techniques avancées dans NumPy pour la gestion des tableaux aléatoires, la normalisation des matrices et l'espacement des tableaux.\n",
    "Compétences pour trouver le minimum, le maximum et effectuer une normalisation sur des matrices.\n",
    "\n",
    "\n",
    "🛠️ Ce que vous allez créer\n",
    "Tableaux NumPy avancés, comprenant un tableau 5x5 avec des valeurs aléatoires, une matrice 3x3 normalisée et des éléments régulièrement espacés dans un tableau.\n",
    "\n",
    "\n",
    "Brève introduction aux matrices\n",
    "Qu'est-ce qu'une matrice en Python et NumPy ?\n",
    "\n",
    "Une matrice est un tableau bidimensionnel de nombres disposés en lignes et en colonnes. En Python, les matrices peuvent être représentées par des listes de listes ou, plus efficacement, par des tableaux NumPy.\n",
    "NumPy fournit un moyen puissant et efficace de travailler avec des matrices, offrant diverses fonctions pour les opérations matricielles.\n",
    "Exemple de matrice :\n",
    "\n",
    "\n",
    "\n",
    "# Example of a 3x3 matrix using NumPy\n",
    "import numpy as np\n",
    "matrix_example = np.array([[1, 2, 3], [4, 5, 6], [7, 8, 9]])\n",
    "print(matrix_example)\n"
   ]
  },
  {
   "cell_type": "markdown",
   "id": "83071374",
   "metadata": {},
   "source": [
    "## Exercice 1 : Minimum et maximum d'un tableau aléatoire\n",
    "Instructions\n",
    "Créez un tableau 5x5 avec des valeurs aléatoires et trouvez les valeurs minimales et maximales.\n",
    "\n",
    "Résultat attendu :\n",
    "\n",
    "\n",
    "\n",
    "Min: 0.01, Max: 0.99"
   ]
  },
  {
   "cell_type": "code",
   "execution_count": 2,
   "id": "69d76be3",
   "metadata": {},
   "outputs": [],
   "source": [
    "import numpy as np  # Importation de NumPy"
   ]
  },
  {
   "cell_type": "code",
   "execution_count": 3,
   "id": "b8bd30b7",
   "metadata": {},
   "outputs": [],
   "source": [
    "# Étape 1 : Créer un tableau 5x5 avec des valeurs aléatoires entre 0 et 1\n",
    "tableau = np.random.rand(5, 5)"
   ]
  },
  {
   "cell_type": "code",
   "execution_count": 4,
   "id": "4635772e",
   "metadata": {},
   "outputs": [],
   "source": [
    "# Étape 2 : Trouver les valeurs minimale et maximale du tableau\n",
    "val_min = np.min(tableau)\n",
    "val_max = np.max(tableau)"
   ]
  },
  {
   "cell_type": "code",
   "execution_count": 5,
   "id": "515ec846",
   "metadata": {},
   "outputs": [],
   "source": [
    "# Étape 3 : Arrondir les résultats pour lisibilité\n",
    "val_min = round(val_min, 2)\n",
    "val_max = round(val_max, 2)"
   ]
  },
  {
   "cell_type": "code",
   "execution_count": 6,
   "id": "69120776",
   "metadata": {},
   "outputs": [
    {
     "name": "stdout",
     "output_type": "stream",
     "text": [
      "Min: 0.01 , Max: 0.98\n"
     ]
    }
   ],
   "source": [
    "# Étape 4 : Affichage des résultats\n",
    "print(\"Min:\", val_min, \", Max:\", val_max)"
   ]
  },
  {
   "cell_type": "markdown",
   "id": "9f9f37d9",
   "metadata": {},
   "source": [
    "## Exercice 2 : Normalisation de matrice\n",
    "Instructions\n",
    "Normaliser une matrice aléatoire 3x3 (soustraire la moyenne et diviser par l'écart type de la matrice).\n",
    "\n",
    "Résultat attendu :\n",
    "\n",
    "\n",
    "\n",
    "array([[-1.22474487,  1.22474487],\n",
    "       [ 0.        ,  0.        ]])"
   ]
  },
  {
   "cell_type": "code",
   "execution_count": 7,
   "id": "eaba800d",
   "metadata": {},
   "outputs": [],
   "source": [
    "import numpy as np  # Importation de NumPy"
   ]
  },
  {
   "cell_type": "code",
   "execution_count": 8,
   "id": "6c8b67ec",
   "metadata": {},
   "outputs": [],
   "source": [
    "# Étape 1 : Créer une matrice 3x3 avec des valeurs aléatoires\n",
    "matrice = np.random.rand(3, 3)"
   ]
  },
  {
   "cell_type": "code",
   "execution_count": 9,
   "id": "56b412b8",
   "metadata": {},
   "outputs": [],
   "source": [
    "# Étape 2 : Calcul de la moyenne et de l'écart type\n",
    "moyenne = np.mean(matrice)\n",
    "ecart_type = np.std(matrice)"
   ]
  },
  {
   "cell_type": "code",
   "execution_count": 10,
   "id": "342384ab",
   "metadata": {},
   "outputs": [],
   "source": [
    "# Étape 3 : Normalisation de la matrice\n",
    "# Chaque valeur devient : (valeur - moyenne) / écart-type\n",
    "matrice_normalisee = (matrice - moyenne) / ecart_type"
   ]
  },
  {
   "cell_type": "code",
   "execution_count": 11,
   "id": "46639813",
   "metadata": {},
   "outputs": [
    {
     "name": "stdout",
     "output_type": "stream",
     "text": [
      "[[ 0.40854559 -0.99369978  0.23285991]\n",
      " [-0.96976932 -0.21803729  1.28313249]\n",
      " [-1.6608591   1.48783795  0.42998955]]\n"
     ]
    }
   ],
   "source": [
    "# Étape 4 : Affichage du résultat\n",
    "print(matrice_normalisee)"
   ]
  },
  {
   "cell_type": "markdown",
   "id": "7e09fd6f",
   "metadata": {},
   "source": [
    "## Exercice 3 : Éléments régulièrement espacés dans un tableau\n",
    "Instructions\n",
    "Créez un tableau 1D de 50 éléments régulièrement espacés entre 0 et 10, exclusifs.\n",
    "\n",
    "Résultat attendu :\n",
    "\n",
    "\n",
    "\n",
    "array([0. , 0.2, 0.4, ..., 9.6, 9.8, 10.])"
   ]
  },
  {
   "cell_type": "code",
   "execution_count": 12,
   "id": "0a77e72b",
   "metadata": {},
   "outputs": [],
   "source": [
    "import numpy as np  # Importation de NumPy"
   ]
  },
  {
   "cell_type": "code",
   "execution_count": 13,
   "id": "cdc6c886",
   "metadata": {},
   "outputs": [],
   "source": [
    "# Étape 1 : Créer un tableau 1D de 50 valeurs espacées entre 0 et 10\n",
    "# np.linspace génère des valeurs espacées de façon linéaire\n",
    "tableau = np.linspace(0, 10, 50)"
   ]
  },
  {
   "cell_type": "code",
   "execution_count": 14,
   "id": "0f56e8b2",
   "metadata": {},
   "outputs": [
    {
     "name": "stdout",
     "output_type": "stream",
     "text": [
      "[ 0.          0.20408163  0.40816327  0.6122449   0.81632653  1.02040816\n",
      "  1.2244898   1.42857143  1.63265306  1.83673469  2.04081633  2.24489796\n",
      "  2.44897959  2.65306122  2.85714286  3.06122449  3.26530612  3.46938776\n",
      "  3.67346939  3.87755102  4.08163265  4.28571429  4.48979592  4.69387755\n",
      "  4.89795918  5.10204082  5.30612245  5.51020408  5.71428571  5.91836735\n",
      "  6.12244898  6.32653061  6.53061224  6.73469388  6.93877551  7.14285714\n",
      "  7.34693878  7.55102041  7.75510204  7.95918367  8.16326531  8.36734694\n",
      "  8.57142857  8.7755102   8.97959184  9.18367347  9.3877551   9.59183673\n",
      "  9.79591837 10.        ]\n"
     ]
    }
   ],
   "source": [
    "# Étape 2 : Affichage du tableau\n",
    "print(tableau)"
   ]
  },
  {
   "cell_type": "markdown",
   "id": "d519fd45",
   "metadata": {},
   "source": [
    "## Exercice 4 : Multiplication de matrices\n",
    "Instructions\n",
    "Multiplier une matrice 5x3 par une matrice 3x2 (produit matriciel réel).\n",
    "\n",
    "Résultat attendu :\n",
    "\n",
    "\n",
    "\n",
    "array([[ 8.79,  6.73],\n",
    "       [12.87,  9.77],\n",
    "       [16.92, 12.83],\n",
    "       [20.98, 15.89],\n",
    "       [25.04, 18.95]])"
   ]
  },
  {
   "cell_type": "code",
   "execution_count": 15,
   "id": "d156eb11",
   "metadata": {},
   "outputs": [],
   "source": [
    "import numpy as np  # Importation de NumPy"
   ]
  },
  {
   "cell_type": "code",
   "execution_count": 16,
   "id": "79863e41",
   "metadata": {},
   "outputs": [],
   "source": [
    "# Étape 1 : Définir une matrice 5x3\n",
    "A = np.array([\n",
    "    [1, 2, 3],\n",
    "    [4, 5, 6],\n",
    "    [7, 8, 9],\n",
    "    [10, 11, 12],\n",
    "    [13, 14, 15]\n",
    "])"
   ]
  },
  {
   "cell_type": "code",
   "execution_count": 17,
   "id": "14e1dec2",
   "metadata": {},
   "outputs": [],
   "source": [
    "# Étape 2 : Définir une matrice 3x2\n",
    "B = np.array([\n",
    "    [0.5, 0.2],\n",
    "    [1.0, 0.4],\n",
    "    [1.5, 0.6]\n",
    "])"
   ]
  },
  {
   "cell_type": "code",
   "execution_count": 18,
   "id": "d4f7d076",
   "metadata": {},
   "outputs": [],
   "source": [
    "# Étape 3 : Effectuer le produit matriciel\n",
    "# Utiliser np.dot() ou l'opérateur @\n",
    "resultat = A.dot(B)  # ou A @ B"
   ]
  },
  {
   "cell_type": "code",
   "execution_count": 19,
   "id": "3671d6d6",
   "metadata": {},
   "outputs": [
    {
     "name": "stdout",
     "output_type": "stream",
     "text": [
      "[[ 7.   2.8]\n",
      " [16.   6.4]\n",
      " [25.  10. ]\n",
      " [34.  13.6]\n",
      " [43.  17.2]]\n"
     ]
    }
   ],
   "source": [
    "# Étape 4 : Affichage du résultat\n",
    "print(np.round(resultat, 2))"
   ]
  },
  {
   "cell_type": "markdown",
   "id": "97684e8f",
   "metadata": {},
   "source": [
    "## Exercice 5\n",
    "Instructions\n",
    "Utilisez votre compréhension de la multiplication matricielle pour résoudre cet exercice.\n",
    "Créez deux matrices de dimensions compatibles.\n",
    "Effectuez une multiplication matricielle sur ces matrices et affichez le résultat.\n",
    "Assurez-vous que les dimensions des matrices permettent une multiplication valide.\n",
    "Conseil : n'oubliez pas que le nombre de colonnes de la première matrice doit correspondre au nombre de lignes de la deuxième matrice pour une multiplication réussie."
   ]
  },
  {
   "cell_type": "code",
   "execution_count": 20,
   "id": "62ab5085",
   "metadata": {},
   "outputs": [],
   "source": [
    "import numpy as np  # Import de NumPy"
   ]
  },
  {
   "cell_type": "code",
   "execution_count": 21,
   "id": "cdd71448",
   "metadata": {},
   "outputs": [],
   "source": [
    "# Étape 1 : Créer une matrice A de dimension 3x4\n",
    "A = np.array([\n",
    "    [1, 2, 3, 4],\n",
    "    [5, 6, 7, 8],\n",
    "    [9, 10, 11, 12]\n",
    "])"
   ]
  },
  {
   "cell_type": "code",
   "execution_count": 22,
   "id": "d62a597a",
   "metadata": {},
   "outputs": [],
   "source": [
    "# Étape 2 : Créer une matrice B de dimension 4x2 (compatible avec A)\n",
    "B = np.array([\n",
    "    [2, 0],\n",
    "    [1, 2],\n",
    "    [0, 1],\n",
    "    [3, 4]\n",
    "])\n"
   ]
  },
  {
   "cell_type": "code",
   "execution_count": 23,
   "id": "d5e0b08b",
   "metadata": {},
   "outputs": [],
   "source": [
    "# Étape 3 : Effectuer la multiplication matricielle A x B\n",
    "resultat = A.dot(B)  # ou A @ B"
   ]
  },
  {
   "cell_type": "code",
   "execution_count": 24,
   "id": "7141f4ae",
   "metadata": {},
   "outputs": [
    {
     "name": "stdout",
     "output_type": "stream",
     "text": [
      "[[16 23]\n",
      " [40 51]\n",
      " [64 79]]\n"
     ]
    }
   ],
   "source": [
    "# Étape 4 : Afficher le résultat\n",
    "print(resultat)"
   ]
  }
 ],
 "metadata": {
  "kernelspec": {
   "display_name": "base",
   "language": "python",
   "name": "python3"
  },
  "language_info": {
   "codemirror_mode": {
    "name": "ipython",
    "version": 3
   },
   "file_extension": ".py",
   "mimetype": "text/x-python",
   "name": "python",
   "nbconvert_exporter": "python",
   "pygments_lexer": "ipython3",
   "version": "3.12.7"
  }
 },
 "nbformat": 4,
 "nbformat_minor": 5
}
