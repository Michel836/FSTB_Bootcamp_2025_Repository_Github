{
 "cells": [
  {
   "cell_type": "markdown",
   "id": "134c8fb7",
   "metadata": {},
   "source": [
    "# Analyse des accidents d'avion\n",
    "Dernière mise à jour : 27 janvier 2025\n",
    "\n",
    "Défi quotidien : analyse des accidents d'avion et des décès"
   ]
  },
  {
   "cell_type": "markdown",
   "id": "e5f13600",
   "metadata": {},
   "source": [
    "### Objectif:\n",
    "Utilisez Python, Pandas, NumPy et SciPy pour réaliser une analyse approfondie de l'ensemble de données « Crashs et décès d'avions jusqu'en 2023 ». Ce défi comprendra le nettoyage des données, l'analyse exploratoire, les tests statistiques et la visualisation afin d'en tirer des enseignements pertinents.\n",
    "\n",
    "\n",
    "\n",
    "### Ensemble de données :\n",
    "Utilisez l'ensemble de données « Crashs et décès d'avion jusqu'en 2023 », qui fournit des informations complètes sur les accidents d'avion, notamment les dates, les lieux, les décès, etc. Accédez à l'ensemble de données ici ."
   ]
  },
  {
   "cell_type": "code",
   "execution_count": 13,
   "id": "262f85d5",
   "metadata": {},
   "outputs": [],
   "source": [
    "# Import des bibliothèques nécessaires\n",
    "import pandas as pd\n",
    "import numpy as np\n",
    "import matplotlib.pyplot as plt\n",
    "import seaborn as sns\n",
    "from scipy import stats"
   ]
  },
  {
   "cell_type": "code",
   "execution_count": null,
   "id": "7335409b",
   "metadata": {},
   "outputs": [],
   "source": [
    "import pandas as pd  # ← à ajouter impérativement\n",
    "\n",
    "# Chargement du fichier CSV avec encodage compatible\n",
    "df = pd.read_csv(\"Airplane_Crashes_and_Fatalities_Since_1908_t0_2023.csv\", encoding='latin1')\n"
   ]
  },
  {
   "cell_type": "code",
   "execution_count": 15,
   "id": "006b3971",
   "metadata": {},
   "outputs": [
    {
     "data": {
      "application/vnd.microsoft.datawrangler.viewer.v0+json": {
       "columns": [
        {
         "name": "index",
         "rawType": "int64",
         "type": "integer"
        },
        {
         "name": "Date",
         "rawType": "object",
         "type": "string"
        },
        {
         "name": "Time",
         "rawType": "object",
         "type": "unknown"
        },
        {
         "name": "Location",
         "rawType": "object",
         "type": "string"
        },
        {
         "name": "Operator",
         "rawType": "object",
         "type": "unknown"
        },
        {
         "name": "Flight #",
         "rawType": "object",
         "type": "unknown"
        },
        {
         "name": "Route",
         "rawType": "object",
         "type": "unknown"
        },
        {
         "name": "AC Type",
         "rawType": "object",
         "type": "string"
        },
        {
         "name": "Registration",
         "rawType": "object",
         "type": "unknown"
        },
        {
         "name": "cn/ln",
         "rawType": "object",
         "type": "unknown"
        },
        {
         "name": "Aboard",
         "rawType": "float64",
         "type": "float"
        },
        {
         "name": "Aboard Passangers",
         "rawType": "float64",
         "type": "float"
        },
        {
         "name": "Aboard Crew",
         "rawType": "float64",
         "type": "float"
        },
        {
         "name": "Fatalities",
         "rawType": "float64",
         "type": "float"
        },
        {
         "name": "Fatalities Passangers",
         "rawType": "float64",
         "type": "float"
        },
        {
         "name": "Fatalities Crew",
         "rawType": "float64",
         "type": "float"
        },
        {
         "name": "Ground",
         "rawType": "float64",
         "type": "float"
        },
        {
         "name": "Summary",
         "rawType": "object",
         "type": "string"
        }
       ],
       "ref": "17a641b0-530b-45f7-9061-25b6ca198883",
       "rows": [
        [
         "0",
         "9/17/1908",
         "17:18",
         "Fort Myer, Virginia",
         "Military - U.S. Army",
         null,
         "Demonstration",
         "Wright Flyer III",
         null,
         "1",
         "2.0",
         "1.0",
         "1.0",
         "1.0",
         "1.0",
         "0.0",
         "0.0",
         "During a demonstration flight, a U.S. Army flyer flown by Orville Wright nose-dived into the ground from a height of approximately 75 feet, killing Lt. Thomas E. Selfridge, 26, who was a passenger. This was the first recorded airplane fatality in history.  One of two propellers separated in flight, tearing loose the wires bracing the rudder and causing the loss of control of the aircraft.  Orville Wright suffered broken ribs, pelvis and a leg.  Selfridge suffered a crushed skull and died a short time later."
        ],
        [
         "1",
         "9/7/1909",
         null,
         "Juvisy-sur-Orge, France",
         null,
         null,
         "Air show",
         "Wright Byplane",
         "SC1",
         null,
         "1.0",
         "0.0",
         "1.0",
         "1.0",
         "0.0",
         "0.0",
         "0.0",
         "Eugene Lefebvre was the first pilot to ever be killed in an air accident, after his controls jambed while flying in an air show."
        ],
        [
         "2",
         "7/12/1912",
         "6:30",
         "Atlantic City, New Jersey",
         "Military - U.S. Navy",
         null,
         "Test flight",
         "Dirigible",
         null,
         null,
         "5.0",
         "0.0",
         "5.0",
         "5.0",
         "0.0",
         "5.0",
         "0.0",
         "First U.S. dirigible Akron exploded just offshore at an altitude of 1,000 ft. during a test flight."
        ],
        [
         "3",
         "8/6/1913",
         null,
         "Victoria, British Columbia, Canada",
         "Private",
         null,
         null,
         "Curtiss seaplane",
         null,
         null,
         "1.0",
         "0.0",
         "1.0",
         "1.0",
         "0.0",
         "1.0",
         "0.0",
         "The first fatal airplane accident in Canada occurred when American barnstormer, John M. Bryant, California aviator was killed."
        ],
        [
         "4",
         "9/9/1913",
         "18:30",
         "Over the North Sea",
         "Military - German Navy",
         null,
         null,
         "Zeppelin L-1 (airship)",
         null,
         null,
         "20.0",
         null,
         null,
         "14.0",
         null,
         null,
         "0.0",
         "The airship flew into a thunderstorm and encountered a severe downdraft crashing 20 miles north of Helgoland Island into the sea. The ship broke in two and the control car immediately sank drowning its occupants."
        ]
       ],
       "shape": {
        "columns": 17,
        "rows": 5
       }
      },
      "text/html": [
       "<div>\n",
       "<style scoped>\n",
       "    .dataframe tbody tr th:only-of-type {\n",
       "        vertical-align: middle;\n",
       "    }\n",
       "\n",
       "    .dataframe tbody tr th {\n",
       "        vertical-align: top;\n",
       "    }\n",
       "\n",
       "    .dataframe thead th {\n",
       "        text-align: right;\n",
       "    }\n",
       "</style>\n",
       "<table border=\"1\" class=\"dataframe\">\n",
       "  <thead>\n",
       "    <tr style=\"text-align: right;\">\n",
       "      <th></th>\n",
       "      <th>Date</th>\n",
       "      <th>Time</th>\n",
       "      <th>Location</th>\n",
       "      <th>Operator</th>\n",
       "      <th>Flight #</th>\n",
       "      <th>Route</th>\n",
       "      <th>AC Type</th>\n",
       "      <th>Registration</th>\n",
       "      <th>cn/ln</th>\n",
       "      <th>Aboard</th>\n",
       "      <th>Aboard Passangers</th>\n",
       "      <th>Aboard Crew</th>\n",
       "      <th>Fatalities</th>\n",
       "      <th>Fatalities Passangers</th>\n",
       "      <th>Fatalities Crew</th>\n",
       "      <th>Ground</th>\n",
       "      <th>Summary</th>\n",
       "    </tr>\n",
       "  </thead>\n",
       "  <tbody>\n",
       "    <tr>\n",
       "      <th>0</th>\n",
       "      <td>9/17/1908</td>\n",
       "      <td>17:18</td>\n",
       "      <td>Fort Myer, Virginia</td>\n",
       "      <td>Military - U.S. Army</td>\n",
       "      <td>NaN</td>\n",
       "      <td>Demonstration</td>\n",
       "      <td>Wright Flyer III</td>\n",
       "      <td>NaN</td>\n",
       "      <td>1</td>\n",
       "      <td>2.0</td>\n",
       "      <td>1.0</td>\n",
       "      <td>1.0</td>\n",
       "      <td>1.0</td>\n",
       "      <td>1.0</td>\n",
       "      <td>0.0</td>\n",
       "      <td>0.0</td>\n",
       "      <td>During a demonstration flight, a U.S. Army fly...</td>\n",
       "    </tr>\n",
       "    <tr>\n",
       "      <th>1</th>\n",
       "      <td>9/7/1909</td>\n",
       "      <td>NaN</td>\n",
       "      <td>Juvisy-sur-Orge, France</td>\n",
       "      <td>NaN</td>\n",
       "      <td>NaN</td>\n",
       "      <td>Air show</td>\n",
       "      <td>Wright Byplane</td>\n",
       "      <td>SC1</td>\n",
       "      <td>NaN</td>\n",
       "      <td>1.0</td>\n",
       "      <td>0.0</td>\n",
       "      <td>1.0</td>\n",
       "      <td>1.0</td>\n",
       "      <td>0.0</td>\n",
       "      <td>0.0</td>\n",
       "      <td>0.0</td>\n",
       "      <td>Eugene Lefebvre was the first pilot to ever be...</td>\n",
       "    </tr>\n",
       "    <tr>\n",
       "      <th>2</th>\n",
       "      <td>7/12/1912</td>\n",
       "      <td>6:30</td>\n",
       "      <td>Atlantic City, New Jersey</td>\n",
       "      <td>Military - U.S. Navy</td>\n",
       "      <td>NaN</td>\n",
       "      <td>Test flight</td>\n",
       "      <td>Dirigible</td>\n",
       "      <td>NaN</td>\n",
       "      <td>NaN</td>\n",
       "      <td>5.0</td>\n",
       "      <td>0.0</td>\n",
       "      <td>5.0</td>\n",
       "      <td>5.0</td>\n",
       "      <td>0.0</td>\n",
       "      <td>5.0</td>\n",
       "      <td>0.0</td>\n",
       "      <td>First U.S. dirigible Akron exploded just offsh...</td>\n",
       "    </tr>\n",
       "    <tr>\n",
       "      <th>3</th>\n",
       "      <td>8/6/1913</td>\n",
       "      <td>NaN</td>\n",
       "      <td>Victoria, British Columbia, Canada</td>\n",
       "      <td>Private</td>\n",
       "      <td>NaN</td>\n",
       "      <td>NaN</td>\n",
       "      <td>Curtiss seaplane</td>\n",
       "      <td>NaN</td>\n",
       "      <td>NaN</td>\n",
       "      <td>1.0</td>\n",
       "      <td>0.0</td>\n",
       "      <td>1.0</td>\n",
       "      <td>1.0</td>\n",
       "      <td>0.0</td>\n",
       "      <td>1.0</td>\n",
       "      <td>0.0</td>\n",
       "      <td>The first fatal airplane accident in Canada oc...</td>\n",
       "    </tr>\n",
       "    <tr>\n",
       "      <th>4</th>\n",
       "      <td>9/9/1913</td>\n",
       "      <td>18:30</td>\n",
       "      <td>Over the North Sea</td>\n",
       "      <td>Military - German Navy</td>\n",
       "      <td>NaN</td>\n",
       "      <td>NaN</td>\n",
       "      <td>Zeppelin L-1 (airship)</td>\n",
       "      <td>NaN</td>\n",
       "      <td>NaN</td>\n",
       "      <td>20.0</td>\n",
       "      <td>NaN</td>\n",
       "      <td>NaN</td>\n",
       "      <td>14.0</td>\n",
       "      <td>NaN</td>\n",
       "      <td>NaN</td>\n",
       "      <td>0.0</td>\n",
       "      <td>The airship flew into a thunderstorm and encou...</td>\n",
       "    </tr>\n",
       "  </tbody>\n",
       "</table>\n",
       "</div>"
      ],
      "text/plain": [
       "        Date   Time                            Location  \\\n",
       "0  9/17/1908  17:18                 Fort Myer, Virginia   \n",
       "1   9/7/1909    NaN             Juvisy-sur-Orge, France   \n",
       "2  7/12/1912   6:30           Atlantic City, New Jersey   \n",
       "3   8/6/1913    NaN  Victoria, British Columbia, Canada   \n",
       "4   9/9/1913  18:30                  Over the North Sea   \n",
       "\n",
       "                 Operator Flight #          Route                 AC Type  \\\n",
       "0    Military - U.S. Army      NaN  Demonstration        Wright Flyer III   \n",
       "1                     NaN      NaN       Air show          Wright Byplane   \n",
       "2    Military - U.S. Navy      NaN    Test flight               Dirigible   \n",
       "3                 Private      NaN            NaN        Curtiss seaplane   \n",
       "4  Military - German Navy      NaN            NaN  Zeppelin L-1 (airship)   \n",
       "\n",
       "  Registration cn/ln  Aboard  Aboard Passangers  Aboard Crew  Fatalities  \\\n",
       "0          NaN     1     2.0                1.0          1.0         1.0   \n",
       "1          SC1   NaN     1.0                0.0          1.0         1.0   \n",
       "2          NaN   NaN     5.0                0.0          5.0         5.0   \n",
       "3          NaN   NaN     1.0                0.0          1.0         1.0   \n",
       "4          NaN   NaN    20.0                NaN          NaN        14.0   \n",
       "\n",
       "   Fatalities Passangers  Fatalities Crew  Ground  \\\n",
       "0                    1.0              0.0     0.0   \n",
       "1                    0.0              0.0     0.0   \n",
       "2                    0.0              5.0     0.0   \n",
       "3                    0.0              1.0     0.0   \n",
       "4                    NaN              NaN     0.0   \n",
       "\n",
       "                                             Summary  \n",
       "0  During a demonstration flight, a U.S. Army fly...  \n",
       "1  Eugene Lefebvre was the first pilot to ever be...  \n",
       "2  First U.S. dirigible Akron exploded just offsh...  \n",
       "3  The first fatal airplane accident in Canada oc...  \n",
       "4  The airship flew into a thunderstorm and encou...  "
      ]
     },
     "execution_count": 15,
     "metadata": {},
     "output_type": "execute_result"
    }
   ],
   "source": [
    "# Aperçu des premières lignes\n",
    "df.head()"
   ]
  },
  {
   "cell_type": "markdown",
   "id": "a82293de",
   "metadata": {},
   "source": [
    "Analyse :\n",
    "Les premières entrées montrent que le dataset couvre une large période (dès 1908), avec des accidents variés (démonstration, essais, vols commerciaux, etc.), et différentes causes rapportées dans le résumé. Cela indique une bonne diversité pour l’analyse."
   ]
  },
  {
   "cell_type": "markdown",
   "id": "afc027b7",
   "metadata": {},
   "source": [
    "## 1. Nettoyage des données"
   ]
  },
  {
   "cell_type": "code",
   "execution_count": 16,
   "id": "698c5506",
   "metadata": {},
   "outputs": [
    {
     "name": "stdout",
     "output_type": "stream",
     "text": [
      "<class 'pandas.core.frame.DataFrame'>\n",
      "RangeIndex: 4998 entries, 0 to 4997\n",
      "Data columns (total 17 columns):\n",
      " #   Column                 Non-Null Count  Dtype  \n",
      "---  ------                 --------------  -----  \n",
      " 0   Date                   4998 non-null   object \n",
      " 1   Time                   3486 non-null   object \n",
      " 2   Location               4994 non-null   object \n",
      " 3   Operator               4988 non-null   object \n",
      " 4   Flight #               1329 non-null   object \n",
      " 5   Route                  4221 non-null   object \n",
      " 6   AC Type                4983 non-null   object \n",
      " 7   Registration           4724 non-null   object \n",
      " 8   cn/ln                  4330 non-null   object \n",
      " 9   Aboard                 4980 non-null   float64\n",
      " 10  Aboard Passangers      4769 non-null   float64\n",
      " 11  Aboard Crew            4772 non-null   float64\n",
      " 12  Fatalities             4990 non-null   float64\n",
      " 13  Fatalities Passangers  4756 non-null   float64\n",
      " 14  Fatalities Crew        4757 non-null   float64\n",
      " 15  Ground                 4956 non-null   float64\n",
      " 16  Summary                4934 non-null   object \n",
      "dtypes: float64(7), object(10)\n",
      "memory usage: 663.9+ KB\n"
     ]
    }
   ],
   "source": [
    "# Affichage des infos générales\n",
    "df.info()"
   ]
  },
  {
   "cell_type": "markdown",
   "id": "0fdf273b",
   "metadata": {},
   "source": [
    "Nombre de lignes : 4998 accidents répertoriés.\n",
    "\n",
    "Colonnes manquantes : Plusieurs colonnes présentent des valeurs manquantes, surtout pour le numéro de vol, le nombre de passagers/équipage, etc. Cela impose de la prudence dans les analyses statistiques.\n",
    "\n",
    "Types de données : Beaucoup de colonnes sont de type object (texte), ce qui peut limiter certaines analyses quantitatives."
   ]
  },
  {
   "cell_type": "markdown",
   "id": "9fcf23bd",
   "metadata": {},
   "source": [
    "Analyse de ce résultat :\n",
    "\n",
    "* **Complétude des données** :\n",
    "\n",
    "  * Très peu de valeurs manquantes pour les colonnes principales (\"Date\", \"Location\", \"Operator\", \"AC Type\", \"Aboard\", \"Fatalities\").\n",
    "  * Colonnes avec beaucoup de valeurs manquantes : \"Time\", \"Flight #\", \"Route\", \"Registration\", \"cn/ln\", \"Aboard Passangers\", \"Aboard Crew\", \"Fatalities Passangers\", \"Fatalities Crew\". Cela limite la précision des analyses détaillées sur ces champs.\n",
    "\n",
    "* **Types de données** :\n",
    "\n",
    "  * Beaucoup de colonnes sont au format \"object\" (texte), donc un prétraitement sera nécessaire pour les analyses numériques, notamment sur les dates.\n",
    "  * Les données quantitatives sont bien reconnues en \"float64\", ce qui facilite les calculs statistiques.\n",
    "\n",
    "* **Taille de l’échantillon** :\n",
    "\n",
    "  * 4998 accidents, donc base statistique solide et représentative.\n",
    "\n",
    "* **Remarque** :\n",
    "\n",
    "  * Les valeurs manquantes devront être gérées (imputation, suppression, etc.) selon l’analyse ciblée, pour éviter des biais ou des erreurs.\n",
    "\n",
    "Résumé :\n",
    "Le dataset est riche et exploitable, mais nécessite un nettoyage, surtout pour les analyses par sous-groupes (vols, équipages, type d’accident, etc.).\n",
    "Le nombre de valeurs manquantes impose d’être prudent dans l’interprétation de certains résultats.\n"
   ]
  },
  {
   "cell_type": "code",
   "execution_count": 17,
   "id": "d07cbed6",
   "metadata": {},
   "outputs": [],
   "source": [
    "# Conversion de la colonne Date au format datetime\n",
    "df['Date'] = pd.to_datetime(df['Date'], errors='coerce')"
   ]
  },
  {
   "cell_type": "code",
   "execution_count": 18,
   "id": "3dfed6c9",
   "metadata": {},
   "outputs": [],
   "source": [
    "# Suppression des lignes avec dates manquantes\n",
    "df = df.dropna(subset=['Date'])"
   ]
  },
  {
   "cell_type": "code",
   "execution_count": 19,
   "id": "1c4374d5",
   "metadata": {},
   "outputs": [],
   "source": [
    "# Ajout des colonnes Année et Décennie\n",
    "df['Year'] = df['Date'].dt.year\n",
    "df['Decade'] = (df['Year'] // 10) * 10"
   ]
  },
  {
   "cell_type": "code",
   "execution_count": 20,
   "id": "0b477396",
   "metadata": {},
   "outputs": [],
   "source": [
    "# Remplir les valeurs manquantes critiques avec 0\n",
    "df['Fatalities'] = df['Fatalities'].fillna(0).astype(int)\n",
    "df['Aboard'] = df['Aboard'].fillna(0).astype(int)"
   ]
  },
  {
   "cell_type": "code",
   "execution_count": 21,
   "id": "b666b75b",
   "metadata": {},
   "outputs": [],
   "source": [
    "# Calcul du taux de survie\n",
    "df['Survivors'] = df['Aboard'] - df['Fatalities']\n",
    "df['Survival_Rate'] = df['Survivors'] / df['Aboard']\n",
    "df['Survival_Rate'] = df['Survival_Rate'].fillna(0)"
   ]
  },
  {
   "cell_type": "markdown",
   "id": "cb600656",
   "metadata": {},
   "source": [
    "## 2. Analyse exploratoire des données"
   ]
  },
  {
   "cell_type": "code",
   "execution_count": 22,
   "id": "0241f6b2",
   "metadata": {},
   "outputs": [
    {
     "name": "stdout",
     "output_type": "stream",
     "text": [
      "Nombre total d'accidents : 4998\n",
      "Total des personnes à bord : 155356\n",
      "Total des décès : 111644\n",
      "Taux de survie moyen : -inf\n"
     ]
    }
   ],
   "source": [
    "# Statistiques de base\n",
    "print(\"Nombre total d'accidents :\", len(df))\n",
    "print(\"Total des personnes à bord :\", df['Aboard'].sum())\n",
    "print(\"Total des décès :\", df['Fatalities'].sum())\n",
    "print(\"Taux de survie moyen :\", df['Survival_Rate'].mean())"
   ]
  },
  {
   "cell_type": "markdown",
   "id": "9cc02dc6",
   "metadata": {},
   "source": [
    "Analyse pertinente et directe :\n",
    "\n",
    "* **Nombre total d'accidents** : 4998\n",
    "  → Taille d’échantillon importante, base robuste.\n",
    "\n",
    "* **Total des personnes à bord** : 155 356\n",
    "  → Nombre élevé, confirme que les données couvrent de nombreux accidents, dont certains avec beaucoup de passagers.\n",
    "\n",
    "* **Total des décès** : 111 644\n",
    "  → Taux de mortalité très élevé (environ 72 %), ce qui reflète la dangerosité de l’aviation sur la période couverte.\n",
    "\n",
    "* **Taux de survie moyen : -inf**\n",
    "  → **Erreur de calcul.** Cette valeur indique une division par zéro ou une erreur dans la formule (probablement une moyenne avec un dénominateur nul pour certains cas). Il faut vérifier la formule :\n",
    "  **Correction** :\n",
    "\n",
    "  $$\n",
    "  \\text{Taux de survie moyen} = 1 - \\frac{\\text{Total des décès}}{\\text{Total des personnes à bord}}\n",
    "  $$\n",
    "\n",
    "  ou\n",
    "\n",
    "  $$\n",
    "  \\text{Taux de survie moyen} = \\text{moyenne}\\left(1 - \\frac{\\text{Fatalities}}{\\text{Aboard}}\\right)\n",
    "  $$\n",
    "\n",
    "  mais seulement pour les lignes où \"Aboard\" > 0.\n",
    "\n",
    "**Conclusion** :\n",
    "Les totaux sont cohérents mais l’indicateur \"taux de survie moyen\" est faux, il doit être recalculé correctement pour avoir une analyse fiable.\n"
   ]
  },
  {
   "cell_type": "code",
   "execution_count": 27,
   "id": "3a9932dc",
   "metadata": {},
   "outputs": [],
   "source": [
    "# Correction de ce point sur le Taux de survie moyen\n",
    "\n",
    "df = pd.read_csv(\"Airplane_Crashes_and_Fatalities_Since_1908_t0_2023.csv\", encoding=\"cp1252\")\n"
   ]
  },
  {
   "cell_type": "code",
   "execution_count": 28,
   "id": "ddf0e331",
   "metadata": {},
   "outputs": [],
   "source": [
    "import pandas as pd\n",
    "\n",
    "df = pd.read_csv(\"Airplane_Crashes_and_Fatalities_Since_1908_t0_2023.csv\", encoding=\"latin1\")\n"
   ]
  },
  {
   "cell_type": "code",
   "execution_count": 29,
   "id": "478da3e6",
   "metadata": {},
   "outputs": [
    {
     "name": "stdout",
     "output_type": "stream",
     "text": [
      "Taux de survie moyen : 18.15%\n"
     ]
    }
   ],
   "source": [
    "# Filtrer les lignes valides\n",
    "df_valide = df[(df[\"Aboard\"] > 0) & (df[\"Fatalities\"].notnull())].copy()\n",
    "\n",
    "# Calcul du taux de survie pour chaque accident\n",
    "df_valide[\"taux_survie\"] = 1 - (df_valide[\"Fatalities\"] / df_valide[\"Aboard\"])\n",
    "\n",
    "# Calcul de la moyenne\n",
    "taux_survie_moyen = df_valide[\"taux_survie\"].mean()\n",
    "\n",
    "print(\"Taux de survie moyen : {:.2%}\".format(taux_survie_moyen))\n"
   ]
  },
  {
   "cell_type": "markdown",
   "id": "ed96501b",
   "metadata": {},
   "source": [
    "Analyse avec le résultat corrigé :\n",
    "\n",
    "---\n",
    "\n",
    "### **Taux de survie moyen : 18,15 %**\n",
    "\n",
    "**Interprétation directe** :\n",
    "Sur l’ensemble des accidents où les données sont valides, **moins de 1 personne sur 5 a survécu** en moyenne. Cela révèle une **mortalité extrêmement élevée** dans les accidents d'avion recensés.\n",
    "\n",
    "---\n",
    "\n",
    "### Analyse pertinente :\n",
    "\n",
    "* **Niveau de danger** :\n",
    "  Ce taux très faible s'explique par le fait que beaucoup d'accidents sont historiques, souvent avant l’ère de l’aviation moderne, où **les mesures de sécurité étaient limitées**.\n",
    "\n",
    "* **Distribution inégale** :\n",
    "  Il est probable que de nombreux accidents soient **totalement mortels** (0 survivant), ce qui abaisse drastiquement la moyenne.\n",
    "\n",
    "* **Comparaison temporelle à prévoir** :\n",
    "  Il serait pertinent de **comparer ce taux avant et après 1970** ou par décennies. On s’attendrait à une amélioration nette dans les périodes récentes.\n",
    "\n",
    "* **Biais possibles** :\n",
    "  Le taux est une moyenne : il ne reflète pas la diversité des cas (accidents militaires, tests, vols civils). Une analyse par **type d'opérateur** pourrait affiner l’interprétation.\n",
    "\n",
    "---\n",
    "\n",
    "### Conclusion :\n",
    "\n",
    "**Taux de survie moyen de 18,15 % = aviation historiquement très mortelle**\n",
    "Il faut approfondir par période, type d’opérateur et causes pour dégager des tendances utiles et actuelles.\n"
   ]
  },
  {
   "cell_type": "code",
   "execution_count": 32,
   "id": "cab03c2c",
   "metadata": {},
   "outputs": [],
   "source": [
    "# Convertir la colonne \"Date\" en datetime et extraire l'année\n",
    "df[\"Date\"] = pd.to_datetime(df[\"Date\"], errors=\"coerce\")\n",
    "df[\"Year\"] = df[\"Date\"].dt.year\n"
   ]
  },
  {
   "cell_type": "code",
   "execution_count": 33,
   "id": "88426a0b",
   "metadata": {},
   "outputs": [
    {
     "name": "stdout",
     "output_type": "stream",
     "text": [
      "Year\n",
      "1908     1\n",
      "1909     1\n",
      "1912     1\n",
      "1913     3\n",
      "1915     2\n",
      "        ..\n",
      "2019    13\n",
      "2020     8\n",
      "2021     9\n",
      "2022     6\n",
      "2023     4\n",
      "Length: 113, dtype: int64\n"
     ]
    }
   ],
   "source": [
    "accidents_per_year = df.groupby(\"Year\").size()\n",
    "print(accidents_per_year)\n"
   ]
  },
  {
   "cell_type": "code",
   "execution_count": 34,
   "id": "dd4136ff",
   "metadata": {},
   "outputs": [],
   "source": [
    "import matplotlib.pyplot as plt  # ← à ne pas oublier\n"
   ]
  },
  {
   "cell_type": "code",
   "execution_count": 35,
   "id": "4b874f0f",
   "metadata": {},
   "outputs": [
    {
     "data": {
      "image/png": "[encoded data removed]",
      "text/plain": [
       "<Figure size 1400x600 with 1 Axes>"
      ]
     },
     "metadata": {},
     "output_type": "display_data"
    }
   ],
   "source": [
    "# Affichage d'une tendance sur le temps\n",
    "plt.figure(figsize=(14,6))\n",
    "accidents_per_year.plot()\n",
    "plt.title(\"Nombre d'accidents d'avion par année\")\n",
    "plt.xlabel(\"Année\")\n",
    "plt.ylabel(\"Nombre d'accidents\")\n",
    "plt.grid(True)\n",
    "plt.show()"
   ]
  },
  {
   "cell_type": "markdown",
   "id": "b4670cab",
   "metadata": {},
   "source": [
    "---\n",
    "\n",
    "### **Lecture du graphique**\n",
    "\n",
    "* **Montée forte jusqu'aux années 1940-1950**\n",
    "  ➤ Corrélée à l’expansion de l’aviation civile et surtout militaire (Seconde Guerre mondiale).\n",
    "\n",
    "* **Plateau élevé entre 1950 et 1980**\n",
    "  ➤ L'aviation commerciale se généralise, mais les normes de sécurité ne sont pas encore optimales.\n",
    "\n",
    "* **Fluctuations de 1980 à 2000**\n",
    "  ➤ Des pics liés à des incidents majeurs, mais la tendance reste stable. Début d’améliorations technologiques.\n",
    "\n",
    "* **Baisse nette après 2000, accélérée après 2010**\n",
    "  ➤ Mise en œuvre rigoureuse des normes de sécurité aérienne, fiabilité accrue des avions, régulation internationale, maintenance renforcée.\n",
    "\n",
    "---\n",
    "\n",
    "### **Conclusion claire** :\n",
    "\n",
    "**Tendance générale : baisse marquée des accidents après 2000**\n",
    "Cela reflète des **progrès majeurs en sécurité aérienne** : meilleure technologie, formation des équipages, contrôle du trafic, etc.\n",
    "\n",
    "Pour approfondir : comparer avec le **nombre de vols effectués** par année (accidents par million de vols) donnerait un taux encore plus parlant.\n"
   ]
  },
  {
   "cell_type": "markdown",
   "id": "9c51a175",
   "metadata": {},
   "source": [
    "## 3. Analyse statistique"
   ]
  },
  {
   "cell_type": "code",
   "execution_count": 16,
   "id": "487b2f29",
   "metadata": {},
   "outputs": [
    {
     "name": "stdout",
     "output_type": "stream",
     "text": [
      "count    4998.000000\n",
      "mean       22.337735\n",
      "std        35.045081\n",
      "min         0.000000\n",
      "25%         4.000000\n",
      "50%        11.000000\n",
      "75%        25.000000\n",
      "max       583.000000\n",
      "Name: Fatalities, dtype: float64\n"
     ]
    }
   ],
   "source": [
    "# Statistiques sur les décès\n",
    "fatal_stats = df['Fatalities'].describe()\n",
    "print(fatal_stats)"
   ]
  },
  {
   "cell_type": "markdown",
   "id": "28062f06",
   "metadata": {},
   "source": [
    "Analyse pertinente de la distribution des **décès par accident (Fatalities)** :\n",
    "\n",
    "---\n",
    "\n",
    "### **Statistiques descriptives** :\n",
    "\n",
    "* **Nombre d'accidents analysés** : 4 998\n",
    "* **Moyenne** : \\~22 décès par accident\n",
    "* **Médiane (50%)** : 11 décès → **la moitié des accidents font 11 morts ou moins**\n",
    "* **Écart-type élevé (35)** : grande dispersion → **forte variabilité**\n",
    "* **Max** : 583 décès → présence de **catastrophes majeures**\n",
    "* **25% des accidents font ≤ 4 morts**, **75% ≤ 25 morts**\n",
    "\n",
    "---\n",
    "\n",
    "### **Interprétation** :\n",
    "\n",
    "* **Distribution très asymétrique** (droite) :\n",
    "  → Peu d’accidents très meurtriers tirent la moyenne vers le haut.\n",
    "  → La médiane étant bien plus basse que la moyenne confirme cette **présence d’outliers**.\n",
    "\n",
    "* **Majorité des accidents = gravité modérée**, mais :\n",
    "  → **Quelques événements extrêmes** (ex. : crashs de gros porteurs) ont un **poids statistique énorme**.\n",
    "\n",
    "---\n",
    "\n",
    "### Conclusion :\n",
    "\n",
    "* La gravité des accidents est **très variable**, la plupart font relativement peu de victimes, **mais certains sont catastrophiques**.\n",
    "* Une **analyse complémentaire par type d’appareil ou par période** permettrait d’identifier les causes de ces extrêmes.\n"
   ]
  },
  {
   "cell_type": "code",
   "execution_count": 17,
   "id": "b024940f",
   "metadata": {},
   "outputs": [
    {
     "name": "stdout",
     "output_type": "stream",
     "text": [
      "Moyenne : 22.337735094037615 | Médiane : 11.0 | Écart type : 35.04508061393761\n"
     ]
    }
   ],
   "source": [
    "# Moyenne, médiane, écart type des décès\n",
    "mean = df['Fatalities'].mean()\n",
    "median = df['Fatalities'].median()\n",
    "std_dev = df['Fatalities'].std()\n",
    "print(\"Moyenne :\", mean, \"| Médiane :\", median, \"| Écart type :\", std_dev)"
   ]
  },
  {
   "cell_type": "code",
   "execution_count": 19,
   "id": "b25258e9",
   "metadata": {},
   "outputs": [],
   "source": [
    "from scipy import stats\n"
   ]
  },
  {
   "cell_type": "code",
   "execution_count": 20,
   "id": "286187ce",
   "metadata": {},
   "outputs": [
    {
     "name": "stdout",
     "output_type": "stream",
     "text": [
      "T-test décès 1950s vs 2000s — t = -2.097831779807533 | p = 0.036300875233167273\n"
     ]
    }
   ],
   "source": [
    "# Test d’hypothèse : différence moyenne de décès entre 1950s et 2000s\n",
    "fatal_1950s = df[df['Decade'] == 1950]['Fatalities']\n",
    "fatal_2000s = df[df['Decade'] == 2000]['Fatalities']\n",
    "\n",
    "t_stat, p_val = stats.ttest_ind(fatal_1950s, fatal_2000s, equal_var=False)\n",
    "print(\"T-test décès 1950s vs 2000s — t =\", t_stat, \"| p =\", p_val)"
   ]
  },
  {
   "cell_type": "markdown",
   "id": "d7a88193",
   "metadata": {},
   "source": [
    "---\n",
    "\n",
    "### **Résultat** :\n",
    "\n",
    "* **t = -2.10**\n",
    "* **p = 0.0363**\n",
    "\n",
    "---\n",
    "\n",
    "### **Interprétation** :\n",
    "\n",
    "* La valeur **p < 0.05** → différence **statistiquement significative** entre les deux décennies.\n",
    "* Le **t négatif** indique que la **moyenne des décès dans les années 2000 est inférieure** à celle des années 1950.\n",
    "\n",
    "---\n",
    "\n",
    "### **Conclusion** :\n",
    "\n",
    "Il y a **moins de morts par accident dans les années 2000** par rapport aux années 1950, et cette différence **n’est pas due au hasard**.\n",
    "Cela confirme une **amélioration réelle de la sécurité aérienne** au fil du temps.\n",
    "\n",
    "---\n",
    "\n"
   ]
  },
  {
   "cell_type": "markdown",
   "id": "731b080f",
   "metadata": {},
   "source": [
    "## 4. Visualisations supplémentaires"
   ]
  },
  {
   "cell_type": "code",
   "execution_count": 22,
   "id": "5719fa04",
   "metadata": {},
   "outputs": [],
   "source": [
    "import seaborn as sns\n"
   ]
  },
  {
   "cell_type": "code",
   "execution_count": 23,
   "id": "28b2825a",
   "metadata": {},
   "outputs": [
    {
     "data": {
      "image/png": "[encoded data removed]",
      "text/plain": [
       "<Figure size 1000x600 with 1 Axes>"
      ]
     },
     "metadata": {},
     "output_type": "display_data"
    }
   ],
   "source": [
    "# Histogramme du nombre de décès\n",
    "plt.figure(figsize=(10,6))\n",
    "sns.histplot(df['Fatalities'], bins=30, kde=True)\n",
    "plt.title(\"Distribution des décès par accident\")\n",
    "plt.xlabel(\"Nombre de décès\")\n",
    "plt.ylabel(\"Fréquence\")\n",
    "plt.show()"
   ]
  },
  {
   "cell_type": "code",
   "execution_count": 24,
   "id": "a327939d",
   "metadata": {},
   "outputs": [
    {
     "data": {
      "image/png": "[encoded data removed]",
      "text/plain": [
       "<Figure size 1000x600 with 1 Axes>"
      ]
     },
     "metadata": {},
     "output_type": "display_data"
    }
   ],
   "source": [
    "# Accidents par décennie\n",
    "plt.figure(figsize=(10,6))\n",
    "df['Decade'].value_counts().sort_index().plot(kind='bar')\n",
    "plt.title(\"Nombre d'accidents par décennie\")\n",
    "plt.xlabel(\"Décennie\")\n",
    "plt.ylabel(\"Nombre d'accidents\")\n",
    "plt.show()"
   ]
  },
  {
   "cell_type": "code",
   "execution_count": 25,
   "id": "81c0e442",
   "metadata": {},
   "outputs": [
    {
     "data": {
      "image/png": "[encoded data removed]",
      "text/plain": [
       "<Figure size 800x500 with 2 Axes>"
      ]
     },
     "metadata": {},
     "output_type": "display_data"
    }
   ],
   "source": [
    "# Heatmap du taux de survie moyen par décennie\n",
    "plt.figure(figsize=(8,5))\n",
    "survival_by_decade = df.groupby('Decade')['Survival_Rate'].mean()\n",
    "sns.heatmap(survival_by_decade.values.reshape(-1,1), annot=True, fmt=\".2f\",\n",
    "            yticklabels=survival_by_decade.index, xticklabels=[\"Taux de survie\"])\n",
    "plt.title(\"Taux de survie moyen par décennie\")\n",
    "plt.show()"
   ]
  },
  {
   "cell_type": "markdown",
   "id": "95d63753",
   "metadata": {},
   "source": [
    "## 5. Rapport et interprétation"
   ]
  },
  {
   "cell_type": "code",
   "execution_count": null,
   "id": "c1aa45d2",
   "metadata": {},
   "outputs": [],
   "source": [
    "# Supprimer les lignes où 'Aboard' est 0 ou manquant\n",
    "df = df[df['Aboard'] > 0].copy()\n",
    "\n",
    "# Calcul du taux de survie si non déjà fait\n",
    "df['Survival_Rate'] = (df['Aboard'] - df['Fatalities']) / df['Aboard']\n"
   ]
  },
  {
   "cell_type": "markdown",
   "id": "5e6295e6",
   "metadata": {},
   "source": [
    "RÉSUMÉ :\n",
    "- Le nombre total d'accidents dans le dataset est : 4975\n",
    "- Le nombre total de décès est : 111561\n",
    "- Le taux de survie moyen est de 18.15%\n",
    "- Il y a une différence statistiquement significative entre les décès moyens dans les années 1950 et 2000 (p < 0.05)."
   ]
  }
 ],
 "metadata": {
  "kernelspec": {
   "display_name": "base",
   "language": "python",
   "name": "python3"
  },
  "language_info": {
   "codemirror_mode": {
    "name": "ipython",
    "version": 3
   },
   "file_extension": ".py",
   "mimetype": "text/x-python",
   "name": "python",
   "nbconvert_exporter": "python",
   "pygments_lexer": "ipython3",
   "version": "3.12.8"
  }
 },
 "nbformat": 4,
 "nbformat_minor": 5
}
