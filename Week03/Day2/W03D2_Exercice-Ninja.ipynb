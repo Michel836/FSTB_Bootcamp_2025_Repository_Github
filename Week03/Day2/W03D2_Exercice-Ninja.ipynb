{
 "cells": [
  {
   "cell_type": "markdown",
   "id": "e7f564dc",
   "metadata": {},
   "source": [
    "# Exercices XP Ninja\n",
    "Dernière mise à jour : 20 novembre 2024\n",
    "\n",
    "* 🏫 👩🏿‍🏫 Ce que vous apprendrez\n",
    "Extraction et manipulation des éléments diagonaux des matrices.\n",
    "Implémentation d'opérations conditionnelles sur les tableaux NumPy.\n",
    "\n",
    "\n",
    "*  Ce que vous allez créer\n",
    "Un ensemble d'exercices stimulants axés sur les matrices diagonales et les opérations de tableau conditionnelles, poussant vos compétences en NumPy à un niveau supérieur."
   ]
  },
  {
   "cell_type": "markdown",
   "id": "05b10470",
   "metadata": {},
   "source": [
    "## Exercice 1 : Opérations sur les matrices diagonales\n",
    "Instructions\n",
    "Créez une matrice 4x4 et extrayez ses éléments diagonaux avec NumPy. Créez ensuite une matrice diagonale à partir de ces éléments.\n",
    "\n",
    "Exemple de matrice diagonale en LaTeX\n",
    "Une matrice diagonale peut être représentée en LaTeX comme suit :\n",
    "\n",
    "\n",
    "\n",
    "matrice diagonale xp_ninja\n",
    "\n",
    "\n",
    "Où a, b, c, et dsont les éléments diagonaux."
   ]
  },
  {
   "cell_type": "code",
   "execution_count": 1,
   "id": "ac4a1422",
   "metadata": {},
   "outputs": [],
   "source": [
    "# Cell\n",
    "# Importation de NumPy\n",
    "import numpy as np"
   ]
  },
  {
   "cell_type": "markdown",
   "id": "47d6bce9",
   "metadata": {},
   "source": [
    "1. 🔢 Création d’une matrice 4x4"
   ]
  },
  {
   "cell_type": "code",
   "execution_count": 2,
   "id": "190e588d",
   "metadata": {},
   "outputs": [
    {
     "name": "stdout",
     "output_type": "stream",
     "text": [
      "Matrice originale :\n",
      " [[6 1 4 4]\n",
      " [8 4 6 3]\n",
      " [5 8 7 9]\n",
      " [9 2 7 8]]\n"
     ]
    }
   ],
   "source": [
    "# Génération d'une matrice 4x4 avec des entiers aléatoires\n",
    "np.random.seed(0)\n",
    "matrice = np.random.randint(1, 10, size=(4, 4))\n",
    "print(\"Matrice originale :\\n\", matrice)"
   ]
  },
  {
   "cell_type": "markdown",
   "id": "c9c2436a",
   "metadata": {},
   "source": [
    "2. 📐 Extraction des éléments diagonaux"
   ]
  },
  {
   "cell_type": "code",
   "execution_count": 3,
   "id": "e90d7b5c",
   "metadata": {},
   "outputs": [
    {
     "name": "stdout",
     "output_type": "stream",
     "text": [
      "Éléments diagonaux : [6 4 7 8]\n"
     ]
    }
   ],
   "source": [
    "# Extraction de la diagonale principale\n",
    "diagonale = np.diag(matrice)\n",
    "print(\"Éléments diagonaux :\", diagonale)"
   ]
  },
  {
   "cell_type": "markdown",
   "id": "7476ad82",
   "metadata": {},
   "source": [
    "3. 🧱 Création d’une matrice diagonale"
   ]
  },
  {
   "cell_type": "code",
   "execution_count": 4,
   "id": "ac622cfd",
   "metadata": {},
   "outputs": [
    {
     "name": "stdout",
     "output_type": "stream",
     "text": [
      "Matrice diagonale :\n",
      " [[6 0 0 0]\n",
      " [0 4 0 0]\n",
      " [0 0 7 0]\n",
      " [0 0 0 8]]\n"
     ]
    }
   ],
   "source": [
    "# Création d'une matrice uniquement diagonale\n",
    "matrice_diagonale = np.diag(diagonale)\n",
    "print(\"Matrice diagonale :\\n\", matrice_diagonale)"
   ]
  },
  {
   "cell_type": "markdown",
   "id": "bb914217",
   "metadata": {},
   "source": [
    "✅ Résumé"
   ]
  },
  {
   "cell_type": "markdown",
   "id": "defca7dd",
   "metadata": {},
   "source": [
    "✔️ Étapes réalisées :\n",
    "- Création d'une matrice 4x4 avec valeurs aléatoires\n",
    "- Extraction de la diagonale principale\n",
    "- Reconstruction d'une matrice contenant uniquement ces éléments sur la diagonale\n",
    "\n",
    "📌 Utilisation courante : réduction de matrices, algèbre linéaire, simplification des calculs matriciels."
   ]
  },
  {
   "cell_type": "markdown",
   "id": "41320178",
   "metadata": {},
   "source": [
    "Représentation en LaTeX (facultatif, hors code)"
   ]
  },
  {
   "cell_type": "code",
   "execution_count": null,
   "id": "c6db967e",
   "metadata": {
    "vscode": {
     "languageId": "latex"
    }
   },
   "outputs": [],
   "source": [
    "\\begin{bmatrix}\n",
    "a & 0 & 0 & 0 \\\\\n",
    "0 & b & 0 & 0 \\\\\n",
    "0 & 0 & c & 0 \\\\\n",
    "0 & 0 & 0 & d\n",
    "\\end{bmatrix}\n"
   ]
  },
  {
   "cell_type": "markdown",
   "id": "fd6abedf",
   "metadata": {},
   "source": [
    "où a, b, c, d sont les éléments extraits de la diagonale de la matrice initiale."
   ]
  },
  {
   "cell_type": "markdown",
   "id": "9259d32d",
   "metadata": {},
   "source": [
    "## Exercice 2 : Opérations conditionnelles sur les tableaux\n",
    "Instructions\n",
    "Générez un tableau NumPy 1D avec 20 éléments aléatoires. Remplacez tous les éléments supérieurs à 0,5 par la valeur -1."
   ]
  },
  {
   "cell_type": "code",
   "execution_count": 5,
   "id": "25a05495",
   "metadata": {},
   "outputs": [],
   "source": [
    "# Importation de NumPy\n",
    "import numpy as np"
   ]
  },
  {
   "cell_type": "code",
   "execution_count": 6,
   "id": "ffbfd25f",
   "metadata": {},
   "outputs": [
    {
     "name": "stdout",
     "output_type": "stream",
     "text": [
      "Tableau original :\n",
      " [0.5488135  0.71518937 0.60276338 0.54488318 0.4236548  0.64589411\n",
      " 0.43758721 0.891773   0.96366276 0.38344152 0.79172504 0.52889492\n",
      " 0.56804456 0.92559664 0.07103606 0.0871293  0.0202184  0.83261985\n",
      " 0.77815675 0.87001215]\n"
     ]
    }
   ],
   "source": [
    "# Génération d'un tableau 1D de 20 valeurs aléatoires entre 0 et 1\n",
    "np.random.seed(0)\n",
    "tableau = np.random.rand(20)\n",
    "print(\"Tableau original :\\n\", tableau)"
   ]
  },
  {
   "cell_type": "code",
   "execution_count": 7,
   "id": "8360af68",
   "metadata": {},
   "outputs": [
    {
     "name": "stdout",
     "output_type": "stream",
     "text": [
      "Tableau modifié :\n",
      " [-1.         -1.         -1.         -1.          0.4236548  -1.\n",
      "  0.43758721 -1.         -1.          0.38344152 -1.         -1.\n",
      " -1.         -1.          0.07103606  0.0871293   0.0202184  -1.\n",
      " -1.         -1.        ]\n"
     ]
    }
   ],
   "source": [
    "# Remplacement des valeurs > 0.5 par -1\n",
    "tableau[tableau > 0.5] = -1\n",
    "print(\"Tableau modifié :\\n\", tableau)"
   ]
  },
  {
   "cell_type": "markdown",
   "id": "eb957c8f",
   "metadata": {},
   "source": [
    "✔️ Les éléments du tableau initial supérieurs à 0.5 ont été remplacés par -1.\n",
    "✔️ Ce type d'opération est utile pour le filtrage, le masquage, ou la préparation des données."
   ]
  },
  {
   "cell_type": "markdown",
   "id": "870e1810",
   "metadata": {},
   "source": [
    "## Exercice 3 : Normalisation des données\n",
    "Instructions\n",
    "Normaliser un tableau NumPy 1D (soustraire la moyenne et diviser par l'écart type).\n",
    "\n",
    "Formule de normalisation\n",
    "La fonction de normalisation peut être représentée en LaTeX comme :\n",
    "\n",
    "\n",
    "\n",
    "xp_ninja_normalisé_x\n",
    "\n",
    "\n",
    "Où xest la valeur d'origine, \\muest la moyenne et \\sigmaest l'écart type.\n",
    "\n",
    "Astuce : vous pouvez utiliser la StandardScalerfonction du sklearn.preprocessingpackage pour la normalisation."
   ]
  },
  {
   "cell_type": "code",
   "execution_count": 8,
   "id": "178b015e",
   "metadata": {},
   "outputs": [],
   "source": [
    "# Importation des bibliothèques nécessaires\n",
    "import numpy as np\n",
    "from sklearn.preprocessing import StandardScaler"
   ]
  },
  {
   "cell_type": "code",
   "execution_count": 9,
   "id": "8d3f950f",
   "metadata": {},
   "outputs": [
    {
     "name": "stdout",
     "output_type": "stream",
     "text": [
      "Tableau original :\n",
      " [54.88135039 71.51893664 60.27633761 54.4883183  42.36547993 64.58941131\n",
      " 43.75872113 89.17730008 96.36627605 38.34415188 79.17250381 52.88949198\n",
      " 56.80445611 92.55966383  7.10360582]\n"
     ]
    }
   ],
   "source": [
    "# Génération d’un tableau 1D de 15 valeurs aléatoires\n",
    "np.random.seed(0)\n",
    "x = np.random.rand(15) * 100\n",
    "print(\"Tableau original :\\n\", x)"
   ]
  },
  {
   "cell_type": "code",
   "execution_count": 10,
   "id": "93fb27db",
   "metadata": {},
   "outputs": [
    {
     "name": "stdout",
     "output_type": "stream",
     "text": [
      "Tableau normalisé (manuel) :\n",
      " [-2.38356427e-01  4.95341811e-01 -4.43754120e-04 -2.55688686e-01\n",
      " -7.90291783e-01  1.89757789e-01 -7.28851464e-01  1.27405514e+00\n",
      "  1.59108063e+00 -9.67627682e-01  8.32855237e-01 -3.26195071e-01\n",
      " -1.53549697e-01  1.42321345e+00 -2.34529949e+00]\n"
     ]
    }
   ],
   "source": [
    "# Calcul de la moyenne et de l’écart type\n",
    "mu = np.mean(x)\n",
    "sigma = np.std(x)\n",
    "\n",
    "# Normalisation\n",
    "x_normalise = (x - mu) / sigma\n",
    "print(\"Tableau normalisé (manuel) :\\n\", x_normalise)"
   ]
  },
  {
   "cell_type": "code",
   "execution_count": 11,
   "id": "968c0006",
   "metadata": {},
   "outputs": [
    {
     "name": "stdout",
     "output_type": "stream",
     "text": [
      "Tableau normalisé (StandardScaler) :\n",
      " [-2.38356427e-01  4.95341811e-01 -4.43754120e-04 -2.55688686e-01\n",
      " -7.90291783e-01  1.89757789e-01 -7.28851464e-01  1.27405514e+00\n",
      "  1.59108063e+00 -9.67627682e-01  8.32855237e-01 -3.26195071e-01\n",
      " -1.53549697e-01  1.42321345e+00 -2.34529949e+00]\n"
     ]
    }
   ],
   "source": [
    "# Reshape requis pour StandardScaler (2D attendu)\n",
    "scaler = StandardScaler()\n",
    "x_scaled = scaler.fit_transform(x.reshape(-1, 1))\n",
    "\n",
    "# Rendu plat (1D)\n",
    "print(\"Tableau normalisé (StandardScaler) :\\n\", x_scaled.flatten())"
   ]
  },
  {
   "cell_type": "markdown",
   "id": "0a4655b8",
   "metadata": {},
   "source": [
    "x_{\\text{normalisé}} = \\frac{x - \\mu}{\\sigma}"
   ]
  },
  {
   "cell_type": "markdown",
   "id": "dc5cf6f5",
   "metadata": {},
   "source": [
    "✔️ La normalisation permet d’avoir une moyenne de 0 et un écart type de 1.\n",
    "✔️ Utilisée pour mettre les données sur une même échelle sans modifier leur distribution.\n",
    "✔️ Méthodes présentées :\n",
    "   - Manuelle : (x - moyenne) / écart type\n",
    "   - Automatique : sklearn.preprocessing.StandardScaler"
   ]
  },
  {
   "cell_type": "markdown",
   "id": "64ff06d8",
   "metadata": {},
   "source": [
    "## Exercice 4 : Coefficients de corrélation\n",
    "Instructions\n",
    "Étant donné deux tableaux de données, calculez le coefficient de corrélation de Pearson entre eux à l'aide de NumPy."
   ]
  },
  {
   "cell_type": "code",
   "execution_count": 14,
   "id": "002a862c",
   "metadata": {},
   "outputs": [],
   "source": [
    "# Importation de NumPy\n",
    "import numpy as np"
   ]
  },
  {
   "cell_type": "code",
   "execution_count": 15,
   "id": "37d8e37c",
   "metadata": {},
   "outputs": [
    {
     "name": "stdout",
     "output_type": "stream",
     "text": [
      "x : [0.5488135  0.71518937 0.60276338 0.54488318 0.4236548  0.64589411\n",
      " 0.43758721 0.891773   0.96366276 0.38344152 0.79172504 0.52889492\n",
      " 0.56804456 0.92559664 0.07103606 0.0871293  0.0202184  0.83261985\n",
      " 0.77815675 0.87001215]\n",
      "y : [ 1.24703492  1.40986291  1.23683352  1.00435679  0.59201062  1.35715009\n",
      "  0.96161804  1.7093295   2.15430098  0.62144647  1.58802593  1.03907145\n",
      "  1.28936704  1.99812915  0.15756686  0.21207485 -0.04834178  1.46716004\n",
      "  1.52152229  1.75565919]\n"
     ]
    }
   ],
   "source": [
    "# Génération de deux tableaux aléatoires corrélés\n",
    "np.random.seed(0)\n",
    "x = np.random.rand(20)\n",
    "y = 2 * x + np.random.normal(0, 0.1, size=20)  # y dépend fortement de x\n",
    "\n",
    "print(\"x :\", x)\n",
    "print(\"y :\", y)"
   ]
  },
  {
   "cell_type": "code",
   "execution_count": 16,
   "id": "8d6a9aca",
   "metadata": {},
   "outputs": [
    {
     "name": "stdout",
     "output_type": "stream",
     "text": [
      "Coefficient de corrélation de Pearson : 0.9804691170196582\n"
     ]
    }
   ],
   "source": [
    "# Utilisation de np.corrcoef pour obtenir la matrice de corrélation\n",
    "corr_matrix = np.corrcoef(x, y)\n",
    "\n",
    "# Le coefficient de Pearson est l’élément [0, 1] ou [1, 0]\n",
    "corr_pearson = corr_matrix[0, 1]\n",
    "print(\"Coefficient de corrélation de Pearson :\", corr_pearson)"
   ]
  },
  {
   "cell_type": "markdown",
   "id": "1d693edc",
   "metadata": {},
   "source": [
    "✔️ Le coefficient de corrélation de Pearson mesure la relation linéaire entre deux variables.\n",
    "✔️ Il varie entre -1 (corrélation négative parfaite) et +1 (corrélation positive parfaite).\n",
    "✔️ Ici, la valeur de Pearson est {corr_pearson:.2f}, indiquant une forte corrélation linéaire entre x et y."
   ]
  },
  {
   "cell_type": "markdown",
   "id": "eed27409",
   "metadata": {},
   "source": [
    "## Exercice 5 : Ligne de tendance des séries chronologiques\n",
    "Instructions\n",
    "Créez une série chronologique de données sur 15 jours avec des valeurs aléatoires. Utilisez NumPy pour ajuster une courbe de tendance linéaire à ces données et tracez la série chronologique et la courbe de tendance.\n",
    "\n",
    "Coefficient de corrélation de Pearson\n",
    "Le coefficient de corrélation de Pearson mesure la corrélation linéaire entre deux variables. Il est compris entre -1 et 1, où 1 correspond à une corrélation linéaire positive totale, -1 à une corrélation linéaire négative totale et 0 à une absence de corrélation linéaire. La formule du coefficient de corrélation de Pearson est la suivante :\n",
    "\n",
    "\n",
    "\n",
    "xp_ninja_pearson_correlation_mat"
   ]
  },
  {
   "cell_type": "code",
   "execution_count": 17,
   "id": "b3890992",
   "metadata": {},
   "outputs": [],
   "source": [
    "# Importation des bibliothèques nécessaires\n",
    "import numpy as np\n",
    "import matplotlib.pyplot as plt"
   ]
  },
  {
   "cell_type": "code",
   "execution_count": 18,
   "id": "d1d7e72e",
   "metadata": {},
   "outputs": [
    {
     "name": "stdout",
     "output_type": "stream",
     "text": [
      "Jours : [ 1  2  3  4  5  6  7  8  9 10 11 12 13 14 15]\n",
      "Valeurs : [54.88135039 71.51893664 60.27633761 54.4883183  42.36547993 64.58941131\n",
      " 43.75872113 89.17730008 96.36627605 38.34415188 79.17250381 52.88949198\n",
      " 56.80445611 92.55966383  7.10360582]\n"
     ]
    }
   ],
   "source": [
    "np.random.seed(0)\n",
    "\n",
    "jours = np.arange(1, 16)  # Jours de 1 à 15\n",
    "valeurs = np.random.rand(15) * 100  # Valeurs aléatoires simulées (ex : ventes, température, etc.)\n",
    "\n",
    "print(\"Jours :\", jours)\n",
    "print(\"Valeurs :\", valeurs)"
   ]
  },
  {
   "cell_type": "code",
   "execution_count": 19,
   "id": "3058a4d7",
   "metadata": {},
   "outputs": [
    {
     "name": "stdout",
     "output_type": "stream",
     "text": [
      "Pente : -0.4336301926647452\n",
      "Ordonnée à l'origine : 63.75544186508777\n"
     ]
    }
   ],
   "source": [
    "# Ajustement d’une droite : y = a * x + b\n",
    "coefficients = np.polyfit(jours, valeurs, deg=1)\n",
    "tendance = np.polyval(coefficients, jours)\n",
    "\n",
    "print(\"Pente :\", coefficients[0])\n",
    "print(\"Ordonnée à l'origine :\", coefficients[1])"
   ]
  },
  {
   "cell_type": "code",
   "execution_count": 20,
   "id": "fbd43b59",
   "metadata": {},
   "outputs": [
    {
     "data": {
      "image/png": "[encoded data removed]",
      "text/plain": [
       "<Figure size 1000x500 with 1 Axes>"
      ]
     },
     "metadata": {},
     "output_type": "display_data"
    }
   ],
   "source": [
    "plt.figure(figsize=(10, 5))\n",
    "plt.plot(jours, valeurs, marker='o', label='Série réelle')\n",
    "plt.plot(jours, tendance, linestyle='--', color='red', label='Tendance linéaire')\n",
    "plt.title(\"Série chronologique avec ligne de tendance\")\n",
    "plt.xlabel(\"Jour\")\n",
    "plt.ylabel(\"Valeur\")\n",
    "plt.legend()\n",
    "plt.grid(True)\n",
    "plt.show()"
   ]
  },
  {
   "cell_type": "code",
   "execution_count": 21,
   "id": "f3a6844e",
   "metadata": {},
   "outputs": [
    {
     "name": "stdout",
     "output_type": "stream",
     "text": [
      "Coefficient de corrélation de Pearson : -0.08261902314010848\n"
     ]
    }
   ],
   "source": [
    "# Calcul du coefficient de corrélation entre jours et valeurs\n",
    "corr_pearson = np.corrcoef(jours, valeurs)[0, 1]\n",
    "print(\"Coefficient de corrélation de Pearson :\", corr_pearson)"
   ]
  },
  {
   "cell_type": "markdown",
   "id": "10cccbde",
   "metadata": {},
   "source": [
    "✔️ La droite de tendance approxime l’évolution linéaire de la série sur 15 jours.\n",
    "✔️ Le coefficient de Pearson est {corr_pearson:.2f} :\n",
    "   - Proche de 1 : tendance positive claire.\n",
    "   - Proche de -1 : tendance négative forte.\n",
    "   - Proche de 0 : pas de relation linéaire.\n",
    "\n",
    "ℹ️ Ce type d’analyse est utile pour visualiser les tendances générales dans des séries temporelles simples."
   ]
  }
 ],
 "metadata": {
  "kernelspec": {
   "display_name": "base",
   "language": "python",
   "name": "python3"
  },
  "language_info": {
   "codemirror_mode": {
    "name": "ipython",
    "version": 3
   },
   "file_extension": ".py",
   "mimetype": "text/x-python",
   "name": "python",
   "nbconvert_exporter": "python",
   "pygments_lexer": "ipython3",
   "version": "3.12.7"
  }
 },
 "nbformat": 4,
 "nbformat_minor": 5
}
