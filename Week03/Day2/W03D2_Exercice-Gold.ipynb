{
 "cells": [
  {
   "cell_type": "markdown",
   "id": "84aa0db6",
   "metadata": {},
   "source": [
    "# Exercices XP Gold\n",
    "Dernière mise à jour : 5 décembre 2024\n",
    "\n",
    "* 🏫 👩🏿‍🏫 Ce que vous apprendrez\n",
    "Vecteurs propres et leur rôle dans la compréhension des transformations linéaires d'une matrice.\n",
    "Techniques de normalisation matricielle et leur importance dans les algorithmes d'apprentissage automatique.\n",
    "\n",
    "\n",
    "*  Ce que vous allez créer\n",
    "Exercices avancés impliquant les vecteurs propres et la normalisation matricielle, améliorant votre compréhension de ces concepts et de leurs applications dans l'analyse de données et l'apprentissage automatique.\n"
   ]
  },
  {
   "cell_type": "markdown",
   "id": "bb6e58f4",
   "metadata": {},
   "source": [
    "## Exercice 1 : Opérations matricielles avancées\n",
    "Instructions\n",
    "Rappel : Les vecteurs propres permettent de comprendre les transformations linéaires d'une matrice. Ils indiquent les directions dans lesquelles une matrice, lorsqu'elle est appliquée, étire l'espace.\n",
    "\n",
    "La normalisation matricielle consiste à ajuster les valeurs d'une matrice à une échelle commune, sans déformer les différences entre les plages de valeurs. Elle permet d'uniformiser l'échelle de toutes les variables. Elle est particulièrement utile dans les algorithmes d'apprentissage automatique qui calculent les distances entre les données.\n",
    "\n",
    "Créez une matrice 5x5 avec des nombres aléatoires et effectuez les opérations suivantes :\n",
    "1. Calculez les valeurs propres et les vecteurs propres.\n",
    "2. Effectuez la normalisation de la matrice."
   ]
  },
  {
   "cell_type": "code",
   "execution_count": 1,
   "id": "49b8831b",
   "metadata": {},
   "outputs": [],
   "source": [
    "# Importation des bibliothèques nécessaires\n",
    "import numpy as np\n",
    "from numpy.linalg import eig\n",
    "from sklearn.preprocessing import MinMaxScaler"
   ]
  },
  {
   "cell_type": "markdown",
   "id": "18cfa53d",
   "metadata": {},
   "source": [
    "1. Création d'une matrice 5x5 aléatoire"
   ]
  },
  {
   "cell_type": "code",
   "execution_count": 2,
   "id": "57a5f78d",
   "metadata": {},
   "outputs": [
    {
     "name": "stdout",
     "output_type": "stream",
     "text": [
      "Matrice A :\n",
      " [[5.48813504 7.15189366 6.02763376 5.44883183 4.23654799]\n",
      " [6.45894113 4.37587211 8.91773001 9.63662761 3.83441519]\n",
      " [7.91725038 5.2889492  5.68044561 9.25596638 0.71036058]\n",
      " [0.871293   0.20218397 8.32619846 7.78156751 8.70012148]\n",
      " [9.78618342 7.99158564 4.61479362 7.80529176 1.18274426]]\n"
     ]
    }
   ],
   "source": [
    "# Génération d'une matrice carrée 5x5 avec des nombres aléatoires\n",
    "np.random.seed(0)\n",
    "A = np.random.rand(5, 5) * 10  # valeurs entre 0 et 10\n",
    "print(\"Matrice A :\\n\", A)"
   ]
  },
  {
   "cell_type": "markdown",
   "id": "60bf4aca",
   "metadata": {},
   "source": [
    "2. Calcul des valeurs propres et vecteurs propres"
   ]
  },
  {
   "cell_type": "code",
   "execution_count": 3,
   "id": "63db368f",
   "metadata": {},
   "outputs": [
    {
     "name": "stdout",
     "output_type": "stream",
     "text": [
      "Valeurs propres :\n",
      " [28.97767245+0.j         -6.53728427+0.j          1.46072894+1.96029522j\n",
      "  1.46072894-1.96029522j -0.85308153+0.j        ]\n",
      "\n",
      "Vecteurs propres (colonnes) :\n",
      " [[ 0.43733688+0.j         -0.19592536+0.j          0.57285154+0.j\n",
      "   0.57285154-0.j          0.63764724+0.j        ]\n",
      " [ 0.49662623+0.j          0.03219327+0.j         -0.14013112+0.23938241j\n",
      "  -0.14013112-0.23938241j -0.53642409+0.j        ]\n",
      " [ 0.42977207+0.j          0.55544796+0.j         -0.17419089+0.24907549j\n",
      "  -0.17419089-0.24907549j  0.29171743+0.j        ]\n",
      " [ 0.38727512+0.j         -0.62338178+0.j         -0.42011495-0.27666898j\n",
      "  -0.42011495+0.27666898j -0.45403266+0.j        ]\n",
      " [ 0.47687818+0.j          0.51327338+0.j          0.4801531 -0.13758665j\n",
      "   0.4801531 +0.13758665j  0.12004364+0.j        ]]\n"
     ]
    }
   ],
   "source": [
    "# Calcul des valeurs propres (eigenvalues) et vecteurs propres (eigenvectors)\n",
    "valeurs_propres, vecteurs_propres = eig(A)\n",
    "\n",
    "print(\"Valeurs propres :\\n\", valeurs_propres)\n",
    "print(\"\\nVecteurs propres (colonnes) :\\n\", vecteurs_propres)"
   ]
  },
  {
   "cell_type": "markdown",
   "id": "4a667e8a",
   "metadata": {},
   "source": [
    "3. Normalisation de la matrice"
   ]
  },
  {
   "cell_type": "code",
   "execution_count": 4,
   "id": "13ae136c",
   "metadata": {},
   "outputs": [
    {
     "name": "stdout",
     "output_type": "stream",
     "text": [
      "Matrice A normalisée :\n",
      " [[0.51787984 0.89220071 0.32834325 0.         0.44133829]\n",
      " [0.62677698 0.53581627 1.         1.         0.39100727]\n",
      " [0.79035827 0.65303671 0.24765692 0.90910225 0.        ]\n",
      " [0.         0.         0.8625284  0.55703186 1.        ]\n",
      " [1.         1.         0.         0.56269696 0.05912363]]\n"
     ]
    }
   ],
   "source": [
    "# Normalisation Min-Max (chaque valeur sera entre 0 et 1)\n",
    "scaler = MinMaxScaler()\n",
    "A_normalisee = scaler.fit_transform(A)\n",
    "\n",
    "print(\"Matrice A normalisée :\\n\", A_normalisee)"
   ]
  },
  {
   "cell_type": "markdown",
   "id": "4b31e81d",
   "metadata": {},
   "source": [
    "La matrice 5x5 a été générée avec des valeurs aléatoires.\n",
    "✔️ Les valeurs propres représentent les facteurs d'étirement dans certaines directions.\n",
    "✔️ Les vecteurs propres donnent les directions non modifiées (en orientation) par la transformation.\n",
    "✔️ La normalisation rend chaque élément de la matrice compris entre 0 et 1, sans changer la structure relative des données."
   ]
  },
  {
   "cell_type": "markdown",
   "id": "fe69dcf7",
   "metadata": {},
   "source": [
    "## Exercice 2 : Analyse statistique de la distribution\n",
    "Instructions\n",
    "Astuce : Pour générer un jeu de données suivant une distribution normale, vous pouvez utiliser la fonction Numpy np.random.normal(). Pour tracer son histogramme, vous plt.hist()pouvez utiliser celle de Matplotlib.\n",
    "\n",
    "Générez un ensemble de données suivant une distribution normale et tracez son histogramme. Ensuite, calculez et interprétez son asymétrie et son kurtosis."
   ]
  },
  {
   "cell_type": "code",
   "execution_count": 6,
   "id": "a9ad76fa",
   "metadata": {},
   "outputs": [],
   "source": [
    "# Import des bibliothèques nécessaires\n",
    "import numpy as np\n",
    "import matplotlib.pyplot as plt\n",
    "from scipy.stats import skew, kurtosis"
   ]
  },
  {
   "cell_type": "markdown",
   "id": "b3aee5ce",
   "metadata": {},
   "source": [
    "1. Génération d’un échantillon normal"
   ]
  },
  {
   "cell_type": "code",
   "execution_count": 7,
   "id": "d904111a",
   "metadata": {},
   "outputs": [],
   "source": [
    "# Génération de 1000 données suivant une loi normale (μ=0, σ=1)\n",
    "np.random.seed(0)\n",
    "data = np.random.normal(loc=0, scale=1, size=1000)"
   ]
  },
  {
   "cell_type": "markdown",
   "id": "fc4ffa5b",
   "metadata": {},
   "source": [
    "2. Tracé de l’histogramme"
   ]
  },
  {
   "cell_type": "code",
   "execution_count": 8,
   "id": "a923cb78",
   "metadata": {},
   "outputs": [
    {
     "data": {
      "image/png": "[encoded data removed]",
      "text/plain": [
       "<Figure size 800x500 with 1 Axes>"
      ]
     },
     "metadata": {},
     "output_type": "display_data"
    }
   ],
   "source": [
    "plt.figure(figsize=(8,5))\n",
    "plt.hist(data, bins=30, density=True, alpha=0.7, color='blue')\n",
    "plt.title(\"Histogramme d'une distribution normale\")\n",
    "plt.xlabel(\"Valeurs\")\n",
    "plt.ylabel(\"Densité\")\n",
    "plt.grid(True)\n",
    "plt.show()"
   ]
  },
  {
   "cell_type": "markdown",
   "id": "16b3f09b",
   "metadata": {},
   "source": [
    "3. Calcul de l’asymétrie (skewness) et de l’aplatissement (kurtosis)"
   ]
  },
  {
   "cell_type": "code",
   "execution_count": 9,
   "id": "aaf15ac1",
   "metadata": {},
   "outputs": [
    {
     "name": "stdout",
     "output_type": "stream",
     "text": [
      "Asymétrie : 0.03385895323565712\n",
      "Kurtosis : -0.0467663244783294\n"
     ]
    }
   ],
   "source": [
    "asymetrie = skew(data)\n",
    "aplatissement = kurtosis(data)\n",
    "\n",
    "print(\"Asymétrie :\", asymetrie)\n",
    "print(\"Kurtosis :\", aplatissement)"
   ]
  },
  {
   "cell_type": "markdown",
   "id": "cfde5dbf",
   "metadata": {},
   "source": [
    "4. Interprétation"
   ]
  },
  {
   "cell_type": "markdown",
   "id": "edb74b3b",
   "metadata": {},
   "source": [
    "* Asytrie ≈ 0 : la distribution est symétrique (comme une vraie normale).\n",
    "* rtosis ≈ 0 : distribution normale (kurtosis de référence pour scipy = 0).\n",
    "   → Positive : plus de valeurs dans les extrêmes (queue épaisse).\n",
    "   → Négative : aplatie (moins de données dans les extrêmes).\n",
    "\n",
    "Résultats :\n",
    "- Asymétrie mesurée : {asymetrie:.3f}\n",
    "- Kurtosis mesuré  : {aplatissement:.3f}"
   ]
  },
  {
   "cell_type": "markdown",
   "id": "83da8532",
   "metadata": {},
   "source": [
    "## Exercice 3 : Prévisions de séries chronologiques\n",
    "* structions\n",
    "\n",
    "\n",
    "import numpy as np\n",
    "\n",
    "* enerating monthly sales data as a NumPy array\n",
    "monthly_sales_data = np.random.randint(100, 500, size=12)  # Random sales data for 12 months\n",
    "\n",
    "\n",
    "À l'aide d'un tableau NumPy simple représentant des données de séries chronologiques (par exemple, des données de ventes mensuelles), montrez comment prévoir les points de données futurs à l'aide de la régression linéaire."
   ]
  },
  {
   "cell_type": "code",
   "execution_count": 10,
   "id": "b2414005",
   "metadata": {},
   "outputs": [],
   "source": [
    "# Importation des bibliothèques nécessaires\n",
    "import numpy as np\n",
    "import matplotlib.pyplot as plt\n",
    "from scipy.stats import linregress"
   ]
  },
  {
   "cell_type": "markdown",
   "id": "6161a963",
   "metadata": {},
   "source": [
    "1. Génération de données de ventes mensuelles"
   ]
  },
  {
   "cell_type": "code",
   "execution_count": 11,
   "id": "5331dec6",
   "metadata": {},
   "outputs": [
    {
     "name": "stdout",
     "output_type": "stream",
     "text": [
      "Ventes mensuelles : [272 147 217 292 423 351 295 459 109 311 377 342]\n"
     ]
    }
   ],
   "source": [
    "# Données aléatoires pour 12 mois (ventes mensuelles)\n",
    "np.random.seed(0)\n",
    "monthly_sales_data = np.random.randint(100, 500, size=12)\n",
    "print(\"Ventes mensuelles :\", monthly_sales_data)"
   ]
  },
  {
   "cell_type": "markdown",
   "id": "701324e2",
   "metadata": {},
   "source": [
    "2. Régression linéaire pour modéliser la tendance"
   ]
  },
  {
   "cell_type": "code",
   "execution_count": 12,
   "id": "a007584b",
   "metadata": {},
   "outputs": [
    {
     "name": "stdout",
     "output_type": "stream",
     "text": [
      "Pente : 9.213286713286713\n",
      "Intercept : 248.9102564102564\n"
     ]
    }
   ],
   "source": [
    "# Mois : 0 à 11 (indices des mois)\n",
    "mois = np.arange(12)\n",
    "\n",
    "# Régression linéaire : Y = slope * mois + intercept\n",
    "slope, intercept, r_value, p_value, std_err = linregress(mois, monthly_sales_data)\n",
    "\n",
    "# Affichage des coefficients\n",
    "print(\"Pente :\", slope)\n",
    "print(\"Intercept :\", intercept)"
   ]
  },
  {
   "cell_type": "markdown",
   "id": "a34fff68",
   "metadata": {},
   "source": [
    "3. Prévision des 3 mois suivants"
   ]
  },
  {
   "cell_type": "code",
   "execution_count": 13,
   "id": "5f63235c",
   "metadata": {},
   "outputs": [
    {
     "name": "stdout",
     "output_type": "stream",
     "text": [
      "Prévisions des ventes (mois 13 à 15) : [359.46969697 368.68298368 377.8962704 ]\n"
     ]
    }
   ],
   "source": [
    "# Mois futurs : 12, 13, 14\n",
    "mois_futurs = np.array([12, 13, 14])\n",
    "previsions = slope * mois_futurs + intercept\n",
    "\n",
    "print(\"Prévisions des ventes (mois 13 à 15) :\", previsions)"
   ]
  },
  {
   "cell_type": "markdown",
   "id": "e418f2ab",
   "metadata": {},
   "source": [
    "4. Visualisation de la série et des prévisions"
   ]
  },
  {
   "cell_type": "code",
   "execution_count": 14,
   "id": "68af8bda",
   "metadata": {},
   "outputs": [
    {
     "data": {
      "image/png": "[encoded data removed]",
      "text/plain": [
       "<Figure size 1000x500 with 1 Axes>"
      ]
     },
     "metadata": {},
     "output_type": "display_data"
    }
   ],
   "source": [
    "plt.figure(figsize=(10,5))\n",
    "\n",
    "# Données réelles\n",
    "plt.plot(mois, monthly_sales_data, marker='o', label='Ventes réelles')\n",
    "\n",
    "# Tendance estimée sur les 12 mois + prévisions\n",
    "mois_etendus = np.concatenate([mois, mois_futurs])\n",
    "tendance_etendue = slope * mois_etendus + intercept\n",
    "plt.plot(mois_etendus, tendance_etendue, linestyle='--', color='red', label='Tendance + prévision')\n",
    "\n",
    "# Prévisions en pointillés\n",
    "plt.scatter(mois_futurs, previsions, color='green', label='Prévisions', marker='x', s=100)\n",
    "\n",
    "plt.title(\"Prévision de ventes par régression linéaire\")\n",
    "plt.xlabel(\"Mois\")\n",
    "plt.ylabel(\"Ventes\")\n",
    "plt.grid(True)\n",
    "plt.legend()\n",
    "plt.show()"
   ]
  },
  {
   "cell_type": "markdown",
   "id": "6647d648",
   "metadata": {},
   "source": [
    "Interprétation"
   ]
  },
  {
   "cell_type": "markdown",
   "id": "76c6c864",
   "metadata": {},
   "source": [
    "✔️ La tendance est estimée à {slope:.2f} unités/mois.\n",
    "✔️ Les prévisions sont faites par extrapolation linéaire.\n",
    "✔️ Ce modèle simple suppose une évolution linéaire constante des ventes.\n",
    "\n",
    "⚠️ Pour des séries chronologiques réelles plus complexes (saisonnalité, bruit), des modèles plus avancés comme ARIMA ou Prophet sont recommandés."
   ]
  },
  {
   "cell_type": "markdown",
   "id": "9d6da433",
   "metadata": {},
   "source": [
    "## Exercice 4 : Agrégation de données Pandas\n",
    "Instructions\n",
    "\n",
    "\n",
    "import pandas as pd\n",
    "\n",
    "* reating a sample Pandas DataFrame\n",
    "data = {\n",
    "    'Product': ['Product A', 'Product B', 'Product C', 'Product A', 'Product B'],\n",
    "    'Sales': [200, 150, 300, 250, 180],\n",
    "    'Month': ['January', 'February', 'March', 'April', 'May']\n",
    "}\n",
    "df = pd.DataFrame(data)\n",
    "\n",
    "\n",
    "À l’aide d’un Pandas DataFrame, démontrez les techniques de regroupement et d’agrégation pour résumer efficacement les données.\n",
    "\n"
   ]
  },
  {
   "cell_type": "code",
   "execution_count": 15,
   "id": "06e9add2",
   "metadata": {},
   "outputs": [
    {
     "data": {
      "application/vnd.microsoft.datawrangler.viewer.v0+json": {
       "columns": [
        {
         "name": "index",
         "rawType": "int64",
         "type": "integer"
        },
        {
         "name": "Product",
         "rawType": "object",
         "type": "string"
        },
        {
         "name": "Sales",
         "rawType": "int64",
         "type": "integer"
        },
        {
         "name": "Month",
         "rawType": "object",
         "type": "string"
        }
       ],
       "ref": "eaf7eef0-f555-4475-8920-44dc58c4c105",
       "rows": [
        [
         "0",
         "Product A",
         "200",
         "January"
        ],
        [
         "1",
         "Product B",
         "150",
         "February"
        ],
        [
         "2",
         "Product C",
         "300",
         "March"
        ],
        [
         "3",
         "Product A",
         "250",
         "April"
        ],
        [
         "4",
         "Product B",
         "180",
         "May"
        ]
       ],
       "shape": {
        "columns": 3,
        "rows": 5
       }
      },
      "text/html": [
       "<div>\n",
       "<style scoped>\n",
       "    .dataframe tbody tr th:only-of-type {\n",
       "        vertical-align: middle;\n",
       "    }\n",
       "\n",
       "    .dataframe tbody tr th {\n",
       "        vertical-align: top;\n",
       "    }\n",
       "\n",
       "    .dataframe thead th {\n",
       "        text-align: right;\n",
       "    }\n",
       "</style>\n",
       "<table border=\"1\" class=\"dataframe\">\n",
       "  <thead>\n",
       "    <tr style=\"text-align: right;\">\n",
       "      <th></th>\n",
       "      <th>Product</th>\n",
       "      <th>Sales</th>\n",
       "      <th>Month</th>\n",
       "    </tr>\n",
       "  </thead>\n",
       "  <tbody>\n",
       "    <tr>\n",
       "      <th>0</th>\n",
       "      <td>Product A</td>\n",
       "      <td>200</td>\n",
       "      <td>January</td>\n",
       "    </tr>\n",
       "    <tr>\n",
       "      <th>1</th>\n",
       "      <td>Product B</td>\n",
       "      <td>150</td>\n",
       "      <td>February</td>\n",
       "    </tr>\n",
       "    <tr>\n",
       "      <th>2</th>\n",
       "      <td>Product C</td>\n",
       "      <td>300</td>\n",
       "      <td>March</td>\n",
       "    </tr>\n",
       "    <tr>\n",
       "      <th>3</th>\n",
       "      <td>Product A</td>\n",
       "      <td>250</td>\n",
       "      <td>April</td>\n",
       "    </tr>\n",
       "    <tr>\n",
       "      <th>4</th>\n",
       "      <td>Product B</td>\n",
       "      <td>180</td>\n",
       "      <td>May</td>\n",
       "    </tr>\n",
       "  </tbody>\n",
       "</table>\n",
       "</div>"
      ],
      "text/plain": [
       "     Product  Sales     Month\n",
       "0  Product A    200   January\n",
       "1  Product B    150  February\n",
       "2  Product C    300     March\n",
       "3  Product A    250     April\n",
       "4  Product B    180       May"
      ]
     },
     "execution_count": 15,
     "metadata": {},
     "output_type": "execute_result"
    }
   ],
   "source": [
    "# Importation de pandas\n",
    "import pandas as pd\n",
    "\n",
    "# Création du DataFrame\n",
    "data = {\n",
    "    'Product': ['Product A', 'Product B', 'Product C', 'Product A', 'Product B'],\n",
    "    'Sales': [200, 150, 300, 250, 180],\n",
    "    'Month': ['January', 'February', 'March', 'April', 'May']\n",
    "}\n",
    "df = pd.DataFrame(data)\n",
    "\n",
    "# Affichage du DataFrame\n",
    "df"
   ]
  },
  {
   "cell_type": "markdown",
   "id": "691711b1",
   "metadata": {},
   "source": [
    "1. 🔢 Agrégation simple : total des ventes par produit"
   ]
  },
  {
   "cell_type": "code",
   "execution_count": 16,
   "id": "093b9189",
   "metadata": {},
   "outputs": [
    {
     "name": "stdout",
     "output_type": "stream",
     "text": [
      "Total des ventes par produit :\n",
      " Product\n",
      "Product A    450\n",
      "Product B    330\n",
      "Product C    300\n",
      "Name: Sales, dtype: int64\n"
     ]
    }
   ],
   "source": [
    "# Total des ventes par produit\n",
    "total_sales = df.groupby('Product')['Sales'].sum()\n",
    "print(\"Total des ventes par produit :\\n\", total_sales)"
   ]
  },
  {
   "cell_type": "markdown",
   "id": "e4a06f05",
   "metadata": {},
   "source": [
    "2. 📊 Moyenne des ventes par produit"
   ]
  },
  {
   "cell_type": "code",
   "execution_count": 17,
   "id": "2d12d2bc",
   "metadata": {},
   "outputs": [
    {
     "name": "stdout",
     "output_type": "stream",
     "text": [
      "Moyenne des ventes par produit :\n",
      " Product\n",
      "Product A    225.0\n",
      "Product B    165.0\n",
      "Product C    300.0\n",
      "Name: Sales, dtype: float64\n"
     ]
    }
   ],
   "source": [
    "# Moyenne des ventes par produit\n",
    "avg_sales = df.groupby('Product')['Sales'].mean()\n",
    "print(\"Moyenne des ventes par produit :\\n\", avg_sales)"
   ]
  },
  {
   "cell_type": "markdown",
   "id": "30409d6f",
   "metadata": {},
   "source": [
    "3. 📦 Statistiques descriptives par produit"
   ]
  },
  {
   "cell_type": "code",
   "execution_count": 18,
   "id": "c7e0b038",
   "metadata": {},
   "outputs": [
    {
     "data": {
      "application/vnd.microsoft.datawrangler.viewer.v0+json": {
       "columns": [
        {
         "name": "Product",
         "rawType": "object",
         "type": "string"
        },
        {
         "name": "count",
         "rawType": "float64",
         "type": "float"
        },
        {
         "name": "mean",
         "rawType": "float64",
         "type": "float"
        },
        {
         "name": "std",
         "rawType": "float64",
         "type": "float"
        },
        {
         "name": "min",
         "rawType": "float64",
         "type": "float"
        },
        {
         "name": "25%",
         "rawType": "float64",
         "type": "float"
        },
        {
         "name": "50%",
         "rawType": "float64",
         "type": "float"
        },
        {
         "name": "75%",
         "rawType": "float64",
         "type": "float"
        },
        {
         "name": "max",
         "rawType": "float64",
         "type": "float"
        }
       ],
       "ref": "10b64800-7903-447a-9c93-ae1d85aa664c",
       "rows": [
        [
         "Product A",
         "2.0",
         "225.0",
         "35.35533905932738",
         "200.0",
         "212.5",
         "225.0",
         "237.5",
         "250.0"
        ],
        [
         "Product B",
         "2.0",
         "165.0",
         "21.213203435596427",
         "150.0",
         "157.5",
         "165.0",
         "172.5",
         "180.0"
        ],
        [
         "Product C",
         "1.0",
         "300.0",
         null,
         "300.0",
         "300.0",
         "300.0",
         "300.0",
         "300.0"
        ]
       ],
       "shape": {
        "columns": 8,
        "rows": 3
       }
      },
      "text/html": [
       "<div>\n",
       "<style scoped>\n",
       "    .dataframe tbody tr th:only-of-type {\n",
       "        vertical-align: middle;\n",
       "    }\n",
       "\n",
       "    .dataframe tbody tr th {\n",
       "        vertical-align: top;\n",
       "    }\n",
       "\n",
       "    .dataframe thead th {\n",
       "        text-align: right;\n",
       "    }\n",
       "</style>\n",
       "<table border=\"1\" class=\"dataframe\">\n",
       "  <thead>\n",
       "    <tr style=\"text-align: right;\">\n",
       "      <th></th>\n",
       "      <th>count</th>\n",
       "      <th>mean</th>\n",
       "      <th>std</th>\n",
       "      <th>min</th>\n",
       "      <th>25%</th>\n",
       "      <th>50%</th>\n",
       "      <th>75%</th>\n",
       "      <th>max</th>\n",
       "    </tr>\n",
       "    <tr>\n",
       "      <th>Product</th>\n",
       "      <th></th>\n",
       "      <th></th>\n",
       "      <th></th>\n",
       "      <th></th>\n",
       "      <th></th>\n",
       "      <th></th>\n",
       "      <th></th>\n",
       "      <th></th>\n",
       "    </tr>\n",
       "  </thead>\n",
       "  <tbody>\n",
       "    <tr>\n",
       "      <th>Product A</th>\n",
       "      <td>2.0</td>\n",
       "      <td>225.0</td>\n",
       "      <td>35.355339</td>\n",
       "      <td>200.0</td>\n",
       "      <td>212.5</td>\n",
       "      <td>225.0</td>\n",
       "      <td>237.5</td>\n",
       "      <td>250.0</td>\n",
       "    </tr>\n",
       "    <tr>\n",
       "      <th>Product B</th>\n",
       "      <td>2.0</td>\n",
       "      <td>165.0</td>\n",
       "      <td>21.213203</td>\n",
       "      <td>150.0</td>\n",
       "      <td>157.5</td>\n",
       "      <td>165.0</td>\n",
       "      <td>172.5</td>\n",
       "      <td>180.0</td>\n",
       "    </tr>\n",
       "    <tr>\n",
       "      <th>Product C</th>\n",
       "      <td>1.0</td>\n",
       "      <td>300.0</td>\n",
       "      <td>NaN</td>\n",
       "      <td>300.0</td>\n",
       "      <td>300.0</td>\n",
       "      <td>300.0</td>\n",
       "      <td>300.0</td>\n",
       "      <td>300.0</td>\n",
       "    </tr>\n",
       "  </tbody>\n",
       "</table>\n",
       "</div>"
      ],
      "text/plain": [
       "           count   mean        std    min    25%    50%    75%    max\n",
       "Product                                                              \n",
       "Product A    2.0  225.0  35.355339  200.0  212.5  225.0  237.5  250.0\n",
       "Product B    2.0  165.0  21.213203  150.0  157.5  165.0  172.5  180.0\n",
       "Product C    1.0  300.0        NaN  300.0  300.0  300.0  300.0  300.0"
      ]
     },
     "execution_count": 18,
     "metadata": {},
     "output_type": "execute_result"
    }
   ],
   "source": [
    "# Statistiques générales : min, max, count, mean, etc.\n",
    "product_stats = df.groupby('Product')['Sales'].describe()\n",
    "product_stats"
   ]
  },
  {
   "cell_type": "markdown",
   "id": "9aae1ba4",
   "metadata": {},
   "source": [
    "4. 📈 Agrégation multiple"
   ]
  },
  {
   "cell_type": "code",
   "execution_count": 19,
   "id": "e6fc8b23",
   "metadata": {},
   "outputs": [
    {
     "data": {
      "application/vnd.microsoft.datawrangler.viewer.v0+json": {
       "columns": [
        {
         "name": "Product",
         "rawType": "object",
         "type": "string"
        },
        {
         "name": "sum",
         "rawType": "int64",
         "type": "integer"
        },
        {
         "name": "mean",
         "rawType": "float64",
         "type": "float"
        },
        {
         "name": "min",
         "rawType": "int64",
         "type": "integer"
        },
        {
         "name": "max",
         "rawType": "int64",
         "type": "integer"
        }
       ],
       "ref": "44daf8cd-e6a5-430e-98c8-0bbd10bc6d43",
       "rows": [
        [
         "Product A",
         "450",
         "225.0",
         "200",
         "250"
        ],
        [
         "Product B",
         "330",
         "165.0",
         "150",
         "180"
        ],
        [
         "Product C",
         "300",
         "300.0",
         "300",
         "300"
        ]
       ],
       "shape": {
        "columns": 4,
        "rows": 3
       }
      },
      "text/html": [
       "<div>\n",
       "<style scoped>\n",
       "    .dataframe tbody tr th:only-of-type {\n",
       "        vertical-align: middle;\n",
       "    }\n",
       "\n",
       "    .dataframe tbody tr th {\n",
       "        vertical-align: top;\n",
       "    }\n",
       "\n",
       "    .dataframe thead th {\n",
       "        text-align: right;\n",
       "    }\n",
       "</style>\n",
       "<table border=\"1\" class=\"dataframe\">\n",
       "  <thead>\n",
       "    <tr style=\"text-align: right;\">\n",
       "      <th></th>\n",
       "      <th>sum</th>\n",
       "      <th>mean</th>\n",
       "      <th>min</th>\n",
       "      <th>max</th>\n",
       "    </tr>\n",
       "    <tr>\n",
       "      <th>Product</th>\n",
       "      <th></th>\n",
       "      <th></th>\n",
       "      <th></th>\n",
       "      <th></th>\n",
       "    </tr>\n",
       "  </thead>\n",
       "  <tbody>\n",
       "    <tr>\n",
       "      <th>Product A</th>\n",
       "      <td>450</td>\n",
       "      <td>225.0</td>\n",
       "      <td>200</td>\n",
       "      <td>250</td>\n",
       "    </tr>\n",
       "    <tr>\n",
       "      <th>Product B</th>\n",
       "      <td>330</td>\n",
       "      <td>165.0</td>\n",
       "      <td>150</td>\n",
       "      <td>180</td>\n",
       "    </tr>\n",
       "    <tr>\n",
       "      <th>Product C</th>\n",
       "      <td>300</td>\n",
       "      <td>300.0</td>\n",
       "      <td>300</td>\n",
       "      <td>300</td>\n",
       "    </tr>\n",
       "  </tbody>\n",
       "</table>\n",
       "</div>"
      ],
      "text/plain": [
       "           sum   mean  min  max\n",
       "Product                        \n",
       "Product A  450  225.0  200  250\n",
       "Product B  330  165.0  150  180\n",
       "Product C  300  300.0  300  300"
      ]
     },
     "execution_count": 19,
     "metadata": {},
     "output_type": "execute_result"
    }
   ],
   "source": [
    "# Regroupement avec plusieurs fonctions d'agrégation\n",
    "agg_sales = df.groupby('Product')['Sales'].agg(['sum', 'mean', 'min', 'max'])\n",
    "agg_sales"
   ]
  },
  {
   "cell_type": "markdown",
   "id": "5826350b",
   "metadata": {},
   "source": [
    "✅ Conclusion"
   ]
  },
  {
   "cell_type": "markdown",
   "id": "5d7c4972",
   "metadata": {},
   "source": [
    "✔️ L'agrégation avec `groupby()` permet de résumer les données de façon efficace :\n",
    "   - Somme ou moyenne par produit\n",
    "   - Statistiques combinées\n",
    "   - Comparaisons entre catégories\n",
    "\n",
    "🔍 C’est une méthode clé pour analyser rapidement des ensembles de données catégorielles."
   ]
  },
  {
   "cell_type": "markdown",
   "id": "759d818c",
   "metadata": {},
   "source": [
    "## Exercice 5 : Visualisation de données complexes\n",
    "Instructions\n",
    "Créez une mise en page multi-tracés à l'aide de Matplotlib et tracez différents types de graphiques (par exemple, ligne, dispersion, barre) avec des données générées par NumPy."
   ]
  },
  {
   "cell_type": "code",
   "execution_count": 20,
   "id": "b7286968",
   "metadata": {},
   "outputs": [],
   "source": [
    "# Import des bibliothèques nécessaires\n",
    "import numpy as np\n",
    "import matplotlib.pyplot as plt"
   ]
  },
  {
   "cell_type": "markdown",
   "id": "7dffd901",
   "metadata": {},
   "source": [
    "1. 🔢 Génération des données"
   ]
  },
  {
   "cell_type": "code",
   "execution_count": 21,
   "id": "12aa1c18",
   "metadata": {},
   "outputs": [],
   "source": [
    "# Données pour les tracés\n",
    "np.random.seed(0)\n",
    "x = np.linspace(0, 10, 50)\n",
    "y_line = np.sin(x)  # ligne sinusoïdale\n",
    "y_scatter = np.random.rand(50) * 10  # données pour le scatter\n",
    "categories = ['A', 'B', 'C', 'D']\n",
    "values = [15, 30, 45, 10]  # données pour le bar plot"
   ]
  },
  {
   "cell_type": "markdown",
   "id": "9cd00359",
   "metadata": {},
   "source": [
    "2. 🖼️ Création d'une mise en page multi-tracés"
   ]
  },
  {
   "cell_type": "code",
   "execution_count": 22,
   "id": "281c9238",
   "metadata": {},
   "outputs": [
    {
     "data": {
      "image/png": "[encoded data removed]",
      "text/plain": [
       "<Figure size 1800x500 with 3 Axes>"
      ]
     },
     "metadata": {},
     "output_type": "display_data"
    }
   ],
   "source": [
    "# Création d'une figure avec 3 sous-graphiques côte à côte\n",
    "fig, axs = plt.subplots(1, 3, figsize=(18, 5))\n",
    "\n",
    "# Tracé 1 : courbe\n",
    "axs[0].plot(x, y_line, color='blue')\n",
    "axs[0].set_title(\"Tracé en ligne\")\n",
    "axs[0].set_xlabel(\"x\")\n",
    "axs[0].set_ylabel(\"sin(x)\")\n",
    "axs[0].grid(True)\n",
    "\n",
    "# Tracé 2 : nuage de points\n",
    "axs[1].scatter(x, y_scatter, color='green')\n",
    "axs[1].set_title(\"Nuage de points\")\n",
    "axs[1].set_xlabel(\"x\")\n",
    "axs[1].set_ylabel(\"Valeurs aléatoires\")\n",
    "\n",
    "# Tracé 3 : graphique en barres\n",
    "axs[2].bar(categories, values, color='orange')\n",
    "axs[2].set_title(\"Diagramme en barres\")\n",
    "axs[2].set_xlabel(\"Catégories\")\n",
    "axs[2].set_ylabel(\"Valeurs\")\n",
    "\n",
    "plt.tight_layout()\n",
    "plt.show()"
   ]
  },
  {
   "cell_type": "markdown",
   "id": "2fa70203",
   "metadata": {},
   "source": [
    "✅ Conclusion"
   ]
  },
  {
   "cell_type": "markdown",
   "id": "af48a88f",
   "metadata": {},
   "source": [
    "✔️ Cette mise en page montre comment combiner plusieurs types de graphiques dans une même figure :\n",
    "   - Ligne (analyse de tendance)\n",
    "   - Dispersion (relation entre variables)\n",
    "   - Barres (comparaison catégorielle)\n",
    "\n",
    "📊 La disposition multi-tracés permet de visualiser plusieurs aspects d’un jeu de données simultanément."
   ]
  }
 ],
 "metadata": {
  "kernelspec": {
   "display_name": "base",
   "language": "python",
   "name": "python3"
  },
  "language_info": {
   "codemirror_mode": {
    "name": "ipython",
    "version": 3
   },
   "file_extension": ".py",
   "mimetype": "text/x-python",
   "name": "python",
   "nbconvert_exporter": "python",
   "pygments_lexer": "ipython3",
   "version": "3.12.7"
  }
 },
 "nbformat": 4,
 "nbformat_minor": 5
}
