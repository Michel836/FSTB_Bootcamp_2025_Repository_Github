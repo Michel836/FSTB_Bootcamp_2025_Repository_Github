{
 "cells": [
  {
   "cell_type": "markdown",
   "id": "247f064b",
   "metadata": {},
   "source": [
    "# Exercices XP ninja\n",
    "Dernière mise à jour : 27 janvier 2025\n",
    "\n",
    "* 🏫 👩🏿‍🏫 Ce que vous apprendrez\n",
    "Réaliser des analyses statistiques détaillées pour comprendre l’impact des variables sur un résultat donné.\n",
    "Exploration de données et tests d'hypothèses.\n",
    "Techniques avancées d'analyse de données applicables aux sciences biologiques et de la santé.\n",
    "\n",
    "\n",
    "* Ce que vous allez créer\n",
    "Une analyse statistique approfondie d’un ensemble de données liées au régime alimentaire et à la croissance, fournissant des informations sur les effets de différents régimes alimentaires sur la croissance des poussins.\n"
   ]
  },
  {
   "cell_type": "markdown",
   "id": "a109cc1b",
   "metadata": {},
   "source": [
    "Exercice : Analyse des effets de l’alimentation sur la croissance\n",
    "Objectif : Réaliser une analyse statistique détaillée pour comprendre comment différents régimes alimentaires ont un impact sur la croissance des poussins.\n",
    "\n",
    "Ensemble de données : Cet ensemble de données contient des informations sur le poids et l'âge des poussins soumis à différents régimes. Il est disponible sur Kaggle : Poids et âge des poussins soumis à différents régimes.\n",
    "\n",
    "Tâches à effectuer :\n",
    "\n",
    "Exploration des données : Examinez l'ensemble de données pour comprendre sa structure et son contenu. Identifiez les variables clés telles que l'âge, le poids et le type de régime alimentaire.\n",
    "\n",
    "Visualisation des données : créez des visualisations pour montrer comment le poids varie avec l'âge pour les poussins suivant différents régimes.\n",
    "Tests statistiques : utilisez des tests statistiques appropriés (par exemple, ANOVA) pour déterminer si les différences de prise de poids entre les différents régimes sont statistiquement significatives.\n",
    "Analyse de la croissance : Analysez le taux de croissance des poussins dans différentes conditions alimentaires.\n",
    "Résultats du rapport : compilez vos résultats dans un rapport complet qui comprend à la fois l’analyse statistique et les implications pratiques.\n",
    "\n",
    "Outils et techniques :\n",
    "\n",
    "Utilisez des bibliothèques Python comme Pandas pour la manipulation des données.\n",
    "Utilisez Matplotlib ou Seaborn pour la visualisation.\n",
    "Appliquer des méthodes statistiques à l’aide de SciPy.\n",
    "Résultat attendu :\n",
    "\n",
    "Un rapport détaillé qui fournit des informations sur l’efficacité de différents régimes alimentaires sur la croissance des poussins, étayées par des preuves statistiques."
   ]
  },
  {
   "cell_type": "markdown",
   "id": "8a79b1fe",
   "metadata": {},
   "source": [
    "Analyse de l’effet du régime sur la croissance des poussins"
   ]
  },
  {
   "cell_type": "code",
   "execution_count": 1,
   "id": "d84b7838",
   "metadata": {},
   "outputs": [],
   "source": [
    "# Importation des bibliothèques\n",
    "import pandas as pd\n",
    "import matplotlib.pyplot as plt\n",
    "import seaborn as sns\n",
    "from scipy.stats import f_oneway"
   ]
  },
  {
   "cell_type": "markdown",
   "id": "52ddd169",
   "metadata": {},
   "source": [
    "1. 🔍 Exploration des données"
   ]
  },
  {
   "cell_type": "code",
   "execution_count": 2,
   "id": "1fda3bfb",
   "metadata": {},
   "outputs": [
    {
     "data": {
      "application/vnd.microsoft.datawrangler.viewer.v0+json": {
       "columns": [
        {
         "name": "index",
         "rawType": "int64",
         "type": "integer"
        },
        {
         "name": "Unnamed: 0",
         "rawType": "int64",
         "type": "integer"
        },
        {
         "name": "weight",
         "rawType": "int64",
         "type": "integer"
        },
        {
         "name": "Time",
         "rawType": "int64",
         "type": "integer"
        },
        {
         "name": "Chick",
         "rawType": "int64",
         "type": "integer"
        },
        {
         "name": "Diet",
         "rawType": "int64",
         "type": "integer"
        }
       ],
       "ref": "c59c9d97-45b2-4453-98d4-140014707f61",
       "rows": [
        [
         "0",
         "1",
         "42",
         "0",
         "1",
         "1"
        ],
        [
         "1",
         "2",
         "51",
         "2",
         "1",
         "1"
        ],
        [
         "2",
         "3",
         "59",
         "4",
         "1",
         "1"
        ],
        [
         "3",
         "4",
         "64",
         "6",
         "1",
         "1"
        ],
        [
         "4",
         "5",
         "76",
         "8",
         "1",
         "1"
        ]
       ],
       "shape": {
        "columns": 5,
        "rows": 5
       }
      },
      "text/html": [
       "<div>\n",
       "<style scoped>\n",
       "    .dataframe tbody tr th:only-of-type {\n",
       "        vertical-align: middle;\n",
       "    }\n",
       "\n",
       "    .dataframe tbody tr th {\n",
       "        vertical-align: top;\n",
       "    }\n",
       "\n",
       "    .dataframe thead th {\n",
       "        text-align: right;\n",
       "    }\n",
       "</style>\n",
       "<table border=\"1\" class=\"dataframe\">\n",
       "  <thead>\n",
       "    <tr style=\"text-align: right;\">\n",
       "      <th></th>\n",
       "      <th>Unnamed: 0</th>\n",
       "      <th>weight</th>\n",
       "      <th>Time</th>\n",
       "      <th>Chick</th>\n",
       "      <th>Diet</th>\n",
       "    </tr>\n",
       "  </thead>\n",
       "  <tbody>\n",
       "    <tr>\n",
       "      <th>0</th>\n",
       "      <td>1</td>\n",
       "      <td>42</td>\n",
       "      <td>0</td>\n",
       "      <td>1</td>\n",
       "      <td>1</td>\n",
       "    </tr>\n",
       "    <tr>\n",
       "      <th>1</th>\n",
       "      <td>2</td>\n",
       "      <td>51</td>\n",
       "      <td>2</td>\n",
       "      <td>1</td>\n",
       "      <td>1</td>\n",
       "    </tr>\n",
       "    <tr>\n",
       "      <th>2</th>\n",
       "      <td>3</td>\n",
       "      <td>59</td>\n",
       "      <td>4</td>\n",
       "      <td>1</td>\n",
       "      <td>1</td>\n",
       "    </tr>\n",
       "    <tr>\n",
       "      <th>3</th>\n",
       "      <td>4</td>\n",
       "      <td>64</td>\n",
       "      <td>6</td>\n",
       "      <td>1</td>\n",
       "      <td>1</td>\n",
       "    </tr>\n",
       "    <tr>\n",
       "      <th>4</th>\n",
       "      <td>5</td>\n",
       "      <td>76</td>\n",
       "      <td>8</td>\n",
       "      <td>1</td>\n",
       "      <td>1</td>\n",
       "    </tr>\n",
       "  </tbody>\n",
       "</table>\n",
       "</div>"
      ],
      "text/plain": [
       "   Unnamed: 0  weight  Time  Chick  Diet\n",
       "0           1      42     0      1     1\n",
       "1           2      51     2      1     1\n",
       "2           3      59     4      1     1\n",
       "3           4      64     6      1     1\n",
       "4           5      76     8      1     1"
      ]
     },
     "execution_count": 2,
     "metadata": {},
     "output_type": "execute_result"
    }
   ],
   "source": [
    "# Chargement des données\n",
    "df = pd.read_csv(\"ChickWeight.csv\")\n",
    "\n",
    "# Aperçu\n",
    "df.head()"
   ]
  },
  {
   "cell_type": "code",
   "execution_count": 3,
   "id": "1ad06986",
   "metadata": {},
   "outputs": [
    {
     "name": "stdout",
     "output_type": "stream",
     "text": [
      "<class 'pandas.core.frame.DataFrame'>\n",
      "RangeIndex: 578 entries, 0 to 577\n",
      "Data columns (total 5 columns):\n",
      " #   Column      Non-Null Count  Dtype\n",
      "---  ------      --------------  -----\n",
      " 0   Unnamed: 0  578 non-null    int64\n",
      " 1   weight      578 non-null    int64\n",
      " 2   Time        578 non-null    int64\n",
      " 3   Chick       578 non-null    int64\n",
      " 4   Diet        578 non-null    int64\n",
      "dtypes: int64(5)\n",
      "memory usage: 22.7 KB\n"
     ]
    },
    {
     "data": {
      "application/vnd.microsoft.datawrangler.viewer.v0+json": {
       "columns": [
        {
         "name": "index",
         "rawType": "object",
         "type": "string"
        },
        {
         "name": "Unnamed: 0",
         "rawType": "float64",
         "type": "float"
        },
        {
         "name": "weight",
         "rawType": "float64",
         "type": "float"
        },
        {
         "name": "Time",
         "rawType": "float64",
         "type": "float"
        },
        {
         "name": "Chick",
         "rawType": "float64",
         "type": "float"
        },
        {
         "name": "Diet",
         "rawType": "float64",
         "type": "float"
        }
       ],
       "ref": "699abfd5-7874-4217-93c1-95a84c7d1eb2",
       "rows": [
        [
         "count",
         "578.0",
         "578.0",
         "578.0",
         "578.0",
         "578.0"
        ],
        [
         "mean",
         "289.5",
         "121.81833910034602",
         "10.717993079584774",
         "25.750865051903116",
         "2.235294117647059"
        ],
        [
         "std",
         "166.99850298730226",
         "71.07195959910935",
         "6.758399725465496",
         "14.56879482361552",
         "1.1626778390275148"
        ],
        [
         "min",
         "1.0",
         "35.0",
         "0.0",
         "1.0",
         "1.0"
        ],
        [
         "25%",
         "145.25",
         "63.0",
         "4.0",
         "13.0",
         "1.0"
        ],
        [
         "50%",
         "289.5",
         "103.0",
         "10.0",
         "26.0",
         "2.0"
        ],
        [
         "75%",
         "433.75",
         "163.75",
         "16.0",
         "38.0",
         "3.0"
        ],
        [
         "max",
         "578.0",
         "373.0",
         "21.0",
         "50.0",
         "4.0"
        ]
       ],
       "shape": {
        "columns": 5,
        "rows": 8
       }
      },
      "text/html": [
       "<div>\n",
       "<style scoped>\n",
       "    .dataframe tbody tr th:only-of-type {\n",
       "        vertical-align: middle;\n",
       "    }\n",
       "\n",
       "    .dataframe tbody tr th {\n",
       "        vertical-align: top;\n",
       "    }\n",
       "\n",
       "    .dataframe thead th {\n",
       "        text-align: right;\n",
       "    }\n",
       "</style>\n",
       "<table border=\"1\" class=\"dataframe\">\n",
       "  <thead>\n",
       "    <tr style=\"text-align: right;\">\n",
       "      <th></th>\n",
       "      <th>Unnamed: 0</th>\n",
       "      <th>weight</th>\n",
       "      <th>Time</th>\n",
       "      <th>Chick</th>\n",
       "      <th>Diet</th>\n",
       "    </tr>\n",
       "  </thead>\n",
       "  <tbody>\n",
       "    <tr>\n",
       "      <th>count</th>\n",
       "      <td>578.000000</td>\n",
       "      <td>578.000000</td>\n",
       "      <td>578.000000</td>\n",
       "      <td>578.000000</td>\n",
       "      <td>578.000000</td>\n",
       "    </tr>\n",
       "    <tr>\n",
       "      <th>mean</th>\n",
       "      <td>289.500000</td>\n",
       "      <td>121.818339</td>\n",
       "      <td>10.717993</td>\n",
       "      <td>25.750865</td>\n",
       "      <td>2.235294</td>\n",
       "    </tr>\n",
       "    <tr>\n",
       "      <th>std</th>\n",
       "      <td>166.998503</td>\n",
       "      <td>71.071960</td>\n",
       "      <td>6.758400</td>\n",
       "      <td>14.568795</td>\n",
       "      <td>1.162678</td>\n",
       "    </tr>\n",
       "    <tr>\n",
       "      <th>min</th>\n",
       "      <td>1.000000</td>\n",
       "      <td>35.000000</td>\n",
       "      <td>0.000000</td>\n",
       "      <td>1.000000</td>\n",
       "      <td>1.000000</td>\n",
       "    </tr>\n",
       "    <tr>\n",
       "      <th>25%</th>\n",
       "      <td>145.250000</td>\n",
       "      <td>63.000000</td>\n",
       "      <td>4.000000</td>\n",
       "      <td>13.000000</td>\n",
       "      <td>1.000000</td>\n",
       "    </tr>\n",
       "    <tr>\n",
       "      <th>50%</th>\n",
       "      <td>289.500000</td>\n",
       "      <td>103.000000</td>\n",
       "      <td>10.000000</td>\n",
       "      <td>26.000000</td>\n",
       "      <td>2.000000</td>\n",
       "    </tr>\n",
       "    <tr>\n",
       "      <th>75%</th>\n",
       "      <td>433.750000</td>\n",
       "      <td>163.750000</td>\n",
       "      <td>16.000000</td>\n",
       "      <td>38.000000</td>\n",
       "      <td>3.000000</td>\n",
       "    </tr>\n",
       "    <tr>\n",
       "      <th>max</th>\n",
       "      <td>578.000000</td>\n",
       "      <td>373.000000</td>\n",
       "      <td>21.000000</td>\n",
       "      <td>50.000000</td>\n",
       "      <td>4.000000</td>\n",
       "    </tr>\n",
       "  </tbody>\n",
       "</table>\n",
       "</div>"
      ],
      "text/plain": [
       "       Unnamed: 0      weight        Time       Chick        Diet\n",
       "count  578.000000  578.000000  578.000000  578.000000  578.000000\n",
       "mean   289.500000  121.818339   10.717993   25.750865    2.235294\n",
       "std    166.998503   71.071960    6.758400   14.568795    1.162678\n",
       "min      1.000000   35.000000    0.000000    1.000000    1.000000\n",
       "25%    145.250000   63.000000    4.000000   13.000000    1.000000\n",
       "50%    289.500000  103.000000   10.000000   26.000000    2.000000\n",
       "75%    433.750000  163.750000   16.000000   38.000000    3.000000\n",
       "max    578.000000  373.000000   21.000000   50.000000    4.000000"
      ]
     },
     "execution_count": 3,
     "metadata": {},
     "output_type": "execute_result"
    }
   ],
   "source": [
    "# Structure du jeu de données\n",
    "df.info()\n",
    "df.describe()"
   ]
  },
  {
   "cell_type": "markdown",
   "id": "15e2a753",
   "metadata": {},
   "source": [
    "2. 📊 Visualisation de la croissance par régime"
   ]
  },
  {
   "cell_type": "code",
   "execution_count": 4,
   "id": "66316d92",
   "metadata": {},
   "outputs": [
    {
     "name": "stderr",
     "output_type": "stream",
     "text": [
      "C:\\Users\\chume\\AppData\\Local\\Temp\\ipykernel_21360\\42901166.py:3: FutureWarning: \n",
      "\n",
      "The `ci` parameter is deprecated. Use `errorbar=None` for the same effect.\n",
      "\n",
      "  sns.lineplot(data=df, x='Time', y='weight', hue='Diet', ci=None)\n"
     ]
    },
    {
     "data": {
      "image/png": "[encoded data removed]",
      "text/plain": [
       "<Figure size 1000x600 with 1 Axes>"
      ]
     },
     "metadata": {},
     "output_type": "display_data"
    }
   ],
   "source": [
    "# Poids en fonction de l'âge, regroupés par régime\n",
    "plt.figure(figsize=(10, 6))\n",
    "sns.lineplot(data=df, x='Time', y='weight', hue='Diet', ci=None)\n",
    "plt.title(\"Évolution du poids des poussins par régime\")\n",
    "plt.xlabel(\"Âge (jours)\")\n",
    "plt.ylabel(\"Poids (g)\")\n",
    "plt.grid(True)\n",
    "plt.show()"
   ]
  },
  {
   "cell_type": "code",
   "execution_count": 5,
   "id": "95fb35d2",
   "metadata": {},
   "outputs": [
    {
     "data": {
      "image/png": "[encoded data removed]",
      "text/plain": [
       "<Figure size 800x500 with 1 Axes>"
      ]
     },
     "metadata": {},
     "output_type": "display_data"
    }
   ],
   "source": [
    "# Boîte à moustaches du poids final par régime\n",
    "latest_time = df['Time'].max()\n",
    "final_weights = df[df['Time'] == latest_time]\n",
    "\n",
    "plt.figure(figsize=(8,5))\n",
    "sns.boxplot(data=final_weights, x='Diet', y='weight')\n",
    "plt.title(\"Poids final des poussins par régime (jour {})\".format(latest_time))\n",
    "plt.xlabel(\"Régime\")\n",
    "plt.ylabel(\"Poids (g)\")\n",
    "plt.grid(True)\n",
    "plt.show()"
   ]
  },
  {
   "cell_type": "markdown",
   "id": "83508b7c",
   "metadata": {},
   "source": [
    "3. 🧪 Test ANOVA : poids final selon le régime"
   ]
  },
  {
   "cell_type": "code",
   "execution_count": 6,
   "id": "0b2b4938",
   "metadata": {},
   "outputs": [],
   "source": [
    "# Extraction des poids finaux par régime\n",
    "groups = [group[\"weight\"].values for name, group in final_weights.groupby(\"Diet\")]"
   ]
  },
  {
   "cell_type": "code",
   "execution_count": 7,
   "id": "9d17785b",
   "metadata": {},
   "outputs": [
    {
     "name": "stdout",
     "output_type": "stream",
     "text": [
      "Statistique F : 4.6547131777896\n",
      "Valeur p : 0.006857958840608343\n"
     ]
    }
   ],
   "source": [
    "# ANOVA à un facteur\n",
    "f_stat, p_value = f_oneway(*groups)\n",
    "\n",
    "print(\"Statistique F :\", f_stat)\n",
    "print(\"Valeur p :\", p_value)"
   ]
  },
  {
   "cell_type": "code",
   "execution_count": 8,
   "id": "d03b6883",
   "metadata": {},
   "outputs": [
    {
     "name": "stdout",
     "output_type": "stream",
     "text": [
      "→ Différence significative entre les régimes (p < 0.05).\n"
     ]
    }
   ],
   "source": [
    "# Interprétation\n",
    "alpha = 0.05\n",
    "if p_value < alpha:\n",
    "    print(\"→ Différence significative entre les régimes (p < 0.05).\")\n",
    "else:\n",
    "    print(\"→ Aucune différence significative détectée entre les régimes.\")"
   ]
  },
  {
   "cell_type": "markdown",
   "id": "238be204",
   "metadata": {},
   "source": [
    "4. 📈 Analyse du taux de croissance"
   ]
  },
  {
   "cell_type": "code",
   "execution_count": 9,
   "id": "1712311d",
   "metadata": {},
   "outputs": [
    {
     "data": {
      "application/vnd.microsoft.datawrangler.viewer.v0+json": {
       "columns": [
        {
         "name": "Chick",
         "rawType": "int64",
         "type": "integer"
        },
        {
         "name": "Diet",
         "rawType": "float64",
         "type": "float"
        },
        {
         "name": "GrowthRate",
         "rawType": "float64",
         "type": "float"
        }
       ],
       "ref": "537f1dc0-d6a8-4835-8fe2-9c240b1050ab",
       "rows": [
        [
         "1",
         "1.0",
         "7.761904761904762"
        ],
        [
         "2",
         "1.0",
         "8.333333333333334"
        ],
        [
         "3",
         "1.0",
         "7.571428571428571"
        ],
        [
         "4",
         "1.0",
         "5.476190476190476"
        ],
        [
         "5",
         "1.0",
         "8.666666666666666"
        ]
       ],
       "shape": {
        "columns": 2,
        "rows": 5
       }
      },
      "text/html": [
       "<div>\n",
       "<style scoped>\n",
       "    .dataframe tbody tr th:only-of-type {\n",
       "        vertical-align: middle;\n",
       "    }\n",
       "\n",
       "    .dataframe tbody tr th {\n",
       "        vertical-align: top;\n",
       "    }\n",
       "\n",
       "    .dataframe thead th {\n",
       "        text-align: right;\n",
       "    }\n",
       "</style>\n",
       "<table border=\"1\" class=\"dataframe\">\n",
       "  <thead>\n",
       "    <tr style=\"text-align: right;\">\n",
       "      <th></th>\n",
       "      <th>Diet</th>\n",
       "      <th>GrowthRate</th>\n",
       "    </tr>\n",
       "    <tr>\n",
       "      <th>Chick</th>\n",
       "      <th></th>\n",
       "      <th></th>\n",
       "    </tr>\n",
       "  </thead>\n",
       "  <tbody>\n",
       "    <tr>\n",
       "      <th>1</th>\n",
       "      <td>1.0</td>\n",
       "      <td>7.761905</td>\n",
       "    </tr>\n",
       "    <tr>\n",
       "      <th>2</th>\n",
       "      <td>1.0</td>\n",
       "      <td>8.333333</td>\n",
       "    </tr>\n",
       "    <tr>\n",
       "      <th>3</th>\n",
       "      <td>1.0</td>\n",
       "      <td>7.571429</td>\n",
       "    </tr>\n",
       "    <tr>\n",
       "      <th>4</th>\n",
       "      <td>1.0</td>\n",
       "      <td>5.476190</td>\n",
       "    </tr>\n",
       "    <tr>\n",
       "      <th>5</th>\n",
       "      <td>1.0</td>\n",
       "      <td>8.666667</td>\n",
       "    </tr>\n",
       "  </tbody>\n",
       "</table>\n",
       "</div>"
      ],
      "text/plain": [
       "       Diet  GrowthRate\n",
       "Chick                  \n",
       "1       1.0    7.761905\n",
       "2       1.0    8.333333\n",
       "3       1.0    7.571429\n",
       "4       1.0    5.476190\n",
       "5       1.0    8.666667"
      ]
     },
     "execution_count": 9,
     "metadata": {},
     "output_type": "execute_result"
    }
   ],
   "source": [
    "# Calcul du taux de croissance moyen entre deux temps pour chaque poussin\n",
    "# (différence de poids final - initial / durée)\n",
    "initial_weights = df[df['Time'] == df['Time'].min()].set_index('Chick')\n",
    "final_weights = df[df['Time'] == df['Time'].max()].set_index('Chick')\n",
    "\n",
    "growth = pd.DataFrame({\n",
    "    'Diet': final_weights['Diet'],\n",
    "    'GrowthRate': (final_weights['weight'] - initial_weights['weight']) / (df['Time'].max() - df['Time'].min())\n",
    "})\n",
    "growth.head()"
   ]
  },
  {
   "cell_type": "code",
   "execution_count": 10,
   "id": "0661b754",
   "metadata": {},
   "outputs": [
    {
     "data": {
      "image/png": "[encoded data removed]",
      "text/plain": [
       "<Figure size 800x500 with 1 Axes>"
      ]
     },
     "metadata": {},
     "output_type": "display_data"
    }
   ],
   "source": [
    "# Visualisation des taux de croissance moyens par régime\n",
    "plt.figure(figsize=(8,5))\n",
    "sns.boxplot(data=growth, x='Diet', y='GrowthRate')\n",
    "plt.title(\"Taux de croissance moyen par régime\")\n",
    "plt.xlabel(\"Régime\")\n",
    "plt.ylabel(\"Croissance moyenne (g/jour)\")\n",
    "plt.grid(True)\n",
    "plt.show()"
   ]
  },
  {
   "cell_type": "markdown",
   "id": "8b5fa7a4",
   "metadata": {},
   "source": [
    "5. 🧾 Rapport synthétique"
   ]
  },
  {
   "cell_type": "markdown",
   "id": "d50ac6d6",
   "metadata": {},
   "source": [
    "RAPPORT RÉSUMÉ :\n",
    "\n",
    "- L’évolution du poids montre des différences visibles entre les régimes.\n",
    "- Le test ANOVA indique si ces différences sont statistiquement significatives.\n",
    "- Le taux de croissance moyen varie selon les régimes, ce qui peut guider des choix d’alimentation efficaces.\n",
    "\n",
    "Ce type d’analyse permet de recommander un régime optimal pour maximiser la croissance des poussins."
   ]
  }
 ],
 "metadata": {
  "kernelspec": {
   "display_name": "base",
   "language": "python",
   "name": "python3"
  },
  "language_info": {
   "codemirror_mode": {
    "name": "ipython",
    "version": 3
   },
   "file_extension": ".py",
   "mimetype": "text/x-python",
   "name": "python",
   "nbconvert_exporter": "python",
   "pygments_lexer": "ipython3",
   "version": "3.12.7"
  }
 },
 "nbformat": 4,
 "nbformat_minor": 5
}
