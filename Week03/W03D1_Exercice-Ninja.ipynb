{
 "cells": [
  {
   "cell_type": "markdown",
   "id": "b11a6216",
   "metadata": {},
   "source": [
    "# Exercices XP Ninja\n",
    "Dernière mise à jour : 20 novembre 2024\n",
    "\n",
    "👩‍🏫 👩🏿‍🏫 Ce que vous apprendrez\n",
    "Comment manipuler des matrices et trouver des points communs dans des ensembles de données à l'aide de NumPy.\n",
    "Opérations de tableau avancées telles que le remplacement de la valeur maximale et l'identification de la valeur commune.\n",
    "\n",
    "\n",
    "🛠️ Ce que vous allez créer\n",
    "Un ensemble d'exercices stimulants qui incluent le remplacement de la valeur maximale dans une matrice et la recherche de valeurs communes entre les tableaux."
   ]
  },
  {
   "cell_type": "markdown",
   "id": "a5699b84",
   "metadata": {},
   "source": [
    "## Exercice 1 : Remplacement de la valeur maximale dans une matrice\n",
    "Instructions\n",
    "Créez une matrice aléatoire 5x5 et remplacez la valeur maximale par 0.\n",
    "\n",
    "Résultat attendu :\n",
    "\n",
    "\n",
    "\n",
    "array([[0.23, 0.35, 0.01, 0.05, 0.11],\n",
    "       [0.91, 0.28, 0.66, 0.13, 0.14],\n",
    "       [0.94, 0.40, 0.76, 0.65, 0.46],\n",
    "       [0.12, 0.15, 0.95, 0.57, 0.60],\n",
    "       [0.17, 0.97, 0.87, 0.45, 0.  ]])"
   ]
  },
  {
   "cell_type": "code",
   "execution_count": 1,
   "id": "43215e92",
   "metadata": {},
   "outputs": [],
   "source": [
    "import numpy as np  # Import de NumPy"
   ]
  },
  {
   "cell_type": "code",
   "execution_count": 2,
   "id": "111ee302",
   "metadata": {},
   "outputs": [],
   "source": [
    "# Étape 1 : Créer une matrice 5x5 avec des valeurs aléatoires entre 0 et 1\n",
    "matrice = np.random.rand(5, 5)"
   ]
  },
  {
   "cell_type": "code",
   "execution_count": 3,
   "id": "14a229a7",
   "metadata": {},
   "outputs": [],
   "source": [
    "# Étape 2 : Trouver la valeur maximale dans la matrice\n",
    "valeur_max = np.max(matrice)"
   ]
  },
  {
   "cell_type": "code",
   "execution_count": 5,
   "id": "419d3962",
   "metadata": {},
   "outputs": [],
   "source": [
    "# Étape 3 : Trouver l’indice (position) de la valeur maximale\n",
    "indice_max = np.unravel_index(np.argmax(matrice), matrice.shape)"
   ]
  },
  {
   "cell_type": "code",
   "execution_count": 6,
   "id": "8c9e631d",
   "metadata": {},
   "outputs": [],
   "source": [
    "# Étape 4 : Remplacer la valeur maximale par 0\n",
    "matrice[indice_max] = 0"
   ]
  },
  {
   "cell_type": "code",
   "execution_count": 7,
   "id": "eb690a39",
   "metadata": {},
   "outputs": [
    {
     "name": "stdout",
     "output_type": "stream",
     "text": [
      "[[0.22 0.   0.57 0.44 0.23]\n",
      " [0.84 0.12 0.39 0.03 0.41]\n",
      " [0.42 0.35 0.89 0.74 0.19]\n",
      " [0.11 0.8  0.21 0.18 0.67]\n",
      " [0.84 0.78 0.34 0.38 0.38]]\n"
     ]
    }
   ],
   "source": [
    "# Étape 5 : Afficher la matrice modifiée\n",
    "print(np.round(matrice, 2))"
   ]
  },
  {
   "cell_type": "markdown",
   "id": "9cc24b6e",
   "metadata": {},
   "source": [
    "## Exercice 2 : Recherche de valeurs communes dans des tableaux\n",
    "Instructions\n",
    "Trouvez les valeurs communes entre deux tableaux aléatoires de taille 5.\n",
    "\n",
    "Résultat attendu :\n",
    "\n",
    "\n",
    "\n",
    "array([0.35, 0.66, 0.76])\n"
   ]
  },
  {
   "cell_type": "code",
   "execution_count": 27,
   "id": "81171c44",
   "metadata": {},
   "outputs": [],
   "source": [
    "import numpy as np  # Import de NumPy"
   ]
  },
  {
   "cell_type": "code",
   "execution_count": 28,
   "id": "bcdc03b1",
   "metadata": {},
   "outputs": [],
   "source": [
    "# Étape 1 : Créer deux tableaux aléatoires de taille 5 avec valeurs arrondies\n",
    "a = np.round(np.random.rand(5), 2)\n",
    "b = np.round(np.random.rand(5), 2)"
   ]
  },
  {
   "cell_type": "code",
   "execution_count": 29,
   "id": "f974fce0",
   "metadata": {},
   "outputs": [],
   "source": [
    "# Étape 2 : Trouver les valeurs communes avec np.intersect1d\n",
    "valeurs_communes = np.intersect1d(a, b)"
   ]
  },
  {
   "cell_type": "code",
   "execution_count": 30,
   "id": "f6474e2b",
   "metadata": {},
   "outputs": [
    {
     "name": "stdout",
     "output_type": "stream",
     "text": [
      "Tableau A: [0.13 0.68 0.15 0.22 0.48]\n",
      "Tableau B: [0.81 0.13 0.12 0.57 0.27]\n",
      "Valeurs communes: [0.13]\n"
     ]
    }
   ],
   "source": [
    "# Étape 3 : Afficher les tableaux et leurs valeurs communes\n",
    "print(\"Tableau A:\", a)\n",
    "print(\"Tableau B:\", b)\n",
    "print(\"Valeurs communes:\", valeurs_communes)"
   ]
  },
  {
   "cell_type": "markdown",
   "id": "68f2bf8b",
   "metadata": {},
   "source": [
    "## Exercice 4 : Détermination du rang de la matrice\n",
    "Instructions\n",
    "Générez une matrice aléatoire 4x4 et trouvez le rang de la matrice.\n",
    "\n",
    "Résultat attendu :\n",
    "\n",
    "\n",
    "\n",
    "Rank: 4\n"
   ]
  },
  {
   "cell_type": "code",
   "execution_count": 31,
   "id": "f3f27e46",
   "metadata": {},
   "outputs": [],
   "source": [
    "import numpy as np  # Import de NumPy"
   ]
  },
  {
   "cell_type": "code",
   "execution_count": 32,
   "id": "66c1ae0c",
   "metadata": {},
   "outputs": [],
   "source": [
    "# Étape 1 : Générer une matrice 4x4 avec des valeurs aléatoires\n",
    "matrice = np.random.rand(4, 4)"
   ]
  },
  {
   "cell_type": "code",
   "execution_count": 33,
   "id": "26354d94",
   "metadata": {},
   "outputs": [],
   "source": [
    "# Étape 2 : Calculer le rang de la matrice\n",
    "rang = np.linalg.matrix_rank(matrice)"
   ]
  },
  {
   "cell_type": "code",
   "execution_count": 34,
   "id": "9e64c4de",
   "metadata": {},
   "outputs": [
    {
     "name": "stdout",
     "output_type": "stream",
     "text": [
      "Rank: 4\n"
     ]
    }
   ],
   "source": [
    "# Étape 3 : Afficher le rang\n",
    "print(\"Rank:\", rang)"
   ]
  },
  {
   "cell_type": "markdown",
   "id": "695b138b",
   "metadata": {},
   "source": [
    "## Exercice 5 : Création d'un tableau de bordures\n",
    "Instructions\n",
    "Créez un tableau 2D avec 1 sur la bordure et 0 à l'intérieur.\n",
    "\n",
    "Résultat attendu :\n",
    "\n",
    "\n",
    "\n",
    "array([[1, 1, 1, 1, 1],\n",
    "       [1, 0, 0, 0, 1],\n",
    "       [1, 0, 0, 0, 1],\n",
    "       [1, 0, 0, 0, 1],\n",
    "       [1, 1, 1, 1, 1]])"
   ]
  },
  {
   "cell_type": "code",
   "execution_count": 35,
   "id": "120ff3df",
   "metadata": {},
   "outputs": [],
   "source": [
    "import numpy as np  # Import de NumPy"
   ]
  },
  {
   "cell_type": "code",
   "execution_count": 36,
   "id": "64c460ec",
   "metadata": {},
   "outputs": [],
   "source": [
    "# Étape 1 : Créer un tableau 5x5 rempli de 1\n",
    "tableau = np.ones((5, 5), dtype=int)"
   ]
  },
  {
   "cell_type": "code",
   "execution_count": 37,
   "id": "a70cc969",
   "metadata": {},
   "outputs": [],
   "source": [
    "# Étape 2 : Remplir l'intérieur (éléments non bordure) avec des 0\n",
    "tableau[1:-1, 1:-1] = 0"
   ]
  },
  {
   "cell_type": "code",
   "execution_count": 38,
   "id": "20b9baa2",
   "metadata": {},
   "outputs": [
    {
     "name": "stdout",
     "output_type": "stream",
     "text": [
      "[[1 1 1 1 1]\n",
      " [1 0 0 0 1]\n",
      " [1 0 0 0 1]\n",
      " [1 0 0 0 1]\n",
      " [1 1 1 1 1]]\n"
     ]
    }
   ],
   "source": [
    "# Étape 3 : Afficher le tableau résultant\n",
    "print(tableau)"
   ]
  }
 ],
 "metadata": {
  "kernelspec": {
   "display_name": "base",
   "language": "python",
   "name": "python3"
  },
  "language_info": {
   "codemirror_mode": {
    "name": "ipython",
    "version": 3
   },
   "file_extension": ".py",
   "mimetype": "text/x-python",
   "name": "python",
   "nbconvert_exporter": "python",
   "pygments_lexer": "ipython3",
   "version": "3.12.7"
  }
 },
 "nbformat": 4,
 "nbformat_minor": 5
}
